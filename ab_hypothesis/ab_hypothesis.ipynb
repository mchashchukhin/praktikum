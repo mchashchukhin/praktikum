{
 "cells": [
  {
   "cell_type": "markdown",
   "metadata": {},
   "source": [
    "# Исследование поведения пользоватеелй мобильного приложения по продаже продуктов питания"
   ]
  },
  {
   "cell_type": "markdown",
   "metadata": {},
   "source": [
    "Вы работаете в стартапе, который продаёт продукты питания. Нужно разобраться, как ведут себя пользователи вашего мобильного приложения.\n",
    "\n",
    "Изучите воронку продаж. Узнайте, как пользователи доходят до покупки. Сколько пользователей доходит до покупки, а сколько — «застревает» на предыдущих шагах? На каких именно?\n",
    "\n",
    "После этого исследуйте результаты A/A/B-эксперимента. Дизайнеры захотели поменять шрифты во всём приложении, а менеджеры испугались, что пользователям будет непривычно. Договорились принять решение по результатам A/A/B-теста. Пользователей разбили на 3 группы: 2 контрольные со старыми шрифтами и одну экспериментальную — с новыми. Выясните, какой шрифт лучше. Для этого выполнить шаги:"
   ]
  },
  {
   "cell_type": "markdown",
   "metadata": {},
   "source": [
    "Шаг 1. Откройте файл с данными и изучите общую информацию\n",
    "\n",
    "Шаг 2. Подготовьте данные\n",
    "\n",
    "Шаг 3. Изучите и проверьте данные\n",
    "\n",
    "Шаг 4. Изучите воронку событий\n",
    "\n",
    "Шаг 5. Изучите результаты эксперимента"
   ]
  },
  {
   "cell_type": "markdown",
   "metadata": {},
   "source": [
    "## Откройте файл с данными и изучите общую информацию"
   ]
  },
  {
   "cell_type": "code",
   "execution_count": 1,
   "metadata": {},
   "outputs": [
    {
     "name": "stdout",
     "output_type": "stream",
     "text": [
      "Note: you may need to restart the kernel to use updated packages.\n"
     ]
    }
   ],
   "source": [
    "#импорт библиотек\n",
    "import pandas as pd\n",
    "import matplotlib.pyplot as plt\n",
    "import scipy.stats as stats\n",
    "import datetime as dt\n",
    "import numpy as np\n",
    "import math as mth\n",
    "import plotly.graph_objects as go\n",
    "import plotly.express as px\n",
    "%pip install -U kaleido -q\n",
    "import plotly.io as pio\n",
    "pio.renderers.default = \"png\"\n",
    "\n",
    "\n",
    "pd.set_option('chained_assignment', None)"
   ]
  },
  {
   "cell_type": "code",
   "execution_count": 2,
   "metadata": {},
   "outputs": [],
   "source": [
    "#прочитаем файл и запишем в переменную\n",
    "try:\n",
    "    data = pd.read_csv('/datasets/logs_exp.csv', sep='\\t')\n",
    "\n",
    "except:\n",
    "    display('File not found')"
   ]
  },
  {
   "cell_type": "code",
   "execution_count": 3,
   "metadata": {},
   "outputs": [
    {
     "data": {
      "text/html": [
       "<div>\n",
       "<style scoped>\n",
       "    .dataframe tbody tr th:only-of-type {\n",
       "        vertical-align: middle;\n",
       "    }\n",
       "\n",
       "    .dataframe tbody tr th {\n",
       "        vertical-align: top;\n",
       "    }\n",
       "\n",
       "    .dataframe thead th {\n",
       "        text-align: right;\n",
       "    }\n",
       "</style>\n",
       "<table border=\"1\" class=\"dataframe\">\n",
       "  <thead>\n",
       "    <tr style=\"text-align: right;\">\n",
       "      <th></th>\n",
       "      <th>EventName</th>\n",
       "      <th>DeviceIDHash</th>\n",
       "      <th>EventTimestamp</th>\n",
       "      <th>ExpId</th>\n",
       "    </tr>\n",
       "  </thead>\n",
       "  <tbody>\n",
       "    <tr>\n",
       "      <th>0</th>\n",
       "      <td>MainScreenAppear</td>\n",
       "      <td>4575588528974610257</td>\n",
       "      <td>1564029816</td>\n",
       "      <td>246</td>\n",
       "    </tr>\n",
       "    <tr>\n",
       "      <th>1</th>\n",
       "      <td>MainScreenAppear</td>\n",
       "      <td>7416695313311560658</td>\n",
       "      <td>1564053102</td>\n",
       "      <td>246</td>\n",
       "    </tr>\n",
       "    <tr>\n",
       "      <th>2</th>\n",
       "      <td>PaymentScreenSuccessful</td>\n",
       "      <td>3518123091307005509</td>\n",
       "      <td>1564054127</td>\n",
       "      <td>248</td>\n",
       "    </tr>\n",
       "    <tr>\n",
       "      <th>3</th>\n",
       "      <td>CartScreenAppear</td>\n",
       "      <td>3518123091307005509</td>\n",
       "      <td>1564054127</td>\n",
       "      <td>248</td>\n",
       "    </tr>\n",
       "    <tr>\n",
       "      <th>4</th>\n",
       "      <td>PaymentScreenSuccessful</td>\n",
       "      <td>6217807653094995999</td>\n",
       "      <td>1564055322</td>\n",
       "      <td>248</td>\n",
       "    </tr>\n",
       "  </tbody>\n",
       "</table>\n",
       "</div>"
      ],
      "text/plain": [
       "                 EventName         DeviceIDHash  EventTimestamp  ExpId\n",
       "0         MainScreenAppear  4575588528974610257      1564029816    246\n",
       "1         MainScreenAppear  7416695313311560658      1564053102    246\n",
       "2  PaymentScreenSuccessful  3518123091307005509      1564054127    248\n",
       "3         CartScreenAppear  3518123091307005509      1564054127    248\n",
       "4  PaymentScreenSuccessful  6217807653094995999      1564055322    248"
      ]
     },
     "execution_count": 3,
     "metadata": {},
     "output_type": "execute_result"
    }
   ],
   "source": [
    "data.head()"
   ]
  },
  {
   "cell_type": "markdown",
   "metadata": {},
   "source": [
    "**Описание данных**\n",
    "\n",
    "Каждая запись в логе — это действие пользователя, или событие.\n",
    "\n",
    "    EventName — название события;\n",
    "    DeviceIDHash — уникальный идентификатор пользователя;\n",
    "    EventTimestamp — время события;\n",
    "    ExpId — номер эксперимента: 246 и 247 — контрольные группы, а 248 — экспериментальная."
   ]
  },
  {
   "cell_type": "markdown",
   "metadata": {},
   "source": [
    "## Подготовка данных"
   ]
  },
  {
   "cell_type": "code",
   "execution_count": 4,
   "metadata": {},
   "outputs": [],
   "source": [
    "#переименуем колонки\n",
    "data.rename(columns =\n",
    "            {'EventName':'event_name',\n",
    "             'DeviceIDHash':'device_id',\n",
    "             'EventTimestamp':'event_ts',\n",
    "             'ExpId':'group'},\n",
    "            inplace = True)"
   ]
  },
  {
   "cell_type": "code",
   "execution_count": 5,
   "metadata": {},
   "outputs": [
    {
     "data": {
      "text/plain": [
       "event_name    0.0\n",
       "device_id     0.0\n",
       "event_ts      0.0\n",
       "group         0.0\n",
       "dtype: float64"
      ]
     },
     "execution_count": 5,
     "metadata": {},
     "output_type": "execute_result"
    }
   ],
   "source": [
    "#проверим на пропуски\n",
    "data.isna().mean()"
   ]
  },
  {
   "cell_type": "code",
   "execution_count": 6,
   "metadata": {},
   "outputs": [
    {
     "data": {
      "text/plain": [
       "413"
      ]
     },
     "execution_count": 6,
     "metadata": {},
     "output_type": "execute_result"
    }
   ],
   "source": [
    "#проверим на дубликаты\n",
    "data.duplicated().sum()"
   ]
  },
  {
   "cell_type": "code",
   "execution_count": 7,
   "metadata": {},
   "outputs": [],
   "source": [
    "#удаление дубликатов\n",
    "data = data.drop_duplicates()"
   ]
  },
  {
   "cell_type": "code",
   "execution_count": 8,
   "metadata": {},
   "outputs": [
    {
     "data": {
      "text/plain": [
       "event_name    object\n",
       "device_id      int64\n",
       "event_ts       int64\n",
       "group          int64\n",
       "dtype: object"
      ]
     },
     "execution_count": 8,
     "metadata": {},
     "output_type": "execute_result"
    }
   ],
   "source": [
    "#смотрим тип данных\n",
    "data.dtypes"
   ]
  },
  {
   "cell_type": "code",
   "execution_count": 9,
   "metadata": {},
   "outputs": [
    {
     "data": {
      "text/html": [
       "<div>\n",
       "<style scoped>\n",
       "    .dataframe tbody tr th:only-of-type {\n",
       "        vertical-align: middle;\n",
       "    }\n",
       "\n",
       "    .dataframe tbody tr th {\n",
       "        vertical-align: top;\n",
       "    }\n",
       "\n",
       "    .dataframe thead th {\n",
       "        text-align: right;\n",
       "    }\n",
       "</style>\n",
       "<table border=\"1\" class=\"dataframe\">\n",
       "  <thead>\n",
       "    <tr style=\"text-align: right;\">\n",
       "      <th></th>\n",
       "      <th>event_name</th>\n",
       "      <th>device_id</th>\n",
       "      <th>event_ts</th>\n",
       "      <th>group</th>\n",
       "      <th>event_dt</th>\n",
       "      <th>date</th>\n",
       "    </tr>\n",
       "  </thead>\n",
       "  <tbody>\n",
       "    <tr>\n",
       "      <th>0</th>\n",
       "      <td>MainScreenAppear</td>\n",
       "      <td>4575588528974610257</td>\n",
       "      <td>1564029816</td>\n",
       "      <td>246</td>\n",
       "      <td>2019-07-25 04:43:36</td>\n",
       "      <td>2019-07-25</td>\n",
       "    </tr>\n",
       "    <tr>\n",
       "      <th>1</th>\n",
       "      <td>MainScreenAppear</td>\n",
       "      <td>7416695313311560658</td>\n",
       "      <td>1564053102</td>\n",
       "      <td>246</td>\n",
       "      <td>2019-07-25 11:11:42</td>\n",
       "      <td>2019-07-25</td>\n",
       "    </tr>\n",
       "    <tr>\n",
       "      <th>2</th>\n",
       "      <td>PaymentScreenSuccessful</td>\n",
       "      <td>3518123091307005509</td>\n",
       "      <td>1564054127</td>\n",
       "      <td>248</td>\n",
       "      <td>2019-07-25 11:28:47</td>\n",
       "      <td>2019-07-25</td>\n",
       "    </tr>\n",
       "    <tr>\n",
       "      <th>3</th>\n",
       "      <td>CartScreenAppear</td>\n",
       "      <td>3518123091307005509</td>\n",
       "      <td>1564054127</td>\n",
       "      <td>248</td>\n",
       "      <td>2019-07-25 11:28:47</td>\n",
       "      <td>2019-07-25</td>\n",
       "    </tr>\n",
       "    <tr>\n",
       "      <th>4</th>\n",
       "      <td>PaymentScreenSuccessful</td>\n",
       "      <td>6217807653094995999</td>\n",
       "      <td>1564055322</td>\n",
       "      <td>248</td>\n",
       "      <td>2019-07-25 11:48:42</td>\n",
       "      <td>2019-07-25</td>\n",
       "    </tr>\n",
       "    <tr>\n",
       "      <th>...</th>\n",
       "      <td>...</td>\n",
       "      <td>...</td>\n",
       "      <td>...</td>\n",
       "      <td>...</td>\n",
       "      <td>...</td>\n",
       "      <td>...</td>\n",
       "    </tr>\n",
       "    <tr>\n",
       "      <th>244121</th>\n",
       "      <td>MainScreenAppear</td>\n",
       "      <td>4599628364049201812</td>\n",
       "      <td>1565212345</td>\n",
       "      <td>247</td>\n",
       "      <td>2019-08-07 21:12:25</td>\n",
       "      <td>2019-08-07</td>\n",
       "    </tr>\n",
       "    <tr>\n",
       "      <th>244122</th>\n",
       "      <td>MainScreenAppear</td>\n",
       "      <td>5849806612437486590</td>\n",
       "      <td>1565212439</td>\n",
       "      <td>246</td>\n",
       "      <td>2019-08-07 21:13:59</td>\n",
       "      <td>2019-08-07</td>\n",
       "    </tr>\n",
       "    <tr>\n",
       "      <th>244123</th>\n",
       "      <td>MainScreenAppear</td>\n",
       "      <td>5746969938801999050</td>\n",
       "      <td>1565212483</td>\n",
       "      <td>246</td>\n",
       "      <td>2019-08-07 21:14:43</td>\n",
       "      <td>2019-08-07</td>\n",
       "    </tr>\n",
       "    <tr>\n",
       "      <th>244124</th>\n",
       "      <td>MainScreenAppear</td>\n",
       "      <td>5746969938801999050</td>\n",
       "      <td>1565212498</td>\n",
       "      <td>246</td>\n",
       "      <td>2019-08-07 21:14:58</td>\n",
       "      <td>2019-08-07</td>\n",
       "    </tr>\n",
       "    <tr>\n",
       "      <th>244125</th>\n",
       "      <td>OffersScreenAppear</td>\n",
       "      <td>5746969938801999050</td>\n",
       "      <td>1565212517</td>\n",
       "      <td>246</td>\n",
       "      <td>2019-08-07 21:15:17</td>\n",
       "      <td>2019-08-07</td>\n",
       "    </tr>\n",
       "  </tbody>\n",
       "</table>\n",
       "<p>243713 rows × 6 columns</p>\n",
       "</div>"
      ],
      "text/plain": [
       "                     event_name            device_id    event_ts group  \\\n",
       "0              MainScreenAppear  4575588528974610257  1564029816   246   \n",
       "1              MainScreenAppear  7416695313311560658  1564053102   246   \n",
       "2       PaymentScreenSuccessful  3518123091307005509  1564054127   248   \n",
       "3              CartScreenAppear  3518123091307005509  1564054127   248   \n",
       "4       PaymentScreenSuccessful  6217807653094995999  1564055322   248   \n",
       "...                         ...                  ...         ...   ...   \n",
       "244121         MainScreenAppear  4599628364049201812  1565212345   247   \n",
       "244122         MainScreenAppear  5849806612437486590  1565212439   246   \n",
       "244123         MainScreenAppear  5746969938801999050  1565212483   246   \n",
       "244124         MainScreenAppear  5746969938801999050  1565212498   246   \n",
       "244125       OffersScreenAppear  5746969938801999050  1565212517   246   \n",
       "\n",
       "                  event_dt        date  \n",
       "0      2019-07-25 04:43:36  2019-07-25  \n",
       "1      2019-07-25 11:11:42  2019-07-25  \n",
       "2      2019-07-25 11:28:47  2019-07-25  \n",
       "3      2019-07-25 11:28:47  2019-07-25  \n",
       "4      2019-07-25 11:48:42  2019-07-25  \n",
       "...                    ...         ...  \n",
       "244121 2019-08-07 21:12:25  2019-08-07  \n",
       "244122 2019-08-07 21:13:59  2019-08-07  \n",
       "244123 2019-08-07 21:14:43  2019-08-07  \n",
       "244124 2019-08-07 21:14:58  2019-08-07  \n",
       "244125 2019-08-07 21:15:17  2019-08-07  \n",
       "\n",
       "[243713 rows x 6 columns]"
      ]
     },
     "execution_count": 9,
     "metadata": {},
     "output_type": "execute_result"
    }
   ],
   "source": [
    "#переведём данные в нужный тип\n",
    "data['event_dt'] = pd.to_datetime(data['event_ts'],unit='s')\n",
    "\n",
    "data['date'] = data['event_dt'].dt.date \n",
    "\n",
    "data['group'] = data['group'].astype(str)\n",
    "\n",
    "data"
   ]
  },
  {
   "cell_type": "markdown",
   "metadata": {},
   "source": [
    "## Изучим и проверим данные"
   ]
  },
  {
   "cell_type": "code",
   "execution_count": 10,
   "metadata": {},
   "outputs": [
    {
     "data": {
      "text/plain": [
       "243713"
      ]
     },
     "execution_count": 10,
     "metadata": {},
     "output_type": "execute_result"
    }
   ],
   "source": [
    "#всего событий в логе\n",
    "len(data['event_name'])"
   ]
  },
  {
   "cell_type": "code",
   "execution_count": 11,
   "metadata": {},
   "outputs": [
    {
     "data": {
      "text/plain": [
       "7551"
      ]
     },
     "execution_count": 11,
     "metadata": {},
     "output_type": "execute_result"
    }
   ],
   "source": [
    "#всего уникальных пользователей\n",
    "data['device_id'].nunique()"
   ]
  },
  {
   "cell_type": "code",
   "execution_count": 12,
   "metadata": {},
   "outputs": [
    {
     "data": {
      "text/plain": [
       "32.27559263673685"
      ]
     },
     "execution_count": 12,
     "metadata": {},
     "output_type": "execute_result"
    }
   ],
   "source": [
    "#число событий на пользователя в среднем\n",
    "data.groupby('device_id').agg({'event_name':'count'}).reset_index()['event_name'].mean()"
   ]
  },
  {
   "cell_type": "code",
   "execution_count": 13,
   "metadata": {},
   "outputs": [
    {
     "name": "stdout",
     "output_type": "stream",
     "text": [
      "Минимальная дата: 2019-07-25\n",
      "Максимальная дата: 2019-08-07\n"
     ]
    }
   ],
   "source": [
    "#минимальная и максимальная дата в логе\n",
    "print('Минимальная дата:', data['date'].min())\n",
    "\n",
    "print('Максимальная дата:', data['date'].max())"
   ]
  },
  {
   "cell_type": "code",
   "execution_count": 14,
   "metadata": {},
   "outputs": [
    {
     "data": {
      "image/png": "[encoded data removed]",
      "text/plain": [
       "<Figure size 432x288 with 1 Axes>"
      ]
     },
     "metadata": {
      "needs_background": "light"
     },
     "output_type": "display_data"
    }
   ],
   "source": [
    "#смотрим распределение данных\n",
    "data['event_dt'].hist(xrot=45)\n",
    "plt.title('Распределение данных по датам')\n",
    "plt.xlabel('Дата')\n",
    "plt.ylabel('Число записей');"
   ]
  },
  {
   "cell_type": "markdown",
   "metadata": {},
   "source": [
    "Эксперимент скорее всего шёл неделю с 1-го по 7-ое августа 2019 года, поэтому данные, которые не попадают в этот промежуток, могут исказить выводы. Их нужно отбросить:"
   ]
  },
  {
   "cell_type": "code",
   "execution_count": 15,
   "metadata": {},
   "outputs": [],
   "source": [
    "data = data.query('event_dt >= \"2019-08-01\"')"
   ]
  },
  {
   "cell_type": "code",
   "execution_count": 16,
   "metadata": {},
   "outputs": [
    {
     "data": {
      "image/png": "[encoded data removed]",
      "text/plain": [
       "<Figure size 432x288 with 1 Axes>"
      ]
     },
     "metadata": {
      "needs_background": "light"
     },
     "output_type": "display_data"
    }
   ],
   "source": [
    "data['event_dt'].hist(xrot=45);\n",
    "plt.title('Распределение данных по датам')\n",
    "plt.xlabel('Дата')\n",
    "plt.ylabel('Число записей');"
   ]
  },
  {
   "cell_type": "code",
   "execution_count": 17,
   "metadata": {},
   "outputs": [
    {
     "data": {
      "text/plain": [
       "(-0.0022513574361011646, -0.013267738790624484)"
      ]
     },
     "execution_count": 17,
     "metadata": {},
     "output_type": "execute_result"
    }
   ],
   "source": [
    "data['device_id'].nunique() / 7551 - 1, len(data) / 244126 -1"
   ]
  },
  {
   "cell_type": "markdown",
   "metadata": {},
   "source": [
    "По итогу отбросили около 0.2% пользователей и примерно 1.3% всех событий в логе."
   ]
  },
  {
   "cell_type": "code",
   "execution_count": 18,
   "metadata": {},
   "outputs": [
    {
     "data": {
      "text/html": [
       "<div>\n",
       "<style scoped>\n",
       "    .dataframe tbody tr th:only-of-type {\n",
       "        vertical-align: middle;\n",
       "    }\n",
       "\n",
       "    .dataframe tbody tr th {\n",
       "        vertical-align: top;\n",
       "    }\n",
       "\n",
       "    .dataframe thead th {\n",
       "        text-align: right;\n",
       "    }\n",
       "</style>\n",
       "<table border=\"1\" class=\"dataframe\">\n",
       "  <thead>\n",
       "    <tr style=\"text-align: right;\">\n",
       "      <th></th>\n",
       "      <th>group</th>\n",
       "      <th>device_id</th>\n",
       "    </tr>\n",
       "  </thead>\n",
       "  <tbody>\n",
       "    <tr>\n",
       "      <th>0</th>\n",
       "      <td>246</td>\n",
       "      <td>2484</td>\n",
       "    </tr>\n",
       "    <tr>\n",
       "      <th>1</th>\n",
       "      <td>247</td>\n",
       "      <td>2513</td>\n",
       "    </tr>\n",
       "    <tr>\n",
       "      <th>2</th>\n",
       "      <td>248</td>\n",
       "      <td>2537</td>\n",
       "    </tr>\n",
       "  </tbody>\n",
       "</table>\n",
       "</div>"
      ],
      "text/plain": [
       "  group  device_id\n",
       "0   246       2484\n",
       "1   247       2513\n",
       "2   248       2537"
      ]
     },
     "execution_count": 18,
     "metadata": {},
     "output_type": "execute_result"
    }
   ],
   "source": [
    "#число пользователей в группах\n",
    "data.groupby('group').agg({'device_id':'nunique'}).reset_index()"
   ]
  },
  {
   "cell_type": "code",
   "execution_count": 19,
   "metadata": {},
   "outputs": [
    {
     "data": {
      "text/plain": [
       "0"
      ]
     },
     "execution_count": 19,
     "metadata": {},
     "output_type": "execute_result"
    }
   ],
   "source": [
    "#смотрим, есть ли пересечения между группами\n",
    "data.query('group == 246 or group == 247')['device_id'].drop_duplicates().isin(data.query('group == 248')['device_id']).sum()"
   ]
  },
  {
   "cell_type": "code",
   "execution_count": 20,
   "metadata": {},
   "outputs": [
    {
     "data": {
      "text/plain": [
       "0"
      ]
     },
     "execution_count": 20,
     "metadata": {},
     "output_type": "execute_result"
    }
   ],
   "source": [
    "data.query('group == 246')['device_id'].drop_duplicates().isin(data.query('group == 247')['device_id']).sum()"
   ]
  },
  {
   "cell_type": "markdown",
   "metadata": {},
   "source": [
    "Пересечений нет."
   ]
  },
  {
   "cell_type": "markdown",
   "metadata": {},
   "source": [
    "## Изучение воронки событий"
   ]
  },
  {
   "cell_type": "code",
   "execution_count": 21,
   "metadata": {},
   "outputs": [
    {
     "data": {
      "text/plain": [
       "MainScreenAppear           0.487\n",
       "OffersScreenAppear         0.192\n",
       "CartScreenAppear           0.176\n",
       "PaymentScreenSuccessful    0.141\n",
       "Tutorial                   0.004\n",
       "Name: event_name, dtype: float64"
      ]
     },
     "execution_count": 21,
     "metadata": {},
     "output_type": "execute_result"
    }
   ],
   "source": [
    "#смотрим частотность событий по всему логу\n",
    "data['event_name'].value_counts(normalize=True).round(3)"
   ]
  },
  {
   "cell_type": "markdown",
   "metadata": {},
   "source": [
    "Основная часть событий, почти 50%, приходится на главную страницу приложения. Менее всего событий пришлось на обучение пользованию магазином. Похоже, пользователи его пропускают."
   ]
  },
  {
   "cell_type": "code",
   "execution_count": 22,
   "metadata": {},
   "outputs": [
    {
     "data": {
      "text/html": [
       "<div>\n",
       "<style scoped>\n",
       "    .dataframe tbody tr th:only-of-type {\n",
       "        vertical-align: middle;\n",
       "    }\n",
       "\n",
       "    .dataframe tbody tr th {\n",
       "        vertical-align: top;\n",
       "    }\n",
       "\n",
       "    .dataframe thead th {\n",
       "        text-align: right;\n",
       "    }\n",
       "</style>\n",
       "<table border=\"1\" class=\"dataframe\">\n",
       "  <thead>\n",
       "    <tr style=\"text-align: right;\">\n",
       "      <th></th>\n",
       "      <th>event_name</th>\n",
       "      <th>device_id</th>\n",
       "      <th>%ids</th>\n",
       "    </tr>\n",
       "  </thead>\n",
       "  <tbody>\n",
       "    <tr>\n",
       "      <th>1</th>\n",
       "      <td>MainScreenAppear</td>\n",
       "      <td>7419</td>\n",
       "      <td>98.47</td>\n",
       "    </tr>\n",
       "    <tr>\n",
       "      <th>2</th>\n",
       "      <td>OffersScreenAppear</td>\n",
       "      <td>4593</td>\n",
       "      <td>60.96</td>\n",
       "    </tr>\n",
       "    <tr>\n",
       "      <th>0</th>\n",
       "      <td>CartScreenAppear</td>\n",
       "      <td>3734</td>\n",
       "      <td>49.56</td>\n",
       "    </tr>\n",
       "    <tr>\n",
       "      <th>3</th>\n",
       "      <td>PaymentScreenSuccessful</td>\n",
       "      <td>3539</td>\n",
       "      <td>46.97</td>\n",
       "    </tr>\n",
       "    <tr>\n",
       "      <th>4</th>\n",
       "      <td>Tutorial</td>\n",
       "      <td>840</td>\n",
       "      <td>11.15</td>\n",
       "    </tr>\n",
       "  </tbody>\n",
       "</table>\n",
       "</div>"
      ],
      "text/plain": [
       "                event_name  device_id   %ids\n",
       "1         MainScreenAppear       7419  98.47\n",
       "2       OffersScreenAppear       4593  60.96\n",
       "0         CartScreenAppear       3734  49.56\n",
       "3  PaymentScreenSuccessful       3539  46.97\n",
       "4                 Tutorial        840  11.15"
      ]
     },
     "execution_count": 22,
     "metadata": {},
     "output_type": "execute_result"
    }
   ],
   "source": [
    "#считаем, сколько пользователей совершало каждое событие и долю от общего числа пользователей\n",
    "events_usrs = data.groupby('event_name').agg({'device_id':'nunique'}).reset_index().sort_values('device_id',ascending=False)\n",
    "\n",
    "events_usrs['%ids'] = (events_usrs['device_id'] / data['device_id'].nunique()*100).round(2)\n",
    "\n",
    "events_usrs"
   ]
  },
  {
   "cell_type": "markdown",
   "metadata": {},
   "source": [
    "Предположим, что события происходят в следующем порядке: MainScreenAppear → OffersScreenAppear → CartScreenAppear → PaymentScreenSuccessful. То есть, пользователь заходит на главный экран приложения, переходит на страницу товара, добавляет товар в корзину, переходит на экран корзины и оплачивает покупку. Обучение учитывать не будем, его в основном пропускают.  \t"
   ]
  },
  {
   "cell_type": "code",
   "execution_count": 23,
   "metadata": {},
   "outputs": [],
   "source": [
    "events_usrs = events_usrs.query('event_name != \"Tutorial\"')"
   ]
  },
  {
   "cell_type": "code",
   "execution_count": 24,
   "metadata": {},
   "outputs": [
    {
     "data": {
      "text/html": [
       "<div>\n",
       "<style scoped>\n",
       "    .dataframe tbody tr th:only-of-type {\n",
       "        vertical-align: middle;\n",
       "    }\n",
       "\n",
       "    .dataframe tbody tr th {\n",
       "        vertical-align: top;\n",
       "    }\n",
       "\n",
       "    .dataframe thead th {\n",
       "        text-align: right;\n",
       "    }\n",
       "</style>\n",
       "<table border=\"1\" class=\"dataframe\">\n",
       "  <thead>\n",
       "    <tr style=\"text-align: right;\">\n",
       "      <th></th>\n",
       "      <th>event_name</th>\n",
       "      <th>device_id</th>\n",
       "      <th>%ids</th>\n",
       "      <th>%step</th>\n",
       "    </tr>\n",
       "  </thead>\n",
       "  <tbody>\n",
       "    <tr>\n",
       "      <th>1</th>\n",
       "      <td>MainScreenAppear</td>\n",
       "      <td>7419</td>\n",
       "      <td>98.47</td>\n",
       "      <td>100.00</td>\n",
       "    </tr>\n",
       "    <tr>\n",
       "      <th>2</th>\n",
       "      <td>OffersScreenAppear</td>\n",
       "      <td>4593</td>\n",
       "      <td>60.96</td>\n",
       "      <td>61.91</td>\n",
       "    </tr>\n",
       "    <tr>\n",
       "      <th>0</th>\n",
       "      <td>CartScreenAppear</td>\n",
       "      <td>3734</td>\n",
       "      <td>49.56</td>\n",
       "      <td>81.30</td>\n",
       "    </tr>\n",
       "    <tr>\n",
       "      <th>3</th>\n",
       "      <td>PaymentScreenSuccessful</td>\n",
       "      <td>3539</td>\n",
       "      <td>46.97</td>\n",
       "      <td>94.78</td>\n",
       "    </tr>\n",
       "  </tbody>\n",
       "</table>\n",
       "</div>"
      ],
      "text/plain": [
       "                event_name  device_id   %ids   %step\n",
       "1         MainScreenAppear       7419  98.47  100.00\n",
       "2       OffersScreenAppear       4593  60.96   61.91\n",
       "0         CartScreenAppear       3734  49.56   81.30\n",
       "3  PaymentScreenSuccessful       3539  46.97   94.78"
      ]
     },
     "execution_count": 24,
     "metadata": {},
     "output_type": "execute_result"
    }
   ],
   "source": [
    "#считаем долю пользователей, проходящих каждый шаг воронки продаж\n",
    "events_usrs['%step'] = (events_usrs['device_id']*100 / events_usrs['device_id'].shift(1, fill_value = events_usrs['device_id'].iloc[0])).round(2)\n",
    "\n",
    "events_usrs"
   ]
  },
  {
   "cell_type": "markdown",
   "metadata": {},
   "source": [
    "Отметим, что от общего числа пользователей до первого платежа доходит около 47%."
   ]
  },
  {
   "cell_type": "code",
   "execution_count": 26,
   "metadata": {},
   "outputs": [
    {
     "data": {
      "image/png": "[encoded data removed]"
     },
     "metadata": {},
     "output_type": "display_data"
    }
   ],
   "source": [
    "#строим воронку событий\n",
    "fig = go.Figure(go.Funnel(\n",
    "    x = events_usrs['device_id'],\n",
    "    y = events_usrs['event_name'],\n",
    "    opacity = 0.7\n",
    "    ))\n",
    "\n",
    "fig.show()"
   ]
  },
  {
   "cell_type": "markdown",
   "metadata": {},
   "source": [
    "Видно, что большая часть пользователей теряется при переходе с главной страницы на страницу товара, остаётся около 61% всех пользователей. Зато от страницы товара до добавления товара в корзину и оплаты доходит 81% и 95% пользователей соответственно."
   ]
  },
  {
   "cell_type": "markdown",
   "metadata": {},
   "source": [
    "## Изучение результатов эксперимента"
   ]
  },
  {
   "cell_type": "code",
   "execution_count": 27,
   "metadata": {},
   "outputs": [
    {
     "data": {
      "text/html": [
       "<div>\n",
       "<style scoped>\n",
       "    .dataframe tbody tr th:only-of-type {\n",
       "        vertical-align: middle;\n",
       "    }\n",
       "\n",
       "    .dataframe tbody tr th {\n",
       "        vertical-align: top;\n",
       "    }\n",
       "\n",
       "    .dataframe thead th {\n",
       "        text-align: right;\n",
       "    }\n",
       "</style>\n",
       "<table border=\"1\" class=\"dataframe\">\n",
       "  <thead>\n",
       "    <tr style=\"text-align: right;\">\n",
       "      <th></th>\n",
       "      <th>group</th>\n",
       "      <th>device_id</th>\n",
       "    </tr>\n",
       "  </thead>\n",
       "  <tbody>\n",
       "    <tr>\n",
       "      <th>0</th>\n",
       "      <td>246</td>\n",
       "      <td>2484</td>\n",
       "    </tr>\n",
       "    <tr>\n",
       "      <th>1</th>\n",
       "      <td>247</td>\n",
       "      <td>2513</td>\n",
       "    </tr>\n",
       "    <tr>\n",
       "      <th>2</th>\n",
       "      <td>248</td>\n",
       "      <td>2537</td>\n",
       "    </tr>\n",
       "    <tr>\n",
       "      <th>3</th>\n",
       "      <td>249</td>\n",
       "      <td>4997</td>\n",
       "    </tr>\n",
       "  </tbody>\n",
       "</table>\n",
       "</div>"
      ],
      "text/plain": [
       "  group  device_id\n",
       "0   246       2484\n",
       "1   247       2513\n",
       "2   248       2537\n",
       "3   249       4997"
      ]
     },
     "execution_count": 27,
     "metadata": {},
     "output_type": "execute_result"
    }
   ],
   "source": [
    "#число пользователей в группах\n",
    "groups = data.groupby('group').agg({'device_id':'nunique'}).reset_index()\n",
    "\n",
    "#добавляем объединённую контрольную группу\n",
    "groups = groups.append({'group':'249','device_id':2484+2513}, ignore_index=True)\n",
    "\n",
    "groups"
   ]
  },
  {
   "cell_type": "code",
   "execution_count": 28,
   "metadata": {},
   "outputs": [
    {
     "data": {
      "text/html": [
       "<div>\n",
       "<style scoped>\n",
       "    .dataframe tbody tr th:only-of-type {\n",
       "        vertical-align: middle;\n",
       "    }\n",
       "\n",
       "    .dataframe tbody tr th {\n",
       "        vertical-align: top;\n",
       "    }\n",
       "\n",
       "    .dataframe thead th {\n",
       "        text-align: right;\n",
       "    }\n",
       "</style>\n",
       "<table border=\"1\" class=\"dataframe\">\n",
       "  <thead>\n",
       "    <tr style=\"text-align: right;\">\n",
       "      <th>group</th>\n",
       "      <th>event_name</th>\n",
       "      <th>246</th>\n",
       "      <th>247</th>\n",
       "      <th>248</th>\n",
       "      <th>249</th>\n",
       "    </tr>\n",
       "  </thead>\n",
       "  <tbody>\n",
       "    <tr>\n",
       "      <th>0</th>\n",
       "      <td>CartScreenAppear</td>\n",
       "      <td>1266</td>\n",
       "      <td>1238</td>\n",
       "      <td>1230</td>\n",
       "      <td>2504</td>\n",
       "    </tr>\n",
       "    <tr>\n",
       "      <th>1</th>\n",
       "      <td>MainScreenAppear</td>\n",
       "      <td>2450</td>\n",
       "      <td>2476</td>\n",
       "      <td>2493</td>\n",
       "      <td>4926</td>\n",
       "    </tr>\n",
       "    <tr>\n",
       "      <th>2</th>\n",
       "      <td>OffersScreenAppear</td>\n",
       "      <td>1542</td>\n",
       "      <td>1520</td>\n",
       "      <td>1531</td>\n",
       "      <td>3062</td>\n",
       "    </tr>\n",
       "    <tr>\n",
       "      <th>3</th>\n",
       "      <td>PaymentScreenSuccessful</td>\n",
       "      <td>1200</td>\n",
       "      <td>1158</td>\n",
       "      <td>1181</td>\n",
       "      <td>2358</td>\n",
       "    </tr>\n",
       "  </tbody>\n",
       "</table>\n",
       "</div>"
      ],
      "text/plain": [
       "group               event_name   246   247   248   249\n",
       "0             CartScreenAppear  1266  1238  1230  2504\n",
       "1             MainScreenAppear  2450  2476  2493  4926\n",
       "2           OffersScreenAppear  1542  1520  1531  3062\n",
       "3      PaymentScreenSuccessful  1200  1158  1181  2358"
      ]
     },
     "execution_count": 28,
     "metadata": {},
     "output_type": "execute_result"
    }
   ],
   "source": [
    "#считаем пользователей с разбивкой по событиями и группам\n",
    "events_grps = data.pivot_table(index='event_name', values='device_id', columns='group', aggfunc='nunique').reset_index()\n",
    "\n",
    "events_grps = events_grps.query('event_name != \"Tutorial\"')\n",
    "\n",
    "#добавляем объединённую контрольную группу\n",
    "events_grps['249'] = events_grps['246'] + events_grps['247']\n",
    "\n",
    "events_grps"
   ]
  },
  {
   "cell_type": "markdown",
   "metadata": {},
   "source": [
    "Самое популярное событие - вход на главный экран"
   ]
  },
  {
   "cell_type": "code",
   "execution_count": 29,
   "metadata": {},
   "outputs": [],
   "source": [
    "#определим функцию для проведения теста на равенство долей\n",
    "def z_test(group1, group2, event, alpha=0.05):\n",
    "    #доли пользователей в группах при событии event\n",
    "    successes1 = events_grps[events_grps['event_name']==event][group1].iloc[0]\n",
    "    successes2 = events_grps[events_grps['event_name']==event][group2].iloc[0]\n",
    "    \n",
    "    #общее количество наблюдений в группах\n",
    "    trials1 = groups[groups['group']== group1]['device_id'].iloc[0]\n",
    "    trials2 = groups[groups['group']== group2]['device_id'].iloc[0]\n",
    "    \n",
    "    #пропорция успехов в первой группе\n",
    "    p1 = successes1/trials1\n",
    "\n",
    "    #пропорция успехов во второй группе\n",
    "    p2 = successes2/trials2\n",
    "\n",
    "    #пропорция успехов в комбинированном датасете\n",
    "    p_combined = (successes1 + successes2) / (trials1 + trials2)\n",
    "\n",
    "    #разница пропорций в датасетах\n",
    "    difference = p1 - p2\n",
    "    \n",
    "    #считаем статистику в ст.отклонениях стандартного нормального распределения   \n",
    "    z_value = difference / mth.sqrt(p_combined * (1 - p_combined) * (1/trials1 + 1/trials2))\n",
    "\n",
    "    #задаем стандартное нормальное распределение (среднее 0, ст.отклонение 1)\n",
    "    distr = stats.norm(0, 1) \n",
    "\n",
    "    #значение p для двухсторонней гипотезы\n",
    "    p_value = (1 - distr.cdf(abs(z_value))) * 2\n",
    "\n",
    "    print('p-value: ', p_value)\n",
    "\n",
    "    if (p_value < alpha):\n",
    "        print(\"Отвергаем нулевую гипотезу: между долями есть значимая разница для события\", event, 'для групп', group1, 'и', group2)\n",
    "    else:\n",
    "        print(\"Не получилось отвергнуть нулевую гипотезу для события\", event, 'для групп', group1, 'и', group2)  "
   ]
  },
  {
   "cell_type": "markdown",
   "metadata": {},
   "source": [
    "Проверим, есть ли различия между долями пользователей в событии MainScreenAppear в контрольных группах. Формулируем гипотезы:\n",
    "\n",
    "H_0: Между долями пользователей групп **нет** статистических различий.\n",
    "\n",
    "H_a: Между долями пользователей групп **есть** статистические различия.\n",
    "\n",
    "Уровень значимости = 0.05"
   ]
  },
  {
   "cell_type": "code",
   "execution_count": 30,
   "metadata": {},
   "outputs": [
    {
     "name": "stdout",
     "output_type": "stream",
     "text": [
      "p-value:  0.7570597232046099\n",
      "Не получилось отвергнуть нулевую гипотезу для события MainScreenAppear для групп 246 и 247\n"
     ]
    }
   ],
   "source": [
    "z_test('246', '247', 'MainScreenAppear', alpha=0.05)"
   ]
  },
  {
   "cell_type": "markdown",
   "metadata": {},
   "source": [
    "Похоже, что между долями события MainScreenAppear в контрольных группах нет статистической разницы. Проверим для остальных событий:"
   ]
  },
  {
   "cell_type": "code",
   "execution_count": 31,
   "metadata": {},
   "outputs": [
    {
     "name": "stdout",
     "output_type": "stream",
     "text": [
      "p-value:  0.22883372237997213\n",
      "Не получилось отвергнуть нулевую гипотезу для события CartScreenAppear для групп 246 и 247\n",
      "p-value:  0.7570597232046099\n",
      "Не получилось отвергнуть нулевую гипотезу для события MainScreenAppear для групп 246 и 247\n",
      "p-value:  0.2480954578522181\n",
      "Не получилось отвергнуть нулевую гипотезу для события OffersScreenAppear для групп 246 и 247\n",
      "p-value:  0.11456679313141849\n",
      "Не получилось отвергнуть нулевую гипотезу для события PaymentScreenSuccessful для групп 246 и 247\n"
     ]
    }
   ],
   "source": [
    "for i in events_grps['event_name'].unique():\n",
    "    z_test('246', '247', i, alpha=0.05)"
   ]
  },
  {
   "cell_type": "markdown",
   "metadata": {},
   "source": [
    "Похоже, что контрольные группы составлены верно, между их долями нет статистических различий."
   ]
  },
  {
   "cell_type": "code",
   "execution_count": 32,
   "metadata": {},
   "outputs": [
    {
     "name": "stdout",
     "output_type": "stream",
     "text": [
      "p-value:  0.07842923237520116\n",
      "Не получилось отвергнуть нулевую гипотезу для события CartScreenAppear для групп 246 и 248\n",
      "p-value:  0.2949721933554552\n",
      "Не получилось отвергнуть нулевую гипотезу для события MainScreenAppear для групп 246 и 248\n",
      "p-value:  0.20836205402738917\n",
      "Не получилось отвергнуть нулевую гипотезу для события OffersScreenAppear для групп 246 и 248\n",
      "p-value:  0.2122553275697796\n",
      "Не получилось отвергнуть нулевую гипотезу для события PaymentScreenSuccessful для групп 246 и 248\n"
     ]
    }
   ],
   "source": [
    "#проверяем стат. разницу между контрольной группой и группой с изменённым шрифтом\n",
    "for i in events_grps['event_name'].unique():\n",
    "    z_test('246', '248', i, alpha=0.05)"
   ]
  },
  {
   "cell_type": "markdown",
   "metadata": {},
   "source": [
    "Между контрольной группой 246 и группой с изменённым шрифтом нет стат. различий."
   ]
  },
  {
   "cell_type": "code",
   "execution_count": 33,
   "metadata": {},
   "outputs": [
    {
     "name": "stdout",
     "output_type": "stream",
     "text": [
      "p-value:  0.5786197879539783\n",
      "Не получилось отвергнуть нулевую гипотезу для события CartScreenAppear для групп 247 и 248\n",
      "p-value:  0.4587053616621515\n",
      "Не получилось отвергнуть нулевую гипотезу для события MainScreenAppear для групп 247 и 248\n",
      "p-value:  0.9197817830592261\n",
      "Не получилось отвергнуть нулевую гипотезу для события OffersScreenAppear для групп 247 и 248\n",
      "p-value:  0.7373415053803964\n",
      "Не получилось отвергнуть нулевую гипотезу для события PaymentScreenSuccessful для групп 247 и 248\n"
     ]
    }
   ],
   "source": [
    "for i in events_grps['event_name'].unique():\n",
    "    z_test('247', '248', i, alpha=0.05)"
   ]
  },
  {
   "cell_type": "markdown",
   "metadata": {},
   "source": [
    "Между контрольной группой 247 и группой с изменённым шрифтом нет стат. различий."
   ]
  },
  {
   "cell_type": "code",
   "execution_count": 34,
   "metadata": {},
   "outputs": [
    {
     "name": "stdout",
     "output_type": "stream",
     "text": [
      "p-value:  0.18175875284404386\n",
      "Не получилось отвергнуть нулевую гипотезу для события CartScreenAppear для групп 248 и 249\n",
      "p-value:  0.29424526837179577\n",
      "Не получилось отвергнуть нулевую гипотезу для события MainScreenAppear для групп 248 и 249\n",
      "p-value:  0.43425549655188256\n",
      "Не получилось отвергнуть нулевую гипотезу для события OffersScreenAppear для групп 248 и 249\n",
      "p-value:  0.6004294282308704\n",
      "Не получилось отвергнуть нулевую гипотезу для события PaymentScreenSuccessful для групп 248 и 249\n"
     ]
    }
   ],
   "source": [
    "for i in events_grps['event_name'].unique():\n",
    "    z_test('248', '249', i, alpha=0.05)"
   ]
  },
  {
   "cell_type": "markdown",
   "metadata": {},
   "source": [
    "Между объединёнными контрольными группами и экспериментальной группой стат. различий нет. Похоже, что изменение шрифта не привело к увеличению конверсии в покупки."
   ]
  },
  {
   "cell_type": "markdown",
   "metadata": {},
   "source": [
    "Если использовать уровень значимости 0.1 (см.ниже), получатся не равны группы 246 и 248 в событии на странице корзины. Конверсия в 246 группе будет 1230/2484 = 51%, в 248 группе 1230/2537 = 49%. В итоге -2% разницы. Учитывая, что в остальных проверках различий нет и то что группы численно не равны, скорее всего это на уровне погрешности."
   ]
  },
  {
   "cell_type": "code",
   "execution_count": 35,
   "metadata": {},
   "outputs": [
    {
     "name": "stdout",
     "output_type": "stream",
     "text": [
      "p-value:  0.07842923237520116\n",
      "Отвергаем нулевую гипотезу: между долями есть значимая разница для события CartScreenAppear для групп 246 и 248\n",
      "p-value:  0.2949721933554552\n",
      "Не получилось отвергнуть нулевую гипотезу для события MainScreenAppear для групп 246 и 248\n",
      "p-value:  0.20836205402738917\n",
      "Не получилось отвергнуть нулевую гипотезу для события OffersScreenAppear для групп 246 и 248\n",
      "p-value:  0.2122553275697796\n",
      "Не получилось отвергнуть нулевую гипотезу для события PaymentScreenSuccessful для групп 246 и 248\n"
     ]
    }
   ],
   "source": [
    "for i in events_grps['event_name'].unique():\n",
    "    z_test('246', '248', i, alpha=0.1)"
   ]
  },
  {
   "cell_type": "markdown",
   "metadata": {},
   "source": [
    "Поскольку было проведено множество проверок, имеет смысл скорректировать уровень значимости. Применим поправку Бонферрони, т.е разделим уровень значимости на число гипотез:"
   ]
  },
  {
   "cell_type": "code",
   "execution_count": 36,
   "metadata": {},
   "outputs": [
    {
     "name": "stdout",
     "output_type": "stream",
     "text": [
      "p-value:  0.22883372237997213\n",
      "Не получилось отвергнуть нулевую гипотезу для события CartScreenAppear для групп 246 и 247\n",
      "p-value:  0.7570597232046099\n",
      "Не получилось отвергнуть нулевую гипотезу для события MainScreenAppear для групп 246 и 247\n",
      "p-value:  0.2480954578522181\n",
      "Не получилось отвергнуть нулевую гипотезу для события OffersScreenAppear для групп 246 и 247\n",
      "p-value:  0.11456679313141849\n",
      "Не получилось отвергнуть нулевую гипотезу для события PaymentScreenSuccessful для групп 246 и 247\n"
     ]
    }
   ],
   "source": [
    "for i in events_grps['event_name'].unique():\n",
    "    z_test('246', '247', i, alpha=0.05/16)"
   ]
  },
  {
   "cell_type": "code",
   "execution_count": 37,
   "metadata": {},
   "outputs": [
    {
     "name": "stdout",
     "output_type": "stream",
     "text": [
      "p-value:  0.07842923237520116\n",
      "Не получилось отвергнуть нулевую гипотезу для события CartScreenAppear для групп 246 и 248\n",
      "p-value:  0.2949721933554552\n",
      "Не получилось отвергнуть нулевую гипотезу для события MainScreenAppear для групп 246 и 248\n",
      "p-value:  0.20836205402738917\n",
      "Не получилось отвергнуть нулевую гипотезу для события OffersScreenAppear для групп 246 и 248\n",
      "p-value:  0.2122553275697796\n",
      "Не получилось отвергнуть нулевую гипотезу для события PaymentScreenSuccessful для групп 246 и 248\n"
     ]
    }
   ],
   "source": [
    "for i in events_grps['event_name'].unique():\n",
    "    z_test('246', '248', i, alpha=0.05/16)"
   ]
  },
  {
   "cell_type": "code",
   "execution_count": 38,
   "metadata": {},
   "outputs": [
    {
     "name": "stdout",
     "output_type": "stream",
     "text": [
      "p-value:  0.5786197879539783\n",
      "Не получилось отвергнуть нулевую гипотезу для события CartScreenAppear для групп 247 и 248\n",
      "p-value:  0.4587053616621515\n",
      "Не получилось отвергнуть нулевую гипотезу для события MainScreenAppear для групп 247 и 248\n",
      "p-value:  0.9197817830592261\n",
      "Не получилось отвергнуть нулевую гипотезу для события OffersScreenAppear для групп 247 и 248\n",
      "p-value:  0.7373415053803964\n",
      "Не получилось отвергнуть нулевую гипотезу для события PaymentScreenSuccessful для групп 247 и 248\n"
     ]
    }
   ],
   "source": [
    "for i in events_grps['event_name'].unique():\n",
    "    z_test('247', '248', i, alpha=0.05/16)"
   ]
  },
  {
   "cell_type": "code",
   "execution_count": 39,
   "metadata": {},
   "outputs": [
    {
     "name": "stdout",
     "output_type": "stream",
     "text": [
      "p-value:  0.18175875284404386\n",
      "Не получилось отвергнуть нулевую гипотезу для события CartScreenAppear для групп 249 и 248\n",
      "p-value:  0.29424526837179577\n",
      "Не получилось отвергнуть нулевую гипотезу для события MainScreenAppear для групп 249 и 248\n",
      "p-value:  0.43425549655188256\n",
      "Не получилось отвергнуть нулевую гипотезу для события OffersScreenAppear для групп 249 и 248\n",
      "p-value:  0.6004294282308704\n",
      "Не получилось отвергнуть нулевую гипотезу для события PaymentScreenSuccessful для групп 249 и 248\n"
     ]
    }
   ],
   "source": [
    "for i in events_grps['event_name'].unique():\n",
    "    z_test('249', '248', i, alpha=0.05/16)"
   ]
  },
  {
   "cell_type": "markdown",
   "metadata": {},
   "source": [
    "Результат не изменился, изменение шрифта всё также не оказало эффекта, разницы между контрольными и экспериментальной группой нет."
   ]
  },
  {
   "cell_type": "markdown",
   "metadata": {},
   "source": [
    "## Общий вывод"
   ]
  },
  {
   "cell_type": "markdown",
   "metadata": {},
   "source": [
    "Был проанализирован лог приложения по продаже продуктов питания с данными о событиях.\n",
    "\n",
    "Перед анализом выполнена предобработка данных, переименованы названия колонок, данные соответствующих столбцов переведены в нужный формат. Проверен тип данных в столбцах, проверено наличие пропусков и дубликатов. Устранены аномальные данные, выхоящие за рамки теста.\n",
    "\n",
    "В ходе анализа событий выявлены следующие особенности:"
   ]
  },
  {
   "cell_type": "markdown",
   "metadata": {},
   "source": [
    "* Основная часть событий, почти 50%, приходится на главную страницу приложения. Менее всего событий пришлось на обучение пользованию магазином"
   ]
  },
  {
   "cell_type": "markdown",
   "metadata": {},
   "source": [
    "* События, предположительно, происходят в следующем порядке: MainScreenAppear → OffersScreenAppear → CartScreenAppear → PaymentScreenSuccessful. "
   ]
  },
  {
   "cell_type": "markdown",
   "metadata": {},
   "source": [
    "* От общего числа пользователей до первого платежа доходит около 47%"
   ]
  },
  {
   "cell_type": "markdown",
   "metadata": {},
   "source": [
    "* Большая часть пользователей теряется при переходе с главной страницы на страницу товара, остаётся около 61% всех пользователей. Зато от страницы товара до добавления товара в корзину и оплаты доходит 81% и 95% пользователей соответственно"
   ]
  },
  {
   "cell_type": "markdown",
   "metadata": {},
   "source": [
    "Были также проанализированы результаты A/A/B теста с примением критерия о равенстве долей, с уровнем значимости 0.05, а также скорректированным по числу проверок гипотез (0.05 / 16). Во всех случаях статистических отличий экспериментальной группы от контрольных не выявлено. Изменение шрифта в приложении, по-видимому, не повлияло на конверсию в покупки."
   ]
  },
  {
   "cell_type": "code",
   "execution_count": null,
   "metadata": {},
   "outputs": [],
   "source": []
  }
 ],
 "metadata": {
  "ExecuteTimeLog": [
   {
    "duration": 1302,
    "start_time": "2022-09-20T09:48:49.985Z"
   },
   {
    "duration": 862,
    "start_time": "2022-09-20T09:48:52.391Z"
   },
   {
    "duration": 12,
    "start_time": "2022-09-20T09:49:09.516Z"
   },
   {
    "duration": 121,
    "start_time": "2022-09-20T09:49:29.464Z"
   },
   {
    "duration": 176,
    "start_time": "2022-09-20T09:50:30.332Z"
   },
   {
    "duration": 10,
    "start_time": "2022-09-20T09:50:32.537Z"
   },
   {
    "duration": 83,
    "start_time": "2022-09-20T09:52:41.064Z"
   },
   {
    "duration": 94,
    "start_time": "2022-09-20T09:54:02.942Z"
   },
   {
    "duration": 412,
    "start_time": "2022-09-20T09:54:12.955Z"
   },
   {
    "duration": 15,
    "start_time": "2022-09-20T09:57:39.320Z"
   },
   {
    "duration": 1572,
    "start_time": "2022-09-20T09:58:13.070Z"
   },
   {
    "duration": 4,
    "start_time": "2022-09-20T09:59:08.921Z"
   },
   {
    "duration": 12,
    "start_time": "2022-09-20T09:59:11.752Z"
   },
   {
    "duration": 16,
    "start_time": "2022-09-20T09:59:20.142Z"
   },
   {
    "duration": 15,
    "start_time": "2022-09-20T10:03:29.170Z"
   },
   {
    "duration": 14,
    "start_time": "2022-09-20T10:03:48.188Z"
   },
   {
    "duration": 5,
    "start_time": "2022-09-20T10:04:00.980Z"
   },
   {
    "duration": 79,
    "start_time": "2022-09-20T10:05:51.723Z"
   },
   {
    "duration": 106,
    "start_time": "2022-09-20T10:07:49.351Z"
   },
   {
    "duration": 12,
    "start_time": "2022-09-20T10:19:38.849Z"
   },
   {
    "duration": 33,
    "start_time": "2022-09-20T10:19:59.322Z"
   },
   {
    "duration": 33,
    "start_time": "2022-09-20T10:20:17.899Z"
   },
   {
    "duration": 22,
    "start_time": "2022-09-20T10:20:47.867Z"
   },
   {
    "duration": 21,
    "start_time": "2022-09-20T10:22:14.126Z"
   },
   {
    "duration": 11,
    "start_time": "2022-09-20T10:23:33.830Z"
   },
   {
    "duration": 24,
    "start_time": "2022-09-20T10:26:34.340Z"
   },
   {
    "duration": 25,
    "start_time": "2022-09-20T10:26:54.111Z"
   },
   {
    "duration": 23,
    "start_time": "2022-09-20T10:28:01.731Z"
   },
   {
    "duration": 23,
    "start_time": "2022-09-20T10:28:16.948Z"
   },
   {
    "duration": 27,
    "start_time": "2022-09-20T10:31:47.635Z"
   },
   {
    "duration": 160,
    "start_time": "2022-09-20T10:32:37.516Z"
   },
   {
    "duration": 488,
    "start_time": "2022-09-20T10:35:07.876Z"
   },
   {
    "duration": 194,
    "start_time": "2022-09-20T10:35:19.261Z"
   },
   {
    "duration": 18,
    "start_time": "2022-09-20T10:38:58.126Z"
   },
   {
    "duration": 215,
    "start_time": "2022-09-20T10:39:55.349Z"
   },
   {
    "duration": 121,
    "start_time": "2022-09-20T10:40:30.119Z"
   },
   {
    "duration": 127,
    "start_time": "2022-09-20T10:44:41.557Z"
   },
   {
    "duration": 29,
    "start_time": "2022-09-20T10:44:51.240Z"
   },
   {
    "duration": 204,
    "start_time": "2022-09-20T10:45:04.536Z"
   },
   {
    "duration": 8,
    "start_time": "2022-09-20T10:46:33.219Z"
   },
   {
    "duration": 8,
    "start_time": "2022-09-20T10:46:54.468Z"
   },
   {
    "duration": 7,
    "start_time": "2022-09-20T10:47:55.057Z"
   },
   {
    "duration": 8,
    "start_time": "2022-09-20T10:48:08.452Z"
   },
   {
    "duration": 8,
    "start_time": "2022-09-20T10:48:14.319Z"
   },
   {
    "duration": 12,
    "start_time": "2022-09-20T10:49:20.116Z"
   },
   {
    "duration": 12,
    "start_time": "2022-09-20T10:50:03.025Z"
   },
   {
    "duration": 36,
    "start_time": "2022-09-20T10:51:38.656Z"
   },
   {
    "duration": 4,
    "start_time": "2022-09-20T11:16:07.512Z"
   },
   {
    "duration": 10,
    "start_time": "2022-09-20T11:16:39.923Z"
   },
   {
    "duration": 22,
    "start_time": "2022-09-20T11:16:47.825Z"
   },
   {
    "duration": 21,
    "start_time": "2022-09-20T11:17:14.524Z"
   },
   {
    "duration": 22,
    "start_time": "2022-09-20T11:17:20.120Z"
   },
   {
    "duration": 41,
    "start_time": "2022-09-20T11:19:47.089Z"
   },
   {
    "duration": 41,
    "start_time": "2022-09-20T11:19:56.672Z"
   },
   {
    "duration": 40,
    "start_time": "2022-09-20T11:20:08.613Z"
   },
   {
    "duration": 44,
    "start_time": "2022-09-20T11:20:14.808Z"
   },
   {
    "duration": 32,
    "start_time": "2022-09-20T11:20:27.910Z"
   },
   {
    "duration": 33,
    "start_time": "2022-09-20T11:20:40.556Z"
   },
   {
    "duration": 30,
    "start_time": "2022-09-20T11:21:15.394Z"
   },
   {
    "duration": 21,
    "start_time": "2022-09-20T11:27:01.608Z"
   },
   {
    "duration": 28,
    "start_time": "2022-09-20T11:27:32.707Z"
   },
   {
    "duration": 33,
    "start_time": "2022-09-20T11:28:09.458Z"
   },
   {
    "duration": 68,
    "start_time": "2022-09-20T11:32:02.458Z"
   },
   {
    "duration": 59,
    "start_time": "2022-09-20T11:55:24.712Z"
   },
   {
    "duration": 71,
    "start_time": "2022-09-20T11:56:55.569Z"
   },
   {
    "duration": 82,
    "start_time": "2022-09-20T11:57:11.859Z"
   },
   {
    "duration": 26,
    "start_time": "2022-09-20T12:23:04.485Z"
   },
   {
    "duration": 23,
    "start_time": "2022-09-20T12:23:16.399Z"
   },
   {
    "duration": 11,
    "start_time": "2022-09-20T12:41:39.143Z"
   },
   {
    "duration": 294,
    "start_time": "2022-09-20T12:42:28.280Z"
   },
   {
    "duration": 98,
    "start_time": "2022-09-20T12:51:13.339Z"
   },
   {
    "duration": 91,
    "start_time": "2022-09-20T12:51:22.412Z"
   },
   {
    "duration": 88,
    "start_time": "2022-09-20T12:51:42.652Z"
   },
   {
    "duration": 29,
    "start_time": "2022-09-20T12:54:21.606Z"
   },
   {
    "duration": 162,
    "start_time": "2022-09-20T12:54:43.485Z"
   },
   {
    "duration": 30,
    "start_time": "2022-09-20T12:54:50.048Z"
   },
   {
    "duration": 3,
    "start_time": "2022-09-20T12:56:44.021Z"
   },
   {
    "duration": 181,
    "start_time": "2022-09-20T12:56:44.027Z"
   },
   {
    "duration": 11,
    "start_time": "2022-09-20T12:56:44.211Z"
   },
   {
    "duration": 8,
    "start_time": "2022-09-20T12:56:44.223Z"
   },
   {
    "duration": 18,
    "start_time": "2022-09-20T12:56:44.233Z"
   },
   {
    "duration": 80,
    "start_time": "2022-09-20T12:56:44.254Z"
   },
   {
    "duration": 59,
    "start_time": "2022-09-20T12:56:44.336Z"
   },
   {
    "duration": 5,
    "start_time": "2022-09-20T12:56:44.397Z"
   },
   {
    "duration": 239,
    "start_time": "2022-09-20T12:56:44.403Z"
   },
   {
    "duration": 4,
    "start_time": "2022-09-20T12:56:44.644Z"
   },
   {
    "duration": 9,
    "start_time": "2022-09-20T12:56:44.651Z"
   },
   {
    "duration": 38,
    "start_time": "2022-09-20T12:56:44.662Z"
   },
   {
    "duration": 28,
    "start_time": "2022-09-20T12:56:44.702Z"
   },
   {
    "duration": 204,
    "start_time": "2022-09-20T12:56:44.732Z"
   },
   {
    "duration": 38,
    "start_time": "2022-09-20T12:56:44.938Z"
   },
   {
    "duration": 202,
    "start_time": "2022-09-20T12:56:44.978Z"
   },
   {
    "duration": 17,
    "start_time": "2022-09-20T12:56:45.182Z"
   },
   {
    "duration": 46,
    "start_time": "2022-09-20T12:56:45.201Z"
   },
   {
    "duration": 63,
    "start_time": "2022-09-20T12:56:45.249Z"
   },
   {
    "duration": 21,
    "start_time": "2022-09-20T12:56:45.314Z"
   },
   {
    "duration": 78,
    "start_time": "2022-09-20T12:56:45.337Z"
   },
   {
    "duration": 31,
    "start_time": "2022-09-20T12:57:04.885Z"
   },
   {
    "duration": 3,
    "start_time": "2022-09-20T12:57:28.552Z"
   },
   {
    "duration": 161,
    "start_time": "2022-09-20T12:57:28.557Z"
   },
   {
    "duration": 9,
    "start_time": "2022-09-20T12:57:28.720Z"
   },
   {
    "duration": 4,
    "start_time": "2022-09-20T12:57:28.732Z"
   },
   {
    "duration": 17,
    "start_time": "2022-09-20T12:57:28.737Z"
   },
   {
    "duration": 91,
    "start_time": "2022-09-20T12:57:28.756Z"
   },
   {
    "duration": 67,
    "start_time": "2022-09-20T12:57:28.850Z"
   },
   {
    "duration": 6,
    "start_time": "2022-09-20T12:57:28.918Z"
   },
   {
    "duration": 257,
    "start_time": "2022-09-20T12:57:28.927Z"
   },
   {
    "duration": 10,
    "start_time": "2022-09-20T12:57:29.186Z"
   },
   {
    "duration": 13,
    "start_time": "2022-09-20T12:57:29.197Z"
   },
   {
    "duration": 22,
    "start_time": "2022-09-20T12:57:29.212Z"
   },
   {
    "duration": 31,
    "start_time": "2022-09-20T12:57:29.236Z"
   },
   {
    "duration": 39,
    "start_time": "2022-09-20T12:59:39.787Z"
   },
   {
    "duration": 65,
    "start_time": "2022-09-20T13:02:52.490Z"
   },
   {
    "duration": 22,
    "start_time": "2022-09-20T13:03:12.628Z"
   },
   {
    "duration": 78,
    "start_time": "2022-09-20T13:03:29.898Z"
   },
   {
    "duration": 70,
    "start_time": "2022-09-20T13:03:39.990Z"
   },
   {
    "duration": 71,
    "start_time": "2022-09-20T13:04:11.244Z"
   },
   {
    "duration": 5,
    "start_time": "2022-09-20T14:00:38.564Z"
   },
   {
    "duration": 9,
    "start_time": "2022-09-20T14:00:44.267Z"
   },
   {
    "duration": 4,
    "start_time": "2022-09-20T14:01:57.729Z"
   },
   {
    "duration": 18,
    "start_time": "2022-09-20T14:01:59.793Z"
   },
   {
    "duration": 92,
    "start_time": "2022-09-20T14:02:45.752Z"
   },
   {
    "duration": 101,
    "start_time": "2022-09-20T14:02:57.922Z"
   },
   {
    "duration": 5,
    "start_time": "2022-09-20T14:03:16.598Z"
   },
   {
    "duration": 12,
    "start_time": "2022-09-20T14:03:32.187Z"
   },
   {
    "duration": 10,
    "start_time": "2022-09-20T14:04:12.337Z"
   },
   {
    "duration": 12,
    "start_time": "2022-09-20T14:04:46.654Z"
   },
   {
    "duration": 13,
    "start_time": "2022-09-20T14:04:58.020Z"
   },
   {
    "duration": 47,
    "start_time": "2022-09-21T14:04:34.684Z"
   },
   {
    "duration": 1273,
    "start_time": "2022-09-21T14:04:41.268Z"
   },
   {
    "duration": 484,
    "start_time": "2022-09-21T14:04:42.544Z"
   },
   {
    "duration": 13,
    "start_time": "2022-09-21T14:04:43.030Z"
   },
   {
    "duration": 20,
    "start_time": "2022-09-21T14:04:43.045Z"
   },
   {
    "duration": 49,
    "start_time": "2022-09-21T14:04:43.068Z"
   },
   {
    "duration": 62,
    "start_time": "2022-09-21T14:04:43.118Z"
   },
   {
    "duration": 67,
    "start_time": "2022-09-21T14:04:43.181Z"
   },
   {
    "duration": 6,
    "start_time": "2022-09-21T14:04:43.250Z"
   },
   {
    "duration": 236,
    "start_time": "2022-09-21T14:04:43.257Z"
   },
   {
    "duration": 4,
    "start_time": "2022-09-21T14:04:43.495Z"
   },
   {
    "duration": 15,
    "start_time": "2022-09-21T14:04:43.501Z"
   },
   {
    "duration": 25,
    "start_time": "2022-09-21T14:04:43.518Z"
   },
   {
    "duration": 46,
    "start_time": "2022-09-21T14:04:43.544Z"
   },
   {
    "duration": 263,
    "start_time": "2022-09-21T14:04:43.593Z"
   },
   {
    "duration": 40,
    "start_time": "2022-09-21T14:04:43.858Z"
   },
   {
    "duration": 185,
    "start_time": "2022-09-21T14:04:43.900Z"
   },
   {
    "duration": 7,
    "start_time": "2022-09-21T14:04:44.086Z"
   },
   {
    "duration": 44,
    "start_time": "2022-09-21T14:04:44.094Z"
   },
   {
    "duration": 60,
    "start_time": "2022-09-21T14:04:44.140Z"
   },
   {
    "duration": 33,
    "start_time": "2022-09-21T14:04:44.201Z"
   },
   {
    "duration": 42,
    "start_time": "2022-09-21T14:04:44.236Z"
   },
   {
    "duration": 57,
    "start_time": "2022-09-21T14:04:44.280Z"
   },
   {
    "duration": 11,
    "start_time": "2022-09-21T14:04:44.338Z"
   },
   {
    "duration": 60,
    "start_time": "2022-09-21T14:04:48.624Z"
   },
   {
    "duration": 88,
    "start_time": "2022-09-21T14:05:09.836Z"
   },
   {
    "duration": 94,
    "start_time": "2022-09-21T14:05:21.928Z"
   },
   {
    "duration": 9,
    "start_time": "2022-09-21T14:19:23.154Z"
   },
   {
    "duration": 811,
    "start_time": "2022-09-21T14:19:43.165Z"
   },
   {
    "duration": 7,
    "start_time": "2022-09-21T14:19:50.797Z"
   },
   {
    "duration": 6,
    "start_time": "2022-09-21T14:20:04.774Z"
   },
   {
    "duration": 95,
    "start_time": "2022-09-21T14:21:40.096Z"
   },
   {
    "duration": 757,
    "start_time": "2022-09-21T14:28:26.989Z"
   },
   {
    "duration": 14,
    "start_time": "2022-09-21T14:28:37.765Z"
   },
   {
    "duration": 98,
    "start_time": "2022-09-21T14:47:11.117Z"
   },
   {
    "duration": 7,
    "start_time": "2022-09-21T14:55:02.661Z"
   },
   {
    "duration": 485,
    "start_time": "2022-09-21T14:55:13.189Z"
   },
   {
    "duration": 5,
    "start_time": "2022-09-21T14:55:33.468Z"
   },
   {
    "duration": 6,
    "start_time": "2022-09-21T14:56:22.775Z"
   },
   {
    "duration": 11,
    "start_time": "2022-09-21T14:56:36.092Z"
   },
   {
    "duration": 7,
    "start_time": "2022-09-21T14:57:37.599Z"
   },
   {
    "duration": 67,
    "start_time": "2022-09-21T14:59:26.252Z"
   },
   {
    "duration": 6,
    "start_time": "2022-09-21T14:59:39.156Z"
   },
   {
    "duration": 57,
    "start_time": "2022-09-21T14:59:41.597Z"
   },
   {
    "duration": 3,
    "start_time": "2022-09-21T15:00:24.913Z"
   },
   {
    "duration": 6,
    "start_time": "2022-09-21T15:00:35.956Z"
   },
   {
    "duration": 49,
    "start_time": "2022-09-21T15:00:39.670Z"
   },
   {
    "duration": 5,
    "start_time": "2022-09-21T15:07:15.613Z"
   },
   {
    "duration": 6,
    "start_time": "2022-09-21T15:33:34.940Z"
   },
   {
    "duration": 46,
    "start_time": "2022-09-21T15:33:38.439Z"
   },
   {
    "duration": 1948,
    "start_time": "2022-09-22T07:43:40.329Z"
   },
   {
    "duration": 749,
    "start_time": "2022-09-22T07:43:42.279Z"
   },
   {
    "duration": 51,
    "start_time": "2022-09-22T07:43:43.031Z"
   },
   {
    "duration": 933,
    "start_time": "2022-09-22T07:43:43.084Z"
   },
   {
    "duration": 1288,
    "start_time": "2022-09-22T07:43:44.019Z"
   },
   {
    "duration": 593,
    "start_time": "2022-09-22T07:43:45.309Z"
   },
   {
    "duration": 1553,
    "start_time": "2022-09-22T07:43:45.905Z"
   },
   {
    "duration": 224,
    "start_time": "2022-09-22T07:43:47.460Z"
   },
   {
    "duration": 1484,
    "start_time": "2022-09-22T07:43:47.686Z"
   },
   {
    "duration": 4,
    "start_time": "2022-09-22T07:43:49.173Z"
   },
   {
    "duration": 16,
    "start_time": "2022-09-22T07:43:49.178Z"
   },
   {
    "duration": 28,
    "start_time": "2022-09-22T07:43:49.195Z"
   },
   {
    "duration": 68,
    "start_time": "2022-09-22T07:43:49.225Z"
   },
   {
    "duration": 341,
    "start_time": "2022-09-22T07:43:49.296Z"
   },
   {
    "duration": 87,
    "start_time": "2022-09-22T07:43:49.639Z"
   },
   {
    "duration": 218,
    "start_time": "2022-09-22T07:43:49.727Z"
   },
   {
    "duration": 9,
    "start_time": "2022-09-22T07:43:49.947Z"
   },
   {
    "duration": 67,
    "start_time": "2022-09-22T07:43:49.958Z"
   },
   {
    "duration": 63,
    "start_time": "2022-09-22T07:43:50.027Z"
   },
   {
    "duration": 40,
    "start_time": "2022-09-22T07:43:50.092Z"
   },
   {
    "duration": 29,
    "start_time": "2022-09-22T07:43:50.134Z"
   },
   {
    "duration": 97,
    "start_time": "2022-09-22T07:43:50.165Z"
   },
   {
    "duration": 25,
    "start_time": "2022-09-22T07:43:50.264Z"
   },
   {
    "duration": 788,
    "start_time": "2022-09-22T07:43:57.943Z"
   },
   {
    "duration": 9,
    "start_time": "2022-09-22T07:45:38.705Z"
   },
   {
    "duration": 69,
    "start_time": "2022-09-22T07:45:41.013Z"
   },
   {
    "duration": 19,
    "start_time": "2022-09-22T07:46:47.108Z"
   },
   {
    "duration": 13,
    "start_time": "2022-09-22T07:48:35.844Z"
   },
   {
    "duration": 50,
    "start_time": "2022-09-22T07:48:56.670Z"
   },
   {
    "duration": 171,
    "start_time": "2022-09-22T07:56:03.321Z"
   },
   {
    "duration": 153,
    "start_time": "2022-09-22T07:56:13.449Z"
   },
   {
    "duration": 133,
    "start_time": "2022-09-22T07:56:31.076Z"
   },
   {
    "duration": 162,
    "start_time": "2022-09-22T07:56:59.854Z"
   },
   {
    "duration": 302,
    "start_time": "2022-09-22T07:57:17.343Z"
   },
   {
    "duration": 114,
    "start_time": "2022-09-22T07:57:52.457Z"
   },
   {
    "duration": 124,
    "start_time": "2022-09-22T08:00:20.070Z"
   },
   {
    "duration": 153,
    "start_time": "2022-09-22T08:00:36.359Z"
   },
   {
    "duration": 157,
    "start_time": "2022-09-22T08:01:00.321Z"
   },
   {
    "duration": 74,
    "start_time": "2022-09-22T08:02:30.227Z"
   },
   {
    "duration": 143,
    "start_time": "2022-09-22T08:02:38.729Z"
   },
   {
    "duration": 274,
    "start_time": "2022-09-22T08:02:46.246Z"
   },
   {
    "duration": 140,
    "start_time": "2022-09-22T08:02:55.169Z"
   },
   {
    "duration": 153,
    "start_time": "2022-09-22T08:03:23.217Z"
   },
   {
    "duration": 168,
    "start_time": "2022-09-22T08:10:47.064Z"
   },
   {
    "duration": 116,
    "start_time": "2022-09-22T08:16:18.456Z"
   },
   {
    "duration": 107,
    "start_time": "2022-09-22T08:17:44.256Z"
   },
   {
    "duration": 48,
    "start_time": "2022-09-22T08:23:51.187Z"
   },
   {
    "duration": 11,
    "start_time": "2022-09-22T08:37:44.986Z"
   },
   {
    "duration": 11,
    "start_time": "2022-09-22T08:38:01.171Z"
   },
   {
    "duration": 3,
    "start_time": "2022-09-22T08:38:17.392Z"
   },
   {
    "duration": 485,
    "start_time": "2022-09-22T08:38:17.397Z"
   },
   {
    "duration": 8,
    "start_time": "2022-09-22T08:38:17.884Z"
   },
   {
    "duration": 6,
    "start_time": "2022-09-22T08:38:17.895Z"
   },
   {
    "duration": 27,
    "start_time": "2022-09-22T08:38:17.903Z"
   },
   {
    "duration": 71,
    "start_time": "2022-09-22T08:38:17.932Z"
   },
   {
    "duration": 65,
    "start_time": "2022-09-22T08:38:18.005Z"
   },
   {
    "duration": 19,
    "start_time": "2022-09-22T08:38:18.072Z"
   },
   {
    "duration": 258,
    "start_time": "2022-09-22T08:38:18.093Z"
   },
   {
    "duration": 4,
    "start_time": "2022-09-22T08:38:18.353Z"
   },
   {
    "duration": 14,
    "start_time": "2022-09-22T08:38:18.361Z"
   },
   {
    "duration": 41,
    "start_time": "2022-09-22T08:38:18.377Z"
   },
   {
    "duration": 32,
    "start_time": "2022-09-22T08:38:18.420Z"
   },
   {
    "duration": 205,
    "start_time": "2022-09-22T08:38:18.454Z"
   },
   {
    "duration": 50,
    "start_time": "2022-09-22T08:38:18.661Z"
   },
   {
    "duration": 205,
    "start_time": "2022-09-22T08:38:18.713Z"
   },
   {
    "duration": 7,
    "start_time": "2022-09-22T08:38:18.920Z"
   },
   {
    "duration": 71,
    "start_time": "2022-09-22T08:38:18.929Z"
   },
   {
    "duration": 49,
    "start_time": "2022-09-22T08:38:19.002Z"
   },
   {
    "duration": 50,
    "start_time": "2022-09-22T08:38:19.053Z"
   },
   {
    "duration": 25,
    "start_time": "2022-09-22T08:38:19.104Z"
   },
   {
    "duration": 77,
    "start_time": "2022-09-22T08:38:19.130Z"
   },
   {
    "duration": 13,
    "start_time": "2022-09-22T08:38:19.209Z"
   },
   {
    "duration": 181,
    "start_time": "2022-09-22T08:38:19.223Z"
   },
   {
    "duration": 51,
    "start_time": "2022-09-22T08:38:19.406Z"
   },
   {
    "duration": 109,
    "start_time": "2022-09-22T08:38:19.458Z"
   },
   {
    "duration": 5,
    "start_time": "2022-09-22T08:38:19.569Z"
   },
   {
    "duration": 72,
    "start_time": "2022-09-22T08:38:19.576Z"
   },
   {
    "duration": 195,
    "start_time": "2022-09-22T08:38:25.507Z"
   },
   {
    "duration": 2,
    "start_time": "2022-09-22T09:00:15.709Z"
   },
   {
    "duration": 225,
    "start_time": "2022-09-22T09:00:50.092Z"
   },
   {
    "duration": 211,
    "start_time": "2022-09-22T09:02:04.123Z"
   },
   {
    "duration": 55,
    "start_time": "2022-09-22T09:02:34.099Z"
   },
   {
    "duration": 66,
    "start_time": "2022-09-22T09:02:58.501Z"
   },
   {
    "duration": 55,
    "start_time": "2022-09-22T09:08:56.313Z"
   },
   {
    "duration": 30,
    "start_time": "2022-09-22T09:11:09.996Z"
   },
   {
    "duration": 59,
    "start_time": "2022-09-22T09:22:24.259Z"
   },
   {
    "duration": 49,
    "start_time": "2022-09-22T09:22:48.590Z"
   },
   {
    "duration": 53,
    "start_time": "2022-09-22T09:22:53.396Z"
   },
   {
    "duration": 52,
    "start_time": "2022-09-22T09:25:22.572Z"
   },
   {
    "duration": 9,
    "start_time": "2022-09-22T09:27:02.674Z"
   },
   {
    "duration": 24,
    "start_time": "2022-09-22T09:27:07.557Z"
   },
   {
    "duration": 6,
    "start_time": "2022-09-22T09:27:37.614Z"
   },
   {
    "duration": 5,
    "start_time": "2022-09-22T09:27:45.409Z"
   },
   {
    "duration": 8,
    "start_time": "2022-09-22T09:27:57.351Z"
   },
   {
    "duration": 9,
    "start_time": "2022-09-22T09:28:00.276Z"
   },
   {
    "duration": 26,
    "start_time": "2022-09-22T09:28:03.735Z"
   },
   {
    "duration": 21,
    "start_time": "2022-09-22T09:28:10.109Z"
   },
   {
    "duration": 19,
    "start_time": "2022-09-22T09:28:13.322Z"
   },
   {
    "duration": 21,
    "start_time": "2022-09-22T09:28:15.845Z"
   },
   {
    "duration": 13,
    "start_time": "2022-09-22T09:35:44.133Z"
   },
   {
    "duration": 5,
    "start_time": "2022-09-22T09:36:22.929Z"
   },
   {
    "duration": 10,
    "start_time": "2022-09-22T09:36:24.664Z"
   },
   {
    "duration": 22,
    "start_time": "2022-09-22T09:50:51.303Z"
   },
   {
    "duration": 19,
    "start_time": "2022-09-22T09:51:37.578Z"
   },
   {
    "duration": 21,
    "start_time": "2022-09-22T09:51:49.737Z"
   },
   {
    "duration": 21,
    "start_time": "2022-09-22T09:52:13.895Z"
   },
   {
    "duration": 21,
    "start_time": "2022-09-22T09:52:19.087Z"
   },
   {
    "duration": 159,
    "start_time": "2022-09-22T10:30:45.170Z"
   },
   {
    "duration": 1203,
    "start_time": "2022-09-22T11:02:43.201Z"
   },
   {
    "duration": 515,
    "start_time": "2022-09-22T11:02:44.406Z"
   },
   {
    "duration": 14,
    "start_time": "2022-09-22T11:02:44.925Z"
   },
   {
    "duration": 7,
    "start_time": "2022-09-22T11:02:44.941Z"
   },
   {
    "duration": 24,
    "start_time": "2022-09-22T11:02:44.950Z"
   },
   {
    "duration": 72,
    "start_time": "2022-09-22T11:02:44.976Z"
   },
   {
    "duration": 84,
    "start_time": "2022-09-22T11:02:45.050Z"
   },
   {
    "duration": 5,
    "start_time": "2022-09-22T11:02:45.136Z"
   },
   {
    "duration": 244,
    "start_time": "2022-09-22T11:02:45.143Z"
   },
   {
    "duration": 3,
    "start_time": "2022-09-22T11:02:45.390Z"
   },
   {
    "duration": 15,
    "start_time": "2022-09-22T11:02:45.395Z"
   },
   {
    "duration": 20,
    "start_time": "2022-09-22T11:02:45.420Z"
   },
   {
    "duration": 43,
    "start_time": "2022-09-22T11:02:45.443Z"
   },
   {
    "duration": 271,
    "start_time": "2022-09-22T11:02:45.488Z"
   },
   {
    "duration": 39,
    "start_time": "2022-09-22T11:02:45.760Z"
   },
   {
    "duration": 217,
    "start_time": "2022-09-22T11:02:45.800Z"
   },
   {
    "duration": 7,
    "start_time": "2022-09-22T11:02:46.020Z"
   },
   {
    "duration": 77,
    "start_time": "2022-09-22T11:02:46.029Z"
   },
   {
    "duration": 47,
    "start_time": "2022-09-22T11:02:46.108Z"
   },
   {
    "duration": 55,
    "start_time": "2022-09-22T11:02:46.157Z"
   },
   {
    "duration": 34,
    "start_time": "2022-09-22T11:02:46.214Z"
   },
   {
    "duration": 94,
    "start_time": "2022-09-22T11:02:46.250Z"
   },
   {
    "duration": 5,
    "start_time": "2022-09-22T11:02:46.347Z"
   },
   {
    "duration": 35,
    "start_time": "2022-09-22T11:02:46.354Z"
   },
   {
    "duration": 167,
    "start_time": "2022-09-22T11:02:46.391Z"
   },
   {
    "duration": 62,
    "start_time": "2022-09-22T11:02:46.560Z"
   },
   {
    "duration": 108,
    "start_time": "2022-09-22T11:02:46.624Z"
   },
   {
    "duration": 6,
    "start_time": "2022-09-22T11:02:46.736Z"
   },
   {
    "duration": 60,
    "start_time": "2022-09-22T11:02:46.744Z"
   },
   {
    "duration": 40,
    "start_time": "2022-09-22T11:02:46.806Z"
   },
   {
    "duration": 49,
    "start_time": "2022-09-22T11:02:46.848Z"
   },
   {
    "duration": 33,
    "start_time": "2022-09-22T11:02:46.899Z"
   },
   {
    "duration": 27,
    "start_time": "2022-09-22T11:02:46.934Z"
   },
   {
    "duration": 24,
    "start_time": "2022-09-22T11:02:46.963Z"
   },
   {
    "duration": 38,
    "start_time": "2022-09-22T11:02:46.989Z"
   },
   {
    "duration": 24,
    "start_time": "2022-09-22T11:02:47.028Z"
   },
   {
    "duration": 19,
    "start_time": "2022-09-22T11:02:47.054Z"
   },
   {
    "duration": 4,
    "start_time": "2022-09-22T11:40:13.906Z"
   },
   {
    "duration": 3,
    "start_time": "2022-09-22T11:40:19.990Z"
   },
   {
    "duration": 205,
    "start_time": "2022-09-22T11:40:19.995Z"
   },
   {
    "duration": 8,
    "start_time": "2022-09-22T11:40:20.202Z"
   },
   {
    "duration": 8,
    "start_time": "2022-09-22T11:40:20.211Z"
   },
   {
    "duration": 29,
    "start_time": "2022-09-22T11:40:20.221Z"
   },
   {
    "duration": 64,
    "start_time": "2022-09-22T11:40:20.252Z"
   },
   {
    "duration": 56,
    "start_time": "2022-09-22T11:40:20.318Z"
   },
   {
    "duration": 15,
    "start_time": "2022-09-22T11:40:20.376Z"
   },
   {
    "duration": 223,
    "start_time": "2022-09-22T11:40:20.393Z"
   },
   {
    "duration": 5,
    "start_time": "2022-09-22T11:40:20.617Z"
   },
   {
    "duration": 11,
    "start_time": "2022-09-22T11:40:20.624Z"
   },
   {
    "duration": 22,
    "start_time": "2022-09-22T11:40:20.637Z"
   },
   {
    "duration": 52,
    "start_time": "2022-09-22T11:40:20.660Z"
   },
   {
    "duration": 239,
    "start_time": "2022-09-22T11:40:20.714Z"
   },
   {
    "duration": 43,
    "start_time": "2022-09-22T11:40:20.954Z"
   },
   {
    "duration": 184,
    "start_time": "2022-09-22T11:40:20.999Z"
   },
   {
    "duration": 9,
    "start_time": "2022-09-22T11:40:21.189Z"
   },
   {
    "duration": 49,
    "start_time": "2022-09-22T11:40:21.200Z"
   },
   {
    "duration": 77,
    "start_time": "2022-09-22T11:40:21.251Z"
   },
   {
    "duration": 38,
    "start_time": "2022-09-22T11:40:21.330Z"
   },
   {
    "duration": 44,
    "start_time": "2022-09-22T11:40:21.370Z"
   },
   {
    "duration": 74,
    "start_time": "2022-09-22T11:40:21.416Z"
   },
   {
    "duration": 6,
    "start_time": "2022-09-22T11:40:21.492Z"
   },
   {
    "duration": 11,
    "start_time": "2022-09-22T11:40:21.500Z"
   },
   {
    "duration": 170,
    "start_time": "2022-09-22T11:40:21.513Z"
   },
   {
    "duration": 56,
    "start_time": "2022-09-22T11:40:21.685Z"
   },
   {
    "duration": 131,
    "start_time": "2022-09-22T11:40:21.743Z"
   },
   {
    "duration": 15,
    "start_time": "2022-09-22T11:40:21.876Z"
   },
   {
    "duration": 23,
    "start_time": "2022-09-22T11:40:21.896Z"
   },
   {
    "duration": 28,
    "start_time": "2022-09-22T11:40:21.921Z"
   },
   {
    "duration": 46,
    "start_time": "2022-09-22T11:40:21.951Z"
   },
   {
    "duration": 25,
    "start_time": "2022-09-22T11:40:21.999Z"
   },
   {
    "duration": 37,
    "start_time": "2022-09-22T11:40:22.026Z"
   },
   {
    "duration": 44,
    "start_time": "2022-09-22T11:40:22.065Z"
   },
   {
    "duration": 25,
    "start_time": "2022-09-22T11:40:22.112Z"
   },
   {
    "duration": 51,
    "start_time": "2022-09-22T11:40:22.139Z"
   },
   {
    "duration": 21,
    "start_time": "2022-09-22T11:40:22.191Z"
   },
   {
    "duration": 14,
    "start_time": "2022-09-22T11:51:49.039Z"
   },
   {
    "duration": 3,
    "start_time": "2022-09-22T11:51:55.687Z"
   },
   {
    "duration": 17,
    "start_time": "2022-09-22T11:52:02.063Z"
   },
   {
    "duration": 12,
    "start_time": "2022-09-22T11:52:10.739Z"
   },
   {
    "duration": 11,
    "start_time": "2022-09-22T11:52:26.497Z"
   },
   {
    "duration": 52,
    "start_time": "2022-09-22T11:52:40.689Z"
   },
   {
    "duration": 4,
    "start_time": "2022-09-22T11:53:11.408Z"
   },
   {
    "duration": 11,
    "start_time": "2022-09-22T11:53:16.711Z"
   },
   {
    "duration": 16,
    "start_time": "2022-09-22T11:53:46.645Z"
   },
   {
    "duration": 15,
    "start_time": "2022-09-22T11:56:05.033Z"
   },
   {
    "duration": 11,
    "start_time": "2022-09-22T11:56:16.356Z"
   },
   {
    "duration": 4,
    "start_time": "2022-09-22T11:56:25.109Z"
   },
   {
    "duration": 210,
    "start_time": "2022-09-22T11:56:25.116Z"
   },
   {
    "duration": 8,
    "start_time": "2022-09-22T11:56:25.328Z"
   },
   {
    "duration": 5,
    "start_time": "2022-09-22T11:56:25.338Z"
   },
   {
    "duration": 24,
    "start_time": "2022-09-22T11:56:25.345Z"
   },
   {
    "duration": 54,
    "start_time": "2022-09-22T11:56:25.389Z"
   },
   {
    "duration": 70,
    "start_time": "2022-09-22T11:56:25.445Z"
   },
   {
    "duration": 5,
    "start_time": "2022-09-22T11:56:25.517Z"
   },
   {
    "duration": 221,
    "start_time": "2022-09-22T11:56:25.524Z"
   },
   {
    "duration": 3,
    "start_time": "2022-09-22T11:56:25.747Z"
   },
   {
    "duration": 29,
    "start_time": "2022-09-22T11:56:25.752Z"
   },
   {
    "duration": 26,
    "start_time": "2022-09-22T11:56:25.783Z"
   },
   {
    "duration": 42,
    "start_time": "2022-09-22T11:56:25.811Z"
   },
   {
    "duration": 203,
    "start_time": "2022-09-22T11:56:25.855Z"
   },
   {
    "duration": 49,
    "start_time": "2022-09-22T11:56:26.060Z"
   },
   {
    "duration": 210,
    "start_time": "2022-09-22T11:56:26.111Z"
   },
   {
    "duration": 10,
    "start_time": "2022-09-22T11:56:26.323Z"
   },
   {
    "duration": 64,
    "start_time": "2022-09-22T11:56:26.335Z"
   },
   {
    "duration": 49,
    "start_time": "2022-09-22T11:56:26.401Z"
   },
   {
    "duration": 49,
    "start_time": "2022-09-22T11:56:26.451Z"
   },
   {
    "duration": 25,
    "start_time": "2022-09-22T11:56:26.502Z"
   },
   {
    "duration": 88,
    "start_time": "2022-09-22T11:56:26.528Z"
   },
   {
    "duration": 5,
    "start_time": "2022-09-22T11:56:26.617Z"
   },
   {
    "duration": 25,
    "start_time": "2022-09-22T11:56:26.624Z"
   },
   {
    "duration": 175,
    "start_time": "2022-09-22T11:56:26.650Z"
   },
   {
    "duration": 12,
    "start_time": "2022-09-22T11:56:26.827Z"
   },
   {
    "duration": 0,
    "start_time": "2022-09-22T11:56:26.841Z"
   },
   {
    "duration": 0,
    "start_time": "2022-09-22T11:56:26.842Z"
   },
   {
    "duration": 0,
    "start_time": "2022-09-22T11:56:26.844Z"
   },
   {
    "duration": 0,
    "start_time": "2022-09-22T11:56:26.845Z"
   },
   {
    "duration": 0,
    "start_time": "2022-09-22T11:56:26.846Z"
   },
   {
    "duration": 0,
    "start_time": "2022-09-22T11:56:26.847Z"
   },
   {
    "duration": 0,
    "start_time": "2022-09-22T11:56:26.849Z"
   },
   {
    "duration": 0,
    "start_time": "2022-09-22T11:56:26.850Z"
   },
   {
    "duration": 0,
    "start_time": "2022-09-22T11:56:26.851Z"
   },
   {
    "duration": 0,
    "start_time": "2022-09-22T11:56:26.852Z"
   },
   {
    "duration": 0,
    "start_time": "2022-09-22T11:56:26.853Z"
   },
   {
    "duration": 0,
    "start_time": "2022-09-22T11:56:26.854Z"
   },
   {
    "duration": 12,
    "start_time": "2022-09-22T11:56:46.985Z"
   },
   {
    "duration": 48,
    "start_time": "2022-09-22T11:57:03.541Z"
   },
   {
    "duration": 44,
    "start_time": "2022-09-22T11:57:29.768Z"
   },
   {
    "duration": 12,
    "start_time": "2022-09-22T11:59:35.059Z"
   },
   {
    "duration": 9,
    "start_time": "2022-09-22T11:59:45.547Z"
   },
   {
    "duration": 6,
    "start_time": "2022-09-22T12:00:54.720Z"
   },
   {
    "duration": 12,
    "start_time": "2022-09-22T12:01:04.433Z"
   },
   {
    "duration": 883,
    "start_time": "2022-09-22T12:01:30.895Z"
   },
   {
    "duration": 9,
    "start_time": "2022-09-22T12:02:25.157Z"
   },
   {
    "duration": 3,
    "start_time": "2022-09-22T12:03:32.613Z"
   },
   {
    "duration": 10,
    "start_time": "2022-09-22T12:03:50.662Z"
   },
   {
    "duration": 8,
    "start_time": "2022-09-22T12:04:32.750Z"
   },
   {
    "duration": 14,
    "start_time": "2022-09-22T12:05:19.889Z"
   },
   {
    "duration": 13,
    "start_time": "2022-09-22T12:06:25.331Z"
   },
   {
    "duration": 12,
    "start_time": "2022-09-22T12:08:36.530Z"
   },
   {
    "duration": 4,
    "start_time": "2022-09-22T12:08:49.922Z"
   },
   {
    "duration": 1284,
    "start_time": "2022-09-22T12:09:13.057Z"
   },
   {
    "duration": 166,
    "start_time": "2022-09-22T12:09:14.344Z"
   },
   {
    "duration": 13,
    "start_time": "2022-09-22T12:09:14.512Z"
   },
   {
    "duration": 9,
    "start_time": "2022-09-22T12:09:14.527Z"
   },
   {
    "duration": 20,
    "start_time": "2022-09-22T12:09:14.538Z"
   },
   {
    "duration": 82,
    "start_time": "2022-09-22T12:09:14.560Z"
   },
   {
    "duration": 93,
    "start_time": "2022-09-22T12:09:14.644Z"
   },
   {
    "duration": 6,
    "start_time": "2022-09-22T12:09:14.739Z"
   },
   {
    "duration": 237,
    "start_time": "2022-09-22T12:09:14.747Z"
   },
   {
    "duration": 5,
    "start_time": "2022-09-22T12:09:14.986Z"
   },
   {
    "duration": 22,
    "start_time": "2022-09-22T12:09:14.993Z"
   },
   {
    "duration": 44,
    "start_time": "2022-09-22T12:09:15.017Z"
   },
   {
    "duration": 34,
    "start_time": "2022-09-22T12:09:15.064Z"
   },
   {
    "duration": 305,
    "start_time": "2022-09-22T12:09:15.099Z"
   },
   {
    "duration": 40,
    "start_time": "2022-09-22T12:09:15.406Z"
   },
   {
    "duration": 206,
    "start_time": "2022-09-22T12:09:15.448Z"
   },
   {
    "duration": 8,
    "start_time": "2022-09-22T12:09:15.656Z"
   },
   {
    "duration": 70,
    "start_time": "2022-09-22T12:09:15.666Z"
   },
   {
    "duration": 53,
    "start_time": "2022-09-22T12:09:15.738Z"
   },
   {
    "duration": 34,
    "start_time": "2022-09-22T12:09:15.793Z"
   },
   {
    "duration": 24,
    "start_time": "2022-09-22T12:09:15.829Z"
   },
   {
    "duration": 81,
    "start_time": "2022-09-22T12:09:15.855Z"
   },
   {
    "duration": 4,
    "start_time": "2022-09-22T12:09:15.938Z"
   },
   {
    "duration": 27,
    "start_time": "2022-09-22T12:09:15.944Z"
   },
   {
    "duration": 152,
    "start_time": "2022-09-22T12:09:15.973Z"
   },
   {
    "duration": 149,
    "start_time": "2022-09-22T12:09:16.127Z"
   },
   {
    "duration": 18,
    "start_time": "2022-09-22T12:09:16.280Z"
   },
   {
    "duration": 106,
    "start_time": "2022-09-22T12:09:16.301Z"
   },
   {
    "duration": 116,
    "start_time": "2022-09-22T12:09:16.408Z"
   },
   {
    "duration": 6,
    "start_time": "2022-09-22T12:09:16.526Z"
   },
   {
    "duration": 11,
    "start_time": "2022-09-22T12:09:16.534Z"
   },
   {
    "duration": 22,
    "start_time": "2022-09-22T12:09:16.547Z"
   },
   {
    "duration": 33,
    "start_time": "2022-09-22T12:09:16.571Z"
   },
   {
    "duration": 17,
    "start_time": "2022-09-22T12:09:16.606Z"
   },
   {
    "duration": 18,
    "start_time": "2022-09-22T12:09:16.624Z"
   },
   {
    "duration": 49,
    "start_time": "2022-09-22T12:09:16.643Z"
   },
   {
    "duration": 20,
    "start_time": "2022-09-22T12:09:16.694Z"
   },
   {
    "duration": 18,
    "start_time": "2022-09-22T12:09:16.716Z"
   },
   {
    "duration": 17,
    "start_time": "2022-09-22T12:09:16.735Z"
   },
   {
    "duration": 5,
    "start_time": "2022-09-22T12:11:41.643Z"
   },
   {
    "duration": 228,
    "start_time": "2022-09-22T12:11:41.651Z"
   },
   {
    "duration": 10,
    "start_time": "2022-09-22T12:11:41.888Z"
   },
   {
    "duration": 12,
    "start_time": "2022-09-22T12:11:41.900Z"
   },
   {
    "duration": 28,
    "start_time": "2022-09-22T12:11:41.916Z"
   },
   {
    "duration": 98,
    "start_time": "2022-09-22T12:11:41.946Z"
   },
   {
    "duration": 81,
    "start_time": "2022-09-22T12:11:42.047Z"
   },
   {
    "duration": 6,
    "start_time": "2022-09-22T12:11:42.130Z"
   },
   {
    "duration": 251,
    "start_time": "2022-09-22T12:11:42.138Z"
   },
   {
    "duration": 5,
    "start_time": "2022-09-22T12:11:42.390Z"
   },
   {
    "duration": 11,
    "start_time": "2022-09-22T12:11:42.397Z"
   },
   {
    "duration": 22,
    "start_time": "2022-09-22T12:11:42.410Z"
   },
   {
    "duration": 61,
    "start_time": "2022-09-22T12:11:42.434Z"
   },
   {
    "duration": 225,
    "start_time": "2022-09-22T12:11:42.497Z"
   },
   {
    "duration": 38,
    "start_time": "2022-09-22T12:11:42.724Z"
   },
   {
    "duration": 227,
    "start_time": "2022-09-22T12:11:42.764Z"
   },
   {
    "duration": 9,
    "start_time": "2022-09-22T12:11:42.993Z"
   },
   {
    "duration": 53,
    "start_time": "2022-09-22T12:11:43.004Z"
   },
   {
    "duration": 72,
    "start_time": "2022-09-22T12:11:43.059Z"
   },
   {
    "duration": 38,
    "start_time": "2022-09-22T12:11:43.133Z"
   },
   {
    "duration": 39,
    "start_time": "2022-09-22T12:11:43.173Z"
   },
   {
    "duration": 80,
    "start_time": "2022-09-22T12:11:43.214Z"
   },
   {
    "duration": 5,
    "start_time": "2022-09-22T12:11:43.296Z"
   },
   {
    "duration": 19,
    "start_time": "2022-09-22T12:11:43.303Z"
   },
   {
    "duration": 97,
    "start_time": "2022-09-22T12:11:43.323Z"
   },
   {
    "duration": 12,
    "start_time": "2022-09-22T12:11:43.422Z"
   },
   {
    "duration": 72,
    "start_time": "2022-09-22T12:11:43.437Z"
   },
   {
    "duration": 118,
    "start_time": "2022-09-22T12:11:43.510Z"
   },
   {
    "duration": 6,
    "start_time": "2022-09-22T12:11:43.632Z"
   },
   {
    "duration": 14,
    "start_time": "2022-09-22T12:11:43.640Z"
   },
   {
    "duration": 42,
    "start_time": "2022-09-22T12:11:43.656Z"
   },
   {
    "duration": 20,
    "start_time": "2022-09-22T12:11:43.700Z"
   },
   {
    "duration": 23,
    "start_time": "2022-09-22T12:11:43.722Z"
   },
   {
    "duration": 44,
    "start_time": "2022-09-22T12:11:43.746Z"
   },
   {
    "duration": 20,
    "start_time": "2022-09-22T12:11:43.792Z"
   },
   {
    "duration": 19,
    "start_time": "2022-09-22T12:11:43.814Z"
   },
   {
    "duration": 54,
    "start_time": "2022-09-22T12:11:43.837Z"
   },
   {
    "duration": 23,
    "start_time": "2022-09-22T12:11:43.893Z"
   },
   {
    "duration": 10,
    "start_time": "2022-09-22T12:12:32.818Z"
   },
   {
    "duration": 12,
    "start_time": "2022-09-22T12:12:56.879Z"
   },
   {
    "duration": 8,
    "start_time": "2022-09-22T12:13:56.418Z"
   },
   {
    "duration": 10,
    "start_time": "2022-09-22T12:14:00.787Z"
   },
   {
    "duration": 21,
    "start_time": "2022-09-22T12:26:48.750Z"
   },
   {
    "duration": 3,
    "start_time": "2022-09-22T12:48:44.259Z"
   },
   {
    "duration": 180,
    "start_time": "2022-09-22T12:48:44.264Z"
   },
   {
    "duration": 8,
    "start_time": "2022-09-22T12:48:44.446Z"
   },
   {
    "duration": 7,
    "start_time": "2022-09-22T12:48:44.456Z"
   },
   {
    "duration": 40,
    "start_time": "2022-09-22T12:48:44.465Z"
   },
   {
    "duration": 53,
    "start_time": "2022-09-22T12:48:44.507Z"
   },
   {
    "duration": 78,
    "start_time": "2022-09-22T12:48:44.562Z"
   },
   {
    "duration": 5,
    "start_time": "2022-09-22T12:48:44.642Z"
   },
   {
    "duration": 231,
    "start_time": "2022-09-22T12:48:44.649Z"
   },
   {
    "duration": 8,
    "start_time": "2022-09-22T12:48:44.882Z"
   },
   {
    "duration": 8,
    "start_time": "2022-09-22T12:48:44.893Z"
   },
   {
    "duration": 23,
    "start_time": "2022-09-22T12:48:44.903Z"
   },
   {
    "duration": 31,
    "start_time": "2022-09-22T12:48:44.927Z"
   },
   {
    "duration": 241,
    "start_time": "2022-09-22T12:48:44.960Z"
   },
   {
    "duration": 35,
    "start_time": "2022-09-22T12:48:45.203Z"
   },
   {
    "duration": 245,
    "start_time": "2022-09-22T12:48:45.240Z"
   },
   {
    "duration": 9,
    "start_time": "2022-09-22T12:48:45.488Z"
   },
   {
    "duration": 80,
    "start_time": "2022-09-22T12:48:45.499Z"
   },
   {
    "duration": 53,
    "start_time": "2022-09-22T12:48:45.581Z"
   },
   {
    "duration": 57,
    "start_time": "2022-09-22T12:48:45.637Z"
   },
   {
    "duration": 26,
    "start_time": "2022-09-22T12:48:45.696Z"
   },
   {
    "duration": 86,
    "start_time": "2022-09-22T12:48:45.724Z"
   },
   {
    "duration": 6,
    "start_time": "2022-09-22T12:48:45.812Z"
   },
   {
    "duration": 14,
    "start_time": "2022-09-22T12:48:45.820Z"
   },
   {
    "duration": 194,
    "start_time": "2022-09-22T12:48:45.836Z"
   },
   {
    "duration": 11,
    "start_time": "2022-09-22T12:48:46.032Z"
   },
   {
    "duration": 73,
    "start_time": "2022-09-22T12:48:46.044Z"
   },
   {
    "duration": 114,
    "start_time": "2022-09-22T12:48:46.119Z"
   },
   {
    "duration": 6,
    "start_time": "2022-09-22T12:48:46.237Z"
   },
   {
    "duration": 17,
    "start_time": "2022-09-22T12:48:46.245Z"
   },
   {
    "duration": 37,
    "start_time": "2022-09-22T12:48:46.264Z"
   },
   {
    "duration": 19,
    "start_time": "2022-09-22T12:48:46.302Z"
   },
   {
    "duration": 18,
    "start_time": "2022-09-22T12:48:46.323Z"
   },
   {
    "duration": 57,
    "start_time": "2022-09-22T12:48:46.344Z"
   },
   {
    "duration": 25,
    "start_time": "2022-09-22T12:48:46.403Z"
   },
   {
    "duration": 22,
    "start_time": "2022-09-22T12:48:46.430Z"
   },
   {
    "duration": 52,
    "start_time": "2022-09-22T12:48:46.453Z"
   },
   {
    "duration": 20,
    "start_time": "2022-09-22T12:48:46.507Z"
   },
   {
    "duration": 48,
    "start_time": "2022-09-22T12:48:46.529Z"
   },
   {
    "duration": 1262,
    "start_time": "2022-09-22T12:49:04.305Z"
   },
   {
    "duration": 171,
    "start_time": "2022-09-22T12:49:05.570Z"
   },
   {
    "duration": 12,
    "start_time": "2022-09-22T12:49:05.743Z"
   },
   {
    "duration": 4,
    "start_time": "2022-09-22T12:49:05.757Z"
   },
   {
    "duration": 27,
    "start_time": "2022-09-22T12:49:05.763Z"
   },
   {
    "duration": 71,
    "start_time": "2022-09-22T12:49:05.792Z"
   },
   {
    "duration": 88,
    "start_time": "2022-09-22T12:49:05.864Z"
   },
   {
    "duration": 5,
    "start_time": "2022-09-22T12:49:05.953Z"
   },
   {
    "duration": 237,
    "start_time": "2022-09-22T12:49:05.960Z"
   },
   {
    "duration": 4,
    "start_time": "2022-09-22T12:49:06.200Z"
   },
   {
    "duration": 46,
    "start_time": "2022-09-22T12:49:06.205Z"
   },
   {
    "duration": 22,
    "start_time": "2022-09-22T12:49:06.253Z"
   },
   {
    "duration": 33,
    "start_time": "2022-09-22T12:49:06.276Z"
   },
   {
    "duration": 318,
    "start_time": "2022-09-22T12:49:06.312Z"
   },
   {
    "duration": 42,
    "start_time": "2022-09-22T12:49:06.632Z"
   },
   {
    "duration": 218,
    "start_time": "2022-09-22T12:49:06.676Z"
   },
   {
    "duration": 10,
    "start_time": "2022-09-22T12:49:06.896Z"
   },
   {
    "duration": 69,
    "start_time": "2022-09-22T12:49:06.907Z"
   },
   {
    "duration": 55,
    "start_time": "2022-09-22T12:49:06.978Z"
   },
   {
    "duration": 36,
    "start_time": "2022-09-22T12:49:07.035Z"
   },
   {
    "duration": 40,
    "start_time": "2022-09-22T12:49:07.073Z"
   },
   {
    "duration": 76,
    "start_time": "2022-09-22T12:49:07.114Z"
   },
   {
    "duration": 5,
    "start_time": "2022-09-22T12:49:07.192Z"
   },
   {
    "duration": 15,
    "start_time": "2022-09-22T12:49:07.199Z"
   },
   {
    "duration": 169,
    "start_time": "2022-09-22T12:49:07.216Z"
   },
   {
    "duration": 129,
    "start_time": "2022-09-22T12:49:07.389Z"
   },
   {
    "duration": 95,
    "start_time": "2022-09-22T12:49:07.520Z"
   },
   {
    "duration": 156,
    "start_time": "2022-09-22T12:49:07.618Z"
   },
   {
    "duration": 13,
    "start_time": "2022-09-22T12:49:07.776Z"
   },
   {
    "duration": 27,
    "start_time": "2022-09-22T12:49:07.791Z"
   },
   {
    "duration": 41,
    "start_time": "2022-09-22T12:49:07.819Z"
   },
   {
    "duration": 20,
    "start_time": "2022-09-22T12:49:07.862Z"
   },
   {
    "duration": 27,
    "start_time": "2022-09-22T12:49:07.884Z"
   },
   {
    "duration": 20,
    "start_time": "2022-09-22T12:49:07.913Z"
   },
   {
    "duration": 27,
    "start_time": "2022-09-22T12:49:07.934Z"
   },
   {
    "duration": 40,
    "start_time": "2022-09-22T12:49:07.963Z"
   },
   {
    "duration": 44,
    "start_time": "2022-09-22T12:49:08.005Z"
   },
   {
    "duration": 21,
    "start_time": "2022-09-22T12:49:08.051Z"
   },
   {
    "duration": 28,
    "start_time": "2022-09-22T12:49:08.073Z"
   },
   {
    "duration": 4,
    "start_time": "2022-09-22T20:33:33.626Z"
   },
   {
    "duration": 191,
    "start_time": "2022-09-22T20:33:33.633Z"
   },
   {
    "duration": 9,
    "start_time": "2022-09-22T20:33:33.825Z"
   },
   {
    "duration": 6,
    "start_time": "2022-09-22T20:33:33.836Z"
   },
   {
    "duration": 23,
    "start_time": "2022-09-22T20:33:33.844Z"
   },
   {
    "duration": 69,
    "start_time": "2022-09-22T20:33:33.869Z"
   },
   {
    "duration": 76,
    "start_time": "2022-09-22T20:33:33.940Z"
   },
   {
    "duration": 5,
    "start_time": "2022-09-22T20:33:34.018Z"
   },
   {
    "duration": 237,
    "start_time": "2022-09-22T20:33:34.025Z"
   },
   {
    "duration": 4,
    "start_time": "2022-09-22T20:33:34.263Z"
   },
   {
    "duration": 20,
    "start_time": "2022-09-22T20:33:34.269Z"
   },
   {
    "duration": 22,
    "start_time": "2022-09-22T20:33:34.291Z"
   },
   {
    "duration": 34,
    "start_time": "2022-09-22T20:33:34.314Z"
   },
   {
    "duration": 224,
    "start_time": "2022-09-22T20:33:34.350Z"
   },
   {
    "duration": 40,
    "start_time": "2022-09-22T20:33:34.576Z"
   },
   {
    "duration": 209,
    "start_time": "2022-09-22T20:33:34.618Z"
   },
   {
    "duration": 9,
    "start_time": "2022-09-22T20:33:34.829Z"
   },
   {
    "duration": 67,
    "start_time": "2022-09-22T20:33:34.839Z"
   },
   {
    "duration": 57,
    "start_time": "2022-09-22T20:33:34.908Z"
   },
   {
    "duration": 56,
    "start_time": "2022-09-22T20:33:34.967Z"
   },
   {
    "duration": 26,
    "start_time": "2022-09-22T20:33:35.025Z"
   },
   {
    "duration": 84,
    "start_time": "2022-09-22T20:33:35.054Z"
   },
   {
    "duration": 5,
    "start_time": "2022-09-22T20:33:35.140Z"
   },
   {
    "duration": 15,
    "start_time": "2022-09-22T20:33:35.150Z"
   },
   {
    "duration": 258,
    "start_time": "2022-09-22T20:33:35.168Z"
   },
   {
    "duration": 9,
    "start_time": "2022-09-22T20:33:35.428Z"
   },
   {
    "duration": 64,
    "start_time": "2022-09-22T20:33:35.438Z"
   },
   {
    "duration": 113,
    "start_time": "2022-09-22T20:33:35.504Z"
   },
   {
    "duration": 7,
    "start_time": "2022-09-22T20:33:35.619Z"
   },
   {
    "duration": 13,
    "start_time": "2022-09-22T20:33:35.628Z"
   },
   {
    "duration": 24,
    "start_time": "2022-09-22T20:33:35.643Z"
   },
   {
    "duration": 30,
    "start_time": "2022-09-22T20:33:35.669Z"
   },
   {
    "duration": 20,
    "start_time": "2022-09-22T20:33:35.701Z"
   },
   {
    "duration": 20,
    "start_time": "2022-09-22T20:33:35.722Z"
   },
   {
    "duration": 56,
    "start_time": "2022-09-22T20:33:35.743Z"
   },
   {
    "duration": 20,
    "start_time": "2022-09-22T20:33:35.800Z"
   },
   {
    "duration": 19,
    "start_time": "2022-09-22T20:33:35.821Z"
   },
   {
    "duration": 52,
    "start_time": "2022-09-22T20:33:35.842Z"
   },
   {
    "duration": 20,
    "start_time": "2022-09-22T20:33:35.896Z"
   },
   {
    "duration": 1136,
    "start_time": "2022-11-20T07:46:55.304Z"
   },
   {
    "duration": 510,
    "start_time": "2022-11-20T07:46:56.442Z"
   },
   {
    "duration": 16,
    "start_time": "2022-11-20T07:46:56.953Z"
   },
   {
    "duration": 5,
    "start_time": "2022-11-20T07:46:56.971Z"
   },
   {
    "duration": 28,
    "start_time": "2022-11-20T07:46:56.978Z"
   },
   {
    "duration": 89,
    "start_time": "2022-11-20T07:46:57.007Z"
   },
   {
    "duration": 79,
    "start_time": "2022-11-20T07:46:57.098Z"
   },
   {
    "duration": 5,
    "start_time": "2022-11-20T07:46:57.179Z"
   },
   {
    "duration": 249,
    "start_time": "2022-11-20T07:46:57.186Z"
   },
   {
    "duration": 4,
    "start_time": "2022-11-20T07:46:57.438Z"
   },
   {
    "duration": 20,
    "start_time": "2022-11-20T07:46:57.444Z"
   },
   {
    "duration": 23,
    "start_time": "2022-11-20T07:46:57.466Z"
   },
   {
    "duration": 32,
    "start_time": "2022-11-20T07:46:57.491Z"
   },
   {
    "duration": 283,
    "start_time": "2022-11-20T07:46:57.554Z"
   },
   {
    "duration": 44,
    "start_time": "2022-11-20T07:46:57.838Z"
   },
   {
    "duration": 202,
    "start_time": "2022-11-20T07:46:57.884Z"
   },
   {
    "duration": 8,
    "start_time": "2022-11-20T07:46:58.088Z"
   },
   {
    "duration": 61,
    "start_time": "2022-11-20T07:46:58.097Z"
   },
   {
    "duration": 47,
    "start_time": "2022-11-20T07:46:58.160Z"
   },
   {
    "duration": 53,
    "start_time": "2022-11-20T07:46:58.209Z"
   },
   {
    "duration": 27,
    "start_time": "2022-11-20T07:46:58.264Z"
   },
   {
    "duration": 77,
    "start_time": "2022-11-20T07:46:58.293Z"
   },
   {
    "duration": 5,
    "start_time": "2022-11-20T07:46:58.371Z"
   },
   {
    "duration": 12,
    "start_time": "2022-11-20T07:46:58.377Z"
   },
   {
    "duration": 184,
    "start_time": "2022-11-20T07:46:58.391Z"
   },
   {
    "duration": 171,
    "start_time": "2022-11-20T07:46:58.577Z"
   },
   {
    "duration": 127,
    "start_time": "2022-11-20T07:46:58.750Z"
   },
   {
    "duration": 155,
    "start_time": "2022-11-20T07:46:58.882Z"
   },
   {
    "duration": 6,
    "start_time": "2022-11-20T07:46:59.039Z"
   },
   {
    "duration": 11,
    "start_time": "2022-11-20T07:46:59.054Z"
   },
   {
    "duration": 21,
    "start_time": "2022-11-20T07:46:59.066Z"
   },
   {
    "duration": 18,
    "start_time": "2022-11-20T07:46:59.089Z"
   },
   {
    "duration": 55,
    "start_time": "2022-11-20T07:46:59.109Z"
   },
   {
    "duration": 24,
    "start_time": "2022-11-20T07:46:59.167Z"
   },
   {
    "duration": 24,
    "start_time": "2022-11-20T07:46:59.193Z"
   },
   {
    "duration": 55,
    "start_time": "2022-11-20T07:46:59.219Z"
   },
   {
    "duration": 22,
    "start_time": "2022-11-20T07:46:59.276Z"
   },
   {
    "duration": 21,
    "start_time": "2022-11-20T07:46:59.299Z"
   },
   {
    "duration": 23,
    "start_time": "2022-11-20T07:46:59.354Z"
   },
   {
    "duration": 8829,
    "start_time": "2023-01-11T17:45:51.937Z"
   },
   {
    "duration": 302,
    "start_time": "2023-01-11T17:46:00.769Z"
   },
   {
    "duration": 14,
    "start_time": "2023-01-11T17:46:01.073Z"
   },
   {
    "duration": 40,
    "start_time": "2023-01-11T17:46:01.090Z"
   },
   {
    "duration": 58,
    "start_time": "2023-01-11T17:46:01.131Z"
   },
   {
    "duration": 77,
    "start_time": "2023-01-11T17:46:01.191Z"
   },
   {
    "duration": 72,
    "start_time": "2023-01-11T17:46:01.269Z"
   },
   {
    "duration": 5,
    "start_time": "2023-01-11T17:46:01.342Z"
   },
   {
    "duration": 266,
    "start_time": "2023-01-11T17:46:01.348Z"
   },
   {
    "duration": 4,
    "start_time": "2023-01-11T17:46:01.617Z"
   },
   {
    "duration": 29,
    "start_time": "2023-01-11T17:46:01.622Z"
   },
   {
    "duration": 19,
    "start_time": "2023-01-11T17:46:01.652Z"
   },
   {
    "duration": 34,
    "start_time": "2023-01-11T17:46:01.672Z"
   },
   {
    "duration": 251,
    "start_time": "2023-01-11T17:46:01.708Z"
   },
   {
    "duration": 52,
    "start_time": "2023-01-11T17:46:01.961Z"
   },
   {
    "duration": 174,
    "start_time": "2023-01-11T17:46:02.016Z"
   },
   {
    "duration": 15,
    "start_time": "2023-01-11T17:46:02.191Z"
   },
   {
    "duration": 52,
    "start_time": "2023-01-11T17:46:02.208Z"
   },
   {
    "duration": 52,
    "start_time": "2023-01-11T17:46:02.262Z"
   },
   {
    "duration": 32,
    "start_time": "2023-01-11T17:46:02.316Z"
   },
   {
    "duration": 29,
    "start_time": "2023-01-11T17:46:02.350Z"
   },
   {
    "duration": 82,
    "start_time": "2023-01-11T17:46:02.381Z"
   },
   {
    "duration": 4,
    "start_time": "2023-01-11T17:46:02.464Z"
   },
   {
    "duration": 37,
    "start_time": "2023-01-11T17:46:02.470Z"
   },
   {
    "duration": 149,
    "start_time": "2023-01-11T17:46:02.509Z"
   },
   {
    "duration": 777,
    "start_time": "2023-01-11T17:46:02.660Z"
   },
   {
    "duration": 79,
    "start_time": "2023-01-11T17:46:03.439Z"
   },
   {
    "duration": 100,
    "start_time": "2023-01-11T17:46:03.521Z"
   },
   {
    "duration": 6,
    "start_time": "2023-01-11T17:46:03.622Z"
   },
   {
    "duration": 17,
    "start_time": "2023-01-11T17:46:03.630Z"
   },
   {
    "duration": 21,
    "start_time": "2023-01-11T17:46:03.648Z"
   },
   {
    "duration": 37,
    "start_time": "2023-01-11T17:46:03.670Z"
   },
   {
    "duration": 17,
    "start_time": "2023-01-11T17:46:03.709Z"
   },
   {
    "duration": 30,
    "start_time": "2023-01-11T17:46:03.727Z"
   },
   {
    "duration": 28,
    "start_time": "2023-01-11T17:46:03.758Z"
   },
   {
    "duration": 22,
    "start_time": "2023-01-11T17:46:03.787Z"
   },
   {
    "duration": 21,
    "start_time": "2023-01-11T17:46:03.812Z"
   },
   {
    "duration": 21,
    "start_time": "2023-01-11T17:46:03.834Z"
   },
   {
    "duration": 45,
    "start_time": "2023-01-11T17:46:03.856Z"
   }
  ],
  "kernelspec": {
   "display_name": "Python 3 (ipykernel)",
   "language": "python",
   "name": "python3"
  },
  "language_info": {
   "codemirror_mode": {
    "name": "ipython",
    "version": 3
   },
   "file_extension": ".py",
   "mimetype": "text/x-python",
   "name": "python",
   "nbconvert_exporter": "python",
   "pygments_lexer": "ipython3",
   "version": "3.9.5"
  },
  "toc": {
   "base_numbering": 1,
   "nav_menu": {},
   "number_sections": true,
   "sideBar": true,
   "skip_h1_title": true,
   "title_cell": "Table of Contents",
   "title_sidebar": "Contents",
   "toc_cell": false,
   "toc_position": {},
   "toc_section_display": true,
   "toc_window_display": false
  }
 },
 "nbformat": 4,
 "nbformat_minor": 2
}
