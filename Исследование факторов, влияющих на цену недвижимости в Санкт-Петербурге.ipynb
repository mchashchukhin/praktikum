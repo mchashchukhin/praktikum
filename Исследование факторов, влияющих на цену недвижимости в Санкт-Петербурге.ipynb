{
 "cells": [
  {
   "cell_type": "markdown",
   "metadata": {},
   "source": [
    "**Михаил, привет!**\n",
    "\n",
    "Меня зовут Артемьева Саша, я буду проверять твой проект. Приятно познакомиться, хоть и заочно:)\n",
    "    \n",
    "Предлагаю общаться на «ты» :) Но если это не удобно - дай знать, и мы перейдем на \"вы\". \n",
    "\n",
    "Моя основная цель — не указать на совершенные тобою ошибки, а поделиться своим опытом и помочь тебе стать аналитиком данных. Ты уже проделал большую работу над проектом, но давай сделаем его еще лучше. Ниже ты найдешь мои комментарии - пожалуйста, не перемещай, не изменяй и не удаляй их. Я буду использовать цветовую разметку:\n",
    "\n",
    "<div class=\"alert alert-danger\">\n",
    "<b>❌ Комментарий ревьюера:</b> Так выделены самые важные замечания. Без их отработки проект не будет принят. </div>\n",
    "\n",
    "<div class=\"alert alert-warning\">\n",
    "<b>⚠️ Комментарий ревьюера:</b> Так выделены небольшие замечания. Одно-два таких замечания в проекте допустимы, но если их будет больше - тебе будет необходимо внести исправления. Это как тестовое задание при приеме на работу: очень много мелких ошибок могут стать причиной отказа кандидату. \n",
    "\n",
    "</div>\n",
    "\n",
    "<div class=\"alert alert-success\">\n",
    "<b>✔️ Комментарий ревьюера:</b> Так я выделяю все остальные комментарии.</div>\n",
    "\n",
    "Давай работать над проектом в диалоге: если ты что-то меняешь в проекте или отвечаешь на мои комменатри — пиши об этом. Мне будет легче отследить изменения, если ты выделишь свои комментарии:\n",
    "<div class=\"alert alert-info\"> <b>Комментарий студента:</b> Например, вот так.</div>\n",
    "\n",
    "Всё это поможет выполнить повторную проверку твоего проекта оперативнее. \n"
   ]
  },
  {
   "cell_type": "markdown",
   "metadata": {},
   "source": [
    "<div class=\"alert alert-info\"> <b>Комментарий студента:</b> Привет, Саша! Приятно познакомиться, взаимно (=.</div>"
   ]
  },
  {
   "cell_type": "markdown",
   "metadata": {},
   "source": [
    "# Исследование объявлений о продаже квартир\n",
    "\n",
    "В вашем распоряжении данные сервиса Яндекс.Недвижимость — архив объявлений о продаже квартир в Санкт-Петербурге и соседних населённых пунктов за несколько лет. Нужно научиться определять рыночную стоимость объектов недвижимости. Ваша задача — установить параметры. Это позволит построить автоматизированную систему: она отследит аномалии и мошенническую деятельность. \n",
    "\n",
    "По каждой квартире на продажу доступны два вида данных. Первые вписаны пользователем, вторые — получены автоматически на основе картографических данных. Например, расстояние до центра, аэропорта, ближайшего парка и водоёма. "
   ]
  },
  {
   "cell_type": "markdown",
   "metadata": {},
   "source": [
    "<div class=\"alert alert-warning\">\n",
    "<b>⚠️ Комментарий ревьюера:</b> Молодец, что задал шапку профиля! Еще в ней стоит написать шаги исследования и цели, которые мы должны достигнуть в финале работы"
   ]
  },
  {
   "cell_type": "markdown",
   "metadata": {},
   "source": [
    "Задача проекта — выполнить предобработку данных и изучить их, найти особенности и зависимости, которые существуют на рынке недвижимости. Для этого выполнить шаги:"
   ]
  },
  {
   "cell_type": "markdown",
   "metadata": {},
   "source": [
    "**Шаг 1. Открыть файл с данными и изучить общую информацию**\n",
    "\n",
    "**Шаг 2. Предобработка данных**\n",
    "\n",
    "**Шаг 3. Добавить в таблицу новые столбцы с параметрами по заданию**\n",
    "\n",
    "**Шаг 4. Провести исследовательский анализ данных**\n",
    "\n",
    "**Шаг 5. Сделать общий вывод**"
   ]
  },
  {
   "cell_type": "markdown",
   "metadata": {},
   "source": [
    "<div class=\"alert alert-success\">\n",
    "<b>✔️ Комментарий ревьюера V2:</b> Отлично!"
   ]
  },
  {
   "cell_type": "markdown",
   "metadata": {},
   "source": [
    "### Откройте файл с данными и изучите общую информацию. "
   ]
  },
  {
   "cell_type": "code",
   "execution_count": 1,
   "metadata": {},
   "outputs": [],
   "source": [
    "import pandas as pd\n",
    "\n",
    "import seaborn as sns\n",
    "\n",
    "import matplotlib.pyplot as plt\n",
    "\n",
    "import warnings\n",
    "warnings.filterwarnings('ignore')\n",
    "\n",
    "pd.set_option('display.max_columns', 30)"
   ]
  },
  {
   "cell_type": "code",
   "execution_count": 2,
   "metadata": {},
   "outputs": [],
   "source": [
    "#прочитаем файл с данными и сохраним в переменную\n",
    "\n",
    "data = pd.read_csv('/datasets/real_estate_data.csv', sep='\\t')"
   ]
  },
  {
   "cell_type": "code",
   "execution_count": 3,
   "metadata": {},
   "outputs": [
    {
     "name": "stdout",
     "output_type": "stream",
     "text": [
      "<class 'pandas.core.frame.DataFrame'>\n",
      "RangeIndex: 23699 entries, 0 to 23698\n",
      "Data columns (total 22 columns):\n",
      " #   Column                Non-Null Count  Dtype  \n",
      "---  ------                --------------  -----  \n",
      " 0   total_images          23699 non-null  int64  \n",
      " 1   last_price            23699 non-null  float64\n",
      " 2   total_area            23699 non-null  float64\n",
      " 3   first_day_exposition  23699 non-null  object \n",
      " 4   rooms                 23699 non-null  int64  \n",
      " 5   ceiling_height        14504 non-null  float64\n",
      " 6   floors_total          23613 non-null  float64\n",
      " 7   living_area           21796 non-null  float64\n",
      " 8   floor                 23699 non-null  int64  \n",
      " 9   is_apartment          2775 non-null   object \n",
      " 10  studio                23699 non-null  bool   \n",
      " 11  open_plan             23699 non-null  bool   \n",
      " 12  kitchen_area          21421 non-null  float64\n",
      " 13  balcony               12180 non-null  float64\n",
      " 14  locality_name         23650 non-null  object \n",
      " 15  airports_nearest      18157 non-null  float64\n",
      " 16  cityCenters_nearest   18180 non-null  float64\n",
      " 17  parks_around3000      18181 non-null  float64\n",
      " 18  parks_nearest         8079 non-null   float64\n",
      " 19  ponds_around3000      18181 non-null  float64\n",
      " 20  ponds_nearest         9110 non-null   float64\n",
      " 21  days_exposition       20518 non-null  float64\n",
      "dtypes: bool(2), float64(14), int64(3), object(3)\n",
      "memory usage: 3.7+ MB\n"
     ]
    }
   ],
   "source": [
    "#осмотрим общую информацию о датафрейме\n",
    "\n",
    "data.info()"
   ]
  },
  {
   "cell_type": "markdown",
   "metadata": {},
   "source": [
    "**Описание данных:**"
   ]
  },
  {
   "cell_type": "markdown",
   "metadata": {},
   "source": [
    "* airports_nearest — расстояние до ближайшего аэропорта в метрах (м)\n",
    "\n",
    "* balcony — число балконов\n",
    "\n",
    "* ceiling_height — высота потолков (м)\n",
    "\n",
    "* cityCenters_nearest — расстояние до центра города (м)\n",
    "\n",
    "* days_exposition — сколько дней было размещено объявление (от публикации до снятия)\n",
    "\n",
    "* first_day_exposition — дата публикации\n",
    "\n",
    "* floor — этаж\n",
    "\n",
    "* floors_total — всего этажей в доме\n",
    "\n",
    "* is_apartment — апартаменты (булев тип)\n",
    "\n",
    "* kitchen_area — площадь кухни в квадратных метрах (м²)\n",
    "\n",
    "* last_price — цена на момент снятия с публикации\n",
    "\n",
    "* living_area — жилая площадь в квадратных метрах (м²)\n",
    "\n",
    "* locality_name — название населённого пункта\n",
    "\n",
    "* open_plan — свободная планировка (булев тип)\n",
    "\n",
    "* parks_around3000 — число парков в радиусе 3 км\n",
    "\n",
    "* parks_nearest — расстояние до ближайшего парка (м)\n",
    "\n",
    "* ponds_around3000 — число водоёмов в радиусе 3 км\n",
    "\n",
    "* ponds_nearest — расстояние до ближайшего водоёма (м)\n",
    "\n",
    "* rooms — число комнат\n",
    "\n",
    "* studio — квартира-студия (булев тип)\n",
    "\n",
    "* total_area — общая площадь квартиры в квадратных метрах (м²)\n",
    "\n",
    "* total_images — число фотографий квартиры в объявлении"
   ]
  },
  {
   "cell_type": "code",
   "execution_count": 4,
   "metadata": {},
   "outputs": [
    {
     "data": {
      "text/html": [
       "<div>\n",
       "<style scoped>\n",
       "    .dataframe tbody tr th:only-of-type {\n",
       "        vertical-align: middle;\n",
       "    }\n",
       "\n",
       "    .dataframe tbody tr th {\n",
       "        vertical-align: top;\n",
       "    }\n",
       "\n",
       "    .dataframe thead th {\n",
       "        text-align: right;\n",
       "    }\n",
       "</style>\n",
       "<table border=\"1\" class=\"dataframe\">\n",
       "  <thead>\n",
       "    <tr style=\"text-align: right;\">\n",
       "      <th></th>\n",
       "      <th>total_images</th>\n",
       "      <th>last_price</th>\n",
       "      <th>total_area</th>\n",
       "      <th>first_day_exposition</th>\n",
       "      <th>rooms</th>\n",
       "      <th>ceiling_height</th>\n",
       "      <th>floors_total</th>\n",
       "      <th>living_area</th>\n",
       "      <th>floor</th>\n",
       "      <th>is_apartment</th>\n",
       "      <th>studio</th>\n",
       "      <th>open_plan</th>\n",
       "      <th>kitchen_area</th>\n",
       "      <th>balcony</th>\n",
       "      <th>locality_name</th>\n",
       "      <th>airports_nearest</th>\n",
       "      <th>cityCenters_nearest</th>\n",
       "      <th>parks_around3000</th>\n",
       "      <th>parks_nearest</th>\n",
       "      <th>ponds_around3000</th>\n",
       "      <th>ponds_nearest</th>\n",
       "      <th>days_exposition</th>\n",
       "    </tr>\n",
       "  </thead>\n",
       "  <tbody>\n",
       "    <tr>\n",
       "      <th>0</th>\n",
       "      <td>20</td>\n",
       "      <td>13000000.0</td>\n",
       "      <td>108.00</td>\n",
       "      <td>2019-03-07T00:00:00</td>\n",
       "      <td>3</td>\n",
       "      <td>2.70</td>\n",
       "      <td>16.0</td>\n",
       "      <td>51.00</td>\n",
       "      <td>8</td>\n",
       "      <td>NaN</td>\n",
       "      <td>False</td>\n",
       "      <td>False</td>\n",
       "      <td>25.00</td>\n",
       "      <td>NaN</td>\n",
       "      <td>Санкт-Петербург</td>\n",
       "      <td>18863.0</td>\n",
       "      <td>16028.0</td>\n",
       "      <td>1.0</td>\n",
       "      <td>482.0</td>\n",
       "      <td>2.0</td>\n",
       "      <td>755.0</td>\n",
       "      <td>NaN</td>\n",
       "    </tr>\n",
       "    <tr>\n",
       "      <th>1</th>\n",
       "      <td>7</td>\n",
       "      <td>3350000.0</td>\n",
       "      <td>40.40</td>\n",
       "      <td>2018-12-04T00:00:00</td>\n",
       "      <td>1</td>\n",
       "      <td>NaN</td>\n",
       "      <td>11.0</td>\n",
       "      <td>18.60</td>\n",
       "      <td>1</td>\n",
       "      <td>NaN</td>\n",
       "      <td>False</td>\n",
       "      <td>False</td>\n",
       "      <td>11.00</td>\n",
       "      <td>2.0</td>\n",
       "      <td>посёлок Шушары</td>\n",
       "      <td>12817.0</td>\n",
       "      <td>18603.0</td>\n",
       "      <td>0.0</td>\n",
       "      <td>NaN</td>\n",
       "      <td>0.0</td>\n",
       "      <td>NaN</td>\n",
       "      <td>81.0</td>\n",
       "    </tr>\n",
       "    <tr>\n",
       "      <th>2</th>\n",
       "      <td>10</td>\n",
       "      <td>5196000.0</td>\n",
       "      <td>56.00</td>\n",
       "      <td>2015-08-20T00:00:00</td>\n",
       "      <td>2</td>\n",
       "      <td>NaN</td>\n",
       "      <td>5.0</td>\n",
       "      <td>34.30</td>\n",
       "      <td>4</td>\n",
       "      <td>NaN</td>\n",
       "      <td>False</td>\n",
       "      <td>False</td>\n",
       "      <td>8.30</td>\n",
       "      <td>0.0</td>\n",
       "      <td>Санкт-Петербург</td>\n",
       "      <td>21741.0</td>\n",
       "      <td>13933.0</td>\n",
       "      <td>1.0</td>\n",
       "      <td>90.0</td>\n",
       "      <td>2.0</td>\n",
       "      <td>574.0</td>\n",
       "      <td>558.0</td>\n",
       "    </tr>\n",
       "    <tr>\n",
       "      <th>3</th>\n",
       "      <td>0</td>\n",
       "      <td>64900000.0</td>\n",
       "      <td>159.00</td>\n",
       "      <td>2015-07-24T00:00:00</td>\n",
       "      <td>3</td>\n",
       "      <td>NaN</td>\n",
       "      <td>14.0</td>\n",
       "      <td>NaN</td>\n",
       "      <td>9</td>\n",
       "      <td>NaN</td>\n",
       "      <td>False</td>\n",
       "      <td>False</td>\n",
       "      <td>NaN</td>\n",
       "      <td>0.0</td>\n",
       "      <td>Санкт-Петербург</td>\n",
       "      <td>28098.0</td>\n",
       "      <td>6800.0</td>\n",
       "      <td>2.0</td>\n",
       "      <td>84.0</td>\n",
       "      <td>3.0</td>\n",
       "      <td>234.0</td>\n",
       "      <td>424.0</td>\n",
       "    </tr>\n",
       "    <tr>\n",
       "      <th>4</th>\n",
       "      <td>2</td>\n",
       "      <td>10000000.0</td>\n",
       "      <td>100.00</td>\n",
       "      <td>2018-06-19T00:00:00</td>\n",
       "      <td>2</td>\n",
       "      <td>3.03</td>\n",
       "      <td>14.0</td>\n",
       "      <td>32.00</td>\n",
       "      <td>13</td>\n",
       "      <td>NaN</td>\n",
       "      <td>False</td>\n",
       "      <td>False</td>\n",
       "      <td>41.00</td>\n",
       "      <td>NaN</td>\n",
       "      <td>Санкт-Петербург</td>\n",
       "      <td>31856.0</td>\n",
       "      <td>8098.0</td>\n",
       "      <td>2.0</td>\n",
       "      <td>112.0</td>\n",
       "      <td>1.0</td>\n",
       "      <td>48.0</td>\n",
       "      <td>121.0</td>\n",
       "    </tr>\n",
       "    <tr>\n",
       "      <th>5</th>\n",
       "      <td>10</td>\n",
       "      <td>2890000.0</td>\n",
       "      <td>30.40</td>\n",
       "      <td>2018-09-10T00:00:00</td>\n",
       "      <td>1</td>\n",
       "      <td>NaN</td>\n",
       "      <td>12.0</td>\n",
       "      <td>14.40</td>\n",
       "      <td>5</td>\n",
       "      <td>NaN</td>\n",
       "      <td>False</td>\n",
       "      <td>False</td>\n",
       "      <td>9.10</td>\n",
       "      <td>NaN</td>\n",
       "      <td>городской посёлок Янино-1</td>\n",
       "      <td>NaN</td>\n",
       "      <td>NaN</td>\n",
       "      <td>NaN</td>\n",
       "      <td>NaN</td>\n",
       "      <td>NaN</td>\n",
       "      <td>NaN</td>\n",
       "      <td>55.0</td>\n",
       "    </tr>\n",
       "    <tr>\n",
       "      <th>6</th>\n",
       "      <td>6</td>\n",
       "      <td>3700000.0</td>\n",
       "      <td>37.30</td>\n",
       "      <td>2017-11-02T00:00:00</td>\n",
       "      <td>1</td>\n",
       "      <td>NaN</td>\n",
       "      <td>26.0</td>\n",
       "      <td>10.60</td>\n",
       "      <td>6</td>\n",
       "      <td>NaN</td>\n",
       "      <td>False</td>\n",
       "      <td>False</td>\n",
       "      <td>14.40</td>\n",
       "      <td>1.0</td>\n",
       "      <td>посёлок Парголово</td>\n",
       "      <td>52996.0</td>\n",
       "      <td>19143.0</td>\n",
       "      <td>0.0</td>\n",
       "      <td>NaN</td>\n",
       "      <td>0.0</td>\n",
       "      <td>NaN</td>\n",
       "      <td>155.0</td>\n",
       "    </tr>\n",
       "    <tr>\n",
       "      <th>7</th>\n",
       "      <td>5</td>\n",
       "      <td>7915000.0</td>\n",
       "      <td>71.60</td>\n",
       "      <td>2019-04-18T00:00:00</td>\n",
       "      <td>2</td>\n",
       "      <td>NaN</td>\n",
       "      <td>24.0</td>\n",
       "      <td>NaN</td>\n",
       "      <td>22</td>\n",
       "      <td>NaN</td>\n",
       "      <td>False</td>\n",
       "      <td>False</td>\n",
       "      <td>18.90</td>\n",
       "      <td>2.0</td>\n",
       "      <td>Санкт-Петербург</td>\n",
       "      <td>23982.0</td>\n",
       "      <td>11634.0</td>\n",
       "      <td>0.0</td>\n",
       "      <td>NaN</td>\n",
       "      <td>0.0</td>\n",
       "      <td>NaN</td>\n",
       "      <td>NaN</td>\n",
       "    </tr>\n",
       "    <tr>\n",
       "      <th>8</th>\n",
       "      <td>20</td>\n",
       "      <td>2900000.0</td>\n",
       "      <td>33.16</td>\n",
       "      <td>2018-05-23T00:00:00</td>\n",
       "      <td>1</td>\n",
       "      <td>NaN</td>\n",
       "      <td>27.0</td>\n",
       "      <td>15.43</td>\n",
       "      <td>26</td>\n",
       "      <td>NaN</td>\n",
       "      <td>False</td>\n",
       "      <td>False</td>\n",
       "      <td>8.81</td>\n",
       "      <td>NaN</td>\n",
       "      <td>посёлок Мурино</td>\n",
       "      <td>NaN</td>\n",
       "      <td>NaN</td>\n",
       "      <td>NaN</td>\n",
       "      <td>NaN</td>\n",
       "      <td>NaN</td>\n",
       "      <td>NaN</td>\n",
       "      <td>189.0</td>\n",
       "    </tr>\n",
       "    <tr>\n",
       "      <th>9</th>\n",
       "      <td>18</td>\n",
       "      <td>5400000.0</td>\n",
       "      <td>61.00</td>\n",
       "      <td>2017-02-26T00:00:00</td>\n",
       "      <td>3</td>\n",
       "      <td>2.50</td>\n",
       "      <td>9.0</td>\n",
       "      <td>43.60</td>\n",
       "      <td>7</td>\n",
       "      <td>NaN</td>\n",
       "      <td>False</td>\n",
       "      <td>False</td>\n",
       "      <td>6.50</td>\n",
       "      <td>2.0</td>\n",
       "      <td>Санкт-Петербург</td>\n",
       "      <td>50898.0</td>\n",
       "      <td>15008.0</td>\n",
       "      <td>0.0</td>\n",
       "      <td>NaN</td>\n",
       "      <td>0.0</td>\n",
       "      <td>NaN</td>\n",
       "      <td>289.0</td>\n",
       "    </tr>\n",
       "    <tr>\n",
       "      <th>10</th>\n",
       "      <td>5</td>\n",
       "      <td>5050000.0</td>\n",
       "      <td>39.60</td>\n",
       "      <td>2017-11-16T00:00:00</td>\n",
       "      <td>1</td>\n",
       "      <td>2.67</td>\n",
       "      <td>12.0</td>\n",
       "      <td>20.30</td>\n",
       "      <td>3</td>\n",
       "      <td>NaN</td>\n",
       "      <td>False</td>\n",
       "      <td>False</td>\n",
       "      <td>8.50</td>\n",
       "      <td>NaN</td>\n",
       "      <td>Санкт-Петербург</td>\n",
       "      <td>38357.0</td>\n",
       "      <td>13878.0</td>\n",
       "      <td>1.0</td>\n",
       "      <td>310.0</td>\n",
       "      <td>2.0</td>\n",
       "      <td>553.0</td>\n",
       "      <td>137.0</td>\n",
       "    </tr>\n",
       "    <tr>\n",
       "      <th>11</th>\n",
       "      <td>9</td>\n",
       "      <td>3300000.0</td>\n",
       "      <td>44.00</td>\n",
       "      <td>2018-08-27T00:00:00</td>\n",
       "      <td>2</td>\n",
       "      <td>NaN</td>\n",
       "      <td>5.0</td>\n",
       "      <td>31.00</td>\n",
       "      <td>4</td>\n",
       "      <td>False</td>\n",
       "      <td>False</td>\n",
       "      <td>False</td>\n",
       "      <td>6.00</td>\n",
       "      <td>1.0</td>\n",
       "      <td>Ломоносов</td>\n",
       "      <td>48252.0</td>\n",
       "      <td>51677.0</td>\n",
       "      <td>0.0</td>\n",
       "      <td>NaN</td>\n",
       "      <td>0.0</td>\n",
       "      <td>NaN</td>\n",
       "      <td>7.0</td>\n",
       "    </tr>\n",
       "    <tr>\n",
       "      <th>12</th>\n",
       "      <td>10</td>\n",
       "      <td>3890000.0</td>\n",
       "      <td>54.00</td>\n",
       "      <td>2016-06-30T00:00:00</td>\n",
       "      <td>2</td>\n",
       "      <td>NaN</td>\n",
       "      <td>5.0</td>\n",
       "      <td>30.00</td>\n",
       "      <td>5</td>\n",
       "      <td>NaN</td>\n",
       "      <td>False</td>\n",
       "      <td>False</td>\n",
       "      <td>9.00</td>\n",
       "      <td>0.0</td>\n",
       "      <td>Сертолово</td>\n",
       "      <td>NaN</td>\n",
       "      <td>NaN</td>\n",
       "      <td>NaN</td>\n",
       "      <td>NaN</td>\n",
       "      <td>NaN</td>\n",
       "      <td>NaN</td>\n",
       "      <td>90.0</td>\n",
       "    </tr>\n",
       "    <tr>\n",
       "      <th>13</th>\n",
       "      <td>20</td>\n",
       "      <td>3550000.0</td>\n",
       "      <td>42.80</td>\n",
       "      <td>2017-07-01T00:00:00</td>\n",
       "      <td>2</td>\n",
       "      <td>2.56</td>\n",
       "      <td>5.0</td>\n",
       "      <td>27.00</td>\n",
       "      <td>5</td>\n",
       "      <td>NaN</td>\n",
       "      <td>False</td>\n",
       "      <td>False</td>\n",
       "      <td>5.20</td>\n",
       "      <td>1.0</td>\n",
       "      <td>Петергоф</td>\n",
       "      <td>37868.0</td>\n",
       "      <td>33058.0</td>\n",
       "      <td>1.0</td>\n",
       "      <td>294.0</td>\n",
       "      <td>3.0</td>\n",
       "      <td>298.0</td>\n",
       "      <td>366.0</td>\n",
       "    </tr>\n",
       "    <tr>\n",
       "      <th>14</th>\n",
       "      <td>1</td>\n",
       "      <td>4400000.0</td>\n",
       "      <td>36.00</td>\n",
       "      <td>2016-06-23T00:00:00</td>\n",
       "      <td>1</td>\n",
       "      <td>NaN</td>\n",
       "      <td>6.0</td>\n",
       "      <td>17.00</td>\n",
       "      <td>1</td>\n",
       "      <td>NaN</td>\n",
       "      <td>False</td>\n",
       "      <td>False</td>\n",
       "      <td>8.00</td>\n",
       "      <td>0.0</td>\n",
       "      <td>Пушкин</td>\n",
       "      <td>20782.0</td>\n",
       "      <td>30759.0</td>\n",
       "      <td>0.0</td>\n",
       "      <td>NaN</td>\n",
       "      <td>1.0</td>\n",
       "      <td>96.0</td>\n",
       "      <td>203.0</td>\n",
       "    </tr>\n",
       "    <tr>\n",
       "      <th>15</th>\n",
       "      <td>16</td>\n",
       "      <td>4650000.0</td>\n",
       "      <td>39.00</td>\n",
       "      <td>2017-11-18T00:00:00</td>\n",
       "      <td>1</td>\n",
       "      <td>NaN</td>\n",
       "      <td>14.0</td>\n",
       "      <td>20.50</td>\n",
       "      <td>5</td>\n",
       "      <td>NaN</td>\n",
       "      <td>False</td>\n",
       "      <td>False</td>\n",
       "      <td>7.60</td>\n",
       "      <td>1.0</td>\n",
       "      <td>Санкт-Петербург</td>\n",
       "      <td>12900.0</td>\n",
       "      <td>14259.0</td>\n",
       "      <td>1.0</td>\n",
       "      <td>590.0</td>\n",
       "      <td>1.0</td>\n",
       "      <td>296.0</td>\n",
       "      <td>19.0</td>\n",
       "    </tr>\n",
       "    <tr>\n",
       "      <th>16</th>\n",
       "      <td>11</td>\n",
       "      <td>6700000.0</td>\n",
       "      <td>82.00</td>\n",
       "      <td>2017-11-23T00:00:00</td>\n",
       "      <td>3</td>\n",
       "      <td>3.05</td>\n",
       "      <td>5.0</td>\n",
       "      <td>55.60</td>\n",
       "      <td>1</td>\n",
       "      <td>NaN</td>\n",
       "      <td>False</td>\n",
       "      <td>False</td>\n",
       "      <td>9.00</td>\n",
       "      <td>NaN</td>\n",
       "      <td>Санкт-Петербург</td>\n",
       "      <td>22108.0</td>\n",
       "      <td>10698.0</td>\n",
       "      <td>3.0</td>\n",
       "      <td>420.0</td>\n",
       "      <td>0.0</td>\n",
       "      <td>NaN</td>\n",
       "      <td>397.0</td>\n",
       "    </tr>\n",
       "    <tr>\n",
       "      <th>17</th>\n",
       "      <td>6</td>\n",
       "      <td>4180000.0</td>\n",
       "      <td>36.00</td>\n",
       "      <td>2016-09-09T00:00:00</td>\n",
       "      <td>1</td>\n",
       "      <td>NaN</td>\n",
       "      <td>17.0</td>\n",
       "      <td>16.50</td>\n",
       "      <td>7</td>\n",
       "      <td>NaN</td>\n",
       "      <td>False</td>\n",
       "      <td>False</td>\n",
       "      <td>11.00</td>\n",
       "      <td>1.0</td>\n",
       "      <td>Санкт-Петербург</td>\n",
       "      <td>33564.0</td>\n",
       "      <td>14616.0</td>\n",
       "      <td>0.0</td>\n",
       "      <td>NaN</td>\n",
       "      <td>1.0</td>\n",
       "      <td>859.0</td>\n",
       "      <td>571.0</td>\n",
       "    </tr>\n",
       "    <tr>\n",
       "      <th>18</th>\n",
       "      <td>8</td>\n",
       "      <td>3250000.0</td>\n",
       "      <td>31.00</td>\n",
       "      <td>2017-01-27T00:00:00</td>\n",
       "      <td>1</td>\n",
       "      <td>2.50</td>\n",
       "      <td>5.0</td>\n",
       "      <td>19.40</td>\n",
       "      <td>2</td>\n",
       "      <td>NaN</td>\n",
       "      <td>False</td>\n",
       "      <td>False</td>\n",
       "      <td>5.60</td>\n",
       "      <td>1.0</td>\n",
       "      <td>Санкт-Петербург</td>\n",
       "      <td>44060.0</td>\n",
       "      <td>10842.0</td>\n",
       "      <td>1.0</td>\n",
       "      <td>759.0</td>\n",
       "      <td>0.0</td>\n",
       "      <td>NaN</td>\n",
       "      <td>168.0</td>\n",
       "    </tr>\n",
       "    <tr>\n",
       "      <th>19</th>\n",
       "      <td>16</td>\n",
       "      <td>14200000.0</td>\n",
       "      <td>121.00</td>\n",
       "      <td>2019-01-09T00:00:00</td>\n",
       "      <td>3</td>\n",
       "      <td>2.75</td>\n",
       "      <td>16.0</td>\n",
       "      <td>76.00</td>\n",
       "      <td>8</td>\n",
       "      <td>NaN</td>\n",
       "      <td>False</td>\n",
       "      <td>False</td>\n",
       "      <td>12.00</td>\n",
       "      <td>NaN</td>\n",
       "      <td>Санкт-Петербург</td>\n",
       "      <td>38900.0</td>\n",
       "      <td>12843.0</td>\n",
       "      <td>0.0</td>\n",
       "      <td>NaN</td>\n",
       "      <td>0.0</td>\n",
       "      <td>NaN</td>\n",
       "      <td>97.0</td>\n",
       "    </tr>\n",
       "  </tbody>\n",
       "</table>\n",
       "</div>"
      ],
      "text/plain": [
       "    total_images  last_price  total_area first_day_exposition  rooms  \\\n",
       "0             20  13000000.0      108.00  2019-03-07T00:00:00      3   \n",
       "1              7   3350000.0       40.40  2018-12-04T00:00:00      1   \n",
       "2             10   5196000.0       56.00  2015-08-20T00:00:00      2   \n",
       "3              0  64900000.0      159.00  2015-07-24T00:00:00      3   \n",
       "4              2  10000000.0      100.00  2018-06-19T00:00:00      2   \n",
       "5             10   2890000.0       30.40  2018-09-10T00:00:00      1   \n",
       "6              6   3700000.0       37.30  2017-11-02T00:00:00      1   \n",
       "7              5   7915000.0       71.60  2019-04-18T00:00:00      2   \n",
       "8             20   2900000.0       33.16  2018-05-23T00:00:00      1   \n",
       "9             18   5400000.0       61.00  2017-02-26T00:00:00      3   \n",
       "10             5   5050000.0       39.60  2017-11-16T00:00:00      1   \n",
       "11             9   3300000.0       44.00  2018-08-27T00:00:00      2   \n",
       "12            10   3890000.0       54.00  2016-06-30T00:00:00      2   \n",
       "13            20   3550000.0       42.80  2017-07-01T00:00:00      2   \n",
       "14             1   4400000.0       36.00  2016-06-23T00:00:00      1   \n",
       "15            16   4650000.0       39.00  2017-11-18T00:00:00      1   \n",
       "16            11   6700000.0       82.00  2017-11-23T00:00:00      3   \n",
       "17             6   4180000.0       36.00  2016-09-09T00:00:00      1   \n",
       "18             8   3250000.0       31.00  2017-01-27T00:00:00      1   \n",
       "19            16  14200000.0      121.00  2019-01-09T00:00:00      3   \n",
       "\n",
       "    ceiling_height  floors_total  living_area  floor is_apartment  studio  \\\n",
       "0             2.70          16.0        51.00      8          NaN   False   \n",
       "1              NaN          11.0        18.60      1          NaN   False   \n",
       "2              NaN           5.0        34.30      4          NaN   False   \n",
       "3              NaN          14.0          NaN      9          NaN   False   \n",
       "4             3.03          14.0        32.00     13          NaN   False   \n",
       "5              NaN          12.0        14.40      5          NaN   False   \n",
       "6              NaN          26.0        10.60      6          NaN   False   \n",
       "7              NaN          24.0          NaN     22          NaN   False   \n",
       "8              NaN          27.0        15.43     26          NaN   False   \n",
       "9             2.50           9.0        43.60      7          NaN   False   \n",
       "10            2.67          12.0        20.30      3          NaN   False   \n",
       "11             NaN           5.0        31.00      4        False   False   \n",
       "12             NaN           5.0        30.00      5          NaN   False   \n",
       "13            2.56           5.0        27.00      5          NaN   False   \n",
       "14             NaN           6.0        17.00      1          NaN   False   \n",
       "15             NaN          14.0        20.50      5          NaN   False   \n",
       "16            3.05           5.0        55.60      1          NaN   False   \n",
       "17             NaN          17.0        16.50      7          NaN   False   \n",
       "18            2.50           5.0        19.40      2          NaN   False   \n",
       "19            2.75          16.0        76.00      8          NaN   False   \n",
       "\n",
       "    open_plan  kitchen_area  balcony              locality_name  \\\n",
       "0       False         25.00      NaN            Санкт-Петербург   \n",
       "1       False         11.00      2.0             посёлок Шушары   \n",
       "2       False          8.30      0.0            Санкт-Петербург   \n",
       "3       False           NaN      0.0            Санкт-Петербург   \n",
       "4       False         41.00      NaN            Санкт-Петербург   \n",
       "5       False          9.10      NaN  городской посёлок Янино-1   \n",
       "6       False         14.40      1.0          посёлок Парголово   \n",
       "7       False         18.90      2.0            Санкт-Петербург   \n",
       "8       False          8.81      NaN             посёлок Мурино   \n",
       "9       False          6.50      2.0            Санкт-Петербург   \n",
       "10      False          8.50      NaN            Санкт-Петербург   \n",
       "11      False          6.00      1.0                  Ломоносов   \n",
       "12      False          9.00      0.0                  Сертолово   \n",
       "13      False          5.20      1.0                   Петергоф   \n",
       "14      False          8.00      0.0                     Пушкин   \n",
       "15      False          7.60      1.0            Санкт-Петербург   \n",
       "16      False          9.00      NaN            Санкт-Петербург   \n",
       "17      False         11.00      1.0            Санкт-Петербург   \n",
       "18      False          5.60      1.0            Санкт-Петербург   \n",
       "19      False         12.00      NaN            Санкт-Петербург   \n",
       "\n",
       "    airports_nearest  cityCenters_nearest  parks_around3000  parks_nearest  \\\n",
       "0            18863.0              16028.0               1.0          482.0   \n",
       "1            12817.0              18603.0               0.0            NaN   \n",
       "2            21741.0              13933.0               1.0           90.0   \n",
       "3            28098.0               6800.0               2.0           84.0   \n",
       "4            31856.0               8098.0               2.0          112.0   \n",
       "5                NaN                  NaN               NaN            NaN   \n",
       "6            52996.0              19143.0               0.0            NaN   \n",
       "7            23982.0              11634.0               0.0            NaN   \n",
       "8                NaN                  NaN               NaN            NaN   \n",
       "9            50898.0              15008.0               0.0            NaN   \n",
       "10           38357.0              13878.0               1.0          310.0   \n",
       "11           48252.0              51677.0               0.0            NaN   \n",
       "12               NaN                  NaN               NaN            NaN   \n",
       "13           37868.0              33058.0               1.0          294.0   \n",
       "14           20782.0              30759.0               0.0            NaN   \n",
       "15           12900.0              14259.0               1.0          590.0   \n",
       "16           22108.0              10698.0               3.0          420.0   \n",
       "17           33564.0              14616.0               0.0            NaN   \n",
       "18           44060.0              10842.0               1.0          759.0   \n",
       "19           38900.0              12843.0               0.0            NaN   \n",
       "\n",
       "    ponds_around3000  ponds_nearest  days_exposition  \n",
       "0                2.0          755.0              NaN  \n",
       "1                0.0            NaN             81.0  \n",
       "2                2.0          574.0            558.0  \n",
       "3                3.0          234.0            424.0  \n",
       "4                1.0           48.0            121.0  \n",
       "5                NaN            NaN             55.0  \n",
       "6                0.0            NaN            155.0  \n",
       "7                0.0            NaN              NaN  \n",
       "8                NaN            NaN            189.0  \n",
       "9                0.0            NaN            289.0  \n",
       "10               2.0          553.0            137.0  \n",
       "11               0.0            NaN              7.0  \n",
       "12               NaN            NaN             90.0  \n",
       "13               3.0          298.0            366.0  \n",
       "14               1.0           96.0            203.0  \n",
       "15               1.0          296.0             19.0  \n",
       "16               0.0            NaN            397.0  \n",
       "17               1.0          859.0            571.0  \n",
       "18               0.0            NaN            168.0  \n",
       "19               0.0            NaN             97.0  "
      ]
     },
     "execution_count": 4,
     "metadata": {},
     "output_type": "execute_result"
    }
   ],
   "source": [
    "data.head(20)"
   ]
  },
  {
   "cell_type": "code",
   "execution_count": 5,
   "metadata": {},
   "outputs": [
    {
     "data": {
      "text/html": [
       "<div>\n",
       "<style scoped>\n",
       "    .dataframe tbody tr th:only-of-type {\n",
       "        vertical-align: middle;\n",
       "    }\n",
       "\n",
       "    .dataframe tbody tr th {\n",
       "        vertical-align: top;\n",
       "    }\n",
       "\n",
       "    .dataframe thead th {\n",
       "        text-align: right;\n",
       "    }\n",
       "</style>\n",
       "<table border=\"1\" class=\"dataframe\">\n",
       "  <thead>\n",
       "    <tr style=\"text-align: right;\">\n",
       "      <th></th>\n",
       "      <th>total_images</th>\n",
       "      <th>last_price</th>\n",
       "      <th>total_area</th>\n",
       "      <th>rooms</th>\n",
       "      <th>ceiling_height</th>\n",
       "      <th>floors_total</th>\n",
       "      <th>living_area</th>\n",
       "      <th>floor</th>\n",
       "      <th>kitchen_area</th>\n",
       "      <th>balcony</th>\n",
       "      <th>airports_nearest</th>\n",
       "      <th>cityCenters_nearest</th>\n",
       "      <th>parks_around3000</th>\n",
       "      <th>parks_nearest</th>\n",
       "      <th>ponds_around3000</th>\n",
       "      <th>ponds_nearest</th>\n",
       "      <th>days_exposition</th>\n",
       "    </tr>\n",
       "  </thead>\n",
       "  <tbody>\n",
       "    <tr>\n",
       "      <th>count</th>\n",
       "      <td>23699.000000</td>\n",
       "      <td>2.369900e+04</td>\n",
       "      <td>23699.000000</td>\n",
       "      <td>23699.000000</td>\n",
       "      <td>14504.000000</td>\n",
       "      <td>23613.000000</td>\n",
       "      <td>21796.000000</td>\n",
       "      <td>23699.000000</td>\n",
       "      <td>21421.000000</td>\n",
       "      <td>12180.000000</td>\n",
       "      <td>18157.000000</td>\n",
       "      <td>18180.000000</td>\n",
       "      <td>18181.000000</td>\n",
       "      <td>8079.000000</td>\n",
       "      <td>18181.000000</td>\n",
       "      <td>9110.000000</td>\n",
       "      <td>20518.000000</td>\n",
       "    </tr>\n",
       "    <tr>\n",
       "      <th>mean</th>\n",
       "      <td>9.858475</td>\n",
       "      <td>6.541549e+06</td>\n",
       "      <td>60.348651</td>\n",
       "      <td>2.070636</td>\n",
       "      <td>2.771499</td>\n",
       "      <td>10.673824</td>\n",
       "      <td>34.457852</td>\n",
       "      <td>5.892358</td>\n",
       "      <td>10.569807</td>\n",
       "      <td>1.150082</td>\n",
       "      <td>28793.672193</td>\n",
       "      <td>14191.277833</td>\n",
       "      <td>0.611408</td>\n",
       "      <td>490.804555</td>\n",
       "      <td>0.770255</td>\n",
       "      <td>517.980900</td>\n",
       "      <td>180.888634</td>\n",
       "    </tr>\n",
       "    <tr>\n",
       "      <th>std</th>\n",
       "      <td>5.682529</td>\n",
       "      <td>1.088701e+07</td>\n",
       "      <td>35.654083</td>\n",
       "      <td>1.078405</td>\n",
       "      <td>1.261056</td>\n",
       "      <td>6.597173</td>\n",
       "      <td>22.030445</td>\n",
       "      <td>4.885249</td>\n",
       "      <td>5.905438</td>\n",
       "      <td>1.071300</td>\n",
       "      <td>12630.880622</td>\n",
       "      <td>8608.386210</td>\n",
       "      <td>0.802074</td>\n",
       "      <td>342.317995</td>\n",
       "      <td>0.938346</td>\n",
       "      <td>277.720643</td>\n",
       "      <td>219.727988</td>\n",
       "    </tr>\n",
       "    <tr>\n",
       "      <th>min</th>\n",
       "      <td>0.000000</td>\n",
       "      <td>1.219000e+04</td>\n",
       "      <td>12.000000</td>\n",
       "      <td>0.000000</td>\n",
       "      <td>1.000000</td>\n",
       "      <td>1.000000</td>\n",
       "      <td>2.000000</td>\n",
       "      <td>1.000000</td>\n",
       "      <td>1.300000</td>\n",
       "      <td>0.000000</td>\n",
       "      <td>0.000000</td>\n",
       "      <td>181.000000</td>\n",
       "      <td>0.000000</td>\n",
       "      <td>1.000000</td>\n",
       "      <td>0.000000</td>\n",
       "      <td>13.000000</td>\n",
       "      <td>1.000000</td>\n",
       "    </tr>\n",
       "    <tr>\n",
       "      <th>25%</th>\n",
       "      <td>6.000000</td>\n",
       "      <td>3.400000e+06</td>\n",
       "      <td>40.000000</td>\n",
       "      <td>1.000000</td>\n",
       "      <td>2.520000</td>\n",
       "      <td>5.000000</td>\n",
       "      <td>18.600000</td>\n",
       "      <td>2.000000</td>\n",
       "      <td>7.000000</td>\n",
       "      <td>0.000000</td>\n",
       "      <td>18585.000000</td>\n",
       "      <td>9238.000000</td>\n",
       "      <td>0.000000</td>\n",
       "      <td>288.000000</td>\n",
       "      <td>0.000000</td>\n",
       "      <td>294.000000</td>\n",
       "      <td>45.000000</td>\n",
       "    </tr>\n",
       "    <tr>\n",
       "      <th>50%</th>\n",
       "      <td>9.000000</td>\n",
       "      <td>4.650000e+06</td>\n",
       "      <td>52.000000</td>\n",
       "      <td>2.000000</td>\n",
       "      <td>2.650000</td>\n",
       "      <td>9.000000</td>\n",
       "      <td>30.000000</td>\n",
       "      <td>4.000000</td>\n",
       "      <td>9.100000</td>\n",
       "      <td>1.000000</td>\n",
       "      <td>26726.000000</td>\n",
       "      <td>13098.500000</td>\n",
       "      <td>0.000000</td>\n",
       "      <td>455.000000</td>\n",
       "      <td>1.000000</td>\n",
       "      <td>502.000000</td>\n",
       "      <td>95.000000</td>\n",
       "    </tr>\n",
       "    <tr>\n",
       "      <th>75%</th>\n",
       "      <td>14.000000</td>\n",
       "      <td>6.800000e+06</td>\n",
       "      <td>69.900000</td>\n",
       "      <td>3.000000</td>\n",
       "      <td>2.800000</td>\n",
       "      <td>16.000000</td>\n",
       "      <td>42.300000</td>\n",
       "      <td>8.000000</td>\n",
       "      <td>12.000000</td>\n",
       "      <td>2.000000</td>\n",
       "      <td>37273.000000</td>\n",
       "      <td>16293.000000</td>\n",
       "      <td>1.000000</td>\n",
       "      <td>612.000000</td>\n",
       "      <td>1.000000</td>\n",
       "      <td>729.000000</td>\n",
       "      <td>232.000000</td>\n",
       "    </tr>\n",
       "    <tr>\n",
       "      <th>max</th>\n",
       "      <td>50.000000</td>\n",
       "      <td>7.630000e+08</td>\n",
       "      <td>900.000000</td>\n",
       "      <td>19.000000</td>\n",
       "      <td>100.000000</td>\n",
       "      <td>60.000000</td>\n",
       "      <td>409.700000</td>\n",
       "      <td>33.000000</td>\n",
       "      <td>112.000000</td>\n",
       "      <td>5.000000</td>\n",
       "      <td>84869.000000</td>\n",
       "      <td>65968.000000</td>\n",
       "      <td>3.000000</td>\n",
       "      <td>3190.000000</td>\n",
       "      <td>3.000000</td>\n",
       "      <td>1344.000000</td>\n",
       "      <td>1580.000000</td>\n",
       "    </tr>\n",
       "  </tbody>\n",
       "</table>\n",
       "</div>"
      ],
      "text/plain": [
       "       total_images    last_price    total_area         rooms  ceiling_height  \\\n",
       "count  23699.000000  2.369900e+04  23699.000000  23699.000000    14504.000000   \n",
       "mean       9.858475  6.541549e+06     60.348651      2.070636        2.771499   \n",
       "std        5.682529  1.088701e+07     35.654083      1.078405        1.261056   \n",
       "min        0.000000  1.219000e+04     12.000000      0.000000        1.000000   \n",
       "25%        6.000000  3.400000e+06     40.000000      1.000000        2.520000   \n",
       "50%        9.000000  4.650000e+06     52.000000      2.000000        2.650000   \n",
       "75%       14.000000  6.800000e+06     69.900000      3.000000        2.800000   \n",
       "max       50.000000  7.630000e+08    900.000000     19.000000      100.000000   \n",
       "\n",
       "       floors_total   living_area         floor  kitchen_area       balcony  \\\n",
       "count  23613.000000  21796.000000  23699.000000  21421.000000  12180.000000   \n",
       "mean      10.673824     34.457852      5.892358     10.569807      1.150082   \n",
       "std        6.597173     22.030445      4.885249      5.905438      1.071300   \n",
       "min        1.000000      2.000000      1.000000      1.300000      0.000000   \n",
       "25%        5.000000     18.600000      2.000000      7.000000      0.000000   \n",
       "50%        9.000000     30.000000      4.000000      9.100000      1.000000   \n",
       "75%       16.000000     42.300000      8.000000     12.000000      2.000000   \n",
       "max       60.000000    409.700000     33.000000    112.000000      5.000000   \n",
       "\n",
       "       airports_nearest  cityCenters_nearest  parks_around3000  parks_nearest  \\\n",
       "count      18157.000000         18180.000000      18181.000000    8079.000000   \n",
       "mean       28793.672193         14191.277833          0.611408     490.804555   \n",
       "std        12630.880622          8608.386210          0.802074     342.317995   \n",
       "min            0.000000           181.000000          0.000000       1.000000   \n",
       "25%        18585.000000          9238.000000          0.000000     288.000000   \n",
       "50%        26726.000000         13098.500000          0.000000     455.000000   \n",
       "75%        37273.000000         16293.000000          1.000000     612.000000   \n",
       "max        84869.000000         65968.000000          3.000000    3190.000000   \n",
       "\n",
       "       ponds_around3000  ponds_nearest  days_exposition  \n",
       "count      18181.000000    9110.000000     20518.000000  \n",
       "mean           0.770255     517.980900       180.888634  \n",
       "std            0.938346     277.720643       219.727988  \n",
       "min            0.000000      13.000000         1.000000  \n",
       "25%            0.000000     294.000000        45.000000  \n",
       "50%            1.000000     502.000000        95.000000  \n",
       "75%            1.000000     729.000000       232.000000  \n",
       "max            3.000000    1344.000000      1580.000000  "
      ]
     },
     "execution_count": 5,
     "metadata": {},
     "output_type": "execute_result"
    }
   ],
   "source": [
    "data.describe()"
   ]
  },
  {
   "cell_type": "markdown",
   "metadata": {},
   "source": [
    "<div class=\"alert alert-success\">\n",
    "<b>✔️ Комментарий ревьюера:</b> Здорово, что воспользовался этим методом! Он выводит все нужные статистики по данным и мы можем понять общую картину и выявить аномалии"
   ]
  },
  {
   "cell_type": "markdown",
   "metadata": {},
   "source": [
    "<div class=\"alert alert-warning\">\n",
    "<b>⚠️ Комментарий ревьюера:</b> По ТЗ нам также нужно построить общую гистограмму для нашего датафрейма"
   ]
  },
  {
   "cell_type": "code",
   "execution_count": 6,
   "metadata": {},
   "outputs": [
    {
     "data": {
      "image/png": "[encoded data removed]",
      "text/plain": [
       "<Figure size 1080x1440 with 20 Axes>"
      ]
     },
     "metadata": {
      "needs_background": "light"
     },
     "output_type": "display_data"
    }
   ],
   "source": [
    "#построим распределения для всей таблицы\n",
    "\n",
    "data.hist(figsize=(15, 20));"
   ]
  },
  {
   "cell_type": "markdown",
   "metadata": {},
   "source": [
    "<div class=\"alert alert-success\">\n",
    "<b>✔️ Комментарий ревьюера V2:</b> Теперь все задания выполнены. Гистограммы помогают нам визуально найти аномалии"
   ]
  },
  {
   "cell_type": "markdown",
   "metadata": {},
   "source": [
    "### Предобработка данных"
   ]
  },
  {
   "cell_type": "code",
   "execution_count": 7,
   "metadata": {},
   "outputs": [
    {
     "data": {
      "text/plain": [
       "total_images                0\n",
       "last_price                  0\n",
       "total_area                  0\n",
       "first_day_exposition        0\n",
       "rooms                       0\n",
       "ceiling_height           9195\n",
       "floors_total               86\n",
       "living_area              1903\n",
       "floor                       0\n",
       "is_apartment            20924\n",
       "studio                      0\n",
       "open_plan                   0\n",
       "kitchen_area             2278\n",
       "balcony                 11519\n",
       "locality_name              49\n",
       "airports_nearest         5542\n",
       "cityCenters_nearest      5519\n",
       "parks_around3000         5518\n",
       "parks_nearest           15620\n",
       "ponds_around3000         5518\n",
       "ponds_nearest           14589\n",
       "days_exposition          3181\n",
       "dtype: int64"
      ]
     },
     "execution_count": 7,
     "metadata": {},
     "output_type": "execute_result"
    }
   ],
   "source": [
    "#подсчитаем количество пропусков в таблице\n",
    "\n",
    "data.isna().sum()"
   ]
  },
  {
   "cell_type": "code",
   "execution_count": 8,
   "metadata": {},
   "outputs": [
    {
     "data": {
      "text/plain": [
       "total_images             0.00\n",
       "last_price               0.00\n",
       "total_area               0.00\n",
       "first_day_exposition     0.00\n",
       "rooms                    0.00\n",
       "ceiling_height          38.80\n",
       "floors_total             0.36\n",
       "living_area              8.03\n",
       "floor                    0.00\n",
       "is_apartment            88.29\n",
       "studio                   0.00\n",
       "open_plan                0.00\n",
       "kitchen_area             9.61\n",
       "balcony                 48.61\n",
       "locality_name            0.21\n",
       "airports_nearest        23.38\n",
       "cityCenters_nearest     23.29\n",
       "parks_around3000        23.28\n",
       "parks_nearest           65.91\n",
       "ponds_around3000        23.28\n",
       "ponds_nearest           61.56\n",
       "days_exposition         13.42\n",
       "dtype: float64"
      ]
     },
     "execution_count": 8,
     "metadata": {},
     "output_type": "execute_result"
    }
   ],
   "source": [
    "#подсчёт процента числа пропусков\n",
    "\n",
    "round(data.isna().sum() * 100 / len(data), 2)"
   ]
  },
  {
   "cell_type": "markdown",
   "metadata": {},
   "source": [
    "<div class=\"alert alert-success\">\n",
    "<b>✔️ Комментарий ревьюера:</b> Здорово, что вывел долю пропусков, так видим, что можно сразу удалить, а что нужно обработать. "
   ]
  },
  {
   "cell_type": "markdown",
   "metadata": {},
   "source": [
    "<div class=\"alert alert-warning\">\n",
    "<b>⚠️ Комментарий ревьюера:</b> Долю еще можно вывести так:\n",
    "        \n",
    "        df.isna().mean()"
   ]
  },
  {
   "cell_type": "markdown",
   "metadata": {},
   "source": [
    "Видно большое число пропусков в картографических данных, растоянии до прудов, парков, центра города и т.д. Их вряд ли удастся заполнить без знания положения объекта, оставим как есть. Аналогично с днями в продаже, объявление могло быть актуально на момент выгрузки данных, здесь можно заменить маркером. Число пропусков в названии населенных пунктов и общим числом этаже незначительно, менее процента в сумме, эти строки можно сбросить. Остальные попытаемся обработать."
   ]
  },
  {
   "cell_type": "code",
   "execution_count": 9,
   "metadata": {
    "scrolled": false
   },
   "outputs": [],
   "source": [
    "#если число балконов не указано, можно принять, что их просто нет, заменим нулями\n",
    "\n",
    "data['balcony'] = data['balcony'].fillna(0)"
   ]
  },
  {
   "cell_type": "code",
   "execution_count": 10,
   "metadata": {},
   "outputs": [],
   "source": [
    "#если число комнат больше нуля, значит это не студия и не объекст с открытой планировкой\n",
    "\n",
    "for room in data['rooms'].unique():\n",
    "    data.loc[(data['rooms'] > 0) & (data['is_apartment'].isna()), 'is_apartment'] = True\n",
    "    \n",
    "for room in data['rooms'].unique():\n",
    "    data.loc[(data['rooms'] == 0) & (data['is_apartment'].isna()), 'is_apartment'] = False"
   ]
  },
  {
   "cell_type": "code",
   "execution_count": 11,
   "metadata": {},
   "outputs": [],
   "source": [
    "#пропущенную высоту потолков заменим медианным значением для каждого населенного пункта\n",
    "\n",
    "for local in data['locality_name'].unique():\n",
    "    data.loc[(data['locality_name'] == local) & (data['ceiling_height'].isna()), 'ceiling_height'] = \\\n",
    "    data.loc[data['locality_name']==local, 'ceiling_height'].median()"
   ]
  },
  {
   "cell_type": "code",
   "execution_count": 12,
   "metadata": {},
   "outputs": [
    {
     "data": {
      "text/plain": [
       "total_images                0\n",
       "last_price                  0\n",
       "total_area                  0\n",
       "first_day_exposition        0\n",
       "rooms                       0\n",
       "ceiling_height            156\n",
       "floors_total               86\n",
       "living_area              1903\n",
       "floor                       0\n",
       "is_apartment                0\n",
       "studio                      0\n",
       "open_plan                   0\n",
       "kitchen_area             2278\n",
       "balcony                     0\n",
       "locality_name              49\n",
       "airports_nearest         5542\n",
       "cityCenters_nearest      5519\n",
       "parks_around3000         5518\n",
       "parks_nearest           15620\n",
       "ponds_around3000         5518\n",
       "ponds_nearest           14589\n",
       "days_exposition          3181\n",
       "dtype: int64"
      ]
     },
     "execution_count": 12,
     "metadata": {},
     "output_type": "execute_result"
    }
   ],
   "source": [
    "data.isna().sum()"
   ]
  },
  {
   "cell_type": "markdown",
   "metadata": {},
   "source": [
    "Видно, что остались пропуски, значит, для этого населенного пункта значений нет, медиану посчитать нельзя. Заменим на минимально допустимый уровень по строительным нормам, 2.4м."
   ]
  },
  {
   "cell_type": "code",
   "execution_count": 13,
   "metadata": {},
   "outputs": [],
   "source": [
    "data['ceiling_height'] = data['ceiling_height'].fillna(2.4)"
   ]
  },
  {
   "cell_type": "markdown",
   "metadata": {},
   "source": [
    "<div class=\"alert alert-success\">\n",
    "<b>✔️ Комментарий ревьюера:</b> Корректно"
   ]
  },
  {
   "cell_type": "code",
   "execution_count": 14,
   "metadata": {},
   "outputs": [
    {
     "data": {
      "text/html": [
       "<div>\n",
       "<style scoped>\n",
       "    .dataframe tbody tr th:only-of-type {\n",
       "        vertical-align: middle;\n",
       "    }\n",
       "\n",
       "    .dataframe tbody tr th {\n",
       "        vertical-align: top;\n",
       "    }\n",
       "\n",
       "    .dataframe thead th {\n",
       "        text-align: right;\n",
       "    }\n",
       "</style>\n",
       "<table border=\"1\" class=\"dataframe\">\n",
       "  <thead>\n",
       "    <tr style=\"text-align: right;\">\n",
       "      <th></th>\n",
       "      <th>living_area</th>\n",
       "      <th>total_area</th>\n",
       "      <th>coef</th>\n",
       "    </tr>\n",
       "    <tr>\n",
       "      <th>rooms</th>\n",
       "      <th></th>\n",
       "      <th></th>\n",
       "      <th></th>\n",
       "    </tr>\n",
       "  </thead>\n",
       "  <tbody>\n",
       "    <tr>\n",
       "      <th>0</th>\n",
       "      <td>18.000</td>\n",
       "      <td>26.05</td>\n",
       "      <td>0.690979</td>\n",
       "    </tr>\n",
       "    <tr>\n",
       "      <th>1</th>\n",
       "      <td>17.600</td>\n",
       "      <td>36.56</td>\n",
       "      <td>0.481400</td>\n",
       "    </tr>\n",
       "    <tr>\n",
       "      <th>2</th>\n",
       "      <td>30.500</td>\n",
       "      <td>53.00</td>\n",
       "      <td>0.575472</td>\n",
       "    </tr>\n",
       "    <tr>\n",
       "      <th>3</th>\n",
       "      <td>45.000</td>\n",
       "      <td>73.00</td>\n",
       "      <td>0.616438</td>\n",
       "    </tr>\n",
       "    <tr>\n",
       "      <th>4</th>\n",
       "      <td>63.600</td>\n",
       "      <td>99.30</td>\n",
       "      <td>0.640483</td>\n",
       "    </tr>\n",
       "    <tr>\n",
       "      <th>5</th>\n",
       "      <td>91.785</td>\n",
       "      <td>146.45</td>\n",
       "      <td>0.626733</td>\n",
       "    </tr>\n",
       "    <tr>\n",
       "      <th>6</th>\n",
       "      <td>123.900</td>\n",
       "      <td>184.30</td>\n",
       "      <td>0.672273</td>\n",
       "    </tr>\n",
       "    <tr>\n",
       "      <th>7</th>\n",
       "      <td>145.000</td>\n",
       "      <td>214.00</td>\n",
       "      <td>0.677570</td>\n",
       "    </tr>\n",
       "    <tr>\n",
       "      <th>8</th>\n",
       "      <td>161.000</td>\n",
       "      <td>235.70</td>\n",
       "      <td>0.683072</td>\n",
       "    </tr>\n",
       "    <tr>\n",
       "      <th>9</th>\n",
       "      <td>179.200</td>\n",
       "      <td>300.95</td>\n",
       "      <td>0.595448</td>\n",
       "    </tr>\n",
       "    <tr>\n",
       "      <th>10</th>\n",
       "      <td>161.400</td>\n",
       "      <td>272.60</td>\n",
       "      <td>0.592076</td>\n",
       "    </tr>\n",
       "    <tr>\n",
       "      <th>11</th>\n",
       "      <td>133.900</td>\n",
       "      <td>188.90</td>\n",
       "      <td>0.708841</td>\n",
       "    </tr>\n",
       "    <tr>\n",
       "      <th>12</th>\n",
       "      <td>409.700</td>\n",
       "      <td>900.00</td>\n",
       "      <td>0.455222</td>\n",
       "    </tr>\n",
       "    <tr>\n",
       "      <th>14</th>\n",
       "      <td>195.150</td>\n",
       "      <td>304.20</td>\n",
       "      <td>0.641519</td>\n",
       "    </tr>\n",
       "    <tr>\n",
       "      <th>15</th>\n",
       "      <td>409.000</td>\n",
       "      <td>590.00</td>\n",
       "      <td>0.693220</td>\n",
       "    </tr>\n",
       "    <tr>\n",
       "      <th>16</th>\n",
       "      <td>180.000</td>\n",
       "      <td>270.00</td>\n",
       "      <td>0.666667</td>\n",
       "    </tr>\n",
       "    <tr>\n",
       "      <th>19</th>\n",
       "      <td>264.500</td>\n",
       "      <td>374.60</td>\n",
       "      <td>0.706086</td>\n",
       "    </tr>\n",
       "  </tbody>\n",
       "</table>\n",
       "</div>"
      ],
      "text/plain": [
       "       living_area  total_area      coef\n",
       "rooms                                   \n",
       "0           18.000       26.05  0.690979\n",
       "1           17.600       36.56  0.481400\n",
       "2           30.500       53.00  0.575472\n",
       "3           45.000       73.00  0.616438\n",
       "4           63.600       99.30  0.640483\n",
       "5           91.785      146.45  0.626733\n",
       "6          123.900      184.30  0.672273\n",
       "7          145.000      214.00  0.677570\n",
       "8          161.000      235.70  0.683072\n",
       "9          179.200      300.95  0.595448\n",
       "10         161.400      272.60  0.592076\n",
       "11         133.900      188.90  0.708841\n",
       "12         409.700      900.00  0.455222\n",
       "14         195.150      304.20  0.641519\n",
       "15         409.000      590.00  0.693220\n",
       "16         180.000      270.00  0.666667\n",
       "19         264.500      374.60  0.706086"
      ]
     },
     "execution_count": 14,
     "metadata": {},
     "output_type": "execute_result"
    }
   ],
   "source": [
    "#для жилой площади подсчитаем медианный коэффициент отношения к общей площади в зависимости от числа комнат\n",
    "\n",
    "living_area_coef = data.pivot_table(index='rooms', values=['total_area', 'living_area'], aggfunc='median')\n",
    "\n",
    "living_area_coef['coef'] = living_area_coef['living_area'] / living_area_coef['total_area']\n",
    "\n",
    "living_area_coef"
   ]
  },
  {
   "cell_type": "code",
   "execution_count": 15,
   "metadata": {},
   "outputs": [],
   "source": [
    "#для соответствующего числа комнат домножаем общую площадь на коэффициент \n",
    "\n",
    "for room in data['rooms'].unique():\n",
    "    data.loc[(data['rooms'] == room) & (data['living_area'].isna()), 'living_area'] = \\\n",
    "    data.loc[(data['rooms']==room) & (data['living_area'].isna()), 'total_area'] * \\\n",
    "    living_area_coef.loc[room, 'coef']"
   ]
  },
  {
   "cell_type": "code",
   "execution_count": 16,
   "metadata": {},
   "outputs": [
    {
     "data": {
      "text/plain": [
       "total_images                0\n",
       "last_price                  0\n",
       "total_area                  0\n",
       "first_day_exposition        0\n",
       "rooms                       0\n",
       "ceiling_height              0\n",
       "floors_total               86\n",
       "living_area                 0\n",
       "floor                       0\n",
       "is_apartment                0\n",
       "studio                      0\n",
       "open_plan                   0\n",
       "kitchen_area             2278\n",
       "balcony                     0\n",
       "locality_name              49\n",
       "airports_nearest         5542\n",
       "cityCenters_nearest      5519\n",
       "parks_around3000         5518\n",
       "parks_nearest           15620\n",
       "ponds_around3000         5518\n",
       "ponds_nearest           14589\n",
       "days_exposition          3181\n",
       "dtype: int64"
      ]
     },
     "execution_count": 16,
     "metadata": {},
     "output_type": "execute_result"
    }
   ],
   "source": [
    "data.isna().sum()"
   ]
  },
  {
   "cell_type": "code",
   "execution_count": 17,
   "metadata": {},
   "outputs": [
    {
     "data": {
      "text/html": [
       "<div>\n",
       "<style scoped>\n",
       "    .dataframe tbody tr th:only-of-type {\n",
       "        vertical-align: middle;\n",
       "    }\n",
       "\n",
       "    .dataframe tbody tr th {\n",
       "        vertical-align: top;\n",
       "    }\n",
       "\n",
       "    .dataframe thead th {\n",
       "        text-align: right;\n",
       "    }\n",
       "</style>\n",
       "<table border=\"1\" class=\"dataframe\">\n",
       "  <thead>\n",
       "    <tr style=\"text-align: right;\">\n",
       "      <th></th>\n",
       "      <th>kitchen_area</th>\n",
       "      <th>total_area</th>\n",
       "      <th>coef</th>\n",
       "    </tr>\n",
       "    <tr>\n",
       "      <th>rooms</th>\n",
       "      <th></th>\n",
       "      <th></th>\n",
       "      <th></th>\n",
       "    </tr>\n",
       "  </thead>\n",
       "  <tbody>\n",
       "    <tr>\n",
       "      <th>0</th>\n",
       "      <td>NaN</td>\n",
       "      <td>26.05</td>\n",
       "      <td>NaN</td>\n",
       "    </tr>\n",
       "    <tr>\n",
       "      <th>1</th>\n",
       "      <td>9.04</td>\n",
       "      <td>36.56</td>\n",
       "      <td>0.247265</td>\n",
       "    </tr>\n",
       "    <tr>\n",
       "      <th>2</th>\n",
       "      <td>8.80</td>\n",
       "      <td>53.00</td>\n",
       "      <td>0.166038</td>\n",
       "    </tr>\n",
       "    <tr>\n",
       "      <th>3</th>\n",
       "      <td>9.50</td>\n",
       "      <td>73.00</td>\n",
       "      <td>0.130137</td>\n",
       "    </tr>\n",
       "    <tr>\n",
       "      <th>4</th>\n",
       "      <td>11.10</td>\n",
       "      <td>99.30</td>\n",
       "      <td>0.111782</td>\n",
       "    </tr>\n",
       "    <tr>\n",
       "      <th>5</th>\n",
       "      <td>15.10</td>\n",
       "      <td>146.45</td>\n",
       "      <td>0.103107</td>\n",
       "    </tr>\n",
       "    <tr>\n",
       "      <th>6</th>\n",
       "      <td>19.50</td>\n",
       "      <td>184.30</td>\n",
       "      <td>0.105806</td>\n",
       "    </tr>\n",
       "    <tr>\n",
       "      <th>7</th>\n",
       "      <td>20.00</td>\n",
       "      <td>214.00</td>\n",
       "      <td>0.093458</td>\n",
       "    </tr>\n",
       "    <tr>\n",
       "      <th>8</th>\n",
       "      <td>25.00</td>\n",
       "      <td>235.70</td>\n",
       "      <td>0.106067</td>\n",
       "    </tr>\n",
       "    <tr>\n",
       "      <th>9</th>\n",
       "      <td>14.30</td>\n",
       "      <td>300.95</td>\n",
       "      <td>0.047516</td>\n",
       "    </tr>\n",
       "    <tr>\n",
       "      <th>10</th>\n",
       "      <td>19.80</td>\n",
       "      <td>272.60</td>\n",
       "      <td>0.072634</td>\n",
       "    </tr>\n",
       "    <tr>\n",
       "      <th>11</th>\n",
       "      <td>12.60</td>\n",
       "      <td>188.90</td>\n",
       "      <td>0.066702</td>\n",
       "    </tr>\n",
       "    <tr>\n",
       "      <th>12</th>\n",
       "      <td>112.00</td>\n",
       "      <td>900.00</td>\n",
       "      <td>0.124444</td>\n",
       "    </tr>\n",
       "    <tr>\n",
       "      <th>14</th>\n",
       "      <td>21.25</td>\n",
       "      <td>304.20</td>\n",
       "      <td>0.069855</td>\n",
       "    </tr>\n",
       "    <tr>\n",
       "      <th>15</th>\n",
       "      <td>100.00</td>\n",
       "      <td>590.00</td>\n",
       "      <td>0.169492</td>\n",
       "    </tr>\n",
       "    <tr>\n",
       "      <th>16</th>\n",
       "      <td>13.00</td>\n",
       "      <td>270.00</td>\n",
       "      <td>0.048148</td>\n",
       "    </tr>\n",
       "    <tr>\n",
       "      <th>19</th>\n",
       "      <td>27.60</td>\n",
       "      <td>374.60</td>\n",
       "      <td>0.073679</td>\n",
       "    </tr>\n",
       "  </tbody>\n",
       "</table>\n",
       "</div>"
      ],
      "text/plain": [
       "       kitchen_area  total_area      coef\n",
       "rooms                                    \n",
       "0               NaN       26.05       NaN\n",
       "1              9.04       36.56  0.247265\n",
       "2              8.80       53.00  0.166038\n",
       "3              9.50       73.00  0.130137\n",
       "4             11.10       99.30  0.111782\n",
       "5             15.10      146.45  0.103107\n",
       "6             19.50      184.30  0.105806\n",
       "7             20.00      214.00  0.093458\n",
       "8             25.00      235.70  0.106067\n",
       "9             14.30      300.95  0.047516\n",
       "10            19.80      272.60  0.072634\n",
       "11            12.60      188.90  0.066702\n",
       "12           112.00      900.00  0.124444\n",
       "14            21.25      304.20  0.069855\n",
       "15           100.00      590.00  0.169492\n",
       "16            13.00      270.00  0.048148\n",
       "19            27.60      374.60  0.073679"
      ]
     },
     "execution_count": 17,
     "metadata": {},
     "output_type": "execute_result"
    }
   ],
   "source": [
    "#аналогично считаем отношение площади кухни к общей\n",
    "\n",
    "kitchen_area_coef = data.pivot_table(index='rooms', values=['total_area', 'kitchen_area'], aggfunc='median')\n",
    "\n",
    "kitchen_area_coef['coef'] = kitchen_area_coef['kitchen_area'] / kitchen_area_coef['total_area']\n",
    "\n",
    "kitchen_area_coef"
   ]
  },
  {
   "cell_type": "code",
   "execution_count": 18,
   "metadata": {},
   "outputs": [],
   "source": [
    "for room in data['rooms'].unique():\n",
    "    data.loc[(data['rooms'] == room) & (data['kitchen_area'].isna()), 'kitchen_area'] = \\\n",
    "    data.loc[(data['rooms']==room) & (data['kitchen_area'].isna()), 'total_area'] * \\\n",
    "    kitchen_area_coef.loc[room, 'coef']"
   ]
  },
  {
   "cell_type": "code",
   "execution_count": 19,
   "metadata": {},
   "outputs": [
    {
     "data": {
      "text/plain": [
       "total_images                0\n",
       "last_price                  0\n",
       "total_area                  0\n",
       "first_day_exposition        0\n",
       "rooms                       0\n",
       "ceiling_height              0\n",
       "floors_total               86\n",
       "living_area                 0\n",
       "floor                       0\n",
       "is_apartment                0\n",
       "studio                      0\n",
       "open_plan                   0\n",
       "kitchen_area              197\n",
       "balcony                     0\n",
       "locality_name              49\n",
       "airports_nearest         5542\n",
       "cityCenters_nearest      5519\n",
       "parks_around3000         5518\n",
       "parks_nearest           15620\n",
       "ponds_around3000         5518\n",
       "ponds_nearest           14589\n",
       "days_exposition          3181\n",
       "dtype: int64"
      ]
     },
     "execution_count": 19,
     "metadata": {},
     "output_type": "execute_result"
    }
   ],
   "source": [
    "data.isna().sum()"
   ]
  },
  {
   "cell_type": "markdown",
   "metadata": {},
   "source": [
    "Остались пропуски. Как видно из таблицы коэффициентов, для студий и квартир с открытой планировкой кухни отдельной нет. Проверим:"
   ]
  },
  {
   "cell_type": "code",
   "execution_count": 20,
   "metadata": {},
   "outputs": [
    {
     "data": {
      "text/html": [
       "<div>\n",
       "<style scoped>\n",
       "    .dataframe tbody tr th:only-of-type {\n",
       "        vertical-align: middle;\n",
       "    }\n",
       "\n",
       "    .dataframe tbody tr th {\n",
       "        vertical-align: top;\n",
       "    }\n",
       "\n",
       "    .dataframe thead th {\n",
       "        text-align: right;\n",
       "    }\n",
       "</style>\n",
       "<table border=\"1\" class=\"dataframe\">\n",
       "  <thead>\n",
       "    <tr style=\"text-align: right;\">\n",
       "      <th></th>\n",
       "      <th>total_images</th>\n",
       "      <th>last_price</th>\n",
       "      <th>total_area</th>\n",
       "      <th>first_day_exposition</th>\n",
       "      <th>rooms</th>\n",
       "      <th>ceiling_height</th>\n",
       "      <th>floors_total</th>\n",
       "      <th>living_area</th>\n",
       "      <th>floor</th>\n",
       "      <th>is_apartment</th>\n",
       "      <th>studio</th>\n",
       "      <th>open_plan</th>\n",
       "      <th>kitchen_area</th>\n",
       "      <th>balcony</th>\n",
       "      <th>locality_name</th>\n",
       "      <th>airports_nearest</th>\n",
       "      <th>cityCenters_nearest</th>\n",
       "      <th>parks_around3000</th>\n",
       "      <th>parks_nearest</th>\n",
       "      <th>ponds_around3000</th>\n",
       "      <th>ponds_nearest</th>\n",
       "      <th>days_exposition</th>\n",
       "    </tr>\n",
       "  </thead>\n",
       "  <tbody>\n",
       "    <tr>\n",
       "      <th>144</th>\n",
       "      <td>1</td>\n",
       "      <td>2450000.0</td>\n",
       "      <td>27.00</td>\n",
       "      <td>2017-03-30T00:00:00</td>\n",
       "      <td>0</td>\n",
       "      <td>2.70</td>\n",
       "      <td>24.0</td>\n",
       "      <td>15.500000</td>\n",
       "      <td>2</td>\n",
       "      <td>False</td>\n",
       "      <td>True</td>\n",
       "      <td>False</td>\n",
       "      <td>NaN</td>\n",
       "      <td>2.0</td>\n",
       "      <td>посёлок Мурино</td>\n",
       "      <td>NaN</td>\n",
       "      <td>NaN</td>\n",
       "      <td>NaN</td>\n",
       "      <td>NaN</td>\n",
       "      <td>NaN</td>\n",
       "      <td>NaN</td>\n",
       "      <td>181.0</td>\n",
       "    </tr>\n",
       "    <tr>\n",
       "      <th>349</th>\n",
       "      <td>4</td>\n",
       "      <td>2320000.0</td>\n",
       "      <td>25.00</td>\n",
       "      <td>2017-09-27T00:00:00</td>\n",
       "      <td>0</td>\n",
       "      <td>2.75</td>\n",
       "      <td>14.0</td>\n",
       "      <td>17.000000</td>\n",
       "      <td>1</td>\n",
       "      <td>False</td>\n",
       "      <td>False</td>\n",
       "      <td>True</td>\n",
       "      <td>NaN</td>\n",
       "      <td>0.0</td>\n",
       "      <td>деревня Кудрово</td>\n",
       "      <td>NaN</td>\n",
       "      <td>NaN</td>\n",
       "      <td>NaN</td>\n",
       "      <td>NaN</td>\n",
       "      <td>NaN</td>\n",
       "      <td>NaN</td>\n",
       "      <td>45.0</td>\n",
       "    </tr>\n",
       "    <tr>\n",
       "      <th>440</th>\n",
       "      <td>8</td>\n",
       "      <td>2480000.0</td>\n",
       "      <td>27.11</td>\n",
       "      <td>2018-03-12T00:00:00</td>\n",
       "      <td>0</td>\n",
       "      <td>2.70</td>\n",
       "      <td>17.0</td>\n",
       "      <td>24.750000</td>\n",
       "      <td>4</td>\n",
       "      <td>False</td>\n",
       "      <td>True</td>\n",
       "      <td>False</td>\n",
       "      <td>NaN</td>\n",
       "      <td>2.0</td>\n",
       "      <td>Санкт-Петербург</td>\n",
       "      <td>38171.0</td>\n",
       "      <td>15015.0</td>\n",
       "      <td>0.0</td>\n",
       "      <td>NaN</td>\n",
       "      <td>2.0</td>\n",
       "      <td>982.0</td>\n",
       "      <td>64.0</td>\n",
       "    </tr>\n",
       "    <tr>\n",
       "      <th>508</th>\n",
       "      <td>0</td>\n",
       "      <td>3375000.0</td>\n",
       "      <td>34.40</td>\n",
       "      <td>2017-03-28T00:00:00</td>\n",
       "      <td>0</td>\n",
       "      <td>2.64</td>\n",
       "      <td>26.0</td>\n",
       "      <td>24.300000</td>\n",
       "      <td>19</td>\n",
       "      <td>False</td>\n",
       "      <td>False</td>\n",
       "      <td>True</td>\n",
       "      <td>NaN</td>\n",
       "      <td>1.0</td>\n",
       "      <td>посёлок Парголово</td>\n",
       "      <td>53115.0</td>\n",
       "      <td>19292.0</td>\n",
       "      <td>0.0</td>\n",
       "      <td>NaN</td>\n",
       "      <td>1.0</td>\n",
       "      <td>593.0</td>\n",
       "      <td>430.0</td>\n",
       "    </tr>\n",
       "    <tr>\n",
       "      <th>608</th>\n",
       "      <td>2</td>\n",
       "      <td>1850000.0</td>\n",
       "      <td>25.00</td>\n",
       "      <td>2019-02-20T00:00:00</td>\n",
       "      <td>0</td>\n",
       "      <td>2.63</td>\n",
       "      <td>10.0</td>\n",
       "      <td>17.274472</td>\n",
       "      <td>7</td>\n",
       "      <td>False</td>\n",
       "      <td>True</td>\n",
       "      <td>False</td>\n",
       "      <td>NaN</td>\n",
       "      <td>0.0</td>\n",
       "      <td>посёлок Шушары</td>\n",
       "      <td>NaN</td>\n",
       "      <td>NaN</td>\n",
       "      <td>NaN</td>\n",
       "      <td>NaN</td>\n",
       "      <td>NaN</td>\n",
       "      <td>NaN</td>\n",
       "      <td>29.0</td>\n",
       "    </tr>\n",
       "    <tr>\n",
       "      <th>...</th>\n",
       "      <td>...</td>\n",
       "      <td>...</td>\n",
       "      <td>...</td>\n",
       "      <td>...</td>\n",
       "      <td>...</td>\n",
       "      <td>...</td>\n",
       "      <td>...</td>\n",
       "      <td>...</td>\n",
       "      <td>...</td>\n",
       "      <td>...</td>\n",
       "      <td>...</td>\n",
       "      <td>...</td>\n",
       "      <td>...</td>\n",
       "      <td>...</td>\n",
       "      <td>...</td>\n",
       "      <td>...</td>\n",
       "      <td>...</td>\n",
       "      <td>...</td>\n",
       "      <td>...</td>\n",
       "      <td>...</td>\n",
       "      <td>...</td>\n",
       "      <td>...</td>\n",
       "    </tr>\n",
       "    <tr>\n",
       "      <th>23210</th>\n",
       "      <td>7</td>\n",
       "      <td>3200000.0</td>\n",
       "      <td>26.00</td>\n",
       "      <td>2017-09-01T00:00:00</td>\n",
       "      <td>0</td>\n",
       "      <td>2.70</td>\n",
       "      <td>25.0</td>\n",
       "      <td>18.000000</td>\n",
       "      <td>16</td>\n",
       "      <td>False</td>\n",
       "      <td>True</td>\n",
       "      <td>False</td>\n",
       "      <td>NaN</td>\n",
       "      <td>0.0</td>\n",
       "      <td>Санкт-Петербург</td>\n",
       "      <td>11405.0</td>\n",
       "      <td>13222.0</td>\n",
       "      <td>0.0</td>\n",
       "      <td>NaN</td>\n",
       "      <td>1.0</td>\n",
       "      <td>623.0</td>\n",
       "      <td>14.0</td>\n",
       "    </tr>\n",
       "    <tr>\n",
       "      <th>23442</th>\n",
       "      <td>0</td>\n",
       "      <td>2500000.0</td>\n",
       "      <td>27.70</td>\n",
       "      <td>2017-09-28T00:00:00</td>\n",
       "      <td>0</td>\n",
       "      <td>2.70</td>\n",
       "      <td>24.0</td>\n",
       "      <td>18.000000</td>\n",
       "      <td>4</td>\n",
       "      <td>False</td>\n",
       "      <td>False</td>\n",
       "      <td>True</td>\n",
       "      <td>NaN</td>\n",
       "      <td>2.0</td>\n",
       "      <td>посёлок Мурино</td>\n",
       "      <td>NaN</td>\n",
       "      <td>NaN</td>\n",
       "      <td>NaN</td>\n",
       "      <td>NaN</td>\n",
       "      <td>NaN</td>\n",
       "      <td>NaN</td>\n",
       "      <td>4.0</td>\n",
       "    </tr>\n",
       "    <tr>\n",
       "      <th>23554</th>\n",
       "      <td>15</td>\n",
       "      <td>3350000.0</td>\n",
       "      <td>26.00</td>\n",
       "      <td>2018-09-07T00:00:00</td>\n",
       "      <td>0</td>\n",
       "      <td>2.70</td>\n",
       "      <td>19.0</td>\n",
       "      <td>17.965451</td>\n",
       "      <td>8</td>\n",
       "      <td>False</td>\n",
       "      <td>True</td>\n",
       "      <td>False</td>\n",
       "      <td>NaN</td>\n",
       "      <td>0.0</td>\n",
       "      <td>Санкт-Петербург</td>\n",
       "      <td>18090.0</td>\n",
       "      <td>17092.0</td>\n",
       "      <td>0.0</td>\n",
       "      <td>NaN</td>\n",
       "      <td>2.0</td>\n",
       "      <td>112.0</td>\n",
       "      <td>31.0</td>\n",
       "    </tr>\n",
       "    <tr>\n",
       "      <th>23592</th>\n",
       "      <td>10</td>\n",
       "      <td>1450000.0</td>\n",
       "      <td>29.00</td>\n",
       "      <td>2017-11-11T00:00:00</td>\n",
       "      <td>0</td>\n",
       "      <td>2.56</td>\n",
       "      <td>9.0</td>\n",
       "      <td>18.000000</td>\n",
       "      <td>8</td>\n",
       "      <td>False</td>\n",
       "      <td>False</td>\n",
       "      <td>True</td>\n",
       "      <td>NaN</td>\n",
       "      <td>2.0</td>\n",
       "      <td>Никольское</td>\n",
       "      <td>NaN</td>\n",
       "      <td>NaN</td>\n",
       "      <td>NaN</td>\n",
       "      <td>NaN</td>\n",
       "      <td>NaN</td>\n",
       "      <td>NaN</td>\n",
       "      <td>82.0</td>\n",
       "    </tr>\n",
       "    <tr>\n",
       "      <th>23637</th>\n",
       "      <td>8</td>\n",
       "      <td>2350000.0</td>\n",
       "      <td>26.00</td>\n",
       "      <td>2018-06-26T00:00:00</td>\n",
       "      <td>0</td>\n",
       "      <td>2.65</td>\n",
       "      <td>25.0</td>\n",
       "      <td>17.000000</td>\n",
       "      <td>4</td>\n",
       "      <td>False</td>\n",
       "      <td>True</td>\n",
       "      <td>False</td>\n",
       "      <td>NaN</td>\n",
       "      <td>2.0</td>\n",
       "      <td>посёлок Бугры</td>\n",
       "      <td>NaN</td>\n",
       "      <td>NaN</td>\n",
       "      <td>NaN</td>\n",
       "      <td>NaN</td>\n",
       "      <td>NaN</td>\n",
       "      <td>NaN</td>\n",
       "      <td>207.0</td>\n",
       "    </tr>\n",
       "  </tbody>\n",
       "</table>\n",
       "<p>197 rows × 22 columns</p>\n",
       "</div>"
      ],
      "text/plain": [
       "       total_images  last_price  total_area first_day_exposition  rooms  \\\n",
       "144               1   2450000.0       27.00  2017-03-30T00:00:00      0   \n",
       "349               4   2320000.0       25.00  2017-09-27T00:00:00      0   \n",
       "440               8   2480000.0       27.11  2018-03-12T00:00:00      0   \n",
       "508               0   3375000.0       34.40  2017-03-28T00:00:00      0   \n",
       "608               2   1850000.0       25.00  2019-02-20T00:00:00      0   \n",
       "...             ...         ...         ...                  ...    ...   \n",
       "23210             7   3200000.0       26.00  2017-09-01T00:00:00      0   \n",
       "23442             0   2500000.0       27.70  2017-09-28T00:00:00      0   \n",
       "23554            15   3350000.0       26.00  2018-09-07T00:00:00      0   \n",
       "23592            10   1450000.0       29.00  2017-11-11T00:00:00      0   \n",
       "23637             8   2350000.0       26.00  2018-06-26T00:00:00      0   \n",
       "\n",
       "       ceiling_height  floors_total  living_area  floor is_apartment  studio  \\\n",
       "144              2.70          24.0    15.500000      2        False    True   \n",
       "349              2.75          14.0    17.000000      1        False   False   \n",
       "440              2.70          17.0    24.750000      4        False    True   \n",
       "508              2.64          26.0    24.300000     19        False   False   \n",
       "608              2.63          10.0    17.274472      7        False    True   \n",
       "...               ...           ...          ...    ...          ...     ...   \n",
       "23210            2.70          25.0    18.000000     16        False    True   \n",
       "23442            2.70          24.0    18.000000      4        False   False   \n",
       "23554            2.70          19.0    17.965451      8        False    True   \n",
       "23592            2.56           9.0    18.000000      8        False   False   \n",
       "23637            2.65          25.0    17.000000      4        False    True   \n",
       "\n",
       "       open_plan  kitchen_area  balcony      locality_name  airports_nearest  \\\n",
       "144        False           NaN      2.0     посёлок Мурино               NaN   \n",
       "349         True           NaN      0.0    деревня Кудрово               NaN   \n",
       "440        False           NaN      2.0    Санкт-Петербург           38171.0   \n",
       "508         True           NaN      1.0  посёлок Парголово           53115.0   \n",
       "608        False           NaN      0.0     посёлок Шушары               NaN   \n",
       "...          ...           ...      ...                ...               ...   \n",
       "23210      False           NaN      0.0    Санкт-Петербург           11405.0   \n",
       "23442       True           NaN      2.0     посёлок Мурино               NaN   \n",
       "23554      False           NaN      0.0    Санкт-Петербург           18090.0   \n",
       "23592       True           NaN      2.0         Никольское               NaN   \n",
       "23637      False           NaN      2.0      посёлок Бугры               NaN   \n",
       "\n",
       "       cityCenters_nearest  parks_around3000  parks_nearest  ponds_around3000  \\\n",
       "144                    NaN               NaN            NaN               NaN   \n",
       "349                    NaN               NaN            NaN               NaN   \n",
       "440                15015.0               0.0            NaN               2.0   \n",
       "508                19292.0               0.0            NaN               1.0   \n",
       "608                    NaN               NaN            NaN               NaN   \n",
       "...                    ...               ...            ...               ...   \n",
       "23210              13222.0               0.0            NaN               1.0   \n",
       "23442                  NaN               NaN            NaN               NaN   \n",
       "23554              17092.0               0.0            NaN               2.0   \n",
       "23592                  NaN               NaN            NaN               NaN   \n",
       "23637                  NaN               NaN            NaN               NaN   \n",
       "\n",
       "       ponds_nearest  days_exposition  \n",
       "144              NaN            181.0  \n",
       "349              NaN             45.0  \n",
       "440            982.0             64.0  \n",
       "508            593.0            430.0  \n",
       "608              NaN             29.0  \n",
       "...              ...              ...  \n",
       "23210          623.0             14.0  \n",
       "23442            NaN              4.0  \n",
       "23554          112.0             31.0  \n",
       "23592            NaN             82.0  \n",
       "23637            NaN            207.0  \n",
       "\n",
       "[197 rows x 22 columns]"
      ]
     },
     "execution_count": 20,
     "metadata": {},
     "output_type": "execute_result"
    }
   ],
   "source": [
    "data.query('kitchen_area.isna()')"
   ]
  },
  {
   "cell_type": "markdown",
   "metadata": {},
   "source": [
    "Действительно, пропуски остались для студий и открытой планировки, можно заполнить их нулями."
   ]
  },
  {
   "cell_type": "code",
   "execution_count": 21,
   "metadata": {},
   "outputs": [],
   "source": [
    "data['kitchen_area'] = data['kitchen_area'].fillna(0)"
   ]
  },
  {
   "cell_type": "code",
   "execution_count": 22,
   "metadata": {},
   "outputs": [
    {
     "data": {
      "text/plain": [
       "total_images             0.00\n",
       "last_price               0.00\n",
       "total_area               0.00\n",
       "first_day_exposition     0.00\n",
       "rooms                    0.00\n",
       "ceiling_height           0.00\n",
       "floors_total             0.36\n",
       "living_area              0.00\n",
       "floor                    0.00\n",
       "is_apartment             0.00\n",
       "studio                   0.00\n",
       "open_plan                0.00\n",
       "kitchen_area             0.00\n",
       "balcony                  0.00\n",
       "locality_name            0.21\n",
       "airports_nearest        23.38\n",
       "cityCenters_nearest     23.29\n",
       "parks_around3000        23.28\n",
       "parks_nearest           65.91\n",
       "ponds_around3000        23.28\n",
       "ponds_nearest           61.56\n",
       "days_exposition         13.42\n",
       "dtype: float64"
      ]
     },
     "execution_count": 22,
     "metadata": {},
     "output_type": "execute_result"
    }
   ],
   "source": [
    "round(data.isna().sum() * 100 / len(data), 2)"
   ]
  },
  {
   "cell_type": "code",
   "execution_count": 23,
   "metadata": {},
   "outputs": [],
   "source": [
    "#сброс строк\n",
    "\n",
    "data = data.query('floors_total.isna() == False and locality_name.isna() == False')\n",
    "\n",
    "#заменяем пропуски в днях в продаже маркером -100, который далее можно отфильтровать по необходимости\n",
    "\n",
    "data['days_exposition'] = data['days_exposition'].fillna(-100)"
   ]
  },
  {
   "cell_type": "markdown",
   "metadata": {},
   "source": [
    "<div class=\"alert alert-warning\">\n",
    "<b>⚠️ Комментарий ревьюера:</b> Главное - не забыть про эту заглушку при дальнейшем анализе. Она исказит результаты"
   ]
  },
  {
   "cell_type": "markdown",
   "metadata": {},
   "source": [
    "<div class=\"alert alert-warning\">\n",
    "<b>⚠️ Комментарий ревьюера:</b> После заполнения пропусков важно проверить, не превышает ли сумма площадей кухни и жилой площади общую площадь:\n",
    "    \n",
    "        Должно быть: площадь кухни + жилая площадь < общая площадь"
   ]
  },
  {
   "cell_type": "code",
   "execution_count": 24,
   "metadata": {},
   "outputs": [
    {
     "data": {
      "text/plain": [
       "0.005"
      ]
     },
     "execution_count": 24,
     "metadata": {},
     "output_type": "execute_result"
    }
   ],
   "source": [
    "#проверяем сумму площадей кухни и жилой, должна быть меньше общей\n",
    "\n",
    "round(data.query('kitchen_area + living_area > total_area')['total_area'].count() / len(data), 3)"
   ]
  },
  {
   "cell_type": "code",
   "execution_count": 25,
   "metadata": {},
   "outputs": [],
   "source": [
    "#аномальные значения отбросим, их немного\n",
    "\n",
    "data = data.query('kitchen_area + living_area < total_area')"
   ]
  },
  {
   "cell_type": "markdown",
   "metadata": {},
   "source": [
    "<div class=\"alert alert-success\">\n",
    "<b>✔️ Комментарий ревьюера V2:</b> Здорово, что нашел долю прежде чем отбрасывать выбросы"
   ]
  },
  {
   "cell_type": "markdown",
   "metadata": {},
   "source": [
    "#### Поиск неявных дубликатов"
   ]
  },
  {
   "cell_type": "code",
   "execution_count": 26,
   "metadata": {},
   "outputs": [
    {
     "data": {
      "text/plain": [
       "Санкт-Петербург                                            15538\n",
       "посёлок Мурино                                               510\n",
       "посёлок Шушары                                               437\n",
       "Всеволожск                                                   390\n",
       "Пушкин                                                       368\n",
       "Колпино                                                      337\n",
       "посёлок Парголово                                            326\n",
       "Гатчина                                                      303\n",
       "деревня Кудрово                                              295\n",
       "Выборг                                                       234\n",
       "Петергоф                                                     199\n",
       "Сестрорецк                                                   182\n",
       "Красное Село                                                 176\n",
       "Кудрово                                                      169\n",
       "деревня Новое Девяткино                                      142\n",
       "Сертолово                                                    141\n",
       "Ломоносов                                                    133\n",
       "Кириши                                                       125\n",
       "Волхов                                                       110\n",
       "Сланцы                                                       110\n",
       "Тосно                                                        103\n",
       "Кингисепп                                                    103\n",
       "Кронштадт                                                     96\n",
       "Никольское                                                    91\n",
       "Коммунар                                                      88\n",
       "Сосновый Бор                                                  86\n",
       "Кировск                                                       84\n",
       "Отрадное                                                      80\n",
       "посёлок Бугры                                                 67\n",
       "посёлок Металлострой                                          66\n",
       "Приозерск                                                     65\n",
       "деревня Старая                                                63\n",
       "городской посёлок Янино-1                                     60\n",
       "Шлиссельбург                                                  57\n",
       "Луга                                                          52\n",
       "Тихвин                                                        49\n",
       "поселок Бугры                                                 45\n",
       "посёлок Стрельна                                              43\n",
       "посёлок Тельмана                                              39\n",
       "Павловск                                                      38\n",
       "Волосово                                                      36\n",
       "поселок Романовка                                             36\n",
       "Мурино                                                        33\n",
       "поселок Мурино                                                30\n",
       "посёлок городского типа Сиверский                             29\n",
       "городской посёлок Мга                                         27\n",
       "Ивангород                                                     27\n",
       "городской посёлок Новоселье                                   26\n",
       "поселок городского типа имени Свердлова                       25\n",
       "Зеленогорск                                                   24\n",
       "Сясьстрой                                                     24\n",
       "посёлок городского типа Кузьмоловский                         22\n",
       "посёлок Щеглово                                               22\n",
       "поселок городского типа Синявино                              21\n",
       "посёлок Новогорелово                                          20\n",
       "посёлок Понтонный                                             20\n",
       "деревня Лесколово                                             20\n",
       "деревня Вартемяги                                             20\n",
       "Лодейное Поле                                                 20\n",
       "поселок городского типа Рощино                                19\n",
       "Подпорожье                                                    19\n",
       "Пикалёво                                                      18\n",
       "посёлок Сосново                                               18\n",
       "деревня Бегуницы                                              17\n",
       "посёлок Новый Свет                                            17\n",
       "посёлок городского типа имени Морозова                        17\n",
       "посёлок городского типа Токсово                               16\n",
       "деревня Большие Колпаны                                       16\n",
       "Бокситогорск                                                  16\n",
       "поселок городского типа Рахья                                 15\n",
       "городской поселок Большая Ижора                               15\n",
       "городской посёлок Назия                                       15\n",
       "посёлок городского типа Рощино                                15\n",
       "поселок городского типа Дубровка                              15\n",
       "деревня Горбунки                                              15\n",
       "Новая Ладога                                                  13\n",
       "посёлок городского типа Ульяновка                             13\n",
       "Каменногорск                                                  13\n",
       "поселок Елизаветино                                           13\n",
       "посёлок городского типа Кузнечное                             13\n",
       "деревня Гарболово                                             13\n",
       "поселок городского типа Кузьмоловский                         13\n",
       "поселок городского типа Вырица                                12\n",
       "посёлок городского типа Лебяжье                               11\n",
       "деревня Малое Верево                                          11\n",
       "деревня Мистолово                                             11\n",
       "деревня Белогорка                                             11\n",
       "деревня Колтуши                                               11\n",
       "деревня Нурма                                                 11\n",
       "деревня Гостилицы                                             11\n",
       "посёлок Аннино                                                11\n",
       "Светогорск                                                    11\n",
       "посёлок городского типа имени Свердлова                       11\n",
       "поселок Войсковицы                                            10\n",
       "деревня Низино                                                10\n",
       "деревня Сяськелево                                            10\n",
       "посёлок городского типа Вырица                                10\n",
       "деревня Лаголово                                              10\n",
       "село Русско-Высоцкое                                           9\n",
       "поселок Сельцо                                                 9\n",
       "поселок городского типа Приладожский                           9\n",
       "посёлок Пудость                                                9\n",
       "деревня Оржицы                                                 9\n",
       "поселок Молодцово                                              9\n",
       "деревня Батово                                                 9\n",
       "городской посёлок Павлово                                      9\n",
       "поселок Суходолье                                              8\n",
       "поселок Первомайское                                           8\n",
       "поселок Запорожское                                            8\n",
       "деревня Малое Карлино                                          8\n",
       "Приморск                                                       8\n",
       "поселок городского типа Советский                              8\n",
       "деревня Фёдоровское                                            8\n",
       "деревня Кипень                                                 7\n",
       "деревня Куттузи                                                7\n",
       "деревня Извара                                                 7\n",
       "село Павлово                                                   7\n",
       "городской поселок Янино-1                                      7\n",
       "городской посёлок Фёдоровское                                  7\n",
       "поселок Углово                                                 7\n",
       "деревня Малые Колпаны                                          7\n",
       "деревня Кузьмолово                                             7\n",
       "поселок городского типа Никольский                             7\n",
       "деревня Кальтино                                               7\n",
       "деревня Калитино                                               7\n",
       "Любань                                                         7\n",
       "посёлок городского типа Мга                                    6\n",
       "посёлок городского типа Важины                                 6\n",
       "деревня Лампово                                                6\n",
       "поселок Ушаки                                                  6\n",
       "посёлок Ильичёво                                               6\n",
       "деревня Пеники                                                 6\n",
       "деревня Лопухинка                                              6\n",
       "деревня Яльгелево                                              6\n",
       "посёлок Сапёрный                                               6\n",
       "поселок Новый Учхоз                                            6\n",
       "посёлок городского типа Тайцы                                  6\n",
       "деревня Пудомяги                                               6\n",
       "поселок Кобринское                                             6\n",
       "посёлок Мичуринское                                            6\n",
       "деревня Заневка                                                6\n",
       "поселок Аннино                                                 5\n",
       "городской посёлок Рощино                                       5\n",
       "поселок городского типа Дружная Горка                          5\n",
       "посёлок Молодёжное                                             5\n",
       "посёлок Стеклянный                                             5\n",
       "посёлок Кобралово                                              5\n",
       "поселок Селезнёво                                              5\n",
       "поселок городского типа Красный Бор                            5\n",
       "поселок Новый Свет                                             5\n",
       "посёлок Войскорово                                             5\n",
       "поселок Глажево                                                5\n",
       "посёлок Плодовое                                               5\n",
       "поселок Семрино                                                5\n",
       "поселок Мичуринское                                            5\n",
       "посёлок Терволово                                              4\n",
       "деревня Агалатово                                              4\n",
       "деревня Большая Вруда                                          4\n",
       "село Копорье                                                   4\n",
       "деревня Парицы                                                 4\n",
       "деревня Келози                                                 4\n",
       "поселок Цвелодубово                                            4\n",
       "посёлок городского типа Форносово                              4\n",
       "деревня Юкки                                                   4\n",
       "посёлок Суйда                                                  4\n",
       "посёлок Кикерино                                               4\n",
       "посёлок Торфяное                                               4\n",
       "посёлок Поляны                                                 4\n",
       "поселок городского типа Лебяжье                                4\n",
       "деревня Разметелево                                            4\n",
       "поселок Кобралово                                              4\n",
       "деревня Разбегаево                                             4\n",
       "посёлок Песочный                                               4\n",
       "городской посёлок Будогощь                                     4\n",
       "посёлок Усть-Луга                                              4\n",
       "посёлок Репино                                                 4\n",
       "поселок Гарболово                                              4\n",
       "поселок Победа                                                 3\n",
       "посёлок станции Громово                                        3\n",
       "деревня Старосиверская                                         3\n",
       "городской посёлок Виллози                                      3\n",
       "поселок Глебычево                                              3\n",
       "поселок Лукаши                                                 3\n",
       "поселок Торковичи                                              3\n",
       "деревня Ваганово                                               3\n",
       "деревня Заклинье                                               3\n",
       "Высоцк                                                         3\n",
       "деревня Торосово                                               3\n",
       "посёлок Петровское                                             3\n",
       "посёлок городского типа Красный Бор                            3\n",
       "поселок Заводской                                              3\n",
       "поселок городского типа Лесогорский                            3\n",
       "поселок Котельский                                             3\n",
       "деревня Старополье                                             3\n",
       "поселок Красная Долина                                         3\n",
       "посёлок Гаврилово                                              3\n",
       "поселок Оредеж                                                 3\n",
       "поселок станции Вещево                                         3\n",
       "поселок городского типа Токсово                                3\n",
       "деревня Аро                                                    3\n",
       "деревня Торошковичи                                            3\n",
       "поселок Любань                                                 3\n",
       "село Рождествено                                               3\n",
       "поселок Зимитицы                                               3\n",
       "посёлок Пригородный                                            3\n",
       "поселок городского типа Ефимовский                             3\n",
       "посёлок Победа                                                 3\n",
       "поселок Стеклянный                                             3\n",
       "посёлок Перово                                                 3\n",
       "поселок Громово                                                3\n",
       "поселок Мельниково                                             3\n",
       "поселок Тельмана                                               2\n",
       "деревня Коркино                                                2\n",
       "поселок Починок                                                2\n",
       "поселок Старая Малукса                                         2\n",
       "деревня Глинка                                                 2\n",
       "поселок Ильичёво                                               2\n",
       "поселок Серебрянский                                           2\n",
       "деревня Фалилеево                                              2\n",
       "деревня Ненимяки                                               2\n",
       "поселок Поляны                                                 2\n",
       "поселок Лесное                                                 2\n",
       "посёлок Возрождение                                            2\n",
       "село Паша                                                      2\n",
       "посёлок Старая Малукса                                         2\n",
       "деревня Суоранда                                               2\n",
       "деревня Мины                                                   2\n",
       "поселок Рябово                                                 2\n",
       "поселок Терволово                                              2\n",
       "деревня Старые Бегуницы                                        2\n",
       "городской посёлок Лесогорский                                  2\n",
       "деревня Тарасово                                               2\n",
       "городской посёлок Советский                                    2\n",
       "посёлок Александровская                                        2\n",
       "посёлок городского типа Павлово                                2\n",
       "поселок Пушное                                                 2\n",
       "село Старая Ладога                                             2\n",
       "поселок Кингисеппский                                          2\n",
       "деревня Старая Пустошь                                         2\n",
       "поселок Совхозный                                              2\n",
       "посёлок Лисий Нос                                              2\n",
       "поселок городского типа Назия                                  2\n",
       "деревня Рабитицы                                               2\n",
       "поселок Петровское                                             2\n",
       "посёлок Мельниково                                             2\n",
       "деревня Бор                                                    2\n",
       "поселок Житково                                                2\n",
       "посёлок Сапёрное                                               2\n",
       "село Путилово                                                  2\n",
       "деревня Ям-Тесово                                              2\n",
       "поселок станции Приветнинское                                  2\n",
       "посёлок Усть-Ижора                                             2\n",
       "поселок городского типа Форносово                              2\n",
       "поселок Барышево                                               2\n",
       "посёлок Жилгородок                                             2\n",
       "посёлок городского типа Вознесенье                             2\n",
       "деревня Камышовка                                              2\n",
       "посёлок станции Свирь                                          2\n",
       "посёлок Ленинское                                              2\n",
       "поселок станции Корнево                                        1\n",
       "посёлок при железнодорожной станции Вещево                     1\n",
       "деревня Котлы                                                  1\n",
       "поселок Усть-Луга                                              1\n",
       "посёлок Сумино                                                 1\n",
       "деревня Сижно                                                  1\n",
       "деревня Пикколово                                              1\n",
       "садовое товарищество Садко                                     1\n",
       "деревня Пижма                                                  1\n",
       "деревня Большое Рейзино                                        1\n",
       "деревня Кисельня                                               1\n",
       "поселок Тёсово-4                                               1\n",
       "поселок Гаврилово                                              1\n",
       "деревня Пустынка                                               1\n",
       "посёлок Форт Красная Горка                                     1\n",
       "деревня Снегирёвка                                             1\n",
       "посёлок Высокоключевой                                         1\n",
       "деревня Нижние Осельки                                         1\n",
       "поселок Почап                                                  1\n",
       "посёлок Алексеевка                                             1\n",
       "поселок Семиозерье                                             1\n",
       "деревня Тойворово                                              1\n",
       "деревня Зимитицы                                               1\n",
       "деревня Терпилицы                                              1\n",
       "поселок Кирпичное                                              1\n",
       "деревня Рапполово                                              1\n",
       "деревня Малая Романовка                                        1\n",
       "деревня Хязельки                                               1\n",
       "поселок Сумино                                                 1\n",
       "посёлок Шугозеро                                               1\n",
       "поселок городского типа Кондратьево                            1\n",
       "поселок Лисий Нос                                              1\n",
       "поселок Жилпосёлок                                             1\n",
       "садоводческое некоммерческое товарищество Лесная Поляна        1\n",
       "городской посёлок Свирьстрой                                   1\n",
       "деревня Русско                                                 1\n",
       "поселок Коробицыно                                             1\n",
       "деревня Мануйлово                                              1\n",
       "посёлок Коробицыно                                             1\n",
       "поселок Цвылёво                                                1\n",
       "посёлок при железнодорожной станции Приветнинское              1\n",
       "садовое товарищество Рахья                                     1\n",
       "деревня Куровицы                                               1\n",
       "деревня Шпаньково                                              1\n",
       "поселок Гончарово                                              1\n",
       "деревня Нижняя                                                 1\n",
       "деревня Старое Хинколово                                       1\n",
       "поселок Ромашки                                                1\n",
       "деревня Пельгора                                               1\n",
       "поселок городского типа Большая Ижора                          1\n",
       "деревня Щеглово                                                1\n",
       "посёлок городского типа Рябово                                 1\n",
       "поселок Возрождение                                            1\n",
       "поселок городского типа Рябово                                 1\n",
       "деревня Чудской Бор                                            1\n",
       "поселок Калитино                                               1\n",
       "деревня Каськово                                               1\n",
       "поселок Пчевжа                                                 1\n",
       "поселок Коммунары                                              1\n",
       "садовое товарищество Новая Ропша                               1\n",
       "поселок Дружноселье                                            1\n",
       "коттеджный посёлок Лесное                                      1\n",
       "посёлок Левашово                                               1\n",
       "посёлок Мыза-Ивановка                                          1\n",
       "деревня Ялгино                                                 1\n",
       "поселок Пансионат Зелёный Бор                                  1\n",
       "село Никольское                                                1\n",
       "деревня Иссад                                                  1\n",
       "деревня Борисова Грива                                         1\n",
       "деревня Раздолье                                               1\n",
       "поселок Красносельское                                         1\n",
       "поселок Каложицы                                               1\n",
       "деревня Большой Сабск                                          1\n",
       "коттеджный поселок Кивеннапа Север                             1\n",
       "поселок Севастьяново                                           1\n",
       "посёлок Дзержинского                                           1\n",
       "деревня Трубников Бор                                          1\n",
       "посёлок Платформа 69-й километр                                1\n",
       "деревня Кривко                                                 1\n",
       "деревня Большая Пустомержа                                     1\n",
       "поселок станции Лужайка                                        1\n",
       "посёлок Пансионат Зелёный Бор                                  1\n",
       "поселок Гладкое                                                1\n",
       "деревня Меньково                                               1\n",
       "деревня Хапо-Ое                                                1\n",
       "деревня Курковицы                                              1\n",
       "посёлок Петро-Славянка                                         1\n",
       "деревня Лупполово                                              1\n",
       "поселок Перово                                                 1\n",
       "деревня Тихковицы                                              1\n",
       "деревня Выскатка                                               1\n",
       "село Шум                                                       1\n",
       "посёлок Белоостров                                             1\n",
       "поселок Жилгородок                                             1\n",
       "деревня Пчева                                                  1\n",
       "посёлок Ропша                                                  1\n",
       "деревня Лаврики                                                1\n",
       "деревня Вахнова Кара                                           1\n",
       "деревня Реброво                                                1\n",
       "поселок Рабитицы                                               1\n",
       "коттеджный поселок Счастье                                     1\n",
       "садовое товарищество Приладожский                              1\n",
       "посёлок Плоское                                                1\n",
       "деревня Новолисино                                             1\n",
       "поселок Володарское                                            1\n",
       "Name: locality_name, dtype: int64"
      ]
     },
     "execution_count": 26,
     "metadata": {},
     "output_type": "execute_result"
    }
   ],
   "source": [
    "pd.set_option('display.max_rows', 500)\n",
    "\n",
    "data['locality_name'].value_counts()"
   ]
  },
  {
   "cell_type": "markdown",
   "metadata": {},
   "source": [
    "Видно, что названия могут дублироваться из-за использования букв е\\ё, а также из-за разного набора вспомогательных слов перед названием населенных пунктов."
   ]
  },
  {
   "cell_type": "code",
   "execution_count": 27,
   "metadata": {},
   "outputs": [],
   "source": [
    "#заменим ё на е, а также заменим вспомогательные слова пустой строкой, сначала длинные фразы, потом короткие\n",
    "\n",
    "data['locality_name'] = data['locality_name'].str.replace('ё', 'е', regex = True)\n",
    "\n",
    "data['locality_name'] = data['locality_name'].str.replace('поселок городского типа ', '', regex = True)\n",
    "\n",
    "data['locality_name'] = data['locality_name'].str.replace('коттеджный поселок ', '', regex = True)\n",
    "\n",
    "data['locality_name'] = data['locality_name'].str.replace('городской поселок ', '', regex = True)\n",
    "\n",
    "data['locality_name'] = data['locality_name'].str.replace('деревня ', '', regex = True)\n",
    "\n",
    "data['locality_name'] = data['locality_name'].str.replace('поселок ', '', regex = True)\n",
    "\n",
    "data['locality_name'] = data['locality_name'].str.replace('село ', '', regex = True)"
   ]
  },
  {
   "cell_type": "markdown",
   "metadata": {},
   "source": [
    "<div class=\"alert alert-success\">\n",
    "<b>✔️ Комментарий ревьюера:</b> Здорово, что поработал с названиями населенных пунктов! Так избавились от неявных дублей"
   ]
  },
  {
   "cell_type": "code",
   "execution_count": 28,
   "metadata": {},
   "outputs": [
    {
     "data": {
      "text/plain": [
       "Санкт-Петербург                                            15538\n",
       "Мурино                                                       573\n",
       "Кудрово                                                      464\n",
       "Шушары                                                       437\n",
       "Всеволожск                                                   390\n",
       "Пушкин                                                       368\n",
       "Колпино                                                      337\n",
       "Парголово                                                    326\n",
       "Гатчина                                                      303\n",
       "Выборг                                                       234\n",
       "Петергоф                                                     199\n",
       "Сестрорецк                                                   182\n",
       "Красное Село                                                 176\n",
       "Новое Девяткино                                              142\n",
       "Сертолово                                                    141\n",
       "Ломоносов                                                    133\n",
       "Кириши                                                       125\n",
       "Бугры                                                        112\n",
       "Волхов                                                       110\n",
       "Сланцы                                                       110\n",
       "Тосно                                                        103\n",
       "Кингисепп                                                    103\n",
       "Кронштадт                                                     96\n",
       "Никольское                                                    92\n",
       "Коммунар                                                      88\n",
       "Сосновый Бор                                                  86\n",
       "Кировск                                                       84\n",
       "Отрадное                                                      80\n",
       "Янино-1                                                       67\n",
       "Металлострой                                                  66\n",
       "Приозерск                                                     65\n",
       "Старая                                                        63\n",
       "Шлиссельбург                                                  57\n",
       "Луга                                                          52\n",
       "Тихвин                                                        49\n",
       "Стрельна                                                      43\n",
       "Тельмана                                                      41\n",
       "Рощино                                                        39\n",
       "Павловск                                                      38\n",
       "Романовка                                                     36\n",
       "Волосово                                                      36\n",
       "имени Свердлова                                               36\n",
       "Кузьмоловский                                                 35\n",
       "Мга                                                           33\n",
       "Сиверский                                                     29\n",
       "Ивангород                                                     27\n",
       "Новоселье                                                     26\n",
       "Зеленогорск                                                   24\n",
       "Сясьстрой                                                     24\n",
       "Щеглово                                                       23\n",
       "Новый Свет                                                    22\n",
       "Вырица                                                        22\n",
       "Синявино                                                      21\n",
       "Лодейное Поле                                                 20\n",
       "Понтонный                                                     20\n",
       "Лесколово                                                     20\n",
       "Новогорелово                                                  20\n",
       "Вартемяги                                                     20\n",
       "Подпорожье                                                    19\n",
       "Токсово                                                       19\n",
       "Пикалево                                                      18\n",
       "Сосново                                                       18\n",
       "Павлово                                                       18\n",
       "Бегуницы                                                      17\n",
       "Гарболово                                                     17\n",
       "имени Морозова                                                17\n",
       "Назия                                                         17\n",
       "Бокситогорск                                                  16\n",
       "Большие Колпаны                                               16\n",
       "Большая Ижора                                                 16\n",
       "Аннино                                                        16\n",
       "Лебяжье                                                       15\n",
       "Федоровское                                                   15\n",
       "Дубровка                                                      15\n",
       "Рахья                                                         15\n",
       "Горбунки                                                      15\n",
       "Ульяновка                                                     13\n",
       "Каменногорск                                                  13\n",
       "Кузнечное                                                     13\n",
       "Новая Ладога                                                  13\n",
       "Елизаветино                                                   13\n",
       "Светогорск                                                    11\n",
       "Малое Верево                                                  11\n",
       "Мичуринское                                                   11\n",
       "Колтуши                                                       11\n",
       "Нурма                                                         11\n",
       "Белогорка                                                     11\n",
       "Мистолово                                                     11\n",
       "Гостилицы                                                     11\n",
       "Любань                                                        10\n",
       "Лаголово                                                      10\n",
       "Советский                                                     10\n",
       "Низино                                                        10\n",
       "Войсковицы                                                    10\n",
       "Сяськелево                                                    10\n",
       "Русско-Высоцкое                                                9\n",
       "Пудость                                                        9\n",
       "Приладожский                                                   9\n",
       "Оржицы                                                         9\n",
       "Молодцово                                                      9\n",
       "Батово                                                         9\n",
       "Кобралово                                                      9\n",
       "Сельцо                                                         9\n",
       "Калитино                                                       8\n",
       "Ильичево                                                       8\n",
       "Первомайское                                                   8\n",
       "Стеклянный                                                     8\n",
       "Красный Бор                                                    8\n",
       "Малое Карлино                                                  8\n",
       "Запорожское                                                    8\n",
       "Приморск                                                       8\n",
       "Суходолье                                                      8\n",
       "Куттузи                                                        7\n",
       "Углово                                                         7\n",
       "Кипень                                                         7\n",
       "Кузьмолово                                                     7\n",
       "Извара                                                         7\n",
       "Малые Колпаны                                                  7\n",
       "Никольский                                                     7\n",
       "Кальтино                                                       7\n",
       "Саперный                                                       6\n",
       "Поляны                                                         6\n",
       "Терволово                                                      6\n",
       "Лампово                                                        6\n",
       "Кобринское                                                     6\n",
       "Пеники                                                         6\n",
       "Яльгелево                                                      6\n",
       "Важины                                                         6\n",
       "Пудомяги                                                       6\n",
       "Тайцы                                                          6\n",
       "Ушаки                                                          6\n",
       "Форносово                                                      6\n",
       "Победа                                                         6\n",
       "Лопухинка                                                      6\n",
       "Новый Учхоз                                                    6\n",
       "Заневка                                                        6\n",
       "Молодежное                                                     5\n",
       "Петровское                                                     5\n",
       "Усть-Луга                                                      5\n",
       "Плодовое                                                       5\n",
       "Глажево                                                        5\n",
       "Семрино                                                        5\n",
       "Мельниково                                                     5\n",
       "Лесогорский                                                    5\n",
       "Войскорово                                                     5\n",
       "Дружная Горка                                                  5\n",
       "Селезнево                                                      5\n",
       "Репино                                                         4\n",
       "Зимитицы                                                       4\n",
       "Песочный                                                       4\n",
       "Копорье                                                        4\n",
       "Будогощь                                                       4\n",
       "Рябово                                                         4\n",
       "Суйда                                                          4\n",
       "Разбегаево                                                     4\n",
       "Большая Вруда                                                  4\n",
       "Торфяное                                                       4\n",
       "Гаврилово                                                      4\n",
       "Старая Малукса                                                 4\n",
       "Цвелодубово                                                    4\n",
       "Перово                                                         4\n",
       "Разметелево                                                    4\n",
       "Юкки                                                           4\n",
       "Кикерино                                                       4\n",
       "Келози                                                         4\n",
       "Парицы                                                         4\n",
       "Агалатово                                                      4\n",
       "Котельский                                                     3\n",
       "Рождествено                                                    3\n",
       "Лисий Нос                                                      3\n",
       "Заводской                                                      3\n",
       "Виллози                                                        3\n",
       "Заклинье                                                       3\n",
       "Аро                                                            3\n",
       "Красная Долина                                                 3\n",
       "Рабитицы                                                       3\n",
       "Торосово                                                       3\n",
       "станции Громово                                                3\n",
       "Пригородный                                                    3\n",
       "Ефимовский                                                     3\n",
       "Ваганово                                                       3\n",
       "Торошковичи                                                    3\n",
       "Старополье                                                     3\n",
       "станции Вещево                                                 3\n",
       "Возрождение                                                    3\n",
       "Лесное                                                         3\n",
       "Громово                                                        3\n",
       "Лукаши                                                         3\n",
       "Высоцк                                                         3\n",
       "Старосиверская                                                 3\n",
       "Оредеж                                                         3\n",
       "Глебычево                                                      3\n",
       "Торковичи                                                      3\n",
       "Жилгородок                                                     3\n",
       "Путилово                                                       2\n",
       "Совхозный                                                      2\n",
       "Камышовка                                                      2\n",
       "Старая Ладога                                                  2\n",
       "Коркино                                                        2\n",
       "Сумино                                                         2\n",
       "Суоранда                                                       2\n",
       "Александровская                                                2\n",
       "Усть-Ижора                                                     2\n",
       "Кингисеппский                                                  2\n",
       "Саперное                                                       2\n",
       "Старая Пустошь                                                 2\n",
       "станции Приветнинское                                          2\n",
       "Житково                                                        2\n",
       "Ленинское                                                      2\n",
       "Паша                                                           2\n",
       "Барышево                                                       2\n",
       "Глинка                                                         2\n",
       "Старые Бегуницы                                                2\n",
       "Пушное                                                         2\n",
       "Тарасово                                                       2\n",
       "Фалилеево                                                      2\n",
       "Бор                                                            2\n",
       "Вознесенье                                                     2\n",
       "Пансионат Зеленый Бор                                          2\n",
       "Коробицыно                                                     2\n",
       "Починок                                                        2\n",
       "Ям-Тесово                                                      2\n",
       "Мины                                                           2\n",
       "Серебрянский                                                   2\n",
       "Ненимяки                                                       2\n",
       "станции Свирь                                                  2\n",
       "при железнодорожной станции Приветнинское                      1\n",
       "Гладкое                                                        1\n",
       "Ялгино                                                         1\n",
       "Кривко                                                         1\n",
       "Куровицы                                                       1\n",
       "Пижма                                                          1\n",
       "при железнодорожной станции Вещево                             1\n",
       "Дружноселье                                                    1\n",
       "садовое товарищество Рахья                                     1\n",
       "Кирпичное                                                      1\n",
       "Свирьстрой                                                     1\n",
       "Русско                                                         1\n",
       "Петро-Славянка                                                 1\n",
       "Мыза-Ивановка                                                  1\n",
       "станции Лужайка                                                1\n",
       "Раздолье                                                       1\n",
       "Пчевжа                                                         1\n",
       "Ропша                                                          1\n",
       "Платформа 69-й километр                                        1\n",
       "Рапполово                                                      1\n",
       "садовое товарищество Приладожский                              1\n",
       "Пикколово                                                      1\n",
       "Большой Сабск                                                  1\n",
       "садовое товарищество Садко                                     1\n",
       "Котлы                                                          1\n",
       "Трубников Бор                                                  1\n",
       "Кивеннапа Север                                                1\n",
       "Шпаньково                                                      1\n",
       "Вахнова Кара                                                   1\n",
       "Счастье                                                        1\n",
       "Красносельское                                                 1\n",
       "Высокоключевой                                                 1\n",
       "Реброво                                                        1\n",
       "Малая Романовка                                                1\n",
       "Мануйлово                                                      1\n",
       "Жилпоселок                                                     1\n",
       "Меньково                                                       1\n",
       "Семиозерье                                                     1\n",
       "Дзержинского                                                   1\n",
       "Кисельня                                                       1\n",
       "Алексеевка                                                     1\n",
       "Коммунары                                                      1\n",
       "станции Корнево                                                1\n",
       "Кондратьево                                                    1\n",
       "Тойворово                                                      1\n",
       "Нижние Осельки                                                 1\n",
       "садовое товарищество Новая Ропша                               1\n",
       "Почап                                                          1\n",
       "Цвылево                                                        1\n",
       "Плоское                                                        1\n",
       "садоводческое некоммерческое товарищество Лесная Поляна        1\n",
       "Хязельки                                                       1\n",
       "Пустынка                                                       1\n",
       "Белоостров                                                     1\n",
       "Курковицы                                                      1\n",
       "Чудской Бор                                                    1\n",
       "Нижняя                                                         1\n",
       "Терпилицы                                                      1\n",
       "Гончарово                                                      1\n",
       "Шугозеро                                                       1\n",
       "Большое Рейзино                                                1\n",
       "Каложицы                                                       1\n",
       "Лаврики                                                        1\n",
       "Пельгора                                                       1\n",
       "Левашово                                                       1\n",
       "Ромашки                                                        1\n",
       "Пчева                                                          1\n",
       "Борисова Грива                                                 1\n",
       "Иссад                                                          1\n",
       "Хапо-Ое                                                        1\n",
       "Форт Красная Горка                                             1\n",
       "Выскатка                                                       1\n",
       "Лупполово                                                      1\n",
       "Тихковицы                                                      1\n",
       "Большая Пустомержа                                             1\n",
       "Шум                                                            1\n",
       "Тесово-4                                                       1\n",
       "Новолисино                                                     1\n",
       "Сижно                                                          1\n",
       "Каськово                                                       1\n",
       "Севастьяново                                                   1\n",
       "Снегиревка                                                     1\n",
       "Старое Хинколово                                               1\n",
       "Володарское                                                    1\n",
       "Name: locality_name, dtype: int64"
      ]
     },
     "execution_count": 28,
     "metadata": {},
     "output_type": "execute_result"
    }
   ],
   "source": [
    "#проверяем\n",
    "\n",
    "data['locality_name'].value_counts()"
   ]
  },
  {
   "cell_type": "code",
   "execution_count": 29,
   "metadata": {},
   "outputs": [],
   "source": [
    "pd.reset_option('display.max_rows')"
   ]
  },
  {
   "cell_type": "markdown",
   "metadata": {},
   "source": [
    "#### Замена типов данных"
   ]
  },
  {
   "cell_type": "code",
   "execution_count": 30,
   "metadata": {},
   "outputs": [
    {
     "name": "stdout",
     "output_type": "stream",
     "text": [
      "<class 'pandas.core.frame.DataFrame'>\n",
      "Int64Index: 23378 entries, 0 to 23698\n",
      "Data columns (total 22 columns):\n",
      " #   Column                Non-Null Count  Dtype         \n",
      "---  ------                --------------  -----         \n",
      " 0   total_images          23378 non-null  int64         \n",
      " 1   last_price            23378 non-null  int64         \n",
      " 2   total_area            23378 non-null  float64       \n",
      " 3   first_day_exposition  23378 non-null  datetime64[ns]\n",
      " 4   rooms                 23378 non-null  int64         \n",
      " 5   ceiling_height        23378 non-null  float64       \n",
      " 6   floors_total          23378 non-null  int64         \n",
      " 7   living_area           23378 non-null  float64       \n",
      " 8   floor                 23378 non-null  int64         \n",
      " 9   is_apartment          23378 non-null  bool          \n",
      " 10  studio                23378 non-null  bool          \n",
      " 11  open_plan             23378 non-null  bool          \n",
      " 12  kitchen_area          23378 non-null  float64       \n",
      " 13  balcony               23378 non-null  int64         \n",
      " 14  locality_name         23378 non-null  object        \n",
      " 15  airports_nearest      17920 non-null  float64       \n",
      " 16  cityCenters_nearest   17943 non-null  float64       \n",
      " 17  parks_around3000      17944 non-null  float64       \n",
      " 18  parks_nearest         7973 non-null   float64       \n",
      " 19  ponds_around3000      17944 non-null  float64       \n",
      " 20  ponds_nearest         8982 non-null   float64       \n",
      " 21  days_exposition       23378 non-null  int64         \n",
      "dtypes: bool(3), datetime64[ns](1), float64(10), int64(7), object(1)\n",
      "memory usage: 3.6+ MB\n"
     ]
    }
   ],
   "source": [
    "data['is_apartment'] = data['is_apartment'].astype(bool)   #является ли апартаментами - это булев тип\n",
    "\n",
    "data['balcony'] = data['balcony'].astype(int) #число балконов целое\n",
    "\n",
    "data['floors_total'] = data['floors_total'].astype(int) #число этажей тоже\n",
    "\n",
    "data['last_price'] = data['last_price'].astype(int) #для удобства цену округлим до целого\n",
    "\n",
    "data['days_exposition'] = data['days_exposition'].astype(int) #с днями аналогично\n",
    "\n",
    "#дату переведём в соответствующий формат для удобства дальнейшей работы\n",
    "data['first_day_exposition'] = pd.to_datetime(data['first_day_exposition'], format='%Y-%m-%dT%H:%M:%S') \n",
    "\n",
    "data.info()"
   ]
  },
  {
   "cell_type": "markdown",
   "metadata": {},
   "source": [
    "<div class=\"alert alert-warning\">\n",
    "<b>⚠️ Комментарий ревьюера:</b> Можно еще заменить тип данных с float64 на float32 для экономии памяти"
   ]
  },
  {
   "cell_type": "code",
   "execution_count": 31,
   "metadata": {
    "scrolled": true
   },
   "outputs": [],
   "source": [
    "#data[['total_area','ceiling_height','living_area','kitchen_area','airports_nearest':'ponds_nearest ']] = data[['total_area','ceiling_height','living_area','kitchen_area','airports_nearest','ponds_nearest']].astype(float32)"
   ]
  },
  {
   "cell_type": "markdown",
   "metadata": {},
   "source": [
    "<div class=\"alert alert-info\"> <b>Комментарий студента:</b> Подскажи, можно ли это в одну строку сделать? Что-то у меня не получилось, см.код выше.</div>"
   ]
  },
  {
   "cell_type": "markdown",
   "metadata": {},
   "source": [
    "<div class=\"alert alert-success\">\n",
    "<b>✔️ Комментарий ревьюера V2:</b> Лучше воспользоваться циклом:\n",
    "        \n",
    "        fr i in list(['total_area','ceiling_height','living_area','kitchen_area','airports_nearest':'ponds_nearest ']):\n",
    "            ..."
   ]
  },
  {
   "cell_type": "markdown",
   "metadata": {},
   "source": [
    "#### Обработка аномальных значений"
   ]
  },
  {
   "cell_type": "code",
   "execution_count": 32,
   "metadata": {},
   "outputs": [
    {
     "data": {
      "text/html": [
       "<div>\n",
       "<style scoped>\n",
       "    .dataframe tbody tr th:only-of-type {\n",
       "        vertical-align: middle;\n",
       "    }\n",
       "\n",
       "    .dataframe tbody tr th {\n",
       "        vertical-align: top;\n",
       "    }\n",
       "\n",
       "    .dataframe thead th {\n",
       "        text-align: right;\n",
       "    }\n",
       "</style>\n",
       "<table border=\"1\" class=\"dataframe\">\n",
       "  <thead>\n",
       "    <tr style=\"text-align: right;\">\n",
       "      <th></th>\n",
       "      <th>total_images</th>\n",
       "      <th>last_price</th>\n",
       "      <th>total_area</th>\n",
       "      <th>rooms</th>\n",
       "      <th>ceiling_height</th>\n",
       "      <th>floors_total</th>\n",
       "      <th>living_area</th>\n",
       "      <th>floor</th>\n",
       "      <th>kitchen_area</th>\n",
       "      <th>balcony</th>\n",
       "      <th>airports_nearest</th>\n",
       "      <th>cityCenters_nearest</th>\n",
       "      <th>parks_around3000</th>\n",
       "      <th>parks_nearest</th>\n",
       "      <th>ponds_around3000</th>\n",
       "      <th>ponds_nearest</th>\n",
       "      <th>days_exposition</th>\n",
       "    </tr>\n",
       "  </thead>\n",
       "  <tbody>\n",
       "    <tr>\n",
       "      <th>count</th>\n",
       "      <td>23378.000000</td>\n",
       "      <td>2.337800e+04</td>\n",
       "      <td>23378.000000</td>\n",
       "      <td>23378.000000</td>\n",
       "      <td>23378.000000</td>\n",
       "      <td>23378.000000</td>\n",
       "      <td>23378.000000</td>\n",
       "      <td>23378.000000</td>\n",
       "      <td>23378.000000</td>\n",
       "      <td>23378.000000</td>\n",
       "      <td>17920.000000</td>\n",
       "      <td>17943.000000</td>\n",
       "      <td>17944.000000</td>\n",
       "      <td>7973.000000</td>\n",
       "      <td>17944.000000</td>\n",
       "      <td>8982.000000</td>\n",
       "      <td>23378.000000</td>\n",
       "    </tr>\n",
       "    <tr>\n",
       "      <th>mean</th>\n",
       "      <td>9.880144</td>\n",
       "      <td>6.539320e+06</td>\n",
       "      <td>60.401983</td>\n",
       "      <td>2.073274</td>\n",
       "      <td>2.726185</td>\n",
       "      <td>10.665497</td>\n",
       "      <td>34.590636</td>\n",
       "      <td>5.872701</td>\n",
       "      <td>10.383107</td>\n",
       "      <td>0.592095</td>\n",
       "      <td>28806.237891</td>\n",
       "      <td>14203.371454</td>\n",
       "      <td>0.611068</td>\n",
       "      <td>490.533676</td>\n",
       "      <td>0.769394</td>\n",
       "      <td>518.135382</td>\n",
       "      <td>143.192531</td>\n",
       "    </tr>\n",
       "    <tr>\n",
       "      <th>std</th>\n",
       "      <td>5.675547</td>\n",
       "      <td>1.089991e+07</td>\n",
       "      <td>35.698463</td>\n",
       "      <td>1.078743</td>\n",
       "      <td>0.759296</td>\n",
       "      <td>6.584933</td>\n",
       "      <td>22.747120</td>\n",
       "      <td>4.866271</td>\n",
       "      <td>5.818635</td>\n",
       "      <td>0.959197</td>\n",
       "      <td>12636.989018</td>\n",
       "      <td>8622.155102</td>\n",
       "      <td>0.801848</td>\n",
       "      <td>340.530607</td>\n",
       "      <td>0.938081</td>\n",
       "      <td>277.912316</td>\n",
       "      <td>225.997961</td>\n",
       "    </tr>\n",
       "    <tr>\n",
       "      <th>min</th>\n",
       "      <td>0.000000</td>\n",
       "      <td>1.219000e+04</td>\n",
       "      <td>13.000000</td>\n",
       "      <td>0.000000</td>\n",
       "      <td>1.000000</td>\n",
       "      <td>1.000000</td>\n",
       "      <td>2.000000</td>\n",
       "      <td>1.000000</td>\n",
       "      <td>0.000000</td>\n",
       "      <td>0.000000</td>\n",
       "      <td>0.000000</td>\n",
       "      <td>181.000000</td>\n",
       "      <td>0.000000</td>\n",
       "      <td>1.000000</td>\n",
       "      <td>0.000000</td>\n",
       "      <td>13.000000</td>\n",
       "      <td>-100.000000</td>\n",
       "    </tr>\n",
       "    <tr>\n",
       "      <th>25%</th>\n",
       "      <td>6.000000</td>\n",
       "      <td>3.430000e+06</td>\n",
       "      <td>40.000000</td>\n",
       "      <td>1.000000</td>\n",
       "      <td>2.550000</td>\n",
       "      <td>5.000000</td>\n",
       "      <td>18.700000</td>\n",
       "      <td>2.000000</td>\n",
       "      <td>7.000000</td>\n",
       "      <td>0.000000</td>\n",
       "      <td>18573.000000</td>\n",
       "      <td>9238.000000</td>\n",
       "      <td>0.000000</td>\n",
       "      <td>288.000000</td>\n",
       "      <td>0.000000</td>\n",
       "      <td>293.000000</td>\n",
       "      <td>22.000000</td>\n",
       "    </tr>\n",
       "    <tr>\n",
       "      <th>50%</th>\n",
       "      <td>9.000000</td>\n",
       "      <td>4.650000e+06</td>\n",
       "      <td>52.000000</td>\n",
       "      <td>2.000000</td>\n",
       "      <td>2.700000</td>\n",
       "      <td>9.000000</td>\n",
       "      <td>30.000000</td>\n",
       "      <td>4.000000</td>\n",
       "      <td>9.000000</td>\n",
       "      <td>0.000000</td>\n",
       "      <td>26764.500000</td>\n",
       "      <td>13099.000000</td>\n",
       "      <td>0.000000</td>\n",
       "      <td>455.000000</td>\n",
       "      <td>1.000000</td>\n",
       "      <td>503.000000</td>\n",
       "      <td>73.000000</td>\n",
       "    </tr>\n",
       "    <tr>\n",
       "      <th>75%</th>\n",
       "      <td>14.000000</td>\n",
       "      <td>6.796750e+06</td>\n",
       "      <td>69.800000</td>\n",
       "      <td>3.000000</td>\n",
       "      <td>2.700000</td>\n",
       "      <td>16.000000</td>\n",
       "      <td>42.200000</td>\n",
       "      <td>8.000000</td>\n",
       "      <td>11.700000</td>\n",
       "      <td>1.000000</td>\n",
       "      <td>37275.500000</td>\n",
       "      <td>16293.000000</td>\n",
       "      <td>1.000000</td>\n",
       "      <td>612.000000</td>\n",
       "      <td>1.000000</td>\n",
       "      <td>730.000000</td>\n",
       "      <td>199.000000</td>\n",
       "    </tr>\n",
       "    <tr>\n",
       "      <th>max</th>\n",
       "      <td>50.000000</td>\n",
       "      <td>7.630000e+08</td>\n",
       "      <td>900.000000</td>\n",
       "      <td>19.000000</td>\n",
       "      <td>32.000000</td>\n",
       "      <td>60.000000</td>\n",
       "      <td>427.546729</td>\n",
       "      <td>33.000000</td>\n",
       "      <td>122.173523</td>\n",
       "      <td>5.000000</td>\n",
       "      <td>84869.000000</td>\n",
       "      <td>65968.000000</td>\n",
       "      <td>3.000000</td>\n",
       "      <td>3190.000000</td>\n",
       "      <td>3.000000</td>\n",
       "      <td>1344.000000</td>\n",
       "      <td>1580.000000</td>\n",
       "    </tr>\n",
       "  </tbody>\n",
       "</table>\n",
       "</div>"
      ],
      "text/plain": [
       "       total_images    last_price    total_area         rooms  ceiling_height  \\\n",
       "count  23378.000000  2.337800e+04  23378.000000  23378.000000    23378.000000   \n",
       "mean       9.880144  6.539320e+06     60.401983      2.073274        2.726185   \n",
       "std        5.675547  1.089991e+07     35.698463      1.078743        0.759296   \n",
       "min        0.000000  1.219000e+04     13.000000      0.000000        1.000000   \n",
       "25%        6.000000  3.430000e+06     40.000000      1.000000        2.550000   \n",
       "50%        9.000000  4.650000e+06     52.000000      2.000000        2.700000   \n",
       "75%       14.000000  6.796750e+06     69.800000      3.000000        2.700000   \n",
       "max       50.000000  7.630000e+08    900.000000     19.000000       32.000000   \n",
       "\n",
       "       floors_total   living_area         floor  kitchen_area       balcony  \\\n",
       "count  23378.000000  23378.000000  23378.000000  23378.000000  23378.000000   \n",
       "mean      10.665497     34.590636      5.872701     10.383107      0.592095   \n",
       "std        6.584933     22.747120      4.866271      5.818635      0.959197   \n",
       "min        1.000000      2.000000      1.000000      0.000000      0.000000   \n",
       "25%        5.000000     18.700000      2.000000      7.000000      0.000000   \n",
       "50%        9.000000     30.000000      4.000000      9.000000      0.000000   \n",
       "75%       16.000000     42.200000      8.000000     11.700000      1.000000   \n",
       "max       60.000000    427.546729     33.000000    122.173523      5.000000   \n",
       "\n",
       "       airports_nearest  cityCenters_nearest  parks_around3000  parks_nearest  \\\n",
       "count      17920.000000         17943.000000      17944.000000    7973.000000   \n",
       "mean       28806.237891         14203.371454          0.611068     490.533676   \n",
       "std        12636.989018          8622.155102          0.801848     340.530607   \n",
       "min            0.000000           181.000000          0.000000       1.000000   \n",
       "25%        18573.000000          9238.000000          0.000000     288.000000   \n",
       "50%        26764.500000         13099.000000          0.000000     455.000000   \n",
       "75%        37275.500000         16293.000000          1.000000     612.000000   \n",
       "max        84869.000000         65968.000000          3.000000    3190.000000   \n",
       "\n",
       "       ponds_around3000  ponds_nearest  days_exposition  \n",
       "count      17944.000000    8982.000000     23378.000000  \n",
       "mean           0.769394     518.135382       143.192531  \n",
       "std            0.938081     277.912316       225.997961  \n",
       "min            0.000000      13.000000      -100.000000  \n",
       "25%            0.000000     293.000000        22.000000  \n",
       "50%            1.000000     503.000000        73.000000  \n",
       "75%            1.000000     730.000000       199.000000  \n",
       "max            3.000000    1344.000000      1580.000000  "
      ]
     },
     "execution_count": 32,
     "metadata": {},
     "output_type": "execute_result"
    }
   ],
   "source": [
    "#рассмотрим общее описание данных таблицы\n",
    "\n",
    "data.describe()"
   ]
  },
  {
   "cell_type": "code",
   "execution_count": 33,
   "metadata": {},
   "outputs": [
    {
     "data": {
      "text/plain": [
       "total_images            163\n",
       "last_price              163\n",
       "total_area              163\n",
       "first_day_exposition    163\n",
       "rooms                   163\n",
       "ceiling_height          163\n",
       "floors_total            163\n",
       "living_area             163\n",
       "floor                   163\n",
       "is_apartment            163\n",
       "studio                  163\n",
       "open_plan               163\n",
       "kitchen_area            163\n",
       "balcony                 163\n",
       "locality_name           163\n",
       "airports_nearest         77\n",
       "cityCenters_nearest      77\n",
       "parks_around3000         77\n",
       "parks_nearest            30\n",
       "ponds_around3000         77\n",
       "ponds_nearest            52\n",
       "days_exposition         163\n",
       "dtype: int64"
      ]
     },
     "execution_count": 33,
     "metadata": {},
     "output_type": "execute_result"
    }
   ],
   "source": [
    "#минимальная площадь квартиры по нормам должна быть не менее 25 кв.м, значения ниже выглядят подозрительно\n",
    "\n",
    "data.query('total_area < 25').count()"
   ]
  },
  {
   "cell_type": "markdown",
   "metadata": {},
   "source": [
    "<div class=\"alert alert-warning\">\n",
    "<b>⚠️ Комментарий ревьюера:</b> Прежде чем удалять данные всегда лучше проверить их долю, чтобы не уйти за пределы 5-7%, которые мы можем отбросить"
   ]
  },
  {
   "cell_type": "code",
   "execution_count": 34,
   "metadata": {
    "scrolled": true
   },
   "outputs": [
    {
     "data": {
      "text/plain": [
       "0.007"
      ]
     },
     "execution_count": 34,
     "metadata": {},
     "output_type": "execute_result"
    }
   ],
   "source": [
    "#проверим долю от общего числа\n",
    "\n",
    "round(data.query('total_area < 25')['total_area'].count() / len(data), 3)"
   ]
  },
  {
   "cell_type": "code",
   "execution_count": 35,
   "metadata": {},
   "outputs": [],
   "source": [
    "#их относительно немного, сделаем срез без них\n",
    "\n",
    "data = data.query('total_area >=25')"
   ]
  },
  {
   "cell_type": "code",
   "execution_count": 36,
   "metadata": {},
   "outputs": [
    {
     "data": {
      "text/plain": [
       "Text(0, 0.5, 'count')"
      ]
     },
     "execution_count": 36,
     "metadata": {},
     "output_type": "execute_result"
    },
    {
     "data": {
      "image/png": "[encoded data removed]",
      "text/plain": [
       "<Figure size 1080x360 with 1 Axes>"
      ]
     },
     "metadata": {
      "needs_background": "light"
     },
     "output_type": "display_data"
    }
   ],
   "source": [
    "#рассмотрим распределение общей площади в целом\n",
    "\n",
    "data['total_area'].hist(bins=100,figsize=(15,5))\n",
    "\n",
    "plt.xlabel('total_area')\n",
    "plt.ylabel('count')"
   ]
  },
  {
   "cell_type": "markdown",
   "metadata": {},
   "source": [
    "<div class=\"alert alert-warning\">\n",
    "<b>⚠️ Комментарий ревьюера:</b> Вы еще не проходили подписи графиков (осей), но можно их добавить, чтобы гистограмма стала информативнее. Можно почитать здесь, как добавить подписи: \n",
    "    \n",
    "    https://www.geeksforgeeks.org/adding-labels-to-histogram-bars-in-matplotlib/"
   ]
  },
  {
   "cell_type": "markdown",
   "metadata": {},
   "source": [
    "<div class=\"alert alert-info\"> <b>Комментарий студента:</b> Добавил, спасибо).</div>"
   ]
  },
  {
   "cell_type": "markdown",
   "metadata": {},
   "source": [
    "<div class=\"alert alert-success\">\n",
    "<b>✔️ Комментарий ревьюера V2:</b> Молодец, что разобрался!"
   ]
  },
  {
   "cell_type": "code",
   "execution_count": 37,
   "metadata": {},
   "outputs": [],
   "source": [
    "#видно, что основная часть площадей расположена до 200 кв.м, все, что больше, на уровне шума, срежем их\n",
    "\n",
    "data = data.query('total_area <= 200')"
   ]
  },
  {
   "cell_type": "code",
   "execution_count": 38,
   "metadata": {},
   "outputs": [
    {
     "data": {
      "text/plain": [
       "2.700     7541\n",
       "2.500     4107\n",
       "2.600     2106\n",
       "2.550     1556\n",
       "2.750     1086\n",
       "3.000     1084\n",
       "2.800      983\n",
       "2.650      744\n",
       "2.640      267\n",
       "3.200      262\n",
       "2.630      232\n",
       "3.100      197\n",
       "2.560      174\n",
       "2.900      160\n",
       "2.400      141\n",
       "3.300      132\n",
       "2.730      128\n",
       "2.580      124\n",
       "3.500      112\n",
       "2.570      102\n",
       "2.850      100\n",
       "2.520       97\n",
       "2.540       84\n",
       "3.400       82\n",
       "2.530       65\n",
       "2.770       60\n",
       "2.760       58\n",
       "3.150       54\n",
       "2.780       51\n",
       "2.950       47\n",
       "3.050       44\n",
       "2.670       36\n",
       "3.250       35\n",
       "3.600       33\n",
       "2.510       33\n",
       "4.000       31\n",
       "2.720       31\n",
       "3.700       27\n",
       "2.740       27\n",
       "3.900       24\n",
       "2.560       23\n",
       "2.680       21\n",
       "2.840       19\n",
       "3.800       18\n",
       "2.820       18\n",
       "2.660       17\n",
       "2.675       17\n",
       "2.525       16\n",
       "2.620       16\n",
       "2.450       15\n",
       "3.550       15\n",
       "3.120       15\n",
       "2.830       15\n",
       "3.350       14\n",
       "3.080       13\n",
       "2.710       13\n",
       "2.590       13\n",
       "2.880       12\n",
       "3.180       11\n",
       "3.070       11\n",
       "2.000       11\n",
       "3.060       11\n",
       "3.130       10\n",
       "2.790       10\n",
       "2.870       10\n",
       "2.920        9\n",
       "3.450        9\n",
       "4.200        9\n",
       "3.380        8\n",
       "27.000       8\n",
       "3.020        8\n",
       "2.810        8\n",
       "2.480        8\n",
       "3.750        7\n",
       "25.000       7\n",
       "2.515        7\n",
       "2.600        7\n",
       "3.260        6\n",
       "3.330        6\n",
       "3.280        6\n",
       "2.860        6\n",
       "3.160        6\n",
       "3.950        6\n",
       "3.110        6\n",
       "3.270        6\n",
       "2.625        6\n",
       "3.010        6\n",
       "3.040        6\n",
       "3.470        5\n",
       "2.960        5\n",
       "3.140        5\n",
       "3.540        5\n",
       "2.650        5\n",
       "3.170        5\n",
       "3.360        5\n",
       "2.575        5\n",
       "3.560        5\n",
       "4.500        5\n",
       "2.610        5\n",
       "3.240        4\n",
       "2.725        4\n",
       "3.230        4\n",
       "3.320        4\n",
       "3.370        4\n",
       "2.930        4\n",
       "2.300        4\n",
       "3.650        4\n",
       "2.910        4\n",
       "3.090        4\n",
       "2.970        4\n",
       "4.100        3\n",
       "3.630        3\n",
       "3.030        3\n",
       "3.310        3\n",
       "3.530        3\n",
       "3.460        3\n",
       "3.670        3\n",
       "3.220        3\n",
       "2.470        3\n",
       "3.210        3\n",
       "3.520        3\n",
       "13.850       3\n",
       "8.000        3\n",
       "3.340        3\n",
       "3.780        2\n",
       "2.940        2\n",
       "32.000       2\n",
       "4.190        2\n",
       "2.615        2\n",
       "3.620        2\n",
       "2.460        2\n",
       "2.690        2\n",
       "3.660        2\n",
       "14.000       1\n",
       "8.300        1\n",
       "10.300       1\n",
       "2.250        1\n",
       "3.930        1\n",
       "3.840        1\n",
       "3.880        1\n",
       "4.250        1\n",
       "26.000       1\n",
       "24.000       1\n",
       "3.510        1\n",
       "4.700        1\n",
       "22.600       1\n",
       "4.400        1\n",
       "2.890        1\n",
       "3.590        1\n",
       "3.480        1\n",
       "2.490        1\n",
       "4.300        1\n",
       "4.060        1\n",
       "5.800        1\n",
       "2.555        1\n",
       "5.500        1\n",
       "4.140        1\n",
       "4.800        1\n",
       "3.390        1\n",
       "3.430        1\n",
       "3.980        1\n",
       "5.000        1\n",
       "3.290        1\n",
       "1.750        1\n",
       "3.830        1\n",
       "1.200        1\n",
       "2.340        1\n",
       "3.850        1\n",
       "5.300        1\n",
       "3.570        1\n",
       "2.980        1\n",
       "6.000        1\n",
       "20.000       1\n",
       "3.490        1\n",
       "4.370        1\n",
       "4.150        1\n",
       "3.440        1\n",
       "2.990        1\n",
       "3.680        1\n",
       "3.420        1\n",
       "1.000        1\n",
       "3.580        1\n",
       "Name: ceiling_height, dtype: int64"
      ]
     },
     "execution_count": 38,
     "metadata": {},
     "output_type": "execute_result"
    }
   ],
   "source": [
    "pd.set_option('display.max_rows', 500)\n",
    "\n",
    "data['ceiling_height'].value_counts().sort_values(ascending=False)"
   ]
  },
  {
   "cell_type": "markdown",
   "metadata": {},
   "source": [
    "Видно множество подозрительных значений, высота потолков более 10м (предположим, что это элитная недвижимость) и меньше минимально допустимого в 2.4м."
   ]
  },
  {
   "cell_type": "code",
   "execution_count": 39,
   "metadata": {},
   "outputs": [
    {
     "data": {
      "text/plain": [
       "total_images            20\n",
       "last_price              20\n",
       "total_area              20\n",
       "first_day_exposition    20\n",
       "rooms                   20\n",
       "ceiling_height          20\n",
       "floors_total            20\n",
       "living_area             20\n",
       "floor                   20\n",
       "is_apartment            20\n",
       "studio                  20\n",
       "open_plan               20\n",
       "kitchen_area            20\n",
       "balcony                 20\n",
       "locality_name           20\n",
       "airports_nearest         6\n",
       "cityCenters_nearest      6\n",
       "parks_around3000         6\n",
       "parks_nearest            4\n",
       "ponds_around3000         6\n",
       "ponds_nearest            5\n",
       "days_exposition         20\n",
       "dtype: int64"
      ]
     },
     "execution_count": 39,
     "metadata": {},
     "output_type": "execute_result"
    }
   ],
   "source": [
    "data.query('ceiling_height < 2.4').count()"
   ]
  },
  {
   "cell_type": "code",
   "execution_count": 40,
   "metadata": {},
   "outputs": [],
   "source": [
    "#поделим подозрительные значения на 10, остальные отбросим срезом\n",
    "\n",
    "data.loc[data['ceiling_height'] > 11, 'ceiling_height'] = data.loc[data['ceiling_height'] > 11, 'ceiling_height'] / 10\n",
    "\n",
    "data = data.query('ceiling_height >=2.4')"
   ]
  },
  {
   "cell_type": "code",
   "execution_count": 41,
   "metadata": {},
   "outputs": [
    {
     "data": {
      "text/plain": [
       "<AxesSubplot:>"
      ]
     },
     "execution_count": 41,
     "metadata": {},
     "output_type": "execute_result"
    },
    {
     "data": {
      "image/png": "[encoded data removed]",
      "text/plain": [
       "<Figure size 432x288 with 1 Axes>"
      ]
     },
     "metadata": {
      "needs_background": "light"
     },
     "output_type": "display_data"
    }
   ],
   "source": [
    "#рассмотрим распределения жилой площади\n",
    "\n",
    "data['living_area'].hist()"
   ]
  },
  {
   "cell_type": "code",
   "execution_count": 42,
   "metadata": {},
   "outputs": [],
   "source": [
    "data = data.query('living_area <= 120')"
   ]
  },
  {
   "cell_type": "code",
   "execution_count": 43,
   "metadata": {},
   "outputs": [],
   "source": [
    "data = data.query('living_area >= 14')"
   ]
  },
  {
   "cell_type": "markdown",
   "metadata": {},
   "source": [
    "Отбросим редкие значения более 120кв.м и меньше минимально допустимой в 14 кв.м."
   ]
  },
  {
   "cell_type": "code",
   "execution_count": 44,
   "metadata": {},
   "outputs": [
    {
     "data": {
      "text/plain": [
       "<AxesSubplot:>"
      ]
     },
     "execution_count": 44,
     "metadata": {},
     "output_type": "execute_result"
    },
    {
     "data": {
      "image/png": "[encoded data removed]",
      "text/plain": [
       "<Figure size 432x288 with 1 Axes>"
      ]
     },
     "metadata": {
      "needs_background": "light"
     },
     "output_type": "display_data"
    }
   ],
   "source": [
    "#распределение площадей кухни\n",
    "\n",
    "data['kitchen_area'].hist()"
   ]
  },
  {
   "cell_type": "code",
   "execution_count": 45,
   "metadata": {},
   "outputs": [],
   "source": [
    "#отбросим редкие значения более 60 кв.м\n",
    "\n",
    "data = data.query('kitchen_area <= 60')"
   ]
  },
  {
   "cell_type": "markdown",
   "metadata": {},
   "source": [
    "<div class=\"alert alert-warning\">\n",
    "<b>⚠️ Комментарий ревьюера:</b> Можно еще обработать аномалии в цене"
   ]
  },
  {
   "cell_type": "code",
   "execution_count": 46,
   "metadata": {},
   "outputs": [
    {
     "data": {
      "text/plain": [
       "<AxesSubplot:>"
      ]
     },
     "execution_count": 46,
     "metadata": {},
     "output_type": "execute_result"
    },
    {
     "data": {
      "image/png": "[encoded data removed]",
      "text/plain": [
       "<Figure size 432x288 with 1 Axes>"
      ]
     },
     "metadata": {
      "needs_background": "light"
     },
     "output_type": "display_data"
    }
   ],
   "source": [
    "#посмотрим распределение цен\n",
    "\n",
    "data['last_price'].hist(bins=50,range=(0,1e8))"
   ]
  },
  {
   "cell_type": "code",
   "execution_count": 47,
   "metadata": {},
   "outputs": [],
   "source": [
    "#видно, что цены расположены в основном до 30 млн, срежем редкие\n",
    "\n",
    "data = data.query('last_price < 3e7')"
   ]
  },
  {
   "cell_type": "markdown",
   "metadata": {},
   "source": [
    "### Посчитайте и добавьте в таблицу новые столбцы"
   ]
  },
  {
   "cell_type": "code",
   "execution_count": 48,
   "metadata": {},
   "outputs": [],
   "source": [
    "#расчёт цены за кв.м, добавим в новый столбец\n",
    "\n",
    "data['price_m2'] = data['last_price'] / data['total_area']"
   ]
  },
  {
   "cell_type": "code",
   "execution_count": 49,
   "metadata": {},
   "outputs": [],
   "source": [
    "#день, месяц и год выставления на продажу соответственно, добавляем в новые столбцы\n",
    "\n",
    "data['weekday_exposition'] = data['first_day_exposition'].dt.weekday"
   ]
  },
  {
   "cell_type": "code",
   "execution_count": 50,
   "metadata": {},
   "outputs": [],
   "source": [
    "data['month_exposition'] = data['first_day_exposition'].dt.month"
   ]
  },
  {
   "cell_type": "markdown",
   "metadata": {},
   "source": [
    "<div class=\"alert alert-warning\">\n",
    "<b>⚠️ Комментарий ревьюера:</b> Обычно в датафреймах содержатся данные за несколько лет. Важно выбрать корректный метод для вычленения месяца, иначе месяца разных годов могут стать одним месяцем (метод month может привести к ошибке). Обрати внимание на метод astype('datetime64[M]'). Для его использования не нужно обращаться к pd.DatetimeIndex. В данной работе нам не нужно разделять месяца разных годов. Это практичеый совет на будущее:) "
   ]
  },
  {
   "cell_type": "markdown",
   "metadata": {},
   "source": [
    "<div class=\"alert alert-info\"> <b>Комментарий студента:</b> Спасибо, учту.</div>"
   ]
  },
  {
   "cell_type": "code",
   "execution_count": 51,
   "metadata": {},
   "outputs": [
    {
     "data": {
      "text/html": [
       "<div>\n",
       "<style scoped>\n",
       "    .dataframe tbody tr th:only-of-type {\n",
       "        vertical-align: middle;\n",
       "    }\n",
       "\n",
       "    .dataframe tbody tr th {\n",
       "        vertical-align: top;\n",
       "    }\n",
       "\n",
       "    .dataframe thead th {\n",
       "        text-align: right;\n",
       "    }\n",
       "</style>\n",
       "<table border=\"1\" class=\"dataframe\">\n",
       "  <thead>\n",
       "    <tr style=\"text-align: right;\">\n",
       "      <th></th>\n",
       "      <th>total_images</th>\n",
       "      <th>last_price</th>\n",
       "      <th>total_area</th>\n",
       "      <th>first_day_exposition</th>\n",
       "      <th>rooms</th>\n",
       "      <th>ceiling_height</th>\n",
       "      <th>floors_total</th>\n",
       "      <th>living_area</th>\n",
       "      <th>floor</th>\n",
       "      <th>is_apartment</th>\n",
       "      <th>studio</th>\n",
       "      <th>open_plan</th>\n",
       "      <th>kitchen_area</th>\n",
       "      <th>balcony</th>\n",
       "      <th>locality_name</th>\n",
       "      <th>airports_nearest</th>\n",
       "      <th>cityCenters_nearest</th>\n",
       "      <th>parks_around3000</th>\n",
       "      <th>parks_nearest</th>\n",
       "      <th>ponds_around3000</th>\n",
       "      <th>ponds_nearest</th>\n",
       "      <th>days_exposition</th>\n",
       "      <th>price_m2</th>\n",
       "      <th>weekday_exposition</th>\n",
       "      <th>month_exposition</th>\n",
       "      <th>year_exposition</th>\n",
       "    </tr>\n",
       "  </thead>\n",
       "  <tbody>\n",
       "    <tr>\n",
       "      <th>0</th>\n",
       "      <td>20</td>\n",
       "      <td>13000000</td>\n",
       "      <td>108.0</td>\n",
       "      <td>2019-03-07</td>\n",
       "      <td>3</td>\n",
       "      <td>2.70</td>\n",
       "      <td>16</td>\n",
       "      <td>51.0</td>\n",
       "      <td>8</td>\n",
       "      <td>True</td>\n",
       "      <td>False</td>\n",
       "      <td>False</td>\n",
       "      <td>25.0</td>\n",
       "      <td>0</td>\n",
       "      <td>Санкт-Петербург</td>\n",
       "      <td>18863.0</td>\n",
       "      <td>16028.0</td>\n",
       "      <td>1.0</td>\n",
       "      <td>482.0</td>\n",
       "      <td>2.0</td>\n",
       "      <td>755.0</td>\n",
       "      <td>-100</td>\n",
       "      <td>120370.370370</td>\n",
       "      <td>3</td>\n",
       "      <td>3</td>\n",
       "      <td>2019</td>\n",
       "    </tr>\n",
       "    <tr>\n",
       "      <th>1</th>\n",
       "      <td>7</td>\n",
       "      <td>3350000</td>\n",
       "      <td>40.4</td>\n",
       "      <td>2018-12-04</td>\n",
       "      <td>1</td>\n",
       "      <td>2.63</td>\n",
       "      <td>11</td>\n",
       "      <td>18.6</td>\n",
       "      <td>1</td>\n",
       "      <td>True</td>\n",
       "      <td>False</td>\n",
       "      <td>False</td>\n",
       "      <td>11.0</td>\n",
       "      <td>2</td>\n",
       "      <td>Шушары</td>\n",
       "      <td>12817.0</td>\n",
       "      <td>18603.0</td>\n",
       "      <td>0.0</td>\n",
       "      <td>NaN</td>\n",
       "      <td>0.0</td>\n",
       "      <td>NaN</td>\n",
       "      <td>81</td>\n",
       "      <td>82920.792079</td>\n",
       "      <td>1</td>\n",
       "      <td>12</td>\n",
       "      <td>2018</td>\n",
       "    </tr>\n",
       "    <tr>\n",
       "      <th>2</th>\n",
       "      <td>10</td>\n",
       "      <td>5196000</td>\n",
       "      <td>56.0</td>\n",
       "      <td>2015-08-20</td>\n",
       "      <td>2</td>\n",
       "      <td>2.70</td>\n",
       "      <td>5</td>\n",
       "      <td>34.3</td>\n",
       "      <td>4</td>\n",
       "      <td>True</td>\n",
       "      <td>False</td>\n",
       "      <td>False</td>\n",
       "      <td>8.3</td>\n",
       "      <td>0</td>\n",
       "      <td>Санкт-Петербург</td>\n",
       "      <td>21741.0</td>\n",
       "      <td>13933.0</td>\n",
       "      <td>1.0</td>\n",
       "      <td>90.0</td>\n",
       "      <td>2.0</td>\n",
       "      <td>574.0</td>\n",
       "      <td>558</td>\n",
       "      <td>92785.714286</td>\n",
       "      <td>3</td>\n",
       "      <td>8</td>\n",
       "      <td>2015</td>\n",
       "    </tr>\n",
       "    <tr>\n",
       "      <th>4</th>\n",
       "      <td>2</td>\n",
       "      <td>10000000</td>\n",
       "      <td>100.0</td>\n",
       "      <td>2018-06-19</td>\n",
       "      <td>2</td>\n",
       "      <td>3.03</td>\n",
       "      <td>14</td>\n",
       "      <td>32.0</td>\n",
       "      <td>13</td>\n",
       "      <td>True</td>\n",
       "      <td>False</td>\n",
       "      <td>False</td>\n",
       "      <td>41.0</td>\n",
       "      <td>0</td>\n",
       "      <td>Санкт-Петербург</td>\n",
       "      <td>31856.0</td>\n",
       "      <td>8098.0</td>\n",
       "      <td>2.0</td>\n",
       "      <td>112.0</td>\n",
       "      <td>1.0</td>\n",
       "      <td>48.0</td>\n",
       "      <td>121</td>\n",
       "      <td>100000.000000</td>\n",
       "      <td>1</td>\n",
       "      <td>6</td>\n",
       "      <td>2018</td>\n",
       "    </tr>\n",
       "    <tr>\n",
       "      <th>5</th>\n",
       "      <td>10</td>\n",
       "      <td>2890000</td>\n",
       "      <td>30.4</td>\n",
       "      <td>2018-09-10</td>\n",
       "      <td>1</td>\n",
       "      <td>2.60</td>\n",
       "      <td>12</td>\n",
       "      <td>14.4</td>\n",
       "      <td>5</td>\n",
       "      <td>True</td>\n",
       "      <td>False</td>\n",
       "      <td>False</td>\n",
       "      <td>9.1</td>\n",
       "      <td>0</td>\n",
       "      <td>Янино-1</td>\n",
       "      <td>NaN</td>\n",
       "      <td>NaN</td>\n",
       "      <td>NaN</td>\n",
       "      <td>NaN</td>\n",
       "      <td>NaN</td>\n",
       "      <td>NaN</td>\n",
       "      <td>55</td>\n",
       "      <td>95065.789474</td>\n",
       "      <td>0</td>\n",
       "      <td>9</td>\n",
       "      <td>2018</td>\n",
       "    </tr>\n",
       "  </tbody>\n",
       "</table>\n",
       "</div>"
      ],
      "text/plain": [
       "   total_images  last_price  total_area first_day_exposition  rooms  \\\n",
       "0            20    13000000       108.0           2019-03-07      3   \n",
       "1             7     3350000        40.4           2018-12-04      1   \n",
       "2            10     5196000        56.0           2015-08-20      2   \n",
       "4             2    10000000       100.0           2018-06-19      2   \n",
       "5            10     2890000        30.4           2018-09-10      1   \n",
       "\n",
       "   ceiling_height  floors_total  living_area  floor  is_apartment  studio  \\\n",
       "0            2.70            16         51.0      8          True   False   \n",
       "1            2.63            11         18.6      1          True   False   \n",
       "2            2.70             5         34.3      4          True   False   \n",
       "4            3.03            14         32.0     13          True   False   \n",
       "5            2.60            12         14.4      5          True   False   \n",
       "\n",
       "   open_plan  kitchen_area  balcony    locality_name  airports_nearest  \\\n",
       "0      False          25.0        0  Санкт-Петербург           18863.0   \n",
       "1      False          11.0        2           Шушары           12817.0   \n",
       "2      False           8.3        0  Санкт-Петербург           21741.0   \n",
       "4      False          41.0        0  Санкт-Петербург           31856.0   \n",
       "5      False           9.1        0          Янино-1               NaN   \n",
       "\n",
       "   cityCenters_nearest  parks_around3000  parks_nearest  ponds_around3000  \\\n",
       "0              16028.0               1.0          482.0               2.0   \n",
       "1              18603.0               0.0            NaN               0.0   \n",
       "2              13933.0               1.0           90.0               2.0   \n",
       "4               8098.0               2.0          112.0               1.0   \n",
       "5                  NaN               NaN            NaN               NaN   \n",
       "\n",
       "   ponds_nearest  days_exposition       price_m2  weekday_exposition  \\\n",
       "0          755.0             -100  120370.370370                   3   \n",
       "1            NaN               81   82920.792079                   1   \n",
       "2          574.0              558   92785.714286                   3   \n",
       "4           48.0              121  100000.000000                   1   \n",
       "5            NaN               55   95065.789474                   0   \n",
       "\n",
       "   month_exposition  year_exposition  \n",
       "0                 3             2019  \n",
       "1                12             2018  \n",
       "2                 8             2015  \n",
       "4                 6             2018  \n",
       "5                 9             2018  "
      ]
     },
     "execution_count": 51,
     "metadata": {},
     "output_type": "execute_result"
    }
   ],
   "source": [
    "data['year_exposition'] = data['first_day_exposition'].dt.year\n",
    "\n",
    "data.head()"
   ]
  },
  {
   "cell_type": "code",
   "execution_count": 52,
   "metadata": {},
   "outputs": [],
   "source": [
    "#определим функцию для категории этажа\n",
    "\n",
    "def categorize_floor(row):\n",
    "    try:\n",
    "        if row['floor'] == 1:\n",
    "            return 'первый'\n",
    "        elif row['floor'] == row['floors_total']:\n",
    "            return 'последний'\n",
    "        else:\n",
    "            return 'другой'\n",
    "    except:\n",
    "        pass"
   ]
  },
  {
   "cell_type": "code",
   "execution_count": 53,
   "metadata": {},
   "outputs": [
    {
     "data": {
      "text/html": [
       "<div>\n",
       "<style scoped>\n",
       "    .dataframe tbody tr th:only-of-type {\n",
       "        vertical-align: middle;\n",
       "    }\n",
       "\n",
       "    .dataframe tbody tr th {\n",
       "        vertical-align: top;\n",
       "    }\n",
       "\n",
       "    .dataframe thead th {\n",
       "        text-align: right;\n",
       "    }\n",
       "</style>\n",
       "<table border=\"1\" class=\"dataframe\">\n",
       "  <thead>\n",
       "    <tr style=\"text-align: right;\">\n",
       "      <th></th>\n",
       "      <th>total_images</th>\n",
       "      <th>last_price</th>\n",
       "      <th>total_area</th>\n",
       "      <th>first_day_exposition</th>\n",
       "      <th>rooms</th>\n",
       "      <th>ceiling_height</th>\n",
       "      <th>floors_total</th>\n",
       "      <th>living_area</th>\n",
       "      <th>floor</th>\n",
       "      <th>is_apartment</th>\n",
       "      <th>studio</th>\n",
       "      <th>open_plan</th>\n",
       "      <th>kitchen_area</th>\n",
       "      <th>balcony</th>\n",
       "      <th>locality_name</th>\n",
       "      <th>airports_nearest</th>\n",
       "      <th>cityCenters_nearest</th>\n",
       "      <th>parks_around3000</th>\n",
       "      <th>parks_nearest</th>\n",
       "      <th>ponds_around3000</th>\n",
       "      <th>ponds_nearest</th>\n",
       "      <th>days_exposition</th>\n",
       "      <th>price_m2</th>\n",
       "      <th>weekday_exposition</th>\n",
       "      <th>month_exposition</th>\n",
       "      <th>year_exposition</th>\n",
       "      <th>floor_type</th>\n",
       "    </tr>\n",
       "  </thead>\n",
       "  <tbody>\n",
       "    <tr>\n",
       "      <th>0</th>\n",
       "      <td>20</td>\n",
       "      <td>13000000</td>\n",
       "      <td>108.0</td>\n",
       "      <td>2019-03-07</td>\n",
       "      <td>3</td>\n",
       "      <td>2.70</td>\n",
       "      <td>16</td>\n",
       "      <td>51.0</td>\n",
       "      <td>8</td>\n",
       "      <td>True</td>\n",
       "      <td>False</td>\n",
       "      <td>False</td>\n",
       "      <td>25.0</td>\n",
       "      <td>0</td>\n",
       "      <td>Санкт-Петербург</td>\n",
       "      <td>18863.0</td>\n",
       "      <td>16028.0</td>\n",
       "      <td>1.0</td>\n",
       "      <td>482.0</td>\n",
       "      <td>2.0</td>\n",
       "      <td>755.0</td>\n",
       "      <td>-100</td>\n",
       "      <td>120370.370370</td>\n",
       "      <td>3</td>\n",
       "      <td>3</td>\n",
       "      <td>2019</td>\n",
       "      <td>другой</td>\n",
       "    </tr>\n",
       "    <tr>\n",
       "      <th>1</th>\n",
       "      <td>7</td>\n",
       "      <td>3350000</td>\n",
       "      <td>40.4</td>\n",
       "      <td>2018-12-04</td>\n",
       "      <td>1</td>\n",
       "      <td>2.63</td>\n",
       "      <td>11</td>\n",
       "      <td>18.6</td>\n",
       "      <td>1</td>\n",
       "      <td>True</td>\n",
       "      <td>False</td>\n",
       "      <td>False</td>\n",
       "      <td>11.0</td>\n",
       "      <td>2</td>\n",
       "      <td>Шушары</td>\n",
       "      <td>12817.0</td>\n",
       "      <td>18603.0</td>\n",
       "      <td>0.0</td>\n",
       "      <td>NaN</td>\n",
       "      <td>0.0</td>\n",
       "      <td>NaN</td>\n",
       "      <td>81</td>\n",
       "      <td>82920.792079</td>\n",
       "      <td>1</td>\n",
       "      <td>12</td>\n",
       "      <td>2018</td>\n",
       "      <td>первый</td>\n",
       "    </tr>\n",
       "    <tr>\n",
       "      <th>2</th>\n",
       "      <td>10</td>\n",
       "      <td>5196000</td>\n",
       "      <td>56.0</td>\n",
       "      <td>2015-08-20</td>\n",
       "      <td>2</td>\n",
       "      <td>2.70</td>\n",
       "      <td>5</td>\n",
       "      <td>34.3</td>\n",
       "      <td>4</td>\n",
       "      <td>True</td>\n",
       "      <td>False</td>\n",
       "      <td>False</td>\n",
       "      <td>8.3</td>\n",
       "      <td>0</td>\n",
       "      <td>Санкт-Петербург</td>\n",
       "      <td>21741.0</td>\n",
       "      <td>13933.0</td>\n",
       "      <td>1.0</td>\n",
       "      <td>90.0</td>\n",
       "      <td>2.0</td>\n",
       "      <td>574.0</td>\n",
       "      <td>558</td>\n",
       "      <td>92785.714286</td>\n",
       "      <td>3</td>\n",
       "      <td>8</td>\n",
       "      <td>2015</td>\n",
       "      <td>другой</td>\n",
       "    </tr>\n",
       "    <tr>\n",
       "      <th>4</th>\n",
       "      <td>2</td>\n",
       "      <td>10000000</td>\n",
       "      <td>100.0</td>\n",
       "      <td>2018-06-19</td>\n",
       "      <td>2</td>\n",
       "      <td>3.03</td>\n",
       "      <td>14</td>\n",
       "      <td>32.0</td>\n",
       "      <td>13</td>\n",
       "      <td>True</td>\n",
       "      <td>False</td>\n",
       "      <td>False</td>\n",
       "      <td>41.0</td>\n",
       "      <td>0</td>\n",
       "      <td>Санкт-Петербург</td>\n",
       "      <td>31856.0</td>\n",
       "      <td>8098.0</td>\n",
       "      <td>2.0</td>\n",
       "      <td>112.0</td>\n",
       "      <td>1.0</td>\n",
       "      <td>48.0</td>\n",
       "      <td>121</td>\n",
       "      <td>100000.000000</td>\n",
       "      <td>1</td>\n",
       "      <td>6</td>\n",
       "      <td>2018</td>\n",
       "      <td>другой</td>\n",
       "    </tr>\n",
       "    <tr>\n",
       "      <th>5</th>\n",
       "      <td>10</td>\n",
       "      <td>2890000</td>\n",
       "      <td>30.4</td>\n",
       "      <td>2018-09-10</td>\n",
       "      <td>1</td>\n",
       "      <td>2.60</td>\n",
       "      <td>12</td>\n",
       "      <td>14.4</td>\n",
       "      <td>5</td>\n",
       "      <td>True</td>\n",
       "      <td>False</td>\n",
       "      <td>False</td>\n",
       "      <td>9.1</td>\n",
       "      <td>0</td>\n",
       "      <td>Янино-1</td>\n",
       "      <td>NaN</td>\n",
       "      <td>NaN</td>\n",
       "      <td>NaN</td>\n",
       "      <td>NaN</td>\n",
       "      <td>NaN</td>\n",
       "      <td>NaN</td>\n",
       "      <td>55</td>\n",
       "      <td>95065.789474</td>\n",
       "      <td>0</td>\n",
       "      <td>9</td>\n",
       "      <td>2018</td>\n",
       "      <td>другой</td>\n",
       "    </tr>\n",
       "  </tbody>\n",
       "</table>\n",
       "</div>"
      ],
      "text/plain": [
       "   total_images  last_price  total_area first_day_exposition  rooms  \\\n",
       "0            20    13000000       108.0           2019-03-07      3   \n",
       "1             7     3350000        40.4           2018-12-04      1   \n",
       "2            10     5196000        56.0           2015-08-20      2   \n",
       "4             2    10000000       100.0           2018-06-19      2   \n",
       "5            10     2890000        30.4           2018-09-10      1   \n",
       "\n",
       "   ceiling_height  floors_total  living_area  floor  is_apartment  studio  \\\n",
       "0            2.70            16         51.0      8          True   False   \n",
       "1            2.63            11         18.6      1          True   False   \n",
       "2            2.70             5         34.3      4          True   False   \n",
       "4            3.03            14         32.0     13          True   False   \n",
       "5            2.60            12         14.4      5          True   False   \n",
       "\n",
       "   open_plan  kitchen_area  balcony    locality_name  airports_nearest  \\\n",
       "0      False          25.0        0  Санкт-Петербург           18863.0   \n",
       "1      False          11.0        2           Шушары           12817.0   \n",
       "2      False           8.3        0  Санкт-Петербург           21741.0   \n",
       "4      False          41.0        0  Санкт-Петербург           31856.0   \n",
       "5      False           9.1        0          Янино-1               NaN   \n",
       "\n",
       "   cityCenters_nearest  parks_around3000  parks_nearest  ponds_around3000  \\\n",
       "0              16028.0               1.0          482.0               2.0   \n",
       "1              18603.0               0.0            NaN               0.0   \n",
       "2              13933.0               1.0           90.0               2.0   \n",
       "4               8098.0               2.0          112.0               1.0   \n",
       "5                  NaN               NaN            NaN               NaN   \n",
       "\n",
       "   ponds_nearest  days_exposition       price_m2  weekday_exposition  \\\n",
       "0          755.0             -100  120370.370370                   3   \n",
       "1            NaN               81   82920.792079                   1   \n",
       "2          574.0              558   92785.714286                   3   \n",
       "4           48.0              121  100000.000000                   1   \n",
       "5            NaN               55   95065.789474                   0   \n",
       "\n",
       "   month_exposition  year_exposition floor_type  \n",
       "0                 3             2019     другой  \n",
       "1                12             2018     первый  \n",
       "2                 8             2015     другой  \n",
       "4                 6             2018     другой  \n",
       "5                 9             2018     другой  "
      ]
     },
     "execution_count": 53,
     "metadata": {},
     "output_type": "execute_result"
    }
   ],
   "source": [
    "#методом .apply() применим к исходной таблице по строкам\n",
    "\n",
    "data['floor_type'] = data.apply(categorize_floor, axis=1)\n",
    "\n",
    "data.head()"
   ]
  },
  {
   "cell_type": "code",
   "execution_count": 54,
   "metadata": {},
   "outputs": [
    {
     "data": {
      "text/html": [
       "<div>\n",
       "<style scoped>\n",
       "    .dataframe tbody tr th:only-of-type {\n",
       "        vertical-align: middle;\n",
       "    }\n",
       "\n",
       "    .dataframe tbody tr th {\n",
       "        vertical-align: top;\n",
       "    }\n",
       "\n",
       "    .dataframe thead th {\n",
       "        text-align: right;\n",
       "    }\n",
       "</style>\n",
       "<table border=\"1\" class=\"dataframe\">\n",
       "  <thead>\n",
       "    <tr style=\"text-align: right;\">\n",
       "      <th></th>\n",
       "      <th>total_images</th>\n",
       "      <th>last_price</th>\n",
       "      <th>total_area</th>\n",
       "      <th>first_day_exposition</th>\n",
       "      <th>rooms</th>\n",
       "      <th>ceiling_height</th>\n",
       "      <th>floors_total</th>\n",
       "      <th>living_area</th>\n",
       "      <th>floor</th>\n",
       "      <th>is_apartment</th>\n",
       "      <th>studio</th>\n",
       "      <th>open_plan</th>\n",
       "      <th>kitchen_area</th>\n",
       "      <th>balcony</th>\n",
       "      <th>locality_name</th>\n",
       "      <th>airports_nearest</th>\n",
       "      <th>cityCenters_nearest</th>\n",
       "      <th>parks_around3000</th>\n",
       "      <th>parks_nearest</th>\n",
       "      <th>ponds_around3000</th>\n",
       "      <th>ponds_nearest</th>\n",
       "      <th>days_exposition</th>\n",
       "      <th>price_m2</th>\n",
       "      <th>weekday_exposition</th>\n",
       "      <th>month_exposition</th>\n",
       "      <th>year_exposition</th>\n",
       "      <th>floor_type</th>\n",
       "      <th>cityCenters_km</th>\n",
       "    </tr>\n",
       "  </thead>\n",
       "  <tbody>\n",
       "    <tr>\n",
       "      <th>0</th>\n",
       "      <td>20</td>\n",
       "      <td>13000000</td>\n",
       "      <td>108.0</td>\n",
       "      <td>2019-03-07</td>\n",
       "      <td>3</td>\n",
       "      <td>2.70</td>\n",
       "      <td>16</td>\n",
       "      <td>51.0</td>\n",
       "      <td>8</td>\n",
       "      <td>True</td>\n",
       "      <td>False</td>\n",
       "      <td>False</td>\n",
       "      <td>25.0</td>\n",
       "      <td>0</td>\n",
       "      <td>Санкт-Петербург</td>\n",
       "      <td>18863.0</td>\n",
       "      <td>16028.0</td>\n",
       "      <td>1.0</td>\n",
       "      <td>482.0</td>\n",
       "      <td>2.0</td>\n",
       "      <td>755.0</td>\n",
       "      <td>-100</td>\n",
       "      <td>120370.370370</td>\n",
       "      <td>3</td>\n",
       "      <td>3</td>\n",
       "      <td>2019</td>\n",
       "      <td>другой</td>\n",
       "      <td>16.028</td>\n",
       "    </tr>\n",
       "    <tr>\n",
       "      <th>1</th>\n",
       "      <td>7</td>\n",
       "      <td>3350000</td>\n",
       "      <td>40.4</td>\n",
       "      <td>2018-12-04</td>\n",
       "      <td>1</td>\n",
       "      <td>2.63</td>\n",
       "      <td>11</td>\n",
       "      <td>18.6</td>\n",
       "      <td>1</td>\n",
       "      <td>True</td>\n",
       "      <td>False</td>\n",
       "      <td>False</td>\n",
       "      <td>11.0</td>\n",
       "      <td>2</td>\n",
       "      <td>Шушары</td>\n",
       "      <td>12817.0</td>\n",
       "      <td>18603.0</td>\n",
       "      <td>0.0</td>\n",
       "      <td>NaN</td>\n",
       "      <td>0.0</td>\n",
       "      <td>NaN</td>\n",
       "      <td>81</td>\n",
       "      <td>82920.792079</td>\n",
       "      <td>1</td>\n",
       "      <td>12</td>\n",
       "      <td>2018</td>\n",
       "      <td>первый</td>\n",
       "      <td>18.603</td>\n",
       "    </tr>\n",
       "    <tr>\n",
       "      <th>2</th>\n",
       "      <td>10</td>\n",
       "      <td>5196000</td>\n",
       "      <td>56.0</td>\n",
       "      <td>2015-08-20</td>\n",
       "      <td>2</td>\n",
       "      <td>2.70</td>\n",
       "      <td>5</td>\n",
       "      <td>34.3</td>\n",
       "      <td>4</td>\n",
       "      <td>True</td>\n",
       "      <td>False</td>\n",
       "      <td>False</td>\n",
       "      <td>8.3</td>\n",
       "      <td>0</td>\n",
       "      <td>Санкт-Петербург</td>\n",
       "      <td>21741.0</td>\n",
       "      <td>13933.0</td>\n",
       "      <td>1.0</td>\n",
       "      <td>90.0</td>\n",
       "      <td>2.0</td>\n",
       "      <td>574.0</td>\n",
       "      <td>558</td>\n",
       "      <td>92785.714286</td>\n",
       "      <td>3</td>\n",
       "      <td>8</td>\n",
       "      <td>2015</td>\n",
       "      <td>другой</td>\n",
       "      <td>13.933</td>\n",
       "    </tr>\n",
       "    <tr>\n",
       "      <th>4</th>\n",
       "      <td>2</td>\n",
       "      <td>10000000</td>\n",
       "      <td>100.0</td>\n",
       "      <td>2018-06-19</td>\n",
       "      <td>2</td>\n",
       "      <td>3.03</td>\n",
       "      <td>14</td>\n",
       "      <td>32.0</td>\n",
       "      <td>13</td>\n",
       "      <td>True</td>\n",
       "      <td>False</td>\n",
       "      <td>False</td>\n",
       "      <td>41.0</td>\n",
       "      <td>0</td>\n",
       "      <td>Санкт-Петербург</td>\n",
       "      <td>31856.0</td>\n",
       "      <td>8098.0</td>\n",
       "      <td>2.0</td>\n",
       "      <td>112.0</td>\n",
       "      <td>1.0</td>\n",
       "      <td>48.0</td>\n",
       "      <td>121</td>\n",
       "      <td>100000.000000</td>\n",
       "      <td>1</td>\n",
       "      <td>6</td>\n",
       "      <td>2018</td>\n",
       "      <td>другой</td>\n",
       "      <td>8.098</td>\n",
       "    </tr>\n",
       "    <tr>\n",
       "      <th>5</th>\n",
       "      <td>10</td>\n",
       "      <td>2890000</td>\n",
       "      <td>30.4</td>\n",
       "      <td>2018-09-10</td>\n",
       "      <td>1</td>\n",
       "      <td>2.60</td>\n",
       "      <td>12</td>\n",
       "      <td>14.4</td>\n",
       "      <td>5</td>\n",
       "      <td>True</td>\n",
       "      <td>False</td>\n",
       "      <td>False</td>\n",
       "      <td>9.1</td>\n",
       "      <td>0</td>\n",
       "      <td>Янино-1</td>\n",
       "      <td>NaN</td>\n",
       "      <td>NaN</td>\n",
       "      <td>NaN</td>\n",
       "      <td>NaN</td>\n",
       "      <td>NaN</td>\n",
       "      <td>NaN</td>\n",
       "      <td>55</td>\n",
       "      <td>95065.789474</td>\n",
       "      <td>0</td>\n",
       "      <td>9</td>\n",
       "      <td>2018</td>\n",
       "      <td>другой</td>\n",
       "      <td>NaN</td>\n",
       "    </tr>\n",
       "  </tbody>\n",
       "</table>\n",
       "</div>"
      ],
      "text/plain": [
       "   total_images  last_price  total_area first_day_exposition  rooms  \\\n",
       "0            20    13000000       108.0           2019-03-07      3   \n",
       "1             7     3350000        40.4           2018-12-04      1   \n",
       "2            10     5196000        56.0           2015-08-20      2   \n",
       "4             2    10000000       100.0           2018-06-19      2   \n",
       "5            10     2890000        30.4           2018-09-10      1   \n",
       "\n",
       "   ceiling_height  floors_total  living_area  floor  is_apartment  studio  \\\n",
       "0            2.70            16         51.0      8          True   False   \n",
       "1            2.63            11         18.6      1          True   False   \n",
       "2            2.70             5         34.3      4          True   False   \n",
       "4            3.03            14         32.0     13          True   False   \n",
       "5            2.60            12         14.4      5          True   False   \n",
       "\n",
       "   open_plan  kitchen_area  balcony    locality_name  airports_nearest  \\\n",
       "0      False          25.0        0  Санкт-Петербург           18863.0   \n",
       "1      False          11.0        2           Шушары           12817.0   \n",
       "2      False           8.3        0  Санкт-Петербург           21741.0   \n",
       "4      False          41.0        0  Санкт-Петербург           31856.0   \n",
       "5      False           9.1        0          Янино-1               NaN   \n",
       "\n",
       "   cityCenters_nearest  parks_around3000  parks_nearest  ponds_around3000  \\\n",
       "0              16028.0               1.0          482.0               2.0   \n",
       "1              18603.0               0.0            NaN               0.0   \n",
       "2              13933.0               1.0           90.0               2.0   \n",
       "4               8098.0               2.0          112.0               1.0   \n",
       "5                  NaN               NaN            NaN               NaN   \n",
       "\n",
       "   ponds_nearest  days_exposition       price_m2  weekday_exposition  \\\n",
       "0          755.0             -100  120370.370370                   3   \n",
       "1            NaN               81   82920.792079                   1   \n",
       "2          574.0              558   92785.714286                   3   \n",
       "4           48.0              121  100000.000000                   1   \n",
       "5            NaN               55   95065.789474                   0   \n",
       "\n",
       "   month_exposition  year_exposition floor_type  cityCenters_km  \n",
       "0                 3             2019     другой          16.028  \n",
       "1                12             2018     первый          18.603  \n",
       "2                 8             2015     другой          13.933  \n",
       "4                 6             2018     другой           8.098  \n",
       "5                 9             2018     другой             NaN  "
      ]
     },
     "execution_count": 54,
     "metadata": {},
     "output_type": "execute_result"
    }
   ],
   "source": [
    "#рассчёт расстояния до центра в км\n",
    "\n",
    "data['cityCenters_km'] = data['cityCenters_nearest'] / 1000\n",
    "\n",
    "data.head()"
   ]
  },
  {
   "cell_type": "markdown",
   "metadata": {},
   "source": [
    "### Проведите исследовательский анализ данных"
   ]
  },
  {
   "cell_type": "markdown",
   "metadata": {},
   "source": [
    "Построим и опишем распределения для каждого параметра:"
   ]
  },
  {
   "cell_type": "code",
   "execution_count": 55,
   "metadata": {},
   "outputs": [
    {
     "data": {
      "text/plain": [
       "<AxesSubplot:>"
      ]
     },
     "execution_count": 55,
     "metadata": {},
     "output_type": "execute_result"
    },
    {
     "data": {
      "image/png": "[encoded data removed]",
      "text/plain": [
       "<Figure size 720x360 with 1 Axes>"
      ]
     },
     "metadata": {
      "needs_background": "light"
     },
     "output_type": "display_data"
    }
   ],
   "source": [
    "data['total_area'].hist(bins=100, figsize=(10,5))"
   ]
  },
  {
   "cell_type": "code",
   "execution_count": 56,
   "metadata": {},
   "outputs": [
    {
     "data": {
      "text/plain": [
       "count    22421.000000\n",
       "mean        57.798489\n",
       "std         24.600625\n",
       "min         25.000000\n",
       "25%         40.400000\n",
       "50%         52.000000\n",
       "75%         68.400000\n",
       "max        200.000000\n",
       "Name: total_area, dtype: float64"
      ]
     },
     "execution_count": 56,
     "metadata": {},
     "output_type": "execute_result"
    }
   ],
   "source": [
    "data['total_area'].describe()"
   ]
  },
  {
   "cell_type": "markdown",
   "metadata": {},
   "source": [
    "Можно заметить, что больше всего представлено квартир с площадью около 30-45 кв.м. Следующий пик в районе 50-75 кв.м. После 130 кв.м, число предложений значительно уменьшается. Аномальных значений нет."
   ]
  },
  {
   "cell_type": "markdown",
   "metadata": {},
   "source": [
    "<div class=\"alert alert-success\">\n",
    "<b>✔️ Комментарий ревьюера:</b> Верно"
   ]
  },
  {
   "cell_type": "code",
   "execution_count": 57,
   "metadata": {},
   "outputs": [
    {
     "data": {
      "text/plain": [
       "<AxesSubplot:>"
      ]
     },
     "execution_count": 57,
     "metadata": {},
     "output_type": "execute_result"
    },
    {
     "data": {
      "image/png": "[encoded data removed]",
      "text/plain": [
       "<Figure size 720x360 with 1 Axes>"
      ]
     },
     "metadata": {
      "needs_background": "light"
     },
     "output_type": "display_data"
    }
   ],
   "source": [
    "data['living_area'].hist(bins=50, figsize=(10,5))"
   ]
  },
  {
   "cell_type": "code",
   "execution_count": 58,
   "metadata": {},
   "outputs": [
    {
     "data": {
      "text/plain": [
       "count    22421.00000\n",
       "mean        33.11858\n",
       "std         16.24470\n",
       "min         14.00000\n",
       "25%         19.00000\n",
       "50%         30.00000\n",
       "75%         42.00000\n",
       "max        120.00000\n",
       "Name: living_area, dtype: float64"
      ]
     },
     "execution_count": 58,
     "metadata": {},
     "output_type": "execute_result"
    }
   ],
   "source": [
    "data['living_area'].describe()"
   ]
  },
  {
   "cell_type": "markdown",
   "metadata": {},
   "source": [
    "Первый пик у малогабаритных квартир с жилой площадью около 15 кв.м. Далее провал около 22 кв.м, затем второй пик примерно на 30 кв.м."
   ]
  },
  {
   "cell_type": "code",
   "execution_count": 59,
   "metadata": {},
   "outputs": [
    {
     "data": {
      "text/plain": [
       "<AxesSubplot:>"
      ]
     },
     "execution_count": 59,
     "metadata": {},
     "output_type": "execute_result"
    },
    {
     "data": {
      "image/png": "[encoded data removed]",
      "text/plain": [
       "<Figure size 720x360 with 1 Axes>"
      ]
     },
     "metadata": {
      "needs_background": "light"
     },
     "output_type": "display_data"
    }
   ],
   "source": [
    "data['kitchen_area'].hist(bins=50,figsize=(10,5),range=(0,60))"
   ]
  },
  {
   "cell_type": "code",
   "execution_count": 60,
   "metadata": {},
   "outputs": [
    {
     "data": {
      "text/plain": [
       "count    22421.000000\n",
       "mean        10.057987\n",
       "std          4.748641\n",
       "min          0.000000\n",
       "25%          7.000000\n",
       "50%          9.000000\n",
       "75%         11.400000\n",
       "max         60.000000\n",
       "Name: kitchen_area, dtype: float64"
      ]
     },
     "execution_count": 60,
     "metadata": {},
     "output_type": "execute_result"
    }
   ],
   "source": [
    "data['kitchen_area'].describe()"
   ]
  },
  {
   "cell_type": "markdown",
   "metadata": {},
   "source": [
    "Видно, что предложение в основном состоят из квартир с кухнями от 5 до 12 кв.м, далее число квартир плавно снижается. Студий и квартир с открытой планировкой довольно мало."
   ]
  },
  {
   "cell_type": "code",
   "execution_count": 61,
   "metadata": {},
   "outputs": [
    {
     "data": {
      "text/plain": [
       "<AxesSubplot:>"
      ]
     },
     "execution_count": 61,
     "metadata": {},
     "output_type": "execute_result"
    },
    {
     "data": {
      "image/png": "[encoded data removed]",
      "text/plain": [
       "<Figure size 720x360 with 1 Axes>"
      ]
     },
     "metadata": {
      "needs_background": "light"
     },
     "output_type": "display_data"
    }
   ],
   "source": [
    "data['last_price'].hist(bins=100,figsize=(10,5), range=(0,9000000))"
   ]
  },
  {
   "cell_type": "code",
   "execution_count": 62,
   "metadata": {},
   "outputs": [
    {
     "data": {
      "text/plain": [
       "count    22421.000000\n",
       "mean         5.694401\n",
       "std          3.854912\n",
       "min          0.012190\n",
       "25%          3.450000\n",
       "50%          4.600000\n",
       "75%          6.649000\n",
       "max         29.999000\n",
       "Name: last_price, dtype: float64"
      ]
     },
     "execution_count": 62,
     "metadata": {},
     "output_type": "execute_result"
    }
   ],
   "source": [
    "(data['last_price']/1e6).describe()"
   ]
  },
  {
   "cell_type": "markdown",
   "metadata": {},
   "source": [
    "<div class=\"alert alert-warning\">\n",
    "<b>⚠️ Комментарий ревьюера:</b> Простой способ избавить от е-формата чисел при анализе данного столбца - перевести значения в колонке last_price из руб в млн руб. Для этого значения в колонке last_price нужно разделить на 1 000 000."
   ]
  },
  {
   "cell_type": "markdown",
   "metadata": {},
   "source": [
    "<div class=\"alert alert-info\"> <b>Комментарий студента:</b> Да, действительно, разделил</div>"
   ]
  },
  {
   "cell_type": "markdown",
   "metadata": {},
   "source": [
    "Распределение цен практически симметричное, близко к нормальному. Преобладают квартиры с ценой примерно от 3.8 до 5.5 млн.руб."
   ]
  },
  {
   "cell_type": "code",
   "execution_count": 63,
   "metadata": {},
   "outputs": [
    {
     "data": {
      "text/plain": [
       "<AxesSubplot:>"
      ]
     },
     "execution_count": 63,
     "metadata": {},
     "output_type": "execute_result"
    },
    {
     "data": {
      "image/png": "[encoded data removed]",
      "text/plain": [
       "<Figure size 720x360 with 1 Axes>"
      ]
     },
     "metadata": {
      "needs_background": "light"
     },
     "output_type": "display_data"
    }
   ],
   "source": [
    "data['rooms'].hist(bins=5,figsize=(10,5))"
   ]
  },
  {
   "cell_type": "code",
   "execution_count": 64,
   "metadata": {},
   "outputs": [
    {
     "data": {
      "text/plain": [
       "count    22421.000000\n",
       "mean         2.041122\n",
       "std          0.967631\n",
       "min          0.000000\n",
       "25%          1.000000\n",
       "50%          2.000000\n",
       "75%          3.000000\n",
       "max          8.000000\n",
       "Name: rooms, dtype: float64"
      ]
     },
     "execution_count": 64,
     "metadata": {},
     "output_type": "execute_result"
    }
   ],
   "source": [
    "data['rooms'].describe()"
   ]
  },
  {
   "cell_type": "markdown",
   "metadata": {},
   "source": [
    "Видно, что большинство предложений представлено квартирами с комнатами от 1 до 3."
   ]
  },
  {
   "cell_type": "code",
   "execution_count": 65,
   "metadata": {},
   "outputs": [
    {
     "data": {
      "text/plain": [
       "<AxesSubplot:>"
      ]
     },
     "execution_count": 65,
     "metadata": {},
     "output_type": "execute_result"
    },
    {
     "data": {
      "image/png": "[encoded data removed]",
      "text/plain": [
       "<Figure size 720x360 with 1 Axes>"
      ]
     },
     "metadata": {
      "needs_background": "light"
     },
     "output_type": "display_data"
    }
   ],
   "source": [
    "data['ceiling_height'].hist(bins=50,figsize=(10,5))"
   ]
  },
  {
   "cell_type": "code",
   "execution_count": 66,
   "metadata": {},
   "outputs": [
    {
     "data": {
      "text/plain": [
       "count    22421.000000\n",
       "mean         2.695531\n",
       "std          0.227865\n",
       "min          2.400000\n",
       "25%          2.550000\n",
       "50%          2.700000\n",
       "75%          2.700000\n",
       "max         10.300000\n",
       "Name: ceiling_height, dtype: float64"
      ]
     },
     "execution_count": 66,
     "metadata": {},
     "output_type": "execute_result"
    }
   ],
   "source": [
    "data['ceiling_height'].describe()"
   ]
  },
  {
   "cell_type": "markdown",
   "metadata": {},
   "source": [
    "Высота потолков представленных квартирах, в основном, не превышает 3м."
   ]
  },
  {
   "cell_type": "code",
   "execution_count": 67,
   "metadata": {},
   "outputs": [
    {
     "data": {
      "text/plain": [
       "<AxesSubplot:>"
      ]
     },
     "execution_count": 67,
     "metadata": {},
     "output_type": "execute_result"
    },
    {
     "data": {
      "image/png": "[encoded data removed]",
      "text/plain": [
       "<Figure size 720x360 with 1 Axes>"
      ]
     },
     "metadata": {
      "needs_background": "light"
     },
     "output_type": "display_data"
    }
   ],
   "source": [
    "data['floor'].hist(bins=10,figsize=(10,5))"
   ]
  },
  {
   "cell_type": "code",
   "execution_count": 68,
   "metadata": {},
   "outputs": [
    {
     "data": {
      "text/plain": [
       "count    22421.000000\n",
       "mean         5.865885\n",
       "std          4.860818\n",
       "min          1.000000\n",
       "25%          2.000000\n",
       "50%          4.000000\n",
       "75%          8.000000\n",
       "max         33.000000\n",
       "Name: floor, dtype: float64"
      ]
     },
     "execution_count": 68,
     "metadata": {},
     "output_type": "execute_result"
    }
   ],
   "source": [
    "data['floor'].describe()"
   ]
  },
  {
   "cell_type": "markdown",
   "metadata": {},
   "source": [
    "Видно, что большая доля квартир расположена на этаже не выше 4го."
   ]
  },
  {
   "cell_type": "code",
   "execution_count": 69,
   "metadata": {},
   "outputs": [
    {
     "data": {
      "text/plain": [
       "<AxesSubplot:>"
      ]
     },
     "execution_count": 69,
     "metadata": {},
     "output_type": "execute_result"
    },
    {
     "data": {
      "image/png": "[encoded data removed]",
      "text/plain": [
       "<Figure size 720x360 with 1 Axes>"
      ]
     },
     "metadata": {
      "needs_background": "light"
     },
     "output_type": "display_data"
    }
   ],
   "source": [
    "data['floor_type'].hist(bins=3,figsize=(10,5))"
   ]
  },
  {
   "cell_type": "code",
   "execution_count": 70,
   "metadata": {},
   "outputs": [
    {
     "data": {
      "text/plain": [
       "count      22421\n",
       "unique         3\n",
       "top       другой\n",
       "freq       16513\n",
       "Name: floor_type, dtype: object"
      ]
     },
     "execution_count": 70,
     "metadata": {},
     "output_type": "execute_result"
    }
   ],
   "source": [
    "data['floor_type'].describe()"
   ]
  },
  {
   "cell_type": "markdown",
   "metadata": {},
   "source": [
    "Большая часть квартир расположена в интервале между вторым и предпоследним, доля у квартир на первом и последнем этажах примерно равная."
   ]
  },
  {
   "cell_type": "code",
   "execution_count": 71,
   "metadata": {},
   "outputs": [
    {
     "data": {
      "text/plain": [
       "<AxesSubplot:>"
      ]
     },
     "execution_count": 71,
     "metadata": {},
     "output_type": "execute_result"
    },
    {
     "data": {
      "image/png": "[encoded data removed]",
      "text/plain": [
       "<Figure size 720x360 with 1 Axes>"
      ]
     },
     "metadata": {
      "needs_background": "light"
     },
     "output_type": "display_data"
    }
   ],
   "source": [
    "data['floors_total'].hist(bins=40,figsize=(10,5))"
   ]
  },
  {
   "cell_type": "code",
   "execution_count": 72,
   "metadata": {},
   "outputs": [
    {
     "data": {
      "text/plain": [
       "count    22421.00000\n",
       "mean        10.67633\n",
       "std          6.57145\n",
       "min          1.00000\n",
       "25%          5.00000\n",
       "50%          9.00000\n",
       "75%         16.00000\n",
       "max         60.00000\n",
       "Name: floors_total, dtype: float64"
      ]
     },
     "execution_count": 72,
     "metadata": {},
     "output_type": "execute_result"
    }
   ],
   "source": [
    "data['floors_total'].describe()"
   ]
  },
  {
   "cell_type": "markdown",
   "metadata": {},
   "source": [
    "Выраженные 4 пика. Большая доля примерно у 5этажных домов, далее 7-9этажные, затем 17 и 25этажные. Квартиры расположены в многоэтажных домах."
   ]
  },
  {
   "cell_type": "code",
   "execution_count": 73,
   "metadata": {},
   "outputs": [
    {
     "data": {
      "text/plain": [
       "<AxesSubplot:>"
      ]
     },
     "execution_count": 73,
     "metadata": {},
     "output_type": "execute_result"
    },
    {
     "data": {
      "image/png": "[encoded data removed]",
      "text/plain": [
       "<Figure size 720x360 with 1 Axes>"
      ]
     },
     "metadata": {
      "needs_background": "light"
     },
     "output_type": "display_data"
    }
   ],
   "source": [
    "data['cityCenters_nearest'].hist(bins=100,figsize=(10,5))"
   ]
  },
  {
   "cell_type": "code",
   "execution_count": 74,
   "metadata": {},
   "outputs": [
    {
     "data": {
      "text/plain": [
       "count    17188.000000\n",
       "mean     14398.373516\n",
       "std       8596.781759\n",
       "min        208.000000\n",
       "25%       9659.000000\n",
       "50%      13222.000000\n",
       "75%      16361.000000\n",
       "max      65968.000000\n",
       "Name: cityCenters_nearest, dtype: float64"
      ]
     },
     "execution_count": 74,
     "metadata": {},
     "output_type": "execute_result"
    }
   ],
   "source": [
    "data['cityCenters_nearest'].describe()"
   ]
  },
  {
   "cell_type": "markdown",
   "metadata": {},
   "source": [
    "Первый пик в районе 5000м, второй примерно в интервале 13000-17000 метров, третий пик около 32000м. "
   ]
  },
  {
   "cell_type": "code",
   "execution_count": 75,
   "metadata": {},
   "outputs": [
    {
     "data": {
      "text/plain": [
       "<AxesSubplot:>"
      ]
     },
     "execution_count": 75,
     "metadata": {},
     "output_type": "execute_result"
    },
    {
     "data": {
      "image/png": "[encoded data removed]",
      "text/plain": [
       "<Figure size 720x360 with 1 Axes>"
      ]
     },
     "metadata": {
      "needs_background": "light"
     },
     "output_type": "display_data"
    }
   ],
   "source": [
    "data['airports_nearest'].hist(figsize=(10,5))"
   ]
  },
  {
   "cell_type": "code",
   "execution_count": 76,
   "metadata": {},
   "outputs": [
    {
     "data": {
      "text/plain": [
       "count    17168.000000\n",
       "mean     28852.210799\n",
       "std      12723.195536\n",
       "min          0.000000\n",
       "25%      18440.250000\n",
       "50%      26893.000000\n",
       "75%      37412.000000\n",
       "max      84869.000000\n",
       "Name: airports_nearest, dtype: float64"
      ]
     },
     "execution_count": 76,
     "metadata": {},
     "output_type": "execute_result"
    }
   ],
   "source": [
    "data['airports_nearest'].describe()"
   ]
  },
  {
   "cell_type": "markdown",
   "metadata": {},
   "source": [
    "Пик на 20000м, далее расстояние плавно увеличивается. Видимо, от центра в область. Смущает значение с расстоянием 0."
   ]
  },
  {
   "cell_type": "code",
   "execution_count": 77,
   "metadata": {},
   "outputs": [
    {
     "data": {
      "text/html": [
       "<div>\n",
       "<style scoped>\n",
       "    .dataframe tbody tr th:only-of-type {\n",
       "        vertical-align: middle;\n",
       "    }\n",
       "\n",
       "    .dataframe tbody tr th {\n",
       "        vertical-align: top;\n",
       "    }\n",
       "\n",
       "    .dataframe thead th {\n",
       "        text-align: right;\n",
       "    }\n",
       "</style>\n",
       "<table border=\"1\" class=\"dataframe\">\n",
       "  <thead>\n",
       "    <tr style=\"text-align: right;\">\n",
       "      <th></th>\n",
       "      <th>total_images</th>\n",
       "      <th>last_price</th>\n",
       "      <th>total_area</th>\n",
       "      <th>first_day_exposition</th>\n",
       "      <th>rooms</th>\n",
       "      <th>ceiling_height</th>\n",
       "      <th>floors_total</th>\n",
       "      <th>living_area</th>\n",
       "      <th>floor</th>\n",
       "      <th>is_apartment</th>\n",
       "      <th>studio</th>\n",
       "      <th>open_plan</th>\n",
       "      <th>kitchen_area</th>\n",
       "      <th>balcony</th>\n",
       "      <th>locality_name</th>\n",
       "      <th>airports_nearest</th>\n",
       "      <th>cityCenters_nearest</th>\n",
       "      <th>parks_around3000</th>\n",
       "      <th>parks_nearest</th>\n",
       "      <th>ponds_around3000</th>\n",
       "      <th>ponds_nearest</th>\n",
       "      <th>days_exposition</th>\n",
       "      <th>price_m2</th>\n",
       "      <th>weekday_exposition</th>\n",
       "      <th>month_exposition</th>\n",
       "      <th>year_exposition</th>\n",
       "      <th>floor_type</th>\n",
       "      <th>cityCenters_km</th>\n",
       "    </tr>\n",
       "  </thead>\n",
       "  <tbody>\n",
       "    <tr>\n",
       "      <th>21085</th>\n",
       "      <td>0</td>\n",
       "      <td>7000000</td>\n",
       "      <td>34.7</td>\n",
       "      <td>2018-09-23</td>\n",
       "      <td>1</td>\n",
       "      <td>2.7</td>\n",
       "      <td>9</td>\n",
       "      <td>19.8</td>\n",
       "      <td>3</td>\n",
       "      <td>True</td>\n",
       "      <td>False</td>\n",
       "      <td>False</td>\n",
       "      <td>6.0</td>\n",
       "      <td>2</td>\n",
       "      <td>Санкт-Петербург</td>\n",
       "      <td>0.0</td>\n",
       "      <td>22801.0</td>\n",
       "      <td>0.0</td>\n",
       "      <td>NaN</td>\n",
       "      <td>0.0</td>\n",
       "      <td>NaN</td>\n",
       "      <td>60</td>\n",
       "      <td>201729.106628</td>\n",
       "      <td>6</td>\n",
       "      <td>9</td>\n",
       "      <td>2018</td>\n",
       "      <td>другой</td>\n",
       "      <td>22.801</td>\n",
       "    </tr>\n",
       "  </tbody>\n",
       "</table>\n",
       "</div>"
      ],
      "text/plain": [
       "       total_images  last_price  total_area first_day_exposition  rooms  \\\n",
       "21085             0     7000000        34.7           2018-09-23      1   \n",
       "\n",
       "       ceiling_height  floors_total  living_area  floor  is_apartment  studio  \\\n",
       "21085             2.7             9         19.8      3          True   False   \n",
       "\n",
       "       open_plan  kitchen_area  balcony    locality_name  airports_nearest  \\\n",
       "21085      False           6.0        2  Санкт-Петербург               0.0   \n",
       "\n",
       "       cityCenters_nearest  parks_around3000  parks_nearest  ponds_around3000  \\\n",
       "21085              22801.0               0.0            NaN               0.0   \n",
       "\n",
       "       ponds_nearest  days_exposition       price_m2  weekday_exposition  \\\n",
       "21085            NaN               60  201729.106628                   6   \n",
       "\n",
       "       month_exposition  year_exposition floor_type  cityCenters_km  \n",
       "21085                 9             2018     другой          22.801  "
      ]
     },
     "execution_count": 77,
     "metadata": {},
     "output_type": "execute_result"
    }
   ],
   "source": [
    "data.query('airports_nearest ==0')"
   ]
  },
  {
   "cell_type": "markdown",
   "metadata": {},
   "source": [
    "Всего одно, можно его не учитывать."
   ]
  },
  {
   "cell_type": "code",
   "execution_count": 78,
   "metadata": {},
   "outputs": [
    {
     "data": {
      "text/plain": [
       "<AxesSubplot:>"
      ]
     },
     "execution_count": 78,
     "metadata": {},
     "output_type": "execute_result"
    },
    {
     "data": {
      "image/png": "[encoded data removed]",
      "text/plain": [
       "<Figure size 720x360 with 1 Axes>"
      ]
     },
     "metadata": {
      "needs_background": "light"
     },
     "output_type": "display_data"
    }
   ],
   "source": [
    "data['parks_nearest'].hist(bins=100,figsize=(10,5))"
   ]
  },
  {
   "cell_type": "code",
   "execution_count": 79,
   "metadata": {},
   "outputs": [
    {
     "data": {
      "text/plain": [
       "count    7532.000000\n",
       "mean      494.055895\n",
       "std       340.778688\n",
       "min         1.000000\n",
       "25%       292.000000\n",
       "50%       456.000000\n",
       "75%       615.000000\n",
       "max      3190.000000\n",
       "Name: parks_nearest, dtype: float64"
      ]
     },
     "execution_count": 79,
     "metadata": {},
     "output_type": "execute_result"
    }
   ],
   "source": [
    "data['parks_nearest'].describe()"
   ]
  },
  {
   "cell_type": "markdown",
   "metadata": {},
   "source": [
    "Из имеющихся данных на примерно 7800 квартир - почти все они расположены довольно близко к парку, в пределах 1000м."
   ]
  },
  {
   "cell_type": "code",
   "execution_count": 80,
   "metadata": {},
   "outputs": [
    {
     "data": {
      "text/plain": [
       "<AxesSubplot:>"
      ]
     },
     "execution_count": 80,
     "metadata": {},
     "output_type": "execute_result"
    },
    {
     "data": {
      "image/png": "[encoded data removed]",
      "text/plain": [
       "<Figure size 720x360 with 1 Axes>"
      ]
     },
     "metadata": {
      "needs_background": "light"
     },
     "output_type": "display_data"
    }
   ],
   "source": [
    "data['weekday_exposition'].hist(bins=7,figsize=(10,5))"
   ]
  },
  {
   "cell_type": "code",
   "execution_count": 81,
   "metadata": {},
   "outputs": [
    {
     "data": {
      "text/plain": [
       "count    22421.000000\n",
       "mean         2.567504\n",
       "std          1.787246\n",
       "min          0.000000\n",
       "25%          1.000000\n",
       "50%          3.000000\n",
       "75%          4.000000\n",
       "max          6.000000\n",
       "Name: weekday_exposition, dtype: float64"
      ]
     },
     "execution_count": 81,
     "metadata": {},
     "output_type": "execute_result"
    }
   ],
   "source": [
    "data['weekday_exposition'].describe()"
   ]
  },
  {
   "cell_type": "markdown",
   "metadata": {},
   "source": [
    "Можно увидеть, что большая часть объявлений размещалась в будние дни."
   ]
  },
  {
   "cell_type": "code",
   "execution_count": 82,
   "metadata": {},
   "outputs": [
    {
     "data": {
      "text/plain": [
       "<AxesSubplot:>"
      ]
     },
     "execution_count": 82,
     "metadata": {},
     "output_type": "execute_result"
    },
    {
     "data": {
      "image/png": "[encoded data removed]",
      "text/plain": [
       "<Figure size 720x360 with 1 Axes>"
      ]
     },
     "metadata": {
      "needs_background": "light"
     },
     "output_type": "display_data"
    }
   ],
   "source": [
    "data['month_exposition'].hist(bins=12,figsize=(10,5))"
   ]
  },
  {
   "cell_type": "code",
   "execution_count": 83,
   "metadata": {},
   "outputs": [
    {
     "data": {
      "text/plain": [
       "count    22421.000000\n",
       "mean         6.403729\n",
       "std          3.495348\n",
       "min          1.000000\n",
       "25%          3.000000\n",
       "50%          6.000000\n",
       "75%         10.000000\n",
       "max         12.000000\n",
       "Name: month_exposition, dtype: float64"
      ]
     },
     "execution_count": 83,
     "metadata": {},
     "output_type": "execute_result"
    }
   ],
   "source": [
    "data['month_exposition'].describe()"
   ]
  },
  {
   "cell_type": "markdown",
   "metadata": {},
   "source": [
    "Виден скачок активности с февраля по апрель, спад в мае, видимо, из-за праздников, и дальше плавный рост с июня ноябрь. В декабре снова спад, также наверно из-за подготовки к встрече Нового года."
   ]
  },
  {
   "cell_type": "code",
   "execution_count": 84,
   "metadata": {},
   "outputs": [
    {
     "data": {
      "text/plain": [
       "<AxesSubplot:>"
      ]
     },
     "execution_count": 84,
     "metadata": {},
     "output_type": "execute_result"
    },
    {
     "data": {
      "image/png": "[encoded data removed]",
      "text/plain": [
       "<Figure size 720x360 with 1 Axes>"
      ]
     },
     "metadata": {
      "needs_background": "light"
     },
     "output_type": "display_data"
    }
   ],
   "source": [
    "data['year_exposition'].hist(bins=6,figsize=(10,5))"
   ]
  },
  {
   "cell_type": "code",
   "execution_count": 85,
   "metadata": {},
   "outputs": [
    {
     "data": {
      "text/plain": [
       "count    22421.000000\n",
       "mean      2017.375541\n",
       "std          1.033859\n",
       "min       2014.000000\n",
       "25%       2017.000000\n",
       "50%       2017.000000\n",
       "75%       2018.000000\n",
       "max       2019.000000\n",
       "Name: year_exposition, dtype: float64"
      ]
     },
     "execution_count": 85,
     "metadata": {},
     "output_type": "execute_result"
    }
   ],
   "source": [
    "data['year_exposition'].describe()"
   ]
  },
  {
   "cell_type": "markdown",
   "metadata": {},
   "source": [
    "Видно, что пик активности пришёлся на 2017 и 2018 годы."
   ]
  },
  {
   "cell_type": "markdown",
   "metadata": {},
   "source": [
    "<div class=\"alert alert-success\">\n",
    "<b>✔️ Комментарий ревьюера:</b> Все так"
   ]
  },
  {
   "cell_type": "markdown",
   "metadata": {},
   "source": [
    "**Задание. Изучите, как быстро продавались квартиры (столбец days_exposition).**"
   ]
  },
  {
   "cell_type": "code",
   "execution_count": 86,
   "metadata": {},
   "outputs": [
    {
     "data": {
      "text/plain": [
       "<AxesSubplot:>"
      ]
     },
     "execution_count": 86,
     "metadata": {},
     "output_type": "execute_result"
    },
    {
     "data": {
      "image/png": "[encoded data removed]",
      "text/plain": [
       "<Figure size 720x360 with 1 Axes>"
      ]
     },
     "metadata": {
      "needs_background": "light"
     },
     "output_type": "display_data"
    }
   ],
   "source": [
    "#строим гистограмму с учётом маркера, которым заполняли пропуски (-100)\n",
    "\n",
    "data.query('days_exposition > 0')['days_exposition'].hist(figsize=(10,5))"
   ]
  },
  {
   "cell_type": "markdown",
   "metadata": {},
   "source": [
    "<div class=\"alert alert-success\">\n",
    "<b>✔️ Комментарий ревьюера:</b> Молодец, что не забыл откинуть заглушку. Она бы исказила результаты"
   ]
  },
  {
   "cell_type": "code",
   "execution_count": 87,
   "metadata": {},
   "outputs": [
    {
     "data": {
      "text/plain": [
       "count    19430.000000\n",
       "mean       179.828204\n",
       "std        218.416426\n",
       "min          1.000000\n",
       "25%         45.000000\n",
       "50%         95.000000\n",
       "75%        230.000000\n",
       "max       1580.000000\n",
       "Name: days_exposition, dtype: float64"
      ]
     },
     "execution_count": 87,
     "metadata": {},
     "output_type": "execute_result"
    }
   ],
   "source": [
    "data.query('days_exposition > 0')['days_exposition'].describe()"
   ]
  },
  {
   "cell_type": "markdown",
   "metadata": {},
   "source": [
    "В среднем квартиры находились в продаже около 180 дней, но видны также сильные выбросы: некоторые квартиры продавались и за 1 день и \"висели\" больше 4-х лет. Поэтому среднее почти в два раза больше медианного числа дней. Так что, надёжнее будет предположить, что продажа занимает около 95 дней."
   ]
  },
  {
   "cell_type": "markdown",
   "metadata": {},
   "source": [
    "<div class=\"alert alert-success\">\n",
    "<b>✔️ Комментарий ревьюера:</b> Корректно"
   ]
  },
  {
   "cell_type": "markdown",
   "metadata": {},
   "source": [
    "**Задание. Какие факторы больше всего влияют на общую (полную) стоимость объекта?**"
   ]
  },
  {
   "cell_type": "code",
   "execution_count": 88,
   "metadata": {},
   "outputs": [
    {
     "data": {
      "text/plain": [
       "<AxesSubplot:xlabel='total_area', ylabel='last_price'>"
      ]
     },
     "execution_count": 88,
     "metadata": {},
     "output_type": "execute_result"
    },
    {
     "data": {
      "image/png": "[encoded data removed]",
      "text/plain": [
       "<Figure size 432x288 with 1 Axes>"
      ]
     },
     "metadata": {
      "needs_background": "light"
     },
     "output_type": "display_data"
    }
   ],
   "source": [
    "#построим диаграммы для каждого параметра отдельно и подсчитаем коэф. корреляции, где возможно\n",
    "\n",
    "(data\n",
    " .pivot_table(index='total_area', values='last_price')\n",
    " .reset_index()\n",
    " .plot(x='total_area', y='last_price', kind='scatter',grid=True)\n",
    ")"
   ]
  },
  {
   "cell_type": "code",
   "execution_count": 89,
   "metadata": {},
   "outputs": [
    {
     "data": {
      "text/html": [
       "<div>\n",
       "<style scoped>\n",
       "    .dataframe tbody tr th:only-of-type {\n",
       "        vertical-align: middle;\n",
       "    }\n",
       "\n",
       "    .dataframe tbody tr th {\n",
       "        vertical-align: top;\n",
       "    }\n",
       "\n",
       "    .dataframe thead th {\n",
       "        text-align: right;\n",
       "    }\n",
       "</style>\n",
       "<table border=\"1\" class=\"dataframe\">\n",
       "  <thead>\n",
       "    <tr style=\"text-align: right;\">\n",
       "      <th></th>\n",
       "      <th>total_area</th>\n",
       "      <th>last_price</th>\n",
       "    </tr>\n",
       "  </thead>\n",
       "  <tbody>\n",
       "    <tr>\n",
       "      <th>total_area</th>\n",
       "      <td>1.000000</td>\n",
       "      <td>0.881454</td>\n",
       "    </tr>\n",
       "    <tr>\n",
       "      <th>last_price</th>\n",
       "      <td>0.881454</td>\n",
       "      <td>1.000000</td>\n",
       "    </tr>\n",
       "  </tbody>\n",
       "</table>\n",
       "</div>"
      ],
      "text/plain": [
       "            total_area  last_price\n",
       "total_area    1.000000    0.881454\n",
       "last_price    0.881454    1.000000"
      ]
     },
     "execution_count": 89,
     "metadata": {},
     "output_type": "execute_result"
    }
   ],
   "source": [
    "data.pivot_table(index='total_area', values='last_price').reset_index().corr()"
   ]
  },
  {
   "cell_type": "markdown",
   "metadata": {},
   "source": [
    "Точки в целом ложатся на прямую. Видно, что зависимость цены от общей площади прямая и достаточно сильная, коэффициент корреляции больше 0.7."
   ]
  },
  {
   "cell_type": "code",
   "execution_count": 90,
   "metadata": {},
   "outputs": [
    {
     "data": {
      "text/plain": [
       "<AxesSubplot:xlabel='living_area', ylabel='last_price'>"
      ]
     },
     "execution_count": 90,
     "metadata": {},
     "output_type": "execute_result"
    },
    {
     "data": {
      "image/png": "[encoded data removed]",
      "text/plain": [
       "<Figure size 432x288 with 1 Axes>"
      ]
     },
     "metadata": {
      "needs_background": "light"
     },
     "output_type": "display_data"
    }
   ],
   "source": [
    "(data\n",
    " .pivot_table(index='living_area', values='last_price')\n",
    " .reset_index()\n",
    " .plot(x='living_area', y='last_price', kind='scatter',grid=True)\n",
    ")"
   ]
  },
  {
   "cell_type": "code",
   "execution_count": 91,
   "metadata": {},
   "outputs": [
    {
     "data": {
      "text/html": [
       "<div>\n",
       "<style scoped>\n",
       "    .dataframe tbody tr th:only-of-type {\n",
       "        vertical-align: middle;\n",
       "    }\n",
       "\n",
       "    .dataframe tbody tr th {\n",
       "        vertical-align: top;\n",
       "    }\n",
       "\n",
       "    .dataframe thead th {\n",
       "        text-align: right;\n",
       "    }\n",
       "</style>\n",
       "<table border=\"1\" class=\"dataframe\">\n",
       "  <thead>\n",
       "    <tr style=\"text-align: right;\">\n",
       "      <th></th>\n",
       "      <th>living_area</th>\n",
       "      <th>last_price</th>\n",
       "    </tr>\n",
       "  </thead>\n",
       "  <tbody>\n",
       "    <tr>\n",
       "      <th>living_area</th>\n",
       "      <td>1.000000</td>\n",
       "      <td>0.799939</td>\n",
       "    </tr>\n",
       "    <tr>\n",
       "      <th>last_price</th>\n",
       "      <td>0.799939</td>\n",
       "      <td>1.000000</td>\n",
       "    </tr>\n",
       "  </tbody>\n",
       "</table>\n",
       "</div>"
      ],
      "text/plain": [
       "             living_area  last_price\n",
       "living_area     1.000000    0.799939\n",
       "last_price      0.799939    1.000000"
      ]
     },
     "execution_count": 91,
     "metadata": {},
     "output_type": "execute_result"
    }
   ],
   "source": [
    "data.pivot_table(index='living_area', values='last_price').reset_index().corr()"
   ]
  },
  {
   "cell_type": "markdown",
   "metadata": {},
   "source": [
    "Взаимосвязь цены с жилой площадью также прямая, достаточно сильная, коэффициент Пирсона 0.8."
   ]
  },
  {
   "cell_type": "code",
   "execution_count": 92,
   "metadata": {},
   "outputs": [
    {
     "data": {
      "text/plain": [
       "<AxesSubplot:xlabel='kitchen_area', ylabel='last_price'>"
      ]
     },
     "execution_count": 92,
     "metadata": {},
     "output_type": "execute_result"
    },
    {
     "data": {
      "image/png": "[encoded data removed]",
      "text/plain": [
       "<Figure size 432x288 with 1 Axes>"
      ]
     },
     "metadata": {
      "needs_background": "light"
     },
     "output_type": "display_data"
    }
   ],
   "source": [
    "(data\n",
    " .pivot_table(index='kitchen_area', values='last_price')\n",
    " .reset_index()\n",
    " .plot(x='kitchen_area', y='last_price', kind='scatter',grid=True)\n",
    ")"
   ]
  },
  {
   "cell_type": "code",
   "execution_count": 93,
   "metadata": {},
   "outputs": [
    {
     "data": {
      "text/html": [
       "<div>\n",
       "<style scoped>\n",
       "    .dataframe tbody tr th:only-of-type {\n",
       "        vertical-align: middle;\n",
       "    }\n",
       "\n",
       "    .dataframe tbody tr th {\n",
       "        vertical-align: top;\n",
       "    }\n",
       "\n",
       "    .dataframe thead th {\n",
       "        text-align: right;\n",
       "    }\n",
       "</style>\n",
       "<table border=\"1\" class=\"dataframe\">\n",
       "  <thead>\n",
       "    <tr style=\"text-align: right;\">\n",
       "      <th></th>\n",
       "      <th>kitchen_area</th>\n",
       "      <th>last_price</th>\n",
       "    </tr>\n",
       "  </thead>\n",
       "  <tbody>\n",
       "    <tr>\n",
       "      <th>kitchen_area</th>\n",
       "      <td>1.0000</td>\n",
       "      <td>0.6529</td>\n",
       "    </tr>\n",
       "    <tr>\n",
       "      <th>last_price</th>\n",
       "      <td>0.6529</td>\n",
       "      <td>1.0000</td>\n",
       "    </tr>\n",
       "  </tbody>\n",
       "</table>\n",
       "</div>"
      ],
      "text/plain": [
       "              kitchen_area  last_price\n",
       "kitchen_area        1.0000      0.6529\n",
       "last_price          0.6529      1.0000"
      ]
     },
     "execution_count": 93,
     "metadata": {},
     "output_type": "execute_result"
    }
   ],
   "source": [
    "data.pivot_table(index='kitchen_area', values='last_price').reset_index().corr()"
   ]
  },
  {
   "cell_type": "markdown",
   "metadata": {},
   "source": [
    "Прямая зависимость присутствует, но менее выраженная, коэффициент корреляции 0.65."
   ]
  },
  {
   "cell_type": "code",
   "execution_count": 94,
   "metadata": {},
   "outputs": [
    {
     "data": {
      "text/plain": [
       "<AxesSubplot:xlabel='rooms', ylabel='last_price'>"
      ]
     },
     "execution_count": 94,
     "metadata": {},
     "output_type": "execute_result"
    },
    {
     "data": {
      "image/png": "[encoded data removed]",
      "text/plain": [
       "<Figure size 432x288 with 1 Axes>"
      ]
     },
     "metadata": {
      "needs_background": "light"
     },
     "output_type": "display_data"
    }
   ],
   "source": [
    "(data\n",
    " .pivot_table(index='rooms', values='last_price')\n",
    " .reset_index()\n",
    " .plot(x='rooms', y='last_price', kind='scatter',grid=True)\n",
    ")"
   ]
  },
  {
   "cell_type": "code",
   "execution_count": 95,
   "metadata": {},
   "outputs": [
    {
     "data": {
      "text/html": [
       "<div>\n",
       "<style scoped>\n",
       "    .dataframe tbody tr th:only-of-type {\n",
       "        vertical-align: middle;\n",
       "    }\n",
       "\n",
       "    .dataframe tbody tr th {\n",
       "        vertical-align: top;\n",
       "    }\n",
       "\n",
       "    .dataframe thead th {\n",
       "        text-align: right;\n",
       "    }\n",
       "</style>\n",
       "<table border=\"1\" class=\"dataframe\">\n",
       "  <thead>\n",
       "    <tr style=\"text-align: right;\">\n",
       "      <th></th>\n",
       "      <th>rooms</th>\n",
       "      <th>last_price</th>\n",
       "    </tr>\n",
       "  </thead>\n",
       "  <tbody>\n",
       "    <tr>\n",
       "      <th>rooms</th>\n",
       "      <td>1.000000</td>\n",
       "      <td>0.984632</td>\n",
       "    </tr>\n",
       "    <tr>\n",
       "      <th>last_price</th>\n",
       "      <td>0.984632</td>\n",
       "      <td>1.000000</td>\n",
       "    </tr>\n",
       "  </tbody>\n",
       "</table>\n",
       "</div>"
      ],
      "text/plain": [
       "               rooms  last_price\n",
       "rooms       1.000000    0.984632\n",
       "last_price  0.984632    1.000000"
      ]
     },
     "execution_count": 95,
     "metadata": {},
     "output_type": "execute_result"
    }
   ],
   "source": [
    "data.pivot_table(index='rooms', values='last_price').reset_index().corr()"
   ]
  },
  {
   "cell_type": "markdown",
   "metadata": {},
   "source": [
    "Сильная связь очевидна, чем больше комнат, тем больше цена."
   ]
  },
  {
   "cell_type": "code",
   "execution_count": 96,
   "metadata": {},
   "outputs": [
    {
     "data": {
      "text/plain": [
       "<AxesSubplot:xlabel='floor_type', ylabel='last_price'>"
      ]
     },
     "execution_count": 96,
     "metadata": {},
     "output_type": "execute_result"
    },
    {
     "data": {
      "image/png": "[encoded data removed]",
      "text/plain": [
       "<Figure size 432x288 with 1 Axes>"
      ]
     },
     "metadata": {
      "needs_background": "light"
     },
     "output_type": "display_data"
    }
   ],
   "source": [
    "(data\n",
    " .pivot_table(index='floor_type', values='last_price')\n",
    " .reset_index()\n",
    " .plot(x='floor_type', y='last_price', kind='scatter',grid=True)\n",
    ")"
   ]
  },
  {
   "cell_type": "markdown",
   "metadata": {},
   "source": [
    "Можно сказать, что квартиры на первых и последних этажах стоят дешевле в среднем. "
   ]
  },
  {
   "cell_type": "code",
   "execution_count": 97,
   "metadata": {},
   "outputs": [
    {
     "data": {
      "text/plain": [
       "<AxesSubplot:xlabel='weekday_exposition', ylabel='last_price'>"
      ]
     },
     "execution_count": 97,
     "metadata": {},
     "output_type": "execute_result"
    },
    {
     "data": {
      "image/png": "[encoded data removed]",
      "text/plain": [
       "<Figure size 432x288 with 1 Axes>"
      ]
     },
     "metadata": {
      "needs_background": "light"
     },
     "output_type": "display_data"
    }
   ],
   "source": [
    "(data\n",
    " .pivot_table(index='weekday_exposition', values='last_price')\n",
    " .reset_index()\n",
    " .plot(x='weekday_exposition', y='last_price', kind='scatter',grid=True)\n",
    ")"
   ]
  },
  {
   "cell_type": "markdown",
   "metadata": {},
   "source": [
    "Интересно, что самые дорогие квартиры выставлялись в первой половине недели с пиком четверг. Выставленные в выходные стоили дешевле, особенно в воскресенье."
   ]
  },
  {
   "cell_type": "code",
   "execution_count": 98,
   "metadata": {},
   "outputs": [
    {
     "data": {
      "text/plain": [
       "<AxesSubplot:xlabel='month_exposition', ylabel='last_price'>"
      ]
     },
     "execution_count": 98,
     "metadata": {},
     "output_type": "execute_result"
    },
    {
     "data": {
      "image/png": "[encoded data removed]",
      "text/plain": [
       "<Figure size 432x288 with 1 Axes>"
      ]
     },
     "metadata": {
      "needs_background": "light"
     },
     "output_type": "display_data"
    }
   ],
   "source": [
    "(data\n",
    " .pivot_table(index='month_exposition', values='last_price')\n",
    " .reset_index()\n",
    " .plot(x='month_exposition', y='last_price', kind='scatter',grid=True)\n",
    ")"
   ]
  },
  {
   "cell_type": "markdown",
   "metadata": {},
   "source": [
    "Присутствует некоторая сезонность. Можно сказать, цены в начале года были ниже, но с апреля наметилась тендеция к росту."
   ]
  },
  {
   "cell_type": "code",
   "execution_count": 99,
   "metadata": {},
   "outputs": [
    {
     "data": {
      "text/plain": [
       "<AxesSubplot:xlabel='year_exposition', ylabel='last_price'>"
      ]
     },
     "execution_count": 99,
     "metadata": {},
     "output_type": "execute_result"
    },
    {
     "data": {
      "image/png": "[encoded data removed]",
      "text/plain": [
       "<Figure size 432x288 with 1 Axes>"
      ]
     },
     "metadata": {
      "needs_background": "light"
     },
     "output_type": "display_data"
    }
   ],
   "source": [
    "(data\n",
    " .pivot_table(index='year_exposition', values='last_price')\n",
    " .reset_index()\n",
    " .plot(x='year_exposition', y='last_price', kind='scatter',grid=True)\n",
    ")"
   ]
  },
  {
   "cell_type": "markdown",
   "metadata": {},
   "source": [
    "Видно заметное падение цен с 2014го. Вероятно, связано с экономическим кризисом 2014-2015 годов."
   ]
  },
  {
   "cell_type": "markdown",
   "metadata": {},
   "source": [
    "<div class=\"alert alert-warning\">\n",
    "<b>⚠️ Комментарий ревьюера:</b> Ты прав. Зависимость лучше всего показывает корреляция Пирсона. На параметрах 'last_price',  'total_area' (и другие площади), 'rooms', 'cityCenters_nearest' коэффициент корреляции Пирсона работает хорошо. Но применение его к остальным параметрам - типу этажа, дню недели, году, и месяцу - не эффективно, т.к. цена квартиры зависит от них не линейно. Остальные параметры можно рассмотреть на обычных диаграммах, к примеру, столбчатых или линейных, сгруппировав данные по нужным параметрам и рассмотрев среднее цены.\n",
    "    \n",
    "    \n",
    "    \n",
    "Давай еще немного поработаем с корреляцией. Более наглядно можно было бы сделать следующим образом:\n",
    "    \n",
    "1) построить корреляцию матрицей для нужных параметров\n",
    " \n",
    "df[['last_price', 'total_area', 'rooms', 'cityCenters_nearest']].corr()\n",
    "    \n",
    "2) интерпретировать получившийся коэффициент\n",
    "    \n",
    "3) для визуализации параметров использовать простой и полезный метод sns.pairplot - он отобразит корреляцию всех графиков компактным \"полотном\"\n",
    "    \n",
    "4) для остальных параметров построим обычные графики - заменим точки на линии или столбцы для наглядности\n",
    "    \n",
    "</div>"
   ]
  },
  {
   "cell_type": "code",
   "execution_count": 100,
   "metadata": {},
   "outputs": [
    {
     "data": {
      "text/html": [
       "<div>\n",
       "<style scoped>\n",
       "    .dataframe tbody tr th:only-of-type {\n",
       "        vertical-align: middle;\n",
       "    }\n",
       "\n",
       "    .dataframe tbody tr th {\n",
       "        vertical-align: top;\n",
       "    }\n",
       "\n",
       "    .dataframe thead th {\n",
       "        text-align: right;\n",
       "    }\n",
       "</style>\n",
       "<table border=\"1\" class=\"dataframe\">\n",
       "  <thead>\n",
       "    <tr style=\"text-align: right;\">\n",
       "      <th></th>\n",
       "      <th>last_price</th>\n",
       "      <th>total_area</th>\n",
       "      <th>rooms</th>\n",
       "      <th>cityCenters_nearest</th>\n",
       "    </tr>\n",
       "  </thead>\n",
       "  <tbody>\n",
       "    <tr>\n",
       "      <th>last_price</th>\n",
       "      <td>1.000000</td>\n",
       "      <td>0.781413</td>\n",
       "      <td>0.481266</td>\n",
       "      <td>-0.347815</td>\n",
       "    </tr>\n",
       "    <tr>\n",
       "      <th>total_area</th>\n",
       "      <td>0.781413</td>\n",
       "      <td>1.000000</td>\n",
       "      <td>0.784713</td>\n",
       "      <td>-0.222044</td>\n",
       "    </tr>\n",
       "    <tr>\n",
       "      <th>rooms</th>\n",
       "      <td>0.481266</td>\n",
       "      <td>0.784713</td>\n",
       "      <td>1.000000</td>\n",
       "      <td>-0.151158</td>\n",
       "    </tr>\n",
       "    <tr>\n",
       "      <th>cityCenters_nearest</th>\n",
       "      <td>-0.347815</td>\n",
       "      <td>-0.222044</td>\n",
       "      <td>-0.151158</td>\n",
       "      <td>1.000000</td>\n",
       "    </tr>\n",
       "  </tbody>\n",
       "</table>\n",
       "</div>"
      ],
      "text/plain": [
       "                     last_price  total_area     rooms  cityCenters_nearest\n",
       "last_price             1.000000    0.781413  0.481266            -0.347815\n",
       "total_area             0.781413    1.000000  0.784713            -0.222044\n",
       "rooms                  0.481266    0.784713  1.000000            -0.151158\n",
       "cityCenters_nearest   -0.347815   -0.222044 -0.151158             1.000000"
      ]
     },
     "execution_count": 100,
     "metadata": {},
     "output_type": "execute_result"
    }
   ],
   "source": [
    "#построим матрицу корреляции для набора параметров\n",
    "\n",
    "matrix_corr = data[['last_price', 'total_area', 'rooms', 'cityCenters_nearest']].corr()\n",
    "\n",
    "matrix_corr"
   ]
  },
  {
   "cell_type": "markdown",
   "metadata": {},
   "source": [
    "Наглядно видна взаимосвязь между параметрами. Нас интересует цена, которая напрямую зависит от общей площади, числа комнат и обратно от расстояния до центра, чем дальше, тем цена меньше."
   ]
  },
  {
   "cell_type": "code",
   "execution_count": 101,
   "metadata": {},
   "outputs": [
    {
     "data": {
      "text/plain": [
       "<seaborn.axisgrid.PairGrid at 0x7f8fa2f5e610>"
      ]
     },
     "execution_count": 101,
     "metadata": {},
     "output_type": "execute_result"
    },
    {
     "data": {
      "image/png": "[encoded data removed]",
      "text/plain": [
       "<Figure size 720x720 with 20 Axes>"
      ]
     },
     "metadata": {
      "needs_background": "light"
     },
     "output_type": "display_data"
    }
   ],
   "source": [
    "#построим матрицу графиков корреляции\n",
    "\n",
    "sns.pairplot(matrix_corr)"
   ]
  },
  {
   "cell_type": "markdown",
   "metadata": {},
   "source": [
    "<div class=\"alert alert-success\">\n",
    "<b>✔️ Комментарий ревьюера V2:</b> Получилось отлично! Визуализацию лучше строить на параметрах без корреляции, так как этот метод сразу отрисовывает зависимости"
   ]
  },
  {
   "cell_type": "code",
   "execution_count": 102,
   "metadata": {},
   "outputs": [
    {
     "data": {
      "text/plain": [
       "<AxesSubplot:xlabel='floor_type'>"
      ]
     },
     "execution_count": 102,
     "metadata": {},
     "output_type": "execute_result"
    },
    {
     "data": {
      "image/png": "[encoded data removed]",
      "text/plain": [
       "<Figure size 432x288 with 1 Axes>"
      ]
     },
     "metadata": {
      "needs_background": "light"
     },
     "output_type": "display_data"
    }
   ],
   "source": [
    "#строим линейные диаграммы для типа этажа, дня недели, месяца, года\n",
    "\n",
    "(data\n",
    " .pivot_table(index='floor_type', values='last_price')\n",
    " .reset_index()\n",
    " .plot(x='floor_type', y='last_price',style='o-', grid=True)\n",
    ")"
   ]
  },
  {
   "cell_type": "code",
   "execution_count": 103,
   "metadata": {},
   "outputs": [
    {
     "data": {
      "text/plain": [
       "<AxesSubplot:xlabel='weekday_exposition'>"
      ]
     },
     "execution_count": 103,
     "metadata": {},
     "output_type": "execute_result"
    },
    {
     "data": {
      "image/png": "[encoded data removed]",
      "text/plain": [
       "<Figure size 432x288 with 1 Axes>"
      ]
     },
     "metadata": {
      "needs_background": "light"
     },
     "output_type": "display_data"
    }
   ],
   "source": [
    "(data\n",
    " .pivot_table(index='weekday_exposition', values='last_price')\n",
    " .reset_index()\n",
    " .plot(x='weekday_exposition', y='last_price',style='o-', grid=True)\n",
    ")"
   ]
  },
  {
   "cell_type": "code",
   "execution_count": 104,
   "metadata": {},
   "outputs": [
    {
     "data": {
      "text/plain": [
       "<AxesSubplot:xlabel='month_exposition'>"
      ]
     },
     "execution_count": 104,
     "metadata": {},
     "output_type": "execute_result"
    },
    {
     "data": {
      "image/png": "[encoded data removed]",
      "text/plain": [
       "<Figure size 432x288 with 1 Axes>"
      ]
     },
     "metadata": {
      "needs_background": "light"
     },
     "output_type": "display_data"
    }
   ],
   "source": [
    "(data\n",
    " .pivot_table(index='month_exposition', values='last_price')\n",
    " .reset_index()\n",
    " .plot(x='month_exposition', y='last_price',style='o-', grid=True)\n",
    ")"
   ]
  },
  {
   "cell_type": "code",
   "execution_count": 105,
   "metadata": {},
   "outputs": [
    {
     "data": {
      "text/plain": [
       "<AxesSubplot:xlabel='year_exposition'>"
      ]
     },
     "execution_count": 105,
     "metadata": {},
     "output_type": "execute_result"
    },
    {
     "data": {
      "image/png": "[encoded data removed]",
      "text/plain": [
       "<Figure size 432x288 with 1 Axes>"
      ]
     },
     "metadata": {
      "needs_background": "light"
     },
     "output_type": "display_data"
    }
   ],
   "source": [
    "(data\n",
    " .pivot_table(index='year_exposition', values='last_price')\n",
    " .reset_index()\n",
    " .plot(x='year_exposition', y='last_price',style='o-', grid=True)\n",
    ")"
   ]
  },
  {
   "cell_type": "markdown",
   "metadata": {},
   "source": [
    "<div class=\"alert alert-info\"> <b>Готово. Тут, наверное, ещё уместно было бы добавить линию тренда, в экселе это просто делается, а для питона простого способа не нашёл. Подскажешь, как?</div>"
   ]
  },
  {
   "cell_type": "markdown",
   "metadata": {},
   "source": [
    "<div class=\"alert alert-success\">\n",
    "<b>✔️ Комментарий ревьюера V2:</b> Вот тут есть способы, как это сделать:\n",
    "    \n",
    "    https://stackoverflow.com/questions/41635448/how-can-i-draw-scatter-trend-line-on-matplot-python-pandas"
   ]
  },
  {
   "cell_type": "markdown",
   "metadata": {},
   "source": [
    "**Задание. Посчитайте среднюю цену одного квадратного метра в 10 населённых пунктах с наибольшим числом объявлений. Выделите населённые пункты с самой высокой и низкой стоимостью квадратного метра.**"
   ]
  },
  {
   "cell_type": "code",
   "execution_count": 106,
   "metadata": {},
   "outputs": [
    {
     "data": {
      "text/plain": [
       "Санкт-Петербург    14844\n",
       "Мурино               521\n",
       "Кудрово              433\n",
       "Шушары               418\n",
       "Всеволожск           379\n",
       "Пушкин               357\n",
       "Колпино              333\n",
       "Парголово            304\n",
       "Гатчина              302\n",
       "Выборг               227\n",
       "Name: locality_name, dtype: int64"
      ]
     },
     "execution_count": 106,
     "metadata": {},
     "output_type": "execute_result"
    }
   ],
   "source": [
    "#найдём 10 населённых пунктов с наибольшим числом объявлений\n",
    "\n",
    "local_top10 = data['locality_name'].value_counts().head(10)\n",
    "\n",
    "local_top10"
   ]
  },
  {
   "cell_type": "code",
   "execution_count": 107,
   "metadata": {},
   "outputs": [
    {
     "data": {
      "text/html": [
       "<div>\n",
       "<style scoped>\n",
       "    .dataframe tbody tr th:only-of-type {\n",
       "        vertical-align: middle;\n",
       "    }\n",
       "\n",
       "    .dataframe tbody tr th {\n",
       "        vertical-align: top;\n",
       "    }\n",
       "\n",
       "    .dataframe thead th {\n",
       "        text-align: right;\n",
       "    }\n",
       "</style>\n",
       "<table border=\"1\" class=\"dataframe\">\n",
       "  <thead>\n",
       "    <tr style=\"text-align: right;\">\n",
       "      <th></th>\n",
       "      <th>locality_name</th>\n",
       "      <th>price_m2</th>\n",
       "    </tr>\n",
       "  </thead>\n",
       "  <tbody>\n",
       "    <tr>\n",
       "      <th>8</th>\n",
       "      <td>Санкт-Петербург</td>\n",
       "      <td>110279.305536</td>\n",
       "    </tr>\n",
       "    <tr>\n",
       "      <th>7</th>\n",
       "      <td>Пушкин</td>\n",
       "      <td>102918.116596</td>\n",
       "    </tr>\n",
       "    <tr>\n",
       "      <th>4</th>\n",
       "      <td>Кудрово</td>\n",
       "      <td>94662.379932</td>\n",
       "    </tr>\n",
       "    <tr>\n",
       "      <th>6</th>\n",
       "      <td>Парголово</td>\n",
       "      <td>89820.556891</td>\n",
       "    </tr>\n",
       "    <tr>\n",
       "      <th>5</th>\n",
       "      <td>Мурино</td>\n",
       "      <td>85065.111174</td>\n",
       "    </tr>\n",
       "    <tr>\n",
       "      <th>9</th>\n",
       "      <td>Шушары</td>\n",
       "      <td>77461.967782</td>\n",
       "    </tr>\n",
       "    <tr>\n",
       "      <th>3</th>\n",
       "      <td>Колпино</td>\n",
       "      <td>75264.456609</td>\n",
       "    </tr>\n",
       "    <tr>\n",
       "      <th>2</th>\n",
       "      <td>Гатчина</td>\n",
       "      <td>68816.292747</td>\n",
       "    </tr>\n",
       "    <tr>\n",
       "      <th>0</th>\n",
       "      <td>Всеволожск</td>\n",
       "      <td>68671.945215</td>\n",
       "    </tr>\n",
       "    <tr>\n",
       "      <th>1</th>\n",
       "      <td>Выборг</td>\n",
       "      <td>57897.023094</td>\n",
       "    </tr>\n",
       "  </tbody>\n",
       "</table>\n",
       "</div>"
      ],
      "text/plain": [
       "     locality_name       price_m2\n",
       "8  Санкт-Петербург  110279.305536\n",
       "7           Пушкин  102918.116596\n",
       "4          Кудрово   94662.379932\n",
       "6        Парголово   89820.556891\n",
       "5           Мурино   85065.111174\n",
       "9           Шушары   77461.967782\n",
       "3          Колпино   75264.456609\n",
       "2          Гатчина   68816.292747\n",
       "0       Всеволожск   68671.945215\n",
       "1           Выборг   57897.023094"
      ]
     },
     "execution_count": 107,
     "metadata": {},
     "output_type": "execute_result"
    }
   ],
   "source": [
    "#сделаем срез по индексам топ10, построим сводную таблицу с ценой за кв.м. и отсортируем по убыванию\n",
    "\n",
    "(data\n",
    " .query('locality_name in @local_top10.index')\n",
    " .pivot_table(index='locality_name', values='price_m2')\n",
    " .reset_index()\n",
    " .sort_values(by='price_m2',ascending=False)\n",
    ")"
   ]
  },
  {
   "cell_type": "code",
   "execution_count": 108,
   "metadata": {},
   "outputs": [],
   "source": [
    "m2_top10 = (\n",
    "    data\n",
    "    .query('locality_name in @local_top10.index')\n",
    "    .pivot_table(index='locality_name', values='price_m2')\n",
    "    .reset_index()\n",
    "    .sort_values(by='price_m2',ascending=False)\n",
    ")"
   ]
  },
  {
   "cell_type": "markdown",
   "metadata": {},
   "source": [
    "<div class=\"alert alert-success\">\n",
    "<b>✔️ Комментарий ревьюера:</b> Корректно"
   ]
  },
  {
   "cell_type": "markdown",
   "metadata": {},
   "source": [
    "**Задание. Выделите квартиры в Санкт-Петербурге с помощью столбца locality_name и вычислите среднюю цену каждого километра. Опишите, как стоимость объектов зависит от расстояния до центра города.**"
   ]
  },
  {
   "cell_type": "code",
   "execution_count": 109,
   "metadata": {},
   "outputs": [],
   "source": [
    "#сделаем срез по Санкт-Петербургу\n",
    "\n",
    "data_spb = data.query('locality_name ==\"Санкт-Петербург\"')"
   ]
  },
  {
   "cell_type": "code",
   "execution_count": 110,
   "metadata": {},
   "outputs": [],
   "source": [
    "#добавим столбец с расчётом цены за каждый километр от центра\n",
    "\n",
    "data_spb['priceCenter_per_km'] = data_spb['last_price'] / data_spb['cityCenters_km']"
   ]
  },
  {
   "cell_type": "code",
   "execution_count": 111,
   "metadata": {},
   "outputs": [],
   "source": [
    "#создадим сводную таблицу с расчётом медианного значения цены за километр от центра\n",
    "\n",
    "price_per_km = (\n",
    "    data_spb\n",
    "    .pivot_table(index='cityCenters_km', values='priceCenter_per_km', aggfunc='median')\n",
    "    .reset_index()\n",
    "    .sort_values(by='priceCenter_per_km')\n",
    ")"
   ]
  },
  {
   "cell_type": "code",
   "execution_count": 112,
   "metadata": {},
   "outputs": [
    {
     "data": {
      "text/plain": [
       "Text(0, 0.5, 'priceCenter_per_km')"
      ]
     },
     "execution_count": 112,
     "metadata": {},
     "output_type": "execute_result"
    },
    {
     "data": {
      "image/png": "[encoded data removed]",
      "text/plain": [
       "<Figure size 432x288 with 1 Axes>"
      ]
     },
     "metadata": {
      "needs_background": "light"
     },
     "output_type": "display_data"
    }
   ],
   "source": [
    "#строим столбчатый график зависимости расстояния от центра и медианной цены за километр от центра\n",
    "\n",
    "plt.bar(price_per_km['cityCenters_km'],price_per_km['priceCenter_per_km']/1e6)\n",
    "\n",
    "plt.xlabel('cityCenters_km')\n",
    "\n",
    "plt.ylabel('priceCenter_per_km')"
   ]
  },
  {
   "cell_type": "markdown",
   "metadata": {},
   "source": [
    "Можно отметить, что самые дорогие объекты находятся вблизи центра города, причем пик цен у квартир в 1-2 км от центра. Вероятно, шаговая доступность центра ценится больше, чем нахождение в самом центре."
   ]
  },
  {
   "cell_type": "markdown",
   "metadata": {},
   "source": [
    "<div class=\"alert alert-success\">\n",
    "<b>✔️ Комментарий ревьюера:</b> Верно, центр Пиетра находится в радиусе 4-5 км. Исторический центр всегда дороже. Безусловно, могут встречаться дорогие экземпляры за чертой центра - но на их стоимость может влиять наличие прудов и парков, а также экологичность района"
   ]
  },
  {
   "cell_type": "markdown",
   "metadata": {},
   "source": [
    "### Общий вывод"
   ]
  },
  {
   "cell_type": "markdown",
   "metadata": {},
   "source": [
    "В целом, можно сказать, что наиболее определяющими параметрами в цене квартир являются общая площадь, жилая площадь, число комнат, расстояние от центра, а также, скорее всего, экономическая обстановка в стране. Также обнаружена связь, но менее сильная, с такими параметрами как площадь кухни, день и месяц выставления на продажу, тип этажа."
   ]
  },
  {
   "cell_type": "markdown",
   "metadata": {},
   "source": [
    "<div class=\"alert alert-warning\">\n",
    "<b>⚠️ Комментарий ревьюера:</b>  Вывод - это полный отчет о проделанной работе. Он должен содержать все: от обработки данных до рекомендаций заказчику. Я бы советовала в начале кратко описывать, с какими данными мы работали и что сделали, а затем отвечать на вопрос исследования - в нашем случае, установить примерную рыночную стоимость для объектов,  исходя из влияния параметров (стоимость по районам и какие факторы на нее влияют)  - средняя стоимость в общей базе и средняя в центре"
   ]
  },
  {
   "cell_type": "markdown",
   "metadata": {},
   "source": [
    "Был изучен набор данных сервиса Яндекс Недвижимость — архив объявлений за несколько лет о продаже квартир в Санкт-Петербурге и соседних населённых пунктах.\n",
    "\n",
    "В процессе проведена предобработка данных: где возможно, заполнены пропуски, выполнена чистка от аномальных значений и неявных дубликатов, изменены типы данных в столбцах.\n",
    "\n",
    "Изучены и описаны параметры объектов. Также в ходе исследования определено:\n",
    "\n",
    "* продажа квартиры занимает примерно 95 дней."
   ]
  },
  {
   "cell_type": "markdown",
   "metadata": {},
   "source": [
    "* подсчитана средняя цена квадратного метра в 10 населенных с наибольшим числом объявлений:"
   ]
  },
  {
   "cell_type": "code",
   "execution_count": 113,
   "metadata": {},
   "outputs": [
    {
     "data": {
      "text/html": [
       "<div>\n",
       "<style scoped>\n",
       "    .dataframe tbody tr th:only-of-type {\n",
       "        vertical-align: middle;\n",
       "    }\n",
       "\n",
       "    .dataframe tbody tr th {\n",
       "        vertical-align: top;\n",
       "    }\n",
       "\n",
       "    .dataframe thead th {\n",
       "        text-align: right;\n",
       "    }\n",
       "</style>\n",
       "<table border=\"1\" class=\"dataframe\">\n",
       "  <thead>\n",
       "    <tr style=\"text-align: right;\">\n",
       "      <th></th>\n",
       "      <th>locality_name</th>\n",
       "      <th>price_m2</th>\n",
       "    </tr>\n",
       "  </thead>\n",
       "  <tbody>\n",
       "    <tr>\n",
       "      <th>8</th>\n",
       "      <td>Санкт-Петербург</td>\n",
       "      <td>110279.305536</td>\n",
       "    </tr>\n",
       "    <tr>\n",
       "      <th>7</th>\n",
       "      <td>Пушкин</td>\n",
       "      <td>102918.116596</td>\n",
       "    </tr>\n",
       "    <tr>\n",
       "      <th>4</th>\n",
       "      <td>Кудрово</td>\n",
       "      <td>94662.379932</td>\n",
       "    </tr>\n",
       "    <tr>\n",
       "      <th>6</th>\n",
       "      <td>Парголово</td>\n",
       "      <td>89820.556891</td>\n",
       "    </tr>\n",
       "    <tr>\n",
       "      <th>5</th>\n",
       "      <td>Мурино</td>\n",
       "      <td>85065.111174</td>\n",
       "    </tr>\n",
       "    <tr>\n",
       "      <th>9</th>\n",
       "      <td>Шушары</td>\n",
       "      <td>77461.967782</td>\n",
       "    </tr>\n",
       "    <tr>\n",
       "      <th>3</th>\n",
       "      <td>Колпино</td>\n",
       "      <td>75264.456609</td>\n",
       "    </tr>\n",
       "    <tr>\n",
       "      <th>2</th>\n",
       "      <td>Гатчина</td>\n",
       "      <td>68816.292747</td>\n",
       "    </tr>\n",
       "    <tr>\n",
       "      <th>0</th>\n",
       "      <td>Всеволожск</td>\n",
       "      <td>68671.945215</td>\n",
       "    </tr>\n",
       "    <tr>\n",
       "      <th>1</th>\n",
       "      <td>Выборг</td>\n",
       "      <td>57897.023094</td>\n",
       "    </tr>\n",
       "  </tbody>\n",
       "</table>\n",
       "</div>"
      ],
      "text/plain": [
       "     locality_name       price_m2\n",
       "8  Санкт-Петербург  110279.305536\n",
       "7           Пушкин  102918.116596\n",
       "4          Кудрово   94662.379932\n",
       "6        Парголово   89820.556891\n",
       "5           Мурино   85065.111174\n",
       "9           Шушары   77461.967782\n",
       "3          Колпино   75264.456609\n",
       "2          Гатчина   68816.292747\n",
       "0       Всеволожск   68671.945215\n",
       "1           Выборг   57897.023094"
      ]
     },
     "execution_count": 113,
     "metadata": {},
     "output_type": "execute_result"
    }
   ],
   "source": [
    "m2_top10"
   ]
  },
  {
   "cell_type": "markdown",
   "metadata": {},
   "source": [
    "* наиболее определяющими параметрами в цене квартир являются общая площадь, жилая площадь, площадь кухни, число комнат, расстояние от центра, а также, скорее всего, экономическая обстановка в стране; также обнаружена связь с такими параметрами как день и месяц выставления на продажу, тип этажа."
   ]
  },
  {
   "cell_type": "markdown",
   "metadata": {},
   "source": [
    "* самые дорогие объекты в Санкт-Петербурге расположены в центре города и примерно в 3-х километрах от него"
   ]
  },
  {
   "cell_type": "markdown",
   "metadata": {},
   "source": [
    "<div class=\"alert alert-success\">\n",
    "<b>✔️ Комментарий ревьюера V2:</b> Вывод четко структурирован и отражает цели исследования"
   ]
  },
  {
   "cell_type": "markdown",
   "metadata": {},
   "source": [
    "**Чек-лист готовности проекта**\n",
    "\n",
    "Поставьте 'x' в выполненных пунктах. Далее нажмите Shift+Enter."
   ]
  },
  {
   "cell_type": "markdown",
   "metadata": {},
   "source": [
    "- [x]  открыт файл\n",
    "- [x]  файлы изучены (выведены первые строки, метод `info()`, гистограммы и т.д.)\n",
    "- [x]  определены пропущенные значения\n",
    "- [x]  заполнены пропущенные значения там, где это возможно\n",
    "- [x]  есть пояснение, какие пропущенные значения обнаружены\n",
    "- [x]  изменены типы данных\n",
    "- [x]  есть пояснение, в каких столбцах изменены типы и почему\n",
    "- [x]  устранены неявные дубликаты в названиях населённых пунктов\n",
    "- [x]  устранены редкие и выбивающиеся значения (аномалии) во всех столбцах\n",
    "- [x]  посчитано и добавлено в таблицу: цена одного квадратного метра\n",
    "- [x]  посчитано и добавлено в таблицу: день публикации объявления (0 - понедельник, 1 - вторник и т.д.)\n",
    "- [x]  посчитано и добавлено в таблицу: месяц публикации объявления\n",
    "- [x]  посчитано и добавлено в таблицу: год публикации объявления\n",
    "- [x]  посчитано и добавлено в таблицу: тип этажа квартиры (значения — «первый», «последний», «другой»)\n",
    "- [x]  посчитано и добавлено в таблицу: расстояние в км до центра города\n",
    "- [x]  изучены и описаны следующие параметры:\n",
    "        - общая площадь;\n",
    "        - жилая площадь;\n",
    "        - площадь кухни;\n",
    "        - цена объекта;\n",
    "        - количество комнат;\n",
    "        - высота потолков;\n",
    "        - этаж квартиры;\n",
    "        - тип этажа квартиры («первый», «последний», «другой»);\n",
    "        - общее количество этажей в доме;\n",
    "        - расстояние до центра города в метрах;\n",
    "        - расстояние до ближайшего аэропорта;\n",
    "        - расстояние до ближайшего парка;\n",
    "        - день и месяц публикации объявления\n",
    "- [x]  построены гистограммы для каждого параметра\n",
    "- [x]  выполнено задание: \"Изучите, как быстро продавались квартиры (столбец days_exposition). Этот параметр показывает, сколько дней «висело» каждое объявление.\n",
    "    - Постройте гистограмму.\n",
    "    - Посчитайте среднее и медиану.\n",
    "    - В ячейке типа markdown опишите, сколько обычно занимает продажа. Какие продажи можно считать быстрыми, а какие — необычно долгими?\"\n",
    "- [x]  выполнено задание: \"Какие факторы больше всего влияют на общую (полную) стоимость объекта? Постройте графики, которые покажут зависимость цены от указанных ниже параметров. Для подготовки данных перед визуализацией вы можете использовать сводные таблицы.\"\n",
    "        - общей площади;\n",
    "        - жилой площади;\n",
    "        - площади кухни;\n",
    "        - количество комнат;\n",
    "        - типа этажа, на котором расположена квартира (первый, последний, другой);\n",
    "        - даты размещения (день недели, месяц, год);\n",
    "- [x]  выполнено задание: \"Посчитайте среднюю цену одного квадратного метра в 10 населённых пунктах с наибольшим числом объявлений. Выделите населённые пункты с самой высокой и низкой стоимостью квадратного метра. Эти данные можно найти по имени в столбце `locality_name`.\"\n",
    "- [x]  выполнено задание: \"Ранее вы посчитали расстояние до центра в километрах. Теперь выделите квартиры в Санкт-Петербурге с помощью столбца `locality_name` и вычислите среднюю цену каждого километра. Опишите, как стоимость объектов зависит от расстояния до центра города.\"\n",
    "- [x]  в каждом этапе есть промежуточные выводы\n",
    "- [x]  есть общий вывод"
   ]
  },
  {
   "cell_type": "markdown",
   "metadata": {},
   "source": [
    "<div class=\"alert alert-success\">\n",
    "<b>✔️ Комментарий ревьюера:</b> Спасибо за проект! Видно, что ты старался и он получился очень сильным. Ты аккуратно работаешь с данными и выносишь качественные предположения - как настоящий аналитик. Давай сделаем его еще лучше: \n",
    "    \n",
    "- построим общую гистограмму для всех столбцов таблицы\n",
    "- немного поработаем с корреляцией\n",
    "- расширим финальный вывод. \n",
    "    \n",
    "Оставила направляющие комментарии. Возвращаю тебе работу, чтобы ты смог задать вопросы. Буду ждать твою работу на финальное ревью!\n",
    "</div>"
   ]
  },
  {
   "cell_type": "markdown",
   "metadata": {},
   "source": [
    "<div class=\"alert alert-info\"> <b>Комментарий студента:</b> Спасибо за добрые слова! Действительно, долго сидел и переживал, что всё неправильно %)).</div>"
   ]
  },
  {
   "cell_type": "markdown",
   "metadata": {},
   "source": [
    "<div class=\"alert alert-success\">\n",
    "<b>✔️ Комментарий ревьюера V2:</b> Спасибо за проработку комментариев! Теперь все отлично. Если у тебя возникнут вопросы, смело задавай мне их через куратора. Удачи на следующих этапах!"
   ]
  },
  {
   "cell_type": "code",
   "execution_count": null,
   "metadata": {},
   "outputs": [],
   "source": []
  }
 ],
 "metadata": {
  "ExecuteTimeLog": [
   {
    "duration": 691,
    "start_time": "2022-06-19T16:13:31.402Z"
   },
   {
    "duration": 91,
    "start_time": "2022-06-19T16:14:01.052Z"
   },
   {
    "duration": 90,
    "start_time": "2022-06-19T16:14:11.235Z"
   },
   {
    "duration": 59,
    "start_time": "2022-06-19T16:15:32.214Z"
   },
   {
    "duration": 44,
    "start_time": "2022-06-19T16:15:59.922Z"
   },
   {
    "duration": 18,
    "start_time": "2022-06-19T16:16:11.214Z"
   },
   {
    "duration": 19,
    "start_time": "2022-06-19T16:18:16.911Z"
   },
   {
    "duration": 38,
    "start_time": "2022-06-19T16:18:33.663Z"
   },
   {
    "duration": 83,
    "start_time": "2022-06-19T16:18:52.496Z"
   },
   {
    "duration": 17,
    "start_time": "2022-06-19T16:20:29.104Z"
   },
   {
    "duration": 119,
    "start_time": "2022-06-19T16:20:38.071Z"
   },
   {
    "duration": 113,
    "start_time": "2022-06-19T16:25:27.575Z"
   },
   {
    "duration": 2395,
    "start_time": "2022-06-19T16:27:44.097Z"
   },
   {
    "duration": 4,
    "start_time": "2022-06-19T16:31:12.417Z"
   },
   {
    "duration": 96,
    "start_time": "2022-06-19T16:31:14.817Z"
   },
   {
    "duration": 14,
    "start_time": "2022-06-19T16:31:16.909Z"
   },
   {
    "duration": 747,
    "start_time": "2022-06-20T10:14:07.220Z"
   },
   {
    "duration": 16,
    "start_time": "2022-06-20T10:14:09.138Z"
   },
   {
    "duration": 2317,
    "start_time": "2022-06-20T10:14:13.498Z"
   },
   {
    "duration": 40,
    "start_time": "2022-06-20T11:17:35.364Z"
   },
   {
    "duration": 10,
    "start_time": "2022-06-20T11:22:25.061Z"
   },
   {
    "duration": 54,
    "start_time": "2022-06-20T13:04:13.273Z"
   },
   {
    "duration": 9,
    "start_time": "2022-06-20T14:09:14.562Z"
   },
   {
    "duration": 4,
    "start_time": "2022-06-20T14:31:04.856Z"
   },
   {
    "duration": 10,
    "start_time": "2022-06-20T14:31:21.511Z"
   },
   {
    "duration": 65,
    "start_time": "2022-06-20T14:35:23.484Z"
   },
   {
    "duration": 11,
    "start_time": "2022-06-20T14:39:22.005Z"
   },
   {
    "duration": 7,
    "start_time": "2022-06-20T14:47:15.408Z"
   },
   {
    "duration": 9,
    "start_time": "2022-06-20T14:47:47.140Z"
   },
   {
    "duration": 11,
    "start_time": "2022-06-20T14:56:38.716Z"
   },
   {
    "duration": 46,
    "start_time": "2022-06-20T15:47:32.452Z"
   },
   {
    "duration": 713,
    "start_time": "2022-06-20T15:47:39.165Z"
   },
   {
    "duration": 16,
    "start_time": "2022-06-20T15:47:39.880Z"
   },
   {
    "duration": 12,
    "start_time": "2022-06-20T15:47:42.727Z"
   },
   {
    "duration": 7,
    "start_time": "2022-06-20T15:49:14.992Z"
   },
   {
    "duration": 35,
    "start_time": "2022-06-20T16:00:29.636Z"
   },
   {
    "duration": 43,
    "start_time": "2022-06-20T16:00:37.875Z"
   },
   {
    "duration": 58,
    "start_time": "2022-06-20T16:01:51.983Z"
   },
   {
    "duration": 57,
    "start_time": "2022-06-20T16:03:23.620Z"
   },
   {
    "duration": 42,
    "start_time": "2022-06-20T16:03:56.480Z"
   },
   {
    "duration": 843,
    "start_time": "2022-06-20T16:07:35.548Z"
   },
   {
    "duration": 1053,
    "start_time": "2022-06-20T16:08:09.033Z"
   },
   {
    "duration": 11,
    "start_time": "2022-06-20T16:09:45.092Z"
   },
   {
    "duration": 69,
    "start_time": "2022-06-20T16:10:09.623Z"
   },
   {
    "duration": 904,
    "start_time": "2022-06-20T16:10:16.949Z"
   },
   {
    "duration": 5,
    "start_time": "2022-06-20T16:11:08.947Z"
   },
   {
    "duration": 7,
    "start_time": "2022-06-20T16:12:37.546Z"
   },
   {
    "duration": 39,
    "start_time": "2022-06-20T16:15:08.767Z"
   },
   {
    "duration": 91,
    "start_time": "2022-06-20T16:16:22.189Z"
   },
   {
    "duration": 35,
    "start_time": "2022-06-20T16:16:25.840Z"
   },
   {
    "duration": 32,
    "start_time": "2022-06-20T16:18:50.472Z"
   },
   {
    "duration": 11,
    "start_time": "2022-06-20T16:43:11.528Z"
   },
   {
    "duration": 14,
    "start_time": "2022-06-20T16:44:07.852Z"
   },
   {
    "duration": 44,
    "start_time": "2022-06-20T16:44:53.268Z"
   },
   {
    "duration": 21,
    "start_time": "2022-06-20T16:45:00.860Z"
   },
   {
    "duration": 6,
    "start_time": "2022-06-20T16:45:16.566Z"
   },
   {
    "duration": 51,
    "start_time": "2022-06-20T16:52:19.944Z"
   },
   {
    "duration": 13,
    "start_time": "2022-06-20T16:52:44.595Z"
   },
   {
    "duration": 1069,
    "start_time": "2022-06-20T16:54:12.628Z"
   },
   {
    "duration": 51,
    "start_time": "2022-06-20T16:54:29.154Z"
   },
   {
    "duration": 57,
    "start_time": "2022-06-20T16:56:20.809Z"
   },
   {
    "duration": 13,
    "start_time": "2022-06-20T16:56:28.943Z"
   },
   {
    "duration": 46,
    "start_time": "2022-06-20T16:57:51.120Z"
   },
   {
    "duration": 4,
    "start_time": "2022-06-20T17:14:36.942Z"
   },
   {
    "duration": 6,
    "start_time": "2022-06-20T17:30:11.745Z"
   },
   {
    "duration": 9,
    "start_time": "2022-06-20T17:30:14.229Z"
   },
   {
    "duration": 52,
    "start_time": "2022-06-20T19:10:34.529Z"
   },
   {
    "duration": 740,
    "start_time": "2022-06-20T19:10:40.260Z"
   },
   {
    "duration": 15,
    "start_time": "2022-06-20T19:10:41.002Z"
   },
   {
    "duration": 78,
    "start_time": "2022-06-20T19:10:43.566Z"
   },
   {
    "duration": 741,
    "start_time": "2022-06-21T10:59:44.449Z"
   },
   {
    "duration": 14,
    "start_time": "2022-06-21T10:59:45.192Z"
   },
   {
    "duration": 74,
    "start_time": "2022-06-21T10:59:45.208Z"
   },
   {
    "duration": 2342,
    "start_time": "2022-06-21T10:59:45.284Z"
   },
   {
    "duration": 10,
    "start_time": "2022-06-21T10:59:47.628Z"
   },
   {
    "duration": 13,
    "start_time": "2022-06-21T10:59:47.639Z"
   },
   {
    "duration": 3,
    "start_time": "2022-06-21T10:59:47.654Z"
   },
   {
    "duration": 46,
    "start_time": "2022-06-21T10:59:47.667Z"
   },
   {
    "duration": 65,
    "start_time": "2022-06-21T10:59:58.794Z"
   },
   {
    "duration": 10,
    "start_time": "2022-06-21T11:00:01.740Z"
   },
   {
    "duration": 32,
    "start_time": "2022-06-21T11:01:57.997Z"
   },
   {
    "duration": 9,
    "start_time": "2022-06-21T11:06:13.078Z"
   },
   {
    "duration": 9,
    "start_time": "2022-06-21T11:08:04.140Z"
   },
   {
    "duration": 83,
    "start_time": "2022-06-21T11:22:33.703Z"
   },
   {
    "duration": 77,
    "start_time": "2022-06-21T11:22:44.940Z"
   },
   {
    "duration": 22,
    "start_time": "2022-06-21T11:29:01.149Z"
   },
   {
    "duration": 1328,
    "start_time": "2022-06-21T11:31:11.281Z"
   },
   {
    "duration": 92,
    "start_time": "2022-06-21T11:31:58.145Z"
   },
   {
    "duration": 92,
    "start_time": "2022-06-21T11:32:06.107Z"
   },
   {
    "duration": 14,
    "start_time": "2022-06-21T11:32:06.201Z"
   },
   {
    "duration": 84,
    "start_time": "2022-06-21T11:32:06.218Z"
   },
   {
    "duration": 1949,
    "start_time": "2022-06-21T11:32:06.305Z"
   },
   {
    "duration": 17,
    "start_time": "2022-06-21T11:32:08.256Z"
   },
   {
    "duration": 11,
    "start_time": "2022-06-21T11:32:08.275Z"
   },
   {
    "duration": 8,
    "start_time": "2022-06-21T11:32:08.287Z"
   },
   {
    "duration": 72,
    "start_time": "2022-06-21T11:32:08.296Z"
   },
   {
    "duration": 9,
    "start_time": "2022-06-21T11:32:08.370Z"
   },
   {
    "duration": 1338,
    "start_time": "2022-06-21T11:32:13.724Z"
   },
   {
    "duration": 17,
    "start_time": "2022-06-21T11:32:39.101Z"
   },
   {
    "duration": 9,
    "start_time": "2022-06-21T11:33:23.250Z"
   },
   {
    "duration": 44,
    "start_time": "2022-06-21T11:33:46.924Z"
   },
   {
    "duration": 33,
    "start_time": "2022-06-21T11:40:03.229Z"
   },
   {
    "duration": 20,
    "start_time": "2022-06-21T11:40:09.221Z"
   },
   {
    "duration": 22,
    "start_time": "2022-06-21T11:42:53.512Z"
   },
   {
    "duration": 15,
    "start_time": "2022-06-21T11:43:25.705Z"
   },
   {
    "duration": 13,
    "start_time": "2022-06-21T11:43:42.008Z"
   },
   {
    "duration": 34,
    "start_time": "2022-06-21T11:44:31.878Z"
   },
   {
    "duration": 19,
    "start_time": "2022-06-21T11:46:52.077Z"
   },
   {
    "duration": 35,
    "start_time": "2022-06-21T11:47:28.815Z"
   },
   {
    "duration": 10,
    "start_time": "2022-06-21T11:50:34.681Z"
   },
   {
    "duration": 741,
    "start_time": "2022-06-21T11:50:52.546Z"
   },
   {
    "duration": 6,
    "start_time": "2022-06-21T11:51:49.479Z"
   },
   {
    "duration": 11,
    "start_time": "2022-06-21T11:52:02.403Z"
   },
   {
    "duration": 29,
    "start_time": "2022-06-21T11:52:54.881Z"
   },
   {
    "duration": 402,
    "start_time": "2022-06-21T11:53:10.629Z"
   },
   {
    "duration": 24,
    "start_time": "2022-06-21T11:53:53.853Z"
   },
   {
    "duration": 40,
    "start_time": "2022-06-21T11:54:16.908Z"
   },
   {
    "duration": 60,
    "start_time": "2022-06-21T12:17:02.456Z"
   },
   {
    "duration": 3,
    "start_time": "2022-06-21T12:17:10.636Z"
   },
   {
    "duration": 7,
    "start_time": "2022-06-21T12:17:37.779Z"
   },
   {
    "duration": 13,
    "start_time": "2022-06-21T12:18:18.454Z"
   },
   {
    "duration": 8,
    "start_time": "2022-06-21T12:18:26.735Z"
   },
   {
    "duration": 12,
    "start_time": "2022-06-21T12:18:33.690Z"
   },
   {
    "duration": 5,
    "start_time": "2022-06-21T12:20:23.496Z"
   },
   {
    "duration": 10,
    "start_time": "2022-06-21T12:21:17.103Z"
   },
   {
    "duration": 6,
    "start_time": "2022-06-21T12:25:11.503Z"
   },
   {
    "duration": 12,
    "start_time": "2022-06-21T12:32:06.099Z"
   },
   {
    "duration": 16,
    "start_time": "2022-06-21T12:32:25.414Z"
   },
   {
    "duration": 11,
    "start_time": "2022-06-21T12:32:52.290Z"
   },
   {
    "duration": 3,
    "start_time": "2022-06-21T12:34:32.114Z"
   },
   {
    "duration": 6,
    "start_time": "2022-06-21T12:35:51.511Z"
   },
   {
    "duration": 11,
    "start_time": "2022-06-21T12:35:57.901Z"
   },
   {
    "duration": 4,
    "start_time": "2022-06-21T12:36:31.480Z"
   },
   {
    "duration": 16,
    "start_time": "2022-06-21T12:36:39.196Z"
   },
   {
    "duration": 13,
    "start_time": "2022-06-21T12:36:59.134Z"
   },
   {
    "duration": 14,
    "start_time": "2022-06-21T12:38:59.800Z"
   },
   {
    "duration": 11,
    "start_time": "2022-06-21T12:42:14.620Z"
   },
   {
    "duration": 17,
    "start_time": "2022-06-21T12:42:27.304Z"
   },
   {
    "duration": 18,
    "start_time": "2022-06-21T12:44:58.491Z"
   },
   {
    "duration": 19,
    "start_time": "2022-06-21T12:45:28.354Z"
   },
   {
    "duration": 17,
    "start_time": "2022-06-21T12:45:56.574Z"
   },
   {
    "duration": 1121,
    "start_time": "2022-06-21T12:46:02.716Z"
   },
   {
    "duration": 18,
    "start_time": "2022-06-21T12:46:08.033Z"
   },
   {
    "duration": 17,
    "start_time": "2022-06-21T12:46:41.416Z"
   },
   {
    "duration": 14,
    "start_time": "2022-06-21T12:47:38.878Z"
   },
   {
    "duration": 11,
    "start_time": "2022-06-21T12:47:50.991Z"
   },
   {
    "duration": 15,
    "start_time": "2022-06-21T12:54:57.738Z"
   },
   {
    "duration": 31,
    "start_time": "2022-06-21T12:57:04.645Z"
   },
   {
    "duration": 1008,
    "start_time": "2022-06-21T13:05:21.765Z"
   },
   {
    "duration": 10,
    "start_time": "2022-06-21T13:05:28.625Z"
   },
   {
    "duration": 9,
    "start_time": "2022-06-21T13:10:30.684Z"
   },
   {
    "duration": 17,
    "start_time": "2022-06-21T13:11:36.222Z"
   },
   {
    "duration": 10,
    "start_time": "2022-06-21T13:11:43.392Z"
   },
   {
    "duration": 932,
    "start_time": "2022-06-21T13:12:32.432Z"
   },
   {
    "duration": 46,
    "start_time": "2022-06-21T13:12:42.140Z"
   },
   {
    "duration": 9,
    "start_time": "2022-06-21T13:14:03.379Z"
   },
   {
    "duration": 45,
    "start_time": "2022-06-21T13:14:53.288Z"
   },
   {
    "duration": 10,
    "start_time": "2022-06-21T13:14:56.188Z"
   },
   {
    "duration": 41,
    "start_time": "2022-06-21T13:29:46.990Z"
   },
   {
    "duration": 9,
    "start_time": "2022-06-21T13:29:50.072Z"
   },
   {
    "duration": 8,
    "start_time": "2022-06-21T13:32:31.877Z"
   },
   {
    "duration": 19,
    "start_time": "2022-06-21T13:32:39.834Z"
   },
   {
    "duration": 18,
    "start_time": "2022-06-21T13:33:32.578Z"
   },
   {
    "duration": 1093,
    "start_time": "2022-06-21T13:33:57.980Z"
   },
   {
    "duration": 12,
    "start_time": "2022-06-21T13:34:08.539Z"
   },
   {
    "duration": 9,
    "start_time": "2022-06-21T13:34:20.489Z"
   },
   {
    "duration": 36,
    "start_time": "2022-06-21T13:35:07.417Z"
   },
   {
    "duration": 8,
    "start_time": "2022-06-21T13:35:10.494Z"
   },
   {
    "duration": 817,
    "start_time": "2022-06-21T13:44:42.904Z"
   },
   {
    "duration": 16,
    "start_time": "2022-06-21T13:45:23.318Z"
   },
   {
    "duration": 55,
    "start_time": "2022-06-21T13:46:21.274Z"
   },
   {
    "duration": 21,
    "start_time": "2022-06-21T13:46:26.102Z"
   },
   {
    "duration": 977,
    "start_time": "2022-06-21T13:48:51.391Z"
   },
   {
    "duration": 22,
    "start_time": "2022-06-21T13:49:59.343Z"
   },
   {
    "duration": 2575,
    "start_time": "2022-06-21T13:50:01.702Z"
   },
   {
    "duration": 18,
    "start_time": "2022-06-21T13:52:46.879Z"
   },
   {
    "duration": 33,
    "start_time": "2022-06-21T13:52:54.702Z"
   },
   {
    "duration": 9,
    "start_time": "2022-06-21T13:53:07.790Z"
   },
   {
    "duration": 38,
    "start_time": "2022-06-21T13:54:44.607Z"
   },
   {
    "duration": 39,
    "start_time": "2022-06-21T13:55:30.909Z"
   },
   {
    "duration": 34,
    "start_time": "2022-06-21T14:17:36.562Z"
   },
   {
    "duration": 36,
    "start_time": "2022-06-21T14:29:11.673Z"
   },
   {
    "duration": 34,
    "start_time": "2022-06-21T14:33:59.458Z"
   },
   {
    "duration": 13,
    "start_time": "2022-06-21T14:35:09.037Z"
   },
   {
    "duration": 3,
    "start_time": "2022-06-21T14:36:07.139Z"
   },
   {
    "duration": 731,
    "start_time": "2022-06-22T11:06:08.251Z"
   },
   {
    "duration": 19,
    "start_time": "2022-06-22T11:06:08.984Z"
   },
   {
    "duration": 95,
    "start_time": "2022-06-22T11:06:09.006Z"
   },
   {
    "duration": 2435,
    "start_time": "2022-06-22T11:06:09.103Z"
   },
   {
    "duration": 9,
    "start_time": "2022-06-22T11:06:11.540Z"
   },
   {
    "duration": 11,
    "start_time": "2022-06-22T11:06:11.550Z"
   },
   {
    "duration": 3,
    "start_time": "2022-06-22T11:06:11.563Z"
   },
   {
    "duration": 86,
    "start_time": "2022-06-22T11:06:11.567Z"
   },
   {
    "duration": 1423,
    "start_time": "2022-06-22T11:06:11.655Z"
   },
   {
    "duration": 8,
    "start_time": "2022-06-22T11:06:13.081Z"
   },
   {
    "duration": 17,
    "start_time": "2022-06-22T11:06:13.091Z"
   },
   {
    "duration": 37,
    "start_time": "2022-06-22T11:06:13.123Z"
   },
   {
    "duration": 8,
    "start_time": "2022-06-22T11:06:13.162Z"
   },
   {
    "duration": 17,
    "start_time": "2022-06-22T11:06:13.172Z"
   },
   {
    "duration": 61,
    "start_time": "2022-06-22T11:06:13.190Z"
   },
   {
    "duration": 12,
    "start_time": "2022-06-22T11:06:13.255Z"
   },
   {
    "duration": 33,
    "start_time": "2022-06-22T11:06:33.638Z"
   },
   {
    "duration": 3,
    "start_time": "2022-06-22T11:06:35.789Z"
   },
   {
    "duration": 9,
    "start_time": "2022-06-22T11:06:47.204Z"
   },
   {
    "duration": 11,
    "start_time": "2022-06-22T11:07:11.074Z"
   },
   {
    "duration": 26,
    "start_time": "2022-06-22T11:07:49.140Z"
   },
   {
    "duration": 24,
    "start_time": "2022-06-22T11:07:56.640Z"
   },
   {
    "duration": 23,
    "start_time": "2022-06-22T11:08:01.991Z"
   },
   {
    "duration": 30,
    "start_time": "2022-06-22T11:08:08.838Z"
   },
   {
    "duration": 29,
    "start_time": "2022-06-22T11:08:17.279Z"
   },
   {
    "duration": 88,
    "start_time": "2022-06-22T11:08:37.140Z"
   },
   {
    "duration": 6,
    "start_time": "2022-06-22T11:08:43.557Z"
   },
   {
    "duration": 4,
    "start_time": "2022-06-22T11:08:53.059Z"
   },
   {
    "duration": 11,
    "start_time": "2022-06-22T11:09:09.733Z"
   },
   {
    "duration": 11,
    "start_time": "2022-06-22T11:10:43.478Z"
   },
   {
    "duration": 111,
    "start_time": "2022-06-22T11:42:51.154Z"
   },
   {
    "duration": 42,
    "start_time": "2022-06-22T11:43:17.448Z"
   },
   {
    "duration": 57,
    "start_time": "2022-06-22T11:57:52.640Z"
   },
   {
    "duration": 11,
    "start_time": "2022-06-22T11:58:06.140Z"
   },
   {
    "duration": 4,
    "start_time": "2022-06-22T11:58:14.508Z"
   },
   {
    "duration": 7,
    "start_time": "2022-06-22T11:58:25.784Z"
   },
   {
    "duration": 77,
    "start_time": "2022-06-22T12:03:07.828Z"
   },
   {
    "duration": 10,
    "start_time": "2022-06-22T12:03:16.706Z"
   },
   {
    "duration": 72,
    "start_time": "2022-06-22T12:03:37.683Z"
   },
   {
    "duration": 11,
    "start_time": "2022-06-22T12:03:39.675Z"
   },
   {
    "duration": 85,
    "start_time": "2022-06-22T12:05:04.273Z"
   },
   {
    "duration": 13,
    "start_time": "2022-06-22T12:05:05.898Z"
   },
   {
    "duration": 99,
    "start_time": "2022-06-22T12:05:39.967Z"
   },
   {
    "duration": 16,
    "start_time": "2022-06-22T12:05:40.069Z"
   },
   {
    "duration": 86,
    "start_time": "2022-06-22T12:05:40.086Z"
   },
   {
    "duration": 1968,
    "start_time": "2022-06-22T12:05:40.174Z"
   },
   {
    "duration": 9,
    "start_time": "2022-06-22T12:05:42.144Z"
   },
   {
    "duration": 10,
    "start_time": "2022-06-22T12:05:42.155Z"
   },
   {
    "duration": 4,
    "start_time": "2022-06-22T12:05:42.166Z"
   },
   {
    "duration": 87,
    "start_time": "2022-06-22T12:05:42.172Z"
   },
   {
    "duration": 1405,
    "start_time": "2022-06-22T12:05:42.260Z"
   },
   {
    "duration": 9,
    "start_time": "2022-06-22T12:05:43.668Z"
   },
   {
    "duration": 27,
    "start_time": "2022-06-22T12:05:43.678Z"
   },
   {
    "duration": 75,
    "start_time": "2022-06-22T12:05:43.707Z"
   },
   {
    "duration": 8,
    "start_time": "2022-06-22T12:05:43.784Z"
   },
   {
    "duration": 59,
    "start_time": "2022-06-22T12:05:43.793Z"
   },
   {
    "duration": 39,
    "start_time": "2022-06-22T12:05:43.853Z"
   },
   {
    "duration": 8,
    "start_time": "2022-06-22T12:05:43.894Z"
   },
   {
    "duration": 201,
    "start_time": "2022-06-22T12:05:43.903Z"
   },
   {
    "duration": 3,
    "start_time": "2022-06-22T12:05:44.106Z"
   },
   {
    "duration": 49,
    "start_time": "2022-06-22T12:05:44.111Z"
   },
   {
    "duration": 21,
    "start_time": "2022-06-22T12:05:44.162Z"
   },
   {
    "duration": 84,
    "start_time": "2022-06-22T12:05:53.287Z"
   },
   {
    "duration": 10,
    "start_time": "2022-06-22T12:05:55.878Z"
   },
   {
    "duration": 91,
    "start_time": "2022-06-22T12:07:15.073Z"
   },
   {
    "duration": 14,
    "start_time": "2022-06-22T12:07:15.166Z"
   },
   {
    "duration": 84,
    "start_time": "2022-06-22T12:07:15.182Z"
   },
   {
    "duration": 2015,
    "start_time": "2022-06-22T12:07:15.268Z"
   },
   {
    "duration": 9,
    "start_time": "2022-06-22T12:07:17.284Z"
   },
   {
    "duration": 15,
    "start_time": "2022-06-22T12:07:17.294Z"
   },
   {
    "duration": 4,
    "start_time": "2022-06-22T12:07:17.323Z"
   },
   {
    "duration": 69,
    "start_time": "2022-06-22T12:07:17.328Z"
   },
   {
    "duration": 1297,
    "start_time": "2022-06-22T12:07:17.399Z"
   },
   {
    "duration": 10,
    "start_time": "2022-06-22T12:07:18.698Z"
   },
   {
    "duration": 35,
    "start_time": "2022-06-22T12:07:18.711Z"
   },
   {
    "duration": 35,
    "start_time": "2022-06-22T12:07:18.754Z"
   },
   {
    "duration": 9,
    "start_time": "2022-06-22T12:07:18.791Z"
   },
   {
    "duration": 28,
    "start_time": "2022-06-22T12:07:18.802Z"
   },
   {
    "duration": 34,
    "start_time": "2022-06-22T12:07:18.832Z"
   },
   {
    "duration": 9,
    "start_time": "2022-06-22T12:07:18.868Z"
   },
   {
    "duration": 193,
    "start_time": "2022-06-22T12:07:18.878Z"
   },
   {
    "duration": 3,
    "start_time": "2022-06-22T12:07:19.073Z"
   },
   {
    "duration": 16,
    "start_time": "2022-06-22T12:07:19.078Z"
   },
   {
    "duration": 30,
    "start_time": "2022-06-22T12:07:19.095Z"
   },
   {
    "duration": 90,
    "start_time": "2022-06-22T12:07:26.040Z"
   },
   {
    "duration": 12,
    "start_time": "2022-06-22T12:07:29.968Z"
   },
   {
    "duration": 3,
    "start_time": "2022-06-22T12:59:53.072Z"
   },
   {
    "duration": 15,
    "start_time": "2022-06-22T13:07:36.439Z"
   },
   {
    "duration": 15,
    "start_time": "2022-06-22T13:08:25.676Z"
   },
   {
    "duration": 14,
    "start_time": "2022-06-22T13:08:40.081Z"
   },
   {
    "duration": 8,
    "start_time": "2022-06-22T13:08:54.049Z"
   },
   {
    "duration": 35,
    "start_time": "2022-06-22T13:09:22.034Z"
   },
   {
    "duration": 34,
    "start_time": "2022-06-22T13:09:42.799Z"
   },
   {
    "duration": 7,
    "start_time": "2022-06-22T13:09:54.448Z"
   },
   {
    "duration": 7,
    "start_time": "2022-06-22T13:10:41.623Z"
   },
   {
    "duration": 23,
    "start_time": "2022-06-22T13:11:40.135Z"
   },
   {
    "duration": 19,
    "start_time": "2022-06-22T13:12:18.960Z"
   },
   {
    "duration": 20,
    "start_time": "2022-06-22T13:12:32.062Z"
   },
   {
    "duration": 24,
    "start_time": "2022-06-22T13:14:10.111Z"
   },
   {
    "duration": 20,
    "start_time": "2022-06-22T13:14:15.308Z"
   },
   {
    "duration": 23,
    "start_time": "2022-06-22T13:14:48.755Z"
   },
   {
    "duration": 10,
    "start_time": "2022-06-22T13:14:55.488Z"
   },
   {
    "duration": 47,
    "start_time": "2022-06-22T13:16:16.949Z"
   },
   {
    "duration": 11,
    "start_time": "2022-06-22T13:16:50.565Z"
   },
   {
    "duration": 58,
    "start_time": "2022-06-22T13:19:39.100Z"
   },
   {
    "duration": 82,
    "start_time": "2022-06-22T13:19:53.839Z"
   },
   {
    "duration": 45,
    "start_time": "2022-06-22T13:20:06.576Z"
   },
   {
    "duration": 77,
    "start_time": "2022-06-22T13:20:11.924Z"
   },
   {
    "duration": 44,
    "start_time": "2022-06-22T13:22:26.076Z"
   },
   {
    "duration": 42,
    "start_time": "2022-06-22T13:22:45.894Z"
   },
   {
    "duration": 22,
    "start_time": "2022-06-22T13:23:10.597Z"
   },
   {
    "duration": 33,
    "start_time": "2022-06-22T13:56:28.536Z"
   },
   {
    "duration": 647,
    "start_time": "2022-06-23T06:52:29.315Z"
   },
   {
    "duration": 17,
    "start_time": "2022-06-23T06:52:29.964Z"
   },
   {
    "duration": 29,
    "start_time": "2022-06-23T06:52:29.983Z"
   },
   {
    "duration": 102,
    "start_time": "2022-06-23T06:52:30.014Z"
   },
   {
    "duration": 2705,
    "start_time": "2022-06-23T06:52:30.118Z"
   },
   {
    "duration": 15,
    "start_time": "2022-06-23T06:52:32.825Z"
   },
   {
    "duration": 23,
    "start_time": "2022-06-23T06:52:32.842Z"
   },
   {
    "duration": 4,
    "start_time": "2022-06-23T06:52:32.867Z"
   },
   {
    "duration": 332,
    "start_time": "2022-06-23T06:52:32.873Z"
   },
   {
    "duration": 1362,
    "start_time": "2022-06-23T06:52:33.208Z"
   },
   {
    "duration": 11,
    "start_time": "2022-06-23T06:52:34.572Z"
   },
   {
    "duration": 82,
    "start_time": "2022-06-23T06:52:34.585Z"
   },
   {
    "duration": 39,
    "start_time": "2022-06-23T06:52:34.669Z"
   },
   {
    "duration": 12,
    "start_time": "2022-06-23T06:52:34.709Z"
   },
   {
    "duration": 42,
    "start_time": "2022-06-23T06:52:34.723Z"
   },
   {
    "duration": 41,
    "start_time": "2022-06-23T06:52:34.767Z"
   },
   {
    "duration": 11,
    "start_time": "2022-06-23T06:52:34.810Z"
   },
   {
    "duration": 39,
    "start_time": "2022-06-23T06:52:34.843Z"
   },
   {
    "duration": 5,
    "start_time": "2022-06-23T06:52:34.884Z"
   },
   {
    "duration": 29,
    "start_time": "2022-06-23T06:52:34.891Z"
   },
   {
    "duration": 28,
    "start_time": "2022-06-23T06:52:34.922Z"
   },
   {
    "duration": 95,
    "start_time": "2022-06-23T06:52:34.952Z"
   },
   {
    "duration": 10,
    "start_time": "2022-06-23T06:52:35.049Z"
   },
   {
    "duration": 5,
    "start_time": "2022-06-23T06:52:35.061Z"
   },
   {
    "duration": 42,
    "start_time": "2022-06-23T06:52:42.809Z"
   },
   {
    "duration": 34,
    "start_time": "2022-06-23T06:53:02.491Z"
   },
   {
    "duration": 27,
    "start_time": "2022-06-23T06:55:40.619Z"
   },
   {
    "duration": 21,
    "start_time": "2022-06-23T06:55:57.638Z"
   },
   {
    "duration": 85,
    "start_time": "2022-06-23T07:00:17.308Z"
   },
   {
    "duration": 1417,
    "start_time": "2022-06-23T07:01:07.323Z"
   },
   {
    "duration": 6,
    "start_time": "2022-06-23T07:01:15.615Z"
   },
   {
    "duration": 11,
    "start_time": "2022-06-23T07:02:26.513Z"
   },
   {
    "duration": 44,
    "start_time": "2022-06-23T07:03:45.621Z"
   },
   {
    "duration": 14,
    "start_time": "2022-06-23T07:10:05.734Z"
   },
   {
    "duration": 15,
    "start_time": "2022-06-23T07:10:19.451Z"
   },
   {
    "duration": 11,
    "start_time": "2022-06-23T07:11:29.689Z"
   },
   {
    "duration": 10,
    "start_time": "2022-06-23T07:12:40.599Z"
   },
   {
    "duration": 13,
    "start_time": "2022-06-23T07:12:56.489Z"
   },
   {
    "duration": 11,
    "start_time": "2022-06-23T07:13:05.586Z"
   },
   {
    "duration": 11,
    "start_time": "2022-06-23T07:13:46.547Z"
   },
   {
    "duration": 9,
    "start_time": "2022-06-23T07:15:13.031Z"
   },
   {
    "duration": 10,
    "start_time": "2022-06-23T07:16:19.462Z"
   },
   {
    "duration": 12,
    "start_time": "2022-06-23T07:16:33.156Z"
   },
   {
    "duration": 11,
    "start_time": "2022-06-23T07:17:45.549Z"
   },
   {
    "duration": 10,
    "start_time": "2022-06-23T07:17:59.398Z"
   },
   {
    "duration": 12,
    "start_time": "2022-06-23T07:18:26.946Z"
   },
   {
    "duration": 38,
    "start_time": "2022-06-23T07:25:26.029Z"
   },
   {
    "duration": 65,
    "start_time": "2022-06-23T07:37:17.964Z"
   },
   {
    "duration": 7,
    "start_time": "2022-06-23T07:39:08.627Z"
   },
   {
    "duration": 69,
    "start_time": "2022-06-23T07:39:14.915Z"
   },
   {
    "duration": 11,
    "start_time": "2022-06-23T07:39:37.783Z"
   },
   {
    "duration": 8,
    "start_time": "2022-06-23T07:47:23.664Z"
   },
   {
    "duration": 6,
    "start_time": "2022-06-23T07:47:52.790Z"
   },
   {
    "duration": 11,
    "start_time": "2022-06-23T07:51:44.126Z"
   },
   {
    "duration": 47,
    "start_time": "2022-06-23T07:52:13.684Z"
   },
   {
    "duration": 43,
    "start_time": "2022-06-23T07:52:29.252Z"
   },
   {
    "duration": 11,
    "start_time": "2022-06-23T07:58:45.880Z"
   },
   {
    "duration": 241,
    "start_time": "2022-06-23T08:01:21.412Z"
   },
   {
    "duration": 44,
    "start_time": "2022-06-23T08:07:58.666Z"
   },
   {
    "duration": 14,
    "start_time": "2022-06-23T08:09:35.480Z"
   },
   {
    "duration": 439,
    "start_time": "2022-06-23T08:12:38.650Z"
   },
   {
    "duration": 276,
    "start_time": "2022-06-23T08:21:11.401Z"
   },
   {
    "duration": 11,
    "start_time": "2022-06-23T08:21:32.986Z"
   },
   {
    "duration": 1611,
    "start_time": "2022-06-23T08:23:21.558Z"
   },
   {
    "duration": 168,
    "start_time": "2022-06-23T08:24:06.081Z"
   },
   {
    "duration": 188,
    "start_time": "2022-06-23T08:24:44.732Z"
   },
   {
    "duration": 154,
    "start_time": "2022-06-23T08:24:54.084Z"
   },
   {
    "duration": 14,
    "start_time": "2022-06-23T08:27:31.025Z"
   },
   {
    "duration": 127,
    "start_time": "2022-06-23T08:33:55.352Z"
   },
   {
    "duration": 21,
    "start_time": "2022-06-23T08:33:55.481Z"
   },
   {
    "duration": 56,
    "start_time": "2022-06-23T08:33:55.505Z"
   },
   {
    "duration": 120,
    "start_time": "2022-06-23T08:33:55.564Z"
   },
   {
    "duration": 2205,
    "start_time": "2022-06-23T08:33:55.686Z"
   },
   {
    "duration": 10,
    "start_time": "2022-06-23T08:33:57.892Z"
   },
   {
    "duration": 11,
    "start_time": "2022-06-23T08:33:57.904Z"
   },
   {
    "duration": 25,
    "start_time": "2022-06-23T08:33:57.917Z"
   },
   {
    "duration": 99,
    "start_time": "2022-06-23T08:33:57.945Z"
   },
   {
    "duration": 1407,
    "start_time": "2022-06-23T08:33:58.048Z"
   },
   {
    "duration": 10,
    "start_time": "2022-06-23T08:33:59.456Z"
   },
   {
    "duration": 21,
    "start_time": "2022-06-23T08:33:59.468Z"
   },
   {
    "duration": 51,
    "start_time": "2022-06-23T08:33:59.491Z"
   },
   {
    "duration": 9,
    "start_time": "2022-06-23T08:33:59.544Z"
   },
   {
    "duration": 25,
    "start_time": "2022-06-23T08:33:59.554Z"
   },
   {
    "duration": 35,
    "start_time": "2022-06-23T08:33:59.582Z"
   },
   {
    "duration": 33,
    "start_time": "2022-06-23T08:33:59.619Z"
   },
   {
    "duration": 207,
    "start_time": "2022-06-23T08:33:59.654Z"
   },
   {
    "duration": 5,
    "start_time": "2022-06-23T08:33:59.863Z"
   },
   {
    "duration": 16,
    "start_time": "2022-06-23T08:33:59.869Z"
   },
   {
    "duration": 14,
    "start_time": "2022-06-23T08:33:59.887Z"
   },
   {
    "duration": 43,
    "start_time": "2022-06-23T08:33:59.903Z"
   },
   {
    "duration": 132,
    "start_time": "2022-06-23T08:33:59.948Z"
   },
   {
    "duration": 11,
    "start_time": "2022-06-23T08:34:00.082Z"
   },
   {
    "duration": 8,
    "start_time": "2022-06-23T08:34:00.095Z"
   },
   {
    "duration": 45,
    "start_time": "2022-06-23T08:34:00.106Z"
   },
   {
    "duration": 89,
    "start_time": "2022-06-23T08:34:00.153Z"
   },
   {
    "duration": 14,
    "start_time": "2022-06-23T08:37:04.276Z"
   },
   {
    "duration": 8,
    "start_time": "2022-06-23T08:40:18.775Z"
   },
   {
    "duration": 10,
    "start_time": "2022-06-23T08:40:28.711Z"
   },
   {
    "duration": 11,
    "start_time": "2022-06-23T08:40:31.616Z"
   },
   {
    "duration": 37,
    "start_time": "2022-06-23T08:41:52.941Z"
   },
   {
    "duration": 9,
    "start_time": "2022-06-23T08:42:46.831Z"
   },
   {
    "duration": 14,
    "start_time": "2022-06-23T08:42:50.156Z"
   },
   {
    "duration": 12,
    "start_time": "2022-06-23T08:43:10.773Z"
   },
   {
    "duration": 218,
    "start_time": "2022-06-23T08:43:37.423Z"
   },
   {
    "duration": 5,
    "start_time": "2022-06-23T08:51:18.721Z"
   },
   {
    "duration": 36,
    "start_time": "2022-06-23T08:51:21.957Z"
   },
   {
    "duration": 6,
    "start_time": "2022-06-23T08:53:46.210Z"
   },
   {
    "duration": 38,
    "start_time": "2022-06-23T08:53:52.227Z"
   },
   {
    "duration": 11,
    "start_time": "2022-06-23T08:54:24.961Z"
   },
   {
    "duration": 9,
    "start_time": "2022-06-23T08:54:57.924Z"
   },
   {
    "duration": 13,
    "start_time": "2022-06-23T08:55:39.255Z"
   },
   {
    "duration": 175,
    "start_time": "2022-06-23T08:55:45.285Z"
   },
   {
    "duration": 8,
    "start_time": "2022-06-23T08:57:05.484Z"
   },
   {
    "duration": 13,
    "start_time": "2022-06-23T08:57:19.678Z"
   },
   {
    "duration": 164,
    "start_time": "2022-06-23T08:57:33.050Z"
   },
   {
    "duration": 40,
    "start_time": "2022-06-23T08:57:58.951Z"
   },
   {
    "duration": 114,
    "start_time": "2022-06-23T08:58:36.943Z"
   },
   {
    "duration": 19,
    "start_time": "2022-06-23T08:58:37.060Z"
   },
   {
    "duration": 62,
    "start_time": "2022-06-23T08:58:37.081Z"
   },
   {
    "duration": 97,
    "start_time": "2022-06-23T08:58:37.146Z"
   },
   {
    "duration": 2307,
    "start_time": "2022-06-23T08:58:37.245Z"
   },
   {
    "duration": 14,
    "start_time": "2022-06-23T08:58:39.554Z"
   },
   {
    "duration": 17,
    "start_time": "2022-06-23T08:58:39.570Z"
   },
   {
    "duration": 5,
    "start_time": "2022-06-23T08:58:39.589Z"
   },
   {
    "duration": 96,
    "start_time": "2022-06-23T08:58:39.596Z"
   },
   {
    "duration": 1372,
    "start_time": "2022-06-23T08:58:39.695Z"
   },
   {
    "duration": 10,
    "start_time": "2022-06-23T08:58:41.068Z"
   },
   {
    "duration": 24,
    "start_time": "2022-06-23T08:58:41.080Z"
   },
   {
    "duration": 55,
    "start_time": "2022-06-23T08:58:41.106Z"
   },
   {
    "duration": 11,
    "start_time": "2022-06-23T08:58:41.163Z"
   },
   {
    "duration": 22,
    "start_time": "2022-06-23T08:58:41.177Z"
   },
   {
    "duration": 71,
    "start_time": "2022-06-23T08:58:41.201Z"
   },
   {
    "duration": 13,
    "start_time": "2022-06-23T08:58:41.274Z"
   },
   {
    "duration": 201,
    "start_time": "2022-06-23T08:58:41.289Z"
   },
   {
    "duration": 4,
    "start_time": "2022-06-23T08:58:41.492Z"
   },
   {
    "duration": 18,
    "start_time": "2022-06-23T08:58:41.498Z"
   },
   {
    "duration": 30,
    "start_time": "2022-06-23T08:58:41.517Z"
   },
   {
    "duration": 15,
    "start_time": "2022-06-23T08:58:41.549Z"
   },
   {
    "duration": 132,
    "start_time": "2022-06-23T08:58:41.566Z"
   },
   {
    "duration": 12,
    "start_time": "2022-06-23T08:58:41.701Z"
   },
   {
    "duration": 8,
    "start_time": "2022-06-23T08:58:41.715Z"
   },
   {
    "duration": 44,
    "start_time": "2022-06-23T08:58:41.725Z"
   },
   {
    "duration": 97,
    "start_time": "2022-06-23T08:58:41.771Z"
   },
   {
    "duration": 17,
    "start_time": "2022-06-23T08:58:41.874Z"
   },
   {
    "duration": 11,
    "start_time": "2022-06-23T08:58:41.894Z"
   },
   {
    "duration": 43,
    "start_time": "2022-06-23T08:58:41.908Z"
   },
   {
    "duration": 53,
    "start_time": "2022-06-23T08:58:41.954Z"
   },
   {
    "duration": 7,
    "start_time": "2022-06-23T08:58:42.009Z"
   },
   {
    "duration": 286,
    "start_time": "2022-06-23T08:58:42.017Z"
   },
   {
    "duration": 6,
    "start_time": "2022-06-23T08:58:42.305Z"
   },
   {
    "duration": 33,
    "start_time": "2022-06-23T08:58:42.313Z"
   },
   {
    "duration": 13,
    "start_time": "2022-06-23T08:58:42.348Z"
   },
   {
    "duration": 216,
    "start_time": "2022-06-23T08:58:42.363Z"
   },
   {
    "duration": 6,
    "start_time": "2022-06-23T08:59:25.630Z"
   },
   {
    "duration": 70,
    "start_time": "2022-06-23T08:59:30.332Z"
   },
   {
    "duration": 11,
    "start_time": "2022-06-23T08:59:42.028Z"
   },
   {
    "duration": 8,
    "start_time": "2022-06-23T09:00:32.399Z"
   },
   {
    "duration": 102,
    "start_time": "2022-06-23T09:03:05.149Z"
   },
   {
    "duration": 16,
    "start_time": "2022-06-23T09:03:05.253Z"
   },
   {
    "duration": 41,
    "start_time": "2022-06-23T09:03:05.271Z"
   },
   {
    "duration": 102,
    "start_time": "2022-06-23T09:03:05.315Z"
   },
   {
    "duration": 2539,
    "start_time": "2022-06-23T09:03:05.419Z"
   },
   {
    "duration": 13,
    "start_time": "2022-06-23T09:03:07.960Z"
   },
   {
    "duration": 13,
    "start_time": "2022-06-23T09:03:07.975Z"
   },
   {
    "duration": 5,
    "start_time": "2022-06-23T09:03:07.990Z"
   },
   {
    "duration": 140,
    "start_time": "2022-06-23T09:03:07.997Z"
   },
   {
    "duration": 1563,
    "start_time": "2022-06-23T09:03:08.141Z"
   },
   {
    "duration": 12,
    "start_time": "2022-06-23T09:03:09.706Z"
   },
   {
    "duration": 35,
    "start_time": "2022-06-23T09:03:09.720Z"
   },
   {
    "duration": 40,
    "start_time": "2022-06-23T09:03:09.757Z"
   },
   {
    "duration": 10,
    "start_time": "2022-06-23T09:03:09.799Z"
   },
   {
    "duration": 47,
    "start_time": "2022-06-23T09:03:09.810Z"
   },
   {
    "duration": 46,
    "start_time": "2022-06-23T09:03:09.859Z"
   },
   {
    "duration": 35,
    "start_time": "2022-06-23T09:03:09.907Z"
   },
   {
    "duration": 208,
    "start_time": "2022-06-23T09:03:09.944Z"
   },
   {
    "duration": 5,
    "start_time": "2022-06-23T09:03:10.154Z"
   },
   {
    "duration": 20,
    "start_time": "2022-06-23T09:03:10.161Z"
   },
   {
    "duration": 14,
    "start_time": "2022-06-23T09:03:10.183Z"
   },
   {
    "duration": 47,
    "start_time": "2022-06-23T09:03:10.199Z"
   },
   {
    "duration": 110,
    "start_time": "2022-06-23T09:03:10.249Z"
   },
   {
    "duration": 13,
    "start_time": "2022-06-23T09:03:10.361Z"
   },
   {
    "duration": 4,
    "start_time": "2022-06-23T09:03:10.376Z"
   },
   {
    "duration": 30,
    "start_time": "2022-06-23T09:03:10.382Z"
   },
   {
    "duration": 104,
    "start_time": "2022-06-23T09:03:10.414Z"
   },
   {
    "duration": 25,
    "start_time": "2022-06-23T09:03:10.522Z"
   },
   {
    "duration": 17,
    "start_time": "2022-06-23T09:03:10.552Z"
   },
   {
    "duration": 16,
    "start_time": "2022-06-23T09:03:10.571Z"
   },
   {
    "duration": 65,
    "start_time": "2022-06-23T09:03:10.590Z"
   },
   {
    "duration": 8,
    "start_time": "2022-06-23T09:03:10.657Z"
   },
   {
    "duration": 249,
    "start_time": "2022-06-23T09:03:10.667Z"
   },
   {
    "duration": 6,
    "start_time": "2022-06-23T09:03:10.919Z"
   },
   {
    "duration": 36,
    "start_time": "2022-06-23T09:03:10.926Z"
   },
   {
    "duration": 8,
    "start_time": "2022-06-23T09:03:10.964Z"
   },
   {
    "duration": 99,
    "start_time": "2022-06-23T09:03:10.973Z"
   },
   {
    "duration": 82,
    "start_time": "2022-06-23T09:04:43.816Z"
   },
   {
    "duration": 17,
    "start_time": "2022-06-23T09:04:52.604Z"
   },
   {
    "duration": 12,
    "start_time": "2022-06-23T09:04:57.821Z"
   },
   {
    "duration": 86,
    "start_time": "2022-06-23T09:05:28.940Z"
   },
   {
    "duration": 52,
    "start_time": "2022-06-23T09:07:39.815Z"
   },
   {
    "duration": 6,
    "start_time": "2022-06-23T09:09:32.678Z"
   },
   {
    "duration": 12,
    "start_time": "2022-06-23T09:09:38.324Z"
   },
   {
    "duration": 160,
    "start_time": "2022-06-23T09:09:54.430Z"
   },
   {
    "duration": 66,
    "start_time": "2022-06-23T09:10:31.250Z"
   },
   {
    "duration": 15,
    "start_time": "2022-06-23T09:10:55.495Z"
   },
   {
    "duration": 63,
    "start_time": "2022-06-23T09:11:38.523Z"
   },
   {
    "duration": 27,
    "start_time": "2022-06-23T09:22:06.970Z"
   },
   {
    "duration": 30,
    "start_time": "2022-06-23T09:24:37.532Z"
   },
   {
    "duration": 7,
    "start_time": "2022-06-23T09:27:00.367Z"
   },
   {
    "duration": 11,
    "start_time": "2022-06-23T09:27:07.769Z"
   },
   {
    "duration": 26,
    "start_time": "2022-06-23T09:27:13.865Z"
   },
   {
    "duration": 27,
    "start_time": "2022-06-23T09:27:52.659Z"
   },
   {
    "duration": 9,
    "start_time": "2022-06-23T09:46:28.724Z"
   },
   {
    "duration": 116,
    "start_time": "2022-06-23T09:46:33.910Z"
   },
   {
    "duration": 123,
    "start_time": "2022-06-23T09:46:44.970Z"
   },
   {
    "duration": 102,
    "start_time": "2022-06-23T09:46:55.044Z"
   },
   {
    "duration": 94,
    "start_time": "2022-06-23T09:47:16.793Z"
   },
   {
    "duration": 8,
    "start_time": "2022-06-23T09:47:23.156Z"
   },
   {
    "duration": 373,
    "start_time": "2022-06-23T09:47:26.292Z"
   },
   {
    "duration": 37,
    "start_time": "2022-06-23T09:50:16.226Z"
   },
   {
    "duration": 130,
    "start_time": "2022-06-23T11:21:57.589Z"
   },
   {
    "duration": 302,
    "start_time": "2022-06-23T11:22:16.708Z"
   },
   {
    "duration": 2944,
    "start_time": "2022-06-23T11:22:59.044Z"
   },
   {
    "duration": 10,
    "start_time": "2022-06-23T11:31:15.964Z"
   },
   {
    "duration": 8,
    "start_time": "2022-06-23T11:32:06.138Z"
   },
   {
    "duration": 111,
    "start_time": "2022-06-23T11:32:38.092Z"
   },
   {
    "duration": 124,
    "start_time": "2022-06-23T11:35:09.121Z"
   },
   {
    "duration": 24,
    "start_time": "2022-06-23T11:35:09.248Z"
   },
   {
    "duration": 43,
    "start_time": "2022-06-23T11:35:09.274Z"
   },
   {
    "duration": 113,
    "start_time": "2022-06-23T11:35:09.341Z"
   },
   {
    "duration": 14,
    "start_time": "2022-06-23T11:35:09.457Z"
   },
   {
    "duration": 13,
    "start_time": "2022-06-23T11:35:09.473Z"
   },
   {
    "duration": 8,
    "start_time": "2022-06-23T11:35:09.488Z"
   },
   {
    "duration": 103,
    "start_time": "2022-06-23T11:35:09.498Z"
   },
   {
    "duration": 1416,
    "start_time": "2022-06-23T11:35:09.603Z"
   },
   {
    "duration": 9,
    "start_time": "2022-06-23T11:35:11.022Z"
   },
   {
    "duration": 41,
    "start_time": "2022-06-23T11:35:11.034Z"
   },
   {
    "duration": 39,
    "start_time": "2022-06-23T11:35:11.076Z"
   },
   {
    "duration": 10,
    "start_time": "2022-06-23T11:35:11.117Z"
   },
   {
    "duration": 29,
    "start_time": "2022-06-23T11:35:11.129Z"
   },
   {
    "duration": 36,
    "start_time": "2022-06-23T11:35:11.160Z"
   },
   {
    "duration": 10,
    "start_time": "2022-06-23T11:35:11.198Z"
   },
   {
    "duration": 221,
    "start_time": "2022-06-23T11:35:11.210Z"
   },
   {
    "duration": 10,
    "start_time": "2022-06-23T11:35:11.433Z"
   },
   {
    "duration": 16,
    "start_time": "2022-06-23T11:35:11.445Z"
   },
   {
    "duration": 12,
    "start_time": "2022-06-23T11:35:11.463Z"
   },
   {
    "duration": 12,
    "start_time": "2022-06-23T11:35:11.477Z"
   },
   {
    "duration": 143,
    "start_time": "2022-06-23T11:35:11.492Z"
   },
   {
    "duration": 13,
    "start_time": "2022-06-23T11:35:11.637Z"
   },
   {
    "duration": 8,
    "start_time": "2022-06-23T11:35:11.652Z"
   },
   {
    "duration": 37,
    "start_time": "2022-06-23T11:35:11.662Z"
   },
   {
    "duration": 96,
    "start_time": "2022-06-23T11:35:11.701Z"
   },
   {
    "duration": 12,
    "start_time": "2022-06-23T11:35:11.799Z"
   },
   {
    "duration": 8,
    "start_time": "2022-06-23T11:35:11.815Z"
   },
   {
    "duration": 13,
    "start_time": "2022-06-23T11:35:11.841Z"
   },
   {
    "duration": 39,
    "start_time": "2022-06-23T11:35:11.856Z"
   },
   {
    "duration": 8,
    "start_time": "2022-06-23T11:35:11.898Z"
   },
   {
    "duration": 12,
    "start_time": "2022-06-23T11:35:18.992Z"
   },
   {
    "duration": 127,
    "start_time": "2022-06-23T11:38:27.486Z"
   },
   {
    "duration": 256,
    "start_time": "2022-06-23T11:38:35.017Z"
   },
   {
    "duration": 155,
    "start_time": "2022-06-23T11:38:47.949Z"
   },
   {
    "duration": 130,
    "start_time": "2022-06-23T11:39:06.381Z"
   },
   {
    "duration": 144,
    "start_time": "2022-06-23T11:39:12.568Z"
   },
   {
    "duration": 264,
    "start_time": "2022-06-23T11:39:17.488Z"
   },
   {
    "duration": 564,
    "start_time": "2022-06-23T11:39:25.542Z"
   },
   {
    "duration": 201,
    "start_time": "2022-06-23T11:39:47.093Z"
   },
   {
    "duration": 526,
    "start_time": "2022-06-23T11:45:31.710Z"
   },
   {
    "duration": 276,
    "start_time": "2022-06-23T11:45:55.918Z"
   },
   {
    "duration": 264,
    "start_time": "2022-06-23T11:46:08.322Z"
   },
   {
    "duration": 296,
    "start_time": "2022-06-23T11:46:14.892Z"
   },
   {
    "duration": 261,
    "start_time": "2022-06-23T11:47:11.820Z"
   },
   {
    "duration": 287,
    "start_time": "2022-06-23T11:47:17.333Z"
   },
   {
    "duration": 252,
    "start_time": "2022-06-23T11:47:22.554Z"
   },
   {
    "duration": 282,
    "start_time": "2022-06-23T11:47:28.775Z"
   },
   {
    "duration": 306,
    "start_time": "2022-06-23T11:51:02.803Z"
   },
   {
    "duration": 298,
    "start_time": "2022-06-23T11:52:24.101Z"
   },
   {
    "duration": 310,
    "start_time": "2022-06-23T11:52:51.611Z"
   },
   {
    "duration": 282,
    "start_time": "2022-06-23T11:54:06.262Z"
   },
   {
    "duration": 579,
    "start_time": "2022-06-23T11:54:17.382Z"
   },
   {
    "duration": 295,
    "start_time": "2022-06-23T11:54:36.042Z"
   },
   {
    "duration": 89,
    "start_time": "2022-06-23T11:59:55.856Z"
   },
   {
    "duration": 273,
    "start_time": "2022-06-23T11:59:59.851Z"
   },
   {
    "duration": 287,
    "start_time": "2022-06-23T12:00:31.504Z"
   },
   {
    "duration": 303,
    "start_time": "2022-06-23T12:00:38.029Z"
   },
   {
    "duration": 276,
    "start_time": "2022-06-23T12:00:52.872Z"
   },
   {
    "duration": 291,
    "start_time": "2022-06-23T12:01:11.015Z"
   },
   {
    "duration": 152,
    "start_time": "2022-06-23T12:08:24.611Z"
   },
   {
    "duration": 174,
    "start_time": "2022-06-23T12:08:51.329Z"
   },
   {
    "duration": 295,
    "start_time": "2022-06-23T12:09:01.498Z"
   },
   {
    "duration": 336,
    "start_time": "2022-06-23T12:09:16.654Z"
   },
   {
    "duration": 166,
    "start_time": "2022-06-23T12:11:02.190Z"
   },
   {
    "duration": 214,
    "start_time": "2022-06-23T12:11:10.158Z"
   },
   {
    "duration": 82,
    "start_time": "2022-06-23T12:13:40.069Z"
   },
   {
    "duration": 157,
    "start_time": "2022-06-23T12:14:38.763Z"
   },
   {
    "duration": 206,
    "start_time": "2022-06-23T12:14:54.146Z"
   },
   {
    "duration": 155,
    "start_time": "2022-06-23T12:15:00.503Z"
   },
   {
    "duration": 163,
    "start_time": "2022-06-23T12:15:06.141Z"
   },
   {
    "duration": 143,
    "start_time": "2022-06-23T12:15:44.467Z"
   },
   {
    "duration": 176,
    "start_time": "2022-06-23T12:16:07.996Z"
   },
   {
    "duration": 149,
    "start_time": "2022-06-23T12:16:13.946Z"
   },
   {
    "duration": 153,
    "start_time": "2022-06-23T12:16:22.808Z"
   },
   {
    "duration": 168,
    "start_time": "2022-06-23T12:16:33.023Z"
   },
   {
    "duration": 153,
    "start_time": "2022-06-23T12:16:50.234Z"
   },
   {
    "duration": 147,
    "start_time": "2022-06-23T12:16:58.056Z"
   },
   {
    "duration": 156,
    "start_time": "2022-06-23T12:17:05.008Z"
   },
   {
    "duration": 138,
    "start_time": "2022-06-23T12:20:24.511Z"
   },
   {
    "duration": 155,
    "start_time": "2022-06-23T12:20:37.918Z"
   },
   {
    "duration": 526,
    "start_time": "2022-06-23T12:20:43.895Z"
   },
   {
    "duration": 285,
    "start_time": "2022-06-23T12:20:48.734Z"
   },
   {
    "duration": 187,
    "start_time": "2022-06-23T12:20:56.327Z"
   },
   {
    "duration": 180,
    "start_time": "2022-06-23T12:21:01.437Z"
   },
   {
    "duration": 191,
    "start_time": "2022-06-23T12:21:04.591Z"
   },
   {
    "duration": 106,
    "start_time": "2022-06-23T12:40:45.858Z"
   },
   {
    "duration": 16,
    "start_time": "2022-06-23T12:40:45.967Z"
   },
   {
    "duration": 39,
    "start_time": "2022-06-23T12:40:45.985Z"
   },
   {
    "duration": 98,
    "start_time": "2022-06-23T12:40:46.026Z"
   },
   {
    "duration": 25,
    "start_time": "2022-06-23T12:40:46.127Z"
   },
   {
    "duration": 12,
    "start_time": "2022-06-23T12:40:46.158Z"
   },
   {
    "duration": 4,
    "start_time": "2022-06-23T12:40:46.172Z"
   },
   {
    "duration": 96,
    "start_time": "2022-06-23T12:40:46.178Z"
   },
   {
    "duration": 1531,
    "start_time": "2022-06-23T12:40:46.275Z"
   },
   {
    "duration": 14,
    "start_time": "2022-06-23T12:40:47.808Z"
   },
   {
    "duration": 10,
    "start_time": "2022-06-23T12:40:51.449Z"
   },
   {
    "duration": 15,
    "start_time": "2022-06-23T12:41:01.451Z"
   },
   {
    "duration": 21,
    "start_time": "2022-06-23T12:41:50.970Z"
   },
   {
    "duration": 40,
    "start_time": "2022-06-23T12:41:54.783Z"
   },
   {
    "duration": 12,
    "start_time": "2022-06-23T12:41:56.639Z"
   },
   {
    "duration": 24,
    "start_time": "2022-06-23T12:42:22.240Z"
   },
   {
    "duration": 39,
    "start_time": "2022-06-23T12:42:32.866Z"
   },
   {
    "duration": 18,
    "start_time": "2022-06-23T12:42:35.745Z"
   },
   {
    "duration": 200,
    "start_time": "2022-06-23T12:45:33.468Z"
   },
   {
    "duration": 14,
    "start_time": "2022-06-23T12:46:52.746Z"
   },
   {
    "duration": 15,
    "start_time": "2022-06-23T12:46:54.657Z"
   },
   {
    "duration": 15,
    "start_time": "2022-06-23T12:48:02.355Z"
   },
   {
    "duration": 12,
    "start_time": "2022-06-23T12:48:08.277Z"
   },
   {
    "duration": 96,
    "start_time": "2022-06-23T12:48:52.271Z"
   },
   {
    "duration": 12,
    "start_time": "2022-06-23T12:48:55.802Z"
   },
   {
    "duration": 3,
    "start_time": "2022-06-23T12:48:58.530Z"
   },
   {
    "duration": 28,
    "start_time": "2022-06-23T12:49:03.808Z"
   },
   {
    "duration": 76,
    "start_time": "2022-06-23T12:49:07.070Z"
   },
   {
    "duration": 13,
    "start_time": "2022-06-23T12:49:53.939Z"
   },
   {
    "duration": 16,
    "start_time": "2022-06-23T12:52:18.099Z"
   },
   {
    "duration": 9,
    "start_time": "2022-06-23T12:52:25.073Z"
   },
   {
    "duration": 10,
    "start_time": "2022-06-23T12:52:36.597Z"
   },
   {
    "duration": 149,
    "start_time": "2022-06-23T12:53:37.457Z"
   },
   {
    "duration": 281,
    "start_time": "2022-06-23T12:53:48.842Z"
   },
   {
    "duration": 13,
    "start_time": "2022-06-23T12:54:38.399Z"
   },
   {
    "duration": 265,
    "start_time": "2022-06-23T12:56:57.801Z"
   },
   {
    "duration": 14,
    "start_time": "2022-06-23T12:57:29.383Z"
   },
   {
    "duration": 8,
    "start_time": "2022-06-23T12:57:43.450Z"
   },
   {
    "duration": 261,
    "start_time": "2022-06-23T12:57:45.549Z"
   },
   {
    "duration": 11,
    "start_time": "2022-06-23T12:58:04.478Z"
   },
   {
    "duration": 11,
    "start_time": "2022-06-23T12:58:35.254Z"
   },
   {
    "duration": 37,
    "start_time": "2022-06-23T12:58:58.293Z"
   },
   {
    "duration": 12,
    "start_time": "2022-06-23T12:59:35.700Z"
   },
   {
    "duration": 10,
    "start_time": "2022-06-23T13:01:09.413Z"
   },
   {
    "duration": 14,
    "start_time": "2022-06-23T13:01:17.185Z"
   },
   {
    "duration": 141,
    "start_time": "2022-06-23T13:02:04.455Z"
   },
   {
    "duration": 9,
    "start_time": "2022-06-23T13:05:31.111Z"
   },
   {
    "duration": 152,
    "start_time": "2022-06-23T13:05:33.101Z"
   },
   {
    "duration": 144,
    "start_time": "2022-06-23T13:06:38.840Z"
   },
   {
    "duration": 11,
    "start_time": "2022-06-23T13:07:43.971Z"
   },
   {
    "duration": 177,
    "start_time": "2022-06-23T13:08:11.392Z"
   },
   {
    "duration": 10,
    "start_time": "2022-06-23T13:08:47.267Z"
   },
   {
    "duration": 6,
    "start_time": "2022-06-23T13:08:47.279Z"
   },
   {
    "duration": 16,
    "start_time": "2022-06-23T13:08:47.287Z"
   },
   {
    "duration": 15,
    "start_time": "2022-06-23T13:08:47.305Z"
   },
   {
    "duration": 55,
    "start_time": "2022-06-23T13:08:47.323Z"
   },
   {
    "duration": 3,
    "start_time": "2022-06-23T13:08:47.380Z"
   },
   {
    "duration": 381,
    "start_time": "2022-06-23T13:08:47.385Z"
   },
   {
    "duration": 25,
    "start_time": "2022-06-23T13:08:47.768Z"
   },
   {
    "duration": 2745,
    "start_time": "2022-06-23T13:08:47.796Z"
   },
   {
    "duration": 305,
    "start_time": "2022-06-23T13:08:50.543Z"
   },
   {
    "duration": 667,
    "start_time": "2022-06-23T13:08:50.850Z"
   },
   {
    "duration": 239,
    "start_time": "2022-06-23T13:08:51.519Z"
   },
   {
    "duration": 178,
    "start_time": "2022-06-23T13:08:51.761Z"
   },
   {
    "duration": 203,
    "start_time": "2022-06-23T13:08:51.942Z"
   },
   {
    "duration": 173,
    "start_time": "2022-06-23T13:09:07.469Z"
   },
   {
    "duration": 259,
    "start_time": "2022-06-23T13:09:12.853Z"
   },
   {
    "duration": 279,
    "start_time": "2022-06-23T13:11:23.334Z"
   },
   {
    "duration": 297,
    "start_time": "2022-06-23T13:11:55.091Z"
   },
   {
    "duration": 215,
    "start_time": "2022-06-23T13:12:10.879Z"
   },
   {
    "duration": 190,
    "start_time": "2022-06-23T13:12:27.583Z"
   },
   {
    "duration": 294,
    "start_time": "2022-06-23T13:12:46.069Z"
   },
   {
    "duration": 224,
    "start_time": "2022-06-23T13:15:25.795Z"
   },
   {
    "duration": 156,
    "start_time": "2022-06-23T13:15:45.387Z"
   },
   {
    "duration": 172,
    "start_time": "2022-06-23T13:15:58.268Z"
   },
   {
    "duration": 203,
    "start_time": "2022-06-23T13:16:37.323Z"
   },
   {
    "duration": 188,
    "start_time": "2022-06-23T13:16:43.336Z"
   },
   {
    "duration": 219,
    "start_time": "2022-06-23T13:17:31.651Z"
   },
   {
    "duration": 268,
    "start_time": "2022-06-23T13:17:40.343Z"
   },
   {
    "duration": 261,
    "start_time": "2022-06-23T13:17:54.100Z"
   },
   {
    "duration": 236,
    "start_time": "2022-06-23T13:18:01.992Z"
   },
   {
    "duration": 308,
    "start_time": "2022-06-23T13:18:06.642Z"
   },
   {
    "duration": 222,
    "start_time": "2022-06-23T13:18:38.061Z"
   },
   {
    "duration": 165,
    "start_time": "2022-06-23T13:18:45.760Z"
   },
   {
    "duration": 174,
    "start_time": "2022-06-23T13:18:53.083Z"
   },
   {
    "duration": 173,
    "start_time": "2022-06-23T13:19:05.805Z"
   },
   {
    "duration": 168,
    "start_time": "2022-06-23T13:19:15.693Z"
   },
   {
    "duration": 7,
    "start_time": "2022-06-23T13:22:23.673Z"
   },
   {
    "duration": 163,
    "start_time": "2022-06-23T13:23:40.249Z"
   },
   {
    "duration": 193,
    "start_time": "2022-06-23T13:26:06.682Z"
   },
   {
    "duration": 175,
    "start_time": "2022-06-23T13:26:13.666Z"
   },
   {
    "duration": 174,
    "start_time": "2022-06-23T13:26:34.452Z"
   },
   {
    "duration": 143,
    "start_time": "2022-06-23T13:28:31.471Z"
   },
   {
    "duration": 152,
    "start_time": "2022-06-23T13:29:22.314Z"
   },
   {
    "duration": 280,
    "start_time": "2022-06-23T13:29:30.866Z"
   },
   {
    "duration": 259,
    "start_time": "2022-06-23T13:29:39.116Z"
   },
   {
    "duration": 333,
    "start_time": "2022-06-23T13:29:56.844Z"
   },
   {
    "duration": 231,
    "start_time": "2022-06-23T13:30:03.597Z"
   },
   {
    "duration": 172,
    "start_time": "2022-06-23T13:30:10.950Z"
   },
   {
    "duration": 203,
    "start_time": "2022-06-23T13:30:18.620Z"
   },
   {
    "duration": 226,
    "start_time": "2022-06-23T13:30:32.752Z"
   },
   {
    "duration": 743,
    "start_time": "2022-06-23T13:30:37.676Z"
   },
   {
    "duration": 210,
    "start_time": "2022-06-23T13:30:45.688Z"
   },
   {
    "duration": 188,
    "start_time": "2022-06-23T13:31:15.611Z"
   },
   {
    "duration": 204,
    "start_time": "2022-06-23T13:31:19.980Z"
   },
   {
    "duration": 158,
    "start_time": "2022-06-23T13:31:26.519Z"
   },
   {
    "duration": 148,
    "start_time": "2022-06-23T13:31:47.287Z"
   },
   {
    "duration": 187,
    "start_time": "2022-06-23T13:31:53.689Z"
   },
   {
    "duration": 203,
    "start_time": "2022-06-23T13:31:58.242Z"
   },
   {
    "duration": 154,
    "start_time": "2022-06-23T13:34:01.675Z"
   },
   {
    "duration": 195,
    "start_time": "2022-06-23T13:34:22.607Z"
   },
   {
    "duration": 224,
    "start_time": "2022-06-23T13:34:28.282Z"
   },
   {
    "duration": 168,
    "start_time": "2022-06-23T13:34:35.989Z"
   },
   {
    "duration": 196,
    "start_time": "2022-06-23T13:34:56.900Z"
   },
   {
    "duration": 203,
    "start_time": "2022-06-23T13:35:04.553Z"
   },
   {
    "duration": 159,
    "start_time": "2022-06-23T13:35:08.649Z"
   },
   {
    "duration": 147,
    "start_time": "2022-06-23T13:37:04.401Z"
   },
   {
    "duration": 133,
    "start_time": "2022-06-23T13:37:14.164Z"
   },
   {
    "duration": 1572,
    "start_time": "2022-06-23T13:40:18.326Z"
   },
   {
    "duration": 185,
    "start_time": "2022-06-23T13:40:36.739Z"
   },
   {
    "duration": 140,
    "start_time": "2022-06-23T13:40:54.293Z"
   },
   {
    "duration": 190,
    "start_time": "2022-06-23T13:41:04.563Z"
   },
   {
    "duration": 148,
    "start_time": "2022-06-23T13:41:09.923Z"
   },
   {
    "duration": 187,
    "start_time": "2022-06-23T13:41:17.343Z"
   },
   {
    "duration": 196,
    "start_time": "2022-06-23T13:41:29.071Z"
   },
   {
    "duration": 197,
    "start_time": "2022-06-23T13:51:11.548Z"
   },
   {
    "duration": 350,
    "start_time": "2022-06-23T13:51:16.866Z"
   },
   {
    "duration": 203,
    "start_time": "2022-06-23T13:51:22.952Z"
   },
   {
    "duration": 200,
    "start_time": "2022-06-23T13:51:31.832Z"
   },
   {
    "duration": 6,
    "start_time": "2022-06-23T13:53:29.471Z"
   },
   {
    "duration": 154,
    "start_time": "2022-06-23T13:54:11.326Z"
   },
   {
    "duration": 169,
    "start_time": "2022-06-23T13:54:27.764Z"
   },
   {
    "duration": 283,
    "start_time": "2022-06-23T13:54:41.989Z"
   },
   {
    "duration": 316,
    "start_time": "2022-06-23T13:59:56.865Z"
   },
   {
    "duration": 263,
    "start_time": "2022-06-23T14:01:20.179Z"
   },
   {
    "duration": 166,
    "start_time": "2022-06-23T16:40:57.399Z"
   },
   {
    "duration": 261,
    "start_time": "2022-06-23T16:56:03.965Z"
   },
   {
    "duration": 417,
    "start_time": "2022-06-23T16:56:16.662Z"
   },
   {
    "duration": 12,
    "start_time": "2022-06-23T17:01:45.414Z"
   },
   {
    "duration": 13,
    "start_time": "2022-06-23T17:04:12.277Z"
   },
   {
    "duration": 21,
    "start_time": "2022-06-23T17:04:54.535Z"
   },
   {
    "duration": 11,
    "start_time": "2022-06-23T17:05:44.412Z"
   },
   {
    "duration": 10,
    "start_time": "2022-06-23T17:06:19.610Z"
   },
   {
    "duration": 11,
    "start_time": "2022-06-23T17:07:27.086Z"
   },
   {
    "duration": 16,
    "start_time": "2022-06-23T17:07:56.769Z"
   },
   {
    "duration": 10,
    "start_time": "2022-06-23T17:08:20.521Z"
   },
   {
    "duration": 12,
    "start_time": "2022-06-23T17:08:52.277Z"
   },
   {
    "duration": 10,
    "start_time": "2022-06-23T17:09:24.491Z"
   },
   {
    "duration": 19,
    "start_time": "2022-06-23T17:10:06.039Z"
   },
   {
    "duration": 11,
    "start_time": "2022-06-23T17:10:40.593Z"
   },
   {
    "duration": 227,
    "start_time": "2022-06-23T17:16:16.644Z"
   },
   {
    "duration": 257,
    "start_time": "2022-06-23T17:16:27.567Z"
   },
   {
    "duration": 10,
    "start_time": "2022-06-23T17:17:17.214Z"
   },
   {
    "duration": 218,
    "start_time": "2022-06-23T17:18:27.165Z"
   },
   {
    "duration": 183,
    "start_time": "2022-06-23T17:18:34.817Z"
   },
   {
    "duration": 10,
    "start_time": "2022-06-23T17:19:15.010Z"
   },
   {
    "duration": 28,
    "start_time": "2022-06-23T17:19:21.071Z"
   },
   {
    "duration": 12,
    "start_time": "2022-06-23T17:30:34.425Z"
   },
   {
    "duration": 36,
    "start_time": "2022-06-23T17:33:45.987Z"
   },
   {
    "duration": 272,
    "start_time": "2022-06-23T17:36:12.944Z"
   },
   {
    "duration": 259,
    "start_time": "2022-06-23T17:36:28.233Z"
   },
   {
    "duration": 10,
    "start_time": "2022-06-23T17:36:53.230Z"
   },
   {
    "duration": 2410,
    "start_time": "2022-06-23T17:43:12.502Z"
   },
   {
    "duration": 241,
    "start_time": "2022-06-23T17:43:34.465Z"
   },
   {
    "duration": 184,
    "start_time": "2022-06-23T17:43:54.415Z"
   },
   {
    "duration": 208,
    "start_time": "2022-06-23T17:44:03.410Z"
   },
   {
    "duration": 1046,
    "start_time": "2022-06-23T17:44:20.340Z"
   },
   {
    "duration": 35,
    "start_time": "2022-06-23T17:45:54.839Z"
   },
   {
    "duration": 103,
    "start_time": "2022-06-23T18:38:47.769Z"
   },
   {
    "duration": 85,
    "start_time": "2022-06-23T18:47:59.934Z"
   },
   {
    "duration": 1092,
    "start_time": "2022-06-23T18:48:06.834Z"
   },
   {
    "duration": 67,
    "start_time": "2022-06-23T18:48:07.930Z"
   },
   {
    "duration": 224,
    "start_time": "2022-06-23T18:48:08.007Z"
   },
   {
    "duration": 142,
    "start_time": "2022-06-23T18:48:08.237Z"
   },
   {
    "duration": 13,
    "start_time": "2022-06-23T18:48:08.381Z"
   },
   {
    "duration": 37,
    "start_time": "2022-06-23T18:48:08.396Z"
   },
   {
    "duration": 5,
    "start_time": "2022-06-23T18:48:08.435Z"
   },
   {
    "duration": 158,
    "start_time": "2022-06-23T18:48:08.442Z"
   },
   {
    "duration": 2034,
    "start_time": "2022-06-23T18:48:08.602Z"
   },
   {
    "duration": 20,
    "start_time": "2022-06-23T18:48:10.639Z"
   },
   {
    "duration": 54,
    "start_time": "2022-06-23T18:48:10.665Z"
   },
   {
    "duration": 44,
    "start_time": "2022-06-23T18:48:10.721Z"
   },
   {
    "duration": 51,
    "start_time": "2022-06-23T18:48:10.771Z"
   },
   {
    "duration": 13,
    "start_time": "2022-06-23T18:48:10.824Z"
   },
   {
    "duration": 48,
    "start_time": "2022-06-23T18:48:10.839Z"
   },
   {
    "duration": 81,
    "start_time": "2022-06-23T18:48:10.891Z"
   },
   {
    "duration": 18,
    "start_time": "2022-06-23T18:48:10.973Z"
   },
   {
    "duration": 71,
    "start_time": "2022-06-23T18:48:10.993Z"
   },
   {
    "duration": 7,
    "start_time": "2022-06-23T18:48:11.066Z"
   },
   {
    "duration": 40,
    "start_time": "2022-06-23T18:48:11.082Z"
   },
   {
    "duration": 14,
    "start_time": "2022-06-23T18:48:11.124Z"
   },
   {
    "duration": 54,
    "start_time": "2022-06-23T18:48:11.140Z"
   },
   {
    "duration": 161,
    "start_time": "2022-06-23T18:48:11.196Z"
   },
   {
    "duration": 20,
    "start_time": "2022-06-23T18:48:11.360Z"
   },
   {
    "duration": 36,
    "start_time": "2022-06-23T18:48:11.382Z"
   },
   {
    "duration": 43,
    "start_time": "2022-06-23T18:48:11.420Z"
   },
   {
    "duration": 99,
    "start_time": "2022-06-23T18:48:11.469Z"
   },
   {
    "duration": 20,
    "start_time": "2022-06-23T18:48:11.574Z"
   },
   {
    "duration": 31,
    "start_time": "2022-06-23T18:48:11.596Z"
   },
   {
    "duration": 759,
    "start_time": "2022-06-23T18:48:11.629Z"
   },
   {
    "duration": 13,
    "start_time": "2022-06-23T18:48:12.391Z"
   },
   {
    "duration": 48,
    "start_time": "2022-06-23T18:48:12.407Z"
   },
   {
    "duration": 108,
    "start_time": "2022-06-23T18:48:12.456Z"
   },
   {
    "duration": 110,
    "start_time": "2022-06-23T18:48:12.569Z"
   },
   {
    "duration": 307,
    "start_time": "2022-06-23T18:48:12.682Z"
   },
   {
    "duration": 21,
    "start_time": "2022-06-23T18:48:12.999Z"
   },
   {
    "duration": 21,
    "start_time": "2022-06-23T18:48:13.025Z"
   },
   {
    "duration": 307,
    "start_time": "2022-06-23T18:48:13.048Z"
   },
   {
    "duration": 14,
    "start_time": "2022-06-23T18:48:13.357Z"
   },
   {
    "duration": 64,
    "start_time": "2022-06-23T18:48:13.373Z"
   },
   {
    "duration": 83,
    "start_time": "2022-06-23T18:48:13.439Z"
   },
   {
    "duration": 102,
    "start_time": "2022-06-23T18:48:13.527Z"
   },
   {
    "duration": 64,
    "start_time": "2022-06-23T18:48:13.631Z"
   },
   {
    "duration": 28,
    "start_time": "2022-06-23T18:48:13.697Z"
   },
   {
    "duration": 711,
    "start_time": "2022-06-23T18:48:13.729Z"
   },
   {
    "duration": 46,
    "start_time": "2022-06-23T18:48:14.441Z"
   },
   {
    "duration": 343,
    "start_time": "2022-06-23T18:48:14.491Z"
   },
   {
    "duration": 21,
    "start_time": "2022-06-23T18:48:14.835Z"
   },
   {
    "duration": 299,
    "start_time": "2022-06-23T18:48:14.858Z"
   },
   {
    "duration": 14,
    "start_time": "2022-06-23T18:48:15.159Z"
   },
   {
    "duration": 286,
    "start_time": "2022-06-23T18:48:15.177Z"
   },
   {
    "duration": 30,
    "start_time": "2022-06-23T18:48:15.465Z"
   },
   {
    "duration": 398,
    "start_time": "2022-06-23T18:48:15.501Z"
   },
   {
    "duration": 19,
    "start_time": "2022-06-23T18:48:15.908Z"
   },
   {
    "duration": 205,
    "start_time": "2022-06-23T18:48:15.929Z"
   },
   {
    "duration": 9,
    "start_time": "2022-06-23T18:48:16.136Z"
   },
   {
    "duration": 367,
    "start_time": "2022-06-23T18:48:16.149Z"
   },
   {
    "duration": 11,
    "start_time": "2022-06-23T18:48:16.518Z"
   },
   {
    "duration": 209,
    "start_time": "2022-06-23T18:48:16.545Z"
   },
   {
    "duration": 25,
    "start_time": "2022-06-23T18:48:16.762Z"
   },
   {
    "duration": 234,
    "start_time": "2022-06-23T18:48:16.793Z"
   },
   {
    "duration": 46,
    "start_time": "2022-06-23T18:48:17.030Z"
   },
   {
    "duration": 315,
    "start_time": "2022-06-23T18:48:17.086Z"
   },
   {
    "duration": 17,
    "start_time": "2022-06-23T18:48:17.403Z"
   },
   {
    "duration": 10,
    "start_time": "2022-06-23T18:48:17.422Z"
   },
   {
    "duration": 367,
    "start_time": "2022-06-23T18:48:17.433Z"
   },
   {
    "duration": 13,
    "start_time": "2022-06-23T18:48:17.802Z"
   },
   {
    "duration": 183,
    "start_time": "2022-06-23T18:48:17.816Z"
   },
   {
    "duration": 14,
    "start_time": "2022-06-23T18:48:18.003Z"
   },
   {
    "duration": 59,
    "start_time": "2022-06-23T18:48:18.019Z"
   },
   {
    "duration": 328,
    "start_time": "2022-06-23T18:48:18.085Z"
   },
   {
    "duration": 11,
    "start_time": "2022-06-23T18:48:18.416Z"
   },
   {
    "duration": 203,
    "start_time": "2022-06-23T18:48:18.430Z"
   },
   {
    "duration": 37,
    "start_time": "2022-06-23T18:48:18.635Z"
   },
   {
    "duration": 210,
    "start_time": "2022-06-23T18:48:18.679Z"
   },
   {
    "duration": 12,
    "start_time": "2022-06-23T18:48:18.890Z"
   },
   {
    "duration": 292,
    "start_time": "2022-06-23T18:48:18.904Z"
   },
   {
    "duration": 10,
    "start_time": "2022-06-23T18:48:19.197Z"
   },
   {
    "duration": 216,
    "start_time": "2022-06-23T18:48:19.209Z"
   },
   {
    "duration": 30,
    "start_time": "2022-06-23T18:48:19.427Z"
   },
   {
    "duration": 767,
    "start_time": "2022-06-23T18:48:52.728Z"
   },
   {
    "duration": 23,
    "start_time": "2022-06-23T18:48:53.498Z"
   },
   {
    "duration": 64,
    "start_time": "2022-06-23T18:48:53.523Z"
   },
   {
    "duration": 102,
    "start_time": "2022-06-23T18:48:53.591Z"
   },
   {
    "duration": 12,
    "start_time": "2022-06-23T18:48:53.708Z"
   },
   {
    "duration": 13,
    "start_time": "2022-06-23T18:48:53.722Z"
   },
   {
    "duration": 5,
    "start_time": "2022-06-23T18:48:53.736Z"
   },
   {
    "duration": 146,
    "start_time": "2022-06-23T18:48:53.746Z"
   },
   {
    "duration": 1738,
    "start_time": "2022-06-23T18:48:53.896Z"
   },
   {
    "duration": 19,
    "start_time": "2022-06-23T18:48:55.638Z"
   },
   {
    "duration": 44,
    "start_time": "2022-06-23T18:48:55.659Z"
   },
   {
    "duration": 25,
    "start_time": "2022-06-23T18:48:55.705Z"
   },
   {
    "duration": 61,
    "start_time": "2022-06-23T18:48:55.731Z"
   },
   {
    "duration": 21,
    "start_time": "2022-06-23T18:48:55.798Z"
   },
   {
    "duration": 34,
    "start_time": "2022-06-23T18:48:55.821Z"
   },
   {
    "duration": 49,
    "start_time": "2022-06-23T18:48:55.861Z"
   },
   {
    "duration": 9,
    "start_time": "2022-06-23T18:48:55.912Z"
   },
   {
    "duration": 60,
    "start_time": "2022-06-23T18:48:55.923Z"
   },
   {
    "duration": 8,
    "start_time": "2022-06-23T18:48:55.985Z"
   },
   {
    "duration": 25,
    "start_time": "2022-06-23T18:48:55.994Z"
   },
   {
    "duration": 13,
    "start_time": "2022-06-23T18:48:56.021Z"
   },
   {
    "duration": 21,
    "start_time": "2022-06-23T18:48:56.036Z"
   },
   {
    "duration": 151,
    "start_time": "2022-06-23T18:48:56.067Z"
   },
   {
    "duration": 10,
    "start_time": "2022-06-23T18:48:56.220Z"
   },
   {
    "duration": 8,
    "start_time": "2022-06-23T18:48:56.232Z"
   },
   {
    "duration": 86,
    "start_time": "2022-06-23T18:48:56.241Z"
   },
   {
    "duration": 107,
    "start_time": "2022-06-23T18:48:56.329Z"
   },
   {
    "duration": 20,
    "start_time": "2022-06-23T18:48:56.441Z"
   },
   {
    "duration": 51,
    "start_time": "2022-06-23T18:48:56.462Z"
   },
   {
    "duration": 714,
    "start_time": "2022-06-23T18:48:56.515Z"
   },
   {
    "duration": 30,
    "start_time": "2022-06-23T18:48:57.231Z"
   },
   {
    "duration": 66,
    "start_time": "2022-06-23T18:48:57.263Z"
   },
   {
    "duration": 48,
    "start_time": "2022-06-23T18:48:57.331Z"
   },
   {
    "duration": 33,
    "start_time": "2022-06-23T18:48:57.382Z"
   },
   {
    "duration": 193,
    "start_time": "2022-06-23T18:48:57.417Z"
   },
   {
    "duration": 10,
    "start_time": "2022-06-23T18:48:57.611Z"
   },
   {
    "duration": 13,
    "start_time": "2022-06-23T18:48:57.623Z"
   },
   {
    "duration": 191,
    "start_time": "2022-06-23T18:48:57.638Z"
   },
   {
    "duration": 19,
    "start_time": "2022-06-23T18:48:57.830Z"
   },
   {
    "duration": 49,
    "start_time": "2022-06-23T18:48:57.850Z"
   },
   {
    "duration": 9,
    "start_time": "2022-06-23T18:48:57.901Z"
   },
   {
    "duration": 7,
    "start_time": "2022-06-23T18:48:57.912Z"
   },
   {
    "duration": 46,
    "start_time": "2022-06-23T18:48:57.921Z"
   },
   {
    "duration": 5,
    "start_time": "2022-06-23T18:48:57.969Z"
   },
   {
    "duration": 529,
    "start_time": "2022-06-23T18:48:57.976Z"
   },
   {
    "duration": 38,
    "start_time": "2022-06-23T18:48:58.508Z"
   },
   {
    "duration": 377,
    "start_time": "2022-06-23T18:48:58.551Z"
   },
   {
    "duration": 29,
    "start_time": "2022-06-23T18:48:58.930Z"
   },
   {
    "duration": 262,
    "start_time": "2022-06-23T18:48:58.962Z"
   },
   {
    "duration": 36,
    "start_time": "2022-06-23T18:48:59.227Z"
   },
   {
    "duration": 247,
    "start_time": "2022-06-23T18:48:59.268Z"
   },
   {
    "duration": 10,
    "start_time": "2022-06-23T18:48:59.517Z"
   },
   {
    "duration": 327,
    "start_time": "2022-06-23T18:48:59.529Z"
   },
   {
    "duration": 11,
    "start_time": "2022-06-23T18:48:59.857Z"
   },
   {
    "duration": 223,
    "start_time": "2022-06-23T18:48:59.869Z"
   },
   {
    "duration": 18,
    "start_time": "2022-06-23T18:49:00.095Z"
   },
   {
    "duration": 394,
    "start_time": "2022-06-23T18:49:00.116Z"
   },
   {
    "duration": 10,
    "start_time": "2022-06-23T18:49:00.513Z"
   },
   {
    "duration": 212,
    "start_time": "2022-06-23T18:49:00.525Z"
   },
   {
    "duration": 15,
    "start_time": "2022-06-23T18:49:00.738Z"
   },
   {
    "duration": 200,
    "start_time": "2022-06-23T18:49:00.755Z"
   },
   {
    "duration": 25,
    "start_time": "2022-06-23T18:49:00.957Z"
   },
   {
    "duration": 262,
    "start_time": "2022-06-23T18:49:00.988Z"
   },
   {
    "duration": 21,
    "start_time": "2022-06-23T18:49:01.256Z"
   },
   {
    "duration": 40,
    "start_time": "2022-06-23T18:49:01.282Z"
   },
   {
    "duration": 320,
    "start_time": "2022-06-23T18:49:01.324Z"
   },
   {
    "duration": 15,
    "start_time": "2022-06-23T18:49:01.647Z"
   },
   {
    "duration": 198,
    "start_time": "2022-06-23T18:49:01.664Z"
   },
   {
    "duration": 14,
    "start_time": "2022-06-23T18:49:01.864Z"
   },
   {
    "duration": 50,
    "start_time": "2022-06-23T18:49:01.881Z"
   },
   {
    "duration": 320,
    "start_time": "2022-06-23T18:49:01.933Z"
   },
   {
    "duration": 12,
    "start_time": "2022-06-23T18:49:02.255Z"
   },
   {
    "duration": 247,
    "start_time": "2022-06-23T18:49:02.269Z"
   },
   {
    "duration": 11,
    "start_time": "2022-06-23T18:49:02.519Z"
   },
   {
    "duration": 197,
    "start_time": "2022-06-23T18:49:02.532Z"
   },
   {
    "duration": 13,
    "start_time": "2022-06-23T18:49:02.731Z"
   },
   {
    "duration": 353,
    "start_time": "2022-06-23T18:49:02.751Z"
   },
   {
    "duration": 13,
    "start_time": "2022-06-23T18:49:03.108Z"
   },
   {
    "duration": 227,
    "start_time": "2022-06-23T18:49:03.123Z"
   },
   {
    "duration": 16,
    "start_time": "2022-06-23T18:49:03.354Z"
   },
   {
    "duration": 101,
    "start_time": "2022-06-23T19:05:50.106Z"
   },
   {
    "duration": 12,
    "start_time": "2022-06-23T19:06:05.468Z"
   },
   {
    "duration": 13,
    "start_time": "2022-06-23T19:06:21.617Z"
   },
   {
    "duration": 31,
    "start_time": "2022-06-23T19:06:49.781Z"
   },
   {
    "duration": 7471,
    "start_time": "2022-06-23T19:08:44.991Z"
   },
   {
    "duration": 39,
    "start_time": "2022-06-23T19:17:25.367Z"
   },
   {
    "duration": 2563,
    "start_time": "2022-06-23T19:18:45.802Z"
   },
   {
    "duration": 2369,
    "start_time": "2022-06-23T19:19:02.580Z"
   },
   {
    "duration": 27,
    "start_time": "2022-06-23T19:20:00.089Z"
   },
   {
    "duration": 2609,
    "start_time": "2022-06-23T19:20:36.118Z"
   },
   {
    "duration": 2537,
    "start_time": "2022-06-23T19:21:04.482Z"
   },
   {
    "duration": 18,
    "start_time": "2022-06-23T19:21:18.110Z"
   },
   {
    "duration": 239,
    "start_time": "2022-06-23T19:21:36.075Z"
   },
   {
    "duration": 274,
    "start_time": "2022-06-23T19:21:56.905Z"
   },
   {
    "duration": 36,
    "start_time": "2022-06-23T19:23:01.871Z"
   },
   {
    "duration": 233,
    "start_time": "2022-06-23T19:23:15.519Z"
   },
   {
    "duration": 259,
    "start_time": "2022-06-23T19:23:30.805Z"
   },
   {
    "duration": 25,
    "start_time": "2022-06-23T19:28:19.492Z"
   },
   {
    "duration": 215,
    "start_time": "2022-06-23T19:28:47.740Z"
   },
   {
    "duration": 23,
    "start_time": "2022-06-23T19:29:59.386Z"
   },
   {
    "duration": 163,
    "start_time": "2022-06-23T19:33:00.233Z"
   },
   {
    "duration": 19,
    "start_time": "2022-06-23T19:34:49.914Z"
   },
   {
    "duration": 174,
    "start_time": "2022-06-23T19:51:18.089Z"
   },
   {
    "duration": 190,
    "start_time": "2022-06-23T19:52:17.038Z"
   },
   {
    "duration": 320,
    "start_time": "2022-06-23T19:52:29.025Z"
   },
   {
    "duration": 176,
    "start_time": "2022-06-23T19:52:39.873Z"
   },
   {
    "duration": 17,
    "start_time": "2022-06-23T19:53:06.122Z"
   },
   {
    "duration": 189,
    "start_time": "2022-06-23T19:55:08.582Z"
   },
   {
    "duration": 16,
    "start_time": "2022-06-23T19:56:25.104Z"
   },
   {
    "duration": 143,
    "start_time": "2022-06-23T19:57:45.867Z"
   },
   {
    "duration": 25,
    "start_time": "2022-06-23T19:58:24.249Z"
   },
   {
    "duration": 15,
    "start_time": "2022-06-23T19:58:54.606Z"
   },
   {
    "duration": 150,
    "start_time": "2022-06-23T19:59:33.112Z"
   },
   {
    "duration": 189,
    "start_time": "2022-06-23T20:03:25.466Z"
   },
   {
    "duration": 153,
    "start_time": "2022-06-23T20:06:47.663Z"
   },
   {
    "duration": 164,
    "start_time": "2022-06-23T20:09:02.187Z"
   },
   {
    "duration": 155,
    "start_time": "2022-06-23T20:09:18.475Z"
   },
   {
    "duration": 187,
    "start_time": "2022-06-23T20:24:48.041Z"
   },
   {
    "duration": 11,
    "start_time": "2022-06-23T20:36:06.415Z"
   },
   {
    "duration": 13,
    "start_time": "2022-06-23T20:36:47.982Z"
   },
   {
    "duration": 8,
    "start_time": "2022-06-23T20:36:51.858Z"
   },
   {
    "duration": 11,
    "start_time": "2022-06-23T20:37:06.360Z"
   },
   {
    "duration": 35,
    "start_time": "2022-06-23T20:39:26.642Z"
   },
   {
    "duration": 31,
    "start_time": "2022-06-23T20:39:42.947Z"
   },
   {
    "duration": 34,
    "start_time": "2022-06-23T20:40:33.336Z"
   },
   {
    "duration": 27,
    "start_time": "2022-06-23T20:40:45.577Z"
   },
   {
    "duration": 29,
    "start_time": "2022-06-23T20:41:12.394Z"
   },
   {
    "duration": 10,
    "start_time": "2022-06-23T20:41:35.947Z"
   },
   {
    "duration": 29,
    "start_time": "2022-06-23T20:41:43.181Z"
   },
   {
    "duration": 5,
    "start_time": "2022-06-23T20:41:46.122Z"
   },
   {
    "duration": 7,
    "start_time": "2022-06-23T20:42:27.186Z"
   },
   {
    "duration": 77,
    "start_time": "2022-06-23T20:44:10.638Z"
   },
   {
    "duration": 44,
    "start_time": "2022-06-23T20:45:01.769Z"
   },
   {
    "duration": 40,
    "start_time": "2022-06-23T20:45:58.826Z"
   },
   {
    "duration": 33,
    "start_time": "2022-06-23T20:46:07.662Z"
   },
   {
    "duration": 15,
    "start_time": "2022-06-23T20:46:21.634Z"
   },
   {
    "duration": 9,
    "start_time": "2022-06-23T20:46:38.462Z"
   },
   {
    "duration": 8,
    "start_time": "2022-06-23T20:47:36.125Z"
   },
   {
    "duration": 35,
    "start_time": "2022-06-23T20:47:41.238Z"
   },
   {
    "duration": 30,
    "start_time": "2022-06-23T20:47:58.181Z"
   },
   {
    "duration": 70,
    "start_time": "2022-06-23T20:48:37.103Z"
   },
   {
    "duration": 6,
    "start_time": "2022-06-23T20:48:47.333Z"
   },
   {
    "duration": 28,
    "start_time": "2022-06-23T20:48:54.458Z"
   },
   {
    "duration": 7,
    "start_time": "2022-06-23T20:49:09.638Z"
   },
   {
    "duration": 27,
    "start_time": "2022-06-23T20:49:12.387Z"
   },
   {
    "duration": 14,
    "start_time": "2022-06-23T20:49:28.778Z"
   },
   {
    "duration": 5,
    "start_time": "2022-06-23T20:49:41.780Z"
   },
   {
    "duration": 49,
    "start_time": "2022-06-23T20:49:43.917Z"
   },
   {
    "duration": 71,
    "start_time": "2022-06-23T20:50:04.245Z"
   },
   {
    "duration": 19,
    "start_time": "2022-06-23T20:52:09.804Z"
   },
   {
    "duration": 35,
    "start_time": "2022-06-23T20:52:16.029Z"
   },
   {
    "duration": 30,
    "start_time": "2022-06-23T20:52:55.225Z"
   },
   {
    "duration": 22,
    "start_time": "2022-06-23T20:55:13.215Z"
   },
   {
    "duration": 8,
    "start_time": "2022-06-23T20:55:26.870Z"
   },
   {
    "duration": 23,
    "start_time": "2022-06-23T20:55:28.764Z"
   },
   {
    "duration": 10,
    "start_time": "2022-06-23T20:55:34.858Z"
   },
   {
    "duration": 23,
    "start_time": "2022-06-23T20:55:36.405Z"
   },
   {
    "duration": 6,
    "start_time": "2022-06-23T20:56:08.881Z"
   },
   {
    "duration": 22,
    "start_time": "2022-06-23T20:56:10.518Z"
   },
   {
    "duration": 6,
    "start_time": "2022-06-23T20:56:13.267Z"
   },
   {
    "duration": 14,
    "start_time": "2022-06-23T20:56:20.536Z"
   },
   {
    "duration": 9,
    "start_time": "2022-06-23T21:26:50.515Z"
   },
   {
    "duration": 8,
    "start_time": "2022-06-23T21:26:54.701Z"
   },
   {
    "duration": 6,
    "start_time": "2022-06-23T21:26:56.713Z"
   },
   {
    "duration": 20,
    "start_time": "2022-06-23T21:32:13.658Z"
   },
   {
    "duration": 168,
    "start_time": "2022-06-23T21:33:39.913Z"
   },
   {
    "duration": 190,
    "start_time": "2022-06-23T21:34:21.291Z"
   },
   {
    "duration": 29,
    "start_time": "2022-06-23T21:35:11.926Z"
   },
   {
    "duration": 20,
    "start_time": "2022-06-23T21:35:17.562Z"
   },
   {
    "duration": 169,
    "start_time": "2022-06-23T21:36:53.057Z"
   },
   {
    "duration": 177,
    "start_time": "2022-06-23T21:39:11.185Z"
   },
   {
    "duration": 182,
    "start_time": "2022-06-23T21:39:47.754Z"
   },
   {
    "duration": 276,
    "start_time": "2022-06-23T21:41:39.892Z"
   },
   {
    "duration": 181,
    "start_time": "2022-06-23T21:44:05.926Z"
   },
   {
    "duration": 10,
    "start_time": "2022-06-23T21:44:13.686Z"
   },
   {
    "duration": 7,
    "start_time": "2022-06-23T21:44:15.761Z"
   },
   {
    "duration": 175,
    "start_time": "2022-06-23T21:44:18.111Z"
   },
   {
    "duration": 173,
    "start_time": "2022-06-23T21:45:04.133Z"
   },
   {
    "duration": 4,
    "start_time": "2022-06-23T21:47:08.970Z"
   },
   {
    "duration": 9,
    "start_time": "2022-06-23T21:54:14.890Z"
   },
   {
    "duration": 4,
    "start_time": "2022-06-23T21:54:31.207Z"
   },
   {
    "duration": 98,
    "start_time": "2022-06-23T21:54:38.684Z"
   },
   {
    "duration": 110,
    "start_time": "2022-06-23T21:54:54.122Z"
   },
   {
    "duration": 119,
    "start_time": "2022-06-23T21:55:15.419Z"
   },
   {
    "duration": 94,
    "start_time": "2022-06-23T21:55:25.931Z"
   },
   {
    "duration": 99,
    "start_time": "2022-06-23T21:55:44.049Z"
   },
   {
    "duration": 4,
    "start_time": "2022-06-23T21:55:52.118Z"
   },
   {
    "duration": 14,
    "start_time": "2022-06-23T21:56:09.995Z"
   },
   {
    "duration": 9142,
    "start_time": "2022-06-23T21:56:14.542Z"
   },
   {
    "duration": 11450,
    "start_time": "2022-06-23T22:00:04.166Z"
   },
   {
    "duration": 10989,
    "start_time": "2022-06-23T22:00:23.887Z"
   },
   {
    "duration": 10297,
    "start_time": "2022-06-23T22:00:41.891Z"
   },
   {
    "duration": 79,
    "start_time": "2022-06-23T22:01:22.705Z"
   },
   {
    "duration": 10767,
    "start_time": "2022-06-23T22:01:28.106Z"
   },
   {
    "duration": 135,
    "start_time": "2022-06-23T22:05:25.195Z"
   },
   {
    "duration": 8072,
    "start_time": "2022-06-23T22:05:38.595Z"
   },
   {
    "duration": 89275,
    "start_time": "2022-06-23T22:08:59.332Z"
   },
   {
    "duration": 28,
    "start_time": "2022-06-23T22:12:55.732Z"
   },
   {
    "duration": 775,
    "start_time": "2022-06-24T04:16:59.040Z"
   },
   {
    "duration": 291,
    "start_time": "2022-06-24T04:16:59.817Z"
   },
   {
    "duration": 15,
    "start_time": "2022-06-24T04:17:00.110Z"
   },
   {
    "duration": 61,
    "start_time": "2022-06-24T04:17:00.127Z"
   },
   {
    "duration": 74,
    "start_time": "2022-06-24T04:17:00.190Z"
   },
   {
    "duration": 8,
    "start_time": "2022-06-24T04:17:00.265Z"
   },
   {
    "duration": 26,
    "start_time": "2022-06-24T04:17:00.275Z"
   },
   {
    "duration": 11,
    "start_time": "2022-06-24T04:17:00.303Z"
   },
   {
    "duration": 89,
    "start_time": "2022-06-24T04:17:00.315Z"
   },
   {
    "duration": 1199,
    "start_time": "2022-06-24T04:17:00.407Z"
   },
   {
    "duration": 10,
    "start_time": "2022-06-24T04:17:01.607Z"
   },
   {
    "duration": 6,
    "start_time": "2022-06-24T04:17:01.626Z"
   },
   {
    "duration": 29,
    "start_time": "2022-06-24T04:17:01.633Z"
   },
   {
    "duration": 38,
    "start_time": "2022-06-24T04:17:01.664Z"
   },
   {
    "duration": 10,
    "start_time": "2022-06-24T04:17:01.703Z"
   },
   {
    "duration": 34,
    "start_time": "2022-06-24T04:17:01.715Z"
   },
   {
    "duration": 72,
    "start_time": "2022-06-24T04:17:01.751Z"
   },
   {
    "duration": 9,
    "start_time": "2022-06-24T04:17:01.825Z"
   },
   {
    "duration": 39,
    "start_time": "2022-06-24T04:17:01.835Z"
   },
   {
    "duration": 4,
    "start_time": "2022-06-24T04:17:01.876Z"
   },
   {
    "duration": 56,
    "start_time": "2022-06-24T04:17:01.881Z"
   },
   {
    "duration": 36,
    "start_time": "2022-06-24T04:17:01.939Z"
   },
   {
    "duration": 15,
    "start_time": "2022-06-24T04:17:01.977Z"
   },
   {
    "duration": 107,
    "start_time": "2022-06-24T04:17:01.994Z"
   },
   {
    "duration": 10,
    "start_time": "2022-06-24T04:17:02.103Z"
   },
   {
    "duration": 29,
    "start_time": "2022-06-24T04:17:02.114Z"
   },
   {
    "duration": 71,
    "start_time": "2022-06-24T04:17:02.145Z"
   },
   {
    "duration": 64,
    "start_time": "2022-06-24T04:17:02.221Z"
   },
   {
    "duration": 10,
    "start_time": "2022-06-24T04:17:02.286Z"
   },
   {
    "duration": 16,
    "start_time": "2022-06-24T04:17:02.298Z"
   },
   {
    "duration": 265,
    "start_time": "2022-06-24T04:17:02.315Z"
   },
   {
    "duration": 9,
    "start_time": "2022-06-24T04:17:02.582Z"
   },
   {
    "duration": 21,
    "start_time": "2022-06-24T04:17:02.594Z"
   },
   {
    "duration": 14,
    "start_time": "2022-06-24T04:17:02.617Z"
   },
   {
    "duration": 15,
    "start_time": "2022-06-24T04:17:02.632Z"
   },
   {
    "duration": 143,
    "start_time": "2022-06-24T04:17:02.649Z"
   },
   {
    "duration": 7,
    "start_time": "2022-06-24T04:17:02.794Z"
   },
   {
    "duration": 12,
    "start_time": "2022-06-24T04:17:02.803Z"
   },
   {
    "duration": 145,
    "start_time": "2022-06-24T04:17:02.816Z"
   },
   {
    "duration": 8,
    "start_time": "2022-06-24T04:17:02.963Z"
   },
   {
    "duration": 9,
    "start_time": "2022-06-24T04:17:02.973Z"
   },
   {
    "duration": 18,
    "start_time": "2022-06-24T04:17:02.983Z"
   },
   {
    "duration": 9,
    "start_time": "2022-06-24T04:17:03.003Z"
   },
   {
    "duration": 33,
    "start_time": "2022-06-24T04:17:03.014Z"
   },
   {
    "duration": 4,
    "start_time": "2022-06-24T04:17:03.048Z"
   },
   {
    "duration": 401,
    "start_time": "2022-06-24T04:17:03.054Z"
   },
   {
    "duration": 27,
    "start_time": "2022-06-24T04:17:03.456Z"
   },
   {
    "duration": 280,
    "start_time": "2022-06-24T04:17:03.485Z"
   },
   {
    "duration": 9,
    "start_time": "2022-06-24T04:17:03.768Z"
   },
   {
    "duration": 219,
    "start_time": "2022-06-24T04:17:03.778Z"
   },
   {
    "duration": 9,
    "start_time": "2022-06-24T04:17:03.999Z"
   },
   {
    "duration": 209,
    "start_time": "2022-06-24T04:17:04.009Z"
   },
   {
    "duration": 13,
    "start_time": "2022-06-24T04:17:04.219Z"
   },
   {
    "duration": 253,
    "start_time": "2022-06-24T04:17:04.234Z"
   },
   {
    "duration": 11,
    "start_time": "2022-06-24T04:17:04.490Z"
   },
   {
    "duration": 177,
    "start_time": "2022-06-24T04:17:04.503Z"
   },
   {
    "duration": 9,
    "start_time": "2022-06-24T04:17:04.682Z"
   },
   {
    "duration": 301,
    "start_time": "2022-06-24T04:17:04.693Z"
   },
   {
    "duration": 11,
    "start_time": "2022-06-24T04:17:04.996Z"
   },
   {
    "duration": 156,
    "start_time": "2022-06-24T04:17:05.009Z"
   },
   {
    "duration": 8,
    "start_time": "2022-06-24T04:17:05.167Z"
   },
   {
    "duration": 141,
    "start_time": "2022-06-24T04:17:05.177Z"
   },
   {
    "duration": 14,
    "start_time": "2022-06-24T04:17:05.327Z"
   },
   {
    "duration": 220,
    "start_time": "2022-06-24T04:17:05.343Z"
   },
   {
    "duration": 9,
    "start_time": "2022-06-24T04:17:05.565Z"
   },
   {
    "duration": 29,
    "start_time": "2022-06-24T04:17:05.575Z"
   },
   {
    "duration": 244,
    "start_time": "2022-06-24T04:17:05.606Z"
   },
   {
    "duration": 9,
    "start_time": "2022-06-24T04:17:05.852Z"
   },
   {
    "duration": 136,
    "start_time": "2022-06-24T04:17:05.862Z"
   },
   {
    "duration": 9,
    "start_time": "2022-06-24T04:17:06.000Z"
   },
   {
    "duration": 49,
    "start_time": "2022-06-24T04:17:06.010Z"
   },
   {
    "duration": 279,
    "start_time": "2022-06-24T04:17:06.060Z"
   },
   {
    "duration": 10,
    "start_time": "2022-06-24T04:17:06.341Z"
   },
   {
    "duration": 166,
    "start_time": "2022-06-24T04:17:06.353Z"
   },
   {
    "duration": 10,
    "start_time": "2022-06-24T04:17:06.520Z"
   },
   {
    "duration": 153,
    "start_time": "2022-06-24T04:17:06.532Z"
   },
   {
    "duration": 8,
    "start_time": "2022-06-24T04:17:06.687Z"
   },
   {
    "duration": 241,
    "start_time": "2022-06-24T04:17:06.696Z"
   },
   {
    "duration": 10,
    "start_time": "2022-06-24T04:17:06.939Z"
   },
   {
    "duration": 158,
    "start_time": "2022-06-24T04:17:06.950Z"
   },
   {
    "duration": 22,
    "start_time": "2022-06-24T04:17:07.110Z"
   },
   {
    "duration": 178,
    "start_time": "2022-06-24T04:17:07.137Z"
   },
   {
    "duration": 23,
    "start_time": "2022-06-24T04:17:07.316Z"
   },
   {
    "duration": 161,
    "start_time": "2022-06-24T04:17:07.340Z"
   },
   {
    "duration": 31,
    "start_time": "2022-06-24T04:17:07.502Z"
   },
   {
    "duration": 153,
    "start_time": "2022-06-24T04:17:07.535Z"
   },
   {
    "duration": 16,
    "start_time": "2022-06-24T04:17:07.690Z"
   },
   {
    "duration": 161,
    "start_time": "2022-06-24T04:17:07.708Z"
   },
   {
    "duration": 14,
    "start_time": "2022-06-24T04:17:07.871Z"
   },
   {
    "duration": 143,
    "start_time": "2022-06-24T04:17:07.886Z"
   },
   {
    "duration": 141,
    "start_time": "2022-06-24T04:17:08.030Z"
   },
   {
    "duration": 137,
    "start_time": "2022-06-24T04:17:08.173Z"
   },
   {
    "duration": 147,
    "start_time": "2022-06-24T04:17:08.311Z"
   },
   {
    "duration": 7,
    "start_time": "2022-06-24T04:17:08.460Z"
   },
   {
    "duration": 27,
    "start_time": "2022-06-24T04:17:08.469Z"
   },
   {
    "duration": 8,
    "start_time": "2022-06-24T04:17:08.497Z"
   },
   {
    "duration": 22,
    "start_time": "2022-06-24T04:17:08.506Z"
   },
   {
    "duration": 14,
    "start_time": "2022-06-24T04:17:08.529Z"
   },
   {
    "duration": 8010,
    "start_time": "2022-06-24T04:17:08.544Z"
   },
   {
    "duration": 4,
    "start_time": "2022-06-24T04:31:05.308Z"
   },
   {
    "duration": 135,
    "start_time": "2022-06-24T06:13:06.431Z"
   },
   {
    "duration": 142,
    "start_time": "2022-06-24T06:24:02.760Z"
   },
   {
    "duration": 74,
    "start_time": "2022-06-24T07:46:20.874Z"
   },
   {
    "duration": 44,
    "start_time": "2022-06-24T07:52:40.858Z"
   },
   {
    "duration": 913,
    "start_time": "2022-06-24T07:52:47.241Z"
   },
   {
    "duration": 726,
    "start_time": "2022-06-24T07:52:48.156Z"
   },
   {
    "duration": 18,
    "start_time": "2022-06-24T07:52:48.884Z"
   },
   {
    "duration": 59,
    "start_time": "2022-06-24T07:52:48.903Z"
   },
   {
    "duration": 95,
    "start_time": "2022-06-24T07:52:48.965Z"
   },
   {
    "duration": 2244,
    "start_time": "2022-06-24T07:52:49.062Z"
   },
   {
    "duration": 12,
    "start_time": "2022-06-24T07:52:51.308Z"
   },
   {
    "duration": 20,
    "start_time": "2022-06-24T07:52:51.322Z"
   },
   {
    "duration": 29,
    "start_time": "2022-06-24T07:52:51.344Z"
   },
   {
    "duration": 86,
    "start_time": "2022-06-24T07:52:51.374Z"
   },
   {
    "duration": 1576,
    "start_time": "2022-06-24T07:52:51.462Z"
   },
   {
    "duration": 15,
    "start_time": "2022-06-24T07:52:53.045Z"
   },
   {
    "duration": 8,
    "start_time": "2022-06-24T07:52:53.062Z"
   },
   {
    "duration": 23,
    "start_time": "2022-06-24T07:52:53.073Z"
   },
   {
    "duration": 35,
    "start_time": "2022-06-24T07:52:53.097Z"
   },
   {
    "duration": 23,
    "start_time": "2022-06-24T07:52:53.133Z"
   },
   {
    "duration": 35,
    "start_time": "2022-06-24T07:52:53.158Z"
   },
   {
    "duration": 45,
    "start_time": "2022-06-24T07:52:53.195Z"
   },
   {
    "duration": 12,
    "start_time": "2022-06-24T07:52:53.253Z"
   },
   {
    "duration": 43,
    "start_time": "2022-06-24T07:52:53.266Z"
   },
   {
    "duration": 3,
    "start_time": "2022-06-24T07:52:53.311Z"
   },
   {
    "duration": 17,
    "start_time": "2022-06-24T07:52:53.316Z"
   },
   {
    "duration": 26,
    "start_time": "2022-06-24T07:52:53.335Z"
   },
   {
    "duration": 20,
    "start_time": "2022-06-24T07:52:53.362Z"
   },
   {
    "duration": 92,
    "start_time": "2022-06-24T07:52:53.383Z"
   },
   {
    "duration": 10,
    "start_time": "2022-06-24T07:52:53.477Z"
   },
   {
    "duration": 8,
    "start_time": "2022-06-24T07:52:53.488Z"
   },
   {
    "duration": 38,
    "start_time": "2022-06-24T07:52:53.498Z"
   },
   {
    "duration": 74,
    "start_time": "2022-06-24T07:52:53.537Z"
   },
   {
    "duration": 21,
    "start_time": "2022-06-24T07:52:53.613Z"
   },
   {
    "duration": 12,
    "start_time": "2022-06-24T07:52:59.050Z"
   },
   {
    "duration": 58,
    "start_time": "2022-06-24T07:57:06.121Z"
   },
   {
    "duration": 35,
    "start_time": "2022-06-24T07:59:15.082Z"
   },
   {
    "duration": 165,
    "start_time": "2022-06-24T08:07:02.120Z"
   },
   {
    "duration": 275,
    "start_time": "2022-06-24T08:07:33.180Z"
   },
   {
    "duration": 266,
    "start_time": "2022-06-24T08:07:52.234Z"
   },
   {
    "duration": 447,
    "start_time": "2022-06-24T08:08:04.207Z"
   },
   {
    "duration": 207,
    "start_time": "2022-06-24T08:08:16.022Z"
   },
   {
    "duration": 213,
    "start_time": "2022-06-24T08:09:31.672Z"
   },
   {
    "duration": 192,
    "start_time": "2022-06-24T08:10:02.724Z"
   },
   {
    "duration": 193,
    "start_time": "2022-06-24T08:10:45.917Z"
   },
   {
    "duration": 9,
    "start_time": "2022-06-24T08:12:49.205Z"
   },
   {
    "duration": 9,
    "start_time": "2022-06-24T08:13:02.163Z"
   },
   {
    "duration": 52,
    "start_time": "2022-06-24T08:20:31.669Z"
   },
   {
    "duration": 77,
    "start_time": "2022-06-24T08:22:19.648Z"
   },
   {
    "duration": 61,
    "start_time": "2022-06-24T08:22:24.290Z"
   },
   {
    "duration": 58,
    "start_time": "2022-06-24T08:22:45.700Z"
   },
   {
    "duration": 49,
    "start_time": "2022-06-24T08:23:37.118Z"
   },
   {
    "duration": 44,
    "start_time": "2022-06-24T08:23:50.224Z"
   },
   {
    "duration": 29,
    "start_time": "2022-06-24T08:24:12.188Z"
   },
   {
    "duration": 11,
    "start_time": "2022-06-24T08:24:48.267Z"
   },
   {
    "duration": 49,
    "start_time": "2022-06-24T08:26:22.270Z"
   },
   {
    "duration": 48,
    "start_time": "2022-06-24T08:30:25.259Z"
   },
   {
    "duration": 3,
    "start_time": "2022-06-24T08:48:45.731Z"
   },
   {
    "duration": 97,
    "start_time": "2022-06-24T08:48:45.745Z"
   },
   {
    "duration": 15,
    "start_time": "2022-06-24T08:48:45.844Z"
   },
   {
    "duration": 36,
    "start_time": "2022-06-24T08:48:45.860Z"
   },
   {
    "duration": 89,
    "start_time": "2022-06-24T08:48:45.897Z"
   },
   {
    "duration": 1959,
    "start_time": "2022-06-24T08:48:45.988Z"
   },
   {
    "duration": 10,
    "start_time": "2022-06-24T08:48:47.949Z"
   },
   {
    "duration": 13,
    "start_time": "2022-06-24T08:48:47.961Z"
   },
   {
    "duration": 4,
    "start_time": "2022-06-24T08:48:47.975Z"
   },
   {
    "duration": 86,
    "start_time": "2022-06-24T08:48:47.980Z"
   },
   {
    "duration": 1327,
    "start_time": "2022-06-24T08:48:48.068Z"
   },
   {
    "duration": 10,
    "start_time": "2022-06-24T08:48:49.397Z"
   },
   {
    "duration": 4,
    "start_time": "2022-06-24T08:48:49.409Z"
   },
   {
    "duration": 22,
    "start_time": "2022-06-24T08:48:49.426Z"
   },
   {
    "duration": 32,
    "start_time": "2022-06-24T08:48:49.451Z"
   },
   {
    "duration": 9,
    "start_time": "2022-06-24T08:48:49.485Z"
   },
   {
    "duration": 39,
    "start_time": "2022-06-24T08:48:49.495Z"
   },
   {
    "duration": 32,
    "start_time": "2022-06-24T08:48:49.536Z"
   },
   {
    "duration": 9,
    "start_time": "2022-06-24T08:48:49.570Z"
   },
   {
    "duration": 62,
    "start_time": "2022-06-24T08:48:49.580Z"
   },
   {
    "duration": 3,
    "start_time": "2022-06-24T08:48:49.644Z"
   },
   {
    "duration": 13,
    "start_time": "2022-06-24T08:48:49.649Z"
   },
   {
    "duration": 11,
    "start_time": "2022-06-24T08:48:49.664Z"
   },
   {
    "duration": 12,
    "start_time": "2022-06-24T08:48:55.378Z"
   },
   {
    "duration": 8,
    "start_time": "2022-06-24T08:49:19.776Z"
   },
   {
    "duration": 12,
    "start_time": "2022-06-24T09:11:17.556Z"
   },
   {
    "duration": 277,
    "start_time": "2022-06-24T09:28:02.380Z"
   },
   {
    "duration": 257,
    "start_time": "2022-06-24T09:28:52.289Z"
   },
   {
    "duration": 665,
    "start_time": "2022-06-24T10:16:50.546Z"
   },
   {
    "duration": 107,
    "start_time": "2022-06-24T10:16:51.213Z"
   },
   {
    "duration": 16,
    "start_time": "2022-06-24T10:16:51.322Z"
   },
   {
    "duration": 35,
    "start_time": "2022-06-24T10:16:51.340Z"
   },
   {
    "duration": 91,
    "start_time": "2022-06-24T10:16:51.378Z"
   },
   {
    "duration": 2155,
    "start_time": "2022-06-24T10:16:51.471Z"
   },
   {
    "duration": 10,
    "start_time": "2022-06-24T10:16:53.628Z"
   },
   {
    "duration": 11,
    "start_time": "2022-06-24T10:16:53.640Z"
   },
   {
    "duration": 3,
    "start_time": "2022-06-24T10:16:53.653Z"
   },
   {
    "duration": 98,
    "start_time": "2022-06-24T10:16:53.657Z"
   },
   {
    "duration": 1399,
    "start_time": "2022-06-24T10:16:53.757Z"
   },
   {
    "duration": 9,
    "start_time": "2022-06-24T10:16:55.158Z"
   },
   {
    "duration": 4,
    "start_time": "2022-06-24T10:16:55.169Z"
   },
   {
    "duration": 18,
    "start_time": "2022-06-24T10:16:55.176Z"
   },
   {
    "duration": 66,
    "start_time": "2022-06-24T10:16:55.195Z"
   },
   {
    "duration": 11,
    "start_time": "2022-06-24T10:16:55.263Z"
   },
   {
    "duration": 32,
    "start_time": "2022-06-24T10:16:55.276Z"
   },
   {
    "duration": 43,
    "start_time": "2022-06-24T10:16:55.310Z"
   },
   {
    "duration": 10,
    "start_time": "2022-06-24T10:16:55.355Z"
   },
   {
    "duration": 40,
    "start_time": "2022-06-24T10:16:55.367Z"
   },
   {
    "duration": 19,
    "start_time": "2022-06-24T10:16:55.409Z"
   },
   {
    "duration": 17,
    "start_time": "2022-06-24T10:16:55.430Z"
   },
   {
    "duration": 11,
    "start_time": "2022-06-24T10:16:55.449Z"
   },
   {
    "duration": 9,
    "start_time": "2022-06-24T10:16:55.461Z"
   },
   {
    "duration": 48,
    "start_time": "2022-06-24T10:16:55.472Z"
   },
   {
    "duration": 0,
    "start_time": "2022-06-24T10:16:55.523Z"
   },
   {
    "duration": 0,
    "start_time": "2022-06-24T10:16:55.524Z"
   },
   {
    "duration": 0,
    "start_time": "2022-06-24T10:16:55.525Z"
   },
   {
    "duration": 0,
    "start_time": "2022-06-24T10:16:55.526Z"
   },
   {
    "duration": 0,
    "start_time": "2022-06-24T10:16:55.527Z"
   },
   {
    "duration": 0,
    "start_time": "2022-06-24T10:16:55.528Z"
   },
   {
    "duration": 0,
    "start_time": "2022-06-24T10:16:55.529Z"
   },
   {
    "duration": 0,
    "start_time": "2022-06-24T10:16:55.530Z"
   },
   {
    "duration": 0,
    "start_time": "2022-06-24T10:16:55.531Z"
   },
   {
    "duration": 0,
    "start_time": "2022-06-24T10:16:55.532Z"
   },
   {
    "duration": 0,
    "start_time": "2022-06-24T10:16:55.533Z"
   },
   {
    "duration": 0,
    "start_time": "2022-06-24T10:16:55.534Z"
   },
   {
    "duration": 0,
    "start_time": "2022-06-24T10:16:55.535Z"
   },
   {
    "duration": 0,
    "start_time": "2022-06-24T10:16:55.536Z"
   },
   {
    "duration": 0,
    "start_time": "2022-06-24T10:16:55.537Z"
   },
   {
    "duration": 0,
    "start_time": "2022-06-24T10:16:55.538Z"
   },
   {
    "duration": 0,
    "start_time": "2022-06-24T10:16:55.539Z"
   },
   {
    "duration": 0,
    "start_time": "2022-06-24T10:16:55.540Z"
   },
   {
    "duration": 0,
    "start_time": "2022-06-24T10:16:55.541Z"
   },
   {
    "duration": 0,
    "start_time": "2022-06-24T10:16:55.542Z"
   },
   {
    "duration": 0,
    "start_time": "2022-06-24T10:16:55.543Z"
   },
   {
    "duration": 0,
    "start_time": "2022-06-24T10:16:55.544Z"
   },
   {
    "duration": 0,
    "start_time": "2022-06-24T10:16:55.546Z"
   },
   {
    "duration": 0,
    "start_time": "2022-06-24T10:16:55.547Z"
   },
   {
    "duration": 0,
    "start_time": "2022-06-24T10:16:55.547Z"
   },
   {
    "duration": 0,
    "start_time": "2022-06-24T10:16:55.549Z"
   },
   {
    "duration": 0,
    "start_time": "2022-06-24T10:16:55.550Z"
   },
   {
    "duration": 0,
    "start_time": "2022-06-24T10:16:55.551Z"
   },
   {
    "duration": 0,
    "start_time": "2022-06-24T10:16:55.552Z"
   },
   {
    "duration": 0,
    "start_time": "2022-06-24T10:16:55.553Z"
   },
   {
    "duration": 0,
    "start_time": "2022-06-24T10:16:55.554Z"
   },
   {
    "duration": 0,
    "start_time": "2022-06-24T10:16:55.555Z"
   },
   {
    "duration": 0,
    "start_time": "2022-06-24T10:16:55.556Z"
   },
   {
    "duration": 0,
    "start_time": "2022-06-24T10:16:55.557Z"
   },
   {
    "duration": 0,
    "start_time": "2022-06-24T10:16:55.558Z"
   },
   {
    "duration": 0,
    "start_time": "2022-06-24T10:16:55.559Z"
   },
   {
    "duration": 0,
    "start_time": "2022-06-24T10:16:55.560Z"
   },
   {
    "duration": 0,
    "start_time": "2022-06-24T10:16:55.561Z"
   },
   {
    "duration": 0,
    "start_time": "2022-06-24T10:16:55.562Z"
   },
   {
    "duration": 0,
    "start_time": "2022-06-24T10:16:55.563Z"
   },
   {
    "duration": 0,
    "start_time": "2022-06-24T10:16:55.564Z"
   },
   {
    "duration": 0,
    "start_time": "2022-06-24T10:16:55.627Z"
   },
   {
    "duration": 0,
    "start_time": "2022-06-24T10:16:55.628Z"
   },
   {
    "duration": 0,
    "start_time": "2022-06-24T10:16:55.629Z"
   },
   {
    "duration": 0,
    "start_time": "2022-06-24T10:16:55.630Z"
   },
   {
    "duration": 0,
    "start_time": "2022-06-24T10:16:55.630Z"
   },
   {
    "duration": 0,
    "start_time": "2022-06-24T10:16:55.632Z"
   },
   {
    "duration": 0,
    "start_time": "2022-06-24T10:16:55.633Z"
   },
   {
    "duration": 0,
    "start_time": "2022-06-24T10:16:55.634Z"
   },
   {
    "duration": 0,
    "start_time": "2022-06-24T10:16:55.635Z"
   },
   {
    "duration": 0,
    "start_time": "2022-06-24T10:16:55.636Z"
   },
   {
    "duration": 0,
    "start_time": "2022-06-24T10:16:55.637Z"
   },
   {
    "duration": 0,
    "start_time": "2022-06-24T10:16:55.638Z"
   },
   {
    "duration": 0,
    "start_time": "2022-06-24T10:16:55.639Z"
   },
   {
    "duration": 0,
    "start_time": "2022-06-24T10:16:55.639Z"
   },
   {
    "duration": 0,
    "start_time": "2022-06-24T10:16:55.640Z"
   },
   {
    "duration": 0,
    "start_time": "2022-06-24T10:16:55.641Z"
   },
   {
    "duration": 0,
    "start_time": "2022-06-24T10:16:55.642Z"
   },
   {
    "duration": 0,
    "start_time": "2022-06-24T10:16:55.643Z"
   },
   {
    "duration": 0,
    "start_time": "2022-06-24T10:16:55.644Z"
   },
   {
    "duration": 0,
    "start_time": "2022-06-24T10:16:55.645Z"
   },
   {
    "duration": 0,
    "start_time": "2022-06-24T10:16:55.646Z"
   },
   {
    "duration": 0,
    "start_time": "2022-06-24T10:16:55.647Z"
   },
   {
    "duration": 0,
    "start_time": "2022-06-24T10:16:55.648Z"
   },
   {
    "duration": 0,
    "start_time": "2022-06-24T10:16:55.649Z"
   },
   {
    "duration": 0,
    "start_time": "2022-06-24T10:16:55.650Z"
   },
   {
    "duration": 0,
    "start_time": "2022-06-24T10:16:55.651Z"
   },
   {
    "duration": 0,
    "start_time": "2022-06-24T10:16:55.652Z"
   },
   {
    "duration": 0,
    "start_time": "2022-06-24T10:16:55.653Z"
   },
   {
    "duration": 0,
    "start_time": "2022-06-24T10:16:55.654Z"
   },
   {
    "duration": 0,
    "start_time": "2022-06-24T10:16:55.655Z"
   },
   {
    "duration": 0,
    "start_time": "2022-06-24T10:16:55.656Z"
   },
   {
    "duration": 0,
    "start_time": "2022-06-24T10:16:55.657Z"
   },
   {
    "duration": 0,
    "start_time": "2022-06-24T10:16:55.658Z"
   },
   {
    "duration": 0,
    "start_time": "2022-06-24T10:16:55.659Z"
   },
   {
    "duration": 0,
    "start_time": "2022-06-24T10:16:55.660Z"
   },
   {
    "duration": 0,
    "start_time": "2022-06-24T10:16:55.661Z"
   },
   {
    "duration": 0,
    "start_time": "2022-06-24T10:16:55.662Z"
   },
   {
    "duration": 0,
    "start_time": "2022-06-24T10:16:55.663Z"
   },
   {
    "duration": 0,
    "start_time": "2022-06-24T10:16:55.664Z"
   },
   {
    "duration": 0,
    "start_time": "2022-06-24T10:16:55.726Z"
   },
   {
    "duration": 3,
    "start_time": "2022-06-24T10:17:50.612Z"
   },
   {
    "duration": 105,
    "start_time": "2022-06-24T10:17:50.617Z"
   },
   {
    "duration": 16,
    "start_time": "2022-06-24T10:17:50.724Z"
   },
   {
    "duration": 37,
    "start_time": "2022-06-24T10:17:50.741Z"
   },
   {
    "duration": 108,
    "start_time": "2022-06-24T10:17:50.781Z"
   },
   {
    "duration": 2044,
    "start_time": "2022-06-24T10:17:50.891Z"
   },
   {
    "duration": 10,
    "start_time": "2022-06-24T10:17:52.937Z"
   },
   {
    "duration": 14,
    "start_time": "2022-06-24T10:17:52.949Z"
   },
   {
    "duration": 4,
    "start_time": "2022-06-24T10:17:52.964Z"
   },
   {
    "duration": 91,
    "start_time": "2022-06-24T10:17:52.969Z"
   },
   {
    "duration": 1336,
    "start_time": "2022-06-24T10:17:53.063Z"
   },
   {
    "duration": 12,
    "start_time": "2022-06-24T10:17:54.401Z"
   },
   {
    "duration": 19,
    "start_time": "2022-06-24T10:17:54.414Z"
   },
   {
    "duration": 33,
    "start_time": "2022-06-24T10:17:54.435Z"
   },
   {
    "duration": 42,
    "start_time": "2022-06-24T10:17:54.471Z"
   },
   {
    "duration": 21,
    "start_time": "2022-06-24T10:17:54.515Z"
   },
   {
    "duration": 35,
    "start_time": "2022-06-24T10:17:54.538Z"
   },
   {
    "duration": 59,
    "start_time": "2022-06-24T10:17:54.576Z"
   },
   {
    "duration": 14,
    "start_time": "2022-06-24T10:17:54.637Z"
   },
   {
    "duration": 51,
    "start_time": "2022-06-24T10:17:54.653Z"
   },
   {
    "duration": 21,
    "start_time": "2022-06-24T10:17:54.706Z"
   },
   {
    "duration": 15,
    "start_time": "2022-06-24T10:17:54.728Z"
   },
   {
    "duration": 12,
    "start_time": "2022-06-24T10:17:54.745Z"
   },
   {
    "duration": 9,
    "start_time": "2022-06-24T10:17:54.758Z"
   },
   {
    "duration": 8,
    "start_time": "2022-06-24T10:17:54.768Z"
   },
   {
    "duration": 18,
    "start_time": "2022-06-24T10:17:54.777Z"
   },
   {
    "duration": 101,
    "start_time": "2022-06-24T10:17:54.797Z"
   },
   {
    "duration": 10,
    "start_time": "2022-06-24T10:17:54.900Z"
   },
   {
    "duration": 10,
    "start_time": "2022-06-24T10:17:54.927Z"
   },
   {
    "duration": 28,
    "start_time": "2022-06-24T10:17:54.938Z"
   },
   {
    "duration": 3,
    "start_time": "2022-06-24T10:17:54.967Z"
   },
   {
    "duration": 76,
    "start_time": "2022-06-24T10:17:54.971Z"
   },
   {
    "duration": 11,
    "start_time": "2022-06-24T10:17:55.048Z"
   },
   {
    "duration": 22,
    "start_time": "2022-06-24T10:17:55.061Z"
   },
   {
    "duration": 7,
    "start_time": "2022-06-24T10:17:55.085Z"
   },
   {
    "duration": 255,
    "start_time": "2022-06-24T10:17:55.093Z"
   },
   {
    "duration": 9,
    "start_time": "2022-06-24T10:17:55.349Z"
   },
   {
    "duration": 11,
    "start_time": "2022-06-24T10:17:55.360Z"
   },
   {
    "duration": 11,
    "start_time": "2022-06-24T10:17:55.373Z"
   },
   {
    "duration": 10,
    "start_time": "2022-06-24T10:17:55.385Z"
   },
   {
    "duration": 157,
    "start_time": "2022-06-24T10:17:55.397Z"
   },
   {
    "duration": 8,
    "start_time": "2022-06-24T10:17:55.555Z"
   },
   {
    "duration": 9,
    "start_time": "2022-06-24T10:17:55.565Z"
   },
   {
    "duration": 339,
    "start_time": "2022-06-24T10:17:55.575Z"
   },
   {
    "duration": 16,
    "start_time": "2022-06-24T10:17:55.916Z"
   },
   {
    "duration": 201,
    "start_time": "2022-06-24T10:17:55.934Z"
   },
   {
    "duration": 9,
    "start_time": "2022-06-24T10:17:56.137Z"
   },
   {
    "duration": 8,
    "start_time": "2022-06-24T10:17:56.148Z"
   },
   {
    "duration": 10,
    "start_time": "2022-06-24T10:17:56.157Z"
   },
   {
    "duration": 6,
    "start_time": "2022-06-24T10:17:56.169Z"
   },
   {
    "duration": 27,
    "start_time": "2022-06-24T10:17:56.176Z"
   },
   {
    "duration": 22,
    "start_time": "2022-06-24T10:17:56.204Z"
   },
   {
    "duration": 324,
    "start_time": "2022-06-24T10:17:56.228Z"
   },
   {
    "duration": 23,
    "start_time": "2022-06-24T10:17:56.553Z"
   },
   {
    "duration": 260,
    "start_time": "2022-06-24T10:17:56.578Z"
   },
   {
    "duration": 10,
    "start_time": "2022-06-24T10:17:56.840Z"
   },
   {
    "duration": 193,
    "start_time": "2022-06-24T10:17:56.852Z"
   },
   {
    "duration": 9,
    "start_time": "2022-06-24T10:17:57.047Z"
   },
   {
    "duration": 236,
    "start_time": "2022-06-24T10:17:57.057Z"
   },
   {
    "duration": 10,
    "start_time": "2022-06-24T10:17:57.295Z"
   },
   {
    "duration": 256,
    "start_time": "2022-06-24T10:17:57.306Z"
   },
   {
    "duration": 10,
    "start_time": "2022-06-24T10:17:57.565Z"
   },
   {
    "duration": 167,
    "start_time": "2022-06-24T10:17:57.577Z"
   },
   {
    "duration": 10,
    "start_time": "2022-06-24T10:17:57.746Z"
   },
   {
    "duration": 217,
    "start_time": "2022-06-24T10:17:57.757Z"
   },
   {
    "duration": 9,
    "start_time": "2022-06-24T10:17:57.976Z"
   },
   {
    "duration": 154,
    "start_time": "2022-06-24T10:17:57.986Z"
   },
   {
    "duration": 7,
    "start_time": "2022-06-24T10:17:58.142Z"
   },
   {
    "duration": 144,
    "start_time": "2022-06-24T10:17:58.151Z"
   },
   {
    "duration": 10,
    "start_time": "2022-06-24T10:17:58.297Z"
   },
   {
    "duration": 191,
    "start_time": "2022-06-24T10:17:58.309Z"
   },
   {
    "duration": 9,
    "start_time": "2022-06-24T10:17:58.501Z"
   },
   {
    "duration": 258,
    "start_time": "2022-06-24T10:17:58.511Z"
   },
   {
    "duration": 10,
    "start_time": "2022-06-24T10:17:58.771Z"
   },
   {
    "duration": 134,
    "start_time": "2022-06-24T10:17:58.782Z"
   },
   {
    "duration": 17,
    "start_time": "2022-06-24T10:17:58.918Z"
   },
   {
    "duration": 27,
    "start_time": "2022-06-24T10:17:58.936Z"
   },
   {
    "duration": 262,
    "start_time": "2022-06-24T10:17:58.965Z"
   },
   {
    "duration": 10,
    "start_time": "2022-06-24T10:17:59.229Z"
   },
   {
    "duration": 393,
    "start_time": "2022-06-24T10:17:59.240Z"
   },
   {
    "duration": 8,
    "start_time": "2022-06-24T10:17:59.635Z"
   },
   {
    "duration": 150,
    "start_time": "2022-06-24T10:17:59.645Z"
   },
   {
    "duration": 8,
    "start_time": "2022-06-24T10:17:59.801Z"
   },
   {
    "duration": 158,
    "start_time": "2022-06-24T10:17:59.810Z"
   },
   {
    "duration": 9,
    "start_time": "2022-06-24T10:17:59.971Z"
   },
   {
    "duration": 179,
    "start_time": "2022-06-24T10:17:59.982Z"
   },
   {
    "duration": 13,
    "start_time": "2022-06-24T10:18:00.163Z"
   },
   {
    "duration": 200,
    "start_time": "2022-06-24T10:18:00.178Z"
   },
   {
    "duration": 18,
    "start_time": "2022-06-24T10:18:00.380Z"
   },
   {
    "duration": 170,
    "start_time": "2022-06-24T10:18:00.400Z"
   },
   {
    "duration": 17,
    "start_time": "2022-06-24T10:18:00.572Z"
   },
   {
    "duration": 177,
    "start_time": "2022-06-24T10:18:00.591Z"
   },
   {
    "duration": 16,
    "start_time": "2022-06-24T10:18:00.770Z"
   },
   {
    "duration": 185,
    "start_time": "2022-06-24T10:18:00.787Z"
   },
   {
    "duration": 15,
    "start_time": "2022-06-24T10:18:00.974Z"
   },
   {
    "duration": 158,
    "start_time": "2022-06-24T10:18:00.991Z"
   },
   {
    "duration": 177,
    "start_time": "2022-06-24T10:18:01.151Z"
   },
   {
    "duration": 148,
    "start_time": "2022-06-24T10:18:01.330Z"
   },
   {
    "duration": 185,
    "start_time": "2022-06-24T10:18:01.480Z"
   },
   {
    "duration": 13,
    "start_time": "2022-06-24T10:18:01.666Z"
   },
   {
    "duration": 25,
    "start_time": "2022-06-24T10:18:01.680Z"
   },
   {
    "duration": 73,
    "start_time": "2022-06-24T10:18:01.707Z"
   },
   {
    "duration": 18,
    "start_time": "2022-06-24T10:18:01.781Z"
   },
   {
    "duration": 44,
    "start_time": "2022-06-24T10:18:01.801Z"
   },
   {
    "duration": 36,
    "start_time": "2022-06-24T10:18:01.847Z"
   },
   {
    "duration": 8942,
    "start_time": "2022-06-24T10:18:01.885Z"
   },
   {
    "duration": 7,
    "start_time": "2022-06-24T10:24:02.436Z"
   },
   {
    "duration": 14,
    "start_time": "2022-06-24T10:24:14.489Z"
   },
   {
    "duration": 37,
    "start_time": "2022-06-24T10:24:37.837Z"
   },
   {
    "duration": 2316,
    "start_time": "2022-06-24T10:24:43.384Z"
   },
   {
    "duration": 158,
    "start_time": "2022-06-24T10:30:06.473Z"
   },
   {
    "duration": 815,
    "start_time": "2022-06-24T10:30:17.841Z"
   },
   {
    "duration": 91,
    "start_time": "2022-06-24T10:33:24.847Z"
   },
   {
    "duration": 161,
    "start_time": "2022-06-24T10:33:33.894Z"
   },
   {
    "duration": 178,
    "start_time": "2022-06-24T10:34:48.147Z"
   },
   {
    "duration": 139,
    "start_time": "2022-06-24T10:36:25.103Z"
   },
   {
    "duration": 155,
    "start_time": "2022-06-24T10:37:02.703Z"
   },
   {
    "duration": 4,
    "start_time": "2022-06-24T10:49:12.010Z"
   },
   {
    "duration": 114,
    "start_time": "2022-06-24T10:49:12.016Z"
   },
   {
    "duration": 16,
    "start_time": "2022-06-24T10:49:12.132Z"
   },
   {
    "duration": 35,
    "start_time": "2022-06-24T10:49:12.151Z"
   },
   {
    "duration": 99,
    "start_time": "2022-06-24T10:49:12.188Z"
   },
   {
    "duration": 1884,
    "start_time": "2022-06-24T10:49:12.289Z"
   },
   {
    "duration": 10,
    "start_time": "2022-06-24T10:49:14.175Z"
   },
   {
    "duration": 11,
    "start_time": "2022-06-24T10:49:14.187Z"
   },
   {
    "duration": 7,
    "start_time": "2022-06-24T10:49:14.200Z"
   },
   {
    "duration": 81,
    "start_time": "2022-06-24T10:49:14.208Z"
   },
   {
    "duration": 1380,
    "start_time": "2022-06-24T10:49:14.291Z"
   },
   {
    "duration": 11,
    "start_time": "2022-06-24T10:49:15.673Z"
   },
   {
    "duration": 4,
    "start_time": "2022-06-24T10:49:15.687Z"
   },
   {
    "duration": 39,
    "start_time": "2022-06-24T10:49:15.692Z"
   },
   {
    "duration": 35,
    "start_time": "2022-06-24T10:49:15.733Z"
   },
   {
    "duration": 9,
    "start_time": "2022-06-24T10:49:15.769Z"
   },
   {
    "duration": 22,
    "start_time": "2022-06-24T10:49:15.780Z"
   },
   {
    "duration": 52,
    "start_time": "2022-06-24T10:49:15.804Z"
   },
   {
    "duration": 9,
    "start_time": "2022-06-24T10:49:15.858Z"
   },
   {
    "duration": 185,
    "start_time": "2022-06-24T10:49:15.869Z"
   },
   {
    "duration": 4,
    "start_time": "2022-06-24T10:49:16.056Z"
   },
   {
    "duration": 18,
    "start_time": "2022-06-24T10:49:16.061Z"
   },
   {
    "duration": 13,
    "start_time": "2022-06-24T10:49:16.081Z"
   },
   {
    "duration": 8,
    "start_time": "2022-06-24T10:49:23.571Z"
   },
   {
    "duration": 18,
    "start_time": "2022-06-24T11:12:51.638Z"
   },
   {
    "duration": 16,
    "start_time": "2022-06-24T11:13:21.165Z"
   },
   {
    "duration": 3,
    "start_time": "2022-06-24T11:13:36.577Z"
   },
   {
    "duration": 105,
    "start_time": "2022-06-24T11:13:36.582Z"
   },
   {
    "duration": 15,
    "start_time": "2022-06-24T11:13:36.689Z"
   },
   {
    "duration": 46,
    "start_time": "2022-06-24T11:13:36.705Z"
   },
   {
    "duration": 94,
    "start_time": "2022-06-24T11:13:36.753Z"
   },
   {
    "duration": 2010,
    "start_time": "2022-06-24T11:13:36.848Z"
   },
   {
    "duration": 9,
    "start_time": "2022-06-24T11:13:38.860Z"
   },
   {
    "duration": 18,
    "start_time": "2022-06-24T11:13:38.870Z"
   },
   {
    "duration": 4,
    "start_time": "2022-06-24T11:13:38.889Z"
   },
   {
    "duration": 99,
    "start_time": "2022-06-24T11:13:38.894Z"
   },
   {
    "duration": 1415,
    "start_time": "2022-06-24T11:13:38.994Z"
   },
   {
    "duration": 16,
    "start_time": "2022-06-24T11:13:40.411Z"
   },
   {
    "duration": 4,
    "start_time": "2022-06-24T11:13:40.428Z"
   },
   {
    "duration": 26,
    "start_time": "2022-06-24T11:13:40.435Z"
   },
   {
    "duration": 36,
    "start_time": "2022-06-24T11:13:40.462Z"
   },
   {
    "duration": 31,
    "start_time": "2022-06-24T11:13:40.500Z"
   },
   {
    "duration": 29,
    "start_time": "2022-06-24T11:13:40.533Z"
   },
   {
    "duration": 35,
    "start_time": "2022-06-24T11:13:40.564Z"
   },
   {
    "duration": 10,
    "start_time": "2022-06-24T11:13:40.601Z"
   },
   {
    "duration": 185,
    "start_time": "2022-06-24T11:13:40.612Z"
   },
   {
    "duration": 5,
    "start_time": "2022-06-24T11:13:40.799Z"
   },
   {
    "duration": 33,
    "start_time": "2022-06-24T11:13:40.805Z"
   },
   {
    "duration": 16,
    "start_time": "2022-06-24T11:13:40.840Z"
   },
   {
    "duration": 13,
    "start_time": "2022-06-24T11:13:40.858Z"
   },
   {
    "duration": 11,
    "start_time": "2022-06-24T11:13:40.873Z"
   },
   {
    "duration": 42,
    "start_time": "2022-06-24T11:13:40.886Z"
   },
   {
    "duration": 135,
    "start_time": "2022-06-24T11:13:40.930Z"
   },
   {
    "duration": 12,
    "start_time": "2022-06-24T11:13:41.067Z"
   },
   {
    "duration": 6,
    "start_time": "2022-06-24T11:13:41.081Z"
   },
   {
    "duration": 56,
    "start_time": "2022-06-24T11:13:41.089Z"
   },
   {
    "duration": 3,
    "start_time": "2022-06-24T11:13:41.147Z"
   },
   {
    "duration": 99,
    "start_time": "2022-06-24T11:13:41.152Z"
   },
   {
    "duration": 14,
    "start_time": "2022-06-24T11:13:41.254Z"
   },
   {
    "duration": 21,
    "start_time": "2022-06-24T11:13:41.270Z"
   },
   {
    "duration": 13,
    "start_time": "2022-06-24T11:13:41.293Z"
   },
   {
    "duration": 302,
    "start_time": "2022-06-24T11:13:41.309Z"
   },
   {
    "duration": 16,
    "start_time": "2022-06-24T11:13:41.613Z"
   },
   {
    "duration": 21,
    "start_time": "2022-06-24T11:13:41.631Z"
   },
   {
    "duration": 11,
    "start_time": "2022-06-24T11:13:41.654Z"
   },
   {
    "duration": 20,
    "start_time": "2022-06-24T11:13:41.667Z"
   },
   {
    "duration": 159,
    "start_time": "2022-06-24T11:13:41.695Z"
   },
   {
    "duration": 10,
    "start_time": "2022-06-24T11:13:41.855Z"
   },
   {
    "duration": 11,
    "start_time": "2022-06-24T11:13:41.867Z"
   },
   {
    "duration": 152,
    "start_time": "2022-06-24T11:13:41.880Z"
   },
   {
    "duration": 11,
    "start_time": "2022-06-24T11:13:42.034Z"
   },
   {
    "duration": 203,
    "start_time": "2022-06-24T11:13:42.046Z"
   },
   {
    "duration": 8,
    "start_time": "2022-06-24T11:13:42.250Z"
   },
   {
    "duration": 8,
    "start_time": "2022-06-24T11:13:42.260Z"
   },
   {
    "duration": 14,
    "start_time": "2022-06-24T11:13:42.270Z"
   },
   {
    "duration": 20,
    "start_time": "2022-06-24T11:13:42.285Z"
   },
   {
    "duration": 34,
    "start_time": "2022-06-24T11:13:42.307Z"
   },
   {
    "duration": 3,
    "start_time": "2022-06-24T11:13:42.343Z"
   },
   {
    "duration": 336,
    "start_time": "2022-06-24T11:13:42.348Z"
   },
   {
    "duration": 44,
    "start_time": "2022-06-24T11:13:42.686Z"
   },
   {
    "duration": 299,
    "start_time": "2022-06-24T11:13:42.733Z"
   },
   {
    "duration": 9,
    "start_time": "2022-06-24T11:13:43.034Z"
   },
   {
    "duration": 215,
    "start_time": "2022-06-24T11:13:43.045Z"
   },
   {
    "duration": 11,
    "start_time": "2022-06-24T11:13:43.262Z"
   },
   {
    "duration": 216,
    "start_time": "2022-06-24T11:13:43.275Z"
   },
   {
    "duration": 9,
    "start_time": "2022-06-24T11:13:43.493Z"
   },
   {
    "duration": 254,
    "start_time": "2022-06-24T11:13:43.504Z"
   },
   {
    "duration": 11,
    "start_time": "2022-06-24T11:13:43.760Z"
   },
   {
    "duration": 180,
    "start_time": "2022-06-24T11:13:43.773Z"
   },
   {
    "duration": 9,
    "start_time": "2022-06-24T11:13:43.955Z"
   },
   {
    "duration": 227,
    "start_time": "2022-06-24T11:13:43.966Z"
   },
   {
    "duration": 11,
    "start_time": "2022-06-24T11:13:44.195Z"
   },
   {
    "duration": 198,
    "start_time": "2022-06-24T11:13:44.208Z"
   },
   {
    "duration": 24,
    "start_time": "2022-06-24T11:13:44.409Z"
   },
   {
    "duration": 210,
    "start_time": "2022-06-24T11:13:44.436Z"
   },
   {
    "duration": 13,
    "start_time": "2022-06-24T11:13:44.649Z"
   },
   {
    "duration": 219,
    "start_time": "2022-06-24T11:13:44.664Z"
   },
   {
    "duration": 9,
    "start_time": "2022-06-24T11:13:44.885Z"
   },
   {
    "duration": 269,
    "start_time": "2022-06-24T11:13:44.896Z"
   },
   {
    "duration": 12,
    "start_time": "2022-06-24T11:13:45.166Z"
   },
   {
    "duration": 161,
    "start_time": "2022-06-24T11:13:45.180Z"
   },
   {
    "duration": 13,
    "start_time": "2022-06-24T11:13:45.343Z"
   },
   {
    "duration": 27,
    "start_time": "2022-06-24T11:13:45.358Z"
   },
   {
    "duration": 1013,
    "start_time": "2022-06-24T11:13:45.387Z"
   },
   {
    "duration": 10,
    "start_time": "2022-06-24T11:13:46.401Z"
   },
   {
    "duration": 177,
    "start_time": "2022-06-24T11:13:46.413Z"
   },
   {
    "duration": 9,
    "start_time": "2022-06-24T11:13:46.591Z"
   },
   {
    "duration": 153,
    "start_time": "2022-06-24T11:13:46.602Z"
   },
   {
    "duration": 8,
    "start_time": "2022-06-24T11:13:46.757Z"
   },
   {
    "duration": 164,
    "start_time": "2022-06-24T11:13:46.766Z"
   },
   {
    "duration": 9,
    "start_time": "2022-06-24T11:13:46.933Z"
   },
   {
    "duration": 171,
    "start_time": "2022-06-24T11:13:46.943Z"
   },
   {
    "duration": 19,
    "start_time": "2022-06-24T11:13:47.116Z"
   },
   {
    "duration": 189,
    "start_time": "2022-06-24T11:13:47.137Z"
   },
   {
    "duration": 17,
    "start_time": "2022-06-24T11:13:47.327Z"
   },
   {
    "duration": 174,
    "start_time": "2022-06-24T11:13:47.346Z"
   },
   {
    "duration": 19,
    "start_time": "2022-06-24T11:13:47.521Z"
   },
   {
    "duration": 183,
    "start_time": "2022-06-24T11:13:47.541Z"
   },
   {
    "duration": 21,
    "start_time": "2022-06-24T11:13:47.727Z"
   },
   {
    "duration": 178,
    "start_time": "2022-06-24T11:13:47.751Z"
   },
   {
    "duration": 16,
    "start_time": "2022-06-24T11:13:47.931Z"
   },
   {
    "duration": 154,
    "start_time": "2022-06-24T11:13:47.949Z"
   },
   {
    "duration": 169,
    "start_time": "2022-06-24T11:13:48.105Z"
   },
   {
    "duration": 142,
    "start_time": "2022-06-24T11:13:48.276Z"
   },
   {
    "duration": 178,
    "start_time": "2022-06-24T11:13:48.420Z"
   },
   {
    "duration": 14,
    "start_time": "2022-06-24T11:13:48.600Z"
   },
   {
    "duration": 2274,
    "start_time": "2022-06-24T11:13:48.626Z"
   },
   {
    "duration": 171,
    "start_time": "2022-06-24T11:13:50.901Z"
   },
   {
    "duration": 187,
    "start_time": "2022-06-24T11:13:51.074Z"
   },
   {
    "duration": 175,
    "start_time": "2022-06-24T11:13:51.263Z"
   },
   {
    "duration": 204,
    "start_time": "2022-06-24T11:13:51.441Z"
   },
   {
    "duration": 9,
    "start_time": "2022-06-24T11:13:51.646Z"
   },
   {
    "duration": 29,
    "start_time": "2022-06-24T11:15:04.284Z"
   },
   {
    "duration": 18,
    "start_time": "2022-06-24T11:16:03.176Z"
   },
   {
    "duration": 10,
    "start_time": "2022-06-24T11:16:21.179Z"
   },
   {
    "duration": 48,
    "start_time": "2022-06-24T11:30:28.444Z"
   },
   {
    "duration": 1115,
    "start_time": "2022-10-05T15:13:39.213Z"
   },
   {
    "duration": 306,
    "start_time": "2022-10-05T15:13:40.329Z"
   },
   {
    "duration": 12,
    "start_time": "2022-10-05T15:13:40.637Z"
   },
   {
    "duration": 34,
    "start_time": "2022-10-05T15:13:40.651Z"
   },
   {
    "duration": 78,
    "start_time": "2022-10-05T15:13:40.687Z"
   },
   {
    "duration": 1678,
    "start_time": "2022-10-05T15:13:40.766Z"
   },
   {
    "duration": 10,
    "start_time": "2022-10-05T15:13:42.446Z"
   },
   {
    "duration": 12,
    "start_time": "2022-10-05T15:13:42.458Z"
   },
   {
    "duration": 3,
    "start_time": "2022-10-05T15:13:42.472Z"
   },
   {
    "duration": 84,
    "start_time": "2022-10-05T15:13:42.478Z"
   },
   {
    "duration": 1189,
    "start_time": "2022-10-05T15:13:42.563Z"
   },
   {
    "duration": 8,
    "start_time": "2022-10-05T15:13:43.754Z"
   },
   {
    "duration": 8,
    "start_time": "2022-10-05T15:13:43.763Z"
   },
   {
    "duration": 16,
    "start_time": "2022-10-05T15:13:43.773Z"
   },
   {
    "duration": 43,
    "start_time": "2022-10-05T15:13:43.791Z"
   },
   {
    "duration": 10,
    "start_time": "2022-10-05T15:13:43.835Z"
   },
   {
    "duration": 16,
    "start_time": "2022-10-05T15:13:43.846Z"
   },
   {
    "duration": 55,
    "start_time": "2022-10-05T15:13:43.863Z"
   },
   {
    "duration": 8,
    "start_time": "2022-10-05T15:13:43.920Z"
   },
   {
    "duration": 31,
    "start_time": "2022-10-05T15:13:43.930Z"
   },
   {
    "duration": 3,
    "start_time": "2022-10-05T15:13:43.963Z"
   },
   {
    "duration": 43,
    "start_time": "2022-10-05T15:13:43.967Z"
   },
   {
    "duration": 13,
    "start_time": "2022-10-05T15:13:44.011Z"
   },
   {
    "duration": 9,
    "start_time": "2022-10-05T15:13:44.026Z"
   },
   {
    "duration": 8,
    "start_time": "2022-10-05T15:13:44.036Z"
   },
   {
    "duration": 12,
    "start_time": "2022-10-05T15:13:44.045Z"
   },
   {
    "duration": 103,
    "start_time": "2022-10-05T15:13:44.058Z"
   },
   {
    "duration": 9,
    "start_time": "2022-10-05T15:13:44.165Z"
   },
   {
    "duration": 6,
    "start_time": "2022-10-05T15:13:44.176Z"
   },
   {
    "duration": 36,
    "start_time": "2022-10-05T15:13:44.183Z"
   },
   {
    "duration": 2,
    "start_time": "2022-10-05T15:13:44.221Z"
   },
   {
    "duration": 67,
    "start_time": "2022-10-05T15:13:44.224Z"
   },
   {
    "duration": 23,
    "start_time": "2022-10-05T15:13:44.292Z"
   },
   {
    "duration": 6,
    "start_time": "2022-10-05T15:13:44.317Z"
   },
   {
    "duration": 6,
    "start_time": "2022-10-05T15:13:44.324Z"
   },
   {
    "duration": 285,
    "start_time": "2022-10-05T15:13:44.331Z"
   },
   {
    "duration": 9,
    "start_time": "2022-10-05T15:13:44.617Z"
   },
   {
    "duration": 9,
    "start_time": "2022-10-05T15:13:44.627Z"
   },
   {
    "duration": 9,
    "start_time": "2022-10-05T15:13:44.638Z"
   },
   {
    "duration": 10,
    "start_time": "2022-10-05T15:13:44.648Z"
   },
   {
    "duration": 152,
    "start_time": "2022-10-05T15:13:44.659Z"
   },
   {
    "duration": 7,
    "start_time": "2022-10-05T15:13:44.813Z"
   },
   {
    "duration": 8,
    "start_time": "2022-10-05T15:13:44.821Z"
   },
   {
    "duration": 127,
    "start_time": "2022-10-05T15:13:44.831Z"
   },
   {
    "duration": 7,
    "start_time": "2022-10-05T15:13:44.960Z"
   },
   {
    "duration": 179,
    "start_time": "2022-10-05T15:13:44.968Z"
   },
   {
    "duration": 7,
    "start_time": "2022-10-05T15:13:45.148Z"
   },
   {
    "duration": 3,
    "start_time": "2022-10-05T15:13:45.157Z"
   },
   {
    "duration": 6,
    "start_time": "2022-10-05T15:13:45.162Z"
   },
   {
    "duration": 4,
    "start_time": "2022-10-05T15:13:45.170Z"
   },
   {
    "duration": 51,
    "start_time": "2022-10-05T15:13:45.175Z"
   },
   {
    "duration": 3,
    "start_time": "2022-10-05T15:13:45.227Z"
   },
   {
    "duration": 360,
    "start_time": "2022-10-05T15:13:45.231Z"
   },
   {
    "duration": 28,
    "start_time": "2022-10-05T15:13:45.592Z"
   },
   {
    "duration": 225,
    "start_time": "2022-10-05T15:13:45.622Z"
   },
   {
    "duration": 7,
    "start_time": "2022-10-05T15:13:45.849Z"
   },
   {
    "duration": 178,
    "start_time": "2022-10-05T15:13:45.858Z"
   },
   {
    "duration": 8,
    "start_time": "2022-10-05T15:13:46.037Z"
   },
   {
    "duration": 263,
    "start_time": "2022-10-05T15:13:46.046Z"
   },
   {
    "duration": 8,
    "start_time": "2022-10-05T15:13:46.310Z"
   },
   {
    "duration": 228,
    "start_time": "2022-10-05T15:13:46.319Z"
   },
   {
    "duration": 11,
    "start_time": "2022-10-05T15:13:46.549Z"
   },
   {
    "duration": 155,
    "start_time": "2022-10-05T15:13:46.562Z"
   },
   {
    "duration": 7,
    "start_time": "2022-10-05T15:13:46.718Z"
   },
   {
    "duration": 176,
    "start_time": "2022-10-05T15:13:46.727Z"
   },
   {
    "duration": 7,
    "start_time": "2022-10-05T15:13:46.908Z"
   },
   {
    "duration": 143,
    "start_time": "2022-10-05T15:13:46.917Z"
   },
   {
    "duration": 7,
    "start_time": "2022-10-05T15:13:47.061Z"
   },
   {
    "duration": 128,
    "start_time": "2022-10-05T15:13:47.070Z"
   },
   {
    "duration": 9,
    "start_time": "2022-10-05T15:13:47.209Z"
   },
   {
    "duration": 182,
    "start_time": "2022-10-05T15:13:47.220Z"
   },
   {
    "duration": 8,
    "start_time": "2022-10-05T15:13:47.409Z"
   },
   {
    "duration": 225,
    "start_time": "2022-10-05T15:13:47.418Z"
   },
   {
    "duration": 9,
    "start_time": "2022-10-05T15:13:47.644Z"
   },
   {
    "duration": 132,
    "start_time": "2022-10-05T15:13:47.654Z"
   },
   {
    "duration": 24,
    "start_time": "2022-10-05T15:13:47.787Z"
   },
   {
    "duration": 24,
    "start_time": "2022-10-05T15:13:47.813Z"
   },
   {
    "duration": 329,
    "start_time": "2022-10-05T15:13:47.839Z"
   },
   {
    "duration": 7,
    "start_time": "2022-10-05T15:13:48.170Z"
   },
   {
    "duration": 154,
    "start_time": "2022-10-05T15:13:48.178Z"
   },
   {
    "duration": 7,
    "start_time": "2022-10-05T15:13:48.333Z"
   },
   {
    "duration": 141,
    "start_time": "2022-10-05T15:13:48.347Z"
   },
   {
    "duration": 8,
    "start_time": "2022-10-05T15:13:48.490Z"
   },
   {
    "duration": 154,
    "start_time": "2022-10-05T15:13:48.499Z"
   },
   {
    "duration": 9,
    "start_time": "2022-10-05T15:13:48.655Z"
   },
   {
    "duration": 164,
    "start_time": "2022-10-05T15:13:48.666Z"
   },
   {
    "duration": 13,
    "start_time": "2022-10-05T15:13:48.832Z"
   },
   {
    "duration": 170,
    "start_time": "2022-10-05T15:13:48.847Z"
   },
   {
    "duration": 16,
    "start_time": "2022-10-05T15:13:49.019Z"
   },
   {
    "duration": 189,
    "start_time": "2022-10-05T15:13:49.037Z"
   },
   {
    "duration": 16,
    "start_time": "2022-10-05T15:13:49.228Z"
   },
   {
    "duration": 165,
    "start_time": "2022-10-05T15:13:49.246Z"
   },
   {
    "duration": 15,
    "start_time": "2022-10-05T15:13:49.412Z"
   },
   {
    "duration": 156,
    "start_time": "2022-10-05T15:13:49.428Z"
   },
   {
    "duration": 24,
    "start_time": "2022-10-05T15:13:49.585Z"
   },
   {
    "duration": 123,
    "start_time": "2022-10-05T15:13:49.611Z"
   },
   {
    "duration": 155,
    "start_time": "2022-10-05T15:13:49.736Z"
   },
   {
    "duration": 141,
    "start_time": "2022-10-05T15:13:49.893Z"
   },
   {
    "duration": 148,
    "start_time": "2022-10-05T15:13:50.036Z"
   },
   {
    "duration": 11,
    "start_time": "2022-10-05T15:13:50.185Z"
   },
   {
    "duration": 1975,
    "start_time": "2022-10-05T15:13:50.209Z"
   },
   {
    "duration": 159,
    "start_time": "2022-10-05T15:13:52.185Z"
   },
   {
    "duration": 166,
    "start_time": "2022-10-05T15:13:52.345Z"
   },
   {
    "duration": 140,
    "start_time": "2022-10-05T15:13:52.513Z"
   },
   {
    "duration": 161,
    "start_time": "2022-10-05T15:13:52.654Z"
   },
   {
    "duration": 9,
    "start_time": "2022-10-05T15:13:52.817Z"
   },
   {
    "duration": 21,
    "start_time": "2022-10-05T15:13:52.827Z"
   },
   {
    "duration": 14,
    "start_time": "2022-10-05T15:13:52.850Z"
   },
   {
    "duration": 43,
    "start_time": "2022-10-05T15:13:52.866Z"
   },
   {
    "duration": 4,
    "start_time": "2022-10-05T15:13:52.911Z"
   },
   {
    "duration": 19,
    "start_time": "2022-10-05T15:13:52.916Z"
   },
   {
    "duration": 7346,
    "start_time": "2022-10-05T15:13:52.937Z"
   },
   {
    "duration": 9,
    "start_time": "2022-10-05T15:14:00.284Z"
   }
  ],
  "kernelspec": {
   "display_name": "Python 3 (ipykernel)",
   "language": "python",
   "name": "python3"
  },
  "language_info": {
   "codemirror_mode": {
    "name": "ipython",
    "version": 3
   },
   "file_extension": ".py",
   "mimetype": "text/x-python",
   "name": "python",
   "nbconvert_exporter": "python",
   "pygments_lexer": "ipython3",
   "version": "3.9.5"
  },
  "toc": {
   "base_numbering": 1,
   "nav_menu": {
    "height": "141px",
    "width": "356px"
   },
   "number_sections": true,
   "sideBar": true,
   "skip_h1_title": true,
   "title_cell": "Table of Contents",
   "title_sidebar": "Contents",
   "toc_cell": false,
   "toc_position": {},
   "toc_section_display": true,
   "toc_window_display": false
  }
 },
 "nbformat": 4,
 "nbformat_minor": 2
}
