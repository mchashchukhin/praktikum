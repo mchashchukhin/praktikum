{
 "cells": [
  {
   "cell_type": "markdown",
   "metadata": {},
   "source": [
    "# Проект по А/B-тестированию"
   ]
  },
  {
   "cell_type": "markdown",
   "metadata": {},
   "source": [
    "**Постановка задачи**\n",
    "\n",
    "Ваша задача — провести оценку результатов A/B-теста. В вашем распоряжении есть датасет с действиями пользователей, техническое задание и несколько вспомогательных датасетов.\n",
    "\n",
    "* Оцените корректность проведения теста.\n",
    "* Проанализируйте результаты теста.\n",
    "\n",
    "Чтобы оценить корректность проведения теста, проверьте:\n",
    "* пересечение тестовой аудитории с конкурирующим тестом;\n",
    "* совпадение теста и маркетинговых событий, другие проблемы временных границ теста."
   ]
  },
  {
   "cell_type": "markdown",
   "metadata": {},
   "source": [
    "**Техническое задание**\n",
    "\n",
    "* Название теста: `recommender_system_test`;\n",
    "* Группы: А (контрольная), B (новая платёжная воронка);\n",
    "* Дата запуска: 2020-12-07;\n",
    "* Дата остановки набора новых пользователей: 2020-12-21;\n",
    "* Дата остановки: 2021-01-04;\n",
    "* Аудитория: 15% новых пользователей из региона EU;\n",
    "* Назначение теста: тестирование изменений, связанных с внедрением улучшенной рекомендательной системы;\n",
    "* Ожидаемое количество участников теста: 6000.\n",
    "* Ожидаемый эффект: за 14 дней с момента регистрации в системе пользователи покажут улучшение каждой метрики не менее, чем на 10%:\n",
    "    * конверсии в просмотр карточек товаров — событие product_page\n",
    "    * просмотры корзины — product_cart\n",
    "    * покупки — purchase.\n",
    "Загрузите данные теста, проверьте корректность его проведения и проанализируйте полученные результаты."
   ]
  },
  {
   "cell_type": "markdown",
   "metadata": {},
   "source": [
    "**План исследования, по шагам**:\n",
    "\n",
    "1. Загрузка и просмотр данных\n",
    "2. Подготовка данных\n",
    "3. Исследование данных\n",
    "4. Оценка результатов A/B-теста\n",
    "5. Выводы"
   ]
  },
  {
   "cell_type": "markdown",
   "metadata": {},
   "source": [
    "## Загрузка и просмотр данных"
   ]
  },
  {
   "cell_type": "code",
   "execution_count": 1,
   "metadata": {},
   "outputs": [
    {
     "name": "stdout",
     "output_type": "stream",
     "text": [
      "Note: you may need to restart the kernel to use updated packages.\n"
     ]
    }
   ],
   "source": [
    "%pip install -U kaleido -q\n",
    "\n",
    "import plotly.io as pio\n",
    "\n",
    "pio.renderers.default = \"png\"\n",
    "\n",
    "import pandas as pd\n",
    "import numpy as np\n",
    "import matplotlib.pyplot as plt\n",
    "import seaborn as sns\n",
    "import plotly.graph_objects as go\n",
    "import math as mth\n",
    "from scipy import stats as st\n",
    "import warnings\n",
    "from pandas.core.common import SettingWithCopyWarning\n",
    "warnings.simplefilter(action=\"ignore\", category=SettingWithCopyWarning)"
   ]
  },
  {
   "cell_type": "code",
   "execution_count": 2,
   "metadata": {},
   "outputs": [],
   "source": [
    "marketing_events = pd.read_csv('/datasets/ab_project_marketing_events.csv')\n",
    "\n",
    "new_users = pd.read_csv('/datasets/final_ab_new_users.csv')\n",
    "\n",
    "events = pd.read_csv('/datasets/final_ab_events.csv')\n",
    "\n",
    "participants = pd.read_csv('/datasets/final_ab_participants.csv')"
   ]
  },
  {
   "cell_type": "code",
   "execution_count": 3,
   "metadata": {},
   "outputs": [
    {
     "data": {
      "text/html": [
       "<div>\n",
       "<style scoped>\n",
       "    .dataframe tbody tr th:only-of-type {\n",
       "        vertical-align: middle;\n",
       "    }\n",
       "\n",
       "    .dataframe tbody tr th {\n",
       "        vertical-align: top;\n",
       "    }\n",
       "\n",
       "    .dataframe thead th {\n",
       "        text-align: right;\n",
       "    }\n",
       "</style>\n",
       "<table border=\"1\" class=\"dataframe\">\n",
       "  <thead>\n",
       "    <tr style=\"text-align: right;\">\n",
       "      <th></th>\n",
       "      <th>name</th>\n",
       "      <th>regions</th>\n",
       "      <th>start_dt</th>\n",
       "      <th>finish_dt</th>\n",
       "    </tr>\n",
       "  </thead>\n",
       "  <tbody>\n",
       "    <tr>\n",
       "      <th>0</th>\n",
       "      <td>Christmas&amp;New Year Promo</td>\n",
       "      <td>EU, N.America</td>\n",
       "      <td>2020-12-25</td>\n",
       "      <td>2021-01-03</td>\n",
       "    </tr>\n",
       "    <tr>\n",
       "      <th>1</th>\n",
       "      <td>St. Valentine's Day Giveaway</td>\n",
       "      <td>EU, CIS, APAC, N.America</td>\n",
       "      <td>2020-02-14</td>\n",
       "      <td>2020-02-16</td>\n",
       "    </tr>\n",
       "    <tr>\n",
       "      <th>2</th>\n",
       "      <td>St. Patric's Day Promo</td>\n",
       "      <td>EU, N.America</td>\n",
       "      <td>2020-03-17</td>\n",
       "      <td>2020-03-19</td>\n",
       "    </tr>\n",
       "    <tr>\n",
       "      <th>3</th>\n",
       "      <td>Easter Promo</td>\n",
       "      <td>EU, CIS, APAC, N.America</td>\n",
       "      <td>2020-04-12</td>\n",
       "      <td>2020-04-19</td>\n",
       "    </tr>\n",
       "    <tr>\n",
       "      <th>4</th>\n",
       "      <td>4th of July Promo</td>\n",
       "      <td>N.America</td>\n",
       "      <td>2020-07-04</td>\n",
       "      <td>2020-07-11</td>\n",
       "    </tr>\n",
       "  </tbody>\n",
       "</table>\n",
       "</div>"
      ],
      "text/plain": [
       "                           name                   regions    start_dt  \\\n",
       "0      Christmas&New Year Promo             EU, N.America  2020-12-25   \n",
       "1  St. Valentine's Day Giveaway  EU, CIS, APAC, N.America  2020-02-14   \n",
       "2        St. Patric's Day Promo             EU, N.America  2020-03-17   \n",
       "3                  Easter Promo  EU, CIS, APAC, N.America  2020-04-12   \n",
       "4             4th of July Promo                 N.America  2020-07-04   \n",
       "\n",
       "    finish_dt  \n",
       "0  2021-01-03  \n",
       "1  2020-02-16  \n",
       "2  2020-03-19  \n",
       "3  2020-04-19  \n",
       "4  2020-07-11  "
      ]
     },
     "metadata": {},
     "output_type": "display_data"
    },
    {
     "data": {
      "text/html": [
       "<div>\n",
       "<style scoped>\n",
       "    .dataframe tbody tr th:only-of-type {\n",
       "        vertical-align: middle;\n",
       "    }\n",
       "\n",
       "    .dataframe tbody tr th {\n",
       "        vertical-align: top;\n",
       "    }\n",
       "\n",
       "    .dataframe thead th {\n",
       "        text-align: right;\n",
       "    }\n",
       "</style>\n",
       "<table border=\"1\" class=\"dataframe\">\n",
       "  <thead>\n",
       "    <tr style=\"text-align: right;\">\n",
       "      <th></th>\n",
       "      <th>user_id</th>\n",
       "      <th>first_date</th>\n",
       "      <th>region</th>\n",
       "      <th>device</th>\n",
       "    </tr>\n",
       "  </thead>\n",
       "  <tbody>\n",
       "    <tr>\n",
       "      <th>0</th>\n",
       "      <td>D72A72121175D8BE</td>\n",
       "      <td>2020-12-07</td>\n",
       "      <td>EU</td>\n",
       "      <td>PC</td>\n",
       "    </tr>\n",
       "    <tr>\n",
       "      <th>1</th>\n",
       "      <td>F1C668619DFE6E65</td>\n",
       "      <td>2020-12-07</td>\n",
       "      <td>N.America</td>\n",
       "      <td>Android</td>\n",
       "    </tr>\n",
       "    <tr>\n",
       "      <th>2</th>\n",
       "      <td>2E1BF1D4C37EA01F</td>\n",
       "      <td>2020-12-07</td>\n",
       "      <td>EU</td>\n",
       "      <td>PC</td>\n",
       "    </tr>\n",
       "    <tr>\n",
       "      <th>3</th>\n",
       "      <td>50734A22C0C63768</td>\n",
       "      <td>2020-12-07</td>\n",
       "      <td>EU</td>\n",
       "      <td>iPhone</td>\n",
       "    </tr>\n",
       "    <tr>\n",
       "      <th>4</th>\n",
       "      <td>E1BDDCE0DAFA2679</td>\n",
       "      <td>2020-12-07</td>\n",
       "      <td>N.America</td>\n",
       "      <td>iPhone</td>\n",
       "    </tr>\n",
       "  </tbody>\n",
       "</table>\n",
       "</div>"
      ],
      "text/plain": [
       "            user_id  first_date     region   device\n",
       "0  D72A72121175D8BE  2020-12-07         EU       PC\n",
       "1  F1C668619DFE6E65  2020-12-07  N.America  Android\n",
       "2  2E1BF1D4C37EA01F  2020-12-07         EU       PC\n",
       "3  50734A22C0C63768  2020-12-07         EU   iPhone\n",
       "4  E1BDDCE0DAFA2679  2020-12-07  N.America   iPhone"
      ]
     },
     "metadata": {},
     "output_type": "display_data"
    },
    {
     "data": {
      "text/html": [
       "<div>\n",
       "<style scoped>\n",
       "    .dataframe tbody tr th:only-of-type {\n",
       "        vertical-align: middle;\n",
       "    }\n",
       "\n",
       "    .dataframe tbody tr th {\n",
       "        vertical-align: top;\n",
       "    }\n",
       "\n",
       "    .dataframe thead th {\n",
       "        text-align: right;\n",
       "    }\n",
       "</style>\n",
       "<table border=\"1\" class=\"dataframe\">\n",
       "  <thead>\n",
       "    <tr style=\"text-align: right;\">\n",
       "      <th></th>\n",
       "      <th>user_id</th>\n",
       "      <th>event_dt</th>\n",
       "      <th>event_name</th>\n",
       "      <th>details</th>\n",
       "    </tr>\n",
       "  </thead>\n",
       "  <tbody>\n",
       "    <tr>\n",
       "      <th>0</th>\n",
       "      <td>E1BDDCE0DAFA2679</td>\n",
       "      <td>2020-12-07 20:22:03</td>\n",
       "      <td>purchase</td>\n",
       "      <td>99.99</td>\n",
       "    </tr>\n",
       "    <tr>\n",
       "      <th>1</th>\n",
       "      <td>7B6452F081F49504</td>\n",
       "      <td>2020-12-07 09:22:53</td>\n",
       "      <td>purchase</td>\n",
       "      <td>9.99</td>\n",
       "    </tr>\n",
       "    <tr>\n",
       "      <th>2</th>\n",
       "      <td>9CD9F34546DF254C</td>\n",
       "      <td>2020-12-07 12:59:29</td>\n",
       "      <td>purchase</td>\n",
       "      <td>4.99</td>\n",
       "    </tr>\n",
       "    <tr>\n",
       "      <th>3</th>\n",
       "      <td>96F27A054B191457</td>\n",
       "      <td>2020-12-07 04:02:40</td>\n",
       "      <td>purchase</td>\n",
       "      <td>4.99</td>\n",
       "    </tr>\n",
       "    <tr>\n",
       "      <th>4</th>\n",
       "      <td>1FD7660FDF94CA1F</td>\n",
       "      <td>2020-12-07 10:15:09</td>\n",
       "      <td>purchase</td>\n",
       "      <td>4.99</td>\n",
       "    </tr>\n",
       "  </tbody>\n",
       "</table>\n",
       "</div>"
      ],
      "text/plain": [
       "            user_id             event_dt event_name  details\n",
       "0  E1BDDCE0DAFA2679  2020-12-07 20:22:03   purchase    99.99\n",
       "1  7B6452F081F49504  2020-12-07 09:22:53   purchase     9.99\n",
       "2  9CD9F34546DF254C  2020-12-07 12:59:29   purchase     4.99\n",
       "3  96F27A054B191457  2020-12-07 04:02:40   purchase     4.99\n",
       "4  1FD7660FDF94CA1F  2020-12-07 10:15:09   purchase     4.99"
      ]
     },
     "metadata": {},
     "output_type": "display_data"
    },
    {
     "data": {
      "text/html": [
       "<div>\n",
       "<style scoped>\n",
       "    .dataframe tbody tr th:only-of-type {\n",
       "        vertical-align: middle;\n",
       "    }\n",
       "\n",
       "    .dataframe tbody tr th {\n",
       "        vertical-align: top;\n",
       "    }\n",
       "\n",
       "    .dataframe thead th {\n",
       "        text-align: right;\n",
       "    }\n",
       "</style>\n",
       "<table border=\"1\" class=\"dataframe\">\n",
       "  <thead>\n",
       "    <tr style=\"text-align: right;\">\n",
       "      <th></th>\n",
       "      <th>user_id</th>\n",
       "      <th>group</th>\n",
       "      <th>ab_test</th>\n",
       "    </tr>\n",
       "  </thead>\n",
       "  <tbody>\n",
       "    <tr>\n",
       "      <th>0</th>\n",
       "      <td>D1ABA3E2887B6A73</td>\n",
       "      <td>A</td>\n",
       "      <td>recommender_system_test</td>\n",
       "    </tr>\n",
       "    <tr>\n",
       "      <th>1</th>\n",
       "      <td>A7A3664BD6242119</td>\n",
       "      <td>A</td>\n",
       "      <td>recommender_system_test</td>\n",
       "    </tr>\n",
       "    <tr>\n",
       "      <th>2</th>\n",
       "      <td>DABC14FDDFADD29E</td>\n",
       "      <td>A</td>\n",
       "      <td>recommender_system_test</td>\n",
       "    </tr>\n",
       "    <tr>\n",
       "      <th>3</th>\n",
       "      <td>04988C5DF189632E</td>\n",
       "      <td>A</td>\n",
       "      <td>recommender_system_test</td>\n",
       "    </tr>\n",
       "    <tr>\n",
       "      <th>4</th>\n",
       "      <td>482F14783456D21B</td>\n",
       "      <td>B</td>\n",
       "      <td>recommender_system_test</td>\n",
       "    </tr>\n",
       "  </tbody>\n",
       "</table>\n",
       "</div>"
      ],
      "text/plain": [
       "            user_id group                  ab_test\n",
       "0  D1ABA3E2887B6A73     A  recommender_system_test\n",
       "1  A7A3664BD6242119     A  recommender_system_test\n",
       "2  DABC14FDDFADD29E     A  recommender_system_test\n",
       "3  04988C5DF189632E     A  recommender_system_test\n",
       "4  482F14783456D21B     B  recommender_system_test"
      ]
     },
     "metadata": {},
     "output_type": "display_data"
    }
   ],
   "source": [
    "for i in [marketing_events,new_users,events,participants]:\n",
    "    display(i.head())"
   ]
  },
  {
   "cell_type": "markdown",
   "metadata": {},
   "source": [
    "**Описание данных**\n",
    "\n",
    "`ab_project_marketing_events.csv` — календарь маркетинговых событий на 2020 год.\n",
    "\n",
    "Структура файла:\n",
    "\n",
    "`name` — название маркетингового события;\n",
    "\n",
    "`regions` — регионы, в которых будет проводиться рекламная кампания;\n",
    "\n",
    "`start_dt` — дата начала кампании;\n",
    "\n",
    "`finish_dt` — дата завершения кампании.\n",
    "_______________________________________________________________________________________________\n",
    "`final_ab_new_users.csv` — пользователи, зарегистрировавшиеся с 7 по 21 декабря 2020 года.\n",
    "\n",
    "Структура файла:\n",
    "\n",
    "`user_id` — идентификатор пользователя;\n",
    "\n",
    "`first_date` — дата регистрации;\n",
    "\n",
    "`region` — регион пользователя;\n",
    "\n",
    "`device` — устройство, с которого происходила регистрация.\n",
    "___________________________________________\n",
    "`final_ab_events.csv` — действия новых пользователей в период с 7 декабря 2020 по 4 января 2021 года.\n",
    "\n",
    "Структура файла:\n",
    "\n",
    "`user_id` — идентификатор пользователя;\n",
    "\n",
    "`event_dt` — дата и время покупки;\n",
    "\n",
    "`event_name` — тип события;\n",
    "\n",
    "`details` — дополнительные данные о событии. Например, для покупок, purchase, в этом поле хранится стоимость покупки в долларах.\n",
    "___________________________________________\n",
    "`final_ab_participants.csv` — таблица участников тестов.\n",
    "\n",
    "Структура файла:\n",
    "\n",
    "`user_id` — идентификатор пользователя;\n",
    "\n",
    "`ab_test` — название теста;\n",
    "\n",
    "`group` — группа пользователя.\n"
   ]
  },
  {
   "cell_type": "code",
   "execution_count": 4,
   "metadata": {},
   "outputs": [
    {
     "data": {
      "text/plain": [
       "array(['Christmas&New Year Promo', \"St. Valentine's Day Giveaway\",\n",
       "       \"St. Patric's Day Promo\", 'Easter Promo', '4th of July Promo',\n",
       "       'Black Friday Ads Campaign', 'Chinese New Year Promo',\n",
       "       'Labor day (May 1st) Ads Campaign',\n",
       "       \"International Women's Day Promo\",\n",
       "       'Victory Day CIS (May 9th) Event', 'CIS New Year Gift Lottery',\n",
       "       'Dragon Boat Festival Giveaway', \"Single's Day Gift Promo\",\n",
       "       'Chinese Moon Festival'], dtype=object)"
      ]
     },
     "execution_count": 4,
     "metadata": {},
     "output_type": "execute_result"
    }
   ],
   "source": [
    "marketing_events.name.unique()"
   ]
  },
  {
   "cell_type": "code",
   "execution_count": 5,
   "metadata": {},
   "outputs": [
    {
     "data": {
      "text/plain": [
       "array(['EU, N.America', 'EU, CIS, APAC, N.America', 'N.America', 'APAC',\n",
       "       'EU, CIS, APAC', 'CIS'], dtype=object)"
      ]
     },
     "execution_count": 5,
     "metadata": {},
     "output_type": "execute_result"
    }
   ],
   "source": [
    "marketing_events.regions.unique()"
   ]
  },
  {
   "cell_type": "code",
   "execution_count": 6,
   "metadata": {},
   "outputs": [
    {
     "data": {
      "text/plain": [
       "array(['EU', 'N.America', 'APAC', 'CIS'], dtype=object)"
      ]
     },
     "execution_count": 6,
     "metadata": {},
     "output_type": "execute_result"
    }
   ],
   "source": [
    "new_users.region.unique()"
   ]
  },
  {
   "cell_type": "code",
   "execution_count": 7,
   "metadata": {},
   "outputs": [
    {
     "data": {
      "text/plain": [
       "array(['purchase', 'product_cart', 'product_page', 'login'], dtype=object)"
      ]
     },
     "execution_count": 7,
     "metadata": {},
     "output_type": "execute_result"
    }
   ],
   "source": [
    "events.event_name.unique()"
   ]
  },
  {
   "cell_type": "code",
   "execution_count": 8,
   "metadata": {},
   "outputs": [
    {
     "data": {
      "text/plain": [
       "array(['recommender_system_test', 'interface_eu_test'], dtype=object)"
      ]
     },
     "execution_count": 8,
     "metadata": {},
     "output_type": "execute_result"
    }
   ],
   "source": [
    "participants.ab_test.unique()"
   ]
  },
  {
   "cell_type": "code",
   "execution_count": 9,
   "metadata": {},
   "outputs": [
    {
     "data": {
      "text/plain": [
       "array(['A', 'B'], dtype=object)"
      ]
     },
     "execution_count": 9,
     "metadata": {},
     "output_type": "execute_result"
    }
   ],
   "source": [
    "participants.group.unique()"
   ]
  },
  {
   "cell_type": "code",
   "execution_count": 10,
   "metadata": {},
   "outputs": [
    {
     "data": {
      "text/plain": [
       "name         0\n",
       "regions      0\n",
       "start_dt     0\n",
       "finish_dt    0\n",
       "dtype: int64"
      ]
     },
     "metadata": {},
     "output_type": "display_data"
    },
    {
     "data": {
      "text/plain": [
       "user_id       0\n",
       "first_date    0\n",
       "region        0\n",
       "device        0\n",
       "dtype: int64"
      ]
     },
     "metadata": {},
     "output_type": "display_data"
    },
    {
     "data": {
      "text/plain": [
       "user_id            0\n",
       "event_dt           0\n",
       "event_name         0\n",
       "details       377577\n",
       "dtype: int64"
      ]
     },
     "metadata": {},
     "output_type": "display_data"
    },
    {
     "data": {
      "text/plain": [
       "user_id    0\n",
       "group      0\n",
       "ab_test    0\n",
       "dtype: int64"
      ]
     },
     "metadata": {},
     "output_type": "display_data"
    }
   ],
   "source": [
    "for i in [marketing_events,new_users,events,participants]:\n",
    "    display(i.isna().sum())"
   ]
  },
  {
   "cell_type": "markdown",
   "metadata": {},
   "source": [
    "Имеются пропуски в столбце final_ab_events.details, они вряд ли понадобятся для исследования, оставляем как есть."
   ]
  },
  {
   "cell_type": "code",
   "execution_count": 11,
   "metadata": {},
   "outputs": [
    {
     "data": {
      "text/plain": [
       "0"
      ]
     },
     "metadata": {},
     "output_type": "display_data"
    },
    {
     "data": {
      "text/plain": [
       "0"
      ]
     },
     "metadata": {},
     "output_type": "display_data"
    },
    {
     "data": {
      "text/plain": [
       "0"
      ]
     },
     "metadata": {},
     "output_type": "display_data"
    },
    {
     "data": {
      "text/plain": [
       "0"
      ]
     },
     "metadata": {},
     "output_type": "display_data"
    }
   ],
   "source": [
    "for i in [marketing_events,new_users,events,participants]:\n",
    "    display(i.duplicated().sum())"
   ]
  },
  {
   "cell_type": "markdown",
   "metadata": {},
   "source": [
    "Дубликаты отсутствуют."
   ]
  },
  {
   "cell_type": "code",
   "execution_count": 12,
   "metadata": {},
   "outputs": [
    {
     "data": {
      "text/plain": [
       "name         object\n",
       "regions      object\n",
       "start_dt     object\n",
       "finish_dt    object\n",
       "dtype: object"
      ]
     },
     "metadata": {},
     "output_type": "display_data"
    },
    {
     "data": {
      "text/plain": [
       "user_id       object\n",
       "first_date    object\n",
       "region        object\n",
       "device        object\n",
       "dtype: object"
      ]
     },
     "metadata": {},
     "output_type": "display_data"
    },
    {
     "data": {
      "text/plain": [
       "user_id        object\n",
       "event_dt       object\n",
       "event_name     object\n",
       "details       float64\n",
       "dtype: object"
      ]
     },
     "metadata": {},
     "output_type": "display_data"
    },
    {
     "data": {
      "text/plain": [
       "user_id    object\n",
       "group      object\n",
       "ab_test    object\n",
       "dtype: object"
      ]
     },
     "metadata": {},
     "output_type": "display_data"
    }
   ],
   "source": [
    "for i in [marketing_events,new_users,events,participants]:\n",
    "    display(i.dtypes)"
   ]
  },
  {
   "cell_type": "markdown",
   "metadata": {},
   "source": [
    "Столбцы с датами следует заменить на соотвествующий тип."
   ]
  },
  {
   "cell_type": "markdown",
   "metadata": {},
   "source": [
    "## Подготовка данных"
   ]
  },
  {
   "cell_type": "code",
   "execution_count": 13,
   "metadata": {},
   "outputs": [],
   "source": [
    "#меняем тип столбцы с датами на соответствующий \n",
    "marketing_events.start_dt = marketing_events.start_dt.astype('datetime64[D]')\n",
    "\n",
    "marketing_events.finish_dt = marketing_events.finish_dt.astype('datetime64[D]')\n",
    "\n",
    "new_users.first_date = new_users.first_date.astype('datetime64[D]')\n",
    "\n",
    "events.event_dt = events.event_dt.astype('datetime64[s]')"
   ]
  },
  {
   "cell_type": "code",
   "execution_count": 14,
   "metadata": {},
   "outputs": [
    {
     "data": {
      "text/plain": [
       "name                 object\n",
       "regions              object\n",
       "start_dt     datetime64[ns]\n",
       "finish_dt    datetime64[ns]\n",
       "dtype: object"
      ]
     },
     "metadata": {},
     "output_type": "display_data"
    },
    {
     "data": {
      "text/plain": [
       "user_id               object\n",
       "first_date    datetime64[ns]\n",
       "region                object\n",
       "device                object\n",
       "dtype: object"
      ]
     },
     "metadata": {},
     "output_type": "display_data"
    },
    {
     "data": {
      "text/plain": [
       "user_id               object\n",
       "event_dt      datetime64[ns]\n",
       "event_name            object\n",
       "details              float64\n",
       "dtype: object"
      ]
     },
     "metadata": {},
     "output_type": "display_data"
    },
    {
     "data": {
      "text/plain": [
       "user_id    object\n",
       "group      object\n",
       "ab_test    object\n",
       "dtype: object"
      ]
     },
     "metadata": {},
     "output_type": "display_data"
    }
   ],
   "source": [
    "for i in [marketing_events,new_users,events,participants]:\n",
    "    display(i.dtypes)"
   ]
  },
  {
   "cell_type": "markdown",
   "metadata": {},
   "source": [
    "По ТЗ нам нужно проанализировать тест по внедрению рекомендательной системы, отфильтруем таблицу с участниками теста"
   ]
  },
  {
   "cell_type": "code",
   "execution_count": 15,
   "metadata": {},
   "outputs": [],
   "source": [
    "participants_actual = participants.query('ab_test == \"recommender_system_test\"')"
   ]
  },
  {
   "cell_type": "code",
   "execution_count": 16,
   "metadata": {},
   "outputs": [
    {
     "name": "stdout",
     "output_type": "stream",
     "text": [
      "Минимальная первая дата: 2020-12-07 00:00:33\n",
      "максимальная первая дата 2020-12-30 23:36:33\n"
     ]
    }
   ],
   "source": [
    "print('Минимальная первая дата:', events['event_dt'].min())\n",
    "print('максимальная первая дата', events['event_dt'].max())"
   ]
  },
  {
   "cell_type": "markdown",
   "metadata": {},
   "source": [
    "Странно, что данные обрываются 30 декабря. Вероятно, по ошибке данные выгружены не полностью или тест был прекращен раньше времени. Собыития планировалось фиксировать до 4го января 2021 года."
   ]
  },
  {
   "cell_type": "markdown",
   "metadata": {},
   "source": [
    "Нас интересуют действия пользователей только в период теста, с 7 декабря 2020 до 4 января 2021 года"
   ]
  },
  {
   "cell_type": "code",
   "execution_count": 17,
   "metadata": {},
   "outputs": [],
   "source": [
    "events = events.query('event_dt >= \"2020-12-07\" and event_dt <= \"2021-01-04\"')"
   ]
  },
  {
   "cell_type": "markdown",
   "metadata": {},
   "source": [
    "Отфильтруем также пользователей с регистрацией вне периода с 7 по 21 декабря."
   ]
  },
  {
   "cell_type": "code",
   "execution_count": 18,
   "metadata": {},
   "outputs": [],
   "source": [
    "new_users = new_users.query('first_date >= \"2020-12-07\" and first_date <= \"2020-12-21\"')"
   ]
  },
  {
   "cell_type": "markdown",
   "metadata": {},
   "source": [
    "Для удобства объединим участников теста с данными о регистрации"
   ]
  },
  {
   "cell_type": "code",
   "execution_count": 19,
   "metadata": {},
   "outputs": [
    {
     "data": {
      "text/html": [
       "<div>\n",
       "<style scoped>\n",
       "    .dataframe tbody tr th:only-of-type {\n",
       "        vertical-align: middle;\n",
       "    }\n",
       "\n",
       "    .dataframe tbody tr th {\n",
       "        vertical-align: top;\n",
       "    }\n",
       "\n",
       "    .dataframe thead th {\n",
       "        text-align: right;\n",
       "    }\n",
       "</style>\n",
       "<table border=\"1\" class=\"dataframe\">\n",
       "  <thead>\n",
       "    <tr style=\"text-align: right;\">\n",
       "      <th></th>\n",
       "      <th>user_id</th>\n",
       "      <th>group</th>\n",
       "      <th>ab_test</th>\n",
       "      <th>first_date</th>\n",
       "      <th>region</th>\n",
       "      <th>device</th>\n",
       "    </tr>\n",
       "  </thead>\n",
       "  <tbody>\n",
       "    <tr>\n",
       "      <th>0</th>\n",
       "      <td>D1ABA3E2887B6A73</td>\n",
       "      <td>A</td>\n",
       "      <td>recommender_system_test</td>\n",
       "      <td>2020-12-07</td>\n",
       "      <td>EU</td>\n",
       "      <td>PC</td>\n",
       "    </tr>\n",
       "    <tr>\n",
       "      <th>1</th>\n",
       "      <td>A7A3664BD6242119</td>\n",
       "      <td>A</td>\n",
       "      <td>recommender_system_test</td>\n",
       "      <td>2020-12-20</td>\n",
       "      <td>EU</td>\n",
       "      <td>iPhone</td>\n",
       "    </tr>\n",
       "    <tr>\n",
       "      <th>2</th>\n",
       "      <td>DABC14FDDFADD29E</td>\n",
       "      <td>A</td>\n",
       "      <td>recommender_system_test</td>\n",
       "      <td>2020-12-08</td>\n",
       "      <td>EU</td>\n",
       "      <td>Mac</td>\n",
       "    </tr>\n",
       "    <tr>\n",
       "      <th>3</th>\n",
       "      <td>04988C5DF189632E</td>\n",
       "      <td>A</td>\n",
       "      <td>recommender_system_test</td>\n",
       "      <td>2020-12-14</td>\n",
       "      <td>EU</td>\n",
       "      <td>iPhone</td>\n",
       "    </tr>\n",
       "    <tr>\n",
       "      <th>4</th>\n",
       "      <td>482F14783456D21B</td>\n",
       "      <td>B</td>\n",
       "      <td>recommender_system_test</td>\n",
       "      <td>2020-12-14</td>\n",
       "      <td>EU</td>\n",
       "      <td>PC</td>\n",
       "    </tr>\n",
       "  </tbody>\n",
       "</table>\n",
       "</div>"
      ],
      "text/plain": [
       "            user_id group                  ab_test first_date region  device\n",
       "0  D1ABA3E2887B6A73     A  recommender_system_test 2020-12-07     EU      PC\n",
       "1  A7A3664BD6242119     A  recommender_system_test 2020-12-20     EU  iPhone\n",
       "2  DABC14FDDFADD29E     A  recommender_system_test 2020-12-08     EU     Mac\n",
       "3  04988C5DF189632E     A  recommender_system_test 2020-12-14     EU  iPhone\n",
       "4  482F14783456D21B     B  recommender_system_test 2020-12-14     EU      PC"
      ]
     },
     "execution_count": 19,
     "metadata": {},
     "output_type": "execute_result"
    }
   ],
   "source": [
    "ab_data = participants_actual.merge(new_users, on='user_id', how='left')\n",
    "          \n",
    "ab_data.head()"
   ]
  },
  {
   "cell_type": "code",
   "execution_count": 20,
   "metadata": {},
   "outputs": [],
   "source": [
    "ab_data = ab_data.query('region == \"EU\"')"
   ]
  },
  {
   "cell_type": "code",
   "execution_count": 21,
   "metadata": {},
   "outputs": [
    {
     "name": "stdout",
     "output_type": "stream",
     "text": [
      "Итого участников теста:  6351\n"
     ]
    }
   ],
   "source": [
    "print('Итого участников теста: ',ab_data['user_id'].nunique())"
   ]
  },
  {
   "cell_type": "markdown",
   "metadata": {},
   "source": [
    "Проверим долю участников теста от новых пользователей из Евросоюза"
   ]
  },
  {
   "cell_type": "code",
   "execution_count": 22,
   "metadata": {},
   "outputs": [
    {
     "data": {
      "text/plain": [
       "0.15"
      ]
     },
     "execution_count": 22,
     "metadata": {},
     "output_type": "execute_result"
    }
   ],
   "source": [
    "ab_data['user_id'].nunique() / new_users.query('region == \"EU\"')['user_id'].nunique()"
   ]
  },
  {
   "cell_type": "markdown",
   "metadata": {},
   "source": [
    "15%. Проверка на соответствие пунктам ТЗ выполнена."
   ]
  },
  {
   "cell_type": "markdown",
   "metadata": {},
   "source": [
    "Смотрим, какие промо акции пришлись на период теста"
   ]
  },
  {
   "cell_type": "code",
   "execution_count": 23,
   "metadata": {},
   "outputs": [
    {
     "data": {
      "text/html": [
       "<div>\n",
       "<style scoped>\n",
       "    .dataframe tbody tr th:only-of-type {\n",
       "        vertical-align: middle;\n",
       "    }\n",
       "\n",
       "    .dataframe tbody tr th {\n",
       "        vertical-align: top;\n",
       "    }\n",
       "\n",
       "    .dataframe thead th {\n",
       "        text-align: right;\n",
       "    }\n",
       "</style>\n",
       "<table border=\"1\" class=\"dataframe\">\n",
       "  <thead>\n",
       "    <tr style=\"text-align: right;\">\n",
       "      <th></th>\n",
       "      <th>name</th>\n",
       "      <th>regions</th>\n",
       "      <th>start_dt</th>\n",
       "      <th>finish_dt</th>\n",
       "    </tr>\n",
       "  </thead>\n",
       "  <tbody>\n",
       "    <tr>\n",
       "      <th>0</th>\n",
       "      <td>Christmas&amp;New Year Promo</td>\n",
       "      <td>EU, N.America</td>\n",
       "      <td>2020-12-25</td>\n",
       "      <td>2021-01-03</td>\n",
       "    </tr>\n",
       "  </tbody>\n",
       "</table>\n",
       "</div>"
      ],
      "text/plain": [
       "                       name        regions   start_dt  finish_dt\n",
       "0  Christmas&New Year Promo  EU, N.America 2020-12-25 2021-01-03"
      ]
     },
     "execution_count": 23,
     "metadata": {},
     "output_type": "execute_result"
    }
   ],
   "source": [
    "marketing_events.query('start_dt >= \"2020-12-07\" and finish_dt <= \"2021-01-04\"')"
   ]
  },
  {
   "cell_type": "markdown",
   "metadata": {},
   "source": [
    "Во время теста проходила новогодняя акция, это может повлиять на итог теста, поэтому удалим пользователей, совершающих действия в период акции. Для этого сначала присоединим к участникам теста таблицу с событиями."
   ]
  },
  {
   "cell_type": "code",
   "execution_count": 24,
   "metadata": {},
   "outputs": [
    {
     "data": {
      "text/html": [
       "<div>\n",
       "<style scoped>\n",
       "    .dataframe tbody tr th:only-of-type {\n",
       "        vertical-align: middle;\n",
       "    }\n",
       "\n",
       "    .dataframe tbody tr th {\n",
       "        vertical-align: top;\n",
       "    }\n",
       "\n",
       "    .dataframe thead th {\n",
       "        text-align: right;\n",
       "    }\n",
       "</style>\n",
       "<table border=\"1\" class=\"dataframe\">\n",
       "  <thead>\n",
       "    <tr style=\"text-align: right;\">\n",
       "      <th></th>\n",
       "      <th>user_id</th>\n",
       "      <th>group</th>\n",
       "      <th>ab_test</th>\n",
       "      <th>first_date</th>\n",
       "      <th>region</th>\n",
       "      <th>device</th>\n",
       "      <th>event_dt</th>\n",
       "      <th>event_name</th>\n",
       "      <th>details</th>\n",
       "    </tr>\n",
       "  </thead>\n",
       "  <tbody>\n",
       "    <tr>\n",
       "      <th>0</th>\n",
       "      <td>D1ABA3E2887B6A73</td>\n",
       "      <td>A</td>\n",
       "      <td>recommender_system_test</td>\n",
       "      <td>2020-12-07</td>\n",
       "      <td>EU</td>\n",
       "      <td>PC</td>\n",
       "      <td>2020-12-07 14:43:27</td>\n",
       "      <td>purchase</td>\n",
       "      <td>99.99</td>\n",
       "    </tr>\n",
       "    <tr>\n",
       "      <th>1</th>\n",
       "      <td>D1ABA3E2887B6A73</td>\n",
       "      <td>A</td>\n",
       "      <td>recommender_system_test</td>\n",
       "      <td>2020-12-07</td>\n",
       "      <td>EU</td>\n",
       "      <td>PC</td>\n",
       "      <td>2020-12-25 00:04:56</td>\n",
       "      <td>purchase</td>\n",
       "      <td>4.99</td>\n",
       "    </tr>\n",
       "    <tr>\n",
       "      <th>2</th>\n",
       "      <td>D1ABA3E2887B6A73</td>\n",
       "      <td>A</td>\n",
       "      <td>recommender_system_test</td>\n",
       "      <td>2020-12-07</td>\n",
       "      <td>EU</td>\n",
       "      <td>PC</td>\n",
       "      <td>2020-12-07 14:43:29</td>\n",
       "      <td>product_cart</td>\n",
       "      <td>NaN</td>\n",
       "    </tr>\n",
       "    <tr>\n",
       "      <th>3</th>\n",
       "      <td>D1ABA3E2887B6A73</td>\n",
       "      <td>A</td>\n",
       "      <td>recommender_system_test</td>\n",
       "      <td>2020-12-07</td>\n",
       "      <td>EU</td>\n",
       "      <td>PC</td>\n",
       "      <td>2020-12-25 00:04:57</td>\n",
       "      <td>product_cart</td>\n",
       "      <td>NaN</td>\n",
       "    </tr>\n",
       "    <tr>\n",
       "      <th>4</th>\n",
       "      <td>D1ABA3E2887B6A73</td>\n",
       "      <td>A</td>\n",
       "      <td>recommender_system_test</td>\n",
       "      <td>2020-12-07</td>\n",
       "      <td>EU</td>\n",
       "      <td>PC</td>\n",
       "      <td>2020-12-07 14:43:27</td>\n",
       "      <td>product_page</td>\n",
       "      <td>NaN</td>\n",
       "    </tr>\n",
       "    <tr>\n",
       "      <th>...</th>\n",
       "      <td>...</td>\n",
       "      <td>...</td>\n",
       "      <td>...</td>\n",
       "      <td>...</td>\n",
       "      <td>...</td>\n",
       "      <td>...</td>\n",
       "      <td>...</td>\n",
       "      <td>...</td>\n",
       "      <td>...</td>\n",
       "    </tr>\n",
       "    <tr>\n",
       "      <th>26285</th>\n",
       "      <td>80712ED4EA1B52A5</td>\n",
       "      <td>A</td>\n",
       "      <td>recommender_system_test</td>\n",
       "      <td>2020-12-14</td>\n",
       "      <td>EU</td>\n",
       "      <td>Android</td>\n",
       "      <td>2020-12-15 20:10:06</td>\n",
       "      <td>product_page</td>\n",
       "      <td>NaN</td>\n",
       "    </tr>\n",
       "    <tr>\n",
       "      <th>26286</th>\n",
       "      <td>80712ED4EA1B52A5</td>\n",
       "      <td>A</td>\n",
       "      <td>recommender_system_test</td>\n",
       "      <td>2020-12-14</td>\n",
       "      <td>EU</td>\n",
       "      <td>Android</td>\n",
       "      <td>2020-12-20 20:01:34</td>\n",
       "      <td>product_page</td>\n",
       "      <td>NaN</td>\n",
       "    </tr>\n",
       "    <tr>\n",
       "      <th>26287</th>\n",
       "      <td>80712ED4EA1B52A5</td>\n",
       "      <td>A</td>\n",
       "      <td>recommender_system_test</td>\n",
       "      <td>2020-12-14</td>\n",
       "      <td>EU</td>\n",
       "      <td>Android</td>\n",
       "      <td>2020-12-14 05:48:50</td>\n",
       "      <td>login</td>\n",
       "      <td>NaN</td>\n",
       "    </tr>\n",
       "    <tr>\n",
       "      <th>26288</th>\n",
       "      <td>80712ED4EA1B52A5</td>\n",
       "      <td>A</td>\n",
       "      <td>recommender_system_test</td>\n",
       "      <td>2020-12-14</td>\n",
       "      <td>EU</td>\n",
       "      <td>Android</td>\n",
       "      <td>2020-12-15 20:10:03</td>\n",
       "      <td>login</td>\n",
       "      <td>NaN</td>\n",
       "    </tr>\n",
       "    <tr>\n",
       "      <th>26289</th>\n",
       "      <td>80712ED4EA1B52A5</td>\n",
       "      <td>A</td>\n",
       "      <td>recommender_system_test</td>\n",
       "      <td>2020-12-14</td>\n",
       "      <td>EU</td>\n",
       "      <td>Android</td>\n",
       "      <td>2020-12-20 20:01:32</td>\n",
       "      <td>login</td>\n",
       "      <td>NaN</td>\n",
       "    </tr>\n",
       "  </tbody>\n",
       "</table>\n",
       "<p>26290 rows × 9 columns</p>\n",
       "</div>"
      ],
      "text/plain": [
       "                user_id group                  ab_test first_date region  \\\n",
       "0      D1ABA3E2887B6A73     A  recommender_system_test 2020-12-07     EU   \n",
       "1      D1ABA3E2887B6A73     A  recommender_system_test 2020-12-07     EU   \n",
       "2      D1ABA3E2887B6A73     A  recommender_system_test 2020-12-07     EU   \n",
       "3      D1ABA3E2887B6A73     A  recommender_system_test 2020-12-07     EU   \n",
       "4      D1ABA3E2887B6A73     A  recommender_system_test 2020-12-07     EU   \n",
       "...                 ...   ...                      ...        ...    ...   \n",
       "26285  80712ED4EA1B52A5     A  recommender_system_test 2020-12-14     EU   \n",
       "26286  80712ED4EA1B52A5     A  recommender_system_test 2020-12-14     EU   \n",
       "26287  80712ED4EA1B52A5     A  recommender_system_test 2020-12-14     EU   \n",
       "26288  80712ED4EA1B52A5     A  recommender_system_test 2020-12-14     EU   \n",
       "26289  80712ED4EA1B52A5     A  recommender_system_test 2020-12-14     EU   \n",
       "\n",
       "        device            event_dt    event_name  details  \n",
       "0           PC 2020-12-07 14:43:27      purchase    99.99  \n",
       "1           PC 2020-12-25 00:04:56      purchase     4.99  \n",
       "2           PC 2020-12-07 14:43:29  product_cart      NaN  \n",
       "3           PC 2020-12-25 00:04:57  product_cart      NaN  \n",
       "4           PC 2020-12-07 14:43:27  product_page      NaN  \n",
       "...        ...                 ...           ...      ...  \n",
       "26285  Android 2020-12-15 20:10:06  product_page      NaN  \n",
       "26286  Android 2020-12-20 20:01:34  product_page      NaN  \n",
       "26287  Android 2020-12-14 05:48:50         login      NaN  \n",
       "26288  Android 2020-12-15 20:10:03         login      NaN  \n",
       "26289  Android 2020-12-20 20:01:32         login      NaN  \n",
       "\n",
       "[26290 rows x 9 columns]"
      ]
     },
     "execution_count": 24,
     "metadata": {},
     "output_type": "execute_result"
    }
   ],
   "source": [
    "ab_data = ab_data.merge(events, on='user_id', how='left').reset_index(drop=True)\n",
    "\n",
    "ab_data"
   ]
  },
  {
   "cell_type": "markdown",
   "metadata": {},
   "source": [
    "Проверяем на пересечения с конкурирующим тестом"
   ]
  },
  {
   "cell_type": "code",
   "execution_count": 25,
   "metadata": {},
   "outputs": [
    {
     "data": {
      "text/plain": [
       "783"
      ]
     },
     "execution_count": 25,
     "metadata": {},
     "output_type": "execute_result"
    }
   ],
   "source": [
    "participants.query('ab_test == \"recommender_system_test\"')['user_id'].isin(participants.query('ab_test == \"interface_eu_test\" and group ==\"B\"')['user_id']).sum()"
   ]
  },
  {
   "cell_type": "markdown",
   "metadata": {},
   "source": [
    "Пересечения есть, фильтруем датасет"
   ]
  },
  {
   "cell_type": "code",
   "execution_count": 26,
   "metadata": {},
   "outputs": [],
   "source": [
    "ab_data = ab_data[~ab_data['user_id'].isin(participants[(participants['ab_test']=='interface_eu_test')&(participants['group']=='B')]['user_id'])]"
   ]
  },
  {
   "cell_type": "code",
   "execution_count": 27,
   "metadata": {},
   "outputs": [
    {
     "data": {
      "text/plain": [
       "23082"
      ]
     },
     "execution_count": 27,
     "metadata": {},
     "output_type": "execute_result"
    }
   ],
   "source": [
    "len(ab_data)"
   ]
  },
  {
   "cell_type": "code",
   "execution_count": 28,
   "metadata": {},
   "outputs": [
    {
     "data": {
      "text/plain": [
       "0.8779764168885508"
      ]
     },
     "execution_count": 28,
     "metadata": {},
     "output_type": "execute_result"
    }
   ],
   "source": [
    "23082 / 26290"
   ]
  },
  {
   "cell_type": "markdown",
   "metadata": {},
   "source": [
    "Итого пришлось отбросить 12%."
   ]
  },
  {
   "cell_type": "code",
   "execution_count": 29,
   "metadata": {},
   "outputs": [
    {
     "data": {
      "text/plain": [
       "0"
      ]
     },
     "execution_count": 29,
     "metadata": {},
     "output_type": "execute_result"
    }
   ],
   "source": [
    "ab_data.query('group == \"A\"')['user_id'].isin(ab_data.query('group == \"B\"')['user_id']).sum()"
   ]
  },
  {
   "cell_type": "markdown",
   "metadata": {},
   "source": [
    "Пересечений между группами нет."
   ]
  },
  {
   "cell_type": "code",
   "execution_count": 30,
   "metadata": {},
   "outputs": [
    {
     "data": {
      "image/png": "[encoded data removed]",
      "text/plain": [
       "<Figure size 1200x640 with 1 Axes>"
      ]
     },
     "metadata": {},
     "output_type": "display_data"
    }
   ],
   "source": [
    "sns.set_palette('pastel')\n",
    "sns.set_style('darkgrid')\n",
    "\n",
    "plt.figure(figsize=(15,8), dpi = 80)\n",
    "\n",
    "event_groups = ab_data.groupby(['group','event_name'],as_index=False).agg({'user_id':'nunique'}).sort_values('user_id')\n",
    "\n",
    "\n",
    "sns.barplot(data = event_groups, x = 'event_name', y = 'user_id', hue = 'group')\n",
    "plt.title('Распределение пользователей по тестовым группам',size=16)\n",
    "plt.ylabel('Пользователи',size=14)\n",
    "plt.xticks(size=12)\n",
    "plt.yticks(size=12)\n",
    "plt.xlabel('Событие',size=14)\n",
    "plt.show()"
   ]
  },
  {
   "cell_type": "markdown",
   "metadata": {},
   "source": [
    "Распределение событий между группами отличается значительно."
   ]
  },
  {
   "cell_type": "code",
   "execution_count": 31,
   "metadata": {},
   "outputs": [
    {
     "data": {
      "text/html": [
       "<div>\n",
       "<style scoped>\n",
       "    .dataframe tbody tr th:only-of-type {\n",
       "        vertical-align: middle;\n",
       "    }\n",
       "\n",
       "    .dataframe tbody tr th {\n",
       "        vertical-align: top;\n",
       "    }\n",
       "\n",
       "    .dataframe thead th {\n",
       "        text-align: right;\n",
       "    }\n",
       "</style>\n",
       "<table border=\"1\" class=\"dataframe\">\n",
       "  <thead>\n",
       "    <tr style=\"text-align: right;\">\n",
       "      <th></th>\n",
       "      <th>group</th>\n",
       "      <th>user_id</th>\n",
       "    </tr>\n",
       "  </thead>\n",
       "  <tbody>\n",
       "    <tr>\n",
       "      <th>0</th>\n",
       "      <td>A</td>\n",
       "      <td>3195</td>\n",
       "    </tr>\n",
       "    <tr>\n",
       "      <th>1</th>\n",
       "      <td>B</td>\n",
       "      <td>2373</td>\n",
       "    </tr>\n",
       "  </tbody>\n",
       "</table>\n",
       "</div>"
      ],
      "text/plain": [
       "  group  user_id\n",
       "0     A     3195\n",
       "1     B     2373"
      ]
     },
     "execution_count": 31,
     "metadata": {},
     "output_type": "execute_result"
    }
   ],
   "source": [
    "ab_data.groupby('group',as_index=False).agg({'user_id':'nunique'})"
   ]
  },
  {
   "cell_type": "code",
   "execution_count": 32,
   "metadata": {},
   "outputs": [
    {
     "data": {
      "text/plain": [
       "0.7427230046948357"
      ]
     },
     "execution_count": 32,
     "metadata": {},
     "output_type": "execute_result"
    }
   ],
   "source": [
    "2373 / 3195"
   ]
  },
  {
   "cell_type": "markdown",
   "metadata": {},
   "source": [
    "Видно, что распределение между группами неравномерное, группа А почти на 25% больше группы В. Это очевидно повлияет на результат теста."
   ]
  },
  {
   "cell_type": "markdown",
   "metadata": {},
   "source": [
    "## Исследование данных"
   ]
  },
  {
   "cell_type": "code",
   "execution_count": 33,
   "metadata": {},
   "outputs": [
    {
     "data": {
      "text/html": [
       "<div>\n",
       "<style scoped>\n",
       "    .dataframe tbody tr th:only-of-type {\n",
       "        vertical-align: middle;\n",
       "    }\n",
       "\n",
       "    .dataframe tbody tr th {\n",
       "        vertical-align: top;\n",
       "    }\n",
       "\n",
       "    .dataframe thead th {\n",
       "        text-align: right;\n",
       "    }\n",
       "</style>\n",
       "<table border=\"1\" class=\"dataframe\">\n",
       "  <thead>\n",
       "    <tr style=\"text-align: right;\">\n",
       "      <th></th>\n",
       "      <th>group</th>\n",
       "      <th>event_name</th>\n",
       "      <th>events_on_user</th>\n",
       "    </tr>\n",
       "  </thead>\n",
       "  <tbody>\n",
       "    <tr>\n",
       "      <th>0</th>\n",
       "      <td>A</td>\n",
       "      <td>16154</td>\n",
       "      <td>5.06</td>\n",
       "    </tr>\n",
       "    <tr>\n",
       "      <th>1</th>\n",
       "      <td>B</td>\n",
       "      <td>4410</td>\n",
       "      <td>1.86</td>\n",
       "    </tr>\n",
       "  </tbody>\n",
       "</table>\n",
       "</div>"
      ],
      "text/plain": [
       "  group  event_name  events_on_user\n",
       "0     A       16154            5.06\n",
       "1     B        4410            1.86"
      ]
     },
     "execution_count": 33,
     "metadata": {},
     "output_type": "execute_result"
    }
   ],
   "source": [
    "event_usrs = ab_data.groupby('group',as_index=False).agg({'event_name':'count'})\n",
    "\n",
    "event_usrs['events_on_user'] = (event_usrs['event_name'] / ab_data.groupby('group',as_index=False).agg({'user_id':'nunique'})['user_id']).round(2)\n",
    "\n",
    "event_usrs"
   ]
  },
  {
   "cell_type": "markdown",
   "metadata": {},
   "source": [
    "Среднее число событий на пользователя отличаются значительно. Поведенчески группы между собой явно не равны."
   ]
  },
  {
   "cell_type": "code",
   "execution_count": 34,
   "metadata": {},
   "outputs": [
    {
     "data": {
      "image/png": "[encoded data removed]",
      "text/plain": [
       "<Figure size 1200x640 with 1 Axes>"
      ]
     },
     "metadata": {},
     "output_type": "display_data"
    }
   ],
   "source": [
    "fig, ax = plt.subplots(figsize=(15,8), dpi = 80)\n",
    "\n",
    "ab_data.query('group==\"A\"')['event_dt'].hist(bins=100,label='A')\n",
    "\n",
    "ab_data.query('group==\"B\"')['event_dt'].hist(bins=100,label='B')\n",
    "\n",
    "ax.legend(title = 'группа')\n",
    "plt.xlabel('Дата',size=14)\n",
    "plt.ylabel('Число событий',size=14)\n",
    "plt.title('Распределение событий по дням в группах',size=16);"
   ]
  },
  {
   "cell_type": "markdown",
   "metadata": {},
   "source": [
    "События в группах также распределение по дням разное. С 14 декабря в группе А резко возрастает активность, вероятно, эти пользователи участвовали в какой-то промо акции, о которой нет информации в данных. Группа В распределена относительно равномерно, с небольшими спадами и пиками."
   ]
  },
  {
   "cell_type": "markdown",
   "metadata": {},
   "source": [
    "Предположим, цепочка событий выглядит так: login → product_page → product_cart → purchase. Построим воронку событий для групп"
   ]
  },
  {
   "cell_type": "code",
   "execution_count": 35,
   "metadata": {},
   "outputs": [],
   "source": [
    "grpA = (ab_data\n",
    "        .query('group == \"A\"')\n",
    "        .groupby('event_name',as_index=False)\n",
    "        .agg({'user_id':'nunique'})\n",
    "        .sort_values('user_id', ascending = False)\n",
    "        .reindex([0,2,1,3])\n",
    "       )\n",
    "\n",
    "grpB = (ab_data.query('group == \"B\"')\n",
    "        .groupby('event_name',as_index=False)\n",
    "        .agg({'user_id':'nunique'})\n",
    "        .sort_values('user_id', ascending = False)\n",
    "        .reindex([0,2,1,3])\n",
    "       )"
   ]
  },
  {
   "cell_type": "code",
   "execution_count": 36,
   "metadata": {},
   "outputs": [
    {
     "data": {
      "image/png": "[encoded data removed]"
     },
     "metadata": {},
     "output_type": "display_data"
    }
   ],
   "source": [
    "fig = go.Figure()\n",
    "\n",
    "fig.add_trace(go.Funnel(\n",
    "    name = 'A',\n",
    "    y = grpA['event_name'],\n",
    "    x = grpA['user_id'],\n",
    "    textinfo = \"value+percent initial\"))\n",
    "\n",
    "fig.add_trace(go.Funnel(\n",
    "    name = 'B',\n",
    "    y = grpB['event_name'],\n",
    "    x = grpB['user_id'],\n",
    "    textinfo = \"value+percent initial\"))\n",
    "\n",
    "fig.update_layout(\n",
    "    title = {\n",
    "        'text' : 'Конверсия событий пользователей по группам А и В',\n",
    "        'x':0.5\n",
    "    }\n",
    ")\n",
    "\n",
    "fig.show()"
   ]
  },
  {
   "cell_type": "markdown",
   "metadata": {},
   "source": [
    "Конверсии в покупку для обоих групп около 30%, целевой рост группы В на 10% не достигнут. Интересно, что число пользователей с экрана корзины меньше, чем число пользователей, купивших товар. Видимо, покупку можно совершить в обход корзины или имеет место какая-то системная ошибка."
   ]
  },
  {
   "cell_type": "markdown",
   "metadata": {},
   "source": [
    "## Оценка результатов А/В теста"
   ]
  },
  {
   "cell_type": "code",
   "execution_count": 37,
   "metadata": {},
   "outputs": [
    {
     "data": {
      "text/html": [
       "<div>\n",
       "<style scoped>\n",
       "    .dataframe tbody tr th:only-of-type {\n",
       "        vertical-align: middle;\n",
       "    }\n",
       "\n",
       "    .dataframe tbody tr th {\n",
       "        vertical-align: top;\n",
       "    }\n",
       "\n",
       "    .dataframe thead th {\n",
       "        text-align: right;\n",
       "    }\n",
       "</style>\n",
       "<table border=\"1\" class=\"dataframe\">\n",
       "  <thead>\n",
       "    <tr style=\"text-align: right;\">\n",
       "      <th>group</th>\n",
       "      <th>event_name</th>\n",
       "      <th>A</th>\n",
       "      <th>B</th>\n",
       "    </tr>\n",
       "  </thead>\n",
       "  <tbody>\n",
       "    <tr>\n",
       "      <th>0</th>\n",
       "      <td>login</td>\n",
       "      <td>2279</td>\n",
       "      <td>771</td>\n",
       "    </tr>\n",
       "    <tr>\n",
       "      <th>1</th>\n",
       "      <td>product_cart</td>\n",
       "      <td>686</td>\n",
       "      <td>214</td>\n",
       "    </tr>\n",
       "    <tr>\n",
       "      <th>2</th>\n",
       "      <td>product_page</td>\n",
       "      <td>1476</td>\n",
       "      <td>429</td>\n",
       "    </tr>\n",
       "    <tr>\n",
       "      <th>3</th>\n",
       "      <td>purchase</td>\n",
       "      <td>734</td>\n",
       "      <td>219</td>\n",
       "    </tr>\n",
       "  </tbody>\n",
       "</table>\n",
       "</div>"
      ],
      "text/plain": [
       "group    event_name     A    B\n",
       "0             login  2279  771\n",
       "1      product_cart   686  214\n",
       "2      product_page  1476  429\n",
       "3          purchase   734  219"
      ]
     },
     "execution_count": 37,
     "metadata": {},
     "output_type": "execute_result"
    }
   ],
   "source": [
    "#разбивка числа пользователей по событиям и группам\n",
    "events_grps = ab_data.pivot_table(index='event_name', values='user_id', columns='group', aggfunc='nunique').reset_index()\n",
    "\n",
    "events_grps"
   ]
  },
  {
   "cell_type": "code",
   "execution_count": 38,
   "metadata": {},
   "outputs": [
    {
     "data": {
      "text/html": [
       "<div>\n",
       "<style scoped>\n",
       "    .dataframe tbody tr th:only-of-type {\n",
       "        vertical-align: middle;\n",
       "    }\n",
       "\n",
       "    .dataframe tbody tr th {\n",
       "        vertical-align: top;\n",
       "    }\n",
       "\n",
       "    .dataframe thead th {\n",
       "        text-align: right;\n",
       "    }\n",
       "</style>\n",
       "<table border=\"1\" class=\"dataframe\">\n",
       "  <thead>\n",
       "    <tr style=\"text-align: right;\">\n",
       "      <th></th>\n",
       "      <th>group</th>\n",
       "      <th>user_id</th>\n",
       "    </tr>\n",
       "  </thead>\n",
       "  <tbody>\n",
       "    <tr>\n",
       "      <th>0</th>\n",
       "      <td>A</td>\n",
       "      <td>3195</td>\n",
       "    </tr>\n",
       "    <tr>\n",
       "      <th>1</th>\n",
       "      <td>B</td>\n",
       "      <td>2373</td>\n",
       "    </tr>\n",
       "  </tbody>\n",
       "</table>\n",
       "</div>"
      ],
      "text/plain": [
       "  group  user_id\n",
       "0     A     3195\n",
       "1     B     2373"
      ]
     },
     "execution_count": 38,
     "metadata": {},
     "output_type": "execute_result"
    }
   ],
   "source": [
    "#число пользователей в группах\n",
    "groups = ab_data.groupby('group',as_index=False).agg({'user_id':'nunique'})\n",
    "\n",
    "groups"
   ]
  },
  {
   "cell_type": "markdown",
   "metadata": {},
   "source": [
    "Размеры групп, как уже отмечалось ранее, отличаются. Возможно, были допущены ошибки при разбиении на группы."
   ]
  },
  {
   "cell_type": "code",
   "execution_count": 39,
   "metadata": {},
   "outputs": [],
   "source": [
    "#определим функцию для проведения теста на равенство долей\n",
    "def z_test(group1, group2, event, alpha=0.05):\n",
    "    #доли пользователей в группах при событии event\n",
    "    successes1 = events_grps[events_grps['event_name']==event][group1].iloc[0]\n",
    "    successes2 = events_grps[events_grps['event_name']==event][group2].iloc[0]\n",
    "    \n",
    "    #общее количество наблюдений в группах\n",
    "    trials1 = groups[groups['group']== group1]['user_id'].iloc[0]\n",
    "    trials2 = groups[groups['group']== group2]['user_id'].iloc[0]\n",
    "    \n",
    "    #пропорция успехов в первой группе\n",
    "    p1 = successes1/trials1\n",
    "\n",
    "    #пропорция успехов во второй группе\n",
    "    p2 = successes2/trials2\n",
    "\n",
    "    #пропорция успехов в комбинированном датасете\n",
    "    p_combined = (successes1 + successes2) / (trials1 + trials2)\n",
    "\n",
    "    #разница пропорций в датасетах\n",
    "    difference = p1 - p2\n",
    "    \n",
    "    #считаем статистику в ст.отклонениях стандартного нормального распределения   \n",
    "    z_value = difference / mth.sqrt(p_combined * (1 - p_combined) * (1/trials1 + 1/trials2))\n",
    "\n",
    "    #задаем стандартное нормальное распределение (среднее 0, ст.отклонение 1)\n",
    "    distr = st.norm(0, 1)\n",
    "    \n",
    "    alpha = alpha / 4 #применим поправку Бонферрони\n",
    "\n",
    "    #значение p для двухсторонней гипотезы\n",
    "    p_value = (1 - distr.cdf(abs(z_value))) * 2\n",
    "\n",
    "    print('p-value: ', p_value)\n",
    "\n",
    "    if (p_value < alpha):\n",
    "        print(\"Отвергаем нулевую гипотезу: между долями есть значимая разница для события\", event, 'для групп', group1, 'и', group2)\n",
    "    else:\n",
    "        print(\"Не получилось отвергнуть нулевую гипотезу для события\", event, 'для групп', group1, 'и', group2)  "
   ]
  },
  {
   "cell_type": "markdown",
   "metadata": {},
   "source": [
    "Проверим, есть ли различия между долями пользователей в событии event в контрольных группах. Формулируем гипотезы:\n",
    "\n",
    "```\n",
    "H_0: Между долями пользователей групп нет статистических различий.\n",
    "\n",
    "H_a: Между долями пользователей групп есть статистические различия.\n",
    "```\n",
    "Уровень значимости = 0.05"
   ]
  },
  {
   "cell_type": "code",
   "execution_count": 40,
   "metadata": {},
   "outputs": [
    {
     "name": "stdout",
     "output_type": "stream",
     "text": [
      "p-value:  0.0\n",
      "Отвергаем нулевую гипотезу: между долями есть значимая разница для события login для групп A и B\n",
      "p-value:  0.0\n",
      "Отвергаем нулевую гипотезу: между долями есть значимая разница для события product_cart для групп A и B\n",
      "p-value:  0.0\n",
      "Отвергаем нулевую гипотезу: между долями есть значимая разница для события product_page для групп A и B\n",
      "p-value:  0.0\n",
      "Отвергаем нулевую гипотезу: между долями есть значимая разница для события purchase для групп A и B\n"
     ]
    }
   ],
   "source": [
    "for event in events_grps.event_name.unique():\n",
    "    z_test('A', 'B', event, 0.05)"
   ]
  },
  {
   "cell_type": "markdown",
   "metadata": {},
   "source": [
    "Статистическая разница видна для всех событий. Но конверсия скорее всего изменилась в сторону уменьшения, как мы видим по воронке событий."
   ]
  },
  {
   "cell_type": "markdown",
   "metadata": {},
   "source": [
    "## Общие выводы"
   ]
  },
  {
   "cell_type": "markdown",
   "metadata": {},
   "source": [
    "По итогу, результаты теста не имеет смысла интерпретировать, начальные данные очень \"грязные\", пришлось отбросить так как проведение теста можно назвать некорректным по причинам:\n",
    "\n",
    "* данные по действиям пользователей обрываются 30го декабря 2020, хотя тест должен был идти ещё 5 дней, до 4го января 2021\n",
    "\n",
    "* данные по регистрациям пользователям имеются с 7 по 23 декабря 2020 года, хотя окончание набора пользователей было запланировано на 21 декабря\n",
    "\n",
    "* в данных есть пользователи из других регионов помимо EU\n",
    "\n",
    "* тест recommender_system_test проводился параллельно с конкурирующим тестом interface_eu_test\n",
    "\n",
    "* в воронках целевой показатель роста конверсии по каждому шагу на 10% не достигнут\n",
    "\n",
    "* контрольная группа А больше на 25% тестовой группы B\n",
    "\n",
    "* проведение теста пересекается с промо событием Christmas&New Year Promo\n",
    "\n",
    "Похоже, что это результат либо ошибок в организации тестирования, либо технического сбоя в сборе данных. Необходимо пересмотреть дизайн теста и обеспечить техническую возможность его проведения. Тщательно подготовить данные, корректно распределить группы пользователей. Также **желательно** не проводить тест в период акций, которые будут очевидно влиять на конверсию, и также не проводить одновременно несколько конкурирующих тестов."
   ]
  },
  {
   "cell_type": "code",
   "execution_count": null,
   "metadata": {},
   "outputs": [],
   "source": []
  }
 ],
 "metadata": {
  "ExecuteTimeLog": [
   {
    "duration": 1451,
    "start_time": "2022-11-18T09:36:36.661Z"
   },
   {
    "duration": 1212,
    "start_time": "2022-11-18T09:37:13.789Z"
   },
   {
    "duration": 33,
    "start_time": "2022-11-18T09:38:22.572Z"
   },
   {
    "duration": 77,
    "start_time": "2022-11-18T09:40:46.802Z"
   },
   {
    "duration": 73,
    "start_time": "2022-11-18T09:40:57.112Z"
   },
   {
    "duration": 84,
    "start_time": "2022-11-18T09:41:41.677Z"
   },
   {
    "duration": 347,
    "start_time": "2022-11-18T09:41:56.788Z"
   },
   {
    "duration": 13,
    "start_time": "2022-11-18T09:48:18.491Z"
   },
   {
    "duration": 5,
    "start_time": "2022-11-18T09:57:26.653Z"
   },
   {
    "duration": 5,
    "start_time": "2022-11-18T09:57:49.775Z"
   },
   {
    "duration": 8,
    "start_time": "2022-11-18T09:59:54.791Z"
   },
   {
    "duration": 29,
    "start_time": "2022-11-18T10:01:14.702Z"
   },
   {
    "duration": 5,
    "start_time": "2022-11-18T10:01:56.262Z"
   },
   {
    "duration": 7,
    "start_time": "2022-11-18T10:02:15.379Z"
   },
   {
    "duration": 100,
    "start_time": "2022-11-18T10:07:54.324Z"
   },
   {
    "duration": 3,
    "start_time": "2022-11-18T10:11:09.538Z"
   },
   {
    "duration": 598,
    "start_time": "2022-11-18T10:11:09.543Z"
   },
   {
    "duration": 22,
    "start_time": "2022-11-18T10:11:10.143Z"
   },
   {
    "duration": 11,
    "start_time": "2022-11-18T10:11:10.167Z"
   },
   {
    "duration": 5,
    "start_time": "2022-11-18T10:11:10.180Z"
   },
   {
    "duration": 11,
    "start_time": "2022-11-18T10:11:10.186Z"
   },
   {
    "duration": 30,
    "start_time": "2022-11-18T10:11:10.198Z"
   },
   {
    "duration": 6,
    "start_time": "2022-11-18T10:11:10.230Z"
   },
   {
    "duration": 7,
    "start_time": "2022-11-18T10:11:10.238Z"
   },
   {
    "duration": 107,
    "start_time": "2022-11-18T10:11:10.247Z"
   },
   {
    "duration": 327,
    "start_time": "2022-11-18T10:11:10.355Z"
   },
   {
    "duration": 13,
    "start_time": "2022-11-18T10:11:10.683Z"
   },
   {
    "duration": 1796,
    "start_time": "2022-11-18T10:11:13.180Z"
   },
   {
    "duration": 1749,
    "start_time": "2022-11-18T10:12:55.306Z"
   },
   {
    "duration": 124,
    "start_time": "2022-11-18T10:14:01.394Z"
   },
   {
    "duration": 15,
    "start_time": "2022-11-18T10:14:08.766Z"
   },
   {
    "duration": 5,
    "start_time": "2022-11-18T10:14:51.479Z"
   },
   {
    "duration": 618,
    "start_time": "2022-11-18T10:14:51.487Z"
   },
   {
    "duration": 24,
    "start_time": "2022-11-18T10:14:52.106Z"
   },
   {
    "duration": 18,
    "start_time": "2022-11-18T10:14:52.132Z"
   },
   {
    "duration": 17,
    "start_time": "2022-11-18T10:14:52.152Z"
   },
   {
    "duration": 33,
    "start_time": "2022-11-18T10:14:52.170Z"
   },
   {
    "duration": 34,
    "start_time": "2022-11-18T10:14:52.204Z"
   },
   {
    "duration": 24,
    "start_time": "2022-11-18T10:14:52.239Z"
   },
   {
    "duration": 12,
    "start_time": "2022-11-18T10:14:52.265Z"
   },
   {
    "duration": 88,
    "start_time": "2022-11-18T10:14:52.279Z"
   },
   {
    "duration": 323,
    "start_time": "2022-11-18T10:14:52.377Z"
   },
   {
    "duration": 11,
    "start_time": "2022-11-18T10:14:52.702Z"
   },
   {
    "duration": 180,
    "start_time": "2022-11-18T10:14:52.714Z"
   },
   {
    "duration": 17,
    "start_time": "2022-11-18T10:14:52.896Z"
   },
   {
    "duration": 3,
    "start_time": "2022-11-18T10:50:54.722Z"
   },
   {
    "duration": 561,
    "start_time": "2022-11-18T10:50:54.727Z"
   },
   {
    "duration": 25,
    "start_time": "2022-11-18T10:50:55.290Z"
   },
   {
    "duration": 4,
    "start_time": "2022-11-18T10:50:55.317Z"
   },
   {
    "duration": 6,
    "start_time": "2022-11-18T10:50:55.324Z"
   },
   {
    "duration": 12,
    "start_time": "2022-11-18T10:50:55.332Z"
   },
   {
    "duration": 52,
    "start_time": "2022-11-18T10:50:55.346Z"
   },
   {
    "duration": 6,
    "start_time": "2022-11-18T10:50:55.401Z"
   },
   {
    "duration": 11,
    "start_time": "2022-11-18T10:50:55.409Z"
   },
   {
    "duration": 115,
    "start_time": "2022-11-18T10:50:55.422Z"
   },
   {
    "duration": 303,
    "start_time": "2022-11-18T10:50:55.538Z"
   },
   {
    "duration": 9,
    "start_time": "2022-11-18T10:50:55.843Z"
   },
   {
    "duration": 154,
    "start_time": "2022-11-18T10:50:55.854Z"
   },
   {
    "duration": 11,
    "start_time": "2022-11-18T10:50:56.012Z"
   },
   {
    "duration": 9,
    "start_time": "2022-11-18T10:50:56.025Z"
   },
   {
    "duration": 59,
    "start_time": "2022-11-18T10:50:56.036Z"
   },
   {
    "duration": 10,
    "start_time": "2022-11-18T10:50:57.771Z"
   },
   {
    "duration": 1106,
    "start_time": "2022-11-18T10:52:35.817Z"
   },
   {
    "duration": 7,
    "start_time": "2022-11-18T10:52:48.563Z"
   },
   {
    "duration": 37,
    "start_time": "2022-11-18T10:54:55.249Z"
   },
   {
    "duration": 11,
    "start_time": "2022-11-18T10:55:08.967Z"
   },
   {
    "duration": 152,
    "start_time": "2022-11-18T10:55:33.392Z"
   },
   {
    "duration": 184,
    "start_time": "2022-11-18T10:55:45.019Z"
   },
   {
    "duration": 170,
    "start_time": "2022-11-18T10:55:59.885Z"
   },
   {
    "duration": 146,
    "start_time": "2022-11-18T10:56:17.687Z"
   },
   {
    "duration": 143,
    "start_time": "2022-11-18T10:56:54.482Z"
   },
   {
    "duration": 16,
    "start_time": "2022-11-18T10:57:10.360Z"
   },
   {
    "duration": 13,
    "start_time": "2022-11-18T11:02:15.782Z"
   },
   {
    "duration": 12,
    "start_time": "2022-11-18T11:02:20.180Z"
   },
   {
    "duration": 15,
    "start_time": "2022-11-18T11:17:03.950Z"
   },
   {
    "duration": 6,
    "start_time": "2022-11-18T11:27:05.811Z"
   },
   {
    "duration": 10,
    "start_time": "2022-11-18T11:28:56.403Z"
   },
   {
    "duration": 19,
    "start_time": "2022-11-18T11:29:56.294Z"
   },
   {
    "duration": 19,
    "start_time": "2022-11-18T11:30:10.125Z"
   },
   {
    "duration": 27,
    "start_time": "2022-11-18T11:31:41.371Z"
   },
   {
    "duration": 5,
    "start_time": "2022-11-18T11:35:48.521Z"
   },
   {
    "duration": 656,
    "start_time": "2022-11-18T11:35:48.530Z"
   },
   {
    "duration": 32,
    "start_time": "2022-11-18T11:35:49.187Z"
   },
   {
    "duration": 6,
    "start_time": "2022-11-18T11:35:49.222Z"
   },
   {
    "duration": 20,
    "start_time": "2022-11-18T11:35:49.230Z"
   },
   {
    "duration": 27,
    "start_time": "2022-11-18T11:35:49.252Z"
   },
   {
    "duration": 37,
    "start_time": "2022-11-18T11:35:49.281Z"
   },
   {
    "duration": 9,
    "start_time": "2022-11-18T11:35:49.320Z"
   },
   {
    "duration": 15,
    "start_time": "2022-11-18T11:35:49.331Z"
   },
   {
    "duration": 94,
    "start_time": "2022-11-18T11:35:49.348Z"
   },
   {
    "duration": 350,
    "start_time": "2022-11-18T11:35:49.444Z"
   },
   {
    "duration": 11,
    "start_time": "2022-11-18T11:35:49.795Z"
   },
   {
    "duration": 170,
    "start_time": "2022-11-18T11:35:49.808Z"
   },
   {
    "duration": 16,
    "start_time": "2022-11-18T11:35:49.981Z"
   },
   {
    "duration": 9,
    "start_time": "2022-11-18T11:35:50.000Z"
   },
   {
    "duration": 76,
    "start_time": "2022-11-18T11:35:50.011Z"
   },
   {
    "duration": 6,
    "start_time": "2022-11-18T11:35:50.088Z"
   },
   {
    "duration": 20,
    "start_time": "2022-11-18T11:35:50.095Z"
   },
   {
    "duration": 13,
    "start_time": "2022-11-18T11:35:50.116Z"
   },
   {
    "duration": 177,
    "start_time": "2022-11-18T11:35:50.130Z"
   },
   {
    "duration": 13,
    "start_time": "2022-11-18T11:35:50.308Z"
   },
   {
    "duration": 30,
    "start_time": "2022-11-18T11:35:50.322Z"
   },
   {
    "duration": 12,
    "start_time": "2022-11-18T11:35:50.354Z"
   },
   {
    "duration": 25,
    "start_time": "2022-11-18T11:35:50.368Z"
   },
   {
    "duration": 12,
    "start_time": "2022-11-18T11:35:52.630Z"
   },
   {
    "duration": 163,
    "start_time": "2022-11-18T11:36:50.160Z"
   },
   {
    "duration": 4,
    "start_time": "2022-11-18T12:13:53.683Z"
   },
   {
    "duration": 685,
    "start_time": "2022-11-18T12:13:53.690Z"
   },
   {
    "duration": 35,
    "start_time": "2022-11-18T12:13:54.377Z"
   },
   {
    "duration": 5,
    "start_time": "2022-11-18T12:13:54.413Z"
   },
   {
    "duration": 5,
    "start_time": "2022-11-18T12:13:54.423Z"
   },
   {
    "duration": 9,
    "start_time": "2022-11-18T12:13:54.430Z"
   },
   {
    "duration": 57,
    "start_time": "2022-11-18T12:13:54.441Z"
   },
   {
    "duration": 5,
    "start_time": "2022-11-18T12:13:54.500Z"
   },
   {
    "duration": 10,
    "start_time": "2022-11-18T12:13:54.506Z"
   },
   {
    "duration": 118,
    "start_time": "2022-11-18T12:13:54.517Z"
   },
   {
    "duration": 350,
    "start_time": "2022-11-18T12:13:54.637Z"
   },
   {
    "duration": 15,
    "start_time": "2022-11-18T12:13:54.988Z"
   },
   {
    "duration": 219,
    "start_time": "2022-11-18T12:13:55.005Z"
   },
   {
    "duration": 11,
    "start_time": "2022-11-18T12:13:55.227Z"
   },
   {
    "duration": 6,
    "start_time": "2022-11-18T12:13:55.240Z"
   },
   {
    "duration": 50,
    "start_time": "2022-11-18T12:13:55.248Z"
   },
   {
    "duration": 6,
    "start_time": "2022-11-18T12:13:59.160Z"
   },
   {
    "duration": 19,
    "start_time": "2022-11-18T12:15:35.708Z"
   },
   {
    "duration": 7,
    "start_time": "2022-11-18T12:21:08.787Z"
   },
   {
    "duration": 595,
    "start_time": "2022-11-18T12:21:08.796Z"
   },
   {
    "duration": 25,
    "start_time": "2022-11-18T12:21:09.393Z"
   },
   {
    "duration": 4,
    "start_time": "2022-11-18T12:21:09.420Z"
   },
   {
    "duration": 19,
    "start_time": "2022-11-18T12:21:09.426Z"
   },
   {
    "duration": 18,
    "start_time": "2022-11-18T12:21:09.446Z"
   },
   {
    "duration": 40,
    "start_time": "2022-11-18T12:21:09.465Z"
   },
   {
    "duration": 5,
    "start_time": "2022-11-18T12:21:09.507Z"
   },
   {
    "duration": 7,
    "start_time": "2022-11-18T12:21:09.514Z"
   },
   {
    "duration": 101,
    "start_time": "2022-11-18T12:21:09.523Z"
   },
   {
    "duration": 311,
    "start_time": "2022-11-18T12:21:09.625Z"
   },
   {
    "duration": 11,
    "start_time": "2022-11-18T12:21:09.937Z"
   },
   {
    "duration": 169,
    "start_time": "2022-11-18T12:21:09.949Z"
   },
   {
    "duration": 11,
    "start_time": "2022-11-18T12:21:10.121Z"
   },
   {
    "duration": 8,
    "start_time": "2022-11-18T12:21:10.135Z"
   },
   {
    "duration": 72,
    "start_time": "2022-11-18T12:21:10.146Z"
   },
   {
    "duration": 11,
    "start_time": "2022-11-18T12:21:10.220Z"
   },
   {
    "duration": 11,
    "start_time": "2022-11-18T12:21:10.232Z"
   },
   {
    "duration": 173,
    "start_time": "2022-11-18T12:21:10.245Z"
   },
   {
    "duration": 13,
    "start_time": "2022-11-18T12:21:10.420Z"
   },
   {
    "duration": 16,
    "start_time": "2022-11-18T12:21:10.435Z"
   },
   {
    "duration": 30,
    "start_time": "2022-11-18T12:21:10.453Z"
   },
   {
    "duration": 17,
    "start_time": "2022-11-18T12:21:10.485Z"
   },
   {
    "duration": 12,
    "start_time": "2022-11-18T12:21:10.504Z"
   },
   {
    "duration": 29,
    "start_time": "2022-11-18T12:26:19.617Z"
   },
   {
    "duration": 4,
    "start_time": "2022-11-18T12:26:35.302Z"
   },
   {
    "duration": 620,
    "start_time": "2022-11-18T12:26:35.308Z"
   },
   {
    "duration": 24,
    "start_time": "2022-11-18T12:26:35.929Z"
   },
   {
    "duration": 4,
    "start_time": "2022-11-18T12:26:35.954Z"
   },
   {
    "duration": 5,
    "start_time": "2022-11-18T12:26:35.960Z"
   },
   {
    "duration": 6,
    "start_time": "2022-11-18T12:26:35.978Z"
   },
   {
    "duration": 26,
    "start_time": "2022-11-18T12:26:35.986Z"
   },
   {
    "duration": 4,
    "start_time": "2022-11-18T12:26:36.014Z"
   },
   {
    "duration": 7,
    "start_time": "2022-11-18T12:26:36.020Z"
   },
   {
    "duration": 112,
    "start_time": "2022-11-18T12:26:36.028Z"
   },
   {
    "duration": 324,
    "start_time": "2022-11-18T12:26:36.141Z"
   },
   {
    "duration": 17,
    "start_time": "2022-11-18T12:26:36.466Z"
   },
   {
    "duration": 161,
    "start_time": "2022-11-18T12:26:36.484Z"
   },
   {
    "duration": 13,
    "start_time": "2022-11-18T12:26:36.647Z"
   },
   {
    "duration": 5,
    "start_time": "2022-11-18T12:26:36.678Z"
   },
   {
    "duration": 35,
    "start_time": "2022-11-18T12:26:36.684Z"
   },
   {
    "duration": 9,
    "start_time": "2022-11-18T12:26:36.721Z"
   },
   {
    "duration": 13,
    "start_time": "2022-11-18T12:26:36.732Z"
   },
   {
    "duration": 191,
    "start_time": "2022-11-18T12:26:36.747Z"
   },
   {
    "duration": 13,
    "start_time": "2022-11-18T12:26:36.941Z"
   },
   {
    "duration": 28,
    "start_time": "2022-11-18T12:26:36.955Z"
   },
   {
    "duration": 11,
    "start_time": "2022-11-18T12:26:36.984Z"
   },
   {
    "duration": 32,
    "start_time": "2022-11-18T12:26:38.718Z"
   },
   {
    "duration": 3,
    "start_time": "2022-11-18T12:27:01.149Z"
   },
   {
    "duration": 646,
    "start_time": "2022-11-18T12:27:01.155Z"
   },
   {
    "duration": 25,
    "start_time": "2022-11-18T12:27:01.803Z"
   },
   {
    "duration": 32,
    "start_time": "2022-11-18T12:27:01.831Z"
   },
   {
    "duration": 9,
    "start_time": "2022-11-18T12:27:01.865Z"
   },
   {
    "duration": 26,
    "start_time": "2022-11-18T12:27:01.877Z"
   },
   {
    "duration": 54,
    "start_time": "2022-11-18T12:27:01.905Z"
   },
   {
    "duration": 6,
    "start_time": "2022-11-18T12:27:01.961Z"
   },
   {
    "duration": 24,
    "start_time": "2022-11-18T12:27:01.968Z"
   },
   {
    "duration": 83,
    "start_time": "2022-11-18T12:27:01.995Z"
   },
   {
    "duration": 335,
    "start_time": "2022-11-18T12:27:02.079Z"
   },
   {
    "duration": 11,
    "start_time": "2022-11-18T12:27:02.416Z"
   },
   {
    "duration": 159,
    "start_time": "2022-11-18T12:27:02.429Z"
   },
   {
    "duration": 12,
    "start_time": "2022-11-18T12:27:02.590Z"
   },
   {
    "duration": 5,
    "start_time": "2022-11-18T12:27:02.604Z"
   },
   {
    "duration": 30,
    "start_time": "2022-11-18T12:27:02.611Z"
   },
   {
    "duration": 36,
    "start_time": "2022-11-18T12:27:02.642Z"
   },
   {
    "duration": 11,
    "start_time": "2022-11-18T12:27:02.680Z"
   },
   {
    "duration": 206,
    "start_time": "2022-11-18T12:27:02.693Z"
   },
   {
    "duration": 15,
    "start_time": "2022-11-18T12:27:02.902Z"
   },
   {
    "duration": 3,
    "start_time": "2022-11-18T12:27:02.919Z"
   },
   {
    "duration": 14,
    "start_time": "2022-11-18T12:27:02.924Z"
   },
   {
    "duration": 57,
    "start_time": "2022-11-18T12:27:02.940Z"
   },
   {
    "duration": 13,
    "start_time": "2022-11-18T12:27:03.000Z"
   },
   {
    "duration": 13,
    "start_time": "2022-11-18T13:07:51.195Z"
   },
   {
    "duration": 21,
    "start_time": "2022-11-18T13:08:06.027Z"
   },
   {
    "duration": 29,
    "start_time": "2022-11-18T13:12:34.855Z"
   },
   {
    "duration": 13,
    "start_time": "2022-11-18T13:25:49.592Z"
   },
   {
    "duration": 4,
    "start_time": "2022-11-18T13:35:56.826Z"
   },
   {
    "duration": 655,
    "start_time": "2022-11-18T13:35:56.833Z"
   },
   {
    "duration": 25,
    "start_time": "2022-11-18T13:35:57.490Z"
   },
   {
    "duration": 4,
    "start_time": "2022-11-18T13:35:57.517Z"
   },
   {
    "duration": 7,
    "start_time": "2022-11-18T13:35:57.523Z"
   },
   {
    "duration": 10,
    "start_time": "2022-11-18T13:35:57.531Z"
   },
   {
    "duration": 47,
    "start_time": "2022-11-18T13:35:57.543Z"
   },
   {
    "duration": 5,
    "start_time": "2022-11-18T13:35:57.592Z"
   },
   {
    "duration": 9,
    "start_time": "2022-11-18T13:35:57.599Z"
   },
   {
    "duration": 105,
    "start_time": "2022-11-18T13:35:57.610Z"
   },
   {
    "duration": 329,
    "start_time": "2022-11-18T13:35:57.716Z"
   },
   {
    "duration": 10,
    "start_time": "2022-11-18T13:35:58.047Z"
   },
   {
    "duration": 167,
    "start_time": "2022-11-18T13:35:58.058Z"
   },
   {
    "duration": 13,
    "start_time": "2022-11-18T13:35:58.227Z"
   },
   {
    "duration": 5,
    "start_time": "2022-11-18T13:35:58.242Z"
   },
   {
    "duration": 48,
    "start_time": "2022-11-18T13:35:58.249Z"
   },
   {
    "duration": 9,
    "start_time": "2022-11-18T13:35:58.299Z"
   },
   {
    "duration": 36,
    "start_time": "2022-11-18T13:35:58.310Z"
   },
   {
    "duration": 34,
    "start_time": "2022-11-18T13:35:58.348Z"
   },
   {
    "duration": 26,
    "start_time": "2022-11-18T13:35:58.385Z"
   },
   {
    "duration": 126,
    "start_time": "2022-11-18T13:38:48.481Z"
   },
   {
    "duration": 173,
    "start_time": "2022-11-18T13:38:57.475Z"
   },
   {
    "duration": 147,
    "start_time": "2022-11-18T13:41:39.096Z"
   },
   {
    "duration": 170,
    "start_time": "2022-11-18T13:42:24.752Z"
   },
   {
    "duration": 813,
    "start_time": "2022-11-18T13:42:36.543Z"
   },
   {
    "duration": 4,
    "start_time": "2022-11-18T13:42:49.285Z"
   },
   {
    "duration": 587,
    "start_time": "2022-11-18T13:42:49.293Z"
   },
   {
    "duration": 24,
    "start_time": "2022-11-18T13:42:49.882Z"
   },
   {
    "duration": 4,
    "start_time": "2022-11-18T13:42:49.908Z"
   },
   {
    "duration": 16,
    "start_time": "2022-11-18T13:42:49.915Z"
   },
   {
    "duration": 12,
    "start_time": "2022-11-18T13:42:49.932Z"
   },
   {
    "duration": 44,
    "start_time": "2022-11-18T13:42:49.946Z"
   },
   {
    "duration": 19,
    "start_time": "2022-11-18T13:42:49.992Z"
   },
   {
    "duration": 10,
    "start_time": "2022-11-18T13:42:50.013Z"
   },
   {
    "duration": 92,
    "start_time": "2022-11-18T13:42:50.024Z"
   },
   {
    "duration": 308,
    "start_time": "2022-11-18T13:42:50.118Z"
   },
   {
    "duration": 11,
    "start_time": "2022-11-18T13:42:50.428Z"
   },
   {
    "duration": 166,
    "start_time": "2022-11-18T13:42:50.440Z"
   },
   {
    "duration": 13,
    "start_time": "2022-11-18T13:42:50.608Z"
   },
   {
    "duration": 6,
    "start_time": "2022-11-18T13:42:50.622Z"
   },
   {
    "duration": 55,
    "start_time": "2022-11-18T13:42:50.629Z"
   },
   {
    "duration": 11,
    "start_time": "2022-11-18T13:42:50.697Z"
   },
   {
    "duration": 35,
    "start_time": "2022-11-18T13:42:50.710Z"
   },
   {
    "duration": 10,
    "start_time": "2022-11-18T13:42:50.747Z"
   },
   {
    "duration": 39,
    "start_time": "2022-11-18T13:42:50.758Z"
   },
   {
    "duration": 13,
    "start_time": "2022-11-18T13:42:50.798Z"
   },
   {
    "duration": 141,
    "start_time": "2022-11-18T13:42:52.559Z"
   },
   {
    "duration": 15,
    "start_time": "2022-11-18T13:43:19.825Z"
   },
   {
    "duration": 65,
    "start_time": "2022-11-18T13:46:58.206Z"
   },
   {
    "duration": 6,
    "start_time": "2022-11-18T13:47:07.269Z"
   },
   {
    "duration": 8,
    "start_time": "2022-11-18T13:47:27.430Z"
   },
   {
    "duration": 10,
    "start_time": "2022-11-18T13:56:03.530Z"
   },
   {
    "duration": 3,
    "start_time": "2022-11-18T13:56:07.895Z"
   },
   {
    "duration": 645,
    "start_time": "2022-11-18T13:56:07.901Z"
   },
   {
    "duration": 23,
    "start_time": "2022-11-18T13:56:08.547Z"
   },
   {
    "duration": 5,
    "start_time": "2022-11-18T13:56:08.572Z"
   },
   {
    "duration": 16,
    "start_time": "2022-11-18T13:56:08.581Z"
   },
   {
    "duration": 15,
    "start_time": "2022-11-18T13:56:08.599Z"
   },
   {
    "duration": 31,
    "start_time": "2022-11-18T13:56:08.616Z"
   },
   {
    "duration": 5,
    "start_time": "2022-11-18T13:56:08.649Z"
   },
   {
    "duration": 27,
    "start_time": "2022-11-18T13:56:08.656Z"
   },
   {
    "duration": 112,
    "start_time": "2022-11-18T13:56:08.686Z"
   },
   {
    "duration": 350,
    "start_time": "2022-11-18T13:56:08.800Z"
   },
   {
    "duration": 26,
    "start_time": "2022-11-18T13:56:09.152Z"
   },
   {
    "duration": 174,
    "start_time": "2022-11-18T13:56:09.182Z"
   },
   {
    "duration": 22,
    "start_time": "2022-11-18T13:56:09.359Z"
   },
   {
    "duration": 8,
    "start_time": "2022-11-18T13:56:09.383Z"
   },
   {
    "duration": 34,
    "start_time": "2022-11-18T13:56:09.393Z"
   },
   {
    "duration": 11,
    "start_time": "2022-11-18T13:56:09.428Z"
   },
   {
    "duration": 75,
    "start_time": "2022-11-18T13:56:09.442Z"
   },
   {
    "duration": 21,
    "start_time": "2022-11-18T13:56:09.519Z"
   },
   {
    "duration": 37,
    "start_time": "2022-11-18T13:56:09.542Z"
   },
   {
    "duration": 26,
    "start_time": "2022-11-18T13:56:09.581Z"
   },
   {
    "duration": 155,
    "start_time": "2022-11-18T13:56:09.609Z"
   },
   {
    "duration": 19,
    "start_time": "2022-11-18T13:56:09.766Z"
   },
   {
    "duration": 33,
    "start_time": "2022-11-18T13:56:09.788Z"
   },
   {
    "duration": 14,
    "start_time": "2022-11-18T13:59:30.955Z"
   },
   {
    "duration": 14,
    "start_time": "2022-11-18T13:59:55.904Z"
   },
   {
    "duration": 15,
    "start_time": "2022-11-18T14:00:34.413Z"
   },
   {
    "duration": 11,
    "start_time": "2022-11-18T14:00:53.857Z"
   },
   {
    "duration": 14,
    "start_time": "2022-11-18T14:01:43.254Z"
   },
   {
    "duration": 14,
    "start_time": "2022-11-18T14:06:48.476Z"
   },
   {
    "duration": 88,
    "start_time": "2022-11-18T14:10:34.279Z"
   },
   {
    "duration": 54,
    "start_time": "2022-11-18T14:11:49.675Z"
   },
   {
    "duration": 4,
    "start_time": "2022-11-18T14:14:02.823Z"
   },
   {
    "duration": 4,
    "start_time": "2022-11-18T14:14:11.912Z"
   },
   {
    "duration": 581,
    "start_time": "2022-11-18T14:14:11.919Z"
   },
   {
    "duration": 25,
    "start_time": "2022-11-18T14:14:12.502Z"
   },
   {
    "duration": 5,
    "start_time": "2022-11-18T14:14:12.529Z"
   },
   {
    "duration": 16,
    "start_time": "2022-11-18T14:14:12.537Z"
   },
   {
    "duration": 24,
    "start_time": "2022-11-18T14:14:12.555Z"
   },
   {
    "duration": 45,
    "start_time": "2022-11-18T14:14:12.581Z"
   },
   {
    "duration": 7,
    "start_time": "2022-11-18T14:14:12.628Z"
   },
   {
    "duration": 10,
    "start_time": "2022-11-18T14:14:12.637Z"
   },
   {
    "duration": 171,
    "start_time": "2022-11-18T14:14:12.649Z"
   },
   {
    "duration": 373,
    "start_time": "2022-11-18T14:14:12.822Z"
   },
   {
    "duration": 13,
    "start_time": "2022-11-18T14:14:13.198Z"
   },
   {
    "duration": 169,
    "start_time": "2022-11-18T14:14:13.212Z"
   },
   {
    "duration": 13,
    "start_time": "2022-11-18T14:14:13.384Z"
   },
   {
    "duration": 6,
    "start_time": "2022-11-18T14:14:13.399Z"
   },
   {
    "duration": 40,
    "start_time": "2022-11-18T14:14:13.406Z"
   },
   {
    "duration": 37,
    "start_time": "2022-11-18T14:14:13.448Z"
   },
   {
    "duration": 45,
    "start_time": "2022-11-18T14:14:13.487Z"
   },
   {
    "duration": 11,
    "start_time": "2022-11-18T14:14:13.534Z"
   },
   {
    "duration": 57,
    "start_time": "2022-11-18T14:14:13.547Z"
   },
   {
    "duration": 13,
    "start_time": "2022-11-18T14:14:13.606Z"
   },
   {
    "duration": 160,
    "start_time": "2022-11-18T14:14:13.621Z"
   },
   {
    "duration": 10,
    "start_time": "2022-11-18T14:14:13.783Z"
   },
   {
    "duration": 5,
    "start_time": "2022-11-18T14:14:16.699Z"
   },
   {
    "duration": 13,
    "start_time": "2022-11-18T14:14:35.488Z"
   },
   {
    "duration": 4,
    "start_time": "2022-11-18T14:16:17.859Z"
   },
   {
    "duration": 585,
    "start_time": "2022-11-18T14:16:17.865Z"
   },
   {
    "duration": 26,
    "start_time": "2022-11-18T14:16:18.451Z"
   },
   {
    "duration": 6,
    "start_time": "2022-11-18T14:16:18.479Z"
   },
   {
    "duration": 7,
    "start_time": "2022-11-18T14:16:18.487Z"
   },
   {
    "duration": 11,
    "start_time": "2022-11-18T14:16:18.496Z"
   },
   {
    "duration": 29,
    "start_time": "2022-11-18T14:16:18.508Z"
   },
   {
    "duration": 5,
    "start_time": "2022-11-18T14:16:18.539Z"
   },
   {
    "duration": 36,
    "start_time": "2022-11-18T14:16:18.546Z"
   },
   {
    "duration": 111,
    "start_time": "2022-11-18T14:16:18.584Z"
   },
   {
    "duration": 366,
    "start_time": "2022-11-18T14:16:18.697Z"
   },
   {
    "duration": 21,
    "start_time": "2022-11-18T14:16:19.066Z"
   },
   {
    "duration": 179,
    "start_time": "2022-11-18T14:16:19.088Z"
   },
   {
    "duration": 18,
    "start_time": "2022-11-18T14:16:19.270Z"
   },
   {
    "duration": 6,
    "start_time": "2022-11-18T14:16:19.290Z"
   },
   {
    "duration": 31,
    "start_time": "2022-11-18T14:16:19.298Z"
   },
   {
    "duration": 9,
    "start_time": "2022-11-18T14:16:19.331Z"
   },
   {
    "duration": 63,
    "start_time": "2022-11-18T14:16:19.342Z"
   },
   {
    "duration": 10,
    "start_time": "2022-11-18T14:16:19.407Z"
   },
   {
    "duration": 25,
    "start_time": "2022-11-18T14:16:19.418Z"
   },
   {
    "duration": 35,
    "start_time": "2022-11-18T14:16:19.444Z"
   },
   {
    "duration": 135,
    "start_time": "2022-11-18T14:16:19.481Z"
   },
   {
    "duration": 25,
    "start_time": "2022-11-18T14:16:22.092Z"
   },
   {
    "duration": 11,
    "start_time": "2022-11-18T14:17:11.776Z"
   },
   {
    "duration": 10,
    "start_time": "2022-11-18T14:17:28.967Z"
   },
   {
    "duration": 4,
    "start_time": "2022-11-18T14:17:39.068Z"
   },
   {
    "duration": 631,
    "start_time": "2022-11-18T14:17:39.074Z"
   },
   {
    "duration": 33,
    "start_time": "2022-11-18T14:17:39.707Z"
   },
   {
    "duration": 4,
    "start_time": "2022-11-18T14:17:39.742Z"
   },
   {
    "duration": 8,
    "start_time": "2022-11-18T14:17:39.748Z"
   },
   {
    "duration": 36,
    "start_time": "2022-11-18T14:17:39.758Z"
   },
   {
    "duration": 35,
    "start_time": "2022-11-18T14:17:39.796Z"
   },
   {
    "duration": 6,
    "start_time": "2022-11-18T14:17:39.834Z"
   },
   {
    "duration": 12,
    "start_time": "2022-11-18T14:17:39.842Z"
   },
   {
    "duration": 133,
    "start_time": "2022-11-18T14:17:39.856Z"
   },
   {
    "duration": 363,
    "start_time": "2022-11-18T14:17:39.991Z"
   },
   {
    "duration": 27,
    "start_time": "2022-11-18T14:17:40.356Z"
   },
   {
    "duration": 180,
    "start_time": "2022-11-18T14:17:40.385Z"
   },
   {
    "duration": 20,
    "start_time": "2022-11-18T14:17:40.569Z"
   },
   {
    "duration": 6,
    "start_time": "2022-11-18T14:17:40.591Z"
   },
   {
    "duration": 34,
    "start_time": "2022-11-18T14:17:40.600Z"
   },
   {
    "duration": 10,
    "start_time": "2022-11-18T14:17:40.636Z"
   },
   {
    "duration": 67,
    "start_time": "2022-11-18T14:17:40.648Z"
   },
   {
    "duration": 10,
    "start_time": "2022-11-18T14:17:40.717Z"
   },
   {
    "duration": 51,
    "start_time": "2022-11-18T14:17:40.729Z"
   },
   {
    "duration": 15,
    "start_time": "2022-11-18T14:17:40.782Z"
   },
   {
    "duration": 182,
    "start_time": "2022-11-18T14:17:40.799Z"
   },
   {
    "duration": 29,
    "start_time": "2022-11-18T14:17:43.869Z"
   },
   {
    "duration": 11,
    "start_time": "2022-11-18T14:18:12.152Z"
   },
   {
    "duration": 4,
    "start_time": "2022-11-18T14:21:48.000Z"
   },
   {
    "duration": 4,
    "start_time": "2022-11-18T14:22:06.866Z"
   },
   {
    "duration": 571,
    "start_time": "2022-11-18T14:22:06.872Z"
   },
   {
    "duration": 23,
    "start_time": "2022-11-18T14:22:07.444Z"
   },
   {
    "duration": 5,
    "start_time": "2022-11-18T14:22:07.468Z"
   },
   {
    "duration": 4,
    "start_time": "2022-11-18T14:22:07.479Z"
   },
   {
    "duration": 10,
    "start_time": "2022-11-18T14:22:07.484Z"
   },
   {
    "duration": 26,
    "start_time": "2022-11-18T14:22:07.496Z"
   },
   {
    "duration": 6,
    "start_time": "2022-11-18T14:22:07.523Z"
   },
   {
    "duration": 8,
    "start_time": "2022-11-18T14:22:07.531Z"
   },
   {
    "duration": 84,
    "start_time": "2022-11-18T14:22:07.577Z"
   },
   {
    "duration": 323,
    "start_time": "2022-11-18T14:22:07.663Z"
   },
   {
    "duration": 10,
    "start_time": "2022-11-18T14:22:07.988Z"
   },
   {
    "duration": 162,
    "start_time": "2022-11-18T14:22:07.999Z"
   },
   {
    "duration": 19,
    "start_time": "2022-11-18T14:22:08.164Z"
   },
   {
    "duration": 5,
    "start_time": "2022-11-18T14:22:08.185Z"
   },
   {
    "duration": 32,
    "start_time": "2022-11-18T14:22:08.191Z"
   },
   {
    "duration": 11,
    "start_time": "2022-11-18T14:22:08.224Z"
   },
   {
    "duration": 72,
    "start_time": "2022-11-18T14:22:08.237Z"
   },
   {
    "duration": 10,
    "start_time": "2022-11-18T14:22:08.311Z"
   },
   {
    "duration": 27,
    "start_time": "2022-11-18T14:22:08.323Z"
   },
   {
    "duration": 27,
    "start_time": "2022-11-18T14:22:08.352Z"
   },
   {
    "duration": 12,
    "start_time": "2022-11-18T14:22:08.381Z"
   },
   {
    "duration": 159,
    "start_time": "2022-11-18T14:22:08.395Z"
   },
   {
    "duration": 11,
    "start_time": "2022-11-18T14:22:08.556Z"
   },
   {
    "duration": 4,
    "start_time": "2022-11-18T14:22:30.080Z"
   },
   {
    "duration": 4,
    "start_time": "2022-11-18T14:23:24.994Z"
   },
   {
    "duration": 12,
    "start_time": "2022-11-18T14:24:24.672Z"
   },
   {
    "duration": 11,
    "start_time": "2022-11-18T14:24:27.149Z"
   },
   {
    "duration": 4,
    "start_time": "2022-11-18T14:24:37.774Z"
   },
   {
    "duration": 5,
    "start_time": "2022-11-18T14:24:51.224Z"
   },
   {
    "duration": 16,
    "start_time": "2022-11-18T14:27:33.855Z"
   },
   {
    "duration": 4,
    "start_time": "2022-11-18T14:35:33.334Z"
   },
   {
    "duration": 673,
    "start_time": "2022-11-18T14:35:33.340Z"
   },
   {
    "duration": 28,
    "start_time": "2022-11-18T14:35:34.015Z"
   },
   {
    "duration": 12,
    "start_time": "2022-11-18T14:35:34.045Z"
   },
   {
    "duration": 11,
    "start_time": "2022-11-18T14:35:34.060Z"
   },
   {
    "duration": 27,
    "start_time": "2022-11-18T14:35:34.073Z"
   },
   {
    "duration": 36,
    "start_time": "2022-11-18T14:35:34.103Z"
   },
   {
    "duration": 5,
    "start_time": "2022-11-18T14:35:34.141Z"
   },
   {
    "duration": 8,
    "start_time": "2022-11-18T14:35:34.149Z"
   },
   {
    "duration": 133,
    "start_time": "2022-11-18T14:35:34.159Z"
   },
   {
    "duration": 367,
    "start_time": "2022-11-18T14:35:34.297Z"
   },
   {
    "duration": 21,
    "start_time": "2022-11-18T14:35:34.665Z"
   },
   {
    "duration": 177,
    "start_time": "2022-11-18T14:35:34.688Z"
   },
   {
    "duration": 17,
    "start_time": "2022-11-18T14:35:34.868Z"
   },
   {
    "duration": 16,
    "start_time": "2022-11-18T14:35:34.887Z"
   },
   {
    "duration": 31,
    "start_time": "2022-11-18T14:35:34.906Z"
   },
   {
    "duration": 10,
    "start_time": "2022-11-18T14:35:34.939Z"
   },
   {
    "duration": 68,
    "start_time": "2022-11-18T14:35:34.952Z"
   },
   {
    "duration": 9,
    "start_time": "2022-11-18T14:35:35.022Z"
   },
   {
    "duration": 6,
    "start_time": "2022-11-18T14:35:50.415Z"
   },
   {
    "duration": 13,
    "start_time": "2022-11-18T14:36:00.793Z"
   },
   {
    "duration": 38,
    "start_time": "2022-11-18T14:36:12.225Z"
   },
   {
    "duration": 16,
    "start_time": "2022-11-18T14:38:52.805Z"
   },
   {
    "duration": 16,
    "start_time": "2022-11-18T14:40:43.819Z"
   },
   {
    "duration": 15,
    "start_time": "2022-11-18T14:41:41.444Z"
   },
   {
    "duration": 19,
    "start_time": "2022-11-18T14:41:48.389Z"
   },
   {
    "duration": 4,
    "start_time": "2022-11-18T14:41:56.992Z"
   },
   {
    "duration": 592,
    "start_time": "2022-11-18T14:41:56.998Z"
   },
   {
    "duration": 31,
    "start_time": "2022-11-18T14:41:57.592Z"
   },
   {
    "duration": 6,
    "start_time": "2022-11-18T14:41:57.625Z"
   },
   {
    "duration": 7,
    "start_time": "2022-11-18T14:41:57.633Z"
   },
   {
    "duration": 9,
    "start_time": "2022-11-18T14:41:57.642Z"
   },
   {
    "duration": 44,
    "start_time": "2022-11-18T14:41:57.677Z"
   },
   {
    "duration": 7,
    "start_time": "2022-11-18T14:41:57.724Z"
   },
   {
    "duration": 30,
    "start_time": "2022-11-18T14:41:57.733Z"
   },
   {
    "duration": 89,
    "start_time": "2022-11-18T14:41:57.766Z"
   },
   {
    "duration": 340,
    "start_time": "2022-11-18T14:41:57.857Z"
   },
   {
    "duration": 13,
    "start_time": "2022-11-18T14:41:58.199Z"
   },
   {
    "duration": 173,
    "start_time": "2022-11-18T14:41:58.214Z"
   },
   {
    "duration": 11,
    "start_time": "2022-11-18T14:41:58.389Z"
   },
   {
    "duration": 6,
    "start_time": "2022-11-18T14:41:58.402Z"
   },
   {
    "duration": 30,
    "start_time": "2022-11-18T14:41:58.409Z"
   },
   {
    "duration": 37,
    "start_time": "2022-11-18T14:41:58.441Z"
   },
   {
    "duration": 40,
    "start_time": "2022-11-18T14:41:58.480Z"
   },
   {
    "duration": 9,
    "start_time": "2022-11-18T14:41:58.522Z"
   },
   {
    "duration": 7,
    "start_time": "2022-11-18T14:41:58.533Z"
   },
   {
    "duration": 53,
    "start_time": "2022-11-18T14:41:58.541Z"
   },
   {
    "duration": 13,
    "start_time": "2022-11-18T14:41:58.595Z"
   },
   {
    "duration": 184,
    "start_time": "2022-11-18T14:41:58.609Z"
   },
   {
    "duration": 12,
    "start_time": "2022-11-18T14:41:58.795Z"
   },
   {
    "duration": 5,
    "start_time": "2022-11-18T14:41:58.809Z"
   },
   {
    "duration": 8,
    "start_time": "2022-11-18T14:41:58.816Z"
   },
   {
    "duration": 16,
    "start_time": "2022-11-18T14:41:58.826Z"
   },
   {
    "duration": 32,
    "start_time": "2022-11-18T14:41:58.846Z"
   },
   {
    "duration": 5,
    "start_time": "2022-11-18T14:41:58.880Z"
   },
   {
    "duration": 6,
    "start_time": "2022-11-18T14:41:58.886Z"
   },
   {
    "duration": 17,
    "start_time": "2022-11-18T14:41:58.894Z"
   },
   {
    "duration": 14,
    "start_time": "2022-11-18T14:41:58.912Z"
   },
   {
    "duration": 18,
    "start_time": "2022-11-18T14:42:14.342Z"
   },
   {
    "duration": 252,
    "start_time": "2022-11-18T14:44:22.589Z"
   },
   {
    "duration": 227,
    "start_time": "2022-11-18T14:44:35.791Z"
   },
   {
    "duration": 198,
    "start_time": "2022-11-18T14:53:32.002Z"
   },
   {
    "duration": 188,
    "start_time": "2022-11-18T14:53:43.373Z"
   },
   {
    "duration": 4,
    "start_time": "2022-11-18T14:56:09.331Z"
   },
   {
    "duration": 23,
    "start_time": "2022-11-18T14:57:39.380Z"
   },
   {
    "duration": 25,
    "start_time": "2022-11-18T15:00:08.998Z"
   },
   {
    "duration": 18,
    "start_time": "2022-11-18T15:03:07.124Z"
   },
   {
    "duration": 247,
    "start_time": "2022-11-18T15:05:26.470Z"
   },
   {
    "duration": 282,
    "start_time": "2022-11-18T15:07:07.639Z"
   },
   {
    "duration": 266,
    "start_time": "2022-11-18T15:07:22.290Z"
   },
   {
    "duration": 272,
    "start_time": "2022-11-18T15:15:37.851Z"
   },
   {
    "duration": 304,
    "start_time": "2022-11-18T15:15:54.032Z"
   },
   {
    "duration": 7,
    "start_time": "2022-11-18T15:29:46.425Z"
   },
   {
    "duration": 12,
    "start_time": "2022-11-18T15:34:55.387Z"
   },
   {
    "duration": 12,
    "start_time": "2022-11-18T15:35:06.320Z"
   },
   {
    "duration": 18,
    "start_time": "2022-11-18T15:47:00.886Z"
   },
   {
    "duration": 14,
    "start_time": "2022-11-18T15:47:09.995Z"
   },
   {
    "duration": 20,
    "start_time": "2022-11-18T15:53:56.455Z"
   },
   {
    "duration": 22,
    "start_time": "2022-11-18T15:55:02.898Z"
   },
   {
    "duration": 1186,
    "start_time": "2022-11-18T16:00:08.560Z"
   },
   {
    "duration": 463,
    "start_time": "2022-11-18T16:00:22.248Z"
   },
   {
    "duration": 295,
    "start_time": "2022-11-18T16:00:43.122Z"
   },
   {
    "duration": 373,
    "start_time": "2022-11-18T16:00:50.207Z"
   },
   {
    "duration": 436,
    "start_time": "2022-11-18T16:02:36.492Z"
   },
   {
    "duration": 39293,
    "start_time": "2022-11-18T16:04:36.216Z"
   },
   {
    "duration": 0,
    "start_time": "2022-11-18T16:05:15.513Z"
   },
   {
    "duration": 464,
    "start_time": "2022-11-18T16:06:32.887Z"
   },
   {
    "duration": 478,
    "start_time": "2022-11-18T16:07:11.822Z"
   },
   {
    "duration": 201,
    "start_time": "2022-11-18T16:09:08.348Z"
   },
   {
    "duration": 4,
    "start_time": "2022-11-18T16:10:35.842Z"
   },
   {
    "duration": 515,
    "start_time": "2022-11-18T16:10:39.676Z"
   },
   {
    "duration": 83,
    "start_time": "2022-11-18T16:11:22.083Z"
   },
   {
    "duration": 553,
    "start_time": "2022-11-18T16:11:38.614Z"
   },
   {
    "duration": 577,
    "start_time": "2022-11-18T16:13:12.649Z"
   },
   {
    "duration": 540,
    "start_time": "2022-11-18T16:13:47.454Z"
   },
   {
    "duration": 719,
    "start_time": "2022-11-18T16:14:06.115Z"
   },
   {
    "duration": 692,
    "start_time": "2022-11-18T16:16:05.172Z"
   },
   {
    "duration": 757,
    "start_time": "2022-11-18T16:20:03.531Z"
   },
   {
    "duration": 4,
    "start_time": "2022-11-18T16:20:23.003Z"
   },
   {
    "duration": 660,
    "start_time": "2022-11-18T16:20:28.885Z"
   },
   {
    "duration": 669,
    "start_time": "2022-11-18T16:21:07.551Z"
   },
   {
    "duration": 1369,
    "start_time": "2022-11-18T16:21:46.427Z"
   },
   {
    "duration": 688,
    "start_time": "2022-11-18T16:27:28.597Z"
   },
   {
    "duration": 522,
    "start_time": "2022-11-18T16:33:00.748Z"
   },
   {
    "duration": 711,
    "start_time": "2022-11-18T16:33:12.423Z"
   },
   {
    "duration": 664,
    "start_time": "2022-11-18T16:37:29.707Z"
   },
   {
    "duration": 19,
    "start_time": "2022-11-18T16:45:34.938Z"
   },
   {
    "duration": 21,
    "start_time": "2022-11-18T16:45:48.259Z"
   },
   {
    "duration": 178,
    "start_time": "2022-11-18T16:45:50.504Z"
   },
   {
    "duration": 13,
    "start_time": "2022-11-18T16:46:08.732Z"
   },
   {
    "duration": 4,
    "start_time": "2022-11-18T16:49:50.996Z"
   },
   {
    "duration": 25,
    "start_time": "2022-11-18T17:04:07.301Z"
   },
   {
    "duration": 6,
    "start_time": "2022-11-18T17:11:58.390Z"
   },
   {
    "duration": 4,
    "start_time": "2022-11-18T17:15:34.677Z"
   },
   {
    "duration": 5,
    "start_time": "2022-11-18T17:15:44.812Z"
   },
   {
    "duration": 25,
    "start_time": "2022-11-18T17:16:40.940Z"
   },
   {
    "duration": 14,
    "start_time": "2022-11-18T17:18:49.255Z"
   },
   {
    "duration": 17,
    "start_time": "2022-11-18T17:20:02.542Z"
   },
   {
    "duration": 6,
    "start_time": "2022-11-18T17:20:24.929Z"
   },
   {
    "duration": 22,
    "start_time": "2022-11-18T17:20:26.829Z"
   },
   {
    "duration": 11,
    "start_time": "2022-11-18T17:31:49.679Z"
   },
   {
    "duration": 5,
    "start_time": "2022-11-18T17:32:13.590Z"
   },
   {
    "duration": 1376,
    "start_time": "2022-11-19T16:51:49.774Z"
   },
   {
    "duration": 939,
    "start_time": "2022-11-19T16:51:51.152Z"
   },
   {
    "duration": 30,
    "start_time": "2022-11-19T16:51:52.093Z"
   },
   {
    "duration": 5,
    "start_time": "2022-11-19T16:51:52.125Z"
   },
   {
    "duration": 9,
    "start_time": "2022-11-19T16:51:52.131Z"
   },
   {
    "duration": 9,
    "start_time": "2022-11-19T16:51:52.141Z"
   },
   {
    "duration": 33,
    "start_time": "2022-11-19T16:51:52.152Z"
   },
   {
    "duration": 6,
    "start_time": "2022-11-19T16:51:52.211Z"
   },
   {
    "duration": 9,
    "start_time": "2022-11-19T16:51:52.219Z"
   },
   {
    "duration": 88,
    "start_time": "2022-11-19T16:51:52.230Z"
   },
   {
    "duration": 342,
    "start_time": "2022-11-19T16:51:52.319Z"
   },
   {
    "duration": 12,
    "start_time": "2022-11-19T16:51:52.663Z"
   },
   {
    "duration": 182,
    "start_time": "2022-11-19T16:51:52.676Z"
   },
   {
    "duration": 12,
    "start_time": "2022-11-19T16:51:52.860Z"
   },
   {
    "duration": 7,
    "start_time": "2022-11-19T16:51:52.873Z"
   },
   {
    "duration": 8,
    "start_time": "2022-11-19T16:51:52.881Z"
   },
   {
    "duration": 40,
    "start_time": "2022-11-19T16:51:52.912Z"
   },
   {
    "duration": 9,
    "start_time": "2022-11-19T16:51:52.954Z"
   },
   {
    "duration": 54,
    "start_time": "2022-11-19T16:51:52.965Z"
   },
   {
    "duration": 7,
    "start_time": "2022-11-19T16:51:53.020Z"
   },
   {
    "duration": 7,
    "start_time": "2022-11-19T16:51:53.028Z"
   },
   {
    "duration": 22,
    "start_time": "2022-11-19T16:51:53.037Z"
   },
   {
    "duration": 12,
    "start_time": "2022-11-19T16:51:53.060Z"
   },
   {
    "duration": 180,
    "start_time": "2022-11-19T16:51:53.073Z"
   },
   {
    "duration": 11,
    "start_time": "2022-11-19T16:51:53.255Z"
   },
   {
    "duration": 12,
    "start_time": "2022-11-19T16:51:53.267Z"
   },
   {
    "duration": 31,
    "start_time": "2022-11-19T16:51:53.281Z"
   },
   {
    "duration": 3,
    "start_time": "2022-11-19T16:51:53.317Z"
   },
   {
    "duration": 4,
    "start_time": "2022-11-19T16:51:53.322Z"
   },
   {
    "duration": 12,
    "start_time": "2022-11-19T16:51:53.328Z"
   },
   {
    "duration": 290,
    "start_time": "2022-11-19T16:51:53.341Z"
   },
   {
    "duration": 12,
    "start_time": "2022-11-19T16:51:53.633Z"
   },
   {
    "duration": 18,
    "start_time": "2022-11-19T16:51:53.647Z"
   },
   {
    "duration": 793,
    "start_time": "2022-11-19T16:51:53.667Z"
   },
   {
    "duration": 19,
    "start_time": "2022-11-19T16:51:54.461Z"
   },
   {
    "duration": 242,
    "start_time": "2022-11-19T16:51:54.482Z"
   },
   {
    "duration": 23,
    "start_time": "2022-11-19T16:51:54.725Z"
   },
   {
    "duration": 12,
    "start_time": "2022-11-19T16:51:54.750Z"
   },
   {
    "duration": 7,
    "start_time": "2022-11-19T16:51:54.813Z"
   },
   {
    "duration": 31,
    "start_time": "2022-11-19T16:51:54.822Z"
   },
   {
    "duration": 1268,
    "start_time": "2022-11-19T22:45:12.471Z"
   },
   {
    "duration": 912,
    "start_time": "2022-11-19T22:45:13.741Z"
   },
   {
    "duration": 30,
    "start_time": "2022-11-19T22:45:14.655Z"
   },
   {
    "duration": 4,
    "start_time": "2022-11-19T22:45:14.688Z"
   },
   {
    "duration": 9,
    "start_time": "2022-11-19T22:45:14.694Z"
   },
   {
    "duration": 20,
    "start_time": "2022-11-19T22:45:14.705Z"
   },
   {
    "duration": 47,
    "start_time": "2022-11-19T22:45:14.735Z"
   },
   {
    "duration": 6,
    "start_time": "2022-11-19T22:45:14.784Z"
   },
   {
    "duration": 41,
    "start_time": "2022-11-19T22:45:14.792Z"
   },
   {
    "duration": 115,
    "start_time": "2022-11-19T22:45:14.836Z"
   },
   {
    "duration": 351,
    "start_time": "2022-11-19T22:45:14.953Z"
   },
   {
    "duration": 12,
    "start_time": "2022-11-19T22:45:15.306Z"
   },
   {
    "duration": 177,
    "start_time": "2022-11-19T22:45:15.320Z"
   },
   {
    "duration": 12,
    "start_time": "2022-11-19T22:45:15.498Z"
   },
   {
    "duration": 23,
    "start_time": "2022-11-19T22:45:15.512Z"
   },
   {
    "duration": 8,
    "start_time": "2022-11-19T22:45:15.537Z"
   },
   {
    "duration": 56,
    "start_time": "2022-11-19T22:45:15.546Z"
   },
   {
    "duration": 10,
    "start_time": "2022-11-19T22:45:15.604Z"
   },
   {
    "duration": 54,
    "start_time": "2022-11-19T22:45:15.616Z"
   },
   {
    "duration": 8,
    "start_time": "2022-11-19T22:45:15.672Z"
   },
   {
    "duration": 25,
    "start_time": "2022-11-19T22:45:15.682Z"
   },
   {
    "duration": 39,
    "start_time": "2022-11-19T22:45:15.709Z"
   },
   {
    "duration": 13,
    "start_time": "2022-11-19T22:45:15.750Z"
   },
   {
    "duration": 156,
    "start_time": "2022-11-19T22:45:15.764Z"
   },
   {
    "duration": 18,
    "start_time": "2022-11-19T22:45:15.922Z"
   },
   {
    "duration": 13,
    "start_time": "2022-11-19T22:45:15.942Z"
   },
   {
    "duration": 14,
    "start_time": "2022-11-19T22:45:15.957Z"
   },
   {
    "duration": 5,
    "start_time": "2022-11-19T22:45:15.974Z"
   },
   {
    "duration": 21,
    "start_time": "2022-11-19T22:45:15.981Z"
   },
   {
    "duration": 32,
    "start_time": "2022-11-19T22:45:16.004Z"
   },
   {
    "duration": 273,
    "start_time": "2022-11-19T22:45:16.038Z"
   },
   {
    "duration": 12,
    "start_time": "2022-11-19T22:45:16.313Z"
   },
   {
    "duration": 26,
    "start_time": "2022-11-19T22:45:16.336Z"
   },
   {
    "duration": 754,
    "start_time": "2022-11-19T22:45:16.365Z"
   },
   {
    "duration": 25,
    "start_time": "2022-11-19T22:45:17.121Z"
   },
   {
    "duration": 256,
    "start_time": "2022-11-19T22:45:17.148Z"
   },
   {
    "duration": 20,
    "start_time": "2022-11-19T22:45:17.406Z"
   },
   {
    "duration": 13,
    "start_time": "2022-11-19T22:45:17.428Z"
   },
   {
    "duration": 7,
    "start_time": "2022-11-19T22:45:17.443Z"
   },
   {
    "duration": 29,
    "start_time": "2022-11-19T22:45:17.452Z"
   },
   {
    "duration": 1382,
    "start_time": "2022-11-20T07:32:45.220Z"
   },
   {
    "duration": 1039,
    "start_time": "2022-11-20T07:32:46.604Z"
   },
   {
    "duration": 30,
    "start_time": "2022-11-20T07:32:47.645Z"
   },
   {
    "duration": 5,
    "start_time": "2022-11-20T07:32:47.677Z"
   },
   {
    "duration": 13,
    "start_time": "2022-11-20T07:32:47.684Z"
   },
   {
    "duration": 20,
    "start_time": "2022-11-20T07:32:47.699Z"
   },
   {
    "duration": 59,
    "start_time": "2022-11-20T07:32:47.721Z"
   },
   {
    "duration": 7,
    "start_time": "2022-11-20T07:32:47.782Z"
   },
   {
    "duration": 13,
    "start_time": "2022-11-20T07:32:47.790Z"
   },
   {
    "duration": 102,
    "start_time": "2022-11-20T07:32:47.807Z"
   },
   {
    "duration": 348,
    "start_time": "2022-11-20T07:32:47.910Z"
   },
   {
    "duration": 15,
    "start_time": "2022-11-20T07:32:48.259Z"
   },
   {
    "duration": 192,
    "start_time": "2022-11-20T07:32:48.276Z"
   },
   {
    "duration": 12,
    "start_time": "2022-11-20T07:32:48.470Z"
   },
   {
    "duration": 11,
    "start_time": "2022-11-20T07:32:48.483Z"
   },
   {
    "duration": 8,
    "start_time": "2022-11-20T07:32:48.496Z"
   },
   {
    "duration": 68,
    "start_time": "2022-11-20T07:32:48.506Z"
   },
   {
    "duration": 9,
    "start_time": "2022-11-20T07:32:48.576Z"
   },
   {
    "duration": 39,
    "start_time": "2022-11-20T07:32:48.587Z"
   },
   {
    "duration": 7,
    "start_time": "2022-11-20T07:32:48.628Z"
   },
   {
    "duration": 6,
    "start_time": "2022-11-20T07:32:48.656Z"
   },
   {
    "duration": 32,
    "start_time": "2022-11-20T07:32:48.664Z"
   },
   {
    "duration": 12,
    "start_time": "2022-11-20T07:32:48.698Z"
   },
   {
    "duration": 162,
    "start_time": "2022-11-20T07:32:48.712Z"
   },
   {
    "duration": 11,
    "start_time": "2022-11-20T07:32:48.876Z"
   },
   {
    "duration": 32,
    "start_time": "2022-11-20T07:32:48.889Z"
   },
   {
    "duration": 10,
    "start_time": "2022-11-20T07:32:48.923Z"
   },
   {
    "duration": 6,
    "start_time": "2022-11-20T07:32:48.937Z"
   },
   {
    "duration": 15,
    "start_time": "2022-11-20T07:32:48.944Z"
   },
   {
    "duration": 24,
    "start_time": "2022-11-20T07:32:48.961Z"
   },
   {
    "duration": 299,
    "start_time": "2022-11-20T07:32:48.987Z"
   },
   {
    "duration": 13,
    "start_time": "2022-11-20T07:32:49.288Z"
   },
   {
    "duration": 26,
    "start_time": "2022-11-20T07:32:49.303Z"
   },
   {
    "duration": 735,
    "start_time": "2022-11-20T07:32:49.331Z"
   },
   {
    "duration": 18,
    "start_time": "2022-11-20T07:32:50.068Z"
   },
   {
    "duration": 164,
    "start_time": "2022-11-20T07:32:50.088Z"
   },
   {
    "duration": 32,
    "start_time": "2022-11-20T07:32:50.254Z"
   },
   {
    "duration": 68,
    "start_time": "2022-11-20T07:32:50.288Z"
   },
   {
    "duration": 11,
    "start_time": "2022-11-20T07:32:50.359Z"
   },
   {
    "duration": 41,
    "start_time": "2022-11-20T07:32:50.372Z"
   },
   {
    "duration": 7,
    "start_time": "2022-11-20T07:36:34.855Z"
   },
   {
    "duration": 110,
    "start_time": "2022-11-20T07:40:57.698Z"
   },
   {
    "duration": 11,
    "start_time": "2022-11-20T07:41:07.199Z"
   },
   {
    "duration": 731,
    "start_time": "2022-11-20T07:41:15.869Z"
   },
   {
    "duration": 11,
    "start_time": "2022-11-20T07:41:26.523Z"
   },
   {
    "duration": 5,
    "start_time": "2022-11-20T07:43:59.167Z"
   },
   {
    "duration": 9,
    "start_time": "2022-11-20T07:45:13.527Z"
   },
   {
    "duration": 14,
    "start_time": "2022-11-20T07:46:22.710Z"
   },
   {
    "duration": 12,
    "start_time": "2022-11-20T07:49:16.549Z"
   },
   {
    "duration": 13,
    "start_time": "2022-11-20T07:50:26.628Z"
   },
   {
    "duration": 12,
    "start_time": "2022-11-20T08:02:54.606Z"
   },
   {
    "duration": 11,
    "start_time": "2022-11-20T08:08:00.394Z"
   },
   {
    "duration": 8,
    "start_time": "2022-11-20T08:08:19.290Z"
   },
   {
    "duration": 9,
    "start_time": "2022-11-20T08:09:16.655Z"
   },
   {
    "duration": 28,
    "start_time": "2022-11-20T08:09:57.621Z"
   },
   {
    "duration": 8,
    "start_time": "2022-11-20T08:09:59.228Z"
   },
   {
    "duration": 29,
    "start_time": "2022-11-20T08:10:35.413Z"
   },
   {
    "duration": 7,
    "start_time": "2022-11-20T08:10:37.109Z"
   },
   {
    "duration": 20,
    "start_time": "2022-11-20T08:10:58.509Z"
   },
   {
    "duration": 14,
    "start_time": "2022-11-20T08:11:00.281Z"
   },
   {
    "duration": 14,
    "start_time": "2022-11-20T08:20:19.319Z"
   },
   {
    "duration": 12,
    "start_time": "2022-11-20T08:20:43.811Z"
   },
   {
    "duration": 18,
    "start_time": "2022-11-20T08:22:00.972Z"
   },
   {
    "duration": 17,
    "start_time": "2022-11-20T08:22:23.287Z"
   },
   {
    "duration": 12,
    "start_time": "2022-11-20T08:31:57.178Z"
   },
   {
    "duration": 8,
    "start_time": "2022-11-20T08:38:08.784Z"
   },
   {
    "duration": 5,
    "start_time": "2022-11-20T08:39:40.413Z"
   },
   {
    "duration": 642,
    "start_time": "2022-11-20T08:39:40.420Z"
   },
   {
    "duration": 38,
    "start_time": "2022-11-20T08:39:41.064Z"
   },
   {
    "duration": 6,
    "start_time": "2022-11-20T08:39:41.105Z"
   },
   {
    "duration": 13,
    "start_time": "2022-11-20T08:39:41.113Z"
   },
   {
    "duration": 30,
    "start_time": "2022-11-20T08:39:41.128Z"
   },
   {
    "duration": 44,
    "start_time": "2022-11-20T08:39:41.160Z"
   },
   {
    "duration": 6,
    "start_time": "2022-11-20T08:39:41.206Z"
   },
   {
    "duration": 6,
    "start_time": "2022-11-20T08:39:41.215Z"
   },
   {
    "duration": 114,
    "start_time": "2022-11-20T08:39:41.223Z"
   },
   {
    "duration": 340,
    "start_time": "2022-11-20T08:39:41.339Z"
   },
   {
    "duration": 14,
    "start_time": "2022-11-20T08:39:41.680Z"
   },
   {
    "duration": 183,
    "start_time": "2022-11-20T08:39:41.696Z"
   },
   {
    "duration": 15,
    "start_time": "2022-11-20T08:39:41.881Z"
   },
   {
    "duration": 7,
    "start_time": "2022-11-20T08:39:41.898Z"
   },
   {
    "duration": 12,
    "start_time": "2022-11-20T08:39:41.907Z"
   },
   {
    "duration": 61,
    "start_time": "2022-11-20T08:39:41.921Z"
   },
   {
    "duration": 10,
    "start_time": "2022-11-20T08:39:41.985Z"
   },
   {
    "duration": 41,
    "start_time": "2022-11-20T08:39:41.997Z"
   },
   {
    "duration": 7,
    "start_time": "2022-11-20T08:39:42.056Z"
   },
   {
    "duration": 10,
    "start_time": "2022-11-20T08:39:42.065Z"
   },
   {
    "duration": 24,
    "start_time": "2022-11-20T08:39:42.076Z"
   },
   {
    "duration": 12,
    "start_time": "2022-11-20T08:39:42.102Z"
   },
   {
    "duration": 202,
    "start_time": "2022-11-20T08:39:42.118Z"
   },
   {
    "duration": 3,
    "start_time": "2022-11-20T08:39:42.322Z"
   },
   {
    "duration": 34,
    "start_time": "2022-11-20T08:39:42.327Z"
   },
   {
    "duration": 19,
    "start_time": "2022-11-20T08:39:42.364Z"
   },
   {
    "duration": 5,
    "start_time": "2022-11-20T08:39:42.385Z"
   },
   {
    "duration": 6,
    "start_time": "2022-11-20T08:39:42.392Z"
   },
   {
    "duration": 18,
    "start_time": "2022-11-20T08:39:42.400Z"
   },
   {
    "duration": 366,
    "start_time": "2022-11-20T08:39:42.420Z"
   },
   {
    "duration": 15,
    "start_time": "2022-11-20T08:39:42.788Z"
   },
   {
    "duration": 21,
    "start_time": "2022-11-20T08:39:42.805Z"
   },
   {
    "duration": 678,
    "start_time": "2022-11-20T08:39:42.828Z"
   },
   {
    "duration": 22,
    "start_time": "2022-11-20T08:39:43.507Z"
   },
   {
    "duration": 27,
    "start_time": "2022-11-20T08:39:43.531Z"
   },
   {
    "duration": 26,
    "start_time": "2022-11-20T08:39:43.560Z"
   },
   {
    "duration": 19,
    "start_time": "2022-11-20T08:39:43.587Z"
   },
   {
    "duration": 8,
    "start_time": "2022-11-20T08:39:43.608Z"
   },
   {
    "duration": 57,
    "start_time": "2022-11-20T08:39:43.619Z"
   },
   {
    "duration": 4,
    "start_time": "2022-11-20T08:40:43.116Z"
   },
   {
    "duration": 6,
    "start_time": "2022-11-20T08:42:16.259Z"
   },
   {
    "duration": 5,
    "start_time": "2022-11-20T08:42:45.453Z"
   },
   {
    "duration": 1224,
    "start_time": "2022-11-20T12:32:38.936Z"
   },
   {
    "duration": 867,
    "start_time": "2022-11-20T12:32:40.162Z"
   },
   {
    "duration": 23,
    "start_time": "2022-11-20T12:32:41.031Z"
   },
   {
    "duration": 4,
    "start_time": "2022-11-20T12:32:41.055Z"
   },
   {
    "duration": 11,
    "start_time": "2022-11-20T12:32:41.060Z"
   },
   {
    "duration": 8,
    "start_time": "2022-11-20T12:32:41.073Z"
   },
   {
    "duration": 25,
    "start_time": "2022-11-20T12:32:41.082Z"
   },
   {
    "duration": 5,
    "start_time": "2022-11-20T12:32:41.108Z"
   },
   {
    "duration": 6,
    "start_time": "2022-11-20T12:32:41.114Z"
   },
   {
    "duration": 97,
    "start_time": "2022-11-20T12:32:41.122Z"
   },
   {
    "duration": 286,
    "start_time": "2022-11-20T12:32:41.220Z"
   },
   {
    "duration": 10,
    "start_time": "2022-11-20T12:32:41.508Z"
   },
   {
    "duration": 166,
    "start_time": "2022-11-20T12:32:41.519Z"
   },
   {
    "duration": 11,
    "start_time": "2022-11-20T12:32:41.687Z"
   },
   {
    "duration": 5,
    "start_time": "2022-11-20T12:32:41.699Z"
   },
   {
    "duration": 8,
    "start_time": "2022-11-20T12:32:41.706Z"
   },
   {
    "duration": 33,
    "start_time": "2022-11-20T12:32:41.715Z"
   },
   {
    "duration": 31,
    "start_time": "2022-11-20T12:32:41.750Z"
   },
   {
    "duration": 30,
    "start_time": "2022-11-20T12:32:41.783Z"
   },
   {
    "duration": 5,
    "start_time": "2022-11-20T12:32:41.815Z"
   },
   {
    "duration": 9,
    "start_time": "2022-11-20T12:32:41.821Z"
   },
   {
    "duration": 21,
    "start_time": "2022-11-20T12:32:41.832Z"
   },
   {
    "duration": 29,
    "start_time": "2022-11-20T12:32:41.854Z"
   },
   {
    "duration": 123,
    "start_time": "2022-11-20T12:32:41.884Z"
   },
   {
    "duration": 9,
    "start_time": "2022-11-20T12:32:42.009Z"
   },
   {
    "duration": 12,
    "start_time": "2022-11-20T12:32:42.020Z"
   },
   {
    "duration": 5,
    "start_time": "2022-11-20T12:32:42.033Z"
   },
   {
    "duration": 4,
    "start_time": "2022-11-20T12:32:42.041Z"
   },
   {
    "duration": 34,
    "start_time": "2022-11-20T12:32:42.046Z"
   },
   {
    "duration": 221,
    "start_time": "2022-11-20T12:32:42.082Z"
   },
   {
    "duration": 12,
    "start_time": "2022-11-20T12:32:42.305Z"
   },
   {
    "duration": 4,
    "start_time": "2022-11-20T12:32:42.319Z"
   },
   {
    "duration": 31,
    "start_time": "2022-11-20T12:32:42.324Z"
   },
   {
    "duration": 640,
    "start_time": "2022-11-20T12:32:42.357Z"
   },
   {
    "duration": 19,
    "start_time": "2022-11-20T12:32:42.999Z"
   },
   {
    "duration": 272,
    "start_time": "2022-11-20T12:32:43.020Z"
   },
   {
    "duration": 21,
    "start_time": "2022-11-20T12:32:43.294Z"
   },
   {
    "duration": 10,
    "start_time": "2022-11-20T12:32:43.316Z"
   },
   {
    "duration": 49,
    "start_time": "2022-11-20T12:32:43.328Z"
   },
   {
    "duration": 45,
    "start_time": "2022-11-20T12:32:43.378Z"
   },
   {
    "duration": 50,
    "start_time": "2022-11-20T12:35:09.184Z"
   },
   {
    "duration": 53,
    "start_time": "2022-11-21T08:50:44.123Z"
   },
   {
    "duration": 1327,
    "start_time": "2022-11-21T10:23:50.634Z"
   },
   {
    "duration": 939,
    "start_time": "2022-11-21T10:23:51.963Z"
   },
   {
    "duration": 29,
    "start_time": "2022-11-21T10:23:52.904Z"
   },
   {
    "duration": 6,
    "start_time": "2022-11-21T10:23:52.935Z"
   },
   {
    "duration": 6,
    "start_time": "2022-11-21T10:23:52.942Z"
   },
   {
    "duration": 9,
    "start_time": "2022-11-21T10:23:52.949Z"
   },
   {
    "duration": 53,
    "start_time": "2022-11-21T10:23:52.960Z"
   },
   {
    "duration": 5,
    "start_time": "2022-11-21T10:23:53.015Z"
   },
   {
    "duration": 7,
    "start_time": "2022-11-21T10:23:53.022Z"
   },
   {
    "duration": 92,
    "start_time": "2022-11-21T10:23:53.032Z"
   },
   {
    "duration": 347,
    "start_time": "2022-11-21T10:23:53.125Z"
   },
   {
    "duration": 11,
    "start_time": "2022-11-21T10:23:53.473Z"
   },
   {
    "duration": 176,
    "start_time": "2022-11-21T10:23:53.486Z"
   },
   {
    "duration": 11,
    "start_time": "2022-11-21T10:23:53.664Z"
   },
   {
    "duration": 6,
    "start_time": "2022-11-21T10:23:53.677Z"
   },
   {
    "duration": 31,
    "start_time": "2022-11-21T10:23:53.684Z"
   },
   {
    "duration": 37,
    "start_time": "2022-11-21T10:23:53.716Z"
   },
   {
    "duration": 10,
    "start_time": "2022-11-21T10:23:53.755Z"
   },
   {
    "duration": 61,
    "start_time": "2022-11-21T10:23:53.767Z"
   },
   {
    "duration": 7,
    "start_time": "2022-11-21T10:23:53.830Z"
   },
   {
    "duration": 18,
    "start_time": "2022-11-21T10:23:53.838Z"
   },
   {
    "duration": 38,
    "start_time": "2022-11-21T10:23:53.858Z"
   },
   {
    "duration": 12,
    "start_time": "2022-11-21T10:23:53.898Z"
   },
   {
    "duration": 168,
    "start_time": "2022-11-21T10:23:53.912Z"
   },
   {
    "duration": 13,
    "start_time": "2022-11-21T10:23:54.082Z"
   },
   {
    "duration": 23,
    "start_time": "2022-11-21T10:23:54.097Z"
   },
   {
    "duration": 13,
    "start_time": "2022-11-21T10:23:54.122Z"
   },
   {
    "duration": 12,
    "start_time": "2022-11-21T10:23:54.139Z"
   },
   {
    "duration": 41,
    "start_time": "2022-11-21T10:23:54.153Z"
   },
   {
    "duration": 268,
    "start_time": "2022-11-21T10:23:54.196Z"
   },
   {
    "duration": 13,
    "start_time": "2022-11-21T10:23:54.466Z"
   },
   {
    "duration": 10,
    "start_time": "2022-11-21T10:23:54.481Z"
   },
   {
    "duration": 41,
    "start_time": "2022-11-21T10:23:54.492Z"
   },
   {
    "duration": 761,
    "start_time": "2022-11-21T10:23:54.534Z"
   },
   {
    "duration": 29,
    "start_time": "2022-11-21T10:23:55.297Z"
   },
   {
    "duration": 153,
    "start_time": "2022-11-21T10:23:55.327Z"
   },
   {
    "duration": 35,
    "start_time": "2022-11-21T10:23:55.482Z"
   },
   {
    "duration": 14,
    "start_time": "2022-11-21T10:23:55.518Z"
   },
   {
    "duration": 6,
    "start_time": "2022-11-21T10:23:55.533Z"
   },
   {
    "duration": 83,
    "start_time": "2022-11-21T10:23:55.541Z"
   },
   {
    "duration": 3562,
    "start_time": "2023-01-11T18:05:34.951Z"
   },
   {
    "duration": 913,
    "start_time": "2023-01-11T18:05:38.515Z"
   },
   {
    "duration": 28,
    "start_time": "2023-01-11T18:05:39.430Z"
   },
   {
    "duration": 6,
    "start_time": "2023-01-11T18:05:39.460Z"
   },
   {
    "duration": 11,
    "start_time": "2023-01-11T18:05:39.467Z"
   },
   {
    "duration": 12,
    "start_time": "2023-01-11T18:05:39.480Z"
   },
   {
    "duration": 37,
    "start_time": "2023-01-11T18:05:39.498Z"
   },
   {
    "duration": 5,
    "start_time": "2023-01-11T18:05:39.537Z"
   },
   {
    "duration": 8,
    "start_time": "2023-01-11T18:05:39.544Z"
   },
   {
    "duration": 129,
    "start_time": "2023-01-11T18:05:39.555Z"
   },
   {
    "duration": 300,
    "start_time": "2023-01-11T18:05:39.686Z"
   },
   {
    "duration": 29,
    "start_time": "2023-01-11T18:05:39.988Z"
   },
   {
    "duration": 204,
    "start_time": "2023-01-11T18:05:40.019Z"
   },
   {
    "duration": 10,
    "start_time": "2023-01-11T18:05:40.225Z"
   },
   {
    "duration": 6,
    "start_time": "2023-01-11T18:05:40.237Z"
   },
   {
    "duration": 8,
    "start_time": "2023-01-11T18:05:40.244Z"
   },
   {
    "duration": 62,
    "start_time": "2023-01-11T18:05:40.254Z"
   },
   {
    "duration": 8,
    "start_time": "2023-01-11T18:05:40.319Z"
   },
   {
    "duration": 29,
    "start_time": "2023-01-11T18:05:40.328Z"
   },
   {
    "duration": 5,
    "start_time": "2023-01-11T18:05:40.359Z"
   },
   {
    "duration": 12,
    "start_time": "2023-01-11T18:05:40.366Z"
   },
   {
    "duration": 38,
    "start_time": "2023-01-11T18:05:40.397Z"
   },
   {
    "duration": 11,
    "start_time": "2023-01-11T18:05:40.437Z"
   },
   {
    "duration": 138,
    "start_time": "2023-01-11T18:05:40.450Z"
   },
   {
    "duration": 29,
    "start_time": "2023-01-11T18:05:40.589Z"
   },
   {
    "duration": 11,
    "start_time": "2023-01-11T18:05:40.620Z"
   },
   {
    "duration": 8,
    "start_time": "2023-01-11T18:05:40.633Z"
   },
   {
    "duration": 6,
    "start_time": "2023-01-11T18:05:40.645Z"
   },
   {
    "duration": 13,
    "start_time": "2023-01-11T18:05:40.652Z"
   },
   {
    "duration": 252,
    "start_time": "2023-01-11T18:05:40.667Z"
   },
   {
    "duration": 17,
    "start_time": "2023-01-11T18:05:40.922Z"
   },
   {
    "duration": 5,
    "start_time": "2023-01-11T18:05:40.941Z"
   },
   {
    "duration": 29,
    "start_time": "2023-01-11T18:05:40.948Z"
   },
   {
    "duration": 747,
    "start_time": "2023-01-11T18:05:40.979Z"
   },
   {
    "duration": 21,
    "start_time": "2023-01-11T18:05:41.728Z"
   },
   {
    "duration": 885,
    "start_time": "2023-01-11T18:05:41.750Z"
   },
   {
    "duration": 26,
    "start_time": "2023-01-11T18:05:42.637Z"
   },
   {
    "duration": 12,
    "start_time": "2023-01-11T18:05:42.664Z"
   },
   {
    "duration": 24,
    "start_time": "2023-01-11T18:05:42.677Z"
   },
   {
    "duration": 55,
    "start_time": "2023-01-11T18:05:42.707Z"
   }
  ],
  "kernelspec": {
   "display_name": "Python 3 (ipykernel)",
   "language": "python",
   "name": "python3"
  },
  "language_info": {
   "codemirror_mode": {
    "name": "ipython",
    "version": 3
   },
   "file_extension": ".py",
   "mimetype": "text/x-python",
   "name": "python",
   "nbconvert_exporter": "python",
   "pygments_lexer": "ipython3",
   "version": "3.9.5"
  },
  "toc": {
   "base_numbering": 1,
   "nav_menu": {},
   "number_sections": true,
   "sideBar": true,
   "skip_h1_title": true,
   "title_cell": "Table of Contents",
   "title_sidebar": "Contents",
   "toc_cell": false,
   "toc_position": {},
   "toc_section_display": true,
   "toc_window_display": false
  }
 },
 "nbformat": 4,
 "nbformat_minor": 2
}
