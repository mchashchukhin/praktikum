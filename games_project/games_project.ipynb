{
 "cells": [
  {
   "cell_type": "markdown",
   "metadata": {},
   "source": [
    "# Исследование данных о продажах игр в интернет-магазине\n",
    "\n",
    "\n",
    "Вы работаете в интернет-магазине «Стримчик», который продаёт по всему миру компьютерные игры. Из открытых источников доступны исторические данные о продажах игр, оценки пользователей и экспертов, жанры и платформы (например, Xbox или PlayStation). Вам нужно выявить определяющие успешность игры закономерности. Это позволит сделать ставку на потенциально популярный продукт и спланировать рекламные кампании.\n",
    "\n",
    "Перед вами данные до 2016 года. Представим, что сейчас декабрь 2016 г., и вы планируете кампанию на 2017-й. Нужно отработать принцип работы с данными. Неважно, прогнозируете ли вы продажи на 2017 год по данным 2016-го или же 2027-й — по данным 2026 года."
   ]
  },
  {
   "cell_type": "markdown",
   "metadata": {},
   "source": [
    "Задача проекта - изучить данные о продажах, сформулировать рекомендации для кампании на будущий год. Для этого выполнить шаги:"
   ]
  },
  {
   "cell_type": "markdown",
   "metadata": {},
   "source": [
    "**Шаг 1. Открыть файл с данными и изучить общую информацию**\n",
    "\n",
    "**Шаг 2. Подготовка данных**\n",
    "\n",
    "**Шаг 3. Исследовательский анализ данных**\n",
    "\n",
    "**Шаг 4. Составить портрет пользователя каждого региона**\n",
    "\n",
    "**Шаг 5. Проверка гипотез**\n",
    "\n",
    "**Шаг 6. Общий вывод**"
   ]
  },
  {
   "cell_type": "markdown",
   "metadata": {},
   "source": [
    "### Файл с данными и общая информация. "
   ]
  },
  {
   "cell_type": "code",
   "execution_count": 1,
   "metadata": {},
   "outputs": [],
   "source": [
    "import pandas as pd\n",
    "\n",
    "import seaborn as sns\n",
    "\n",
    "import matplotlib.pyplot as plt\n",
    "\n",
    "from scipy import stats as st\n",
    "\n",
    "pd.set_option('chained_assignment', None)"
   ]
  },
  {
   "cell_type": "code",
   "execution_count": 2,
   "metadata": {},
   "outputs": [],
   "source": [
    "#прочитаем файл с данными и сохраним в переменную\n",
    "\n",
    "data = pd.read_csv('/datasets/games.csv')"
   ]
  },
  {
   "cell_type": "code",
   "execution_count": 3,
   "metadata": {},
   "outputs": [
    {
     "name": "stdout",
     "output_type": "stream",
     "text": [
      "<class 'pandas.core.frame.DataFrame'>\n",
      "RangeIndex: 16715 entries, 0 to 16714\n",
      "Data columns (total 11 columns):\n",
      " #   Column           Non-Null Count  Dtype  \n",
      "---  ------           --------------  -----  \n",
      " 0   Name             16713 non-null  object \n",
      " 1   Platform         16715 non-null  object \n",
      " 2   Year_of_Release  16446 non-null  float64\n",
      " 3   Genre            16713 non-null  object \n",
      " 4   NA_sales         16715 non-null  float64\n",
      " 5   EU_sales         16715 non-null  float64\n",
      " 6   JP_sales         16715 non-null  float64\n",
      " 7   Other_sales      16715 non-null  float64\n",
      " 8   Critic_Score     8137 non-null   float64\n",
      " 9   User_Score       10014 non-null  object \n",
      " 10  Rating           9949 non-null   object \n",
      "dtypes: float64(6), object(5)\n",
      "memory usage: 1.4+ MB\n"
     ]
    }
   ],
   "source": [
    "data.info()"
   ]
  },
  {
   "cell_type": "markdown",
   "metadata": {},
   "source": [
    "**Описание данных:**\n",
    "\n",
    "* Name — название игры\n",
    "\n",
    "* Platform — платформа\n",
    "\n",
    "* Year_of_Release — год выпуска\n",
    "\n",
    "* Genre — жанр игры\n",
    "\n",
    "* NA_sales — продажи в Северной Америке (миллионы проданных копий)\n",
    "\n",
    "* EU_sales — продажи в Европе (миллионы проданных копий)\n",
    "\n",
    "* JP_sales — продажи в Японии (миллионы проданных копий)\n",
    "\n",
    "* Other_sales — продажи в других странах (миллионы проданных копий)\n",
    "\n",
    "* Critic_Score — оценка критиков (максимум 100)\n",
    "\n",
    "* User_Score — оценка пользователей (максимум 10)\n",
    "\n",
    "* Rating — рейтинг от организации ESRB (англ. Entertainment Software Rating Board). Эта ассоциация определяет рейтинг компьютерных игр и присваивает им подходящую возрастную категорию."
   ]
  },
  {
   "cell_type": "code",
   "execution_count": 4,
   "metadata": {
    "scrolled": false
   },
   "outputs": [
    {
     "data": {
      "text/html": [
       "<div>\n",
       "<style scoped>\n",
       "    .dataframe tbody tr th:only-of-type {\n",
       "        vertical-align: middle;\n",
       "    }\n",
       "\n",
       "    .dataframe tbody tr th {\n",
       "        vertical-align: top;\n",
       "    }\n",
       "\n",
       "    .dataframe thead th {\n",
       "        text-align: right;\n",
       "    }\n",
       "</style>\n",
       "<table border=\"1\" class=\"dataframe\">\n",
       "  <thead>\n",
       "    <tr style=\"text-align: right;\">\n",
       "      <th></th>\n",
       "      <th>Name</th>\n",
       "      <th>Platform</th>\n",
       "      <th>Year_of_Release</th>\n",
       "      <th>Genre</th>\n",
       "      <th>NA_sales</th>\n",
       "      <th>EU_sales</th>\n",
       "      <th>JP_sales</th>\n",
       "      <th>Other_sales</th>\n",
       "      <th>Critic_Score</th>\n",
       "      <th>User_Score</th>\n",
       "      <th>Rating</th>\n",
       "    </tr>\n",
       "  </thead>\n",
       "  <tbody>\n",
       "    <tr>\n",
       "      <th>0</th>\n",
       "      <td>Wii Sports</td>\n",
       "      <td>Wii</td>\n",
       "      <td>2006.0</td>\n",
       "      <td>Sports</td>\n",
       "      <td>41.36</td>\n",
       "      <td>28.96</td>\n",
       "      <td>3.77</td>\n",
       "      <td>8.45</td>\n",
       "      <td>76.0</td>\n",
       "      <td>8</td>\n",
       "      <td>E</td>\n",
       "    </tr>\n",
       "    <tr>\n",
       "      <th>1</th>\n",
       "      <td>Super Mario Bros.</td>\n",
       "      <td>NES</td>\n",
       "      <td>1985.0</td>\n",
       "      <td>Platform</td>\n",
       "      <td>29.08</td>\n",
       "      <td>3.58</td>\n",
       "      <td>6.81</td>\n",
       "      <td>0.77</td>\n",
       "      <td>NaN</td>\n",
       "      <td>NaN</td>\n",
       "      <td>NaN</td>\n",
       "    </tr>\n",
       "    <tr>\n",
       "      <th>2</th>\n",
       "      <td>Mario Kart Wii</td>\n",
       "      <td>Wii</td>\n",
       "      <td>2008.0</td>\n",
       "      <td>Racing</td>\n",
       "      <td>15.68</td>\n",
       "      <td>12.76</td>\n",
       "      <td>3.79</td>\n",
       "      <td>3.29</td>\n",
       "      <td>82.0</td>\n",
       "      <td>8.3</td>\n",
       "      <td>E</td>\n",
       "    </tr>\n",
       "    <tr>\n",
       "      <th>3</th>\n",
       "      <td>Wii Sports Resort</td>\n",
       "      <td>Wii</td>\n",
       "      <td>2009.0</td>\n",
       "      <td>Sports</td>\n",
       "      <td>15.61</td>\n",
       "      <td>10.93</td>\n",
       "      <td>3.28</td>\n",
       "      <td>2.95</td>\n",
       "      <td>80.0</td>\n",
       "      <td>8</td>\n",
       "      <td>E</td>\n",
       "    </tr>\n",
       "    <tr>\n",
       "      <th>4</th>\n",
       "      <td>Pokemon Red/Pokemon Blue</td>\n",
       "      <td>GB</td>\n",
       "      <td>1996.0</td>\n",
       "      <td>Role-Playing</td>\n",
       "      <td>11.27</td>\n",
       "      <td>8.89</td>\n",
       "      <td>10.22</td>\n",
       "      <td>1.00</td>\n",
       "      <td>NaN</td>\n",
       "      <td>NaN</td>\n",
       "      <td>NaN</td>\n",
       "    </tr>\n",
       "    <tr>\n",
       "      <th>5</th>\n",
       "      <td>Tetris</td>\n",
       "      <td>GB</td>\n",
       "      <td>1989.0</td>\n",
       "      <td>Puzzle</td>\n",
       "      <td>23.20</td>\n",
       "      <td>2.26</td>\n",
       "      <td>4.22</td>\n",
       "      <td>0.58</td>\n",
       "      <td>NaN</td>\n",
       "      <td>NaN</td>\n",
       "      <td>NaN</td>\n",
       "    </tr>\n",
       "    <tr>\n",
       "      <th>6</th>\n",
       "      <td>New Super Mario Bros.</td>\n",
       "      <td>DS</td>\n",
       "      <td>2006.0</td>\n",
       "      <td>Platform</td>\n",
       "      <td>11.28</td>\n",
       "      <td>9.14</td>\n",
       "      <td>6.50</td>\n",
       "      <td>2.88</td>\n",
       "      <td>89.0</td>\n",
       "      <td>8.5</td>\n",
       "      <td>E</td>\n",
       "    </tr>\n",
       "    <tr>\n",
       "      <th>7</th>\n",
       "      <td>Wii Play</td>\n",
       "      <td>Wii</td>\n",
       "      <td>2006.0</td>\n",
       "      <td>Misc</td>\n",
       "      <td>13.96</td>\n",
       "      <td>9.18</td>\n",
       "      <td>2.93</td>\n",
       "      <td>2.84</td>\n",
       "      <td>58.0</td>\n",
       "      <td>6.6</td>\n",
       "      <td>E</td>\n",
       "    </tr>\n",
       "    <tr>\n",
       "      <th>8</th>\n",
       "      <td>New Super Mario Bros. Wii</td>\n",
       "      <td>Wii</td>\n",
       "      <td>2009.0</td>\n",
       "      <td>Platform</td>\n",
       "      <td>14.44</td>\n",
       "      <td>6.94</td>\n",
       "      <td>4.70</td>\n",
       "      <td>2.24</td>\n",
       "      <td>87.0</td>\n",
       "      <td>8.4</td>\n",
       "      <td>E</td>\n",
       "    </tr>\n",
       "    <tr>\n",
       "      <th>9</th>\n",
       "      <td>Duck Hunt</td>\n",
       "      <td>NES</td>\n",
       "      <td>1984.0</td>\n",
       "      <td>Shooter</td>\n",
       "      <td>26.93</td>\n",
       "      <td>0.63</td>\n",
       "      <td>0.28</td>\n",
       "      <td>0.47</td>\n",
       "      <td>NaN</td>\n",
       "      <td>NaN</td>\n",
       "      <td>NaN</td>\n",
       "    </tr>\n",
       "    <tr>\n",
       "      <th>10</th>\n",
       "      <td>Nintendogs</td>\n",
       "      <td>DS</td>\n",
       "      <td>2005.0</td>\n",
       "      <td>Simulation</td>\n",
       "      <td>9.05</td>\n",
       "      <td>10.95</td>\n",
       "      <td>1.93</td>\n",
       "      <td>2.74</td>\n",
       "      <td>NaN</td>\n",
       "      <td>NaN</td>\n",
       "      <td>NaN</td>\n",
       "    </tr>\n",
       "    <tr>\n",
       "      <th>11</th>\n",
       "      <td>Mario Kart DS</td>\n",
       "      <td>DS</td>\n",
       "      <td>2005.0</td>\n",
       "      <td>Racing</td>\n",
       "      <td>9.71</td>\n",
       "      <td>7.47</td>\n",
       "      <td>4.13</td>\n",
       "      <td>1.90</td>\n",
       "      <td>91.0</td>\n",
       "      <td>8.6</td>\n",
       "      <td>E</td>\n",
       "    </tr>\n",
       "    <tr>\n",
       "      <th>12</th>\n",
       "      <td>Pokemon Gold/Pokemon Silver</td>\n",
       "      <td>GB</td>\n",
       "      <td>1999.0</td>\n",
       "      <td>Role-Playing</td>\n",
       "      <td>9.00</td>\n",
       "      <td>6.18</td>\n",
       "      <td>7.20</td>\n",
       "      <td>0.71</td>\n",
       "      <td>NaN</td>\n",
       "      <td>NaN</td>\n",
       "      <td>NaN</td>\n",
       "    </tr>\n",
       "    <tr>\n",
       "      <th>13</th>\n",
       "      <td>Wii Fit</td>\n",
       "      <td>Wii</td>\n",
       "      <td>2007.0</td>\n",
       "      <td>Sports</td>\n",
       "      <td>8.92</td>\n",
       "      <td>8.03</td>\n",
       "      <td>3.60</td>\n",
       "      <td>2.15</td>\n",
       "      <td>80.0</td>\n",
       "      <td>7.7</td>\n",
       "      <td>E</td>\n",
       "    </tr>\n",
       "    <tr>\n",
       "      <th>14</th>\n",
       "      <td>Kinect Adventures!</td>\n",
       "      <td>X360</td>\n",
       "      <td>2010.0</td>\n",
       "      <td>Misc</td>\n",
       "      <td>15.00</td>\n",
       "      <td>4.89</td>\n",
       "      <td>0.24</td>\n",
       "      <td>1.69</td>\n",
       "      <td>61.0</td>\n",
       "      <td>6.3</td>\n",
       "      <td>E</td>\n",
       "    </tr>\n",
       "    <tr>\n",
       "      <th>15</th>\n",
       "      <td>Wii Fit Plus</td>\n",
       "      <td>Wii</td>\n",
       "      <td>2009.0</td>\n",
       "      <td>Sports</td>\n",
       "      <td>9.01</td>\n",
       "      <td>8.49</td>\n",
       "      <td>2.53</td>\n",
       "      <td>1.77</td>\n",
       "      <td>80.0</td>\n",
       "      <td>7.4</td>\n",
       "      <td>E</td>\n",
       "    </tr>\n",
       "    <tr>\n",
       "      <th>16</th>\n",
       "      <td>Grand Theft Auto V</td>\n",
       "      <td>PS3</td>\n",
       "      <td>2013.0</td>\n",
       "      <td>Action</td>\n",
       "      <td>7.02</td>\n",
       "      <td>9.09</td>\n",
       "      <td>0.98</td>\n",
       "      <td>3.96</td>\n",
       "      <td>97.0</td>\n",
       "      <td>8.2</td>\n",
       "      <td>M</td>\n",
       "    </tr>\n",
       "    <tr>\n",
       "      <th>17</th>\n",
       "      <td>Grand Theft Auto: San Andreas</td>\n",
       "      <td>PS2</td>\n",
       "      <td>2004.0</td>\n",
       "      <td>Action</td>\n",
       "      <td>9.43</td>\n",
       "      <td>0.40</td>\n",
       "      <td>0.41</td>\n",
       "      <td>10.57</td>\n",
       "      <td>95.0</td>\n",
       "      <td>9</td>\n",
       "      <td>M</td>\n",
       "    </tr>\n",
       "    <tr>\n",
       "      <th>18</th>\n",
       "      <td>Super Mario World</td>\n",
       "      <td>SNES</td>\n",
       "      <td>1990.0</td>\n",
       "      <td>Platform</td>\n",
       "      <td>12.78</td>\n",
       "      <td>3.75</td>\n",
       "      <td>3.54</td>\n",
       "      <td>0.55</td>\n",
       "      <td>NaN</td>\n",
       "      <td>NaN</td>\n",
       "      <td>NaN</td>\n",
       "    </tr>\n",
       "    <tr>\n",
       "      <th>19</th>\n",
       "      <td>Brain Age: Train Your Brain in Minutes a Day</td>\n",
       "      <td>DS</td>\n",
       "      <td>2005.0</td>\n",
       "      <td>Misc</td>\n",
       "      <td>4.74</td>\n",
       "      <td>9.20</td>\n",
       "      <td>4.16</td>\n",
       "      <td>2.04</td>\n",
       "      <td>77.0</td>\n",
       "      <td>7.9</td>\n",
       "      <td>E</td>\n",
       "    </tr>\n",
       "  </tbody>\n",
       "</table>\n",
       "</div>"
      ],
      "text/plain": [
       "                                            Name Platform  Year_of_Release  \\\n",
       "0                                     Wii Sports      Wii           2006.0   \n",
       "1                              Super Mario Bros.      NES           1985.0   \n",
       "2                                 Mario Kart Wii      Wii           2008.0   \n",
       "3                              Wii Sports Resort      Wii           2009.0   \n",
       "4                       Pokemon Red/Pokemon Blue       GB           1996.0   \n",
       "5                                         Tetris       GB           1989.0   \n",
       "6                          New Super Mario Bros.       DS           2006.0   \n",
       "7                                       Wii Play      Wii           2006.0   \n",
       "8                      New Super Mario Bros. Wii      Wii           2009.0   \n",
       "9                                      Duck Hunt      NES           1984.0   \n",
       "10                                    Nintendogs       DS           2005.0   \n",
       "11                                 Mario Kart DS       DS           2005.0   \n",
       "12                   Pokemon Gold/Pokemon Silver       GB           1999.0   \n",
       "13                                       Wii Fit      Wii           2007.0   \n",
       "14                            Kinect Adventures!     X360           2010.0   \n",
       "15                                  Wii Fit Plus      Wii           2009.0   \n",
       "16                            Grand Theft Auto V      PS3           2013.0   \n",
       "17                 Grand Theft Auto: San Andreas      PS2           2004.0   \n",
       "18                             Super Mario World     SNES           1990.0   \n",
       "19  Brain Age: Train Your Brain in Minutes a Day       DS           2005.0   \n",
       "\n",
       "           Genre  NA_sales  EU_sales  JP_sales  Other_sales  Critic_Score  \\\n",
       "0         Sports     41.36     28.96      3.77         8.45          76.0   \n",
       "1       Platform     29.08      3.58      6.81         0.77           NaN   \n",
       "2         Racing     15.68     12.76      3.79         3.29          82.0   \n",
       "3         Sports     15.61     10.93      3.28         2.95          80.0   \n",
       "4   Role-Playing     11.27      8.89     10.22         1.00           NaN   \n",
       "5         Puzzle     23.20      2.26      4.22         0.58           NaN   \n",
       "6       Platform     11.28      9.14      6.50         2.88          89.0   \n",
       "7           Misc     13.96      9.18      2.93         2.84          58.0   \n",
       "8       Platform     14.44      6.94      4.70         2.24          87.0   \n",
       "9        Shooter     26.93      0.63      0.28         0.47           NaN   \n",
       "10    Simulation      9.05     10.95      1.93         2.74           NaN   \n",
       "11        Racing      9.71      7.47      4.13         1.90          91.0   \n",
       "12  Role-Playing      9.00      6.18      7.20         0.71           NaN   \n",
       "13        Sports      8.92      8.03      3.60         2.15          80.0   \n",
       "14          Misc     15.00      4.89      0.24         1.69          61.0   \n",
       "15        Sports      9.01      8.49      2.53         1.77          80.0   \n",
       "16        Action      7.02      9.09      0.98         3.96          97.0   \n",
       "17        Action      9.43      0.40      0.41        10.57          95.0   \n",
       "18      Platform     12.78      3.75      3.54         0.55           NaN   \n",
       "19          Misc      4.74      9.20      4.16         2.04          77.0   \n",
       "\n",
       "   User_Score Rating  \n",
       "0           8      E  \n",
       "1         NaN    NaN  \n",
       "2         8.3      E  \n",
       "3           8      E  \n",
       "4         NaN    NaN  \n",
       "5         NaN    NaN  \n",
       "6         8.5      E  \n",
       "7         6.6      E  \n",
       "8         8.4      E  \n",
       "9         NaN    NaN  \n",
       "10        NaN    NaN  \n",
       "11        8.6      E  \n",
       "12        NaN    NaN  \n",
       "13        7.7      E  \n",
       "14        6.3      E  \n",
       "15        7.4      E  \n",
       "16        8.2      M  \n",
       "17          9      M  \n",
       "18        NaN    NaN  \n",
       "19        7.9      E  "
      ]
     },
     "execution_count": 4,
     "metadata": {},
     "output_type": "execute_result"
    }
   ],
   "source": [
    "data.head(20)"
   ]
  },
  {
   "cell_type": "code",
   "execution_count": 5,
   "metadata": {
    "scrolled": false
   },
   "outputs": [
    {
     "data": {
      "text/html": [
       "<div>\n",
       "<style scoped>\n",
       "    .dataframe tbody tr th:only-of-type {\n",
       "        vertical-align: middle;\n",
       "    }\n",
       "\n",
       "    .dataframe tbody tr th {\n",
       "        vertical-align: top;\n",
       "    }\n",
       "\n",
       "    .dataframe thead th {\n",
       "        text-align: right;\n",
       "    }\n",
       "</style>\n",
       "<table border=\"1\" class=\"dataframe\">\n",
       "  <thead>\n",
       "    <tr style=\"text-align: right;\">\n",
       "      <th></th>\n",
       "      <th>Year_of_Release</th>\n",
       "      <th>NA_sales</th>\n",
       "      <th>EU_sales</th>\n",
       "      <th>JP_sales</th>\n",
       "      <th>Other_sales</th>\n",
       "      <th>Critic_Score</th>\n",
       "    </tr>\n",
       "  </thead>\n",
       "  <tbody>\n",
       "    <tr>\n",
       "      <th>count</th>\n",
       "      <td>16446.000000</td>\n",
       "      <td>16715.000000</td>\n",
       "      <td>16715.000000</td>\n",
       "      <td>16715.000000</td>\n",
       "      <td>16715.000000</td>\n",
       "      <td>8137.000000</td>\n",
       "    </tr>\n",
       "    <tr>\n",
       "      <th>mean</th>\n",
       "      <td>2006.484616</td>\n",
       "      <td>0.263377</td>\n",
       "      <td>0.145060</td>\n",
       "      <td>0.077617</td>\n",
       "      <td>0.047342</td>\n",
       "      <td>68.967679</td>\n",
       "    </tr>\n",
       "    <tr>\n",
       "      <th>std</th>\n",
       "      <td>5.877050</td>\n",
       "      <td>0.813604</td>\n",
       "      <td>0.503339</td>\n",
       "      <td>0.308853</td>\n",
       "      <td>0.186731</td>\n",
       "      <td>13.938165</td>\n",
       "    </tr>\n",
       "    <tr>\n",
       "      <th>min</th>\n",
       "      <td>1980.000000</td>\n",
       "      <td>0.000000</td>\n",
       "      <td>0.000000</td>\n",
       "      <td>0.000000</td>\n",
       "      <td>0.000000</td>\n",
       "      <td>13.000000</td>\n",
       "    </tr>\n",
       "    <tr>\n",
       "      <th>25%</th>\n",
       "      <td>2003.000000</td>\n",
       "      <td>0.000000</td>\n",
       "      <td>0.000000</td>\n",
       "      <td>0.000000</td>\n",
       "      <td>0.000000</td>\n",
       "      <td>60.000000</td>\n",
       "    </tr>\n",
       "    <tr>\n",
       "      <th>50%</th>\n",
       "      <td>2007.000000</td>\n",
       "      <td>0.080000</td>\n",
       "      <td>0.020000</td>\n",
       "      <td>0.000000</td>\n",
       "      <td>0.010000</td>\n",
       "      <td>71.000000</td>\n",
       "    </tr>\n",
       "    <tr>\n",
       "      <th>75%</th>\n",
       "      <td>2010.000000</td>\n",
       "      <td>0.240000</td>\n",
       "      <td>0.110000</td>\n",
       "      <td>0.040000</td>\n",
       "      <td>0.030000</td>\n",
       "      <td>79.000000</td>\n",
       "    </tr>\n",
       "    <tr>\n",
       "      <th>max</th>\n",
       "      <td>2016.000000</td>\n",
       "      <td>41.360000</td>\n",
       "      <td>28.960000</td>\n",
       "      <td>10.220000</td>\n",
       "      <td>10.570000</td>\n",
       "      <td>98.000000</td>\n",
       "    </tr>\n",
       "  </tbody>\n",
       "</table>\n",
       "</div>"
      ],
      "text/plain": [
       "       Year_of_Release      NA_sales      EU_sales      JP_sales  \\\n",
       "count     16446.000000  16715.000000  16715.000000  16715.000000   \n",
       "mean       2006.484616      0.263377      0.145060      0.077617   \n",
       "std           5.877050      0.813604      0.503339      0.308853   \n",
       "min        1980.000000      0.000000      0.000000      0.000000   \n",
       "25%        2003.000000      0.000000      0.000000      0.000000   \n",
       "50%        2007.000000      0.080000      0.020000      0.000000   \n",
       "75%        2010.000000      0.240000      0.110000      0.040000   \n",
       "max        2016.000000     41.360000     28.960000     10.220000   \n",
       "\n",
       "        Other_sales  Critic_Score  \n",
       "count  16715.000000   8137.000000  \n",
       "mean       0.047342     68.967679  \n",
       "std        0.186731     13.938165  \n",
       "min        0.000000     13.000000  \n",
       "25%        0.000000     60.000000  \n",
       "50%        0.010000     71.000000  \n",
       "75%        0.030000     79.000000  \n",
       "max       10.570000     98.000000  "
      ]
     },
     "execution_count": 5,
     "metadata": {},
     "output_type": "execute_result"
    }
   ],
   "source": [
    "data.describe()"
   ]
  },
  {
   "cell_type": "code",
   "execution_count": 6,
   "metadata": {},
   "outputs": [
    {
     "data": {
      "image/png": "[encoded data removed]",
      "text/plain": [
       "<Figure size 1080x1440 with 6 Axes>"
      ]
     },
     "metadata": {
      "needs_background": "light"
     },
     "output_type": "display_data"
    }
   ],
   "source": [
    "data.hist(figsize=(15, 20));"
   ]
  },
  {
   "cell_type": "markdown",
   "metadata": {},
   "source": [
    "### Предобработка данных"
   ]
  },
  {
   "cell_type": "code",
   "execution_count": 7,
   "metadata": {},
   "outputs": [],
   "source": [
    "#приведём названия столбцов к нижнему регистру\n",
    "\n",
    "data.columns = data.columns.str.lower()"
   ]
  },
  {
   "cell_type": "code",
   "execution_count": 8,
   "metadata": {},
   "outputs": [
    {
     "data": {
      "text/plain": [
       "name                  2\n",
       "platform              0\n",
       "year_of_release     269\n",
       "genre                 2\n",
       "na_sales              0\n",
       "eu_sales              0\n",
       "jp_sales              0\n",
       "other_sales           0\n",
       "critic_score       8578\n",
       "user_score         6701\n",
       "rating             6766\n",
       "dtype: int64"
      ]
     },
     "execution_count": 8,
     "metadata": {},
     "output_type": "execute_result"
    }
   ],
   "source": [
    "#подсчитаем количество пропусков в таблице\n",
    "\n",
    "data.isna().sum()"
   ]
  },
  {
   "cell_type": "code",
   "execution_count": 9,
   "metadata": {},
   "outputs": [
    {
     "data": {
      "text/plain": [
       "name                0.01\n",
       "platform            0.00\n",
       "year_of_release     1.61\n",
       "genre               0.01\n",
       "na_sales            0.00\n",
       "eu_sales            0.00\n",
       "jp_sales            0.00\n",
       "other_sales         0.00\n",
       "critic_score       51.32\n",
       "user_score         40.09\n",
       "rating             40.48\n",
       "dtype: float64"
      ]
     },
     "execution_count": 9,
     "metadata": {},
     "output_type": "execute_result"
    }
   ],
   "source": [
    "#подсчёт процента числа пропусков\n",
    "\n",
    "round(data.isna().sum() * 100 / len(data), 2)"
   ]
  },
  {
   "cell_type": "markdown",
   "metadata": {},
   "source": [
    "Видно большое числое пропусков в оценках и рейтинге, их оставляем как есть. Замена на среднее или медианное значение может исказить данные. Остальные строки с пропусками сбросим."
   ]
  },
  {
   "cell_type": "code",
   "execution_count": 10,
   "metadata": {},
   "outputs": [],
   "source": [
    "#сбрасываем строки с пропусками в жанре, году релиза и названии, т.к. их в сумме менее 2%\n",
    "\n",
    "data = data.query('~year_of_release.isna() and ~name.isna() and ~genre.isna()')"
   ]
  },
  {
   "cell_type": "code",
   "execution_count": 11,
   "metadata": {},
   "outputs": [
    {
     "data": {
      "text/plain": [
       "name                  0\n",
       "platform              0\n",
       "year_of_release       0\n",
       "genre                 0\n",
       "na_sales              0\n",
       "eu_sales              0\n",
       "jp_sales              0\n",
       "other_sales           0\n",
       "critic_score       8461\n",
       "user_score         6605\n",
       "rating             6676\n",
       "dtype: int64"
      ]
     },
     "execution_count": 11,
     "metadata": {},
     "output_type": "execute_result"
    }
   ],
   "source": [
    "data.isna().sum()"
   ]
  },
  {
   "cell_type": "code",
   "execution_count": 12,
   "metadata": {},
   "outputs": [
    {
     "data": {
      "text/html": [
       "<div>\n",
       "<style scoped>\n",
       "    .dataframe tbody tr th:only-of-type {\n",
       "        vertical-align: middle;\n",
       "    }\n",
       "\n",
       "    .dataframe tbody tr th {\n",
       "        vertical-align: top;\n",
       "    }\n",
       "\n",
       "    .dataframe thead th {\n",
       "        text-align: right;\n",
       "    }\n",
       "</style>\n",
       "<table border=\"1\" class=\"dataframe\">\n",
       "  <thead>\n",
       "    <tr style=\"text-align: right;\">\n",
       "      <th></th>\n",
       "      <th>name</th>\n",
       "      <th>platform</th>\n",
       "      <th>year_of_release</th>\n",
       "      <th>genre</th>\n",
       "      <th>na_sales</th>\n",
       "      <th>eu_sales</th>\n",
       "      <th>jp_sales</th>\n",
       "      <th>other_sales</th>\n",
       "      <th>critic_score</th>\n",
       "      <th>user_score</th>\n",
       "      <th>rating</th>\n",
       "    </tr>\n",
       "  </thead>\n",
       "  <tbody>\n",
       "    <tr>\n",
       "      <th>0</th>\n",
       "      <td>Wii Sports</td>\n",
       "      <td>Wii</td>\n",
       "      <td>2006.0</td>\n",
       "      <td>Sports</td>\n",
       "      <td>41.36</td>\n",
       "      <td>28.96</td>\n",
       "      <td>3.77</td>\n",
       "      <td>8.45</td>\n",
       "      <td>76.0</td>\n",
       "      <td>8</td>\n",
       "      <td>E</td>\n",
       "    </tr>\n",
       "    <tr>\n",
       "      <th>1</th>\n",
       "      <td>Super Mario Bros.</td>\n",
       "      <td>NES</td>\n",
       "      <td>1985.0</td>\n",
       "      <td>Platform</td>\n",
       "      <td>29.08</td>\n",
       "      <td>3.58</td>\n",
       "      <td>6.81</td>\n",
       "      <td>0.77</td>\n",
       "      <td>NaN</td>\n",
       "      <td>NaN</td>\n",
       "      <td>NaN</td>\n",
       "    </tr>\n",
       "    <tr>\n",
       "      <th>2</th>\n",
       "      <td>Mario Kart Wii</td>\n",
       "      <td>Wii</td>\n",
       "      <td>2008.0</td>\n",
       "      <td>Racing</td>\n",
       "      <td>15.68</td>\n",
       "      <td>12.76</td>\n",
       "      <td>3.79</td>\n",
       "      <td>3.29</td>\n",
       "      <td>82.0</td>\n",
       "      <td>8.3</td>\n",
       "      <td>E</td>\n",
       "    </tr>\n",
       "    <tr>\n",
       "      <th>3</th>\n",
       "      <td>Wii Sports Resort</td>\n",
       "      <td>Wii</td>\n",
       "      <td>2009.0</td>\n",
       "      <td>Sports</td>\n",
       "      <td>15.61</td>\n",
       "      <td>10.93</td>\n",
       "      <td>3.28</td>\n",
       "      <td>2.95</td>\n",
       "      <td>80.0</td>\n",
       "      <td>8</td>\n",
       "      <td>E</td>\n",
       "    </tr>\n",
       "    <tr>\n",
       "      <th>4</th>\n",
       "      <td>Pokemon Red/Pokemon Blue</td>\n",
       "      <td>GB</td>\n",
       "      <td>1996.0</td>\n",
       "      <td>Role-Playing</td>\n",
       "      <td>11.27</td>\n",
       "      <td>8.89</td>\n",
       "      <td>10.22</td>\n",
       "      <td>1.00</td>\n",
       "      <td>NaN</td>\n",
       "      <td>NaN</td>\n",
       "      <td>NaN</td>\n",
       "    </tr>\n",
       "  </tbody>\n",
       "</table>\n",
       "</div>"
      ],
      "text/plain": [
       "                       name platform  year_of_release         genre  na_sales  \\\n",
       "0                Wii Sports      Wii           2006.0        Sports     41.36   \n",
       "1         Super Mario Bros.      NES           1985.0      Platform     29.08   \n",
       "2            Mario Kart Wii      Wii           2008.0        Racing     15.68   \n",
       "3         Wii Sports Resort      Wii           2009.0        Sports     15.61   \n",
       "4  Pokemon Red/Pokemon Blue       GB           1996.0  Role-Playing     11.27   \n",
       "\n",
       "   eu_sales  jp_sales  other_sales  critic_score user_score rating  \n",
       "0     28.96      3.77         8.45          76.0          8      E  \n",
       "1      3.58      6.81         0.77           NaN        NaN    NaN  \n",
       "2     12.76      3.79         3.29          82.0        8.3      E  \n",
       "3     10.93      3.28         2.95          80.0          8      E  \n",
       "4      8.89     10.22         1.00           NaN        NaN    NaN  "
      ]
     },
     "execution_count": 12,
     "metadata": {},
     "output_type": "execute_result"
    }
   ],
   "source": [
    "data.head()"
   ]
  },
  {
   "cell_type": "code",
   "execution_count": 13,
   "metadata": {},
   "outputs": [
    {
     "data": {
      "text/plain": [
       "96"
      ]
     },
     "execution_count": 13,
     "metadata": {},
     "output_type": "execute_result"
    }
   ],
   "source": [
    "data.user_score.unique()"
   ]
  },
  {
   "cell_type": "markdown",
   "metadata": {},
   "source": [
    "В столбце пользовательских оценок видно значение tbd - to be determined. На момент выгрузки данные об оценках были ещё не собраны, заменим их на маркер."
   ]
  },
  {
   "cell_type": "code",
   "execution_count": 546,
   "metadata": {},
   "outputs": [],
   "source": [
    "data['user_score'] = pd.to_numeric(data['user_score'], errors='coerce')"
   ]
  },
  {
   "cell_type": "code",
   "execution_count": 547,
   "metadata": {},
   "outputs": [
    {
     "data": {
      "text/html": [
       "<div>\n",
       "<style scoped>\n",
       "    .dataframe tbody tr th:only-of-type {\n",
       "        vertical-align: middle;\n",
       "    }\n",
       "\n",
       "    .dataframe tbody tr th {\n",
       "        vertical-align: top;\n",
       "    }\n",
       "\n",
       "    .dataframe thead th {\n",
       "        text-align: right;\n",
       "    }\n",
       "</style>\n",
       "<table border=\"1\" class=\"dataframe\">\n",
       "  <thead>\n",
       "    <tr style=\"text-align: right;\">\n",
       "      <th></th>\n",
       "      <th>name</th>\n",
       "      <th>platform</th>\n",
       "      <th>year_of_release</th>\n",
       "      <th>genre</th>\n",
       "      <th>na_sales</th>\n",
       "      <th>eu_sales</th>\n",
       "      <th>jp_sales</th>\n",
       "      <th>other_sales</th>\n",
       "      <th>critic_score</th>\n",
       "      <th>user_score</th>\n",
       "      <th>rating</th>\n",
       "    </tr>\n",
       "  </thead>\n",
       "  <tbody>\n",
       "  </tbody>\n",
       "</table>\n",
       "</div>"
      ],
      "text/plain": [
       "Empty DataFrame\n",
       "Columns: [name, platform, year_of_release, genre, na_sales, eu_sales, jp_sales, other_sales, critic_score, user_score, rating]\n",
       "Index: []"
      ]
     },
     "execution_count": 547,
     "metadata": {},
     "output_type": "execute_result"
    }
   ],
   "source": [
    "data.query('user_score == \"tbd\"')"
   ]
  },
  {
   "cell_type": "code",
   "execution_count": 548,
   "metadata": {},
   "outputs": [],
   "source": [
    "#тип столбцов с оценками и продажами приводим к дробному\n",
    "\n",
    "for i in data.columns[4:10]:\n",
    "    data[i] = data[i].astype('float32')"
   ]
  },
  {
   "cell_type": "code",
   "execution_count": 549,
   "metadata": {},
   "outputs": [],
   "source": [
    "#год выхода приводим к целому\n",
    "\n",
    "data['year_of_release'] = data['year_of_release'].astype('int32')"
   ]
  },
  {
   "cell_type": "code",
   "execution_count": 550,
   "metadata": {},
   "outputs": [
    {
     "data": {
      "text/plain": [
       "name                object\n",
       "platform            object\n",
       "year_of_release      int32\n",
       "genre               object\n",
       "na_sales           float32\n",
       "eu_sales           float32\n",
       "jp_sales           float32\n",
       "other_sales        float32\n",
       "critic_score       float32\n",
       "user_score         float32\n",
       "rating              object\n",
       "dtype: object"
      ]
     },
     "execution_count": 550,
     "metadata": {},
     "output_type": "execute_result"
    }
   ],
   "source": [
    "data.dtypes"
   ]
  },
  {
   "cell_type": "code",
   "execution_count": 551,
   "metadata": {},
   "outputs": [
    {
     "data": {
      "text/html": [
       "<div>\n",
       "<style scoped>\n",
       "    .dataframe tbody tr th:only-of-type {\n",
       "        vertical-align: middle;\n",
       "    }\n",
       "\n",
       "    .dataframe tbody tr th {\n",
       "        vertical-align: top;\n",
       "    }\n",
       "\n",
       "    .dataframe thead th {\n",
       "        text-align: right;\n",
       "    }\n",
       "</style>\n",
       "<table border=\"1\" class=\"dataframe\">\n",
       "  <thead>\n",
       "    <tr style=\"text-align: right;\">\n",
       "      <th></th>\n",
       "      <th>name</th>\n",
       "      <th>platform</th>\n",
       "      <th>year_of_release</th>\n",
       "      <th>genre</th>\n",
       "      <th>na_sales</th>\n",
       "      <th>eu_sales</th>\n",
       "      <th>jp_sales</th>\n",
       "      <th>other_sales</th>\n",
       "      <th>critic_score</th>\n",
       "      <th>user_score</th>\n",
       "      <th>rating</th>\n",
       "      <th>sales_all</th>\n",
       "    </tr>\n",
       "  </thead>\n",
       "  <tbody>\n",
       "    <tr>\n",
       "      <th>0</th>\n",
       "      <td>Wii Sports</td>\n",
       "      <td>Wii</td>\n",
       "      <td>2006</td>\n",
       "      <td>Sports</td>\n",
       "      <td>41.360001</td>\n",
       "      <td>28.959999</td>\n",
       "      <td>3.77</td>\n",
       "      <td>8.45</td>\n",
       "      <td>76.0</td>\n",
       "      <td>8.0</td>\n",
       "      <td>E</td>\n",
       "      <td>82.539993</td>\n",
       "    </tr>\n",
       "    <tr>\n",
       "      <th>1</th>\n",
       "      <td>Super Mario Bros.</td>\n",
       "      <td>NES</td>\n",
       "      <td>1985</td>\n",
       "      <td>Platform</td>\n",
       "      <td>29.080000</td>\n",
       "      <td>3.580000</td>\n",
       "      <td>6.81</td>\n",
       "      <td>0.77</td>\n",
       "      <td>NaN</td>\n",
       "      <td>NaN</td>\n",
       "      <td>NaN</td>\n",
       "      <td>40.240002</td>\n",
       "    </tr>\n",
       "    <tr>\n",
       "      <th>2</th>\n",
       "      <td>Mario Kart Wii</td>\n",
       "      <td>Wii</td>\n",
       "      <td>2008</td>\n",
       "      <td>Racing</td>\n",
       "      <td>15.680000</td>\n",
       "      <td>12.760000</td>\n",
       "      <td>3.79</td>\n",
       "      <td>3.29</td>\n",
       "      <td>82.0</td>\n",
       "      <td>8.3</td>\n",
       "      <td>E</td>\n",
       "      <td>35.520000</td>\n",
       "    </tr>\n",
       "    <tr>\n",
       "      <th>3</th>\n",
       "      <td>Wii Sports Resort</td>\n",
       "      <td>Wii</td>\n",
       "      <td>2009</td>\n",
       "      <td>Sports</td>\n",
       "      <td>15.610000</td>\n",
       "      <td>10.930000</td>\n",
       "      <td>3.28</td>\n",
       "      <td>2.95</td>\n",
       "      <td>80.0</td>\n",
       "      <td>8.0</td>\n",
       "      <td>E</td>\n",
       "      <td>32.770000</td>\n",
       "    </tr>\n",
       "    <tr>\n",
       "      <th>4</th>\n",
       "      <td>Pokemon Red/Pokemon Blue</td>\n",
       "      <td>GB</td>\n",
       "      <td>1996</td>\n",
       "      <td>Role-Playing</td>\n",
       "      <td>11.270000</td>\n",
       "      <td>8.890000</td>\n",
       "      <td>10.22</td>\n",
       "      <td>1.00</td>\n",
       "      <td>NaN</td>\n",
       "      <td>NaN</td>\n",
       "      <td>NaN</td>\n",
       "      <td>31.380001</td>\n",
       "    </tr>\n",
       "  </tbody>\n",
       "</table>\n",
       "</div>"
      ],
      "text/plain": [
       "                       name platform  year_of_release         genre  \\\n",
       "0                Wii Sports      Wii             2006        Sports   \n",
       "1         Super Mario Bros.      NES             1985      Platform   \n",
       "2            Mario Kart Wii      Wii             2008        Racing   \n",
       "3         Wii Sports Resort      Wii             2009        Sports   \n",
       "4  Pokemon Red/Pokemon Blue       GB             1996  Role-Playing   \n",
       "\n",
       "    na_sales   eu_sales  jp_sales  other_sales  critic_score  user_score  \\\n",
       "0  41.360001  28.959999      3.77         8.45          76.0         8.0   \n",
       "1  29.080000   3.580000      6.81         0.77           NaN         NaN   \n",
       "2  15.680000  12.760000      3.79         3.29          82.0         8.3   \n",
       "3  15.610000  10.930000      3.28         2.95          80.0         8.0   \n",
       "4  11.270000   8.890000     10.22         1.00           NaN         NaN   \n",
       "\n",
       "  rating  sales_all  \n",
       "0      E  82.539993  \n",
       "1    NaN  40.240002  \n",
       "2      E  35.520000  \n",
       "3      E  32.770000  \n",
       "4    NaN  31.380001  "
      ]
     },
     "execution_count": 551,
     "metadata": {},
     "output_type": "execute_result"
    }
   ],
   "source": [
    "#добавим столбец с суммарными продажами регионов\n",
    "\n",
    "data['sales_all'] = data['na_sales'] + data['eu_sales'] + data['jp_sales'] + data['other_sales']\n",
    "\n",
    "data.head()"
   ]
  },
  {
   "cell_type": "code",
   "execution_count": 552,
   "metadata": {},
   "outputs": [],
   "source": [
    "data = data.fillna('undef')"
   ]
  },
  {
   "cell_type": "code",
   "execution_count": 553,
   "metadata": {},
   "outputs": [
    {
     "data": {
      "image/png": "[encoded data removed]",
      "text/plain": [
       "<Figure size 720x360 with 1 Axes>"
      ]
     },
     "metadata": {},
     "output_type": "display_data"
    },
    {
     "data": {
      "image/png": "[encoded data removed]",
      "text/plain": [
       "<Figure size 720x360 with 1 Axes>"
      ]
     },
     "metadata": {},
     "output_type": "display_data"
    },
    {
     "data": {
      "image/png": "[encoded data removed]",
      "text/plain": [
       "<Figure size 720x360 with 1 Axes>"
      ]
     },
     "metadata": {},
     "output_type": "display_data"
    }
   ],
   "source": [
    "#распределение пропусков по годам\n",
    "\n",
    "for i in data.columns[8:11]:\n",
    "    (data[data[i]=='undef']     \n",
    "     .pivot_table(index='year_of_release', values=i, aggfunc='count')\n",
    "     .plot(kind='bar',figsize=(10,5))\n",
    "    )"
   ]
  },
  {
   "cell_type": "markdown",
   "metadata": {},
   "source": [
    "Распределение для рейтингов и оценок выглядит одинаково. Пропуски в основном приходятся на период игрового бума, когда выходило наибольшее число игр, вероятно, поэтому не все игры оценили и ранжировали."
   ]
  },
  {
   "cell_type": "code",
   "execution_count": 554,
   "metadata": {},
   "outputs": [
    {
     "data": {
      "image/png": "[encoded data removed]",
      "text/plain": [
       "<Figure size 720x360 with 1 Axes>"
      ]
     },
     "metadata": {},
     "output_type": "display_data"
    },
    {
     "data": {
      "image/png": "[encoded data removed]",
      "text/plain": [
       "<Figure size 720x360 with 1 Axes>"
      ]
     },
     "metadata": {},
     "output_type": "display_data"
    },
    {
     "data": {
      "image/png": "[encoded data removed]",
      "text/plain": [
       "<Figure size 720x360 with 1 Axes>"
      ]
     },
     "metadata": {},
     "output_type": "display_data"
    }
   ],
   "source": [
    "#распределение пропусков по платформам\n",
    "\n",
    "for i in data.columns[8:11]:\n",
    "    (data[data[i]=='undef']     \n",
    "     .pivot_table(index='platform', values=i, aggfunc='count')\n",
    "     .plot(kind='bar',figsize=(10,5))\n",
    "    )"
   ]
  },
  {
   "cell_type": "markdown",
   "metadata": {},
   "source": [
    "Видно, что пропуски в основном относятся к японским платформам. Можно предположить, что рейтинг присваивался по другой системе, не ESRB, а оценки в англоязычных источниках отсутствуют."
   ]
  },
  {
   "cell_type": "code",
   "execution_count": 555,
   "metadata": {},
   "outputs": [
    {
     "data": {
      "text/html": [
       "<div>\n",
       "<style scoped>\n",
       "    .dataframe tbody tr th:only-of-type {\n",
       "        vertical-align: middle;\n",
       "    }\n",
       "\n",
       "    .dataframe tbody tr th {\n",
       "        vertical-align: top;\n",
       "    }\n",
       "\n",
       "    .dataframe thead th {\n",
       "        text-align: right;\n",
       "    }\n",
       "</style>\n",
       "<table border=\"1\" class=\"dataframe\">\n",
       "  <thead>\n",
       "    <tr style=\"text-align: right;\">\n",
       "      <th></th>\n",
       "      <th>sales</th>\n",
       "    </tr>\n",
       "    <tr>\n",
       "      <th>region</th>\n",
       "      <th></th>\n",
       "    </tr>\n",
       "  </thead>\n",
       "  <tbody>\n",
       "    <tr>\n",
       "      <th>eu_sales</th>\n",
       "      <td>2399.679996</td>\n",
       "    </tr>\n",
       "    <tr>\n",
       "      <th>jp_sales</th>\n",
       "      <td>1290.639998</td>\n",
       "    </tr>\n",
       "    <tr>\n",
       "      <th>na_sales</th>\n",
       "      <td>4341.419999</td>\n",
       "    </tr>\n",
       "    <tr>\n",
       "      <th>other_sales</th>\n",
       "      <td>782.629997</td>\n",
       "    </tr>\n",
       "  </tbody>\n",
       "</table>\n",
       "</div>"
      ],
      "text/plain": [
       "                   sales\n",
       "region                  \n",
       "eu_sales     2399.679996\n",
       "jp_sales     1290.639998\n",
       "na_sales     4341.419999\n",
       "other_sales   782.629997"
      ]
     },
     "execution_count": 555,
     "metadata": {},
     "output_type": "execute_result"
    }
   ],
   "source": [
    "#пропуски по регионам\n",
    "\n",
    "data_long = pd.melt(data, id_vars=['rating','user_score','critic_score'], \\\n",
    "                    value_vars=['na_sales', 'eu_sales', 'jp_sales', 'other_sales'], \\\n",
    "                    var_name='region', value_name='sales')\n",
    "\n",
    "data_long.pivot_table(index='region',  values = 'sales',  aggfunc='sum')"
   ]
  },
  {
   "cell_type": "code",
   "execution_count": 597,
   "metadata": {},
   "outputs": [
    {
     "data": {
      "text/plain": [
       "region       rating\n",
       "eu_sales     undef     0.279921\n",
       "             E         0.264188\n",
       "             T         0.224480\n",
       "             M         0.134388\n",
       "             E10+      0.096366\n",
       "             K-A       0.000281\n",
       "             EC        0.000187\n",
       "             AO        0.000094\n",
       "             RP        0.000094\n",
       "jp_sales     undef     0.643880\n",
       "             T         0.136719\n",
       "             E         0.092448\n",
       "             M         0.088542\n",
       "             E10+      0.038249\n",
       "             K-A       0.000163\n",
       "na_sales     E         0.308212\n",
       "             undef     0.249104\n",
       "             T         0.216507\n",
       "             M         0.116465\n",
       "             E10+      0.108795\n",
       "             EC        0.000667\n",
       "             K-A       0.000167\n",
       "             AO        0.000083\n",
       "other_sales  E         0.286576\n",
       "             undef     0.253617\n",
       "             T         0.217042\n",
       "             M         0.128818\n",
       "             E10+      0.113143\n",
       "             EC        0.000502\n",
       "             AO        0.000100\n",
       "             K-A       0.000100\n",
       "             RP        0.000100\n",
       "Name: rating, dtype: float64"
      ]
     },
     "execution_count": 597,
     "metadata": {},
     "output_type": "execute_result"
    }
   ],
   "source": [
    "pd.melt(data, id_vars=['rating'], value_vars=['na_sales','eu_sales','jp_sales','other_sales'],\n",
    "                    var_name='region')[lambda x : x['value'] > 0].groupby('region')['rating'].value_counts(normalize=True)\n"
   ]
  },
  {
   "cell_type": "markdown",
   "metadata": {},
   "source": [
    "Видно, что в смысле долей у Японии продаж для игр без рейтинга больше всего."
   ]
  },
  {
   "cell_type": "markdown",
   "metadata": {},
   "source": [
    "### Исследование данных"
   ]
  },
  {
   "cell_type": "code",
   "execution_count": 558,
   "metadata": {},
   "outputs": [
    {
     "data": {
      "text/plain": [
       "Text(0, 0.5, 'count')"
      ]
     },
     "execution_count": 558,
     "metadata": {},
     "output_type": "execute_result"
    },
    {
     "data": {
      "image/png": "[encoded data removed]",
      "text/plain": [
       "<Figure size 720x360 with 1 Axes>"
      ]
     },
     "metadata": {},
     "output_type": "display_data"
    }
   ],
   "source": [
    "#оценим число вышедших игр по годам\n",
    "\n",
    "data.groupby('year_of_release')['name'].nunique().plot(kind='bar',figsize=(10,5))\n",
    "\n",
    "plt.ylabel('count')"
   ]
  },
  {
   "cell_type": "markdown",
   "metadata": {},
   "source": [
    "Видно, что наибольшее число игр выходило в период с 2002 по 2011 годы. Данные до 1994 года вряд ли стоит учитывать."
   ]
  },
  {
   "cell_type": "markdown",
   "metadata": {},
   "source": [
    "#### Продажи в зависимости от платформы"
   ]
  },
  {
   "cell_type": "code",
   "execution_count": 559,
   "metadata": {},
   "outputs": [
    {
     "data": {
      "text/plain": [
       "Text(0, 0.5, 'sales_all')"
      ]
     },
     "execution_count": 559,
     "metadata": {},
     "output_type": "execute_result"
    },
    {
     "data": {
      "image/png": "[encoded data removed]",
      "text/plain": [
       "<Figure size 720x360 with 1 Axes>"
      ]
     },
     "metadata": {},
     "output_type": "display_data"
    }
   ],
   "source": [
    "#подсчитаем суммарные продажи по платформам\n",
    "\n",
    "(data\n",
    " .groupby('platform')['sales_all']\n",
    " .agg('sum')\n",
    " .sort_values(ascending=False)\n",
    " .plot(kind='bar',figsize=(10,5))\n",
    ")\n",
    "\n",
    "plt.ylabel('sales_all')"
   ]
  },
  {
   "cell_type": "markdown",
   "metadata": {},
   "source": [
    "Явно выделяются платформы PS2, X360, PS3, Wii, DS, PS. Рассмотрим их подробнее."
   ]
  },
  {
   "cell_type": "code",
   "execution_count": 560,
   "metadata": {},
   "outputs": [],
   "source": [
    "top6 = ['PS2','X360','PS3','Wii','DS','PS']"
   ]
  },
  {
   "cell_type": "code",
   "execution_count": 561,
   "metadata": {},
   "outputs": [
    {
     "data": {
      "text/plain": [
       "Text(0, 0.5, 'sales')"
      ]
     },
     "execution_count": 561,
     "metadata": {},
     "output_type": "execute_result"
    },
    {
     "data": {
      "image/png": "[encoded data removed]",
      "text/plain": [
       "<Figure size 1080x504 with 1 Axes>"
      ]
     },
     "metadata": {},
     "output_type": "display_data"
    }
   ],
   "source": [
    "(data\n",
    " .query('platform in @top6')\n",
    " .pivot_table(index = 'year_of_release', columns = 'platform', values= 'sales_all', aggfunc = 'sum')\n",
    " .plot(figsize = (15,7))\n",
    ")\n",
    "\n",
    "plt.ylabel('sales')"
   ]
  },
  {
   "cell_type": "markdown",
   "metadata": {},
   "source": [
    "Исходя из картины видно, что пик продаж находится примерно в промежутке пяти лет. Таким образом, можно предположить, что актуальность платформы также составляет около 5 лет."
   ]
  },
  {
   "cell_type": "code",
   "execution_count": 562,
   "metadata": {},
   "outputs": [
    {
     "data": {
      "text/plain": [
       "Text(0, 0.5, 'sales')"
      ]
     },
     "execution_count": 562,
     "metadata": {},
     "output_type": "execute_result"
    },
    {
     "data": {
      "image/png": "[encoded data removed]",
      "text/plain": [
       "<Figure size 1080x720 with 1 Axes>"
      ]
     },
     "metadata": {},
     "output_type": "display_data"
    }
   ],
   "source": [
    "(data\n",
    " .query('year_of_release >= 2011')\n",
    " .pivot_table(index = 'year_of_release', columns = 'platform', values= 'sales_all', aggfunc = 'sum')\n",
    " .plot(figsize = (15,10))\n",
    ")\n",
    "\n",
    "plt.ylabel('sales')"
   ]
  },
  {
   "cell_type": "markdown",
   "metadata": {},
   "source": [
    "Актуальный период возьмем с 2013г. Можно предположить, что актуальными платформами в 2017 году будут оставаться XOne, PS4, 3DS. Также относительно стабильными остаются продажи на PC, PSV. Продажи на остальных снижаются и скорее всего продолжат и в 2017 году, так что вряд ли стоит делать ставку на них."
   ]
  },
  {
   "cell_type": "code",
   "execution_count": 563,
   "metadata": {},
   "outputs": [
    {
     "data": {
      "text/plain": [
       "(0.0, 10.0)"
      ]
     },
     "execution_count": 563,
     "metadata": {},
     "output_type": "execute_result"
    },
    {
     "data": {
      "image/png": "[encoded data removed]",
      "text/plain": [
       "<Figure size 1152x576 with 1 Axes>"
      ]
     },
     "metadata": {},
     "output_type": "display_data"
    }
   ],
   "source": [
    "platform_act = ['XOne', 'PS4', '3DS', 'PC', 'PSV']\n",
    "\n",
    "sns.set(rc = {'figure.figsize':(16,8)})\n",
    "\n",
    "sns.boxplot(data=data.query('platform in @platform_act and year_of_release >=2013'), x='platform', y='sales_all')\n",
    "\n",
    "plt.ylim(0,10)"
   ]
  },
  {
   "cell_type": "markdown",
   "metadata": {},
   "source": [
    "Видно, что у всех платформ межквартильный размах находится до 1 млн. копий. У PS4 и XOne мкр шире остальных, что, видимо, связано с большим разнообразием покупаемых на них игр. Максимальные значения примерно равны. Для всех платформ характерно большое число выбросов, что можно объяснить, веротно, выходом популярных игр и\\или эксклюзивов для конкретной платформы."
   ]
  },
  {
   "cell_type": "markdown",
   "metadata": {},
   "source": [
    "#### Взаимосвязь продаж с оценками"
   ]
  },
  {
   "cell_type": "code",
   "execution_count": 564,
   "metadata": {},
   "outputs": [],
   "source": [
    "data_actual = data.query('year_of_release >= 2013')"
   ]
  },
  {
   "cell_type": "code",
   "execution_count": 565,
   "metadata": {},
   "outputs": [],
   "source": [
    "# код ревьюера\n",
    "import numpy as np\n",
    "\n",
    "data_actual = data_actual.replace({'undef': np.NaN})"
   ]
  },
  {
   "cell_type": "code",
   "execution_count": 566,
   "metadata": {},
   "outputs": [
    {
     "name": "stderr",
     "output_type": "stream",
     "text": [
      "*c* argument looks like a single numeric RGB or RGBA sequence, which should be avoided as value-mapping will have precedence in case its length matches with *x* & *y*.  Please use the *color* keyword-argument or provide a 2-D array with a single row if you intend to specify the same RGB or RGBA value for all points.\n"
     ]
    },
    {
     "data": {
      "text/plain": [
       "Text(0.5, 1.0, 'XOne')"
      ]
     },
     "execution_count": 566,
     "metadata": {},
     "output_type": "execute_result"
    },
    {
     "data": {
      "image/png": "[encoded data removed]",
      "text/plain": [
       "<Figure size 720x360 with 1 Axes>"
      ]
     },
     "metadata": {},
     "output_type": "display_data"
    }
   ],
   "source": [
    "(data_actual\n",
    " .query('platform == \"XOne\"')\n",
    " .pivot_table(index='critic_score', values='sales_all')\n",
    " .reset_index()\n",
    " .plot(x='critic_score', y='sales_all', kind='scatter', grid=True, figsize=(10,5))\n",
    ")\n",
    "\n",
    "plt.title('XOne')"
   ]
  },
  {
   "cell_type": "code",
   "execution_count": 567,
   "metadata": {},
   "outputs": [
    {
     "data": {
      "text/html": [
       "<div>\n",
       "<style scoped>\n",
       "    .dataframe tbody tr th:only-of-type {\n",
       "        vertical-align: middle;\n",
       "    }\n",
       "\n",
       "    .dataframe tbody tr th {\n",
       "        vertical-align: top;\n",
       "    }\n",
       "\n",
       "    .dataframe thead th {\n",
       "        text-align: right;\n",
       "    }\n",
       "</style>\n",
       "<table border=\"1\" class=\"dataframe\">\n",
       "  <thead>\n",
       "    <tr style=\"text-align: right;\">\n",
       "      <th></th>\n",
       "      <th>critic_score</th>\n",
       "      <th>sales_all</th>\n",
       "    </tr>\n",
       "  </thead>\n",
       "  <tbody>\n",
       "    <tr>\n",
       "      <th>critic_score</th>\n",
       "      <td>1.000000</td>\n",
       "      <td>0.606041</td>\n",
       "    </tr>\n",
       "    <tr>\n",
       "      <th>sales_all</th>\n",
       "      <td>0.606041</td>\n",
       "      <td>1.000000</td>\n",
       "    </tr>\n",
       "  </tbody>\n",
       "</table>\n",
       "</div>"
      ],
      "text/plain": [
       "              critic_score  sales_all\n",
       "critic_score      1.000000   0.606041\n",
       "sales_all         0.606041   1.000000"
      ]
     },
     "execution_count": 567,
     "metadata": {},
     "output_type": "execute_result"
    }
   ],
   "source": [
    "(data_actual\n",
    " .query('platform == \"XOne\"')\n",
    " .pivot_table(index='critic_score', values='sales_all')\n",
    " .reset_index()\n",
    " .corr()\n",
    ")"
   ]
  },
  {
   "cell_type": "code",
   "execution_count": 568,
   "metadata": {},
   "outputs": [
    {
     "data": {
      "text/html": [
       "<div>\n",
       "<style scoped>\n",
       "    .dataframe tbody tr th:only-of-type {\n",
       "        vertical-align: middle;\n",
       "    }\n",
       "\n",
       "    .dataframe tbody tr th {\n",
       "        vertical-align: top;\n",
       "    }\n",
       "\n",
       "    .dataframe thead th {\n",
       "        text-align: right;\n",
       "    }\n",
       "</style>\n",
       "<table border=\"1\" class=\"dataframe\">\n",
       "  <thead>\n",
       "    <tr style=\"text-align: right;\">\n",
       "      <th></th>\n",
       "      <th>critic_score</th>\n",
       "      <th>sales_all</th>\n",
       "    </tr>\n",
       "  </thead>\n",
       "  <tbody>\n",
       "    <tr>\n",
       "      <th>critic_score</th>\n",
       "      <td>1.000000</td>\n",
       "      <td>0.416998</td>\n",
       "    </tr>\n",
       "    <tr>\n",
       "      <th>sales_all</th>\n",
       "      <td>0.416998</td>\n",
       "      <td>1.000000</td>\n",
       "    </tr>\n",
       "  </tbody>\n",
       "</table>\n",
       "</div>"
      ],
      "text/plain": [
       "              critic_score  sales_all\n",
       "critic_score      1.000000   0.416998\n",
       "sales_all         0.416998   1.000000"
      ]
     },
     "execution_count": 568,
     "metadata": {},
     "output_type": "execute_result"
    }
   ],
   "source": [
    "(data_actual\n",
    " .query('platform == \"XOne\"')[['critic_score','sales_all']]\n",
    " .corr()\n",
    ")"
   ]
  },
  {
   "cell_type": "markdown",
   "metadata": {},
   "source": [
    "Присутствует средняя положительная корреляция между оценками критиков и продажами на XOne."
   ]
  },
  {
   "cell_type": "code",
   "execution_count": 569,
   "metadata": {},
   "outputs": [
    {
     "name": "stderr",
     "output_type": "stream",
     "text": [
      "*c* argument looks like a single numeric RGB or RGBA sequence, which should be avoided as value-mapping will have precedence in case its length matches with *x* & *y*.  Please use the *color* keyword-argument or provide a 2-D array with a single row if you intend to specify the same RGB or RGBA value for all points.\n"
     ]
    },
    {
     "data": {
      "text/plain": [
       "Text(0.5, 1.0, 'XOne')"
      ]
     },
     "execution_count": 569,
     "metadata": {},
     "output_type": "execute_result"
    },
    {
     "data": {
      "image/png": "[encoded data removed]",
      "text/plain": [
       "<Figure size 720x360 with 1 Axes>"
      ]
     },
     "metadata": {},
     "output_type": "display_data"
    }
   ],
   "source": [
    "(data_actual\n",
    " .query('platform == \"XOne\"')\n",
    " .pivot_table(index='user_score', values='sales_all')\n",
    " .reset_index()\n",
    " .plot(x='user_score', y='sales_all', kind='scatter',grid=True, figsize=(10,5))\n",
    ")\n",
    "\n",
    "plt.title('XOne')"
   ]
  },
  {
   "cell_type": "code",
   "execution_count": 570,
   "metadata": {},
   "outputs": [
    {
     "data": {
      "text/html": [
       "<div>\n",
       "<style scoped>\n",
       "    .dataframe tbody tr th:only-of-type {\n",
       "        vertical-align: middle;\n",
       "    }\n",
       "\n",
       "    .dataframe tbody tr th {\n",
       "        vertical-align: top;\n",
       "    }\n",
       "\n",
       "    .dataframe thead th {\n",
       "        text-align: right;\n",
       "    }\n",
       "</style>\n",
       "<table border=\"1\" class=\"dataframe\">\n",
       "  <thead>\n",
       "    <tr style=\"text-align: right;\">\n",
       "      <th></th>\n",
       "      <th>user_score</th>\n",
       "      <th>sales_all</th>\n",
       "    </tr>\n",
       "  </thead>\n",
       "  <tbody>\n",
       "    <tr>\n",
       "      <th>user_score</th>\n",
       "      <td>1.000000</td>\n",
       "      <td>-0.068925</td>\n",
       "    </tr>\n",
       "    <tr>\n",
       "      <th>sales_all</th>\n",
       "      <td>-0.068925</td>\n",
       "      <td>1.000000</td>\n",
       "    </tr>\n",
       "  </tbody>\n",
       "</table>\n",
       "</div>"
      ],
      "text/plain": [
       "            user_score  sales_all\n",
       "user_score    1.000000  -0.068925\n",
       "sales_all    -0.068925   1.000000"
      ]
     },
     "execution_count": 570,
     "metadata": {},
     "output_type": "execute_result"
    }
   ],
   "source": [
    "(data_actual\n",
    " .query('platform == \"XOne\"')[['user_score','sales_all']]\n",
    " .corr()\n",
    ")"
   ]
  },
  {
   "cell_type": "markdown",
   "metadata": {},
   "source": [
    "На Xbox One связь продаж с оценками пользователей практически отсутствует."
   ]
  },
  {
   "cell_type": "code",
   "execution_count": 571,
   "metadata": {},
   "outputs": [
    {
     "name": "stderr",
     "output_type": "stream",
     "text": [
      "*c* argument looks like a single numeric RGB or RGBA sequence, which should be avoided as value-mapping will have precedence in case its length matches with *x* & *y*.  Please use the *color* keyword-argument or provide a 2-D array with a single row if you intend to specify the same RGB or RGBA value for all points.\n"
     ]
    },
    {
     "data": {
      "text/plain": [
       "Text(0.5, 1.0, 'PS4')"
      ]
     },
     "execution_count": 571,
     "metadata": {},
     "output_type": "execute_result"
    },
    {
     "data": {
      "image/png": "[encoded data removed]",
      "text/plain": [
       "<Figure size 720x360 with 1 Axes>"
      ]
     },
     "metadata": {},
     "output_type": "display_data"
    }
   ],
   "source": [
    "(data_actual\n",
    " .query('platform == \"PS4\"')\n",
    " .pivot_table(index='critic_score', values='sales_all')\n",
    " .reset_index()\n",
    " .plot(x='critic_score', y='sales_all', kind='scatter',grid=True, figsize=(10,5))\n",
    ")\n",
    "\n",
    "plt.title('PS4')"
   ]
  },
  {
   "cell_type": "code",
   "execution_count": 572,
   "metadata": {},
   "outputs": [
    {
     "data": {
      "text/html": [
       "<div>\n",
       "<style scoped>\n",
       "    .dataframe tbody tr th:only-of-type {\n",
       "        vertical-align: middle;\n",
       "    }\n",
       "\n",
       "    .dataframe tbody tr th {\n",
       "        vertical-align: top;\n",
       "    }\n",
       "\n",
       "    .dataframe thead th {\n",
       "        text-align: right;\n",
       "    }\n",
       "</style>\n",
       "<table border=\"1\" class=\"dataframe\">\n",
       "  <thead>\n",
       "    <tr style=\"text-align: right;\">\n",
       "      <th></th>\n",
       "      <th>critic_score</th>\n",
       "      <th>sales_all</th>\n",
       "    </tr>\n",
       "  </thead>\n",
       "  <tbody>\n",
       "    <tr>\n",
       "      <th>critic_score</th>\n",
       "      <td>1.000000</td>\n",
       "      <td>0.406568</td>\n",
       "    </tr>\n",
       "    <tr>\n",
       "      <th>sales_all</th>\n",
       "      <td>0.406568</td>\n",
       "      <td>1.000000</td>\n",
       "    </tr>\n",
       "  </tbody>\n",
       "</table>\n",
       "</div>"
      ],
      "text/plain": [
       "              critic_score  sales_all\n",
       "critic_score      1.000000   0.406568\n",
       "sales_all         0.406568   1.000000"
      ]
     },
     "execution_count": 572,
     "metadata": {},
     "output_type": "execute_result"
    }
   ],
   "source": [
    "(data_actual\n",
    " .query('platform == \"PS4\"')[['critic_score','sales_all']]\n",
    " .corr()\n",
    ")"
   ]
  },
  {
   "cell_type": "markdown",
   "metadata": {},
   "source": [
    "Картина примерно та же, что и у XOne."
   ]
  },
  {
   "cell_type": "code",
   "execution_count": 573,
   "metadata": {},
   "outputs": [
    {
     "name": "stderr",
     "output_type": "stream",
     "text": [
      "*c* argument looks like a single numeric RGB or RGBA sequence, which should be avoided as value-mapping will have precedence in case its length matches with *x* & *y*.  Please use the *color* keyword-argument or provide a 2-D array with a single row if you intend to specify the same RGB or RGBA value for all points.\n"
     ]
    },
    {
     "data": {
      "text/plain": [
       "Text(0.5, 1.0, 'PS4')"
      ]
     },
     "execution_count": 573,
     "metadata": {},
     "output_type": "execute_result"
    },
    {
     "data": {
      "image/png": "[encoded data removed]",
      "text/plain": [
       "<Figure size 720x360 with 1 Axes>"
      ]
     },
     "metadata": {},
     "output_type": "display_data"
    }
   ],
   "source": [
    "(data_actual\n",
    " .query('platform == \"PS4\"')\n",
    " .pivot_table(index='user_score', values='sales_all')\n",
    " .reset_index()\n",
    " .plot(x='user_score', y='sales_all', kind='scatter',grid=True, figsize=(10,5))\n",
    ")\n",
    "\n",
    "plt.title('PS4')"
   ]
  },
  {
   "cell_type": "code",
   "execution_count": 574,
   "metadata": {},
   "outputs": [
    {
     "data": {
      "text/html": [
       "<div>\n",
       "<style scoped>\n",
       "    .dataframe tbody tr th:only-of-type {\n",
       "        vertical-align: middle;\n",
       "    }\n",
       "\n",
       "    .dataframe tbody tr th {\n",
       "        vertical-align: top;\n",
       "    }\n",
       "\n",
       "    .dataframe thead th {\n",
       "        text-align: right;\n",
       "    }\n",
       "</style>\n",
       "<table border=\"1\" class=\"dataframe\">\n",
       "  <thead>\n",
       "    <tr style=\"text-align: right;\">\n",
       "      <th></th>\n",
       "      <th>user_score</th>\n",
       "      <th>sales_all</th>\n",
       "    </tr>\n",
       "  </thead>\n",
       "  <tbody>\n",
       "    <tr>\n",
       "      <th>user_score</th>\n",
       "      <td>1.000000</td>\n",
       "      <td>-0.031957</td>\n",
       "    </tr>\n",
       "    <tr>\n",
       "      <th>sales_all</th>\n",
       "      <td>-0.031957</td>\n",
       "      <td>1.000000</td>\n",
       "    </tr>\n",
       "  </tbody>\n",
       "</table>\n",
       "</div>"
      ],
      "text/plain": [
       "            user_score  sales_all\n",
       "user_score    1.000000  -0.031957\n",
       "sales_all    -0.031957   1.000000"
      ]
     },
     "execution_count": 574,
     "metadata": {},
     "output_type": "execute_result"
    }
   ],
   "source": [
    "(data_actual\n",
    " .query('platform == \"PS4\"')[['user_score','sales_all']]\n",
    " .corr()\n",
    ")"
   ]
  },
  {
   "cell_type": "markdown",
   "metadata": {},
   "source": [
    "Связь почти отсутствует."
   ]
  },
  {
   "cell_type": "code",
   "execution_count": 575,
   "metadata": {},
   "outputs": [
    {
     "name": "stderr",
     "output_type": "stream",
     "text": [
      "*c* argument looks like a single numeric RGB or RGBA sequence, which should be avoided as value-mapping will have precedence in case its length matches with *x* & *y*.  Please use the *color* keyword-argument or provide a 2-D array with a single row if you intend to specify the same RGB or RGBA value for all points.\n"
     ]
    },
    {
     "data": {
      "text/plain": [
       "Text(0.5, 1.0, '3DS')"
      ]
     },
     "execution_count": 575,
     "metadata": {},
     "output_type": "execute_result"
    },
    {
     "data": {
      "image/png": "[encoded data removed]",
      "text/plain": [
       "<Figure size 720x360 with 1 Axes>"
      ]
     },
     "metadata": {},
     "output_type": "display_data"
    }
   ],
   "source": [
    "(data_actual\n",
    " .query('platform == \"3DS\"')\n",
    " .pivot_table(index='critic_score', values='sales_all')\n",
    " .reset_index()\n",
    " .plot(x='critic_score', y='sales_all', kind='scatter', grid=True, figsize=(10,5))\n",
    ")\n",
    "\n",
    "plt.title('3DS')"
   ]
  },
  {
   "cell_type": "code",
   "execution_count": 576,
   "metadata": {},
   "outputs": [
    {
     "data": {
      "text/html": [
       "<div>\n",
       "<style scoped>\n",
       "    .dataframe tbody tr th:only-of-type {\n",
       "        vertical-align: middle;\n",
       "    }\n",
       "\n",
       "    .dataframe tbody tr th {\n",
       "        vertical-align: top;\n",
       "    }\n",
       "\n",
       "    .dataframe thead th {\n",
       "        text-align: right;\n",
       "    }\n",
       "</style>\n",
       "<table border=\"1\" class=\"dataframe\">\n",
       "  <thead>\n",
       "    <tr style=\"text-align: right;\">\n",
       "      <th></th>\n",
       "      <th>critic_score</th>\n",
       "      <th>sales_all</th>\n",
       "    </tr>\n",
       "  </thead>\n",
       "  <tbody>\n",
       "    <tr>\n",
       "      <th>critic_score</th>\n",
       "      <td>1.000000</td>\n",
       "      <td>0.357057</td>\n",
       "    </tr>\n",
       "    <tr>\n",
       "      <th>sales_all</th>\n",
       "      <td>0.357057</td>\n",
       "      <td>1.000000</td>\n",
       "    </tr>\n",
       "  </tbody>\n",
       "</table>\n",
       "</div>"
      ],
      "text/plain": [
       "              critic_score  sales_all\n",
       "critic_score      1.000000   0.357057\n",
       "sales_all         0.357057   1.000000"
      ]
     },
     "execution_count": 576,
     "metadata": {},
     "output_type": "execute_result"
    }
   ],
   "source": [
    "(data_actual\n",
    " .query('platform == \"3DS\"')[['critic_score','sales_all']]\n",
    " .corr()\n",
    ")"
   ]
  },
  {
   "cell_type": "markdown",
   "metadata": {},
   "source": [
    "Прямая взаимосвязь с оценками на платформе 3DS критиков присутствует."
   ]
  },
  {
   "cell_type": "code",
   "execution_count": 577,
   "metadata": {},
   "outputs": [
    {
     "name": "stderr",
     "output_type": "stream",
     "text": [
      "*c* argument looks like a single numeric RGB or RGBA sequence, which should be avoided as value-mapping will have precedence in case its length matches with *x* & *y*.  Please use the *color* keyword-argument or provide a 2-D array with a single row if you intend to specify the same RGB or RGBA value for all points.\n"
     ]
    },
    {
     "data": {
      "text/plain": [
       "Text(0.5, 1.0, '3DS')"
      ]
     },
     "execution_count": 577,
     "metadata": {},
     "output_type": "execute_result"
    },
    {
     "data": {
      "image/png": "[encoded data removed]",
      "text/plain": [
       "<Figure size 720x360 with 1 Axes>"
      ]
     },
     "metadata": {},
     "output_type": "display_data"
    }
   ],
   "source": [
    "(data_actual\n",
    " .query('platform == \"3DS\"')\n",
    " .pivot_table(index='user_score', values='sales_all')\n",
    " .reset_index()\n",
    " .plot(x='user_score', y='sales_all', kind='scatter',grid=True, figsize=(10,5))\n",
    ")\n",
    "\n",
    "plt.title('3DS')"
   ]
  },
  {
   "cell_type": "code",
   "execution_count": 578,
   "metadata": {},
   "outputs": [
    {
     "data": {
      "text/html": [
       "<div>\n",
       "<style scoped>\n",
       "    .dataframe tbody tr th:only-of-type {\n",
       "        vertical-align: middle;\n",
       "    }\n",
       "\n",
       "    .dataframe tbody tr th {\n",
       "        vertical-align: top;\n",
       "    }\n",
       "\n",
       "    .dataframe thead th {\n",
       "        text-align: right;\n",
       "    }\n",
       "</style>\n",
       "<table border=\"1\" class=\"dataframe\">\n",
       "  <thead>\n",
       "    <tr style=\"text-align: right;\">\n",
       "      <th></th>\n",
       "      <th>user_score</th>\n",
       "      <th>sales_all</th>\n",
       "    </tr>\n",
       "  </thead>\n",
       "  <tbody>\n",
       "    <tr>\n",
       "      <th>user_score</th>\n",
       "      <td>1.000000</td>\n",
       "      <td>0.241504</td>\n",
       "    </tr>\n",
       "    <tr>\n",
       "      <th>sales_all</th>\n",
       "      <td>0.241504</td>\n",
       "      <td>1.000000</td>\n",
       "    </tr>\n",
       "  </tbody>\n",
       "</table>\n",
       "</div>"
      ],
      "text/plain": [
       "            user_score  sales_all\n",
       "user_score    1.000000   0.241504\n",
       "sales_all     0.241504   1.000000"
      ]
     },
     "execution_count": 578,
     "metadata": {},
     "output_type": "execute_result"
    }
   ],
   "source": [
    "(data_actual\n",
    " .query('platform == \"3DS\"')[['user_score','sales_all']]\n",
    " .corr()\n",
    ")"
   ]
  },
  {
   "cell_type": "markdown",
   "metadata": {},
   "source": [
    "Прямая взаимосвязь присутствует."
   ]
  },
  {
   "cell_type": "code",
   "execution_count": 579,
   "metadata": {},
   "outputs": [
    {
     "name": "stderr",
     "output_type": "stream",
     "text": [
      "*c* argument looks like a single numeric RGB or RGBA sequence, which should be avoided as value-mapping will have precedence in case its length matches with *x* & *y*.  Please use the *color* keyword-argument or provide a 2-D array with a single row if you intend to specify the same RGB or RGBA value for all points.\n"
     ]
    },
    {
     "data": {
      "text/plain": [
       "Text(0.5, 1.0, 'PC')"
      ]
     },
     "execution_count": 579,
     "metadata": {},
     "output_type": "execute_result"
    },
    {
     "data": {
      "image/png": "[encoded data removed]",
      "text/plain": [
       "<Figure size 720x360 with 1 Axes>"
      ]
     },
     "metadata": {},
     "output_type": "display_data"
    }
   ],
   "source": [
    "(data_actual\n",
    " .query('platform == \"PC\"')\n",
    " .pivot_table(index='critic_score', values='sales_all')\n",
    " .reset_index()\n",
    " .plot(x='critic_score', y='sales_all', kind='scatter',grid=True, figsize=(10,5))\n",
    ")\n",
    "\n",
    "plt.title('PC')"
   ]
  },
  {
   "cell_type": "code",
   "execution_count": 580,
   "metadata": {},
   "outputs": [
    {
     "data": {
      "text/html": [
       "<div>\n",
       "<style scoped>\n",
       "    .dataframe tbody tr th:only-of-type {\n",
       "        vertical-align: middle;\n",
       "    }\n",
       "\n",
       "    .dataframe tbody tr th {\n",
       "        vertical-align: top;\n",
       "    }\n",
       "\n",
       "    .dataframe thead th {\n",
       "        text-align: right;\n",
       "    }\n",
       "</style>\n",
       "<table border=\"1\" class=\"dataframe\">\n",
       "  <thead>\n",
       "    <tr style=\"text-align: right;\">\n",
       "      <th></th>\n",
       "      <th>critic_score</th>\n",
       "      <th>sales_all</th>\n",
       "    </tr>\n",
       "  </thead>\n",
       "  <tbody>\n",
       "    <tr>\n",
       "      <th>critic_score</th>\n",
       "      <td>1.00000</td>\n",
       "      <td>0.19603</td>\n",
       "    </tr>\n",
       "    <tr>\n",
       "      <th>sales_all</th>\n",
       "      <td>0.19603</td>\n",
       "      <td>1.00000</td>\n",
       "    </tr>\n",
       "  </tbody>\n",
       "</table>\n",
       "</div>"
      ],
      "text/plain": [
       "              critic_score  sales_all\n",
       "critic_score       1.00000    0.19603\n",
       "sales_all          0.19603    1.00000"
      ]
     },
     "execution_count": 580,
     "metadata": {},
     "output_type": "execute_result"
    }
   ],
   "source": [
    "(data_actual\n",
    " .query('platform == \"PC\"')[['critic_score','sales_all']]\n",
    " .corr()\n",
    ")"
   ]
  },
  {
   "cell_type": "markdown",
   "metadata": {},
   "source": [
    "Прямая взаимосвязь присутствует."
   ]
  },
  {
   "cell_type": "code",
   "execution_count": 581,
   "metadata": {},
   "outputs": [
    {
     "data": {
      "text/plain": [
       "Text(0.5, 1.0, 'PC')"
      ]
     },
     "execution_count": 581,
     "metadata": {},
     "output_type": "execute_result"
    },
    {
     "data": {
      "image/png": "[encoded data removed]",
      "text/plain": [
       "<Figure size 720x360 with 1 Axes>"
      ]
     },
     "metadata": {},
     "output_type": "display_data"
    }
   ],
   "source": [
    "from matplotlib.axes._axes import _log as matplotlib_axes_logger\n",
    "matplotlib_axes_logger.setLevel('ERROR')\n",
    "\n",
    "(data_actual\n",
    " .query('platform == \"PC\"')\n",
    " .pivot_table(index='user_score', values='sales_all')\n",
    " .reset_index()\n",
    " .plot(x='user_score', y='sales_all', kind='scatter',grid=True, figsize=(10,5))\n",
    ")\n",
    "\n",
    "plt.title('PC')"
   ]
  },
  {
   "cell_type": "code",
   "execution_count": 582,
   "metadata": {},
   "outputs": [
    {
     "data": {
      "text/html": [
       "<div>\n",
       "<style scoped>\n",
       "    .dataframe tbody tr th:only-of-type {\n",
       "        vertical-align: middle;\n",
       "    }\n",
       "\n",
       "    .dataframe tbody tr th {\n",
       "        vertical-align: top;\n",
       "    }\n",
       "\n",
       "    .dataframe thead th {\n",
       "        text-align: right;\n",
       "    }\n",
       "</style>\n",
       "<table border=\"1\" class=\"dataframe\">\n",
       "  <thead>\n",
       "    <tr style=\"text-align: right;\">\n",
       "      <th></th>\n",
       "      <th>user_score</th>\n",
       "      <th>sales_all</th>\n",
       "    </tr>\n",
       "  </thead>\n",
       "  <tbody>\n",
       "    <tr>\n",
       "      <th>user_score</th>\n",
       "      <td>1.000000</td>\n",
       "      <td>-0.093842</td>\n",
       "    </tr>\n",
       "    <tr>\n",
       "      <th>sales_all</th>\n",
       "      <td>-0.093842</td>\n",
       "      <td>1.000000</td>\n",
       "    </tr>\n",
       "  </tbody>\n",
       "</table>\n",
       "</div>"
      ],
      "text/plain": [
       "            user_score  sales_all\n",
       "user_score    1.000000  -0.093842\n",
       "sales_all    -0.093842   1.000000"
      ]
     },
     "execution_count": 582,
     "metadata": {},
     "output_type": "execute_result"
    }
   ],
   "source": [
    "(data_actual\n",
    " .query('platform == \"PC\"')[['user_score','sales_all']]\n",
    " .corr()\n",
    ")"
   ]
  },
  {
   "cell_type": "markdown",
   "metadata": {},
   "source": [
    "Взаимосвязь практически отсутствует."
   ]
  },
  {
   "cell_type": "markdown",
   "metadata": {},
   "source": [
    "#### Исследование продаж по жанрам"
   ]
  },
  {
   "cell_type": "code",
   "execution_count": 583,
   "metadata": {},
   "outputs": [
    {
     "data": {
      "text/plain": [
       "Text(0, 0.5, 'sales_all')"
      ]
     },
     "execution_count": 583,
     "metadata": {},
     "output_type": "execute_result"
    },
    {
     "data": {
      "image/png": "[encoded data removed]",
      "text/plain": [
       "<Figure size 720x360 with 1 Axes>"
      ]
     },
     "metadata": {},
     "output_type": "display_data"
    }
   ],
   "source": [
    "data_actual.groupby('genre')['sales_all'].agg('median').sort_values(ascending=False).plot(kind='bar',figsize=(10,5))\n",
    "\n",
    "plt.ylabel('sales_all')"
   ]
  },
  {
   "cell_type": "markdown",
   "metadata": {},
   "source": [
    "Самый интересный жанр - шутеры. Далее следуют спортивные игры, платформеры. Менее популярны файтинги, ролевые, гонки,  экшены, симуляторы и т.д."
   ]
  },
  {
   "cell_type": "markdown",
   "metadata": {},
   "source": [
    "### Портрет пользователя"
   ]
  },
  {
   "cell_type": "code",
   "execution_count": 584,
   "metadata": {},
   "outputs": [
    {
     "data": {
      "text/html": [
       "<div>\n",
       "<style scoped>\n",
       "    .dataframe tbody tr th:only-of-type {\n",
       "        vertical-align: middle;\n",
       "    }\n",
       "\n",
       "    .dataframe tbody tr th {\n",
       "        vertical-align: top;\n",
       "    }\n",
       "\n",
       "    .dataframe thead th {\n",
       "        text-align: right;\n",
       "    }\n",
       "</style>\n",
       "<table border=\"1\" class=\"dataframe\">\n",
       "  <thead>\n",
       "    <tr style=\"text-align: right;\">\n",
       "      <th></th>\n",
       "      <th>platform</th>\n",
       "      <th>na_sales</th>\n",
       "    </tr>\n",
       "  </thead>\n",
       "  <tbody>\n",
       "    <tr>\n",
       "      <th>4</th>\n",
       "      <td>PS4</td>\n",
       "      <td>108.74</td>\n",
       "    </tr>\n",
       "    <tr>\n",
       "      <th>10</th>\n",
       "      <td>XOne</td>\n",
       "      <td>93.12</td>\n",
       "    </tr>\n",
       "    <tr>\n",
       "      <th>9</th>\n",
       "      <td>X360</td>\n",
       "      <td>81.66</td>\n",
       "    </tr>\n",
       "    <tr>\n",
       "      <th>3</th>\n",
       "      <td>PS3</td>\n",
       "      <td>63.50</td>\n",
       "    </tr>\n",
       "    <tr>\n",
       "      <th>0</th>\n",
       "      <td>3DS</td>\n",
       "      <td>38.20</td>\n",
       "    </tr>\n",
       "  </tbody>\n",
       "</table>\n",
       "</div>"
      ],
      "text/plain": [
       "   platform  na_sales\n",
       "4       PS4    108.74\n",
       "10     XOne     93.12\n",
       "9      X360     81.66\n",
       "3       PS3     63.50\n",
       "0       3DS     38.20"
      ]
     },
     "metadata": {},
     "output_type": "display_data"
    },
    {
     "data": {
      "text/html": [
       "<div>\n",
       "<style scoped>\n",
       "    .dataframe tbody tr th:only-of-type {\n",
       "        vertical-align: middle;\n",
       "    }\n",
       "\n",
       "    .dataframe tbody tr th {\n",
       "        vertical-align: top;\n",
       "    }\n",
       "\n",
       "    .dataframe thead th {\n",
       "        text-align: right;\n",
       "    }\n",
       "</style>\n",
       "<table border=\"1\" class=\"dataframe\">\n",
       "  <thead>\n",
       "    <tr style=\"text-align: right;\">\n",
       "      <th></th>\n",
       "      <th>platform</th>\n",
       "      <th>eu_sales</th>\n",
       "    </tr>\n",
       "  </thead>\n",
       "  <tbody>\n",
       "    <tr>\n",
       "      <th>4</th>\n",
       "      <td>PS4</td>\n",
       "      <td>141.09</td>\n",
       "    </tr>\n",
       "    <tr>\n",
       "      <th>3</th>\n",
       "      <td>PS3</td>\n",
       "      <td>67.81</td>\n",
       "    </tr>\n",
       "    <tr>\n",
       "      <th>10</th>\n",
       "      <td>XOne</td>\n",
       "      <td>51.59</td>\n",
       "    </tr>\n",
       "    <tr>\n",
       "      <th>9</th>\n",
       "      <td>X360</td>\n",
       "      <td>42.52</td>\n",
       "    </tr>\n",
       "    <tr>\n",
       "      <th>0</th>\n",
       "      <td>3DS</td>\n",
       "      <td>30.96</td>\n",
       "    </tr>\n",
       "  </tbody>\n",
       "</table>\n",
       "</div>"
      ],
      "text/plain": [
       "   platform  eu_sales\n",
       "4       PS4    141.09\n",
       "3       PS3     67.81\n",
       "10     XOne     51.59\n",
       "9      X360     42.52\n",
       "0       3DS     30.96"
      ]
     },
     "metadata": {},
     "output_type": "display_data"
    },
    {
     "data": {
      "text/html": [
       "<div>\n",
       "<style scoped>\n",
       "    .dataframe tbody tr th:only-of-type {\n",
       "        vertical-align: middle;\n",
       "    }\n",
       "\n",
       "    .dataframe tbody tr th {\n",
       "        vertical-align: top;\n",
       "    }\n",
       "\n",
       "    .dataframe thead th {\n",
       "        text-align: right;\n",
       "    }\n",
       "</style>\n",
       "<table border=\"1\" class=\"dataframe\">\n",
       "  <thead>\n",
       "    <tr style=\"text-align: right;\">\n",
       "      <th></th>\n",
       "      <th>platform</th>\n",
       "      <th>jp_sales</th>\n",
       "    </tr>\n",
       "  </thead>\n",
       "  <tbody>\n",
       "    <tr>\n",
       "      <th>0</th>\n",
       "      <td>3DS</td>\n",
       "      <td>67.81</td>\n",
       "    </tr>\n",
       "    <tr>\n",
       "      <th>3</th>\n",
       "      <td>PS3</td>\n",
       "      <td>23.35</td>\n",
       "    </tr>\n",
       "    <tr>\n",
       "      <th>6</th>\n",
       "      <td>PSV</td>\n",
       "      <td>18.59</td>\n",
       "    </tr>\n",
       "    <tr>\n",
       "      <th>4</th>\n",
       "      <td>PS4</td>\n",
       "      <td>15.96</td>\n",
       "    </tr>\n",
       "    <tr>\n",
       "      <th>8</th>\n",
       "      <td>WiiU</td>\n",
       "      <td>10.88</td>\n",
       "    </tr>\n",
       "  </tbody>\n",
       "</table>\n",
       "</div>"
      ],
      "text/plain": [
       "  platform  jp_sales\n",
       "0      3DS     67.81\n",
       "3      PS3     23.35\n",
       "6      PSV     18.59\n",
       "4      PS4     15.96\n",
       "8     WiiU     10.88"
      ]
     },
     "metadata": {},
     "output_type": "display_data"
    },
    {
     "data": {
      "text/html": [
       "<div>\n",
       "<style scoped>\n",
       "    .dataframe tbody tr th:only-of-type {\n",
       "        vertical-align: middle;\n",
       "    }\n",
       "\n",
       "    .dataframe tbody tr th {\n",
       "        vertical-align: top;\n",
       "    }\n",
       "\n",
       "    .dataframe thead th {\n",
       "        text-align: right;\n",
       "    }\n",
       "</style>\n",
       "<table border=\"1\" class=\"dataframe\">\n",
       "  <thead>\n",
       "    <tr style=\"text-align: right;\">\n",
       "      <th></th>\n",
       "      <th>platform</th>\n",
       "      <th>other_sales</th>\n",
       "    </tr>\n",
       "  </thead>\n",
       "  <tbody>\n",
       "    <tr>\n",
       "      <th>4</th>\n",
       "      <td>PS4</td>\n",
       "      <td>48.35</td>\n",
       "    </tr>\n",
       "    <tr>\n",
       "      <th>3</th>\n",
       "      <td>PS3</td>\n",
       "      <td>26.77</td>\n",
       "    </tr>\n",
       "    <tr>\n",
       "      <th>10</th>\n",
       "      <td>XOne</td>\n",
       "      <td>14.27</td>\n",
       "    </tr>\n",
       "    <tr>\n",
       "      <th>9</th>\n",
       "      <td>X360</td>\n",
       "      <td>12.11</td>\n",
       "    </tr>\n",
       "    <tr>\n",
       "      <th>0</th>\n",
       "      <td>3DS</td>\n",
       "      <td>6.28</td>\n",
       "    </tr>\n",
       "  </tbody>\n",
       "</table>\n",
       "</div>"
      ],
      "text/plain": [
       "   platform  other_sales\n",
       "4       PS4        48.35\n",
       "3       PS3        26.77\n",
       "10     XOne        14.27\n",
       "9      X360        12.11\n",
       "0       3DS         6.28"
      ]
     },
     "metadata": {},
     "output_type": "display_data"
    }
   ],
   "source": [
    "for i in data.columns[4:8]:\n",
    "    (display(data_actual\n",
    "     .pivot_table(index='platform', values=i, aggfunc='sum')\n",
    "     .reset_index()\n",
    "     .nlargest(5,columns=i)\n",
    "            ))"
   ]
  },
  {
   "cell_type": "markdown",
   "metadata": {},
   "source": [
    "В США и Японии предпочитают играть на своих \"домашних\" платформах Xbox 360 и PS соответственно. Также в Японии довольно распространены портативные консоли: PSP, PSV, 3DS. В Европе и других странах доля PS больше, чем у Xbox. В Европе также предпочитают играть и на ПК."
   ]
  },
  {
   "cell_type": "code",
   "execution_count": 585,
   "metadata": {},
   "outputs": [
    {
     "data": {
      "text/html": [
       "<div>\n",
       "<style scoped>\n",
       "    .dataframe tbody tr th:only-of-type {\n",
       "        vertical-align: middle;\n",
       "    }\n",
       "\n",
       "    .dataframe tbody tr th {\n",
       "        vertical-align: top;\n",
       "    }\n",
       "\n",
       "    .dataframe thead th {\n",
       "        text-align: right;\n",
       "    }\n",
       "</style>\n",
       "<table border=\"1\" class=\"dataframe\">\n",
       "  <thead>\n",
       "    <tr style=\"text-align: right;\">\n",
       "      <th></th>\n",
       "      <th>genre</th>\n",
       "      <th>na_sales</th>\n",
       "    </tr>\n",
       "  </thead>\n",
       "  <tbody>\n",
       "    <tr>\n",
       "      <th>8</th>\n",
       "      <td>Shooter</td>\n",
       "      <td>0.200</td>\n",
       "    </tr>\n",
       "    <tr>\n",
       "      <th>4</th>\n",
       "      <td>Platform</td>\n",
       "      <td>0.090</td>\n",
       "    </tr>\n",
       "    <tr>\n",
       "      <th>10</th>\n",
       "      <td>Sports</td>\n",
       "      <td>0.080</td>\n",
       "    </tr>\n",
       "    <tr>\n",
       "      <th>2</th>\n",
       "      <td>Fighting</td>\n",
       "      <td>0.045</td>\n",
       "    </tr>\n",
       "    <tr>\n",
       "      <th>6</th>\n",
       "      <td>Racing</td>\n",
       "      <td>0.030</td>\n",
       "    </tr>\n",
       "  </tbody>\n",
       "</table>\n",
       "</div>"
      ],
      "text/plain": [
       "       genre  na_sales\n",
       "8    Shooter     0.200\n",
       "4   Platform     0.090\n",
       "10    Sports     0.080\n",
       "2   Fighting     0.045\n",
       "6     Racing     0.030"
      ]
     },
     "metadata": {},
     "output_type": "display_data"
    },
    {
     "data": {
      "text/html": [
       "<div>\n",
       "<style scoped>\n",
       "    .dataframe tbody tr th:only-of-type {\n",
       "        vertical-align: middle;\n",
       "    }\n",
       "\n",
       "    .dataframe tbody tr th {\n",
       "        vertical-align: top;\n",
       "    }\n",
       "\n",
       "    .dataframe thead th {\n",
       "        text-align: right;\n",
       "    }\n",
       "</style>\n",
       "<table border=\"1\" class=\"dataframe\">\n",
       "  <thead>\n",
       "    <tr style=\"text-align: right;\">\n",
       "      <th></th>\n",
       "      <th>genre</th>\n",
       "      <th>eu_sales</th>\n",
       "    </tr>\n",
       "  </thead>\n",
       "  <tbody>\n",
       "    <tr>\n",
       "      <th>8</th>\n",
       "      <td>Shooter</td>\n",
       "      <td>0.190</td>\n",
       "    </tr>\n",
       "    <tr>\n",
       "      <th>4</th>\n",
       "      <td>Platform</td>\n",
       "      <td>0.080</td>\n",
       "    </tr>\n",
       "    <tr>\n",
       "      <th>6</th>\n",
       "      <td>Racing</td>\n",
       "      <td>0.060</td>\n",
       "    </tr>\n",
       "    <tr>\n",
       "      <th>10</th>\n",
       "      <td>Sports</td>\n",
       "      <td>0.050</td>\n",
       "    </tr>\n",
       "    <tr>\n",
       "      <th>9</th>\n",
       "      <td>Simulation</td>\n",
       "      <td>0.035</td>\n",
       "    </tr>\n",
       "  </tbody>\n",
       "</table>\n",
       "</div>"
      ],
      "text/plain": [
       "         genre  eu_sales\n",
       "8      Shooter     0.190\n",
       "4     Platform     0.080\n",
       "6       Racing     0.060\n",
       "10      Sports     0.050\n",
       "9   Simulation     0.035"
      ]
     },
     "metadata": {},
     "output_type": "display_data"
    },
    {
     "data": {
      "text/html": [
       "<div>\n",
       "<style scoped>\n",
       "    .dataframe tbody tr th:only-of-type {\n",
       "        vertical-align: middle;\n",
       "    }\n",
       "\n",
       "    .dataframe tbody tr th {\n",
       "        vertical-align: top;\n",
       "    }\n",
       "\n",
       "    .dataframe thead th {\n",
       "        text-align: right;\n",
       "    }\n",
       "</style>\n",
       "<table border=\"1\" class=\"dataframe\">\n",
       "  <thead>\n",
       "    <tr style=\"text-align: right;\">\n",
       "      <th></th>\n",
       "      <th>genre</th>\n",
       "      <th>jp_sales</th>\n",
       "    </tr>\n",
       "  </thead>\n",
       "  <tbody>\n",
       "    <tr>\n",
       "      <th>7</th>\n",
       "      <td>Role-Playing</td>\n",
       "      <td>0.05</td>\n",
       "    </tr>\n",
       "    <tr>\n",
       "      <th>2</th>\n",
       "      <td>Fighting</td>\n",
       "      <td>0.03</td>\n",
       "    </tr>\n",
       "    <tr>\n",
       "      <th>3</th>\n",
       "      <td>Misc</td>\n",
       "      <td>0.02</td>\n",
       "    </tr>\n",
       "    <tr>\n",
       "      <th>5</th>\n",
       "      <td>Puzzle</td>\n",
       "      <td>0.02</td>\n",
       "    </tr>\n",
       "    <tr>\n",
       "      <th>0</th>\n",
       "      <td>Action</td>\n",
       "      <td>0.01</td>\n",
       "    </tr>\n",
       "  </tbody>\n",
       "</table>\n",
       "</div>"
      ],
      "text/plain": [
       "          genre  jp_sales\n",
       "7  Role-Playing      0.05\n",
       "2      Fighting      0.03\n",
       "3          Misc      0.02\n",
       "5        Puzzle      0.02\n",
       "0        Action      0.01"
      ]
     },
     "metadata": {},
     "output_type": "display_data"
    },
    {
     "data": {
      "text/html": [
       "<div>\n",
       "<style scoped>\n",
       "    .dataframe tbody tr th:only-of-type {\n",
       "        vertical-align: middle;\n",
       "    }\n",
       "\n",
       "    .dataframe tbody tr th {\n",
       "        vertical-align: top;\n",
       "    }\n",
       "\n",
       "    .dataframe thead th {\n",
       "        text-align: right;\n",
       "    }\n",
       "</style>\n",
       "<table border=\"1\" class=\"dataframe\">\n",
       "  <thead>\n",
       "    <tr style=\"text-align: right;\">\n",
       "      <th></th>\n",
       "      <th>genre</th>\n",
       "      <th>other_sales</th>\n",
       "    </tr>\n",
       "  </thead>\n",
       "  <tbody>\n",
       "    <tr>\n",
       "      <th>8</th>\n",
       "      <td>Shooter</td>\n",
       "      <td>0.050</td>\n",
       "    </tr>\n",
       "    <tr>\n",
       "      <th>4</th>\n",
       "      <td>Platform</td>\n",
       "      <td>0.025</td>\n",
       "    </tr>\n",
       "    <tr>\n",
       "      <th>10</th>\n",
       "      <td>Sports</td>\n",
       "      <td>0.020</td>\n",
       "    </tr>\n",
       "    <tr>\n",
       "      <th>0</th>\n",
       "      <td>Action</td>\n",
       "      <td>0.010</td>\n",
       "    </tr>\n",
       "    <tr>\n",
       "      <th>2</th>\n",
       "      <td>Fighting</td>\n",
       "      <td>0.010</td>\n",
       "    </tr>\n",
       "  </tbody>\n",
       "</table>\n",
       "</div>"
      ],
      "text/plain": [
       "       genre  other_sales\n",
       "8    Shooter        0.050\n",
       "4   Platform        0.025\n",
       "10    Sports        0.020\n",
       "0     Action        0.010\n",
       "2   Fighting        0.010"
      ]
     },
     "metadata": {},
     "output_type": "display_data"
    }
   ],
   "source": [
    "for i in data.columns[4:8]:\n",
    "    (display(data_actual\n",
    "     .pivot_table(index='genre', values=i, aggfunc='median')\n",
    "     .reset_index()\n",
    "     .nlargest(5,columns=i)\n",
    "            ))"
   ]
  },
  {
   "cell_type": "markdown",
   "metadata": {},
   "source": [
    "Жанровые предпочтения в США, Европе и других странах, в целом, совпадают. В Японии больше всего любят ролевые игры."
   ]
  },
  {
   "cell_type": "code",
   "execution_count": 598,
   "metadata": {},
   "outputs": [
    {
     "data": {
      "text/plain": [
       "undef    0.437528\n",
       "M        0.165249\n",
       "T        0.149127\n",
       "E        0.135244\n",
       "E10+     0.112853\n",
       "Name: rating, dtype: float64"
      ]
     },
     "execution_count": 598,
     "metadata": {},
     "output_type": "execute_result"
    }
   ],
   "source": [
    "data_actual.rating.value_counts(normalize=True)"
   ]
  },
  {
   "cell_type": "code",
   "execution_count": 587,
   "metadata": {},
   "outputs": [
    {
     "data": {
      "text/plain": [
       "977"
      ]
     },
     "execution_count": 587,
     "metadata": {},
     "output_type": "execute_result"
    }
   ],
   "source": [
    "data_actual.rating.isna().sum()"
   ]
  },
  {
   "cell_type": "code",
   "execution_count": 588,
   "metadata": {},
   "outputs": [],
   "source": [
    "data_actual['rating'] = data_actual['rating'].fillna('undef')"
   ]
  },
  {
   "cell_type": "code",
   "execution_count": 589,
   "metadata": {},
   "outputs": [],
   "source": [
    "def fig_plot (col):\n",
    "    return (data_actual                    \n",
    "                     .groupby('rating')[col]\n",
    "                     .agg('sum')\n",
    "                     .plot(title=col,kind='bar')\n",
    "                    )"
   ]
  },
  {
   "cell_type": "code",
   "execution_count": 590,
   "metadata": {},
   "outputs": [
    {
     "data": {
      "image/png": "[encoded data removed]",
      "text/plain": [
       "<Figure size 720x360 with 4 Axes>"
      ]
     },
     "metadata": {},
     "output_type": "display_data"
    }
   ],
   "source": [
    "fig = plt.figure(figsize=(10,5))\n",
    "\n",
    "plt.subplot(2, 2, 1)\n",
    "fig_plot('na_sales')\n",
    "\n",
    "plt.subplot(2, 2, 2)\n",
    "fig_plot('eu_sales')\n",
    "\n",
    "plt.subplot(2, 2, 3)\n",
    "fig_plot('jp_sales')\n",
    "\n",
    "plt.subplot(2, 2, 4)\n",
    "fig_plot('other_sales')\n",
    "\n",
    "plt.tight_layout()\n"
   ]
  },
  {
   "cell_type": "markdown",
   "metadata": {},
   "source": [
    "Доли продаж по возрастным категориям в США, Европе и других странах в целом идентичны, а вот в Японии преобладают категории Е и Т, а также игры без рейтинга. Что скорее всего связано с большой распространенностью портативных консолей, на которых в основном играют дети и подростки."
   ]
  },
  {
   "cell_type": "code",
   "execution_count": 591,
   "metadata": {},
   "outputs": [
    {
     "data": {
      "text/html": [
       "<div>\n",
       "<style scoped>\n",
       "    .dataframe tbody tr th:only-of-type {\n",
       "        vertical-align: middle;\n",
       "    }\n",
       "\n",
       "    .dataframe tbody tr th {\n",
       "        vertical-align: top;\n",
       "    }\n",
       "\n",
       "    .dataframe thead th {\n",
       "        text-align: right;\n",
       "    }\n",
       "</style>\n",
       "<table border=\"1\" class=\"dataframe\">\n",
       "  <thead>\n",
       "    <tr style=\"text-align: right;\">\n",
       "      <th></th>\n",
       "      <th>rating</th>\n",
       "      <th>na_sales</th>\n",
       "    </tr>\n",
       "  </thead>\n",
       "  <tbody>\n",
       "    <tr>\n",
       "      <th>0</th>\n",
       "      <td>undef</td>\n",
       "      <td>89.42</td>\n",
       "    </tr>\n",
       "  </tbody>\n",
       "</table>\n",
       "</div>"
      ],
      "text/plain": [
       "  rating  na_sales\n",
       "0  undef     89.42"
      ]
     },
     "metadata": {},
     "output_type": "display_data"
    },
    {
     "data": {
      "text/html": [
       "<div>\n",
       "<style scoped>\n",
       "    .dataframe tbody tr th:only-of-type {\n",
       "        vertical-align: middle;\n",
       "    }\n",
       "\n",
       "    .dataframe tbody tr th {\n",
       "        vertical-align: top;\n",
       "    }\n",
       "\n",
       "    .dataframe thead th {\n",
       "        text-align: right;\n",
       "    }\n",
       "</style>\n",
       "<table border=\"1\" class=\"dataframe\">\n",
       "  <thead>\n",
       "    <tr style=\"text-align: right;\">\n",
       "      <th></th>\n",
       "      <th>rating</th>\n",
       "      <th>eu_sales</th>\n",
       "    </tr>\n",
       "  </thead>\n",
       "  <tbody>\n",
       "    <tr>\n",
       "      <th>0</th>\n",
       "      <td>undef</td>\n",
       "      <td>78.91</td>\n",
       "    </tr>\n",
       "  </tbody>\n",
       "</table>\n",
       "</div>"
      ],
      "text/plain": [
       "  rating  eu_sales\n",
       "0  undef     78.91"
      ]
     },
     "metadata": {},
     "output_type": "display_data"
    },
    {
     "data": {
      "text/html": [
       "<div>\n",
       "<style scoped>\n",
       "    .dataframe tbody tr th:only-of-type {\n",
       "        vertical-align: middle;\n",
       "    }\n",
       "\n",
       "    .dataframe tbody tr th {\n",
       "        vertical-align: top;\n",
       "    }\n",
       "\n",
       "    .dataframe thead th {\n",
       "        text-align: right;\n",
       "    }\n",
       "</style>\n",
       "<table border=\"1\" class=\"dataframe\">\n",
       "  <thead>\n",
       "    <tr style=\"text-align: right;\">\n",
       "      <th></th>\n",
       "      <th>rating</th>\n",
       "      <th>jp_sales</th>\n",
       "    </tr>\n",
       "  </thead>\n",
       "  <tbody>\n",
       "    <tr>\n",
       "      <th>0</th>\n",
       "      <td>undef</td>\n",
       "      <td>85.05</td>\n",
       "    </tr>\n",
       "  </tbody>\n",
       "</table>\n",
       "</div>"
      ],
      "text/plain": [
       "  rating  jp_sales\n",
       "0  undef     85.05"
      ]
     },
     "metadata": {},
     "output_type": "display_data"
    },
    {
     "data": {
      "text/html": [
       "<div>\n",
       "<style scoped>\n",
       "    .dataframe tbody tr th:only-of-type {\n",
       "        vertical-align: middle;\n",
       "    }\n",
       "\n",
       "    .dataframe tbody tr th {\n",
       "        vertical-align: top;\n",
       "    }\n",
       "\n",
       "    .dataframe thead th {\n",
       "        text-align: right;\n",
       "    }\n",
       "</style>\n",
       "<table border=\"1\" class=\"dataframe\">\n",
       "  <thead>\n",
       "    <tr style=\"text-align: right;\">\n",
       "      <th></th>\n",
       "      <th>rating</th>\n",
       "      <th>other_sales</th>\n",
       "    </tr>\n",
       "  </thead>\n",
       "  <tbody>\n",
       "    <tr>\n",
       "      <th>0</th>\n",
       "      <td>undef</td>\n",
       "      <td>23.46</td>\n",
       "    </tr>\n",
       "  </tbody>\n",
       "</table>\n",
       "</div>"
      ],
      "text/plain": [
       "  rating  other_sales\n",
       "0  undef        23.46"
      ]
     },
     "metadata": {},
     "output_type": "display_data"
    }
   ],
   "source": [
    "for i in data.columns[4:8]:\n",
    "    (display(data_actual\n",
    "     .query('rating ==\"undef\"')\n",
    "     .pivot_table(index = 'rating', values= i, aggfunc = 'sum')\n",
    "     .reset_index()\n",
    "    ))"
   ]
  },
  {
   "cell_type": "markdown",
   "metadata": {},
   "source": [
    "### Проверка гипотез"
   ]
  },
  {
   "cell_type": "markdown",
   "metadata": {},
   "source": [
    "Проверка гипотезы: средние пользовательские рейтинги платформ Xbox One и PC одинаковые.\n",
    "\n",
    "H_0: Оценка пользователей (user_score) платформы Xbox One = оценке пользователей (user_score) платформы PC.\n",
    "\n",
    "H_a: Оценка пользователей (user_score) платформы Xbox One ≠ оценке пользователей (user_score) платформы PC\n",
    "\n",
    "Уровень значимости возьмём 1%, т.к выборка достаточно большая, вероятность ошибки первого рода можно уменьшить."
   ]
  },
  {
   "cell_type": "markdown",
   "metadata": {},
   "source": [
    "Нулевая гипотеза всегда формулируется со знаком равенства, а альтернативная формулируется так, что она противоречит нулевой. В данном случае, не важно, в какую сторону будут отличаться оценки, поэтому альтернативная гипотеза двухсторонняя. "
   ]
  },
  {
   "cell_type": "code",
   "execution_count": 592,
   "metadata": {},
   "outputs": [
    {
     "name": "stdout",
     "output_type": "stream",
     "text": [
      "0.14759597335133473\n",
      "Не получилось отвергнуть нулевую гипотезу\n"
     ]
    }
   ],
   "source": [
    "data_test = data_actual.query('~user_score.isna()')\n",
    "\n",
    "alpha = 0.01 #значение уровня значимости\n",
    "\n",
    "results = st.ttest_ind(  #Поскольку речь идёт о проверке равенства средних двух распределений, используем метод .ttest_ind()\n",
    "    data_test.loc[data_test.platform == 'XOne', 'user_score'],\n",
    "    data_test.loc[data_test.platform == 'PC', 'user_score'],\n",
    "    equal_var = False  \n",
    "    \n",
    ")\n",
    "\n",
    "print(results.pvalue)\n",
    "\n",
    "if results.pvalue < alpha:\n",
    "    print(\"Отвергаем нулевую гипотезу\")\n",
    "else:\n",
    "    print(\"Не получилось отвергнуть нулевую гипотезу\")"
   ]
  },
  {
   "cell_type": "markdown",
   "metadata": {},
   "source": [
    "**Вывод**. Получается, что пользователи платформ XOne и PC похоже оценивают игры."
   ]
  },
  {
   "cell_type": "code",
   "execution_count": 593,
   "metadata": {},
   "outputs": [
    {
     "data": {
      "text/plain": [
       "1.0401537614274121"
      ]
     },
     "execution_count": 593,
     "metadata": {},
     "output_type": "execute_result"
    }
   ],
   "source": [
    "data_test.loc[data_test.platform == 'XOne', 'user_score'].mean() / data_test.loc[data_test.platform == 'PC', 'user_score'].mean()"
   ]
  },
  {
   "cell_type": "markdown",
   "metadata": {},
   "source": [
    "Разница в средней оценке всего около 4%"
   ]
  },
  {
   "cell_type": "markdown",
   "metadata": {},
   "source": [
    "Проверка гипотезы: средние пользовательские рейтинги жанров Action и Sports разные.\n",
    "\n",
    "\n",
    "H_0: Оценка пользователей (user_score) жанра Action = оценке пользователей (user_score) жанра Sports.\n",
    "\n",
    "H_a: Оценка пользователей (user_score) жанра Action ≠ оценке пользователей (user_score) жанра Sports.\n",
    "\n",
    "Уровень значимости 1%\n"
   ]
  },
  {
   "cell_type": "code",
   "execution_count": 594,
   "metadata": {},
   "outputs": [
    {
     "name": "stdout",
     "output_type": "stream",
     "text": [
      "1.4460022780745844e-20\n",
      "Отвергаем нулевую гипотезу\n"
     ]
    }
   ],
   "source": [
    "alpha = 0.01 #значение уровня значимости\n",
    "\n",
    "results = st.ttest_ind(  \n",
    "    data_test.loc[data_test.genre == 'Action', 'user_score'],\n",
    "    data_test.loc[data_test.genre == 'Sports', 'user_score'],\n",
    "    equal_var = False\n",
    "    \n",
    ")\n",
    "\n",
    "print(results.pvalue)\n",
    "\n",
    "if results.pvalue < alpha:\n",
    "    print(\"Отвергаем нулевую гипотезу\")\n",
    "else:\n",
    "    print(\"Не получилось отвергнуть нулевую гипотезу\")"
   ]
  },
  {
   "cell_type": "code",
   "execution_count": 595,
   "metadata": {},
   "outputs": [
    {
     "data": {
      "text/plain": [
       "1.3053396318222348"
      ]
     },
     "execution_count": 595,
     "metadata": {},
     "output_type": "execute_result"
    }
   ],
   "source": [
    "data_test.loc[data_test.genre == 'Action', 'user_score'].mean() / data_test.loc[data_test.genre == 'Sports', 'user_score'].mean()"
   ]
  },
  {
   "cell_type": "markdown",
   "metadata": {},
   "source": [
    "**Вывод**. Можно предположить, что игроки по-разному оценивают игры в жанре action и sports. Разница в средних оценках более 30%. То есть, скорее всего это две разные аудитории."
   ]
  },
  {
   "cell_type": "markdown",
   "metadata": {},
   "source": [
    "### Общий вывод"
   ]
  },
  {
   "cell_type": "markdown",
   "metadata": {},
   "source": [
    "Был изучен набор данных интернет-магазина «Стримчик» — о продажа игр по всему миру за 2016 год.\n",
    "\n",
    "В процессе проведена предобработка данных: где возможно, заполнены пропуски, изменены типы данных в столбцах.\n",
    "\n",
    "В ходе исследования определены закономерности:\n",
    "\n",
    "* пик продаж приходится на промежуток в 5 лет;"
   ]
  },
  {
   "cell_type": "markdown",
   "metadata": {},
   "source": [
    "* актуальные платформы на 2017 год: XOne, PS4, 3DS, PC, PSV;"
   ]
  },
  {
   "cell_type": "markdown",
   "metadata": {},
   "source": [
    "* продажи положительно коррелируют с оценками критиков, с оценками пользователей связь слабая или практически отсутствует, кроме портативных платформ (3DS) - там положительная связь есть;"
   ]
  },
  {
   "cell_type": "markdown",
   "metadata": {},
   "source": [
    "* самый популярный жанр - шутеры. Далее следуют спортивные игры, платформеры. Менее популярны файтинги, ролевые, гонки,  экшены, симуляторы и т.д."
   ]
  },
  {
   "cell_type": "markdown",
   "metadata": {},
   "source": [
    "Также составлен примерный портрет пользователя из разных регионов:\n",
    "\n",
    "* В США и Японии предпочитают играть на своих \"домашних\" платформах Xbox 360 и PS соответственно. Также в Японии довольно распространены портативные консоли: PSP, PSV, 3DS. В Европе и других странах доля PS больше, чем у Xbox. В Европе также предпочитают играть и на ПК."
   ]
  },
  {
   "cell_type": "markdown",
   "metadata": {},
   "source": [
    "* Жанровые предпочтения в США, Европе и других странах, в целом, совпадают. Наиболее популярны шутеры, платформеры, экшены, спортивные и ролевые игры. В Японии больше всего любят ролевые игры."
   ]
  },
  {
   "cell_type": "markdown",
   "metadata": {},
   "source": [
    "* Доли продаж по возрастным категориям в США, Европе и других странах в целом идентичны, превалирует категория М. В Японии преобладают категории Е и Т. Что скорее всего связано с большой распространенностью портативных консолей, на которых в основном играют дети и подростки."
   ]
  },
  {
   "cell_type": "markdown",
   "metadata": {},
   "source": [
    "Проверены гипотезы:\n",
    "\n",
    "* пользователи платформ XOne и PC похоже оценивают игры. Разница в средних оценках всего около 4%"
   ]
  },
  {
   "cell_type": "markdown",
   "metadata": {},
   "source": [
    "* игроки по-разному оценивают игры в жанре action и sports. Разница в средних оценках более 30%. То есть, скорее всего это две разные аудитории."
   ]
  }
 ],
 "metadata": {
  "ExecuteTimeLog": [
   {
    "duration": 63,
    "start_time": "2022-07-11T09:51:16.860Z"
   },
   {
    "duration": 1386,
    "start_time": "2022-07-11T10:01:40.095Z"
   },
   {
    "duration": 3,
    "start_time": "2022-07-11T10:02:15.046Z"
   },
   {
    "duration": 74,
    "start_time": "2022-07-11T10:02:57.088Z"
   },
   {
    "duration": 38,
    "start_time": "2022-07-11T10:03:00.110Z"
   },
   {
    "duration": 14,
    "start_time": "2022-07-11T10:03:12.210Z"
   },
   {
    "duration": 25,
    "start_time": "2022-07-11T10:11:28.652Z"
   },
   {
    "duration": 27,
    "start_time": "2022-07-11T10:12:50.987Z"
   },
   {
    "duration": 734,
    "start_time": "2022-07-11T10:16:00.673Z"
   },
   {
    "duration": 4,
    "start_time": "2022-07-11T10:19:22.546Z"
   },
   {
    "duration": 4,
    "start_time": "2022-07-11T10:20:49.880Z"
   },
   {
    "duration": 4,
    "start_time": "2022-07-11T10:21:07.775Z"
   },
   {
    "duration": 101,
    "start_time": "2022-07-11T10:21:44.602Z"
   },
   {
    "duration": 4,
    "start_time": "2022-07-11T10:22:10.049Z"
   },
   {
    "duration": 4,
    "start_time": "2022-07-11T10:22:40.685Z"
   },
   {
    "duration": 5,
    "start_time": "2022-07-11T10:23:12.491Z"
   },
   {
    "duration": 10,
    "start_time": "2022-07-11T10:23:20.082Z"
   },
   {
    "duration": 9,
    "start_time": "2022-07-11T10:24:23.983Z"
   },
   {
    "duration": 9,
    "start_time": "2022-07-11T10:25:07.155Z"
   },
   {
    "duration": 15,
    "start_time": "2022-07-11T10:25:41.710Z"
   },
   {
    "duration": 9,
    "start_time": "2022-07-11T10:26:07.778Z"
   },
   {
    "duration": 6,
    "start_time": "2022-07-11T10:26:40.638Z"
   },
   {
    "duration": 5,
    "start_time": "2022-07-11T10:26:48.776Z"
   },
   {
    "duration": 4,
    "start_time": "2022-07-11T10:26:54.542Z"
   },
   {
    "duration": 10,
    "start_time": "2022-07-11T10:28:08.812Z"
   },
   {
    "duration": 3,
    "start_time": "2022-07-11T10:30:23.370Z"
   },
   {
    "duration": 9,
    "start_time": "2022-07-11T10:30:46.088Z"
   },
   {
    "duration": 11,
    "start_time": "2022-07-11T10:31:09.921Z"
   },
   {
    "duration": 9,
    "start_time": "2022-07-11T10:31:48.626Z"
   },
   {
    "duration": 8,
    "start_time": "2022-07-11T10:31:54.236Z"
   },
   {
    "duration": 4,
    "start_time": "2022-07-11T10:32:14.075Z"
   },
   {
    "duration": 9,
    "start_time": "2022-07-11T10:35:32.844Z"
   },
   {
    "duration": 4,
    "start_time": "2022-07-11T10:37:19.278Z"
   },
   {
    "duration": 4,
    "start_time": "2022-07-11T10:37:35.859Z"
   },
   {
    "duration": 4,
    "start_time": "2022-07-11T10:37:45.717Z"
   },
   {
    "duration": 3,
    "start_time": "2022-07-11T10:38:21.039Z"
   },
   {
    "duration": 13,
    "start_time": "2022-07-11T10:38:34.681Z"
   },
   {
    "duration": 4,
    "start_time": "2022-07-11T10:38:41.494Z"
   },
   {
    "duration": 4,
    "start_time": "2022-07-11T10:38:57.192Z"
   },
   {
    "duration": 14,
    "start_time": "2022-07-11T10:38:59.994Z"
   },
   {
    "duration": 44,
    "start_time": "2022-07-11T10:39:08.593Z"
   },
   {
    "duration": 3,
    "start_time": "2022-07-11T10:39:13.512Z"
   },
   {
    "duration": 14,
    "start_time": "2022-07-11T10:39:15.737Z"
   },
   {
    "duration": 9,
    "start_time": "2022-07-11T10:41:29.868Z"
   },
   {
    "duration": 11,
    "start_time": "2022-07-11T10:41:49.860Z"
   },
   {
    "duration": 9,
    "start_time": "2022-07-11T10:55:39.962Z"
   },
   {
    "duration": 9,
    "start_time": "2022-07-11T10:55:45.734Z"
   },
   {
    "duration": 8,
    "start_time": "2022-07-11T10:55:56.736Z"
   },
   {
    "duration": 22,
    "start_time": "2022-07-11T10:56:06.223Z"
   },
   {
    "duration": 8,
    "start_time": "2022-07-11T10:56:39.118Z"
   },
   {
    "duration": 14,
    "start_time": "2022-07-11T10:59:20.249Z"
   },
   {
    "duration": 13,
    "start_time": "2022-07-11T10:59:26.989Z"
   },
   {
    "duration": 12,
    "start_time": "2022-07-11T11:01:32.707Z"
   },
   {
    "duration": 6,
    "start_time": "2022-07-11T11:01:43.205Z"
   },
   {
    "duration": 5,
    "start_time": "2022-07-11T11:01:59.412Z"
   },
   {
    "duration": 10,
    "start_time": "2022-07-11T13:17:42.509Z"
   },
   {
    "duration": 5,
    "start_time": "2022-07-11T13:22:16.334Z"
   },
   {
    "duration": 5,
    "start_time": "2022-07-11T13:22:54.422Z"
   },
   {
    "duration": 23,
    "start_time": "2022-07-11T13:23:19.482Z"
   },
   {
    "duration": 5,
    "start_time": "2022-07-11T13:25:14.059Z"
   },
   {
    "duration": 5,
    "start_time": "2022-07-11T14:39:16.789Z"
   },
   {
    "duration": 11,
    "start_time": "2022-07-11T14:39:20.854Z"
   },
   {
    "duration": 6,
    "start_time": "2022-07-11T14:39:55.665Z"
   },
   {
    "duration": 5,
    "start_time": "2022-07-11T14:40:04.192Z"
   },
   {
    "duration": 13,
    "start_time": "2022-07-11T14:41:10.053Z"
   },
   {
    "duration": 20,
    "start_time": "2022-07-11T14:43:34.373Z"
   },
   {
    "duration": 42,
    "start_time": "2022-07-11T14:49:14.803Z"
   },
   {
    "duration": 894,
    "start_time": "2022-07-11T14:49:42.052Z"
   },
   {
    "duration": 10,
    "start_time": "2022-07-11T14:51:03.304Z"
   },
   {
    "duration": 10,
    "start_time": "2022-07-11T14:51:06.658Z"
   },
   {
    "duration": 13,
    "start_time": "2022-07-11T14:52:56.773Z"
   },
   {
    "duration": 13,
    "start_time": "2022-07-11T14:53:14.610Z"
   },
   {
    "duration": 9,
    "start_time": "2022-07-11T15:32:34.537Z"
   },
   {
    "duration": 5,
    "start_time": "2022-07-11T15:34:46.466Z"
   },
   {
    "duration": 5,
    "start_time": "2022-07-11T15:35:05.578Z"
   },
   {
    "duration": 3,
    "start_time": "2022-07-11T15:35:17.745Z"
   },
   {
    "duration": 5,
    "start_time": "2022-07-11T15:35:20.767Z"
   },
   {
    "duration": 1462,
    "start_time": "2022-07-12T09:09:27.863Z"
   },
   {
    "duration": 75,
    "start_time": "2022-07-12T09:09:29.327Z"
   },
   {
    "duration": 15,
    "start_time": "2022-07-12T09:09:29.404Z"
   },
   {
    "duration": 26,
    "start_time": "2022-07-12T09:09:29.421Z"
   },
   {
    "duration": 30,
    "start_time": "2022-07-12T09:09:29.448Z"
   },
   {
    "duration": 816,
    "start_time": "2022-07-12T09:09:29.480Z"
   },
   {
    "duration": 10,
    "start_time": "2022-07-12T09:09:30.297Z"
   },
   {
    "duration": 28,
    "start_time": "2022-07-12T09:09:30.308Z"
   },
   {
    "duration": 145,
    "start_time": "2022-07-12T09:09:30.338Z"
   },
   {
    "duration": 0,
    "start_time": "2022-07-12T09:09:30.486Z"
   },
   {
    "duration": 0,
    "start_time": "2022-07-12T09:09:30.488Z"
   },
   {
    "duration": 0,
    "start_time": "2022-07-12T09:09:30.489Z"
   },
   {
    "duration": 0,
    "start_time": "2022-07-12T09:09:30.491Z"
   },
   {
    "duration": 0,
    "start_time": "2022-07-12T09:09:30.493Z"
   },
   {
    "duration": 0,
    "start_time": "2022-07-12T09:09:30.494Z"
   },
   {
    "duration": 0,
    "start_time": "2022-07-12T09:09:30.495Z"
   },
   {
    "duration": 2,
    "start_time": "2022-07-12T09:12:15.329Z"
   },
   {
    "duration": 54,
    "start_time": "2022-07-12T09:12:15.336Z"
   },
   {
    "duration": 16,
    "start_time": "2022-07-12T09:12:15.393Z"
   },
   {
    "duration": 21,
    "start_time": "2022-07-12T09:12:15.411Z"
   },
   {
    "duration": 29,
    "start_time": "2022-07-12T09:12:15.445Z"
   },
   {
    "duration": 770,
    "start_time": "2022-07-12T09:12:15.476Z"
   },
   {
    "duration": 4,
    "start_time": "2022-07-12T09:12:16.248Z"
   },
   {
    "duration": 13,
    "start_time": "2022-07-12T09:12:16.253Z"
   },
   {
    "duration": 10,
    "start_time": "2022-07-12T09:12:16.267Z"
   },
   {
    "duration": 11,
    "start_time": "2022-07-12T09:12:16.279Z"
   },
   {
    "duration": 9,
    "start_time": "2022-07-12T09:12:16.292Z"
   },
   {
    "duration": 13,
    "start_time": "2022-07-12T09:12:16.302Z"
   },
   {
    "duration": 5,
    "start_time": "2022-07-12T09:12:16.346Z"
   },
   {
    "duration": 13,
    "start_time": "2022-07-12T09:12:16.353Z"
   },
   {
    "duration": 7,
    "start_time": "2022-07-12T09:12:16.367Z"
   },
   {
    "duration": 4,
    "start_time": "2022-07-12T09:12:16.376Z"
   },
   {
    "duration": 5,
    "start_time": "2022-07-12T09:15:32.409Z"
   },
   {
    "duration": 609,
    "start_time": "2022-07-12T09:17:36.269Z"
   },
   {
    "duration": 2,
    "start_time": "2022-07-12T09:18:00.375Z"
   },
   {
    "duration": 49,
    "start_time": "2022-07-12T09:18:00.379Z"
   },
   {
    "duration": 14,
    "start_time": "2022-07-12T09:18:00.430Z"
   },
   {
    "duration": 27,
    "start_time": "2022-07-12T09:18:00.446Z"
   },
   {
    "duration": 46,
    "start_time": "2022-07-12T09:18:00.475Z"
   },
   {
    "duration": 832,
    "start_time": "2022-07-12T09:18:00.523Z"
   },
   {
    "duration": 4,
    "start_time": "2022-07-12T09:18:01.357Z"
   },
   {
    "duration": 38,
    "start_time": "2022-07-12T09:18:01.363Z"
   },
   {
    "duration": 24,
    "start_time": "2022-07-12T09:18:01.403Z"
   },
   {
    "duration": 28,
    "start_time": "2022-07-12T09:18:01.429Z"
   },
   {
    "duration": 17,
    "start_time": "2022-07-12T09:18:01.460Z"
   },
   {
    "duration": 43,
    "start_time": "2022-07-12T09:18:01.479Z"
   },
   {
    "duration": 21,
    "start_time": "2022-07-12T09:18:01.524Z"
   },
   {
    "duration": 35,
    "start_time": "2022-07-12T09:18:01.547Z"
   },
   {
    "duration": 24,
    "start_time": "2022-07-12T09:18:01.584Z"
   },
   {
    "duration": 664,
    "start_time": "2022-07-12T09:18:06.686Z"
   },
   {
    "duration": 20,
    "start_time": "2022-07-12T10:41:10.754Z"
   },
   {
    "duration": 5,
    "start_time": "2022-07-12T10:49:50.489Z"
   },
   {
    "duration": 10,
    "start_time": "2022-07-12T10:49:54.744Z"
   },
   {
    "duration": 3,
    "start_time": "2022-07-12T11:08:42.084Z"
   },
   {
    "duration": 6,
    "start_time": "2022-07-12T11:08:47.663Z"
   },
   {
    "duration": 24,
    "start_time": "2022-07-12T11:08:57.478Z"
   },
   {
    "duration": 30,
    "start_time": "2022-07-12T11:09:13.077Z"
   },
   {
    "duration": 30,
    "start_time": "2022-07-12T11:09:37.348Z"
   },
   {
    "duration": 242,
    "start_time": "2022-07-12T11:10:08.118Z"
   },
   {
    "duration": 15,
    "start_time": "2022-07-12T11:11:21.772Z"
   },
   {
    "duration": 12,
    "start_time": "2022-07-12T11:11:38.615Z"
   },
   {
    "duration": 576,
    "start_time": "2022-07-12T11:14:10.186Z"
   },
   {
    "duration": 14,
    "start_time": "2022-07-12T11:14:23.095Z"
   },
   {
    "duration": 15,
    "start_time": "2022-07-12T11:16:00.960Z"
   },
   {
    "duration": 15,
    "start_time": "2022-07-12T11:17:26.483Z"
   },
   {
    "duration": 16,
    "start_time": "2022-07-12T11:18:49.500Z"
   },
   {
    "duration": 13,
    "start_time": "2022-07-12T11:19:01.182Z"
   },
   {
    "duration": 20,
    "start_time": "2022-07-12T11:19:25.182Z"
   },
   {
    "duration": 23,
    "start_time": "2022-07-12T11:20:30.307Z"
   },
   {
    "duration": 6,
    "start_time": "2022-07-12T11:22:17.717Z"
   },
   {
    "duration": 14,
    "start_time": "2022-07-12T11:22:59.905Z"
   },
   {
    "duration": 20,
    "start_time": "2022-07-12T11:23:17.917Z"
   },
   {
    "duration": 14,
    "start_time": "2022-07-12T13:20:40.449Z"
   },
   {
    "duration": 57,
    "start_time": "2022-07-12T13:21:21.797Z"
   },
   {
    "duration": 12,
    "start_time": "2022-07-12T13:22:20.669Z"
   },
   {
    "duration": 26,
    "start_time": "2022-07-12T13:22:29.357Z"
   },
   {
    "duration": 105,
    "start_time": "2022-07-12T13:26:42.326Z"
   },
   {
    "duration": 14,
    "start_time": "2022-07-12T13:27:44.449Z"
   },
   {
    "duration": 7,
    "start_time": "2022-07-12T13:28:26.738Z"
   },
   {
    "duration": 7,
    "start_time": "2022-07-12T13:29:17.580Z"
   },
   {
    "duration": 15,
    "start_time": "2022-07-12T13:29:58.443Z"
   },
   {
    "duration": 7,
    "start_time": "2022-07-12T13:30:36.763Z"
   },
   {
    "duration": 55,
    "start_time": "2022-07-13T10:27:41.454Z"
   },
   {
    "duration": 1651,
    "start_time": "2022-07-13T10:27:47.406Z"
   },
   {
    "duration": 109,
    "start_time": "2022-07-13T10:27:49.059Z"
   },
   {
    "duration": 23,
    "start_time": "2022-07-13T10:27:49.171Z"
   },
   {
    "duration": 31,
    "start_time": "2022-07-13T10:27:49.197Z"
   },
   {
    "duration": 50,
    "start_time": "2022-07-13T10:27:49.230Z"
   },
   {
    "duration": 924,
    "start_time": "2022-07-13T10:27:49.281Z"
   },
   {
    "duration": 4,
    "start_time": "2022-07-13T10:27:50.207Z"
   },
   {
    "duration": 21,
    "start_time": "2022-07-13T10:27:50.213Z"
   },
   {
    "duration": 56,
    "start_time": "2022-07-13T10:27:50.236Z"
   },
   {
    "duration": 17,
    "start_time": "2022-07-13T10:27:50.294Z"
   },
   {
    "duration": 36,
    "start_time": "2022-07-13T10:27:50.313Z"
   },
   {
    "duration": 41,
    "start_time": "2022-07-13T10:27:50.354Z"
   },
   {
    "duration": 19,
    "start_time": "2022-07-13T10:27:50.397Z"
   },
   {
    "duration": 63,
    "start_time": "2022-07-13T10:27:50.417Z"
   },
   {
    "duration": 21,
    "start_time": "2022-07-13T10:27:50.482Z"
   },
   {
    "duration": 15,
    "start_time": "2022-07-13T10:27:50.505Z"
   },
   {
    "duration": 51,
    "start_time": "2022-07-13T10:27:50.521Z"
   },
   {
    "duration": 188,
    "start_time": "2022-07-13T10:27:53.970Z"
   },
   {
    "duration": 84,
    "start_time": "2022-07-13T10:37:34.086Z"
   },
   {
    "duration": 13,
    "start_time": "2022-07-13T10:46:04.192Z"
   },
   {
    "duration": 5,
    "start_time": "2022-07-13T10:47:14.083Z"
   },
   {
    "duration": 14,
    "start_time": "2022-07-13T10:47:32.961Z"
   },
   {
    "duration": 12,
    "start_time": "2022-07-13T10:47:41.156Z"
   },
   {
    "duration": 14,
    "start_time": "2022-07-13T10:49:49.530Z"
   },
   {
    "duration": 5,
    "start_time": "2022-07-13T10:51:06.784Z"
   },
   {
    "duration": 20,
    "start_time": "2022-07-13T10:52:12.240Z"
   },
   {
    "duration": 15,
    "start_time": "2022-07-13T10:52:42.783Z"
   },
   {
    "duration": 152,
    "start_time": "2022-07-13T11:21:53.614Z"
   },
   {
    "duration": 1465,
    "start_time": "2022-07-14T06:41:57.905Z"
   },
   {
    "duration": 189,
    "start_time": "2022-07-14T06:41:59.373Z"
   },
   {
    "duration": 17,
    "start_time": "2022-07-14T06:41:59.564Z"
   },
   {
    "duration": 29,
    "start_time": "2022-07-14T06:41:59.583Z"
   },
   {
    "duration": 40,
    "start_time": "2022-07-14T06:41:59.614Z"
   },
   {
    "duration": 862,
    "start_time": "2022-07-14T06:41:59.656Z"
   },
   {
    "duration": 4,
    "start_time": "2022-07-14T06:42:00.520Z"
   },
   {
    "duration": 34,
    "start_time": "2022-07-14T06:42:00.527Z"
   },
   {
    "duration": 18,
    "start_time": "2022-07-14T06:42:00.563Z"
   },
   {
    "duration": 31,
    "start_time": "2022-07-14T06:42:00.586Z"
   },
   {
    "duration": 21,
    "start_time": "2022-07-14T06:42:00.619Z"
   },
   {
    "duration": 37,
    "start_time": "2022-07-14T06:42:00.643Z"
   },
   {
    "duration": 25,
    "start_time": "2022-07-14T06:42:00.682Z"
   },
   {
    "duration": 26,
    "start_time": "2022-07-14T06:42:00.709Z"
   },
   {
    "duration": 23,
    "start_time": "2022-07-14T06:42:00.737Z"
   },
   {
    "duration": 13,
    "start_time": "2022-07-14T06:42:00.762Z"
   },
   {
    "duration": 20,
    "start_time": "2022-07-14T06:42:00.777Z"
   },
   {
    "duration": 123,
    "start_time": "2022-07-14T06:42:00.799Z"
   },
   {
    "duration": 187,
    "start_time": "2022-07-14T06:51:32.558Z"
   },
   {
    "duration": 135,
    "start_time": "2022-07-14T06:56:42.214Z"
   },
   {
    "duration": 9,
    "start_time": "2022-07-14T06:56:51.980Z"
   },
   {
    "duration": 344,
    "start_time": "2022-07-14T06:57:08.605Z"
   },
   {
    "duration": 13,
    "start_time": "2022-07-14T06:57:25.353Z"
   },
   {
    "duration": 19,
    "start_time": "2022-07-14T06:57:42.095Z"
   },
   {
    "duration": 607,
    "start_time": "2022-07-14T06:57:51.561Z"
   },
   {
    "duration": 156,
    "start_time": "2022-07-14T06:59:51.885Z"
   },
   {
    "duration": 13,
    "start_time": "2022-07-14T07:00:07.375Z"
   },
   {
    "duration": 317,
    "start_time": "2022-07-14T07:00:25.253Z"
   },
   {
    "duration": 362,
    "start_time": "2022-07-14T07:00:38.487Z"
   },
   {
    "duration": 7,
    "start_time": "2022-07-14T07:00:54.312Z"
   },
   {
    "duration": 348,
    "start_time": "2022-07-14T07:01:35.735Z"
   },
   {
    "duration": 333,
    "start_time": "2022-07-14T07:01:47.560Z"
   },
   {
    "duration": 523,
    "start_time": "2022-07-14T07:02:26.734Z"
   },
   {
    "duration": 55,
    "start_time": "2022-07-14T08:10:47.367Z"
   },
   {
    "duration": 1416,
    "start_time": "2022-07-14T08:10:54.961Z"
   },
   {
    "duration": 203,
    "start_time": "2022-07-14T08:10:56.379Z"
   },
   {
    "duration": 19,
    "start_time": "2022-07-14T08:10:56.584Z"
   },
   {
    "duration": 32,
    "start_time": "2022-07-14T08:10:56.605Z"
   },
   {
    "duration": 41,
    "start_time": "2022-07-14T08:10:56.639Z"
   },
   {
    "duration": 817,
    "start_time": "2022-07-14T08:10:56.682Z"
   },
   {
    "duration": 12,
    "start_time": "2022-07-14T08:10:57.504Z"
   },
   {
    "duration": 14,
    "start_time": "2022-07-14T08:10:57.519Z"
   },
   {
    "duration": 11,
    "start_time": "2022-07-14T08:10:57.535Z"
   },
   {
    "duration": 12,
    "start_time": "2022-07-14T08:10:57.548Z"
   },
   {
    "duration": 9,
    "start_time": "2022-07-14T08:10:57.561Z"
   },
   {
    "duration": 15,
    "start_time": "2022-07-14T08:10:57.571Z"
   },
   {
    "duration": 10,
    "start_time": "2022-07-14T08:10:57.606Z"
   },
   {
    "duration": 15,
    "start_time": "2022-07-14T08:10:57.620Z"
   },
   {
    "duration": 9,
    "start_time": "2022-07-14T08:10:57.637Z"
   },
   {
    "duration": 4,
    "start_time": "2022-07-14T08:10:57.648Z"
   },
   {
    "duration": 8,
    "start_time": "2022-07-14T08:10:57.653Z"
   },
   {
    "duration": 18,
    "start_time": "2022-07-14T08:10:57.663Z"
   },
   {
    "duration": 135,
    "start_time": "2022-07-14T08:10:57.683Z"
   },
   {
    "duration": 135,
    "start_time": "2022-07-14T08:10:57.820Z"
   },
   {
    "duration": 117,
    "start_time": "2022-07-14T08:10:57.957Z"
   },
   {
    "duration": 117,
    "start_time": "2022-07-14T08:11:56.102Z"
   },
   {
    "duration": 371,
    "start_time": "2022-07-14T08:12:05.936Z"
   },
   {
    "duration": 5,
    "start_time": "2022-07-14T08:12:28.301Z"
   },
   {
    "duration": 6,
    "start_time": "2022-07-14T08:12:38.044Z"
   },
   {
    "duration": 18,
    "start_time": "2022-07-14T08:13:16.943Z"
   },
   {
    "duration": 8,
    "start_time": "2022-07-14T08:13:24.166Z"
   },
   {
    "duration": 371,
    "start_time": "2022-07-14T08:14:52.361Z"
   },
   {
    "duration": 11,
    "start_time": "2022-07-14T08:28:14.930Z"
   },
   {
    "duration": 3561,
    "start_time": "2022-07-14T08:28:49.373Z"
   },
   {
    "duration": 13,
    "start_time": "2022-07-14T08:29:04.483Z"
   },
   {
    "duration": 5,
    "start_time": "2022-07-14T08:30:40.369Z"
   },
   {
    "duration": 63,
    "start_time": "2022-07-14T08:33:49.419Z"
   },
   {
    "duration": 661,
    "start_time": "2022-07-14T08:33:56.292Z"
   },
   {
    "duration": 498,
    "start_time": "2022-07-14T08:34:17.543Z"
   },
   {
    "duration": 11,
    "start_time": "2022-07-14T08:40:45.893Z"
   },
   {
    "duration": 7,
    "start_time": "2022-07-14T08:41:04.405Z"
   },
   {
    "duration": 128,
    "start_time": "2022-07-14T08:41:17.494Z"
   },
   {
    "duration": 269,
    "start_time": "2022-07-14T08:41:25.576Z"
   },
   {
    "duration": 112,
    "start_time": "2022-07-14T08:50:53.618Z"
   },
   {
    "duration": 270,
    "start_time": "2022-07-14T08:51:20.498Z"
   },
   {
    "duration": 32,
    "start_time": "2022-07-14T08:54:56.919Z"
   },
   {
    "duration": 3,
    "start_time": "2022-07-14T08:55:11.140Z"
   },
   {
    "duration": 242,
    "start_time": "2022-07-14T08:55:12.774Z"
   },
   {
    "duration": 278,
    "start_time": "2022-07-14T08:55:26.482Z"
   },
   {
    "duration": 260,
    "start_time": "2022-07-14T08:56:07.415Z"
   },
   {
    "duration": 231,
    "start_time": "2022-07-14T09:05:10.893Z"
   },
   {
    "duration": 301,
    "start_time": "2022-07-14T09:41:20.245Z"
   },
   {
    "duration": 435,
    "start_time": "2022-07-14T10:22:41.600Z"
   },
   {
    "duration": 205,
    "start_time": "2022-07-14T10:31:41.175Z"
   },
   {
    "duration": 12,
    "start_time": "2022-07-14T10:31:46.873Z"
   },
   {
    "duration": 242,
    "start_time": "2022-07-14T10:31:54.857Z"
   },
   {
    "duration": 14,
    "start_time": "2022-07-14T10:32:17.230Z"
   },
   {
    "duration": 98,
    "start_time": "2022-07-14T10:33:13.078Z"
   },
   {
    "duration": 92,
    "start_time": "2022-07-14T10:33:50.616Z"
   },
   {
    "duration": 539,
    "start_time": "2022-07-14T10:39:37.773Z"
   },
   {
    "duration": 506,
    "start_time": "2022-07-14T10:40:33.603Z"
   },
   {
    "duration": 702,
    "start_time": "2022-07-14T10:40:45.148Z"
   },
   {
    "duration": 144,
    "start_time": "2022-07-14T10:41:07.985Z"
   },
   {
    "duration": 537,
    "start_time": "2022-07-14T10:41:28.228Z"
   },
   {
    "duration": 516,
    "start_time": "2022-07-14T10:41:37.563Z"
   },
   {
    "duration": 543,
    "start_time": "2022-07-14T10:41:45.749Z"
   },
   {
    "duration": 854,
    "start_time": "2022-07-14T10:43:35.975Z"
   },
   {
    "duration": 532,
    "start_time": "2022-07-14T10:43:55.196Z"
   },
   {
    "duration": 164,
    "start_time": "2022-07-14T10:48:32.013Z"
   },
   {
    "duration": 218,
    "start_time": "2022-07-14T10:50:00.153Z"
   },
   {
    "duration": 180,
    "start_time": "2022-07-14T10:50:16.281Z"
   },
   {
    "duration": 194,
    "start_time": "2022-07-14T10:54:15.204Z"
   },
   {
    "duration": 310,
    "start_time": "2022-07-14T10:54:41.536Z"
   },
   {
    "duration": 161,
    "start_time": "2022-07-14T10:55:58.097Z"
   },
   {
    "duration": 124,
    "start_time": "2022-07-14T12:26:43.381Z"
   },
   {
    "duration": 360,
    "start_time": "2022-07-14T12:27:51.628Z"
   },
   {
    "duration": 244,
    "start_time": "2022-07-14T12:28:07.499Z"
   },
   {
    "duration": 221,
    "start_time": "2022-07-14T12:28:18.126Z"
   },
   {
    "duration": 200,
    "start_time": "2022-07-14T12:28:24.608Z"
   },
   {
    "duration": 198,
    "start_time": "2022-07-14T12:28:34.490Z"
   },
   {
    "duration": 241,
    "start_time": "2022-07-14T12:29:04.905Z"
   },
   {
    "duration": 212,
    "start_time": "2022-07-14T12:29:18.458Z"
   },
   {
    "duration": 617,
    "start_time": "2022-07-14T12:29:30.104Z"
   },
   {
    "duration": 223,
    "start_time": "2022-07-14T12:29:44.152Z"
   },
   {
    "duration": 32,
    "start_time": "2022-07-14T12:31:09.933Z"
   },
   {
    "duration": 223,
    "start_time": "2022-07-14T12:31:23.798Z"
   },
   {
    "duration": 219,
    "start_time": "2022-07-14T12:41:05.453Z"
   },
   {
    "duration": 781,
    "start_time": "2022-07-14T12:47:42.912Z"
   },
   {
    "duration": 637,
    "start_time": "2022-07-14T12:48:17.413Z"
   },
   {
    "duration": 251,
    "start_time": "2022-07-14T12:56:35.871Z"
   },
   {
    "duration": 240,
    "start_time": "2022-07-14T12:56:56.579Z"
   },
   {
    "duration": 194,
    "start_time": "2022-07-14T13:19:43.597Z"
   },
   {
    "duration": 183,
    "start_time": "2022-07-14T13:21:33.216Z"
   },
   {
    "duration": 3,
    "start_time": "2022-07-14T13:23:18.423Z"
   },
   {
    "duration": 224,
    "start_time": "2022-07-14T13:23:31.814Z"
   },
   {
    "duration": 19,
    "start_time": "2022-07-14T13:24:29.748Z"
   },
   {
    "duration": 216,
    "start_time": "2022-07-14T13:27:20.980Z"
   },
   {
    "duration": 20,
    "start_time": "2022-07-14T13:27:56.984Z"
   },
   {
    "duration": 28,
    "start_time": "2022-07-14T13:28:40.187Z"
   },
   {
    "duration": 19,
    "start_time": "2022-07-14T13:28:50.504Z"
   },
   {
    "duration": 224,
    "start_time": "2022-07-14T13:32:28.539Z"
   },
   {
    "duration": 18,
    "start_time": "2022-07-14T13:32:56.178Z"
   },
   {
    "duration": 19,
    "start_time": "2022-07-14T13:33:03.771Z"
   },
   {
    "duration": 193,
    "start_time": "2022-07-14T13:34:03.033Z"
   },
   {
    "duration": 21,
    "start_time": "2022-07-14T13:34:28.366Z"
   },
   {
    "duration": 217,
    "start_time": "2022-07-14T13:38:40.246Z"
   },
   {
    "duration": 207,
    "start_time": "2022-07-14T13:39:05.714Z"
   },
   {
    "duration": 211,
    "start_time": "2022-07-14T13:39:45.437Z"
   },
   {
    "duration": 222,
    "start_time": "2022-07-14T13:51:11.888Z"
   },
   {
    "duration": 18,
    "start_time": "2022-07-14T14:00:02.991Z"
   },
   {
    "duration": 20,
    "start_time": "2022-07-14T14:00:23.911Z"
   },
   {
    "duration": 20,
    "start_time": "2022-07-14T14:00:49.829Z"
   },
   {
    "duration": 20,
    "start_time": "2022-07-14T14:02:12.618Z"
   },
   {
    "duration": 21,
    "start_time": "2022-07-14T14:02:32.930Z"
   },
   {
    "duration": 19,
    "start_time": "2022-07-14T14:05:17.824Z"
   },
   {
    "duration": 79,
    "start_time": "2022-07-14T14:05:42.777Z"
   },
   {
    "duration": 51,
    "start_time": "2022-07-14T14:06:17.837Z"
   },
   {
    "duration": 99,
    "start_time": "2022-07-14T14:06:41.678Z"
   },
   {
    "duration": 71,
    "start_time": "2022-07-14T14:07:08.184Z"
   },
   {
    "duration": 166,
    "start_time": "2022-07-14T14:07:38.493Z"
   },
   {
    "duration": 140,
    "start_time": "2022-07-14T14:08:06.126Z"
   },
   {
    "duration": 77,
    "start_time": "2022-07-14T14:08:12.799Z"
   },
   {
    "duration": 73,
    "start_time": "2022-07-14T14:08:27.522Z"
   },
   {
    "duration": 726,
    "start_time": "2022-07-14T14:10:55.350Z"
   },
   {
    "duration": 90,
    "start_time": "2022-07-14T14:11:40.055Z"
   },
   {
    "duration": 82,
    "start_time": "2022-07-14T14:13:24.076Z"
   },
   {
    "duration": 643,
    "start_time": "2022-07-15T07:25:05.735Z"
   },
   {
    "duration": 28,
    "start_time": "2022-07-15T07:25:36.482Z"
   },
   {
    "duration": 205,
    "start_time": "2022-07-15T07:27:25.837Z"
   },
   {
    "duration": 162,
    "start_time": "2022-07-15T07:27:49.998Z"
   },
   {
    "duration": 192,
    "start_time": "2022-07-15T07:28:21.849Z"
   },
   {
    "duration": 424,
    "start_time": "2022-07-15T07:28:47.963Z"
   },
   {
    "duration": 196,
    "start_time": "2022-07-15T07:30:00.418Z"
   },
   {
    "duration": 7,
    "start_time": "2022-07-15T07:30:27.062Z"
   },
   {
    "duration": 589,
    "start_time": "2022-07-15T07:32:29.299Z"
   },
   {
    "duration": 49,
    "start_time": "2022-07-15T07:33:37.137Z"
   },
   {
    "duration": 37,
    "start_time": "2022-07-15T07:33:56.144Z"
   },
   {
    "duration": 88,
    "start_time": "2022-07-15T07:34:32.530Z"
   },
   {
    "duration": 541,
    "start_time": "2022-07-15T07:35:41.684Z"
   },
   {
    "duration": 522,
    "start_time": "2022-07-15T07:36:07.100Z"
   },
   {
    "duration": 141,
    "start_time": "2022-07-15T07:38:42.548Z"
   },
   {
    "duration": 533,
    "start_time": "2022-07-15T07:39:17.196Z"
   },
   {
    "duration": 713,
    "start_time": "2022-07-15T07:40:10.091Z"
   },
   {
    "duration": 759,
    "start_time": "2022-07-15T07:45:20.506Z"
   },
   {
    "duration": 993,
    "start_time": "2022-07-15T07:46:49.506Z"
   },
   {
    "duration": 736,
    "start_time": "2022-07-15T07:47:08.602Z"
   },
   {
    "duration": 10,
    "start_time": "2022-07-15T07:57:55.723Z"
   },
   {
    "duration": 4,
    "start_time": "2022-07-15T07:58:03.617Z"
   },
   {
    "duration": 4,
    "start_time": "2022-07-15T07:58:11.298Z"
   },
   {
    "duration": 972,
    "start_time": "2022-07-15T08:03:19.509Z"
   },
   {
    "duration": 447,
    "start_time": "2022-07-15T08:03:43.010Z"
   },
   {
    "duration": 82,
    "start_time": "2022-07-15T08:05:13.798Z"
   },
   {
    "duration": 670,
    "start_time": "2022-07-15T08:06:01.958Z"
   },
   {
    "duration": 719,
    "start_time": "2022-07-15T08:06:46.214Z"
   },
   {
    "duration": 229,
    "start_time": "2022-07-15T08:09:20.820Z"
   },
   {
    "duration": 95,
    "start_time": "2022-07-15T08:09:44.429Z"
   },
   {
    "duration": 85,
    "start_time": "2022-07-15T08:09:50.934Z"
   },
   {
    "duration": 97,
    "start_time": "2022-07-15T08:10:11.958Z"
   },
   {
    "duration": 658,
    "start_time": "2022-07-15T08:10:24.055Z"
   },
   {
    "duration": 7,
    "start_time": "2022-07-15T08:11:03.403Z"
   },
   {
    "duration": 3,
    "start_time": "2022-07-15T08:28:25.284Z"
   },
   {
    "duration": 437,
    "start_time": "2022-07-15T08:30:12.678Z"
   },
   {
    "duration": 363,
    "start_time": "2022-07-15T08:30:20.410Z"
   },
   {
    "duration": 1082,
    "start_time": "2022-07-15T08:31:29.951Z"
   },
   {
    "duration": 4,
    "start_time": "2022-07-15T08:32:20.450Z"
   },
   {
    "duration": 411,
    "start_time": "2022-07-15T08:32:22.914Z"
   },
   {
    "duration": 3,
    "start_time": "2022-07-15T08:32:41.157Z"
   },
   {
    "duration": 416,
    "start_time": "2022-07-15T08:32:43.908Z"
   },
   {
    "duration": 465,
    "start_time": "2022-07-15T08:33:54.091Z"
   },
   {
    "duration": 462,
    "start_time": "2022-07-15T08:34:15.283Z"
   },
   {
    "duration": 421,
    "start_time": "2022-07-15T08:43:08.218Z"
   },
   {
    "duration": 4,
    "start_time": "2022-07-15T08:44:00.647Z"
   },
   {
    "duration": 161,
    "start_time": "2022-07-15T08:44:03.974Z"
   },
   {
    "duration": 4,
    "start_time": "2022-07-15T08:44:26.140Z"
   },
   {
    "duration": 472,
    "start_time": "2022-07-15T08:44:29.441Z"
   },
   {
    "duration": 463,
    "start_time": "2022-07-15T08:44:38.955Z"
   },
   {
    "duration": 3,
    "start_time": "2022-07-15T08:45:01.843Z"
   },
   {
    "duration": 449,
    "start_time": "2022-07-15T08:45:04.602Z"
   },
   {
    "duration": 4,
    "start_time": "2022-07-15T08:48:19.226Z"
   },
   {
    "duration": 387,
    "start_time": "2022-07-15T08:48:45.720Z"
   },
   {
    "duration": 396,
    "start_time": "2022-07-15T08:48:53.412Z"
   },
   {
    "duration": 794,
    "start_time": "2022-07-15T09:18:47.696Z"
   },
   {
    "duration": 7,
    "start_time": "2022-07-15T10:46:24.485Z"
   },
   {
    "duration": 10,
    "start_time": "2022-07-15T10:47:50.338Z"
   },
   {
    "duration": 18,
    "start_time": "2022-07-15T10:48:12.005Z"
   },
   {
    "duration": 8,
    "start_time": "2022-07-15T10:49:26.731Z"
   },
   {
    "duration": 8,
    "start_time": "2022-07-15T10:49:28.621Z"
   },
   {
    "duration": 9,
    "start_time": "2022-07-15T10:49:57.473Z"
   },
   {
    "duration": 3,
    "start_time": "2022-07-15T10:50:01.711Z"
   },
   {
    "duration": 10,
    "start_time": "2022-07-15T10:50:06.865Z"
   },
   {
    "duration": 8,
    "start_time": "2022-07-15T10:50:31.744Z"
   },
   {
    "duration": 9,
    "start_time": "2022-07-15T10:50:38.493Z"
   },
   {
    "duration": 10,
    "start_time": "2022-07-15T10:56:30.329Z"
   },
   {
    "duration": 9,
    "start_time": "2022-07-15T10:56:51.138Z"
   },
   {
    "duration": 9,
    "start_time": "2022-07-15T10:59:29.373Z"
   },
   {
    "duration": 8,
    "start_time": "2022-07-15T14:13:20.367Z"
   },
   {
    "duration": 9,
    "start_time": "2022-07-15T14:13:26.063Z"
   },
   {
    "duration": 9,
    "start_time": "2022-07-15T14:13:30.950Z"
   },
   {
    "duration": 12,
    "start_time": "2022-07-15T14:37:00.201Z"
   },
   {
    "duration": 8,
    "start_time": "2022-07-15T14:38:05.675Z"
   },
   {
    "duration": 9,
    "start_time": "2022-07-15T14:39:31.300Z"
   },
   {
    "duration": 8,
    "start_time": "2022-07-15T14:42:48.690Z"
   },
   {
    "duration": 201,
    "start_time": "2022-07-15T15:16:25.089Z"
   },
   {
    "duration": 153,
    "start_time": "2022-07-15T15:17:18.376Z"
   },
   {
    "duration": 16,
    "start_time": "2022-07-15T15:17:28.544Z"
   },
   {
    "duration": 173,
    "start_time": "2022-07-15T15:20:47.379Z"
   },
   {
    "duration": 21,
    "start_time": "2022-07-15T15:21:31.589Z"
   },
   {
    "duration": 18,
    "start_time": "2022-07-15T15:24:23.875Z"
   },
   {
    "duration": 17,
    "start_time": "2022-07-15T15:24:44.917Z"
   },
   {
    "duration": 206,
    "start_time": "2022-07-15T15:26:44.775Z"
   },
   {
    "duration": 188,
    "start_time": "2022-07-15T15:27:10.423Z"
   },
   {
    "duration": 197,
    "start_time": "2022-07-15T15:29:31.137Z"
   },
   {
    "duration": 19,
    "start_time": "2022-07-15T15:30:09.903Z"
   },
   {
    "duration": 16,
    "start_time": "2022-07-15T15:30:57.743Z"
   },
   {
    "duration": 192,
    "start_time": "2022-07-15T15:32:58.516Z"
   },
   {
    "duration": 3,
    "start_time": "2022-07-15T15:47:13.549Z"
   },
   {
    "duration": 188,
    "start_time": "2022-07-15T15:47:13.559Z"
   },
   {
    "duration": 14,
    "start_time": "2022-07-15T15:47:13.749Z"
   },
   {
    "duration": 19,
    "start_time": "2022-07-15T15:47:13.764Z"
   },
   {
    "duration": 30,
    "start_time": "2022-07-15T15:47:13.785Z"
   },
   {
    "duration": 853,
    "start_time": "2022-07-15T15:47:13.816Z"
   },
   {
    "duration": 3,
    "start_time": "2022-07-15T15:47:14.670Z"
   },
   {
    "duration": 13,
    "start_time": "2022-07-15T15:47:14.674Z"
   },
   {
    "duration": 21,
    "start_time": "2022-07-15T15:47:14.689Z"
   },
   {
    "duration": 12,
    "start_time": "2022-07-15T15:47:14.711Z"
   },
   {
    "duration": 8,
    "start_time": "2022-07-15T15:47:14.725Z"
   },
   {
    "duration": 14,
    "start_time": "2022-07-15T15:47:14.735Z"
   },
   {
    "duration": 5,
    "start_time": "2022-07-15T15:47:45.129Z"
   },
   {
    "duration": 80,
    "start_time": "2022-07-16T02:46:36.022Z"
   },
   {
    "duration": 4,
    "start_time": "2022-07-16T05:45:13.685Z"
   },
   {
    "duration": 50,
    "start_time": "2022-07-16T05:45:13.697Z"
   },
   {
    "duration": 15,
    "start_time": "2022-07-16T05:45:13.749Z"
   },
   {
    "duration": 21,
    "start_time": "2022-07-16T05:45:13.766Z"
   },
   {
    "duration": 38,
    "start_time": "2022-07-16T05:45:13.790Z"
   },
   {
    "duration": 910,
    "start_time": "2022-07-16T05:45:13.830Z"
   },
   {
    "duration": 4,
    "start_time": "2022-07-16T05:45:14.743Z"
   },
   {
    "duration": 12,
    "start_time": "2022-07-16T05:45:14.749Z"
   },
   {
    "duration": 10,
    "start_time": "2022-07-16T05:45:14.763Z"
   },
   {
    "duration": 34,
    "start_time": "2022-07-16T05:45:14.775Z"
   },
   {
    "duration": 9,
    "start_time": "2022-07-16T05:45:14.811Z"
   },
   {
    "duration": 15,
    "start_time": "2022-07-16T05:45:14.822Z"
   },
   {
    "duration": 11,
    "start_time": "2022-07-16T05:45:14.838Z"
   },
   {
    "duration": 12,
    "start_time": "2022-07-16T05:45:22.721Z"
   },
   {
    "duration": 24,
    "start_time": "2022-07-16T05:46:04.365Z"
   },
   {
    "duration": 8,
    "start_time": "2022-07-16T05:47:21.875Z"
   },
   {
    "duration": 12,
    "start_time": "2022-07-16T05:47:25.618Z"
   },
   {
    "duration": 4,
    "start_time": "2022-07-16T05:57:54.406Z"
   },
   {
    "duration": 53,
    "start_time": "2022-07-16T05:57:54.420Z"
   },
   {
    "duration": 16,
    "start_time": "2022-07-16T05:57:54.475Z"
   },
   {
    "duration": 22,
    "start_time": "2022-07-16T05:57:54.493Z"
   },
   {
    "duration": 34,
    "start_time": "2022-07-16T05:57:54.518Z"
   },
   {
    "duration": 1001,
    "start_time": "2022-07-16T05:57:54.554Z"
   },
   {
    "duration": 3,
    "start_time": "2022-07-16T05:57:55.557Z"
   },
   {
    "duration": 59,
    "start_time": "2022-07-16T05:57:55.562Z"
   },
   {
    "duration": 52,
    "start_time": "2022-07-16T05:57:55.622Z"
   },
   {
    "duration": 16,
    "start_time": "2022-07-16T05:57:55.676Z"
   },
   {
    "duration": 22,
    "start_time": "2022-07-16T05:57:55.694Z"
   },
   {
    "duration": 28,
    "start_time": "2022-07-16T05:57:55.718Z"
   },
   {
    "duration": 10,
    "start_time": "2022-07-16T05:57:55.748Z"
   },
   {
    "duration": 19,
    "start_time": "2022-07-16T05:57:55.760Z"
   },
   {
    "duration": 33,
    "start_time": "2022-07-16T05:57:55.781Z"
   },
   {
    "duration": 11,
    "start_time": "2022-07-16T05:57:55.816Z"
   },
   {
    "duration": 18,
    "start_time": "2022-07-16T05:57:55.829Z"
   },
   {
    "duration": 14,
    "start_time": "2022-07-16T05:57:55.849Z"
   },
   {
    "duration": 33,
    "start_time": "2022-07-16T05:57:55.864Z"
   },
   {
    "duration": 16,
    "start_time": "2022-07-16T05:58:00.004Z"
   },
   {
    "duration": 399,
    "start_time": "2022-07-16T05:58:29.867Z"
   },
   {
    "duration": 3,
    "start_time": "2022-07-16T06:16:46.087Z"
   },
   {
    "duration": 48,
    "start_time": "2022-07-16T06:16:46.109Z"
   },
   {
    "duration": 14,
    "start_time": "2022-07-16T06:16:46.159Z"
   },
   {
    "duration": 20,
    "start_time": "2022-07-16T06:16:46.175Z"
   },
   {
    "duration": 30,
    "start_time": "2022-07-16T06:16:46.197Z"
   },
   {
    "duration": 949,
    "start_time": "2022-07-16T06:16:46.228Z"
   },
   {
    "duration": 4,
    "start_time": "2022-07-16T06:16:47.178Z"
   },
   {
    "duration": 13,
    "start_time": "2022-07-16T06:16:47.183Z"
   },
   {
    "duration": 10,
    "start_time": "2022-07-16T06:16:47.203Z"
   },
   {
    "duration": 17,
    "start_time": "2022-07-16T06:16:47.215Z"
   },
   {
    "duration": 11,
    "start_time": "2022-07-16T06:16:47.234Z"
   },
   {
    "duration": 13,
    "start_time": "2022-07-16T06:16:47.247Z"
   },
   {
    "duration": 8,
    "start_time": "2022-07-16T06:16:47.262Z"
   },
   {
    "duration": 33,
    "start_time": "2022-07-16T06:16:47.272Z"
   },
   {
    "duration": 15,
    "start_time": "2022-07-16T06:16:47.307Z"
   },
   {
    "duration": 6,
    "start_time": "2022-07-16T06:16:47.323Z"
   },
   {
    "duration": 3,
    "start_time": "2022-07-16T06:16:47.331Z"
   },
   {
    "duration": 7,
    "start_time": "2022-07-16T06:16:47.336Z"
   },
   {
    "duration": 17,
    "start_time": "2022-07-16T06:16:47.345Z"
   },
   {
    "duration": 648,
    "start_time": "2022-07-16T06:16:47.364Z"
   },
   {
    "duration": 324,
    "start_time": "2022-07-16T06:16:48.014Z"
   },
   {
    "duration": 2,
    "start_time": "2022-07-16T06:16:48.340Z"
   },
   {
    "duration": 272,
    "start_time": "2022-07-16T06:16:48.344Z"
   },
   {
    "duration": 340,
    "start_time": "2022-07-16T06:16:48.617Z"
   },
   {
    "duration": 208,
    "start_time": "2022-07-16T06:16:48.959Z"
   },
   {
    "duration": 7,
    "start_time": "2022-07-16T06:17:18.364Z"
   },
   {
    "duration": 12,
    "start_time": "2022-07-16T06:30:33.370Z"
   },
   {
    "duration": 189,
    "start_time": "2022-07-16T06:35:49.554Z"
   },
   {
    "duration": 17,
    "start_time": "2022-07-16T06:35:57.002Z"
   },
   {
    "duration": 11,
    "start_time": "2022-07-16T06:36:01.143Z"
   },
   {
    "duration": 194,
    "start_time": "2022-07-16T06:36:33.384Z"
   },
   {
    "duration": 11,
    "start_time": "2022-07-16T06:38:39.828Z"
   },
   {
    "duration": 185,
    "start_time": "2022-07-16T06:39:10.515Z"
   },
   {
    "duration": 11,
    "start_time": "2022-07-16T06:39:31.447Z"
   },
   {
    "duration": 182,
    "start_time": "2022-07-16T06:39:49.085Z"
   },
   {
    "duration": 12,
    "start_time": "2022-07-16T06:40:08.496Z"
   },
   {
    "duration": 182,
    "start_time": "2022-07-16T06:41:19.739Z"
   },
   {
    "duration": 12,
    "start_time": "2022-07-16T06:41:38.101Z"
   },
   {
    "duration": 209,
    "start_time": "2022-07-16T06:42:55.351Z"
   },
   {
    "duration": 12,
    "start_time": "2022-07-16T06:43:14.360Z"
   },
   {
    "duration": 202,
    "start_time": "2022-07-16T06:43:40.082Z"
   },
   {
    "duration": 11,
    "start_time": "2022-07-16T06:43:57.139Z"
   },
   {
    "duration": 203,
    "start_time": "2022-07-16T06:44:51.112Z"
   },
   {
    "duration": 11,
    "start_time": "2022-07-16T06:45:09.613Z"
   },
   {
    "duration": 201,
    "start_time": "2022-07-16T06:52:55.187Z"
   },
   {
    "duration": 49,
    "start_time": "2022-07-16T06:58:03.056Z"
   },
   {
    "duration": 47,
    "start_time": "2022-07-16T07:01:49.477Z"
   },
   {
    "duration": 57,
    "start_time": "2022-07-16T07:02:25.354Z"
   },
   {
    "duration": 7,
    "start_time": "2022-07-16T07:03:10.707Z"
   },
   {
    "duration": 4,
    "start_time": "2022-07-16T07:03:54.638Z"
   },
   {
    "duration": 555,
    "start_time": "2022-07-16T07:03:59.985Z"
   },
   {
    "duration": 10,
    "start_time": "2022-07-16T07:05:42.752Z"
   },
   {
    "duration": 10,
    "start_time": "2022-07-16T07:06:33.558Z"
   },
   {
    "duration": 6,
    "start_time": "2022-07-16T07:06:54.859Z"
   },
   {
    "duration": 7,
    "start_time": "2022-07-16T07:07:17.451Z"
   },
   {
    "duration": 7,
    "start_time": "2022-07-16T07:14:43.299Z"
   },
   {
    "duration": 7,
    "start_time": "2022-07-16T07:15:19.806Z"
   },
   {
    "duration": 6,
    "start_time": "2022-07-16T07:15:33.731Z"
   },
   {
    "duration": 6,
    "start_time": "2022-07-16T07:16:04.054Z"
   },
   {
    "duration": 6,
    "start_time": "2022-07-16T07:16:14.530Z"
   },
   {
    "duration": 12,
    "start_time": "2022-07-16T07:17:55.163Z"
   },
   {
    "duration": 6,
    "start_time": "2022-07-16T07:19:10.355Z"
   },
   {
    "duration": 11,
    "start_time": "2022-07-16T07:20:25.667Z"
   },
   {
    "duration": 6,
    "start_time": "2022-07-16T07:20:48.701Z"
   },
   {
    "duration": 5,
    "start_time": "2022-07-16T07:24:19.686Z"
   },
   {
    "duration": 5,
    "start_time": "2022-07-16T07:24:39.032Z"
   },
   {
    "duration": 6,
    "start_time": "2022-07-16T07:25:49.249Z"
   },
   {
    "duration": 7,
    "start_time": "2022-07-16T07:30:12.338Z"
   },
   {
    "duration": 10,
    "start_time": "2022-07-16T09:07:05.569Z"
   },
   {
    "duration": 3,
    "start_time": "2022-07-16T12:55:21.141Z"
   },
   {
    "duration": 6,
    "start_time": "2022-07-16T12:55:49.901Z"
   },
   {
    "duration": 4,
    "start_time": "2022-07-16T12:55:58.047Z"
   },
   {
    "duration": 552,
    "start_time": "2022-07-16T13:04:30.823Z"
   },
   {
    "duration": 177,
    "start_time": "2022-07-16T13:07:07.353Z"
   },
   {
    "duration": 531,
    "start_time": "2022-07-16T13:07:46.691Z"
   },
   {
    "duration": 507,
    "start_time": "2022-07-16T13:08:03.745Z"
   },
   {
    "duration": 96,
    "start_time": "2022-07-16T13:09:20.946Z"
   },
   {
    "duration": 78,
    "start_time": "2022-07-16T13:09:41.208Z"
   },
   {
    "duration": 185,
    "start_time": "2022-07-16T13:10:08.967Z"
   },
   {
    "duration": 16,
    "start_time": "2022-07-16T13:13:47.774Z"
   },
   {
    "duration": 19,
    "start_time": "2022-07-16T13:15:38.464Z"
   },
   {
    "duration": 34,
    "start_time": "2022-07-16T13:16:15.516Z"
   },
   {
    "duration": 52,
    "start_time": "2022-07-16T13:16:30.622Z"
   },
   {
    "duration": 45,
    "start_time": "2022-07-16T13:18:23.299Z"
   },
   {
    "duration": 29,
    "start_time": "2022-07-16T13:25:33.761Z"
   },
   {
    "duration": 25,
    "start_time": "2022-07-16T13:27:14.154Z"
   },
   {
    "duration": 27,
    "start_time": "2022-07-16T13:28:03.414Z"
   },
   {
    "duration": 37,
    "start_time": "2022-07-16T13:28:17.789Z"
   },
   {
    "duration": 22,
    "start_time": "2022-07-16T13:28:51.856Z"
   },
   {
    "duration": 18,
    "start_time": "2022-07-16T13:38:27.811Z"
   },
   {
    "duration": 28,
    "start_time": "2022-07-16T13:38:57.457Z"
   },
   {
    "duration": 968,
    "start_time": "2022-07-16T13:48:40.499Z"
   },
   {
    "duration": 748,
    "start_time": "2022-07-16T13:49:00.259Z"
   },
   {
    "duration": 39,
    "start_time": "2022-07-16T13:49:58.415Z"
   },
   {
    "duration": 66,
    "start_time": "2022-07-16T13:50:08.862Z"
   },
   {
    "duration": 64,
    "start_time": "2022-07-16T13:50:38.597Z"
   },
   {
    "duration": 3,
    "start_time": "2022-07-16T14:25:37.156Z"
   },
   {
    "duration": 558,
    "start_time": "2022-07-16T14:25:40.296Z"
   },
   {
    "duration": 823,
    "start_time": "2022-07-16T14:27:43.739Z"
   },
   {
    "duration": 3,
    "start_time": "2022-07-16T14:32:53.199Z"
   },
   {
    "duration": 52,
    "start_time": "2022-07-16T14:32:53.217Z"
   },
   {
    "duration": 16,
    "start_time": "2022-07-16T14:32:53.271Z"
   },
   {
    "duration": 20,
    "start_time": "2022-07-16T14:32:53.288Z"
   },
   {
    "duration": 31,
    "start_time": "2022-07-16T14:32:53.310Z"
   },
   {
    "duration": 1050,
    "start_time": "2022-07-16T14:32:53.343Z"
   },
   {
    "duration": 9,
    "start_time": "2022-07-16T14:32:54.395Z"
   },
   {
    "duration": 32,
    "start_time": "2022-07-16T14:32:54.407Z"
   },
   {
    "duration": 26,
    "start_time": "2022-07-16T14:32:54.441Z"
   },
   {
    "duration": 15,
    "start_time": "2022-07-16T14:32:54.468Z"
   },
   {
    "duration": 11,
    "start_time": "2022-07-16T14:32:54.485Z"
   },
   {
    "duration": 18,
    "start_time": "2022-07-16T14:32:54.497Z"
   },
   {
    "duration": 12,
    "start_time": "2022-07-16T14:32:54.516Z"
   },
   {
    "duration": 13,
    "start_time": "2022-07-16T14:32:54.530Z"
   },
   {
    "duration": 19,
    "start_time": "2022-07-16T14:32:54.545Z"
   },
   {
    "duration": 8,
    "start_time": "2022-07-16T14:32:54.567Z"
   },
   {
    "duration": 8,
    "start_time": "2022-07-16T14:32:54.576Z"
   },
   {
    "duration": 5,
    "start_time": "2022-07-16T14:32:54.605Z"
   },
   {
    "duration": 21,
    "start_time": "2022-07-16T14:32:54.612Z"
   },
   {
    "duration": 429,
    "start_time": "2022-07-16T14:32:54.634Z"
   },
   {
    "duration": 382,
    "start_time": "2022-07-16T14:32:55.065Z"
   },
   {
    "duration": 3,
    "start_time": "2022-07-16T14:32:55.449Z"
   },
   {
    "duration": 356,
    "start_time": "2022-07-16T14:32:55.454Z"
   },
   {
    "duration": 397,
    "start_time": "2022-07-16T14:32:55.811Z"
   },
   {
    "duration": 241,
    "start_time": "2022-07-16T14:32:56.211Z"
   },
   {
    "duration": 7,
    "start_time": "2022-07-16T14:32:56.454Z"
   },
   {
    "duration": 312,
    "start_time": "2022-07-16T14:32:56.463Z"
   },
   {
    "duration": 32,
    "start_time": "2022-07-16T14:32:56.777Z"
   },
   {
    "duration": 14,
    "start_time": "2022-07-16T14:32:56.811Z"
   },
   {
    "duration": 253,
    "start_time": "2022-07-16T14:32:56.828Z"
   },
   {
    "duration": 14,
    "start_time": "2022-07-16T14:32:57.082Z"
   },
   {
    "duration": 280,
    "start_time": "2022-07-16T14:32:57.105Z"
   },
   {
    "duration": 20,
    "start_time": "2022-07-16T14:32:57.387Z"
   },
   {
    "duration": 229,
    "start_time": "2022-07-16T14:32:57.409Z"
   },
   {
    "duration": 12,
    "start_time": "2022-07-16T14:32:57.641Z"
   },
   {
    "duration": 210,
    "start_time": "2022-07-16T14:32:57.655Z"
   },
   {
    "duration": 12,
    "start_time": "2022-07-16T14:32:57.867Z"
   },
   {
    "duration": 200,
    "start_time": "2022-07-16T14:32:57.881Z"
   },
   {
    "duration": 22,
    "start_time": "2022-07-16T14:32:58.083Z"
   },
   {
    "duration": 215,
    "start_time": "2022-07-16T14:32:58.110Z"
   },
   {
    "duration": 11,
    "start_time": "2022-07-16T14:32:58.327Z"
   },
   {
    "duration": 228,
    "start_time": "2022-07-16T14:32:58.340Z"
   },
   {
    "duration": 14,
    "start_time": "2022-07-16T14:32:58.571Z"
   },
   {
    "duration": 218,
    "start_time": "2022-07-16T14:32:58.586Z"
   },
   {
    "duration": 49,
    "start_time": "2022-07-16T14:32:58.805Z"
   },
   {
    "duration": 77,
    "start_time": "2022-07-16T14:32:58.855Z"
   },
   {
    "duration": 5,
    "start_time": "2022-07-16T14:32:58.933Z"
   },
   {
    "duration": 6,
    "start_time": "2022-07-16T14:33:14.771Z"
   },
   {
    "duration": 4,
    "start_time": "2022-07-16T14:33:34.038Z"
   },
   {
    "duration": 16,
    "start_time": "2022-07-17T07:59:22.315Z"
   },
   {
    "duration": 14,
    "start_time": "2022-07-17T07:59:38.604Z"
   },
   {
    "duration": 360,
    "start_time": "2022-07-17T08:02:58.171Z"
   },
   {
    "duration": 31,
    "start_time": "2022-07-17T08:03:55.175Z"
   },
   {
    "duration": 378,
    "start_time": "2022-07-17T08:04:21.451Z"
   },
   {
    "duration": 395,
    "start_time": "2022-07-17T08:07:24.767Z"
   },
   {
    "duration": 145,
    "start_time": "2022-07-17T08:09:25.429Z"
   },
   {
    "duration": 431,
    "start_time": "2022-07-17T08:09:40.957Z"
   },
   {
    "duration": 498,
    "start_time": "2022-07-17T08:10:46.376Z"
   },
   {
    "duration": 66,
    "start_time": "2022-07-17T08:11:54.005Z"
   },
   {
    "duration": 562,
    "start_time": "2022-07-17T08:12:07.773Z"
   },
   {
    "duration": 84,
    "start_time": "2022-07-17T08:16:12.054Z"
   },
   {
    "duration": 44,
    "start_time": "2022-07-17T08:17:03.317Z"
   },
   {
    "duration": 13,
    "start_time": "2022-07-17T08:19:33.949Z"
   },
   {
    "duration": 31,
    "start_time": "2022-07-17T08:24:28.811Z"
   },
   {
    "duration": 11,
    "start_time": "2022-07-17T08:32:40.096Z"
   },
   {
    "duration": 1594,
    "start_time": "2022-07-17T08:32:51.995Z"
   },
   {
    "duration": 4,
    "start_time": "2022-07-17T08:33:55.892Z"
   },
   {
    "duration": 53,
    "start_time": "2022-07-17T08:33:55.911Z"
   },
   {
    "duration": 16,
    "start_time": "2022-07-17T08:33:55.967Z"
   },
   {
    "duration": 29,
    "start_time": "2022-07-17T08:33:55.985Z"
   },
   {
    "duration": 36,
    "start_time": "2022-07-17T08:33:56.017Z"
   },
   {
    "duration": 1131,
    "start_time": "2022-07-17T08:33:56.055Z"
   },
   {
    "duration": 4,
    "start_time": "2022-07-17T08:33:57.187Z"
   },
   {
    "duration": 10,
    "start_time": "2022-07-17T08:33:57.203Z"
   },
   {
    "duration": 11,
    "start_time": "2022-07-17T08:33:57.215Z"
   },
   {
    "duration": 13,
    "start_time": "2022-07-17T08:33:57.228Z"
   },
   {
    "duration": 17,
    "start_time": "2022-07-17T08:33:57.243Z"
   },
   {
    "duration": 43,
    "start_time": "2022-07-17T08:33:57.263Z"
   },
   {
    "duration": 7,
    "start_time": "2022-07-17T08:33:57.308Z"
   },
   {
    "duration": 10,
    "start_time": "2022-07-17T08:33:57.317Z"
   },
   {
    "duration": 15,
    "start_time": "2022-07-17T08:33:57.329Z"
   },
   {
    "duration": 12,
    "start_time": "2022-07-17T08:33:57.347Z"
   },
   {
    "duration": 4,
    "start_time": "2022-07-17T08:33:57.361Z"
   },
   {
    "duration": 9,
    "start_time": "2022-07-17T08:33:57.367Z"
   },
   {
    "duration": 18,
    "start_time": "2022-07-17T08:33:57.404Z"
   },
   {
    "duration": 424,
    "start_time": "2022-07-17T08:34:28.418Z"
   },
   {
    "duration": 54,
    "start_time": "2022-07-17T08:37:56.366Z"
   },
   {
    "duration": 1279,
    "start_time": "2022-07-17T08:37:57.969Z"
   },
   {
    "duration": 75,
    "start_time": "2022-07-17T08:39:53.296Z"
   },
   {
    "duration": 446,
    "start_time": "2022-07-17T08:40:05.983Z"
   },
   {
    "duration": 404,
    "start_time": "2022-07-17T08:40:34.651Z"
   },
   {
    "duration": 31,
    "start_time": "2022-07-17T08:44:36.983Z"
   },
   {
    "duration": 1290,
    "start_time": "2022-07-17T08:45:16.801Z"
   },
   {
    "duration": 21,
    "start_time": "2022-07-17T08:48:59.847Z"
   },
   {
    "duration": 1251,
    "start_time": "2022-07-17T08:49:13.360Z"
   },
   {
    "duration": 5,
    "start_time": "2022-07-17T09:01:54.100Z"
   },
   {
    "duration": 13,
    "start_time": "2022-07-17T09:02:29.988Z"
   },
   {
    "duration": 24,
    "start_time": "2022-07-17T09:02:36.654Z"
   },
   {
    "duration": 33,
    "start_time": "2022-07-17T09:04:51.797Z"
   },
   {
    "duration": 88,
    "start_time": "2022-07-17T09:06:57.784Z"
   },
   {
    "duration": 76,
    "start_time": "2022-07-17T09:07:05.218Z"
   },
   {
    "duration": 28,
    "start_time": "2022-07-17T09:07:35.465Z"
   },
   {
    "duration": 578,
    "start_time": "2022-07-17T09:11:12.374Z"
   },
   {
    "duration": 645,
    "start_time": "2022-07-17T09:11:29.963Z"
   },
   {
    "duration": 34,
    "start_time": "2022-07-17T09:12:41.018Z"
   },
   {
    "duration": 24,
    "start_time": "2022-07-17T09:13:07.862Z"
   },
   {
    "duration": 413,
    "start_time": "2022-07-17T09:13:22.922Z"
   },
   {
    "duration": 25,
    "start_time": "2022-07-17T09:14:59.260Z"
   },
   {
    "duration": 1417,
    "start_time": "2022-07-17T09:17:21.974Z"
   },
   {
    "duration": 33,
    "start_time": "2022-07-17T09:17:37.104Z"
   },
   {
    "duration": 555,
    "start_time": "2022-07-17T09:17:44.313Z"
   },
   {
    "duration": 35,
    "start_time": "2022-07-17T10:38:10.498Z"
   },
   {
    "duration": 1027,
    "start_time": "2022-07-17T10:38:14.792Z"
   },
   {
    "duration": 4,
    "start_time": "2022-07-17T10:53:10.281Z"
   },
   {
    "duration": 64,
    "start_time": "2022-07-17T10:53:10.296Z"
   },
   {
    "duration": 16,
    "start_time": "2022-07-17T10:53:10.362Z"
   },
   {
    "duration": 50,
    "start_time": "2022-07-17T10:53:10.380Z"
   },
   {
    "duration": 55,
    "start_time": "2022-07-17T10:53:10.432Z"
   },
   {
    "duration": 1029,
    "start_time": "2022-07-17T10:53:10.489Z"
   },
   {
    "duration": 4,
    "start_time": "2022-07-17T10:53:11.520Z"
   },
   {
    "duration": 29,
    "start_time": "2022-07-17T10:53:11.527Z"
   },
   {
    "duration": 15,
    "start_time": "2022-07-17T10:53:11.558Z"
   },
   {
    "duration": 34,
    "start_time": "2022-07-17T10:53:11.576Z"
   },
   {
    "duration": 11,
    "start_time": "2022-07-17T10:53:11.613Z"
   },
   {
    "duration": 22,
    "start_time": "2022-07-17T10:53:11.625Z"
   },
   {
    "duration": 19,
    "start_time": "2022-07-17T10:53:11.649Z"
   },
   {
    "duration": 12,
    "start_time": "2022-07-17T10:53:11.670Z"
   },
   {
    "duration": 35,
    "start_time": "2022-07-17T10:53:11.684Z"
   },
   {
    "duration": 9,
    "start_time": "2022-07-17T10:53:11.722Z"
   },
   {
    "duration": 11,
    "start_time": "2022-07-17T10:53:11.733Z"
   },
   {
    "duration": 16,
    "start_time": "2022-07-17T10:53:11.746Z"
   },
   {
    "duration": 43,
    "start_time": "2022-07-17T10:53:11.764Z"
   },
   {
    "duration": 27,
    "start_time": "2022-07-17T10:53:18.625Z"
   },
   {
    "duration": 36,
    "start_time": "2022-07-17T10:53:32.140Z"
   },
   {
    "duration": 25,
    "start_time": "2022-07-17T10:53:35.505Z"
   },
   {
    "duration": 57,
    "start_time": "2022-07-17T11:02:42.878Z"
   },
   {
    "duration": 1542,
    "start_time": "2022-07-17T11:02:44.562Z"
   },
   {
    "duration": 80,
    "start_time": "2022-07-17T11:17:36.048Z"
   },
   {
    "duration": 32,
    "start_time": "2022-07-17T11:18:36.081Z"
   },
   {
    "duration": 563,
    "start_time": "2022-07-17T11:18:40.746Z"
   },
   {
    "duration": 26,
    "start_time": "2022-07-17T11:25:19.825Z"
   },
   {
    "duration": 13,
    "start_time": "2022-07-17T11:26:07.623Z"
   },
   {
    "duration": 9,
    "start_time": "2022-07-17T11:26:17.660Z"
   },
   {
    "duration": 12,
    "start_time": "2022-07-17T11:27:14.123Z"
   },
   {
    "duration": 1375,
    "start_time": "2022-07-18T02:00:24.552Z"
   },
   {
    "duration": 107,
    "start_time": "2022-07-18T02:00:25.930Z"
   },
   {
    "duration": 16,
    "start_time": "2022-07-18T02:00:26.038Z"
   },
   {
    "duration": 29,
    "start_time": "2022-07-18T02:00:26.056Z"
   },
   {
    "duration": 50,
    "start_time": "2022-07-18T02:00:26.086Z"
   },
   {
    "duration": 792,
    "start_time": "2022-07-18T02:00:26.138Z"
   },
   {
    "duration": 4,
    "start_time": "2022-07-18T02:00:26.931Z"
   },
   {
    "duration": 21,
    "start_time": "2022-07-18T02:00:26.936Z"
   },
   {
    "duration": 16,
    "start_time": "2022-07-18T02:00:26.960Z"
   },
   {
    "duration": 14,
    "start_time": "2022-07-18T02:00:26.979Z"
   },
   {
    "duration": 30,
    "start_time": "2022-07-18T02:00:26.995Z"
   },
   {
    "duration": 24,
    "start_time": "2022-07-18T02:00:27.031Z"
   },
   {
    "duration": 11,
    "start_time": "2022-07-18T02:00:27.058Z"
   },
   {
    "duration": 14,
    "start_time": "2022-07-18T02:00:27.071Z"
   },
   {
    "duration": 44,
    "start_time": "2022-07-18T02:00:27.088Z"
   },
   {
    "duration": 7,
    "start_time": "2022-07-18T02:00:27.137Z"
   },
   {
    "duration": 16,
    "start_time": "2022-07-18T02:00:27.146Z"
   },
   {
    "duration": 12,
    "start_time": "2022-07-18T02:00:27.164Z"
   },
   {
    "duration": 19,
    "start_time": "2022-07-18T02:00:27.178Z"
   },
   {
    "duration": 77,
    "start_time": "2022-07-18T02:00:27.199Z"
   },
   {
    "duration": 1028,
    "start_time": "2022-07-18T02:00:27.278Z"
   },
   {
    "duration": 969,
    "start_time": "2022-07-18T02:00:28.309Z"
   },
   {
    "duration": 42,
    "start_time": "2022-07-18T02:00:29.280Z"
   },
   {
    "duration": 4,
    "start_time": "2022-07-18T02:00:29.325Z"
   },
   {
    "duration": 469,
    "start_time": "2022-07-18T02:00:29.331Z"
   },
   {
    "duration": 319,
    "start_time": "2022-07-18T02:00:29.802Z"
   },
   {
    "duration": 273,
    "start_time": "2022-07-18T02:00:30.126Z"
   },
   {
    "duration": 6,
    "start_time": "2022-07-18T02:00:30.410Z"
   },
   {
    "duration": 304,
    "start_time": "2022-07-18T02:00:30.418Z"
   },
   {
    "duration": 349,
    "start_time": "2022-07-18T02:00:30.728Z"
   },
   {
    "duration": 323,
    "start_time": "2022-07-18T02:00:31.079Z"
   },
   {
    "duration": 8,
    "start_time": "2022-07-18T02:00:31.411Z"
   },
   {
    "duration": 339,
    "start_time": "2022-07-18T02:00:31.420Z"
   },
   {
    "duration": 0,
    "start_time": "2022-07-18T02:00:31.761Z"
   },
   {
    "duration": 0,
    "start_time": "2022-07-18T02:00:31.763Z"
   },
   {
    "duration": 0,
    "start_time": "2022-07-18T02:00:31.764Z"
   },
   {
    "duration": 0,
    "start_time": "2022-07-18T02:00:31.765Z"
   },
   {
    "duration": 0,
    "start_time": "2022-07-18T02:00:31.767Z"
   },
   {
    "duration": 0,
    "start_time": "2022-07-18T02:00:31.768Z"
   },
   {
    "duration": 0,
    "start_time": "2022-07-18T02:00:31.769Z"
   },
   {
    "duration": 0,
    "start_time": "2022-07-18T02:00:31.771Z"
   },
   {
    "duration": 0,
    "start_time": "2022-07-18T02:00:31.773Z"
   },
   {
    "duration": 0,
    "start_time": "2022-07-18T02:00:31.774Z"
   },
   {
    "duration": 0,
    "start_time": "2022-07-18T02:00:31.775Z"
   },
   {
    "duration": 0,
    "start_time": "2022-07-18T02:00:31.777Z"
   },
   {
    "duration": 0,
    "start_time": "2022-07-18T02:00:31.779Z"
   },
   {
    "duration": 0,
    "start_time": "2022-07-18T02:00:31.810Z"
   },
   {
    "duration": 0,
    "start_time": "2022-07-18T02:00:31.811Z"
   },
   {
    "duration": 0,
    "start_time": "2022-07-18T02:00:31.812Z"
   },
   {
    "duration": 0,
    "start_time": "2022-07-18T02:00:31.813Z"
   },
   {
    "duration": 0,
    "start_time": "2022-07-18T02:00:31.813Z"
   },
   {
    "duration": 1,
    "start_time": "2022-07-18T02:00:31.814Z"
   },
   {
    "duration": 0,
    "start_time": "2022-07-18T02:00:31.818Z"
   },
   {
    "duration": 0,
    "start_time": "2022-07-18T02:00:31.819Z"
   },
   {
    "duration": 0,
    "start_time": "2022-07-18T02:00:31.820Z"
   },
   {
    "duration": 0,
    "start_time": "2022-07-18T02:00:31.823Z"
   },
   {
    "duration": 0,
    "start_time": "2022-07-18T02:00:31.824Z"
   },
   {
    "duration": 0,
    "start_time": "2022-07-18T02:00:31.827Z"
   },
   {
    "duration": 0,
    "start_time": "2022-07-18T02:00:31.828Z"
   },
   {
    "duration": 0,
    "start_time": "2022-07-18T02:00:31.829Z"
   },
   {
    "duration": 1,
    "start_time": "2022-07-18T02:00:31.829Z"
   },
   {
    "duration": 0,
    "start_time": "2022-07-18T02:00:31.830Z"
   },
   {
    "duration": 13,
    "start_time": "2022-07-18T02:00:41.041Z"
   },
   {
    "duration": 12,
    "start_time": "2022-07-18T02:00:48.051Z"
   },
   {
    "duration": 21,
    "start_time": "2022-07-18T02:03:16.785Z"
   },
   {
    "duration": 30,
    "start_time": "2022-07-18T02:03:42.500Z"
   },
   {
    "duration": 14,
    "start_time": "2022-07-18T02:04:47.225Z"
   },
   {
    "duration": 27,
    "start_time": "2022-07-18T02:04:54.253Z"
   },
   {
    "duration": 48,
    "start_time": "2022-07-18T02:07:42.947Z"
   },
   {
    "duration": 90,
    "start_time": "2022-07-18T02:09:03.290Z"
   },
   {
    "duration": 17,
    "start_time": "2022-07-18T02:09:05.972Z"
   },
   {
    "duration": 5,
    "start_time": "2022-07-18T02:10:27.228Z"
   },
   {
    "duration": 14,
    "start_time": "2022-07-18T02:17:28.044Z"
   },
   {
    "duration": 18,
    "start_time": "2022-07-18T02:17:40.772Z"
   },
   {
    "duration": 27,
    "start_time": "2022-07-18T02:18:11.203Z"
   },
   {
    "duration": 17,
    "start_time": "2022-07-18T02:18:16.434Z"
   },
   {
    "duration": 13,
    "start_time": "2022-07-18T02:18:57.369Z"
   },
   {
    "duration": 23,
    "start_time": "2022-07-18T02:19:27.299Z"
   },
   {
    "duration": 17,
    "start_time": "2022-07-18T02:19:35.328Z"
   },
   {
    "duration": 19,
    "start_time": "2022-07-18T02:20:02.838Z"
   },
   {
    "duration": 14,
    "start_time": "2022-07-18T02:20:07.050Z"
   },
   {
    "duration": 18,
    "start_time": "2022-07-18T02:20:09.944Z"
   },
   {
    "duration": 18,
    "start_time": "2022-07-18T02:20:13.923Z"
   },
   {
    "duration": 40,
    "start_time": "2022-07-18T02:21:18.031Z"
   },
   {
    "duration": 27,
    "start_time": "2022-07-18T02:21:22.880Z"
   },
   {
    "duration": 27,
    "start_time": "2022-07-18T02:21:31.350Z"
   },
   {
    "duration": 25,
    "start_time": "2022-07-18T02:21:53.927Z"
   },
   {
    "duration": 17,
    "start_time": "2022-07-18T02:27:24.178Z"
   },
   {
    "duration": 24,
    "start_time": "2022-07-18T02:27:30.489Z"
   },
   {
    "duration": 19,
    "start_time": "2022-07-18T02:27:41.837Z"
   },
   {
    "duration": 24,
    "start_time": "2022-07-18T02:27:46.690Z"
   },
   {
    "duration": 16,
    "start_time": "2022-07-18T02:28:03.655Z"
   },
   {
    "duration": 20,
    "start_time": "2022-07-18T02:28:08.779Z"
   },
   {
    "duration": 21,
    "start_time": "2022-07-18T02:28:15.375Z"
   },
   {
    "duration": 24,
    "start_time": "2022-07-18T02:28:19.309Z"
   },
   {
    "duration": 18,
    "start_time": "2022-07-18T02:28:43.085Z"
   },
   {
    "duration": 31,
    "start_time": "2022-07-18T02:28:47.714Z"
   },
   {
    "duration": 20,
    "start_time": "2022-07-18T02:29:45.181Z"
   },
   {
    "duration": 22,
    "start_time": "2022-07-18T02:31:54.133Z"
   },
   {
    "duration": 22,
    "start_time": "2022-07-18T02:34:21.504Z"
   },
   {
    "duration": 9,
    "start_time": "2022-07-18T02:34:30.005Z"
   },
   {
    "duration": 5,
    "start_time": "2022-07-18T02:34:33.547Z"
   },
   {
    "duration": 18,
    "start_time": "2022-07-18T02:34:33.554Z"
   },
   {
    "duration": 9,
    "start_time": "2022-07-18T02:34:33.574Z"
   },
   {
    "duration": 199,
    "start_time": "2022-07-18T02:34:33.586Z"
   },
   {
    "duration": 11,
    "start_time": "2022-07-18T02:34:33.787Z"
   },
   {
    "duration": 219,
    "start_time": "2022-07-18T02:34:33.799Z"
   },
   {
    "duration": 11,
    "start_time": "2022-07-18T02:34:34.024Z"
   },
   {
    "duration": 199,
    "start_time": "2022-07-18T02:34:34.036Z"
   },
   {
    "duration": 10,
    "start_time": "2022-07-18T02:34:34.237Z"
   },
   {
    "duration": 191,
    "start_time": "2022-07-18T02:34:34.249Z"
   },
   {
    "duration": 10,
    "start_time": "2022-07-18T02:34:34.442Z"
   },
   {
    "duration": 209,
    "start_time": "2022-07-18T02:34:34.453Z"
   },
   {
    "duration": 11,
    "start_time": "2022-07-18T02:34:34.664Z"
   },
   {
    "duration": 199,
    "start_time": "2022-07-18T02:34:34.676Z"
   },
   {
    "duration": 11,
    "start_time": "2022-07-18T02:34:34.877Z"
   },
   {
    "duration": 207,
    "start_time": "2022-07-18T02:34:34.889Z"
   },
   {
    "duration": 20,
    "start_time": "2022-07-18T02:34:35.097Z"
   },
   {
    "duration": 182,
    "start_time": "2022-07-18T02:34:35.127Z"
   },
   {
    "duration": 51,
    "start_time": "2022-07-18T02:34:35.311Z"
   },
   {
    "duration": 70,
    "start_time": "2022-07-18T02:34:35.364Z"
   },
   {
    "duration": 5,
    "start_time": "2022-07-18T02:34:35.435Z"
   },
   {
    "duration": 10,
    "start_time": "2022-07-18T02:34:35.442Z"
   },
   {
    "duration": 12,
    "start_time": "2022-07-18T02:34:35.453Z"
   },
   {
    "duration": 8,
    "start_time": "2022-07-18T02:34:35.469Z"
   },
   {
    "duration": 676,
    "start_time": "2022-07-18T02:34:35.479Z"
   },
   {
    "duration": 67,
    "start_time": "2022-07-18T02:34:36.157Z"
   },
   {
    "duration": 10,
    "start_time": "2022-07-18T02:34:36.226Z"
   },
   {
    "duration": 15,
    "start_time": "2022-07-18T02:34:36.238Z"
   },
   {
    "duration": 16,
    "start_time": "2022-07-18T02:34:36.255Z"
   },
   {
    "duration": 11,
    "start_time": "2022-07-18T02:34:36.273Z"
   },
   {
    "duration": 3,
    "start_time": "2022-07-18T02:34:59.399Z"
   },
   {
    "duration": 56,
    "start_time": "2022-07-18T02:34:59.404Z"
   },
   {
    "duration": 13,
    "start_time": "2022-07-18T02:34:59.462Z"
   },
   {
    "duration": 19,
    "start_time": "2022-07-18T02:34:59.477Z"
   },
   {
    "duration": 42,
    "start_time": "2022-07-18T02:34:59.497Z"
   },
   {
    "duration": 908,
    "start_time": "2022-07-18T02:34:59.542Z"
   },
   {
    "duration": 4,
    "start_time": "2022-07-18T02:35:00.452Z"
   },
   {
    "duration": 18,
    "start_time": "2022-07-18T02:35:00.458Z"
   },
   {
    "duration": 17,
    "start_time": "2022-07-18T02:35:00.479Z"
   },
   {
    "duration": 36,
    "start_time": "2022-07-18T02:35:00.497Z"
   },
   {
    "duration": 15,
    "start_time": "2022-07-18T02:35:00.535Z"
   },
   {
    "duration": 18,
    "start_time": "2022-07-18T02:35:00.551Z"
   },
   {
    "duration": 18,
    "start_time": "2022-07-18T02:35:00.570Z"
   },
   {
    "duration": 14,
    "start_time": "2022-07-18T02:35:00.589Z"
   },
   {
    "duration": 17,
    "start_time": "2022-07-18T02:35:00.605Z"
   },
   {
    "duration": 18,
    "start_time": "2022-07-18T02:35:00.623Z"
   },
   {
    "duration": 11,
    "start_time": "2022-07-18T02:35:00.643Z"
   },
   {
    "duration": 15,
    "start_time": "2022-07-18T02:35:00.656Z"
   },
   {
    "duration": 21,
    "start_time": "2022-07-18T02:35:00.672Z"
   },
   {
    "duration": 67,
    "start_time": "2022-07-18T02:35:00.694Z"
   },
   {
    "duration": 1305,
    "start_time": "2022-07-18T02:35:00.763Z"
   },
   {
    "duration": 1099,
    "start_time": "2022-07-18T02:35:02.070Z"
   },
   {
    "duration": 24,
    "start_time": "2022-07-18T02:35:03.171Z"
   },
   {
    "duration": 30,
    "start_time": "2022-07-18T02:35:03.209Z"
   },
   {
    "duration": 621,
    "start_time": "2022-07-18T02:35:03.241Z"
   },
   {
    "duration": 379,
    "start_time": "2022-07-18T02:35:03.864Z"
   },
   {
    "duration": 338,
    "start_time": "2022-07-18T02:35:04.244Z"
   },
   {
    "duration": 3,
    "start_time": "2022-07-18T02:35:04.584Z"
   },
   {
    "duration": 277,
    "start_time": "2022-07-18T02:35:04.588Z"
   },
   {
    "duration": 360,
    "start_time": "2022-07-18T02:35:04.866Z"
   },
   {
    "duration": 220,
    "start_time": "2022-07-18T02:35:05.228Z"
   },
   {
    "duration": 6,
    "start_time": "2022-07-18T02:35:05.451Z"
   },
   {
    "duration": 11,
    "start_time": "2022-07-18T02:35:05.458Z"
   },
   {
    "duration": 210,
    "start_time": "2022-07-18T02:35:05.471Z"
   },
   {
    "duration": 16,
    "start_time": "2022-07-18T02:35:05.683Z"
   },
   {
    "duration": 16,
    "start_time": "2022-07-18T02:35:05.712Z"
   },
   {
    "duration": 204,
    "start_time": "2022-07-18T02:35:05.730Z"
   },
   {
    "duration": 11,
    "start_time": "2022-07-18T02:35:05.936Z"
   },
   {
    "duration": 232,
    "start_time": "2022-07-18T02:35:05.948Z"
   },
   {
    "duration": 12,
    "start_time": "2022-07-18T02:35:06.182Z"
   },
   {
    "duration": 311,
    "start_time": "2022-07-18T02:35:06.195Z"
   },
   {
    "duration": 18,
    "start_time": "2022-07-18T02:35:06.507Z"
   },
   {
    "duration": 195,
    "start_time": "2022-07-18T02:35:06.527Z"
   },
   {
    "duration": 12,
    "start_time": "2022-07-18T02:35:06.724Z"
   },
   {
    "duration": 210,
    "start_time": "2022-07-18T02:35:06.738Z"
   },
   {
    "duration": 11,
    "start_time": "2022-07-18T02:35:06.950Z"
   },
   {
    "duration": 219,
    "start_time": "2022-07-18T02:35:06.963Z"
   },
   {
    "duration": 14,
    "start_time": "2022-07-18T02:35:07.184Z"
   },
   {
    "duration": 204,
    "start_time": "2022-07-18T02:35:07.210Z"
   },
   {
    "duration": 15,
    "start_time": "2022-07-18T02:35:07.416Z"
   },
   {
    "duration": 207,
    "start_time": "2022-07-18T02:35:07.433Z"
   },
   {
    "duration": 46,
    "start_time": "2022-07-18T02:35:07.642Z"
   },
   {
    "duration": 70,
    "start_time": "2022-07-18T02:35:07.689Z"
   },
   {
    "duration": 6,
    "start_time": "2022-07-18T02:35:07.761Z"
   },
   {
    "duration": 14,
    "start_time": "2022-07-18T02:35:07.769Z"
   },
   {
    "duration": 8,
    "start_time": "2022-07-18T02:35:07.785Z"
   },
   {
    "duration": 23,
    "start_time": "2022-07-18T02:35:07.794Z"
   },
   {
    "duration": 557,
    "start_time": "2022-07-18T02:35:07.818Z"
   },
   {
    "duration": 74,
    "start_time": "2022-07-18T02:35:08.377Z"
   },
   {
    "duration": 14,
    "start_time": "2022-07-18T02:35:08.454Z"
   },
   {
    "duration": 13,
    "start_time": "2022-07-18T02:35:08.470Z"
   },
   {
    "duration": 12,
    "start_time": "2022-07-18T02:35:08.484Z"
   },
   {
    "duration": 36,
    "start_time": "2022-07-18T02:35:08.498Z"
   },
   {
    "duration": 11,
    "start_time": "2022-07-18T02:36:08.966Z"
   },
   {
    "duration": 199,
    "start_time": "2022-07-18T02:36:17.326Z"
   },
   {
    "duration": 189,
    "start_time": "2022-07-18T02:42:46.772Z"
   },
   {
    "duration": 10,
    "start_time": "2022-07-18T02:45:41.864Z"
   },
   {
    "duration": 195,
    "start_time": "2022-07-18T02:45:57.678Z"
   },
   {
    "duration": 30,
    "start_time": "2022-07-18T05:30:09.719Z"
   },
   {
    "duration": 4,
    "start_time": "2022-07-18T05:30:25.271Z"
   },
   {
    "duration": 74,
    "start_time": "2022-07-18T05:30:25.296Z"
   },
   {
    "duration": 38,
    "start_time": "2022-07-18T05:30:25.372Z"
   },
   {
    "duration": 39,
    "start_time": "2022-07-18T05:30:25.411Z"
   },
   {
    "duration": 45,
    "start_time": "2022-07-18T05:30:25.452Z"
   },
   {
    "duration": 988,
    "start_time": "2022-07-18T05:30:25.499Z"
   },
   {
    "duration": 4,
    "start_time": "2022-07-18T05:30:26.489Z"
   },
   {
    "duration": 30,
    "start_time": "2022-07-18T05:30:26.495Z"
   },
   {
    "duration": 12,
    "start_time": "2022-07-18T05:30:26.527Z"
   },
   {
    "duration": 31,
    "start_time": "2022-07-18T05:30:26.541Z"
   },
   {
    "duration": 10,
    "start_time": "2022-07-18T05:30:26.575Z"
   },
   {
    "duration": 25,
    "start_time": "2022-07-18T05:30:26.587Z"
   },
   {
    "duration": 9,
    "start_time": "2022-07-18T05:30:26.614Z"
   },
   {
    "duration": 12,
    "start_time": "2022-07-18T05:30:26.625Z"
   },
   {
    "duration": 16,
    "start_time": "2022-07-18T05:30:26.639Z"
   },
   {
    "duration": 8,
    "start_time": "2022-07-18T05:30:26.656Z"
   },
   {
    "duration": 4,
    "start_time": "2022-07-18T05:30:26.665Z"
   },
   {
    "duration": 35,
    "start_time": "2022-07-18T05:30:26.671Z"
   },
   {
    "duration": 20,
    "start_time": "2022-07-18T05:30:26.708Z"
   },
   {
    "duration": 43,
    "start_time": "2022-07-18T05:30:26.730Z"
   },
   {
    "duration": 1246,
    "start_time": "2022-07-18T05:30:26.775Z"
   },
   {
    "duration": 1083,
    "start_time": "2022-07-18T05:30:28.023Z"
   },
   {
    "duration": 34,
    "start_time": "2022-07-18T05:30:41.848Z"
   },
   {
    "duration": 18,
    "start_time": "2022-07-18T05:32:31.723Z"
   },
   {
    "duration": 31,
    "start_time": "2022-07-18T05:35:37.504Z"
   },
   {
    "duration": 4,
    "start_time": "2022-07-18T05:37:11.080Z"
   },
   {
    "duration": 67,
    "start_time": "2022-07-18T05:37:11.109Z"
   },
   {
    "duration": 17,
    "start_time": "2022-07-18T05:37:11.178Z"
   },
   {
    "duration": 23,
    "start_time": "2022-07-18T05:37:11.196Z"
   },
   {
    "duration": 33,
    "start_time": "2022-07-18T05:37:11.221Z"
   },
   {
    "duration": 1078,
    "start_time": "2022-07-18T05:37:11.256Z"
   },
   {
    "duration": 4,
    "start_time": "2022-07-18T05:37:12.336Z"
   },
   {
    "duration": 29,
    "start_time": "2022-07-18T05:37:12.342Z"
   },
   {
    "duration": 12,
    "start_time": "2022-07-18T05:37:12.373Z"
   },
   {
    "duration": 25,
    "start_time": "2022-07-18T05:37:12.387Z"
   },
   {
    "duration": 11,
    "start_time": "2022-07-18T05:37:12.413Z"
   },
   {
    "duration": 20,
    "start_time": "2022-07-18T05:37:12.426Z"
   },
   {
    "duration": 10,
    "start_time": "2022-07-18T05:37:12.447Z"
   },
   {
    "duration": 10,
    "start_time": "2022-07-18T05:37:12.460Z"
   },
   {
    "duration": 42,
    "start_time": "2022-07-18T05:37:12.472Z"
   },
   {
    "duration": 8,
    "start_time": "2022-07-18T05:37:12.516Z"
   },
   {
    "duration": 4,
    "start_time": "2022-07-18T05:37:12.527Z"
   },
   {
    "duration": 13,
    "start_time": "2022-07-18T05:37:12.533Z"
   },
   {
    "duration": 26,
    "start_time": "2022-07-18T05:37:12.548Z"
   },
   {
    "duration": 75,
    "start_time": "2022-07-18T05:37:12.576Z"
   },
   {
    "duration": 1757,
    "start_time": "2022-07-18T05:37:12.653Z"
   },
   {
    "duration": 1137,
    "start_time": "2022-07-18T05:37:14.412Z"
   },
   {
    "duration": 35,
    "start_time": "2022-07-18T05:37:15.550Z"
   },
   {
    "duration": 26,
    "start_time": "2022-07-18T05:37:15.603Z"
   },
   {
    "duration": 578,
    "start_time": "2022-07-18T05:37:15.631Z"
   },
   {
    "duration": 459,
    "start_time": "2022-07-18T05:37:16.212Z"
   },
   {
    "duration": 367,
    "start_time": "2022-07-18T05:37:16.675Z"
   },
   {
    "duration": 3,
    "start_time": "2022-07-18T05:37:17.044Z"
   },
   {
    "duration": 302,
    "start_time": "2022-07-18T05:37:17.049Z"
   },
   {
    "duration": 385,
    "start_time": "2022-07-18T05:37:17.353Z"
   },
   {
    "duration": 237,
    "start_time": "2022-07-18T05:37:17.740Z"
   },
   {
    "duration": 7,
    "start_time": "2022-07-18T05:37:17.979Z"
   },
   {
    "duration": 20,
    "start_time": "2022-07-18T05:37:17.988Z"
   },
   {
    "duration": 236,
    "start_time": "2022-07-18T05:37:18.010Z"
   },
   {
    "duration": 19,
    "start_time": "2022-07-18T05:37:18.249Z"
   },
   {
    "duration": 16,
    "start_time": "2022-07-18T05:37:18.269Z"
   },
   {
    "duration": 218,
    "start_time": "2022-07-18T05:37:18.305Z"
   },
   {
    "duration": 13,
    "start_time": "2022-07-18T05:37:18.525Z"
   },
   {
    "duration": 244,
    "start_time": "2022-07-18T05:37:18.540Z"
   },
   {
    "duration": 23,
    "start_time": "2022-07-18T05:37:18.786Z"
   },
   {
    "duration": 217,
    "start_time": "2022-07-18T05:37:18.811Z"
   },
   {
    "duration": 13,
    "start_time": "2022-07-18T05:37:19.030Z"
   },
   {
    "duration": 218,
    "start_time": "2022-07-18T05:37:19.045Z"
   },
   {
    "duration": 14,
    "start_time": "2022-07-18T05:37:19.265Z"
   },
   {
    "duration": 227,
    "start_time": "2022-07-18T05:37:19.281Z"
   },
   {
    "duration": 13,
    "start_time": "2022-07-18T05:37:19.510Z"
   },
   {
    "duration": 238,
    "start_time": "2022-07-18T05:37:19.525Z"
   },
   {
    "duration": 13,
    "start_time": "2022-07-18T05:37:19.766Z"
   },
   {
    "duration": 253,
    "start_time": "2022-07-18T05:37:19.781Z"
   },
   {
    "duration": 14,
    "start_time": "2022-07-18T05:37:20.036Z"
   },
   {
    "duration": 262,
    "start_time": "2022-07-18T05:37:20.053Z"
   },
   {
    "duration": 91,
    "start_time": "2022-07-18T05:37:20.317Z"
   },
   {
    "duration": 57,
    "start_time": "2022-07-18T05:37:20.410Z"
   },
   {
    "duration": 37,
    "start_time": "2022-07-18T05:37:20.469Z"
   },
   {
    "duration": 13,
    "start_time": "2022-07-18T05:37:20.509Z"
   },
   {
    "duration": 7,
    "start_time": "2022-07-18T05:37:20.525Z"
   },
   {
    "duration": 10,
    "start_time": "2022-07-18T05:37:20.534Z"
   },
   {
    "duration": 639,
    "start_time": "2022-07-18T05:37:20.546Z"
   },
   {
    "duration": 71,
    "start_time": "2022-07-18T05:37:21.187Z"
   },
   {
    "duration": 12,
    "start_time": "2022-07-18T05:37:21.259Z"
   },
   {
    "duration": 43,
    "start_time": "2022-07-18T05:37:21.273Z"
   },
   {
    "duration": 18,
    "start_time": "2022-07-18T05:37:21.318Z"
   },
   {
    "duration": 13,
    "start_time": "2022-07-18T05:37:21.338Z"
   },
   {
    "duration": 32,
    "start_time": "2022-07-18T05:45:33.807Z"
   },
   {
    "duration": 33,
    "start_time": "2022-07-18T05:45:57.283Z"
   },
   {
    "duration": 7,
    "start_time": "2022-07-18T05:54:43.568Z"
   },
   {
    "duration": 1290,
    "start_time": "2022-07-21T14:11:13.353Z"
   },
   {
    "duration": 102,
    "start_time": "2022-07-21T14:11:14.646Z"
   },
   {
    "duration": 16,
    "start_time": "2022-07-21T14:11:14.750Z"
   },
   {
    "duration": 25,
    "start_time": "2022-07-21T14:11:14.768Z"
   },
   {
    "duration": 31,
    "start_time": "2022-07-21T14:11:14.795Z"
   },
   {
    "duration": 757,
    "start_time": "2022-07-21T14:11:14.828Z"
   },
   {
    "duration": 4,
    "start_time": "2022-07-21T14:11:15.586Z"
   },
   {
    "duration": 13,
    "start_time": "2022-07-21T14:11:15.591Z"
   },
   {
    "duration": 14,
    "start_time": "2022-07-21T14:11:15.605Z"
   },
   {
    "duration": 11,
    "start_time": "2022-07-21T14:11:15.621Z"
   },
   {
    "duration": 27,
    "start_time": "2022-07-21T14:11:15.634Z"
   },
   {
    "duration": 16,
    "start_time": "2022-07-21T14:11:15.663Z"
   },
   {
    "duration": 6,
    "start_time": "2022-07-21T14:11:33.700Z"
   }
  ],
  "kernelspec": {
   "display_name": "Python 3 (ipykernel)",
   "language": "python",
   "name": "python3"
  },
  "language_info": {
   "codemirror_mode": {
    "name": "ipython",
    "version": 3
   },
   "file_extension": ".py",
   "mimetype": "text/x-python",
   "name": "python",
   "nbconvert_exporter": "python",
   "pygments_lexer": "ipython3",
   "version": "3.9.5"
  },
  "toc": {
   "base_numbering": 1,
   "nav_menu": {},
   "number_sections": true,
   "sideBar": true,
   "skip_h1_title": true,
   "title_cell": "Table of Contents",
   "title_sidebar": "Contents",
   "toc_cell": false,
   "toc_position": {},
   "toc_section_display": true,
   "toc_window_display": false
  }
 },
 "nbformat": 4,
 "nbformat_minor": 2
}
