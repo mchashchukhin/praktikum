{
 "cells": [
  {
   "cell_type": "markdown",
   "id": "c81daeeb",
   "metadata": {
    "deletable": false,
    "id": "c81daeeb"
   },
   "source": [
    "# Исследование надежности заемщиков"
   ]
  },
  {
   "cell_type": "markdown",
   "id": "f5aaef20",
   "metadata": {},
   "source": [
    "Заказчик — кредитный отдел банка. Нужно разобраться, влияет ли семейное положение и количество детей клиента на факт погашения кредита в срок. Входные данные от банка — статистика о платёжеспособности клиентов.\n",
    "Результаты исследования будут учтены при построении модели кредитного скоринга — специальной системы, которая оценивает способность потенциального заёмщика вернуть кредит банку."
   ]
  },
  {
   "cell_type": "markdown",
   "id": "744d7639",
   "metadata": {
    "deletable": false,
    "id": "744d7639"
   },
   "source": [
    "## Откройте таблицу и изучите общую информацию о данных"
   ]
  },
  {
   "cell_type": "markdown",
   "id": "e7a14c31",
   "metadata": {
    "deletable": false,
    "id": "e7a14c31"
   },
   "source": [
    "**Задание 1. Импортируйте библиотеку pandas. Считайте данные из csv-файла в датафрейм и сохраните в переменную `data`. Путь к файлу:**\n",
    "\n",
    "`/datasets/data.csv`"
   ]
  },
  {
   "cell_type": "code",
   "execution_count": 2,
   "id": "7bcf75c9",
   "metadata": {
    "deletable": false,
    "id": "7bcf75c9"
   },
   "outputs": [],
   "source": [
    "import pandas as pd\n",
    "\n",
    "try:\n",
    "    data = pd.read_csv('/datasets/data.csv')\n",
    "except:\n",
    "    data = pd.read_csv('https://code.s3.yandex.net/datasets/data.csv')"
   ]
  },
  {
   "cell_type": "markdown",
   "id": "b8038fe3",
   "metadata": {
    "deletable": false,
    "id": "b8038fe3"
   },
   "source": [
    "**Задание 2. Выведите первые 20 строчек датафрейма `data` на экран.**"
   ]
  },
  {
   "cell_type": "code",
   "execution_count": 3,
   "id": "2a7cab99",
   "metadata": {
    "deletable": false,
    "id": "2a7cab99",
    "outputId": "1a8f3ef2-d323-4ec2-ddf7-89670b5944c4"
   },
   "outputs": [
    {
     "data": {
      "text/html": [
       "<div>\n",
       "<style scoped>\n",
       "    .dataframe tbody tr th:only-of-type {\n",
       "        vertical-align: middle;\n",
       "    }\n",
       "\n",
       "    .dataframe tbody tr th {\n",
       "        vertical-align: top;\n",
       "    }\n",
       "\n",
       "    .dataframe thead th {\n",
       "        text-align: right;\n",
       "    }\n",
       "</style>\n",
       "<table border=\"1\" class=\"dataframe\">\n",
       "  <thead>\n",
       "    <tr style=\"text-align: right;\">\n",
       "      <th></th>\n",
       "      <th>children</th>\n",
       "      <th>days_employed</th>\n",
       "      <th>dob_years</th>\n",
       "      <th>education</th>\n",
       "      <th>education_id</th>\n",
       "      <th>family_status</th>\n",
       "      <th>family_status_id</th>\n",
       "      <th>gender</th>\n",
       "      <th>income_type</th>\n",
       "      <th>debt</th>\n",
       "      <th>total_income</th>\n",
       "      <th>purpose</th>\n",
       "    </tr>\n",
       "  </thead>\n",
       "  <tbody>\n",
       "    <tr>\n",
       "      <th>0</th>\n",
       "      <td>1</td>\n",
       "      <td>-8437.673028</td>\n",
       "      <td>42</td>\n",
       "      <td>высшее</td>\n",
       "      <td>0</td>\n",
       "      <td>женат / замужем</td>\n",
       "      <td>0</td>\n",
       "      <td>F</td>\n",
       "      <td>сотрудник</td>\n",
       "      <td>0</td>\n",
       "      <td>253875.639453</td>\n",
       "      <td>покупка жилья</td>\n",
       "    </tr>\n",
       "    <tr>\n",
       "      <th>1</th>\n",
       "      <td>1</td>\n",
       "      <td>-4024.803754</td>\n",
       "      <td>36</td>\n",
       "      <td>среднее</td>\n",
       "      <td>1</td>\n",
       "      <td>женат / замужем</td>\n",
       "      <td>0</td>\n",
       "      <td>F</td>\n",
       "      <td>сотрудник</td>\n",
       "      <td>0</td>\n",
       "      <td>112080.014102</td>\n",
       "      <td>приобретение автомобиля</td>\n",
       "    </tr>\n",
       "    <tr>\n",
       "      <th>2</th>\n",
       "      <td>0</td>\n",
       "      <td>-5623.422610</td>\n",
       "      <td>33</td>\n",
       "      <td>Среднее</td>\n",
       "      <td>1</td>\n",
       "      <td>женат / замужем</td>\n",
       "      <td>0</td>\n",
       "      <td>M</td>\n",
       "      <td>сотрудник</td>\n",
       "      <td>0</td>\n",
       "      <td>145885.952297</td>\n",
       "      <td>покупка жилья</td>\n",
       "    </tr>\n",
       "    <tr>\n",
       "      <th>3</th>\n",
       "      <td>3</td>\n",
       "      <td>-4124.747207</td>\n",
       "      <td>32</td>\n",
       "      <td>среднее</td>\n",
       "      <td>1</td>\n",
       "      <td>женат / замужем</td>\n",
       "      <td>0</td>\n",
       "      <td>M</td>\n",
       "      <td>сотрудник</td>\n",
       "      <td>0</td>\n",
       "      <td>267628.550329</td>\n",
       "      <td>дополнительное образование</td>\n",
       "    </tr>\n",
       "    <tr>\n",
       "      <th>4</th>\n",
       "      <td>0</td>\n",
       "      <td>340266.072047</td>\n",
       "      <td>53</td>\n",
       "      <td>среднее</td>\n",
       "      <td>1</td>\n",
       "      <td>гражданский брак</td>\n",
       "      <td>1</td>\n",
       "      <td>F</td>\n",
       "      <td>пенсионер</td>\n",
       "      <td>0</td>\n",
       "      <td>158616.077870</td>\n",
       "      <td>сыграть свадьбу</td>\n",
       "    </tr>\n",
       "    <tr>\n",
       "      <th>5</th>\n",
       "      <td>0</td>\n",
       "      <td>-926.185831</td>\n",
       "      <td>27</td>\n",
       "      <td>высшее</td>\n",
       "      <td>0</td>\n",
       "      <td>гражданский брак</td>\n",
       "      <td>1</td>\n",
       "      <td>M</td>\n",
       "      <td>компаньон</td>\n",
       "      <td>0</td>\n",
       "      <td>255763.565419</td>\n",
       "      <td>покупка жилья</td>\n",
       "    </tr>\n",
       "    <tr>\n",
       "      <th>6</th>\n",
       "      <td>0</td>\n",
       "      <td>-2879.202052</td>\n",
       "      <td>43</td>\n",
       "      <td>высшее</td>\n",
       "      <td>0</td>\n",
       "      <td>женат / замужем</td>\n",
       "      <td>0</td>\n",
       "      <td>F</td>\n",
       "      <td>компаньон</td>\n",
       "      <td>0</td>\n",
       "      <td>240525.971920</td>\n",
       "      <td>операции с жильем</td>\n",
       "    </tr>\n",
       "    <tr>\n",
       "      <th>7</th>\n",
       "      <td>0</td>\n",
       "      <td>-152.779569</td>\n",
       "      <td>50</td>\n",
       "      <td>СРЕДНЕЕ</td>\n",
       "      <td>1</td>\n",
       "      <td>женат / замужем</td>\n",
       "      <td>0</td>\n",
       "      <td>M</td>\n",
       "      <td>сотрудник</td>\n",
       "      <td>0</td>\n",
       "      <td>135823.934197</td>\n",
       "      <td>образование</td>\n",
       "    </tr>\n",
       "    <tr>\n",
       "      <th>8</th>\n",
       "      <td>2</td>\n",
       "      <td>-6929.865299</td>\n",
       "      <td>35</td>\n",
       "      <td>ВЫСШЕЕ</td>\n",
       "      <td>0</td>\n",
       "      <td>гражданский брак</td>\n",
       "      <td>1</td>\n",
       "      <td>F</td>\n",
       "      <td>сотрудник</td>\n",
       "      <td>0</td>\n",
       "      <td>95856.832424</td>\n",
       "      <td>на проведение свадьбы</td>\n",
       "    </tr>\n",
       "    <tr>\n",
       "      <th>9</th>\n",
       "      <td>0</td>\n",
       "      <td>-2188.756445</td>\n",
       "      <td>41</td>\n",
       "      <td>среднее</td>\n",
       "      <td>1</td>\n",
       "      <td>женат / замужем</td>\n",
       "      <td>0</td>\n",
       "      <td>M</td>\n",
       "      <td>сотрудник</td>\n",
       "      <td>0</td>\n",
       "      <td>144425.938277</td>\n",
       "      <td>покупка жилья для семьи</td>\n",
       "    </tr>\n",
       "    <tr>\n",
       "      <th>10</th>\n",
       "      <td>2</td>\n",
       "      <td>-4171.483647</td>\n",
       "      <td>36</td>\n",
       "      <td>высшее</td>\n",
       "      <td>0</td>\n",
       "      <td>женат / замужем</td>\n",
       "      <td>0</td>\n",
       "      <td>M</td>\n",
       "      <td>компаньон</td>\n",
       "      <td>0</td>\n",
       "      <td>113943.491460</td>\n",
       "      <td>покупка недвижимости</td>\n",
       "    </tr>\n",
       "    <tr>\n",
       "      <th>11</th>\n",
       "      <td>0</td>\n",
       "      <td>-792.701887</td>\n",
       "      <td>40</td>\n",
       "      <td>среднее</td>\n",
       "      <td>1</td>\n",
       "      <td>женат / замужем</td>\n",
       "      <td>0</td>\n",
       "      <td>F</td>\n",
       "      <td>сотрудник</td>\n",
       "      <td>0</td>\n",
       "      <td>77069.234271</td>\n",
       "      <td>покупка коммерческой недвижимости</td>\n",
       "    </tr>\n",
       "    <tr>\n",
       "      <th>12</th>\n",
       "      <td>0</td>\n",
       "      <td>NaN</td>\n",
       "      <td>65</td>\n",
       "      <td>среднее</td>\n",
       "      <td>1</td>\n",
       "      <td>гражданский брак</td>\n",
       "      <td>1</td>\n",
       "      <td>M</td>\n",
       "      <td>пенсионер</td>\n",
       "      <td>0</td>\n",
       "      <td>NaN</td>\n",
       "      <td>сыграть свадьбу</td>\n",
       "    </tr>\n",
       "    <tr>\n",
       "      <th>13</th>\n",
       "      <td>0</td>\n",
       "      <td>-1846.641941</td>\n",
       "      <td>54</td>\n",
       "      <td>неоконченное высшее</td>\n",
       "      <td>2</td>\n",
       "      <td>женат / замужем</td>\n",
       "      <td>0</td>\n",
       "      <td>F</td>\n",
       "      <td>сотрудник</td>\n",
       "      <td>0</td>\n",
       "      <td>130458.228857</td>\n",
       "      <td>приобретение автомобиля</td>\n",
       "    </tr>\n",
       "    <tr>\n",
       "      <th>14</th>\n",
       "      <td>0</td>\n",
       "      <td>-1844.956182</td>\n",
       "      <td>56</td>\n",
       "      <td>высшее</td>\n",
       "      <td>0</td>\n",
       "      <td>гражданский брак</td>\n",
       "      <td>1</td>\n",
       "      <td>F</td>\n",
       "      <td>компаньон</td>\n",
       "      <td>1</td>\n",
       "      <td>165127.911772</td>\n",
       "      <td>покупка жилой недвижимости</td>\n",
       "    </tr>\n",
       "    <tr>\n",
       "      <th>15</th>\n",
       "      <td>1</td>\n",
       "      <td>-972.364419</td>\n",
       "      <td>26</td>\n",
       "      <td>среднее</td>\n",
       "      <td>1</td>\n",
       "      <td>женат / замужем</td>\n",
       "      <td>0</td>\n",
       "      <td>F</td>\n",
       "      <td>сотрудник</td>\n",
       "      <td>0</td>\n",
       "      <td>116820.904450</td>\n",
       "      <td>строительство собственной недвижимости</td>\n",
       "    </tr>\n",
       "    <tr>\n",
       "      <th>16</th>\n",
       "      <td>0</td>\n",
       "      <td>-1719.934226</td>\n",
       "      <td>35</td>\n",
       "      <td>среднее</td>\n",
       "      <td>1</td>\n",
       "      <td>женат / замужем</td>\n",
       "      <td>0</td>\n",
       "      <td>F</td>\n",
       "      <td>сотрудник</td>\n",
       "      <td>0</td>\n",
       "      <td>289202.704229</td>\n",
       "      <td>недвижимость</td>\n",
       "    </tr>\n",
       "    <tr>\n",
       "      <th>17</th>\n",
       "      <td>0</td>\n",
       "      <td>-2369.999720</td>\n",
       "      <td>33</td>\n",
       "      <td>высшее</td>\n",
       "      <td>0</td>\n",
       "      <td>гражданский брак</td>\n",
       "      <td>1</td>\n",
       "      <td>M</td>\n",
       "      <td>сотрудник</td>\n",
       "      <td>0</td>\n",
       "      <td>90410.586745</td>\n",
       "      <td>строительство недвижимости</td>\n",
       "    </tr>\n",
       "    <tr>\n",
       "      <th>18</th>\n",
       "      <td>0</td>\n",
       "      <td>400281.136913</td>\n",
       "      <td>53</td>\n",
       "      <td>среднее</td>\n",
       "      <td>1</td>\n",
       "      <td>вдовец / вдова</td>\n",
       "      <td>2</td>\n",
       "      <td>F</td>\n",
       "      <td>пенсионер</td>\n",
       "      <td>0</td>\n",
       "      <td>56823.777243</td>\n",
       "      <td>на покупку подержанного автомобиля</td>\n",
       "    </tr>\n",
       "    <tr>\n",
       "      <th>19</th>\n",
       "      <td>0</td>\n",
       "      <td>-10038.818549</td>\n",
       "      <td>48</td>\n",
       "      <td>СРЕДНЕЕ</td>\n",
       "      <td>1</td>\n",
       "      <td>в разводе</td>\n",
       "      <td>3</td>\n",
       "      <td>F</td>\n",
       "      <td>сотрудник</td>\n",
       "      <td>0</td>\n",
       "      <td>242831.107982</td>\n",
       "      <td>на покупку своего автомобиля</td>\n",
       "    </tr>\n",
       "  </tbody>\n",
       "</table>\n",
       "</div>"
      ],
      "text/plain": [
       "    children  days_employed  dob_years            education  education_id  \\\n",
       "0          1   -8437.673028         42               высшее             0   \n",
       "1          1   -4024.803754         36              среднее             1   \n",
       "2          0   -5623.422610         33              Среднее             1   \n",
       "3          3   -4124.747207         32              среднее             1   \n",
       "4          0  340266.072047         53              среднее             1   \n",
       "5          0    -926.185831         27               высшее             0   \n",
       "6          0   -2879.202052         43               высшее             0   \n",
       "7          0    -152.779569         50              СРЕДНЕЕ             1   \n",
       "8          2   -6929.865299         35               ВЫСШЕЕ             0   \n",
       "9          0   -2188.756445         41              среднее             1   \n",
       "10         2   -4171.483647         36               высшее             0   \n",
       "11         0    -792.701887         40              среднее             1   \n",
       "12         0            NaN         65              среднее             1   \n",
       "13         0   -1846.641941         54  неоконченное высшее             2   \n",
       "14         0   -1844.956182         56               высшее             0   \n",
       "15         1    -972.364419         26              среднее             1   \n",
       "16         0   -1719.934226         35              среднее             1   \n",
       "17         0   -2369.999720         33               высшее             0   \n",
       "18         0  400281.136913         53              среднее             1   \n",
       "19         0  -10038.818549         48              СРЕДНЕЕ             1   \n",
       "\n",
       "       family_status  family_status_id gender income_type  debt  \\\n",
       "0    женат / замужем                 0      F   сотрудник     0   \n",
       "1    женат / замужем                 0      F   сотрудник     0   \n",
       "2    женат / замужем                 0      M   сотрудник     0   \n",
       "3    женат / замужем                 0      M   сотрудник     0   \n",
       "4   гражданский брак                 1      F   пенсионер     0   \n",
       "5   гражданский брак                 1      M   компаньон     0   \n",
       "6    женат / замужем                 0      F   компаньон     0   \n",
       "7    женат / замужем                 0      M   сотрудник     0   \n",
       "8   гражданский брак                 1      F   сотрудник     0   \n",
       "9    женат / замужем                 0      M   сотрудник     0   \n",
       "10   женат / замужем                 0      M   компаньон     0   \n",
       "11   женат / замужем                 0      F   сотрудник     0   \n",
       "12  гражданский брак                 1      M   пенсионер     0   \n",
       "13   женат / замужем                 0      F   сотрудник     0   \n",
       "14  гражданский брак                 1      F   компаньон     1   \n",
       "15   женат / замужем                 0      F   сотрудник     0   \n",
       "16   женат / замужем                 0      F   сотрудник     0   \n",
       "17  гражданский брак                 1      M   сотрудник     0   \n",
       "18    вдовец / вдова                 2      F   пенсионер     0   \n",
       "19         в разводе                 3      F   сотрудник     0   \n",
       "\n",
       "     total_income                                 purpose  \n",
       "0   253875.639453                           покупка жилья  \n",
       "1   112080.014102                 приобретение автомобиля  \n",
       "2   145885.952297                           покупка жилья  \n",
       "3   267628.550329              дополнительное образование  \n",
       "4   158616.077870                         сыграть свадьбу  \n",
       "5   255763.565419                           покупка жилья  \n",
       "6   240525.971920                       операции с жильем  \n",
       "7   135823.934197                             образование  \n",
       "8    95856.832424                   на проведение свадьбы  \n",
       "9   144425.938277                 покупка жилья для семьи  \n",
       "10  113943.491460                    покупка недвижимости  \n",
       "11   77069.234271       покупка коммерческой недвижимости  \n",
       "12            NaN                         сыграть свадьбу  \n",
       "13  130458.228857                 приобретение автомобиля  \n",
       "14  165127.911772              покупка жилой недвижимости  \n",
       "15  116820.904450  строительство собственной недвижимости  \n",
       "16  289202.704229                            недвижимость  \n",
       "17   90410.586745              строительство недвижимости  \n",
       "18   56823.777243      на покупку подержанного автомобиля  \n",
       "19  242831.107982            на покупку своего автомобиля  "
      ]
     },
     "execution_count": 3,
     "metadata": {},
     "output_type": "execute_result"
    }
   ],
   "source": [
    "data.head(20)"
   ]
  },
  {
   "cell_type": "markdown",
   "id": "c82c10fa",
   "metadata": {},
   "source": [
    "**Описание данных**\n",
    "\n",
    "`children` — количество детей в семье\n",
    "\n",
    "`days_employed` — общий трудовой стаж в днях\n",
    "\n",
    "`dob_years` — возраст клиента в годах\n",
    "\n",
    "`education` — уровень образования клиента\n",
    "\n",
    "`education_id` — идентификатор уровня образования\n",
    "\n",
    "`family_status` — семейное положение\n",
    "\n",
    "`family_status_id` — идентификатор семейного положения\n",
    "\n",
    "`gender` — пол клиента\n",
    "\n",
    "`income_type` — тип занятости\n",
    "\n",
    "`debt` — имел ли задолженность по возврату кредитов\n",
    "\n",
    "`total_income` — ежемесячный доход\n",
    "\n",
    "`purpose` — цель получения кредита"
   ]
  },
  {
   "cell_type": "markdown",
   "id": "1c12e233",
   "metadata": {
    "deletable": false,
    "id": "1c12e233"
   },
   "source": [
    "**Задание 3. Выведите основную информацию о датафрейме с помощью метода `info()`.**"
   ]
  },
  {
   "cell_type": "code",
   "execution_count": 4,
   "id": "2b757bca",
   "metadata": {
    "deletable": false,
    "id": "2b757bca",
    "outputId": "15376089-8dad-46c9-b520-c05248d43158"
   },
   "outputs": [
    {
     "name": "stdout",
     "output_type": "stream",
     "text": [
      "<class 'pandas.core.frame.DataFrame'>\n",
      "RangeIndex: 21525 entries, 0 to 21524\n",
      "Data columns (total 12 columns):\n",
      " #   Column            Non-Null Count  Dtype  \n",
      "---  ------            --------------  -----  \n",
      " 0   children          21525 non-null  int64  \n",
      " 1   days_employed     19351 non-null  float64\n",
      " 2   dob_years         21525 non-null  int64  \n",
      " 3   education         21525 non-null  object \n",
      " 4   education_id      21525 non-null  int64  \n",
      " 5   family_status     21525 non-null  object \n",
      " 6   family_status_id  21525 non-null  int64  \n",
      " 7   gender            21525 non-null  object \n",
      " 8   income_type       21525 non-null  object \n",
      " 9   debt              21525 non-null  int64  \n",
      " 10  total_income      19351 non-null  float64\n",
      " 11  purpose           21525 non-null  object \n",
      "dtypes: float64(2), int64(5), object(5)\n",
      "memory usage: 2.0+ MB\n"
     ]
    }
   ],
   "source": [
    "data.info()"
   ]
  },
  {
   "cell_type": "markdown",
   "id": "333ec665",
   "metadata": {
    "deletable": false,
    "id": "333ec665"
   },
   "source": [
    "## Предобработка данных"
   ]
  },
  {
   "cell_type": "markdown",
   "id": "02d92d53",
   "metadata": {
    "deletable": false,
    "id": "02d92d53"
   },
   "source": [
    "### Удаление пропусков"
   ]
  },
  {
   "cell_type": "markdown",
   "id": "cd84967c",
   "metadata": {
    "deletable": false,
    "id": "cd84967c"
   },
   "source": [
    "**Задание 4. Выведите количество пропущенных значений для каждого столбца. Используйте комбинацию двух методов.**"
   ]
  },
  {
   "cell_type": "code",
   "execution_count": 5,
   "id": "7f9b2309",
   "metadata": {
    "deletable": false,
    "id": "7f9b2309",
    "outputId": "81f4d817-781c-465c-ed15-91ce4446810d"
   },
   "outputs": [
    {
     "data": {
      "text/plain": [
       "children               0\n",
       "days_employed       2174\n",
       "dob_years              0\n",
       "education              0\n",
       "education_id           0\n",
       "family_status          0\n",
       "family_status_id       0\n",
       "gender                 0\n",
       "income_type            0\n",
       "debt                   0\n",
       "total_income        2174\n",
       "purpose                0\n",
       "dtype: int64"
      ]
     },
     "execution_count": 5,
     "metadata": {},
     "output_type": "execute_result"
    }
   ],
   "source": [
    "data.isna().sum()"
   ]
  },
  {
   "cell_type": "markdown",
   "id": "db86e27b",
   "metadata": {
    "deletable": false,
    "id": "db86e27b"
   },
   "source": [
    "**Задание 5. В двух столбцах есть пропущенные значения. Один из них — `days_employed`. Пропуски в этом столбце вы обработаете на следующем этапе. Другой столбец с пропущенными значениями — `total_income` — хранит данные о доходах. На сумму дохода сильнее всего влияет тип занятости, поэтому заполнить пропуски в этом столбце нужно медианным значением по каждому типу из столбца `income_type`. Например, у человека с типом занятости `сотрудник` пропуск в столбце `total_income` должен быть заполнен медианным доходом среди всех записей с тем же типом.**"
   ]
  },
  {
   "cell_type": "code",
   "execution_count": 6,
   "id": "42006a93",
   "metadata": {
    "deletable": false,
    "id": "42006a93"
   },
   "outputs": [],
   "source": [
    "for t in data['income_type'].unique():\n",
    "    data.loc[(data['income_type'] == t) & (data['total_income'].isna()), 'total_income'] = \\\n",
    "    data.loc[(data['income_type'] == t), 'total_income'].median()"
   ]
  },
  {
   "cell_type": "markdown",
   "id": "89da5ece",
   "metadata": {
    "deletable": false,
    "id": "89da5ece"
   },
   "source": [
    "### Обработка аномальных значений"
   ]
  },
  {
   "cell_type": "markdown",
   "id": "57964554",
   "metadata": {
    "deletable": false,
    "id": "57964554"
   },
   "source": [
    "**Задание 6. В данных могут встречаться артефакты (аномалии) — значения, которые не отражают действительность и появились по какой-то ошибке. таким артефактом будет отрицательное количество дней трудового стажа в столбце `days_employed`. Для реальных данных это нормально. Обработайте значения в этом столбце: замените все отрицательные значения положительными с помощью метода `abs()`.**"
   ]
  },
  {
   "cell_type": "code",
   "execution_count": 7,
   "id": "f6f055bf",
   "metadata": {
    "deletable": false,
    "id": "f6f055bf"
   },
   "outputs": [],
   "source": [
    "data['days_employed'] = data['days_employed'].abs()"
   ]
  },
  {
   "cell_type": "markdown",
   "id": "6107dd2f",
   "metadata": {
    "deletable": false,
    "id": "6107dd2f"
   },
   "source": [
    "**Задание 7. Для каждого типа занятости выведите медианное значение трудового стажа `days_employed` в днях.**"
   ]
  },
  {
   "cell_type": "code",
   "execution_count": 8,
   "id": "85a5faf6",
   "metadata": {
    "deletable": false,
    "id": "85a5faf6",
    "outputId": "801ef80e-522b-4668-f34e-565af7432bcf"
   },
   "outputs": [
    {
     "data": {
      "text/plain": [
       "income_type\n",
       "безработный        366413.652744\n",
       "в декрете            3296.759962\n",
       "госслужащий          2689.368353\n",
       "компаньон            1547.382223\n",
       "пенсионер          365213.306266\n",
       "предприниматель       520.848083\n",
       "сотрудник            1574.202821\n",
       "студент               578.751554\n",
       "Name: days_employed, dtype: float64"
      ]
     },
     "execution_count": 8,
     "metadata": {},
     "output_type": "execute_result"
    }
   ],
   "source": [
    "data.groupby('income_type')['days_employed'].agg('median')"
   ]
  },
  {
   "cell_type": "markdown",
   "id": "38d1a030",
   "metadata": {
    "deletable": false,
    "id": "38d1a030"
   },
   "source": [
    "У двух типов (безработные и пенсионеры) получатся аномально большие значения. Исправить такие значения сложно, поэтому оставьте их как есть. Тем более этот столбец не понадобится вам для исследования."
   ]
  },
  {
   "cell_type": "markdown",
   "id": "d8a9f147",
   "metadata": {
    "deletable": false,
    "id": "d8a9f147"
   },
   "source": [
    "**Задание 8. Выведите перечень уникальных значений столбца `children`.**"
   ]
  },
  {
   "cell_type": "code",
   "execution_count": 9,
   "id": "ef5056eb",
   "metadata": {
    "deletable": false,
    "id": "ef5056eb",
    "outputId": "6975b15c-7f95-4697-d16d-a0c79b657b03"
   },
   "outputs": [
    {
     "data": {
      "text/plain": [
       "array([ 1,  0,  3,  2, -1,  4, 20,  5])"
      ]
     },
     "execution_count": 9,
     "metadata": {},
     "output_type": "execute_result"
    }
   ],
   "source": [
    "data['children'].unique()"
   ]
  },
  {
   "cell_type": "markdown",
   "id": "40b9ebf2",
   "metadata": {
    "deletable": false,
    "id": "40b9ebf2"
   },
   "source": [
    "**Задание 9. В столбце `children` есть два аномальных значения. Удалите строки, в которых встречаются такие аномальные значения из датафрейма `data`.**"
   ]
  },
  {
   "cell_type": "code",
   "execution_count": 10,
   "id": "3ff9801d",
   "metadata": {
    "deletable": false,
    "id": "3ff9801d"
   },
   "outputs": [],
   "source": [
    "data = data[(data['children'] != -1) & (data['children'] != 20)]"
   ]
  },
  {
   "cell_type": "markdown",
   "id": "bbc4d0ce",
   "metadata": {
    "deletable": false,
    "id": "bbc4d0ce"
   },
   "source": [
    "**Задание 10. Ещё раз выведите перечень уникальных значений столбца `children`, чтобы убедиться, что артефакты удалены.**"
   ]
  },
  {
   "cell_type": "code",
   "execution_count": 11,
   "id": "ad4fa8b7",
   "metadata": {
    "deletable": false,
    "id": "ad4fa8b7",
    "outputId": "b2097101-d49d-44d9-901b-32a65c9463d1"
   },
   "outputs": [
    {
     "data": {
      "text/plain": [
       "array([1, 0, 3, 2, 4, 5])"
      ]
     },
     "execution_count": 11,
     "metadata": {},
     "output_type": "execute_result"
    }
   ],
   "source": [
    "data['children'].unique()"
   ]
  },
  {
   "cell_type": "markdown",
   "id": "75440b63",
   "metadata": {
    "deletable": false,
    "id": "75440b63"
   },
   "source": [
    "### Удаление пропусков (продолжение)"
   ]
  },
  {
   "cell_type": "markdown",
   "id": "f4ea573f",
   "metadata": {
    "deletable": false,
    "id": "f4ea573f"
   },
   "source": [
    "**Задание 11. Заполните пропуски в столбце `days_employed` медианными значениями по каждого типа занятости `income_type`.**"
   ]
  },
  {
   "cell_type": "code",
   "execution_count": 12,
   "id": "af6b1a7e",
   "metadata": {
    "deletable": false,
    "id": "af6b1a7e"
   },
   "outputs": [],
   "source": [
    "for t in data['income_type'].unique():\n",
    "    data.loc[(data['income_type'] == t) & (data['days_employed'].isna()), 'days_employed'] = \\\n",
    "    data.loc[(data['income_type'] == t), 'days_employed'].median()"
   ]
  },
  {
   "cell_type": "markdown",
   "id": "2753f40d",
   "metadata": {
    "deletable": false,
    "id": "2753f40d"
   },
   "source": [
    "**Задание 12. Убедитесь, что все пропуски заполнены. Проверьте себя и ещё раз выведите количество пропущенных значений для каждого столбца с помощью двух методов.**"
   ]
  },
  {
   "cell_type": "code",
   "execution_count": 13,
   "id": "55f78bc2",
   "metadata": {
    "deletable": false,
    "id": "55f78bc2",
    "outputId": "8da1e4e1-358e-4e87-98c9-f261bce0a7b2"
   },
   "outputs": [
    {
     "data": {
      "text/plain": [
       "children            0\n",
       "days_employed       0\n",
       "dob_years           0\n",
       "education           0\n",
       "education_id        0\n",
       "family_status       0\n",
       "family_status_id    0\n",
       "gender              0\n",
       "income_type         0\n",
       "debt                0\n",
       "total_income        0\n",
       "purpose             0\n",
       "dtype: int64"
      ]
     },
     "execution_count": 13,
     "metadata": {},
     "output_type": "execute_result"
    }
   ],
   "source": [
    "data.isna().sum()"
   ]
  },
  {
   "cell_type": "markdown",
   "id": "ddc81e43",
   "metadata": {
    "deletable": false,
    "id": "ddc81e43"
   },
   "source": [
    "### Изменение типов данных"
   ]
  },
  {
   "cell_type": "markdown",
   "id": "42d19d24",
   "metadata": {
    "deletable": false,
    "id": "42d19d24"
   },
   "source": [
    "**Задание 13. Замените вещественный тип данных в столбце `total_income` на целочисленный с помощью метода `astype()`.**"
   ]
  },
  {
   "cell_type": "code",
   "execution_count": 14,
   "id": "920b65ad",
   "metadata": {
    "deletable": false,
    "id": "920b65ad"
   },
   "outputs": [],
   "source": [
    "data['total_income'] = data['total_income'].astype(int)"
   ]
  },
  {
   "cell_type": "markdown",
   "id": "80c420ba",
   "metadata": {
    "deletable": false,
    "id": "80c420ba"
   },
   "source": [
    "### Обработка дубликатов"
   ]
  },
  {
   "cell_type": "markdown",
   "id": "dc587695",
   "metadata": {
    "deletable": false,
    "id": "dc587695"
   },
   "source": [
    "**Задание 14. Выведите на экран количество строк-дубликатов в данных. Если такие строки присутствуют, удалите их.**"
   ]
  },
  {
   "cell_type": "code",
   "execution_count": 15,
   "id": "3ee445e4",
   "metadata": {
    "deletable": false,
    "id": "3ee445e4",
    "outputId": "9684deba-1934-42d1-99e1-cda61740f822"
   },
   "outputs": [
    {
     "data": {
      "text/plain": [
       "54"
      ]
     },
     "execution_count": 15,
     "metadata": {},
     "output_type": "execute_result"
    }
   ],
   "source": [
    "data.duplicated().sum()"
   ]
  },
  {
   "cell_type": "code",
   "execution_count": 16,
   "id": "8575fe05",
   "metadata": {
    "deletable": false,
    "id": "8575fe05"
   },
   "outputs": [],
   "source": [
    "data = data.drop_duplicates()"
   ]
  },
  {
   "cell_type": "markdown",
   "id": "9771a76c",
   "metadata": {
    "deletable": false,
    "id": "9771a76c"
   },
   "source": [
    "**Задание 15. Обработайте неявные дубликаты в столбце `education`. В этом столбце есть одни и те же значения, но записанные по-разному: с использованием заглавных и строчных букв. Приведите их к нижнему регистру. Проверьте остальные столбцы.**"
   ]
  },
  {
   "cell_type": "code",
   "execution_count": 17,
   "id": "a9f8e2bf",
   "metadata": {
    "deletable": false,
    "id": "a9f8e2bf"
   },
   "outputs": [],
   "source": [
    "data['education'] = data['education'].str.lower()"
   ]
  },
  {
   "cell_type": "markdown",
   "id": "9904cf55",
   "metadata": {
    "deletable": false,
    "id": "9904cf55"
   },
   "source": [
    "### Категоризация данных"
   ]
  },
  {
   "cell_type": "markdown",
   "id": "72fcc8a2",
   "metadata": {
    "deletable": false,
    "id": "72fcc8a2"
   },
   "source": [
    "**Задание 16. На основании диапазонов, указанных ниже, создайте в датафрейме `data` столбец `total_income_category` с категориями:**\n",
    "\n",
    "- 0–30000 — `'E'`;\n",
    "- 30001–50000 — `'D'`;\n",
    "- 50001–200000 — `'C'`;\n",
    "- 200001–1000000 — `'B'`;\n",
    "- 1000001 и выше — `'A'`.\n",
    "\n",
    "\n",
    "**Например, кредитополучателю с доходом 25000 нужно назначить категорию `'E'`, а клиенту, получающему 235000, — `'B'`. Используйте собственную функцию с именем `categorize_income()` и метод `apply()`.**"
   ]
  },
  {
   "cell_type": "code",
   "execution_count": 18,
   "id": "e1771346",
   "metadata": {
    "deletable": false,
    "id": "e1771346"
   },
   "outputs": [],
   "source": [
    "def categorize_income(income):\n",
    "    try:\n",
    "        if 0 <= income <= 30000:\n",
    "            return 'E'\n",
    "        elif 30001 <= income <= 50000:\n",
    "            return 'D'\n",
    "        elif 50001 <= income <= 200000:\n",
    "            return 'C'\n",
    "        elif 200001 <= income <= 1000000:\n",
    "            return 'B'\n",
    "        elif income >= 1000001:\n",
    "            return 'A'\n",
    "    except:\n",
    "        pass"
   ]
  },
  {
   "cell_type": "code",
   "execution_count": 19,
   "id": "d5f3586d",
   "metadata": {
    "deletable": false,
    "id": "d5f3586d"
   },
   "outputs": [],
   "source": [
    "data['total_income_category'] = data['total_income'].apply(categorize_income)"
   ]
  },
  {
   "cell_type": "markdown",
   "id": "dde49b5c",
   "metadata": {
    "deletable": false,
    "id": "dde49b5c"
   },
   "source": [
    "**Задание 17. Выведите на экран перечень уникальных целей взятия кредита из столбца `purpose`.**"
   ]
  },
  {
   "cell_type": "code",
   "execution_count": 20,
   "id": "f67ce9b3",
   "metadata": {
    "deletable": false,
    "id": "f67ce9b3",
    "outputId": "673c12d9-7d7e-4ae0-9812-c622c89dd244"
   },
   "outputs": [
    {
     "data": {
      "text/plain": [
       "array(['покупка жилья', 'приобретение автомобиля',\n",
       "       'дополнительное образование', 'сыграть свадьбу',\n",
       "       'операции с жильем', 'образование', 'на проведение свадьбы',\n",
       "       'покупка жилья для семьи', 'покупка недвижимости',\n",
       "       'покупка коммерческой недвижимости', 'покупка жилой недвижимости',\n",
       "       'строительство собственной недвижимости', 'недвижимость',\n",
       "       'строительство недвижимости', 'на покупку подержанного автомобиля',\n",
       "       'на покупку своего автомобиля',\n",
       "       'операции с коммерческой недвижимостью',\n",
       "       'строительство жилой недвижимости', 'жилье',\n",
       "       'операции со своей недвижимостью', 'автомобили',\n",
       "       'заняться образованием', 'сделка с подержанным автомобилем',\n",
       "       'получение образования', 'автомобиль', 'свадьба',\n",
       "       'получение дополнительного образования', 'покупка своего жилья',\n",
       "       'операции с недвижимостью', 'получение высшего образования',\n",
       "       'свой автомобиль', 'сделка с автомобилем',\n",
       "       'профильное образование', 'высшее образование',\n",
       "       'покупка жилья для сдачи', 'на покупку автомобиля', 'ремонт жилью',\n",
       "       'заняться высшим образованием'], dtype=object)"
      ]
     },
     "execution_count": 20,
     "metadata": {},
     "output_type": "execute_result"
    }
   ],
   "source": [
    "data['purpose'].unique()"
   ]
  },
  {
   "cell_type": "markdown",
   "id": "85d0aef0",
   "metadata": {
    "deletable": false,
    "id": "85d0aef0"
   },
   "source": [
    "**Задание 18. Создайте функцию, которая на основании данных из столбца `purpose` сформирует новый столбец `purpose_category`, в который войдут следующие категории:**\n",
    "\n",
    "- `'операции с автомобилем'`,\n",
    "- `'операции с недвижимостью'`,\n",
    "- `'проведение свадьбы'`,\n",
    "- `'получение образования'`.\n",
    "\n",
    "**Например, если в столбце `purpose` находится подстрока `'на покупку автомобиля'`, то в столбце `purpose_category` должна появиться строка `'операции с автомобилем'`.**\n",
    "\n",
    "**Используйте собственную функцию с именем `categorize_purpose()` и метод `apply()`. Изучите данные в столбце `purpose` и определите, какие подстроки помогут вам правильно определить категорию.**"
   ]
  },
  {
   "cell_type": "code",
   "execution_count": 21,
   "id": "e149fab4",
   "metadata": {
    "deletable": false,
    "id": "e149fab4"
   },
   "outputs": [],
   "source": [
    "def categorize_purpose(row):\n",
    "    try:\n",
    "        if 'автом' in row:\n",
    "            return 'операции с автомобилем'\n",
    "        elif 'жил' in row or 'недвиж' in row:\n",
    "            return 'операции с недвижимостью'\n",
    "        elif 'свад' in row:\n",
    "            return 'проведение свадьбы'\n",
    "        elif 'образов' in row:\n",
    "            return 'получение образования'\n",
    "    except:\n",
    "        return 'нет категории'"
   ]
  },
  {
   "cell_type": "code",
   "execution_count": 22,
   "id": "bf36e69b",
   "metadata": {
    "deletable": false,
    "id": "bf36e69b"
   },
   "outputs": [],
   "source": [
    "data['purpose_category'] = data['purpose'].apply(categorize_purpose)"
   ]
  },
  {
   "cell_type": "markdown",
   "id": "09b242bf",
   "metadata": {
    "deletable": false,
    "editable": false,
    "id": "09b242bf"
   },
   "source": [
    "## Исследуйте данные и ответьте на вопросы"
   ]
  },
  {
   "cell_type": "markdown",
   "id": "c5d66278",
   "metadata": {
    "deletable": false,
    "editable": false,
    "id": "c5d66278"
   },
   "source": [
    "**Задание 19. Есть ли зависимость между количеством детей и возвратом кредита в срок?**"
   ]
  },
  {
   "cell_type": "code",
   "execution_count": 23,
   "id": "2cacfc4a",
   "metadata": {
    "id": "2cacfc4a"
   },
   "outputs": [
    {
     "data": {
      "text/html": [
       "<div>\n",
       "<style scoped>\n",
       "    .dataframe tbody tr th:only-of-type {\n",
       "        vertical-align: middle;\n",
       "    }\n",
       "\n",
       "    .dataframe tbody tr th {\n",
       "        vertical-align: top;\n",
       "    }\n",
       "\n",
       "    .dataframe thead th {\n",
       "        text-align: right;\n",
       "    }\n",
       "</style>\n",
       "<table border=\"1\" class=\"dataframe\">\n",
       "  <thead>\n",
       "    <tr style=\"text-align: right;\">\n",
       "      <th></th>\n",
       "      <th>children</th>\n",
       "      <th>debt</th>\n",
       "      <th>debt_share</th>\n",
       "    </tr>\n",
       "  </thead>\n",
       "  <tbody>\n",
       "    <tr>\n",
       "      <th>0</th>\n",
       "      <td>0</td>\n",
       "      <td>1063</td>\n",
       "      <td>0.613741</td>\n",
       "    </tr>\n",
       "    <tr>\n",
       "      <th>1</th>\n",
       "      <td>1</td>\n",
       "      <td>444</td>\n",
       "      <td>0.256351</td>\n",
       "    </tr>\n",
       "    <tr>\n",
       "      <th>2</th>\n",
       "      <td>2</td>\n",
       "      <td>194</td>\n",
       "      <td>0.112009</td>\n",
       "    </tr>\n",
       "    <tr>\n",
       "      <th>3</th>\n",
       "      <td>3</td>\n",
       "      <td>27</td>\n",
       "      <td>0.015589</td>\n",
       "    </tr>\n",
       "    <tr>\n",
       "      <th>4</th>\n",
       "      <td>4</td>\n",
       "      <td>4</td>\n",
       "      <td>0.002309</td>\n",
       "    </tr>\n",
       "    <tr>\n",
       "      <th>5</th>\n",
       "      <td>5</td>\n",
       "      <td>0</td>\n",
       "      <td>0.000000</td>\n",
       "    </tr>\n",
       "  </tbody>\n",
       "</table>\n",
       "</div>"
      ],
      "text/plain": [
       "   children  debt  debt_share\n",
       "0         0  1063    0.613741\n",
       "1         1   444    0.256351\n",
       "2         2   194    0.112009\n",
       "3         3    27    0.015589\n",
       "4         4     4    0.002309\n",
       "5         5     0    0.000000"
      ]
     },
     "execution_count": 23,
     "metadata": {},
     "output_type": "execute_result"
    }
   ],
   "source": [
    "#для каждого количества детей подсчитаем число невозвращенных кредитов\n",
    "\n",
    "debts = data.groupby('children',as_index=False).agg({'debt':'sum'})\n",
    "\n",
    "#Добавим столбец с процентом от общего количества долгов\n",
    "\n",
    "debts['debt_share'] = (debts['debt'] / debts['debt'].sum())  \n",
    "\n",
    "debts"
   ]
  },
  {
   "cell_type": "markdown",
   "id": "3a6b99ec",
   "metadata": {
    "deletable": false,
    "id": "3a6b99ec"
   },
   "source": [
    "**Вывод:** судя по полученным данным, зависимость возврата кредита в срок от числа детей обратная. Большая часть долга по кредиту приходится на бездетных клиентов. Похоже, что клиенты без детей, 61% должников, - группа риска, надёжность сомнительная."
   ]
  },
  {
   "cell_type": "markdown",
   "id": "97be82ca",
   "metadata": {
    "deletable": false,
    "editable": false,
    "id": "97be82ca"
   },
   "source": [
    "**Задание 20. Есть ли зависимость между семейным положением и возвратом кредита в срок?**"
   ]
  },
  {
   "cell_type": "markdown",
   "id": "4d201b9b",
   "metadata": {},
   "source": [
    "Извлечём из исходной таблицы серию, сгруппированную по семейному положению, подсчитаем для каждой категории количество долгов и отсортируем по убыванию:"
   ]
  },
  {
   "cell_type": "code",
   "execution_count": 24,
   "id": "dc3f7ee8",
   "metadata": {
    "id": "dc3f7ee8"
   },
   "outputs": [
    {
     "data": {
      "text/html": [
       "<div>\n",
       "<style scoped>\n",
       "    .dataframe tbody tr th:only-of-type {\n",
       "        vertical-align: middle;\n",
       "    }\n",
       "\n",
       "    .dataframe tbody tr th {\n",
       "        vertical-align: top;\n",
       "    }\n",
       "\n",
       "    .dataframe thead th {\n",
       "        text-align: right;\n",
       "    }\n",
       "</style>\n",
       "<table border=\"1\" class=\"dataframe\">\n",
       "  <thead>\n",
       "    <tr style=\"text-align: right;\">\n",
       "      <th></th>\n",
       "      <th>family_status</th>\n",
       "      <th>debt</th>\n",
       "    </tr>\n",
       "  </thead>\n",
       "  <tbody>\n",
       "    <tr>\n",
       "      <th>0</th>\n",
       "      <td>женат / замужем</td>\n",
       "      <td>927</td>\n",
       "    </tr>\n",
       "    <tr>\n",
       "      <th>1</th>\n",
       "      <td>гражданский брак</td>\n",
       "      <td>385</td>\n",
       "    </tr>\n",
       "    <tr>\n",
       "      <th>2</th>\n",
       "      <td>Не женат / не замужем</td>\n",
       "      <td>273</td>\n",
       "    </tr>\n",
       "    <tr>\n",
       "      <th>3</th>\n",
       "      <td>в разводе</td>\n",
       "      <td>84</td>\n",
       "    </tr>\n",
       "    <tr>\n",
       "      <th>4</th>\n",
       "      <td>вдовец / вдова</td>\n",
       "      <td>63</td>\n",
       "    </tr>\n",
       "  </tbody>\n",
       "</table>\n",
       "</div>"
      ],
      "text/plain": [
       "           family_status  debt\n",
       "0        женат / замужем   927\n",
       "1       гражданский брак   385\n",
       "2  Не женат / не замужем   273\n",
       "3              в разводе    84\n",
       "4         вдовец / вдова    63"
      ]
     },
     "execution_count": 24,
     "metadata": {},
     "output_type": "execute_result"
    }
   ],
   "source": [
    "df_family_st = data.groupby('family_status')['debt'].sum().sort_values(ascending=False).reset_index()\n",
    "\n",
    "df_family_st"
   ]
  },
  {
   "cell_type": "markdown",
   "id": "ebc102d0",
   "metadata": {},
   "source": [
    "Подсчитаем также долю от общего количества долгов и результат сведём в таблицу:"
   ]
  },
  {
   "cell_type": "code",
   "execution_count": 25,
   "id": "9e9208ee",
   "metadata": {},
   "outputs": [
    {
     "data": {
      "text/html": [
       "<div>\n",
       "<style scoped>\n",
       "    .dataframe tbody tr th:only-of-type {\n",
       "        vertical-align: middle;\n",
       "    }\n",
       "\n",
       "    .dataframe tbody tr th {\n",
       "        vertical-align: top;\n",
       "    }\n",
       "\n",
       "    .dataframe thead th {\n",
       "        text-align: right;\n",
       "    }\n",
       "</style>\n",
       "<table border=\"1\" class=\"dataframe\">\n",
       "  <thead>\n",
       "    <tr style=\"text-align: right;\">\n",
       "      <th></th>\n",
       "      <th>family_status</th>\n",
       "      <th>debt</th>\n",
       "      <th>debt_share</th>\n",
       "    </tr>\n",
       "  </thead>\n",
       "  <tbody>\n",
       "    <tr>\n",
       "      <th>0</th>\n",
       "      <td>женат / замужем</td>\n",
       "      <td>927</td>\n",
       "      <td>0.535219</td>\n",
       "    </tr>\n",
       "    <tr>\n",
       "      <th>1</th>\n",
       "      <td>гражданский брак</td>\n",
       "      <td>385</td>\n",
       "      <td>0.222286</td>\n",
       "    </tr>\n",
       "    <tr>\n",
       "      <th>2</th>\n",
       "      <td>Не женат / не замужем</td>\n",
       "      <td>273</td>\n",
       "      <td>0.157621</td>\n",
       "    </tr>\n",
       "    <tr>\n",
       "      <th>3</th>\n",
       "      <td>в разводе</td>\n",
       "      <td>84</td>\n",
       "      <td>0.048499</td>\n",
       "    </tr>\n",
       "    <tr>\n",
       "      <th>4</th>\n",
       "      <td>вдовец / вдова</td>\n",
       "      <td>63</td>\n",
       "      <td>0.036374</td>\n",
       "    </tr>\n",
       "  </tbody>\n",
       "</table>\n",
       "</div>"
      ],
      "text/plain": [
       "           family_status  debt  debt_share\n",
       "0        женат / замужем   927    0.535219\n",
       "1       гражданский брак   385    0.222286\n",
       "2  Не женат / не замужем   273    0.157621\n",
       "3              в разводе    84    0.048499\n",
       "4         вдовец / вдова    63    0.036374"
      ]
     },
     "execution_count": 25,
     "metadata": {},
     "output_type": "execute_result"
    }
   ],
   "source": [
    "df_family_st['debt_share'] = df_family_st['debt'] / data['debt'].sum()\n",
    "\n",
    "df_family_st"
   ]
  },
  {
   "cell_type": "markdown",
   "id": "1cef7837",
   "metadata": {
    "deletable": false,
    "id": "1cef7837"
   },
   "source": [
    "**Вывод:** большая часть долга по кредитам (около 75%) приходится на семейные пары, включая состоящие в гражданском браке. Похоже, что банку рискованно выдавать кредиты семейным парам. Нужно чаще им отказывать."
   ]
  },
  {
   "cell_type": "markdown",
   "id": "1e8b2fca",
   "metadata": {
    "deletable": false,
    "editable": false,
    "id": "1e8b2fca"
   },
   "source": [
    "**Задание 21. Есть ли зависимость между уровнем дохода и возвратом кредита в срок?**"
   ]
  },
  {
   "cell_type": "markdown",
   "id": "be7b619b",
   "metadata": {},
   "source": [
    "Сгруппируем исходную таблицу по категориям уровня дохода и для каждой подсчитаем количество долгов по кредиту, отсортируем по убыванию:"
   ]
  },
  {
   "cell_type": "code",
   "execution_count": 27,
   "id": "cd7e3720",
   "metadata": {
    "id": "cd7e3720"
   },
   "outputs": [
    {
     "data": {
      "text/html": [
       "<div>\n",
       "<style scoped>\n",
       "    .dataframe tbody tr th:only-of-type {\n",
       "        vertical-align: middle;\n",
       "    }\n",
       "\n",
       "    .dataframe tbody tr th {\n",
       "        vertical-align: top;\n",
       "    }\n",
       "\n",
       "    .dataframe thead th {\n",
       "        text-align: right;\n",
       "    }\n",
       "</style>\n",
       "<table border=\"1\" class=\"dataframe\">\n",
       "  <thead>\n",
       "    <tr style=\"text-align: right;\">\n",
       "      <th></th>\n",
       "      <th>debt</th>\n",
       "      <th>debt_share</th>\n",
       "    </tr>\n",
       "    <tr>\n",
       "      <th>total_income_category</th>\n",
       "      <th></th>\n",
       "      <th></th>\n",
       "    </tr>\n",
       "  </thead>\n",
       "  <tbody>\n",
       "    <tr>\n",
       "      <th>C</th>\n",
       "      <td>1353</td>\n",
       "      <td>0.781178</td>\n",
       "    </tr>\n",
       "    <tr>\n",
       "      <th>B</th>\n",
       "      <td>354</td>\n",
       "      <td>0.204388</td>\n",
       "    </tr>\n",
       "    <tr>\n",
       "      <th>D</th>\n",
       "      <td>21</td>\n",
       "      <td>0.012125</td>\n",
       "    </tr>\n",
       "    <tr>\n",
       "      <th>A</th>\n",
       "      <td>2</td>\n",
       "      <td>0.001155</td>\n",
       "    </tr>\n",
       "    <tr>\n",
       "      <th>E</th>\n",
       "      <td>2</td>\n",
       "      <td>0.001155</td>\n",
       "    </tr>\n",
       "  </tbody>\n",
       "</table>\n",
       "</div>"
      ],
      "text/plain": [
       "                       debt  debt_share\n",
       "total_income_category                  \n",
       "C                      1353    0.781178\n",
       "B                       354    0.204388\n",
       "D                        21    0.012125\n",
       "A                         2    0.001155\n",
       "E                         2    0.001155"
      ]
     },
     "execution_count": 27,
     "metadata": {},
     "output_type": "execute_result"
    }
   ],
   "source": [
    "df_income_cat = data.groupby('total_income_category')['debt'].sum().sort_values(ascending=False)\n",
    "\n",
    "pd.DataFrame({'debt':df_income_cat,'debt_share':(df_income_cat / data['debt'].sum())})"
   ]
  },
  {
   "cell_type": "markdown",
   "id": "e8593def",
   "metadata": {
    "deletable": false,
    "id": "e8593def"
   },
   "source": [
    "**Вывод:** как видно, основная часть долга по кредиту приходится на группу с доходами в категории C, далее следует категория B. Видно, что клиенты с доходом C не очень надёжны. Похоже, что банку нужно одобрять заявки осторожнее."
   ]
  },
  {
   "cell_type": "markdown",
   "id": "99ecbd1f",
   "metadata": {
    "deletable": false,
    "editable": false,
    "id": "99ecbd1f"
   },
   "source": [
    "**Задание 22. Как разные цели кредита влияют на его возврат в срок?**"
   ]
  },
  {
   "cell_type": "markdown",
   "id": "3c6e5334",
   "metadata": {},
   "source": [
    "Извлечем из таблицы серию, сгруппированную по столбцу с целями кредита, и подсчитаем для каждой строки количество задолженностей. Отсортируем результат по убыванию:"
   ]
  },
  {
   "cell_type": "code",
   "execution_count": 30,
   "id": "2b687290",
   "metadata": {
    "id": "2b687290"
   },
   "outputs": [
    {
     "data": {
      "text/html": [
       "<div>\n",
       "<style scoped>\n",
       "    .dataframe tbody tr th:only-of-type {\n",
       "        vertical-align: middle;\n",
       "    }\n",
       "\n",
       "    .dataframe tbody tr th {\n",
       "        vertical-align: top;\n",
       "    }\n",
       "\n",
       "    .dataframe thead th {\n",
       "        text-align: right;\n",
       "    }\n",
       "</style>\n",
       "<table border=\"1\" class=\"dataframe\">\n",
       "  <thead>\n",
       "    <tr style=\"text-align: right;\">\n",
       "      <th></th>\n",
       "      <th>debt</th>\n",
       "      <th>debt_share</th>\n",
       "    </tr>\n",
       "    <tr>\n",
       "      <th>purpose_category</th>\n",
       "      <th></th>\n",
       "      <th></th>\n",
       "    </tr>\n",
       "  </thead>\n",
       "  <tbody>\n",
       "    <tr>\n",
       "      <th>операции с недвижимостью</th>\n",
       "      <td>780</td>\n",
       "      <td>0.450346</td>\n",
       "    </tr>\n",
       "    <tr>\n",
       "      <th>операции с автомобилем</th>\n",
       "      <td>400</td>\n",
       "      <td>0.230947</td>\n",
       "    </tr>\n",
       "    <tr>\n",
       "      <th>получение образования</th>\n",
       "      <td>369</td>\n",
       "      <td>0.213048</td>\n",
       "    </tr>\n",
       "    <tr>\n",
       "      <th>проведение свадьбы</th>\n",
       "      <td>183</td>\n",
       "      <td>0.105658</td>\n",
       "    </tr>\n",
       "  </tbody>\n",
       "</table>\n",
       "</div>"
      ],
      "text/plain": [
       "                          debt  debt_share\n",
       "purpose_category                          \n",
       "операции с недвижимостью   780    0.450346\n",
       "операции с автомобилем     400    0.230947\n",
       "получение образования      369    0.213048\n",
       "проведение свадьбы         183    0.105658"
      ]
     },
     "execution_count": 30,
     "metadata": {},
     "output_type": "execute_result"
    }
   ],
   "source": [
    "df_purp_cat = data.groupby('purpose_category')['debt'].sum().sort_values(ascending=False)\n",
    "\n",
    "pd.DataFrame({'debt':df_purp_cat,'debt_share':(df_purp_cat / data['debt'].sum())})"
   ]
  },
  {
   "cell_type": "markdown",
   "id": "4d3b5845",
   "metadata": {
    "deletable": false,
    "id": "b4bb2ce6"
   },
   "source": [
    "**Вывод:** большая часть долга приходится на кредиты на операции с недвижимостью, примерно равные доли у долгов по кредиту на операции с автомобилями и образованием, остальное приходится на свадьбы."
   ]
  },
  {
   "cell_type": "markdown",
   "id": "ec4781dc",
   "metadata": {},
   "source": [
    "Здесь группа риска - операции с недвижимостью, банку следует чаще отказывать или предлагать более жесткие условия."
   ]
  },
  {
   "cell_type": "markdown",
   "id": "09c3ac4c",
   "metadata": {
    "deletable": false,
    "editable": false,
    "id": "09c3ac4c"
   },
   "source": [
    "**Задание 23. Приведите возможные причины появления пропусков в исходных данных.**"
   ]
  },
  {
   "cell_type": "markdown",
   "id": "9da2ceda",
   "metadata": {
    "deletable": false,
    "id": "9da2ceda"
   },
   "source": [
    "*Ответ:* поскольку в данном случае речь идёт о кредитах в банке, а пропуски были в полях стажа и дохода, вероятно, клиенты сами не указали их в заявке. Так как, возможно, они работают неофициально и получают \"серую\" зарплату, о чём не захотели рассказывать банку."
   ]
  },
  {
   "cell_type": "markdown",
   "id": "7b0487d6",
   "metadata": {
    "deletable": false,
    "editable": false,
    "id": "7b0487d6"
   },
   "source": [
    "**Задание 24. Объясните, почему заполнить пропуски медианным значением — лучшее решение для количественных переменных.**"
   ]
  },
  {
   "cell_type": "markdown",
   "id": "7ecf2b8e",
   "metadata": {
    "deletable": false,
    "id": "7ecf2b8e"
   },
   "source": [
    "*Ответ:* потому что среднее значение могут искажать выбросы в выборке. Например, если сравнить медианный и средний доход по категории \"компаньон\":"
   ]
  },
  {
   "cell_type": "code",
   "execution_count": 74,
   "id": "0dc52227",
   "metadata": {},
   "outputs": [
    {
     "data": {
      "text/plain": [
       "0.8635214511643665"
      ]
     },
     "execution_count": 74,
     "metadata": {},
     "output_type": "execute_result"
    }
   ],
   "source": [
    "data.loc[data['income_type']=='компаньон','total_income'].median() / data.loc[data['income_type']=='компаньон','total_income'].mean()\n"
   ]
  },
  {
   "cell_type": "markdown",
   "id": "d43bf8cf",
   "metadata": {},
   "source": [
    "Среднее почти на 14% больше медианы, это может сильно исказить все последующие расчёты."
   ]
  },
  {
   "cell_type": "markdown",
   "id": "d0b7fefc",
   "metadata": {},
   "source": [
    "Оставлять пропуски тоже не очень: 2174 пропусков  от 21525 строк в столбце, это 10%. Если оставить пустыми, можем опять получить искажения в расчётах дальше. А если от них просто избавиться, потеряем много ценных данных из других колонок."
   ]
  },
  {
   "cell_type": "markdown",
   "id": "6db5255a",
   "metadata": {
    "deletable": false,
    "editable": false,
    "id": "6db5255a"
   },
   "source": [
    "## Общий вывод."
   ]
  },
  {
   "cell_type": "markdown",
   "id": "bad65432",
   "metadata": {
    "id": "bad65432"
   },
   "source": [
    "Основная доля долгов по кредитам приходится на клиентов без детей, состоящих в браке, с доходом в категории C, оформляющих кредит на операции с недвижимостью. "
   ]
  },
  {
   "cell_type": "markdown",
   "id": "9aeebd63",
   "metadata": {},
   "source": [
    "Получается, что для банка обозначенные выше группы клиентов несут наибольшие риски. Возможно, их скоринг стоит оценивать ниже. Наверное, можно рекомендовать также собирать о них больше данных (операции по карте, число других кредитов на момент заявки, регион проживания и т.д).  И\\или предлагать более жёсткие условия. Например, выдавать кредит на меньшую сумму или повышать процентную ставку."
   ]
  }
 ],
 "metadata": {
  "ExecuteTimeLog": [
   {
    "duration": 54,
    "start_time": "2022-06-03T17:41:46.805Z"
   },
   {
    "duration": 536,
    "start_time": "2022-06-03T17:41:57.531Z"
   },
   {
    "duration": 25,
    "start_time": "2022-06-03T17:41:58.069Z"
   },
   {
    "duration": 17,
    "start_time": "2022-06-03T17:41:58.096Z"
   },
   {
    "duration": 14,
    "start_time": "2022-06-03T17:41:58.115Z"
   },
   {
    "duration": 57,
    "start_time": "2022-06-03T17:41:58.131Z"
   },
   {
    "duration": 4,
    "start_time": "2022-06-03T17:41:58.189Z"
   },
   {
    "duration": 16,
    "start_time": "2022-06-03T17:41:58.195Z"
   },
   {
    "duration": 5,
    "start_time": "2022-06-03T17:41:58.212Z"
   },
   {
    "duration": 11,
    "start_time": "2022-06-03T17:41:58.219Z"
   },
   {
    "duration": 4,
    "start_time": "2022-06-03T17:41:58.233Z"
   },
   {
    "duration": 56,
    "start_time": "2022-06-03T17:41:58.238Z"
   },
   {
    "duration": 9,
    "start_time": "2022-06-03T17:41:58.296Z"
   },
   {
    "duration": 4,
    "start_time": "2022-06-03T17:41:58.307Z"
   },
   {
    "duration": 21,
    "start_time": "2022-06-03T17:41:58.312Z"
   },
   {
    "duration": 39,
    "start_time": "2022-06-03T17:41:58.335Z"
   },
   {
    "duration": 14,
    "start_time": "2022-06-03T17:41:58.377Z"
   },
   {
    "duration": 8,
    "start_time": "2022-06-03T17:41:58.393Z"
   },
   {
    "duration": 18,
    "start_time": "2022-06-03T17:41:58.403Z"
   },
   {
    "duration": 12,
    "start_time": "2022-06-03T17:41:58.423Z"
   },
   {
    "duration": 9,
    "start_time": "2022-06-03T17:41:58.437Z"
   },
   {
    "duration": 19,
    "start_time": "2022-06-03T17:41:58.447Z"
   },
   {
    "duration": 23,
    "start_time": "2022-06-03T17:42:03.702Z"
   },
   {
    "duration": 6,
    "start_time": "2022-06-03T18:41:43.028Z"
   },
   {
    "duration": 6,
    "start_time": "2022-06-03T18:41:55.199Z"
   },
   {
    "duration": 6,
    "start_time": "2022-06-03T18:42:26.162Z"
   },
   {
    "duration": 21,
    "start_time": "2022-06-03T18:44:02.695Z"
   },
   {
    "duration": 5,
    "start_time": "2022-06-03T18:44:27.030Z"
   },
   {
    "duration": 408,
    "start_time": "2022-06-03T18:53:21.179Z"
   },
   {
    "duration": 20,
    "start_time": "2022-06-03T18:55:39.775Z"
   },
   {
    "duration": 8,
    "start_time": "2022-06-03T19:50:39.359Z"
   },
   {
    "duration": 22,
    "start_time": "2022-06-03T19:50:56.471Z"
   },
   {
    "duration": 7,
    "start_time": "2022-06-03T19:51:14.716Z"
   },
   {
    "duration": 6,
    "start_time": "2022-06-03T19:52:37.881Z"
   },
   {
    "duration": 7,
    "start_time": "2022-06-03T19:52:50.183Z"
   },
   {
    "duration": 30,
    "start_time": "2022-06-03T19:53:06.826Z"
   },
   {
    "duration": 603,
    "start_time": "2022-06-03T20:01:10.889Z"
   },
   {
    "duration": 25,
    "start_time": "2022-06-03T20:01:58.595Z"
   },
   {
    "duration": 8,
    "start_time": "2022-06-03T20:02:07.605Z"
   },
   {
    "duration": 5,
    "start_time": "2022-06-03T20:02:19.775Z"
   },
   {
    "duration": 6,
    "start_time": "2022-06-03T20:02:28.528Z"
   },
   {
    "duration": 6,
    "start_time": "2022-06-03T20:02:33.011Z"
   },
   {
    "duration": 5,
    "start_time": "2022-06-03T20:02:42.947Z"
   },
   {
    "duration": 8,
    "start_time": "2022-06-03T20:02:48.156Z"
   },
   {
    "duration": 8,
    "start_time": "2022-06-03T20:14:37.111Z"
   },
   {
    "duration": 5,
    "start_time": "2022-06-03T20:14:51.737Z"
   },
   {
    "duration": 7,
    "start_time": "2022-06-03T20:19:48.001Z"
   },
   {
    "duration": 10,
    "start_time": "2022-06-03T20:20:04.090Z"
   },
   {
    "duration": 12,
    "start_time": "2022-06-03T20:20:42.514Z"
   },
   {
    "duration": 9,
    "start_time": "2022-06-03T20:23:57.978Z"
   },
   {
    "duration": 9,
    "start_time": "2022-06-03T20:25:36.069Z"
   },
   {
    "duration": 10,
    "start_time": "2022-06-03T20:27:17.285Z"
   },
   {
    "duration": 11,
    "start_time": "2022-06-03T20:28:01.933Z"
   },
   {
    "duration": 8,
    "start_time": "2022-06-03T20:28:12.143Z"
   },
   {
    "duration": 9,
    "start_time": "2022-06-03T20:28:56.733Z"
   },
   {
    "duration": 9,
    "start_time": "2022-06-03T20:29:39.445Z"
   },
   {
    "duration": 5,
    "start_time": "2022-06-03T20:30:37.911Z"
   },
   {
    "duration": 8,
    "start_time": "2022-06-03T20:30:50.553Z"
   },
   {
    "duration": 8,
    "start_time": "2022-06-03T20:31:04.678Z"
   },
   {
    "duration": 4,
    "start_time": "2022-06-03T20:31:21.831Z"
   },
   {
    "duration": 6,
    "start_time": "2022-06-03T20:31:27.245Z"
   },
   {
    "duration": 4,
    "start_time": "2022-06-03T20:31:47.088Z"
   },
   {
    "duration": 8,
    "start_time": "2022-06-03T20:32:01.177Z"
   },
   {
    "duration": 24,
    "start_time": "2022-06-03T20:33:03.988Z"
   },
   {
    "duration": 3,
    "start_time": "2022-06-03T20:35:38.153Z"
   },
   {
    "duration": 3,
    "start_time": "2022-06-03T20:35:53.431Z"
   },
   {
    "duration": 4,
    "start_time": "2022-06-03T20:35:57.277Z"
   },
   {
    "duration": 4,
    "start_time": "2022-06-03T20:37:26.323Z"
   },
   {
    "duration": 3,
    "start_time": "2022-06-03T20:37:37.516Z"
   },
   {
    "duration": 6,
    "start_time": "2022-06-03T20:38:16.645Z"
   },
   {
    "duration": 5,
    "start_time": "2022-06-03T20:39:06.802Z"
   },
   {
    "duration": 8,
    "start_time": "2022-06-03T20:39:22.022Z"
   },
   {
    "duration": 5,
    "start_time": "2022-06-03T20:39:41.661Z"
   },
   {
    "duration": 4,
    "start_time": "2022-06-03T20:40:16.704Z"
   },
   {
    "duration": 4,
    "start_time": "2022-06-03T20:40:24.747Z"
   },
   {
    "duration": 5,
    "start_time": "2022-06-03T20:40:31.755Z"
   },
   {
    "duration": 10,
    "start_time": "2022-06-03T20:43:12.447Z"
   },
   {
    "duration": 21,
    "start_time": "2022-06-03T20:44:26.327Z"
   },
   {
    "duration": 15,
    "start_time": "2022-06-03T20:46:07.883Z"
   },
   {
    "duration": 16,
    "start_time": "2022-06-03T20:47:08.320Z"
   },
   {
    "duration": 17,
    "start_time": "2022-06-03T20:51:18.136Z"
   },
   {
    "duration": 9,
    "start_time": "2022-06-03T21:00:11.429Z"
   },
   {
    "duration": 128,
    "start_time": "2022-06-04T09:54:10.955Z"
   },
   {
    "duration": 1200,
    "start_time": "2022-06-04T09:54:47.946Z"
   },
   {
    "duration": 51,
    "start_time": "2022-06-04T09:54:49.148Z"
   },
   {
    "duration": 45,
    "start_time": "2022-06-04T09:54:49.206Z"
   },
   {
    "duration": 35,
    "start_time": "2022-06-04T09:54:49.253Z"
   },
   {
    "duration": 101,
    "start_time": "2022-06-04T09:54:49.293Z"
   },
   {
    "duration": 5,
    "start_time": "2022-06-04T09:54:49.396Z"
   },
   {
    "duration": 54,
    "start_time": "2022-06-04T09:54:49.403Z"
   },
   {
    "duration": 33,
    "start_time": "2022-06-04T09:54:49.462Z"
   },
   {
    "duration": 48,
    "start_time": "2022-06-04T09:54:49.497Z"
   },
   {
    "duration": 9,
    "start_time": "2022-06-04T09:54:49.547Z"
   },
   {
    "duration": 232,
    "start_time": "2022-06-04T09:54:49.558Z"
   },
   {
    "duration": 22,
    "start_time": "2022-06-04T09:54:49.792Z"
   },
   {
    "duration": 39,
    "start_time": "2022-06-04T09:54:49.816Z"
   },
   {
    "duration": 89,
    "start_time": "2022-06-04T09:54:49.862Z"
   },
   {
    "duration": 51,
    "start_time": "2022-06-04T09:54:49.955Z"
   },
   {
    "duration": 53,
    "start_time": "2022-06-04T09:54:50.009Z"
   },
   {
    "duration": 73,
    "start_time": "2022-06-04T09:54:50.064Z"
   },
   {
    "duration": 21,
    "start_time": "2022-06-04T09:54:50.139Z"
   },
   {
    "duration": 82,
    "start_time": "2022-06-04T09:54:50.170Z"
   },
   {
    "duration": 78,
    "start_time": "2022-06-04T09:54:50.254Z"
   },
   {
    "duration": 110,
    "start_time": "2022-06-04T09:54:50.334Z"
   },
   {
    "duration": 26,
    "start_time": "2022-06-04T09:54:54.096Z"
   },
   {
    "duration": 21,
    "start_time": "2022-06-04T09:55:32.609Z"
   },
   {
    "duration": 11,
    "start_time": "2022-06-04T10:35:22.119Z"
   },
   {
    "duration": 26,
    "start_time": "2022-06-04T10:37:00.992Z"
   },
   {
    "duration": 41,
    "start_time": "2022-06-04T10:44:33.180Z"
   },
   {
    "duration": 13,
    "start_time": "2022-06-04T10:44:46.022Z"
   },
   {
    "duration": 26,
    "start_time": "2022-06-04T10:51:45.986Z"
   },
   {
    "duration": 11,
    "start_time": "2022-06-04T10:53:55.713Z"
   },
   {
    "duration": 14,
    "start_time": "2022-06-04T10:54:39.031Z"
   },
   {
    "duration": 19,
    "start_time": "2022-06-04T10:55:10.554Z"
   },
   {
    "duration": 42,
    "start_time": "2022-06-04T10:55:38.823Z"
   },
   {
    "duration": 20,
    "start_time": "2022-06-04T10:55:46.404Z"
   },
   {
    "duration": 15,
    "start_time": "2022-06-04T10:58:28.823Z"
   },
   {
    "duration": 18,
    "start_time": "2022-06-04T11:04:17.388Z"
   },
   {
    "duration": 29,
    "start_time": "2022-06-04T11:04:39.272Z"
   },
   {
    "duration": 19,
    "start_time": "2022-06-04T11:18:08.196Z"
   },
   {
    "duration": 17,
    "start_time": "2022-06-04T11:18:41.824Z"
   },
   {
    "duration": 27,
    "start_time": "2022-06-04T11:22:16.929Z"
   },
   {
    "duration": 23,
    "start_time": "2022-06-04T11:22:26.495Z"
   },
   {
    "duration": 29,
    "start_time": "2022-06-04T11:22:36.669Z"
   },
   {
    "duration": 19,
    "start_time": "2022-06-04T11:23:34.913Z"
   },
   {
    "duration": 13,
    "start_time": "2022-06-04T11:23:44.632Z"
   },
   {
    "duration": 72,
    "start_time": "2022-06-04T11:36:59.177Z"
   },
   {
    "duration": 17,
    "start_time": "2022-06-04T11:37:26.714Z"
   },
   {
    "duration": 33,
    "start_time": "2022-06-04T11:41:43.149Z"
   },
   {
    "duration": 20,
    "start_time": "2022-06-04T11:41:58.197Z"
   },
   {
    "duration": 7,
    "start_time": "2022-06-04T11:47:04.432Z"
   },
   {
    "duration": 12,
    "start_time": "2022-06-04T11:48:17.086Z"
   },
   {
    "duration": 23,
    "start_time": "2022-06-04T11:52:57.312Z"
   },
   {
    "duration": 14,
    "start_time": "2022-06-04T12:03:38.288Z"
   },
   {
    "duration": 35,
    "start_time": "2022-06-04T12:17:34.384Z"
   },
   {
    "duration": 15,
    "start_time": "2022-06-04T12:18:15.390Z"
   },
   {
    "duration": 23,
    "start_time": "2022-06-04T12:18:34.385Z"
   },
   {
    "duration": 32,
    "start_time": "2022-06-04T12:32:03.280Z"
   },
   {
    "duration": 8,
    "start_time": "2022-06-04T12:46:13.595Z"
   },
   {
    "duration": 9,
    "start_time": "2022-06-04T12:58:43.306Z"
   },
   {
    "duration": 8,
    "start_time": "2022-06-04T12:59:32.803Z"
   },
   {
    "duration": 9,
    "start_time": "2022-06-04T12:59:53.757Z"
   },
   {
    "duration": 9,
    "start_time": "2022-06-04T13:04:43.985Z"
   },
   {
    "duration": 8,
    "start_time": "2022-06-04T13:50:59.203Z"
   },
   {
    "duration": 25,
    "start_time": "2022-06-04T13:51:28.752Z"
   },
   {
    "duration": 17,
    "start_time": "2022-06-04T13:51:47.509Z"
   },
   {
    "duration": 14,
    "start_time": "2022-06-04T14:00:43.618Z"
   },
   {
    "duration": 104,
    "start_time": "2022-06-04T14:01:39.334Z"
   },
   {
    "duration": 18,
    "start_time": "2022-06-04T14:01:45.203Z"
   },
   {
    "duration": 180,
    "start_time": "2022-06-04T14:02:25.359Z"
   },
   {
    "duration": 1710,
    "start_time": "2022-06-04T14:02:32.047Z"
   },
   {
    "duration": 1043,
    "start_time": "2022-06-04T14:02:55.495Z"
   },
   {
    "duration": 1300,
    "start_time": "2022-06-04T14:04:25.606Z"
   },
   {
    "duration": 916,
    "start_time": "2022-06-04T14:04:58.808Z"
   },
   {
    "duration": 12,
    "start_time": "2022-06-04T14:05:29.613Z"
   },
   {
    "duration": 20,
    "start_time": "2022-06-04T14:06:03.316Z"
   },
   {
    "duration": 54,
    "start_time": "2022-06-05T08:33:11.524Z"
   },
   {
    "duration": 556,
    "start_time": "2022-06-05T08:33:24.502Z"
   },
   {
    "duration": 8,
    "start_time": "2022-06-05T08:33:32.292Z"
   },
   {
    "duration": 74,
    "start_time": "2022-06-05T10:03:04.199Z"
   },
   {
    "duration": 19,
    "start_time": "2022-06-05T10:03:04.275Z"
   },
   {
    "duration": 39,
    "start_time": "2022-06-05T10:03:04.295Z"
   },
   {
    "duration": 13,
    "start_time": "2022-06-05T10:03:04.337Z"
   },
   {
    "duration": 48,
    "start_time": "2022-06-05T10:03:04.353Z"
   },
   {
    "duration": 25,
    "start_time": "2022-06-05T10:03:04.404Z"
   },
   {
    "duration": 15,
    "start_time": "2022-06-05T10:03:04.431Z"
   },
   {
    "duration": 9,
    "start_time": "2022-06-05T10:03:04.448Z"
   },
   {
    "duration": 38,
    "start_time": "2022-06-05T10:03:04.459Z"
   },
   {
    "duration": 31,
    "start_time": "2022-06-05T10:03:04.503Z"
   },
   {
    "duration": 84,
    "start_time": "2022-06-05T10:03:04.537Z"
   },
   {
    "duration": 14,
    "start_time": "2022-06-05T10:03:04.623Z"
   },
   {
    "duration": 18,
    "start_time": "2022-06-05T10:03:04.639Z"
   },
   {
    "duration": 30,
    "start_time": "2022-06-05T10:03:04.659Z"
   },
   {
    "duration": 26,
    "start_time": "2022-06-05T10:03:04.692Z"
   },
   {
    "duration": 21,
    "start_time": "2022-06-05T10:03:04.721Z"
   },
   {
    "duration": 6,
    "start_time": "2022-06-05T10:03:04.744Z"
   },
   {
    "duration": 22,
    "start_time": "2022-06-05T10:03:04.752Z"
   },
   {
    "duration": 9,
    "start_time": "2022-06-05T10:03:04.776Z"
   },
   {
    "duration": 5,
    "start_time": "2022-06-05T10:03:04.787Z"
   },
   {
    "duration": 18,
    "start_time": "2022-06-05T10:03:04.794Z"
   },
   {
    "duration": 13,
    "start_time": "2022-06-05T10:03:08.539Z"
   },
   {
    "duration": 36,
    "start_time": "2022-06-05T10:08:56.296Z"
   },
   {
    "duration": 5,
    "start_time": "2022-06-05T10:09:06.619Z"
   },
   {
    "duration": 11,
    "start_time": "2022-06-05T10:09:16.206Z"
   },
   {
    "duration": 10,
    "start_time": "2022-06-05T10:11:16.408Z"
   },
   {
    "duration": 11,
    "start_time": "2022-06-05T10:12:43.195Z"
   },
   {
    "duration": 3,
    "start_time": "2022-06-05T10:18:19.443Z"
   },
   {
    "duration": 8,
    "start_time": "2022-06-05T10:18:21.835Z"
   },
   {
    "duration": 8,
    "start_time": "2022-06-05T10:19:27.239Z"
   },
   {
    "duration": 11,
    "start_time": "2022-06-05T10:20:45.574Z"
   },
   {
    "duration": 33,
    "start_time": "2022-06-05T10:49:59.010Z"
   },
   {
    "duration": 28,
    "start_time": "2022-06-05T10:52:42.392Z"
   },
   {
    "duration": 58,
    "start_time": "2022-06-05T10:56:21.181Z"
   },
   {
    "duration": 75,
    "start_time": "2022-06-06T19:31:30.881Z"
   },
   {
    "duration": 559,
    "start_time": "2022-06-06T19:31:39.456Z"
   },
   {
    "duration": 25,
    "start_time": "2022-06-06T19:31:40.018Z"
   },
   {
    "duration": 24,
    "start_time": "2022-06-06T19:31:40.044Z"
   },
   {
    "duration": 21,
    "start_time": "2022-06-06T19:31:40.070Z"
   },
   {
    "duration": 38,
    "start_time": "2022-06-06T19:31:40.092Z"
   },
   {
    "duration": 4,
    "start_time": "2022-06-06T19:31:40.132Z"
   },
   {
    "duration": 12,
    "start_time": "2022-06-06T19:31:40.137Z"
   },
   {
    "duration": 4,
    "start_time": "2022-06-06T19:31:40.151Z"
   },
   {
    "duration": 7,
    "start_time": "2022-06-06T19:31:40.190Z"
   },
   {
    "duration": 4,
    "start_time": "2022-06-06T19:31:40.200Z"
   },
   {
    "duration": 39,
    "start_time": "2022-06-06T19:31:40.206Z"
   },
   {
    "duration": 10,
    "start_time": "2022-06-06T19:31:40.246Z"
   },
   {
    "duration": 35,
    "start_time": "2022-06-06T19:31:40.258Z"
   },
   {
    "duration": 30,
    "start_time": "2022-06-06T19:31:40.295Z"
   },
   {
    "duration": 19,
    "start_time": "2022-06-06T19:31:40.326Z"
   },
   {
    "duration": 12,
    "start_time": "2022-06-06T19:31:40.347Z"
   },
   {
    "duration": 4,
    "start_time": "2022-06-06T19:31:40.390Z"
   },
   {
    "duration": 15,
    "start_time": "2022-06-06T19:31:40.395Z"
   },
   {
    "duration": 11,
    "start_time": "2022-06-06T19:31:40.412Z"
   },
   {
    "duration": 3,
    "start_time": "2022-06-06T19:31:40.425Z"
   },
   {
    "duration": 13,
    "start_time": "2022-06-06T19:31:40.430Z"
   },
   {
    "duration": 47,
    "start_time": "2022-06-06T19:31:40.444Z"
   },
   {
    "duration": 39,
    "start_time": "2022-06-06T19:31:44.392Z"
   },
   {
    "duration": 17,
    "start_time": "2022-06-06T19:32:38.289Z"
   },
   {
    "duration": 7,
    "start_time": "2022-06-06T19:33:01.177Z"
   },
   {
    "duration": 677,
    "start_time": "2022-06-10T14:23:49.740Z"
   },
   {
    "duration": 23,
    "start_time": "2022-06-10T14:23:50.419Z"
   },
   {
    "duration": 15,
    "start_time": "2022-06-10T14:23:50.444Z"
   },
   {
    "duration": 10,
    "start_time": "2022-06-10T14:23:50.461Z"
   },
   {
    "duration": 56,
    "start_time": "2022-06-10T14:23:50.472Z"
   },
   {
    "duration": 4,
    "start_time": "2022-06-10T14:23:50.529Z"
   },
   {
    "duration": 10,
    "start_time": "2022-06-10T14:23:50.534Z"
   },
   {
    "duration": 4,
    "start_time": "2022-06-10T14:23:50.546Z"
   },
   {
    "duration": 9,
    "start_time": "2022-06-10T14:23:50.552Z"
   },
   {
    "duration": 3,
    "start_time": "2022-06-10T14:23:50.564Z"
   },
   {
    "duration": 58,
    "start_time": "2022-06-10T14:23:50.569Z"
   },
   {
    "duration": 9,
    "start_time": "2022-06-10T14:23:50.629Z"
   },
   {
    "duration": 3,
    "start_time": "2022-06-10T14:23:50.640Z"
   },
   {
    "duration": 25,
    "start_time": "2022-06-10T14:23:50.644Z"
   },
   {
    "duration": 15,
    "start_time": "2022-06-10T14:23:50.670Z"
   },
   {
    "duration": 10,
    "start_time": "2022-06-10T14:23:50.687Z"
   },
   {
    "duration": 8,
    "start_time": "2022-06-10T14:23:50.698Z"
   },
   {
    "duration": 9,
    "start_time": "2022-06-10T14:23:50.727Z"
   },
   {
    "duration": 10,
    "start_time": "2022-06-10T14:23:50.738Z"
   },
   {
    "duration": 6,
    "start_time": "2022-06-10T14:23:50.749Z"
   },
   {
    "duration": 14,
    "start_time": "2022-06-10T14:23:50.756Z"
   },
   {
    "duration": 12,
    "start_time": "2022-06-10T14:23:50.771Z"
   },
   {
    "duration": 8,
    "start_time": "2022-06-10T14:24:07.115Z"
   },
   {
    "duration": 67,
    "start_time": "2022-06-10T14:24:10.516Z"
   },
   {
    "duration": 11,
    "start_time": "2022-06-10T14:24:38.083Z"
   },
   {
    "duration": 4,
    "start_time": "2022-06-10T14:26:48.564Z"
   },
   {
    "duration": 7,
    "start_time": "2022-06-10T14:26:56.693Z"
   },
   {
    "duration": 48,
    "start_time": "2023-01-08T12:20:03.155Z"
   },
   {
    "duration": 686,
    "start_time": "2023-01-08T12:22:39.396Z"
   },
   {
    "duration": 21,
    "start_time": "2023-01-08T12:22:40.084Z"
   },
   {
    "duration": 13,
    "start_time": "2023-01-08T12:22:40.106Z"
   },
   {
    "duration": 9,
    "start_time": "2023-01-08T12:22:40.121Z"
   },
   {
    "duration": 40,
    "start_time": "2023-01-08T12:22:40.132Z"
   },
   {
    "duration": 4,
    "start_time": "2023-01-08T12:22:40.174Z"
   },
   {
    "duration": 25,
    "start_time": "2023-01-08T12:22:40.179Z"
   },
   {
    "duration": 5,
    "start_time": "2023-01-08T12:22:40.206Z"
   },
   {
    "duration": 9,
    "start_time": "2023-01-08T12:22:40.213Z"
   },
   {
    "duration": 5,
    "start_time": "2023-01-08T12:22:40.225Z"
   },
   {
    "duration": 36,
    "start_time": "2023-01-08T12:22:40.232Z"
   },
   {
    "duration": 31,
    "start_time": "2023-01-08T12:22:40.270Z"
   },
   {
    "duration": 8,
    "start_time": "2023-01-08T12:22:40.302Z"
   },
   {
    "duration": 27,
    "start_time": "2023-01-08T12:22:40.312Z"
   },
   {
    "duration": 19,
    "start_time": "2023-01-08T12:22:40.340Z"
   },
   {
    "duration": 11,
    "start_time": "2023-01-08T12:22:40.361Z"
   },
   {
    "duration": 11,
    "start_time": "2023-01-08T12:22:40.397Z"
   },
   {
    "duration": 20,
    "start_time": "2023-01-08T12:22:40.409Z"
   },
   {
    "duration": 19,
    "start_time": "2023-01-08T12:22:40.431Z"
   },
   {
    "duration": 5,
    "start_time": "2023-01-08T12:22:40.452Z"
   },
   {
    "duration": 18,
    "start_time": "2023-01-08T12:22:40.458Z"
   },
   {
    "duration": 15,
    "start_time": "2023-01-08T12:22:40.478Z"
   },
   {
    "duration": 9,
    "start_time": "2023-01-08T12:22:40.495Z"
   },
   {
    "duration": 7,
    "start_time": "2023-01-08T12:22:40.506Z"
   },
   {
    "duration": 7,
    "start_time": "2023-01-08T12:22:44.013Z"
   },
   {
    "duration": 13,
    "start_time": "2023-01-08T12:23:37.209Z"
   }
  ],
  "colab": {
   "name": "dpp_template_part2.ipynb",
   "provenance": []
  },
  "kernelspec": {
   "display_name": "Python 3 (ipykernel)",
   "language": "python",
   "name": "python3"
  },
  "language_info": {
   "codemirror_mode": {
    "name": "ipython",
    "version": 3
   },
   "file_extension": ".py",
   "mimetype": "text/x-python",
   "name": "python",
   "nbconvert_exporter": "python",
   "pygments_lexer": "ipython3",
   "version": "3.9.5"
  },
  "toc": {
   "base_numbering": 1,
   "nav_menu": {},
   "number_sections": true,
   "sideBar": true,
   "skip_h1_title": true,
   "title_cell": "Table of Contents",
   "title_sidebar": "Contents",
   "toc_cell": false,
   "toc_position": {},
   "toc_section_display": true,
   "toc_window_display": false
  }
 },
 "nbformat": 4,
 "nbformat_minor": 5
}
