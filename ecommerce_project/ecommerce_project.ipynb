{
 "cells": [
  {
   "cell_type": "markdown",
   "metadata": {},
   "source": [
    "# Приоритизация гипотез и анализ результатов A/B теста в крупном интернет-магазине"
   ]
  },
  {
   "cell_type": "markdown",
   "metadata": {},
   "source": [
    "Описание проекта\n",
    "Контекст\n",
    "Вы — аналитик крупного интернет-магазина. Вместе с отделом маркетинга вы подготовили список гипотез для увеличения выручки.\n",
    "Приоритизируйте гипотезы, запустите A/B-тест и проанализируйте результаты. "
   ]
  },
  {
   "cell_type": "markdown",
   "metadata": {},
   "source": [
    "## Приоритизация гипотез."
   ]
  },
  {
   "cell_type": "markdown",
   "metadata": {},
   "source": [
    "В файле /datasets/hypothesis.csv 9 гипотез по увеличению выручки интернет-магазина с указанными параметрами Reach, Impact, Confidence, Effort.\n",
    "Задача\n",
    "\n",
    "    Примените фреймворк ICE для приоритизации гипотез. Отсортируйте их по убыванию приоритета.\n",
    "    Примените фреймворк RICE для приоритизации гипотез. Отсортируйте их по убыванию приоритета.\n",
    "    Укажите, как изменилась приоритизация гипотез при применении RICE вместо ICE. Объясните, почему так произошло."
   ]
  },
  {
   "cell_type": "code",
   "execution_count": 1,
   "metadata": {},
   "outputs": [],
   "source": [
    "import pandas as pd\n",
    "import matplotlib.pyplot as plt\n",
    "import scipy.stats as stats\n",
    "import datetime as dt\n",
    "import numpy as np"
   ]
  },
  {
   "cell_type": "code",
   "execution_count": 2,
   "metadata": {},
   "outputs": [],
   "source": [
    "try:\n",
    "    data = pd.read_csv('/datasets/hypothesis.csv')\n",
    "\n",
    "except:\n",
    "    display('File not found')"
   ]
  },
  {
   "cell_type": "code",
   "execution_count": 3,
   "metadata": {},
   "outputs": [
    {
     "data": {
      "text/html": [
       "<div>\n",
       "<style scoped>\n",
       "    .dataframe tbody tr th:only-of-type {\n",
       "        vertical-align: middle;\n",
       "    }\n",
       "\n",
       "    .dataframe tbody tr th {\n",
       "        vertical-align: top;\n",
       "    }\n",
       "\n",
       "    .dataframe thead th {\n",
       "        text-align: right;\n",
       "    }\n",
       "</style>\n",
       "<table border=\"1\" class=\"dataframe\">\n",
       "  <thead>\n",
       "    <tr style=\"text-align: right;\">\n",
       "      <th></th>\n",
       "      <th>Hypothesis</th>\n",
       "      <th>Reach</th>\n",
       "      <th>Impact</th>\n",
       "      <th>Confidence</th>\n",
       "      <th>Efforts</th>\n",
       "    </tr>\n",
       "  </thead>\n",
       "  <tbody>\n",
       "    <tr>\n",
       "      <th>0</th>\n",
       "      <td>Добавить два новых канала привлечения трафика,...</td>\n",
       "      <td>3</td>\n",
       "      <td>10</td>\n",
       "      <td>8</td>\n",
       "      <td>6</td>\n",
       "    </tr>\n",
       "    <tr>\n",
       "      <th>1</th>\n",
       "      <td>Запустить собственную службу доставки, что сок...</td>\n",
       "      <td>2</td>\n",
       "      <td>5</td>\n",
       "      <td>4</td>\n",
       "      <td>10</td>\n",
       "    </tr>\n",
       "    <tr>\n",
       "      <th>2</th>\n",
       "      <td>Добавить блоки рекомендаций товаров на сайт ин...</td>\n",
       "      <td>8</td>\n",
       "      <td>3</td>\n",
       "      <td>7</td>\n",
       "      <td>3</td>\n",
       "    </tr>\n",
       "    <tr>\n",
       "      <th>3</th>\n",
       "      <td>Изменить структура категорий, что увеличит кон...</td>\n",
       "      <td>8</td>\n",
       "      <td>3</td>\n",
       "      <td>3</td>\n",
       "      <td>8</td>\n",
       "    </tr>\n",
       "    <tr>\n",
       "      <th>4</th>\n",
       "      <td>Изменить цвет фона главной страницы, чтобы уве...</td>\n",
       "      <td>3</td>\n",
       "      <td>1</td>\n",
       "      <td>1</td>\n",
       "      <td>1</td>\n",
       "    </tr>\n",
       "    <tr>\n",
       "      <th>5</th>\n",
       "      <td>Добавить страницу отзывов клиентов о магазине,...</td>\n",
       "      <td>3</td>\n",
       "      <td>2</td>\n",
       "      <td>2</td>\n",
       "      <td>3</td>\n",
       "    </tr>\n",
       "    <tr>\n",
       "      <th>6</th>\n",
       "      <td>Показать на главной странице баннеры с актуаль...</td>\n",
       "      <td>5</td>\n",
       "      <td>3</td>\n",
       "      <td>8</td>\n",
       "      <td>3</td>\n",
       "    </tr>\n",
       "    <tr>\n",
       "      <th>7</th>\n",
       "      <td>Добавить форму подписки на все основные страни...</td>\n",
       "      <td>10</td>\n",
       "      <td>7</td>\n",
       "      <td>8</td>\n",
       "      <td>5</td>\n",
       "    </tr>\n",
       "    <tr>\n",
       "      <th>8</th>\n",
       "      <td>Запустить акцию, дающую скидку на товар в день...</td>\n",
       "      <td>1</td>\n",
       "      <td>9</td>\n",
       "      <td>9</td>\n",
       "      <td>5</td>\n",
       "    </tr>\n",
       "  </tbody>\n",
       "</table>\n",
       "</div>"
      ],
      "text/plain": [
       "                                          Hypothesis  Reach  Impact  \\\n",
       "0  Добавить два новых канала привлечения трафика,...      3      10   \n",
       "1  Запустить собственную службу доставки, что сок...      2       5   \n",
       "2  Добавить блоки рекомендаций товаров на сайт ин...      8       3   \n",
       "3  Изменить структура категорий, что увеличит кон...      8       3   \n",
       "4  Изменить цвет фона главной страницы, чтобы уве...      3       1   \n",
       "5  Добавить страницу отзывов клиентов о магазине,...      3       2   \n",
       "6  Показать на главной странице баннеры с актуаль...      5       3   \n",
       "7  Добавить форму подписки на все основные страни...     10       7   \n",
       "8  Запустить акцию, дающую скидку на товар в день...      1       9   \n",
       "\n",
       "   Confidence  Efforts  \n",
       "0           8        6  \n",
       "1           4       10  \n",
       "2           7        3  \n",
       "3           3        8  \n",
       "4           1        1  \n",
       "5           2        3  \n",
       "6           8        3  \n",
       "7           8        5  \n",
       "8           9        5  "
      ]
     },
     "execution_count": 3,
     "metadata": {},
     "output_type": "execute_result"
    }
   ],
   "source": [
    "data"
   ]
  },
  {
   "cell_type": "code",
   "execution_count": 4,
   "metadata": {},
   "outputs": [
    {
     "data": {
      "text/html": [
       "<div>\n",
       "<style scoped>\n",
       "    .dataframe tbody tr th:only-of-type {\n",
       "        vertical-align: middle;\n",
       "    }\n",
       "\n",
       "    .dataframe tbody tr th {\n",
       "        vertical-align: top;\n",
       "    }\n",
       "\n",
       "    .dataframe thead th {\n",
       "        text-align: right;\n",
       "    }\n",
       "</style>\n",
       "<table border=\"1\" class=\"dataframe\">\n",
       "  <thead>\n",
       "    <tr style=\"text-align: right;\">\n",
       "      <th></th>\n",
       "      <th>Hypothesis</th>\n",
       "      <th>ice_score</th>\n",
       "    </tr>\n",
       "  </thead>\n",
       "  <tbody>\n",
       "    <tr>\n",
       "      <th>8</th>\n",
       "      <td>Запустить акцию, дающую скидку на товар в день...</td>\n",
       "      <td>16.200000</td>\n",
       "    </tr>\n",
       "    <tr>\n",
       "      <th>0</th>\n",
       "      <td>Добавить два новых канала привлечения трафика,...</td>\n",
       "      <td>13.333333</td>\n",
       "    </tr>\n",
       "    <tr>\n",
       "      <th>7</th>\n",
       "      <td>Добавить форму подписки на все основные страни...</td>\n",
       "      <td>11.200000</td>\n",
       "    </tr>\n",
       "    <tr>\n",
       "      <th>6</th>\n",
       "      <td>Показать на главной странице баннеры с актуаль...</td>\n",
       "      <td>8.000000</td>\n",
       "    </tr>\n",
       "    <tr>\n",
       "      <th>2</th>\n",
       "      <td>Добавить блоки рекомендаций товаров на сайт ин...</td>\n",
       "      <td>7.000000</td>\n",
       "    </tr>\n",
       "    <tr>\n",
       "      <th>1</th>\n",
       "      <td>Запустить собственную службу доставки, что сок...</td>\n",
       "      <td>2.000000</td>\n",
       "    </tr>\n",
       "    <tr>\n",
       "      <th>5</th>\n",
       "      <td>Добавить страницу отзывов клиентов о магазине,...</td>\n",
       "      <td>1.333333</td>\n",
       "    </tr>\n",
       "    <tr>\n",
       "      <th>3</th>\n",
       "      <td>Изменить структура категорий, что увеличит кон...</td>\n",
       "      <td>1.125000</td>\n",
       "    </tr>\n",
       "    <tr>\n",
       "      <th>4</th>\n",
       "      <td>Изменить цвет фона главной страницы, чтобы уве...</td>\n",
       "      <td>1.000000</td>\n",
       "    </tr>\n",
       "  </tbody>\n",
       "</table>\n",
       "</div>"
      ],
      "text/plain": [
       "                                          Hypothesis  ice_score\n",
       "8  Запустить акцию, дающую скидку на товар в день...  16.200000\n",
       "0  Добавить два новых канала привлечения трафика,...  13.333333\n",
       "7  Добавить форму подписки на все основные страни...  11.200000\n",
       "6  Показать на главной странице баннеры с актуаль...   8.000000\n",
       "2  Добавить блоки рекомендаций товаров на сайт ин...   7.000000\n",
       "1  Запустить собственную службу доставки, что сок...   2.000000\n",
       "5  Добавить страницу отзывов клиентов о магазине,...   1.333333\n",
       "3  Изменить структура категорий, что увеличит кон...   1.125000\n",
       "4  Изменить цвет фона главной страницы, чтобы уве...   1.000000"
      ]
     },
     "execution_count": 4,
     "metadata": {},
     "output_type": "execute_result"
    }
   ],
   "source": [
    "#проверка по фреймворку ICE\n",
    "data['ice_score'] = data['Impact'] * data['Confidence'] / data['Efforts']\n",
    "\n",
    "data[['Hypothesis', 'ice_score']].sort_values('ice_score', ascending=False)"
   ]
  },
  {
   "cell_type": "markdown",
   "metadata": {},
   "source": [
    "Побеждает гипотеза №8"
   ]
  },
  {
   "cell_type": "code",
   "execution_count": 5,
   "metadata": {},
   "outputs": [
    {
     "data": {
      "text/html": [
       "<div>\n",
       "<style scoped>\n",
       "    .dataframe tbody tr th:only-of-type {\n",
       "        vertical-align: middle;\n",
       "    }\n",
       "\n",
       "    .dataframe tbody tr th {\n",
       "        vertical-align: top;\n",
       "    }\n",
       "\n",
       "    .dataframe thead th {\n",
       "        text-align: right;\n",
       "    }\n",
       "</style>\n",
       "<table border=\"1\" class=\"dataframe\">\n",
       "  <thead>\n",
       "    <tr style=\"text-align: right;\">\n",
       "      <th></th>\n",
       "      <th>Hypothesis</th>\n",
       "      <th>rice_score</th>\n",
       "    </tr>\n",
       "  </thead>\n",
       "  <tbody>\n",
       "    <tr>\n",
       "      <th>7</th>\n",
       "      <td>Добавить форму подписки на все основные страни...</td>\n",
       "      <td>112.0</td>\n",
       "    </tr>\n",
       "    <tr>\n",
       "      <th>2</th>\n",
       "      <td>Добавить блоки рекомендаций товаров на сайт ин...</td>\n",
       "      <td>56.0</td>\n",
       "    </tr>\n",
       "    <tr>\n",
       "      <th>0</th>\n",
       "      <td>Добавить два новых канала привлечения трафика,...</td>\n",
       "      <td>40.0</td>\n",
       "    </tr>\n",
       "    <tr>\n",
       "      <th>6</th>\n",
       "      <td>Показать на главной странице баннеры с актуаль...</td>\n",
       "      <td>40.0</td>\n",
       "    </tr>\n",
       "    <tr>\n",
       "      <th>8</th>\n",
       "      <td>Запустить акцию, дающую скидку на товар в день...</td>\n",
       "      <td>16.2</td>\n",
       "    </tr>\n",
       "    <tr>\n",
       "      <th>3</th>\n",
       "      <td>Изменить структура категорий, что увеличит кон...</td>\n",
       "      <td>9.0</td>\n",
       "    </tr>\n",
       "    <tr>\n",
       "      <th>1</th>\n",
       "      <td>Запустить собственную службу доставки, что сок...</td>\n",
       "      <td>4.0</td>\n",
       "    </tr>\n",
       "    <tr>\n",
       "      <th>5</th>\n",
       "      <td>Добавить страницу отзывов клиентов о магазине,...</td>\n",
       "      <td>4.0</td>\n",
       "    </tr>\n",
       "    <tr>\n",
       "      <th>4</th>\n",
       "      <td>Изменить цвет фона главной страницы, чтобы уве...</td>\n",
       "      <td>3.0</td>\n",
       "    </tr>\n",
       "  </tbody>\n",
       "</table>\n",
       "</div>"
      ],
      "text/plain": [
       "                                          Hypothesis  rice_score\n",
       "7  Добавить форму подписки на все основные страни...       112.0\n",
       "2  Добавить блоки рекомендаций товаров на сайт ин...        56.0\n",
       "0  Добавить два новых канала привлечения трафика,...        40.0\n",
       "6  Показать на главной странице баннеры с актуаль...        40.0\n",
       "8  Запустить акцию, дающую скидку на товар в день...        16.2\n",
       "3  Изменить структура категорий, что увеличит кон...         9.0\n",
       "1  Запустить собственную службу доставки, что сок...         4.0\n",
       "5  Добавить страницу отзывов клиентов о магазине,...         4.0\n",
       "4  Изменить цвет фона главной страницы, чтобы уве...         3.0"
      ]
     },
     "execution_count": 5,
     "metadata": {},
     "output_type": "execute_result"
    }
   ],
   "source": [
    "#проверка по фреймворку RICE\n",
    "data['rice_score'] = data['Reach'] * data['Impact'] * data['Confidence'] / data['Efforts']\n",
    "\n",
    "data[['Hypothesis', 'rice_score']].sort_values('rice_score', ascending=False)"
   ]
  },
  {
   "cell_type": "markdown",
   "metadata": {},
   "source": [
    "Добавление параметра Reach перераспределило приоритет. Учёт охвата пользователей (значение =10) позволил гипотезе №7 выйти на первое место, лучше начинать рассматривать её."
   ]
  },
  {
   "cell_type": "markdown",
   "metadata": {},
   "source": [
    "## Анализ A/B-теста"
   ]
  },
  {
   "cell_type": "markdown",
   "metadata": {},
   "source": [
    "Вы провели A/B-тест и получили результаты, которые описаны в файлах /datasets/orders.csv и /datasets/visitors.csv.\n",
    "Задача\n",
    "Проанализируйте A/B-тест:\n",
    "\n",
    "    Постройте график кумулятивной выручки по группам. Сделайте выводы и предположения.\n",
    "    Постройте график кумулятивного среднего чека по группам. Сделайте выводы и предположения.\n",
    "    Постройте график относительного изменения кумулятивного среднего чека группы B к группе A. Сделайте выводы и предположения.\n",
    "    Постройте график кумулятивной конверсии по группам. Сделайте выводы и предположения.\n",
    "    Постройте график относительного изменения кумулятивной конверсии группы B к группе A. Сделайте выводы и предположения.\n",
    "    Постройте точечный график количества заказов по пользователям. Сделайте выводы и предположения.\n",
    "    Посчитайте 95-й и 99-й перцентили количества заказов на пользователя. Выберите границу для определения аномальных пользователей.\n",
    "    Постройте точечный график стоимостей заказов. Сделайте выводы и предположения.\n",
    "    Посчитайте 95-й и 99-й перцентили стоимости заказов. Выберите границу для определения аномальных заказов.\n",
    "    Посчитайте статистическую значимость различий в конверсии между группами по «сырым» данным. Сделайте выводы и предположения.\n",
    "    Посчитайте статистическую значимость различий в среднем чеке заказа между группами по «сырым» данным. Сделайте выводы и предположения.\n",
    "    Посчитайте статистическую значимость различий в конверсии между группами по «очищенным» данным. Сделайте выводы и предположения.\n",
    "    Посчитайте статистическую значимость различий в среднем чеке заказа между группами по «очищенным» данным. Сделайте выводы и предположения.\n",
    "    Примите решение по результатам теста и объясните его. Варианты решений: 1. Остановить тест, зафиксировать победу одной из групп. 2. Остановить тест, зафиксировать отсутствие различий между группами. 3. Продолжить тест."
   ]
  },
  {
   "cell_type": "code",
   "execution_count": 6,
   "metadata": {},
   "outputs": [
    {
     "data": {
      "text/html": [
       "<div>\n",
       "<style scoped>\n",
       "    .dataframe tbody tr th:only-of-type {\n",
       "        vertical-align: middle;\n",
       "    }\n",
       "\n",
       "    .dataframe tbody tr th {\n",
       "        vertical-align: top;\n",
       "    }\n",
       "\n",
       "    .dataframe thead th {\n",
       "        text-align: right;\n",
       "    }\n",
       "</style>\n",
       "<table border=\"1\" class=\"dataframe\">\n",
       "  <thead>\n",
       "    <tr style=\"text-align: right;\">\n",
       "      <th></th>\n",
       "      <th>transactionId</th>\n",
       "      <th>visitorId</th>\n",
       "      <th>date</th>\n",
       "      <th>revenue</th>\n",
       "      <th>group</th>\n",
       "    </tr>\n",
       "  </thead>\n",
       "  <tbody>\n",
       "    <tr>\n",
       "      <th>0</th>\n",
       "      <td>3667963787</td>\n",
       "      <td>3312258926</td>\n",
       "      <td>2019-08-15</td>\n",
       "      <td>1650</td>\n",
       "      <td>B</td>\n",
       "    </tr>\n",
       "    <tr>\n",
       "      <th>1</th>\n",
       "      <td>2804400009</td>\n",
       "      <td>3642806036</td>\n",
       "      <td>2019-08-15</td>\n",
       "      <td>730</td>\n",
       "      <td>B</td>\n",
       "    </tr>\n",
       "    <tr>\n",
       "      <th>2</th>\n",
       "      <td>2961555356</td>\n",
       "      <td>4069496402</td>\n",
       "      <td>2019-08-15</td>\n",
       "      <td>400</td>\n",
       "      <td>A</td>\n",
       "    </tr>\n",
       "    <tr>\n",
       "      <th>3</th>\n",
       "      <td>3797467345</td>\n",
       "      <td>1196621759</td>\n",
       "      <td>2019-08-15</td>\n",
       "      <td>9759</td>\n",
       "      <td>B</td>\n",
       "    </tr>\n",
       "    <tr>\n",
       "      <th>4</th>\n",
       "      <td>2282983706</td>\n",
       "      <td>2322279887</td>\n",
       "      <td>2019-08-15</td>\n",
       "      <td>2308</td>\n",
       "      <td>B</td>\n",
       "    </tr>\n",
       "  </tbody>\n",
       "</table>\n",
       "</div>"
      ],
      "text/plain": [
       "   transactionId   visitorId       date  revenue group\n",
       "0     3667963787  3312258926 2019-08-15     1650     B\n",
       "1     2804400009  3642806036 2019-08-15      730     B\n",
       "2     2961555356  4069496402 2019-08-15      400     A\n",
       "3     3797467345  1196621759 2019-08-15     9759     B\n",
       "4     2282983706  2322279887 2019-08-15     2308     B"
      ]
     },
     "metadata": {},
     "output_type": "display_data"
    },
    {
     "data": {
      "text/html": [
       "<div>\n",
       "<style scoped>\n",
       "    .dataframe tbody tr th:only-of-type {\n",
       "        vertical-align: middle;\n",
       "    }\n",
       "\n",
       "    .dataframe tbody tr th {\n",
       "        vertical-align: top;\n",
       "    }\n",
       "\n",
       "    .dataframe thead th {\n",
       "        text-align: right;\n",
       "    }\n",
       "</style>\n",
       "<table border=\"1\" class=\"dataframe\">\n",
       "  <thead>\n",
       "    <tr style=\"text-align: right;\">\n",
       "      <th></th>\n",
       "      <th>date</th>\n",
       "      <th>group</th>\n",
       "      <th>visitors</th>\n",
       "    </tr>\n",
       "  </thead>\n",
       "  <tbody>\n",
       "    <tr>\n",
       "      <th>0</th>\n",
       "      <td>2019-08-01</td>\n",
       "      <td>A</td>\n",
       "      <td>719</td>\n",
       "    </tr>\n",
       "    <tr>\n",
       "      <th>1</th>\n",
       "      <td>2019-08-02</td>\n",
       "      <td>A</td>\n",
       "      <td>619</td>\n",
       "    </tr>\n",
       "    <tr>\n",
       "      <th>2</th>\n",
       "      <td>2019-08-03</td>\n",
       "      <td>A</td>\n",
       "      <td>507</td>\n",
       "    </tr>\n",
       "    <tr>\n",
       "      <th>3</th>\n",
       "      <td>2019-08-04</td>\n",
       "      <td>A</td>\n",
       "      <td>717</td>\n",
       "    </tr>\n",
       "    <tr>\n",
       "      <th>4</th>\n",
       "      <td>2019-08-05</td>\n",
       "      <td>A</td>\n",
       "      <td>756</td>\n",
       "    </tr>\n",
       "  </tbody>\n",
       "</table>\n",
       "</div>"
      ],
      "text/plain": [
       "        date group  visitors\n",
       "0 2019-08-01     A       719\n",
       "1 2019-08-02     A       619\n",
       "2 2019-08-03     A       507\n",
       "3 2019-08-04     A       717\n",
       "4 2019-08-05     A       756"
      ]
     },
     "metadata": {},
     "output_type": "display_data"
    }
   ],
   "source": [
    "#прочитаем файлы, создадим переменные\n",
    "\n",
    "orders = pd.read_csv('/datasets/orders.csv', sep=',')\n",
    "orders['date'] = orders['date'].map(\n",
    "    lambda x: dt.datetime.strptime(x, '%Y-%m-%d')\n",
    ")\n",
    "\n",
    "visitors = pd.read_csv('/datasets/visitors.csv', sep=',')\n",
    "visitors['date'] = visitors['date'].map(\n",
    "    lambda x: dt.datetime.strptime(x, '%Y-%m-%d')\n",
    ")\n",
    "\n",
    "display(orders.head())\n",
    "display(visitors.head())"
   ]
  },
  {
   "cell_type": "code",
   "execution_count": 7,
   "metadata": {},
   "outputs": [
    {
     "data": {
      "text/plain": [
       "group\n",
       "A    18736\n",
       "B    18916\n",
       "Name: visitors, dtype: int64"
      ]
     },
     "execution_count": 7,
     "metadata": {},
     "output_type": "execute_result"
    }
   ],
   "source": [
    "#проверим деление на группы\n",
    "visitors.groupby('group')['visitors'].sum()"
   ]
  },
  {
   "cell_type": "code",
   "execution_count": 8,
   "metadata": {},
   "outputs": [
    {
     "data": {
      "text/plain": [
       "0.0096"
      ]
     },
     "execution_count": 8,
     "metadata": {},
     "output_type": "execute_result"
    }
   ],
   "source": [
    "round(visitors.query('group==\"B\"')['visitors'].sum() / visitors.query('group==\"A\"')['visitors'].sum() - 1,4)"
   ]
  },
  {
   "cell_type": "markdown",
   "metadata": {},
   "source": [
    "Численно группы почти равны, разница менее 1%"
   ]
  },
  {
   "cell_type": "code",
   "execution_count": 9,
   "metadata": {},
   "outputs": [
    {
     "data": {
      "text/plain": [
       "58"
      ]
     },
     "execution_count": 9,
     "metadata": {},
     "output_type": "execute_result"
    }
   ],
   "source": [
    "#проверим пересечение групп\n",
    "orders.query('group==\"A\"')['visitorId'].drop_duplicates().isin(orders.query('group==\"B\"')['visitorId']).sum()"
   ]
  },
  {
   "cell_type": "markdown",
   "metadata": {},
   "source": [
    "Группы пересекаются, есть 58 общих пользователей. **Вопрос для ревьюера**: надо ли их удалять?"
   ]
  },
  {
   "cell_type": "code",
   "execution_count": 10,
   "metadata": {},
   "outputs": [
    {
     "data": {
      "text/html": [
       "<div>\n",
       "<style scoped>\n",
       "    .dataframe tbody tr th:only-of-type {\n",
       "        vertical-align: middle;\n",
       "    }\n",
       "\n",
       "    .dataframe tbody tr th {\n",
       "        vertical-align: top;\n",
       "    }\n",
       "\n",
       "    .dataframe thead th {\n",
       "        text-align: right;\n",
       "    }\n",
       "</style>\n",
       "<table border=\"1\" class=\"dataframe\">\n",
       "  <thead>\n",
       "    <tr style=\"text-align: right;\">\n",
       "      <th></th>\n",
       "      <th>date</th>\n",
       "      <th>group</th>\n",
       "    </tr>\n",
       "  </thead>\n",
       "  <tbody>\n",
       "    <tr>\n",
       "      <th>0</th>\n",
       "      <td>2019-08-15</td>\n",
       "      <td>B</td>\n",
       "    </tr>\n",
       "    <tr>\n",
       "      <th>2</th>\n",
       "      <td>2019-08-15</td>\n",
       "      <td>A</td>\n",
       "    </tr>\n",
       "    <tr>\n",
       "      <th>45</th>\n",
       "      <td>2019-08-16</td>\n",
       "      <td>A</td>\n",
       "    </tr>\n",
       "    <tr>\n",
       "      <th>47</th>\n",
       "      <td>2019-08-16</td>\n",
       "      <td>B</td>\n",
       "    </tr>\n",
       "    <tr>\n",
       "      <th>55</th>\n",
       "      <td>2019-08-01</td>\n",
       "      <td>A</td>\n",
       "    </tr>\n",
       "    <tr>\n",
       "      <th>...</th>\n",
       "      <td>...</td>\n",
       "      <td>...</td>\n",
       "    </tr>\n",
       "    <tr>\n",
       "      <th>1068</th>\n",
       "      <td>2019-08-12</td>\n",
       "      <td>A</td>\n",
       "    </tr>\n",
       "    <tr>\n",
       "      <th>1114</th>\n",
       "      <td>2019-08-13</td>\n",
       "      <td>B</td>\n",
       "    </tr>\n",
       "    <tr>\n",
       "      <th>1116</th>\n",
       "      <td>2019-08-13</td>\n",
       "      <td>A</td>\n",
       "    </tr>\n",
       "    <tr>\n",
       "      <th>1149</th>\n",
       "      <td>2019-08-14</td>\n",
       "      <td>B</td>\n",
       "    </tr>\n",
       "    <tr>\n",
       "      <th>1150</th>\n",
       "      <td>2019-08-14</td>\n",
       "      <td>A</td>\n",
       "    </tr>\n",
       "  </tbody>\n",
       "</table>\n",
       "<p>62 rows × 2 columns</p>\n",
       "</div>"
      ],
      "text/plain": [
       "           date group\n",
       "0    2019-08-15     B\n",
       "2    2019-08-15     A\n",
       "45   2019-08-16     A\n",
       "47   2019-08-16     B\n",
       "55   2019-08-01     A\n",
       "...         ...   ...\n",
       "1068 2019-08-12     A\n",
       "1114 2019-08-13     B\n",
       "1116 2019-08-13     A\n",
       "1149 2019-08-14     B\n",
       "1150 2019-08-14     A\n",
       "\n",
       "[62 rows x 2 columns]"
      ]
     },
     "execution_count": 10,
     "metadata": {},
     "output_type": "execute_result"
    }
   ],
   "source": [
    "# создаем массив уникальных пар значений дат и групп теста\n",
    "datesGroups = orders[['date','group']].drop_duplicates() \n",
    "datesGroups"
   ]
  },
  {
   "cell_type": "code",
   "execution_count": 11,
   "metadata": {},
   "outputs": [],
   "source": [
    "# получаем агрегированные кумулятивные по дням данные о заказах \n",
    "ordersAggregated = (datesGroups.apply(\n",
    "    lambda x: orders[np.logical_and(\n",
    "        orders['date'] <= x['date'], orders['group'] == x['group'])]\n",
    "                                      .agg({\n",
    "                                          'date' : 'max',\n",
    "                                          'group' : 'max',\n",
    "                                          'transactionId' : 'nunique',\n",
    "                                          'visitorId' : 'nunique',\n",
    "                                          'revenue' : 'sum'}), axis=1)\n",
    "                    .sort_values(by=['date','group']))"
   ]
  },
  {
   "cell_type": "code",
   "execution_count": 12,
   "metadata": {},
   "outputs": [],
   "source": [
    "# получаем агрегированные кумулятивные по дням данные о посетителях интернет-магазина \n",
    "visitorsAggregated = (datesGroups\n",
    "                      .apply(\n",
    "                          lambda x: visitors[np.logical_and(visitors['date'] <= x['date'], visitors['group'] == x['group'])]\n",
    "                             .agg({\n",
    "                                 'date' : 'max',\n",
    "                                 'group' : 'max',\n",
    "                                 'visitors' : 'sum'}), axis=1)\n",
    "                      .sort_values(by=['date','group']))"
   ]
  },
  {
   "cell_type": "code",
   "execution_count": 13,
   "metadata": {},
   "outputs": [
    {
     "data": {
      "text/html": [
       "<div>\n",
       "<style scoped>\n",
       "    .dataframe tbody tr th:only-of-type {\n",
       "        vertical-align: middle;\n",
       "    }\n",
       "\n",
       "    .dataframe tbody tr th {\n",
       "        vertical-align: top;\n",
       "    }\n",
       "\n",
       "    .dataframe thead th {\n",
       "        text-align: right;\n",
       "    }\n",
       "</style>\n",
       "<table border=\"1\" class=\"dataframe\">\n",
       "  <thead>\n",
       "    <tr style=\"text-align: right;\">\n",
       "      <th></th>\n",
       "      <th>date</th>\n",
       "      <th>group</th>\n",
       "      <th>orders</th>\n",
       "      <th>buyers</th>\n",
       "      <th>revenue</th>\n",
       "      <th>visitors</th>\n",
       "    </tr>\n",
       "  </thead>\n",
       "  <tbody>\n",
       "    <tr>\n",
       "      <th>0</th>\n",
       "      <td>2019-08-01</td>\n",
       "      <td>A</td>\n",
       "      <td>24</td>\n",
       "      <td>20</td>\n",
       "      <td>148579</td>\n",
       "      <td>719</td>\n",
       "    </tr>\n",
       "    <tr>\n",
       "      <th>1</th>\n",
       "      <td>2019-08-01</td>\n",
       "      <td>B</td>\n",
       "      <td>21</td>\n",
       "      <td>20</td>\n",
       "      <td>101217</td>\n",
       "      <td>713</td>\n",
       "    </tr>\n",
       "    <tr>\n",
       "      <th>2</th>\n",
       "      <td>2019-08-02</td>\n",
       "      <td>A</td>\n",
       "      <td>44</td>\n",
       "      <td>38</td>\n",
       "      <td>242401</td>\n",
       "      <td>1338</td>\n",
       "    </tr>\n",
       "    <tr>\n",
       "      <th>3</th>\n",
       "      <td>2019-08-02</td>\n",
       "      <td>B</td>\n",
       "      <td>45</td>\n",
       "      <td>43</td>\n",
       "      <td>266748</td>\n",
       "      <td>1294</td>\n",
       "    </tr>\n",
       "    <tr>\n",
       "      <th>4</th>\n",
       "      <td>2019-08-03</td>\n",
       "      <td>A</td>\n",
       "      <td>68</td>\n",
       "      <td>62</td>\n",
       "      <td>354874</td>\n",
       "      <td>1845</td>\n",
       "    </tr>\n",
       "  </tbody>\n",
       "</table>\n",
       "</div>"
      ],
      "text/plain": [
       "        date group  orders  buyers  revenue  visitors\n",
       "0 2019-08-01     A      24      20   148579       719\n",
       "1 2019-08-01     B      21      20   101217       713\n",
       "2 2019-08-02     A      44      38   242401      1338\n",
       "3 2019-08-02     B      45      43   266748      1294\n",
       "4 2019-08-03     A      68      62   354874      1845"
      ]
     },
     "execution_count": 13,
     "metadata": {},
     "output_type": "execute_result"
    }
   ],
   "source": [
    "# объединяем кумулятивные данные в одной таблице, переименовываем столбцы\n",
    "cumulativeData = ordersAggregated.merge(visitorsAggregated, left_on=['date', 'group'], right_on=['date', 'group'])\n",
    "\n",
    "cumulativeData.columns = ['date', 'group', 'orders', 'buyers', 'revenue', 'visitors']\n",
    "\n",
    "cumulativeData.head()"
   ]
  },
  {
   "cell_type": "code",
   "execution_count": 14,
   "metadata": {},
   "outputs": [
    {
     "data": {
      "text/plain": [
       "Text(0.5, 0, 'date')"
      ]
     },
     "execution_count": 14,
     "metadata": {},
     "output_type": "execute_result"
    },
    {
     "data": {
      "image/png": "[encoded data removed]",
      "text/plain": [
       "<Figure size 432x288 with 1 Axes>"
      ]
     },
     "metadata": {
      "needs_background": "light"
     },
     "output_type": "display_data"
    }
   ],
   "source": [
    "# датафрейм с кумулятивным количеством заказов и кумулятивной выручкой по дням в группе А\n",
    "cumulativeRevenueA = cumulativeData[cumulativeData['group']=='A'][['date','revenue', 'orders']]\n",
    "\n",
    "# датафрейм с кумулятивным количеством заказов и кумулятивной выручкой по дням в группе B\n",
    "cumulativeRevenueB = cumulativeData[cumulativeData['group']=='B'][['date','revenue', 'orders']]\n",
    "\n",
    "# Строим график выручки группы А\n",
    "plt.plot(cumulativeRevenueA['date'], cumulativeRevenueA['revenue'], label='A')\n",
    "\n",
    "# Строим график выручки группы B\n",
    "plt.plot(cumulativeRevenueB['date'], cumulativeRevenueB['revenue'], label='B')\n",
    "\n",
    "plt.legend()\n",
    "plt.title('Выручка по группам на протяжении теста')\n",
    "plt.xticks(rotation=45);\n",
    "plt.ylabel('revenue')\n",
    "plt.xlabel('date')"
   ]
  },
  {
   "cell_type": "markdown",
   "metadata": {},
   "source": [
    "Выручка росла в течение всего теста, примерно на середине группа В резко вырвалась вперёд. Похоже, был крупный заказ"
   ]
  },
  {
   "cell_type": "code",
   "execution_count": 15,
   "metadata": {},
   "outputs": [
    {
     "data": {
      "text/plain": [
       "Text(0.5, 0, 'date')"
      ]
     },
     "execution_count": 15,
     "metadata": {},
     "output_type": "execute_result"
    },
    {
     "data": {
      "image/png": "[encoded data removed]",
      "text/plain": [
       "<Figure size 432x288 with 1 Axes>"
      ]
     },
     "metadata": {
      "needs_background": "light"
     },
     "output_type": "display_data"
    }
   ],
   "source": [
    "#построим графики среднего чека по группам — разделим кумулятивную выручку на кумулятивное число заказов:\n",
    "plt.plot(cumulativeRevenueA['date'], cumulativeRevenueA['revenue']/cumulativeRevenueA['orders'], label='A')\n",
    "plt.plot(cumulativeRevenueB['date'], cumulativeRevenueB['revenue']/cumulativeRevenueB['orders'], label='B')\n",
    "\n",
    "plt.title('Средний чек заказа по группам на протяжении теста')\n",
    "plt.legend() \n",
    "plt.xticks(rotation=45);\n",
    "plt.ylabel('revenue_avg')\n",
    "plt.xlabel('date')"
   ]
  },
  {
   "cell_type": "markdown",
   "metadata": {},
   "source": [
    "Средний чек группы В также сделал резкий скачок. Вывод делать рано, скорее всего нужен анализ аномальных заказов."
   ]
  },
  {
   "cell_type": "code",
   "execution_count": 16,
   "metadata": {},
   "outputs": [
    {
     "data": {
      "text/plain": [
       "Text(0.5, 0, 'date')"
      ]
     },
     "execution_count": 16,
     "metadata": {},
     "output_type": "execute_result"
    },
    {
     "data": {
      "image/png": "[encoded data removed]",
      "text/plain": [
       "<Figure size 432x288 with 1 Axes>"
      ]
     },
     "metadata": {
      "needs_background": "light"
     },
     "output_type": "display_data"
    }
   ],
   "source": [
    "# собираем данные в одном датафрейме\n",
    "mergedCumulativeRevenue = cumulativeRevenueA.merge(cumulativeRevenueB, left_on='date', right_on='date', how='left', suffixes=['A', 'B'])\n",
    "\n",
    "# cтроим отношение средних чеков\n",
    "plt.plot(mergedCumulativeRevenue['date'], (mergedCumulativeRevenue['revenueB']/mergedCumulativeRevenue['ordersB'])/(mergedCumulativeRevenue['revenueA']/mergedCumulativeRevenue['ordersA'])-1)\n",
    "\n",
    "# добавляем ось X\n",
    "plt.axhline(y=0, color='black', linestyle='--') \n",
    "plt.xticks(rotation=45);\n",
    "plt.title('Относительный средний чек заказа по группам на протяжении теста')\n",
    "plt.ylabel('relative')\n",
    "plt.xlabel('date')"
   ]
  },
  {
   "cell_type": "markdown",
   "metadata": {},
   "source": [
    "Чётко видно несколько пиков на графике, видимо, в эти даты делались самые крупные заказы."
   ]
  },
  {
   "cell_type": "code",
   "execution_count": 17,
   "metadata": {},
   "outputs": [
    {
     "data": {
      "image/png": "[encoded data removed]",
      "text/plain": [
       "<Figure size 432x288 with 1 Axes>"
      ]
     },
     "metadata": {
      "needs_background": "light"
     },
     "output_type": "display_data"
    }
   ],
   "source": [
    "# считаем кумулятивную конверсию\n",
    "cumulativeData['conversion'] = cumulativeData['orders']/cumulativeData['visitors']\n",
    "\n",
    "# отделяем данные по группе A\n",
    "cumulativeDataA = cumulativeData[cumulativeData['group']=='A']\n",
    "\n",
    "# отделяем данные по группе B\n",
    "cumulativeDataB = cumulativeData[cumulativeData['group']=='B']\n",
    "\n",
    "# строим графики\n",
    "plt.plot(cumulativeDataA['date'], cumulativeDataA['conversion'], label='A')\n",
    "plt.plot(cumulativeDataB['date'], cumulativeDataB['conversion'], label='B')\n",
    "plt.legend()\n",
    "plt.title('Кумулятивная конверсия по группам на протяжении теста')\n",
    "plt.xticks(rotation=45);"
   ]
  },
  {
   "cell_type": "markdown",
   "metadata": {},
   "source": [
    "Изначально лидировала группа А, но примерно на пятый день теста вперёд вырвалась группа В и сохранила лидерство до конца теста. Разница в конверсии составила около 4-6%."
   ]
  },
  {
   "cell_type": "code",
   "execution_count": 18,
   "metadata": {},
   "outputs": [
    {
     "data": {
      "image/png": "[encoded data removed]",
      "text/plain": [
       "<Figure size 432x288 with 1 Axes>"
      ]
     },
     "metadata": {
      "needs_background": "light"
     },
     "output_type": "display_data"
    }
   ],
   "source": [
    "#построим график относительного различия кумулятивных конверсий\n",
    "mergedCumulativeConversions = (cumulativeDataA[['date','conversion']]\n",
    "                               .merge(cumulativeDataB[['date','conversion']], \\\n",
    "                                      left_on='date', right_on='date', how='left', suffixes=['A', 'B']))\n",
    "\n",
    "plt.plot(mergedCumulativeConversions['date'], mergedCumulativeConversions['conversionB']/mergedCumulativeConversions['conversionA']-1)\n",
    "\n",
    "plt.title('Относительный прирост конверсии группы B относительно группы A')\n",
    "plt.axhline(y=0, color='black', linestyle='--')\n",
    "plt.axhline(y=0.15, color='grey', linestyle='--')\n",
    "plt.xticks(rotation=45);"
   ]
  },
  {
   "cell_type": "markdown",
   "metadata": {},
   "source": [
    "Видно, что конверсия группы В относительно группы А резко улучшилась на 5-й день и продолжала сохранять преимущество до конца теста. Относительный прирост примерно 15%"
   ]
  },
  {
   "cell_type": "code",
   "execution_count": 19,
   "metadata": {},
   "outputs": [],
   "source": [
    "#считаем число заказов на пользователя\n",
    "ordersByUsers = (\n",
    "    orders.groupby('visitorId', as_index=False)\n",
    "    .agg({'transactionId': 'nunique'})\n",
    ")\n",
    "ordersByUsers.columns = ['visitorId', 'orders']"
   ]
  },
  {
   "cell_type": "code",
   "execution_count": 20,
   "metadata": {},
   "outputs": [
    {
     "data": {
      "image/png": "[encoded data removed]",
      "text/plain": [
       "<Figure size 432x288 with 1 Axes>"
      ]
     },
     "metadata": {
      "needs_background": "light"
     },
     "output_type": "display_data"
    }
   ],
   "source": [
    "ordersByUsers['orders'].hist();"
   ]
  },
  {
   "cell_type": "markdown",
   "metadata": {},
   "source": [
    "Уже можно сказать, что большая часть пользователей делает только 1 заказ, небольшая часть - больше 2-х заказов."
   ]
  },
  {
   "cell_type": "code",
   "execution_count": 21,
   "metadata": {},
   "outputs": [
    {
     "data": {
      "image/png": "[encoded data removed]",
      "text/plain": [
       "<Figure size 432x288 with 1 Axes>"
      ]
     },
     "metadata": {
      "needs_background": "light"
     },
     "output_type": "display_data"
    }
   ],
   "source": [
    "x_values = pd.Series(range(0, len(ordersByUsers)))\n",
    "\n",
    "plt.scatter(x_values, ordersByUsers['orders']); "
   ]
  },
  {
   "cell_type": "markdown",
   "metadata": {},
   "source": [
    "По этому графику видно, что пользователей, заказывающих больше двух раз, относительно мало."
   ]
  },
  {
   "cell_type": "code",
   "execution_count": 22,
   "metadata": {},
   "outputs": [
    {
     "data": {
      "text/plain": [
       "array([2., 4.])"
      ]
     },
     "execution_count": 22,
     "metadata": {},
     "output_type": "execute_result"
    }
   ],
   "source": [
    "#определим 95 и 99 процентили\n",
    "np.percentile(ordersByUsers['orders'], [95, 99])"
   ]
  },
  {
   "cell_type": "markdown",
   "metadata": {},
   "source": [
    "Только 5% пользователей сделали 2 заказа и только 1% заказали более двух раз. Выберем границу в 95%"
   ]
  },
  {
   "cell_type": "code",
   "execution_count": 23,
   "metadata": {},
   "outputs": [
    {
     "data": {
      "image/png": "[encoded data removed]",
      "text/plain": [
       "<Figure size 432x288 with 1 Axes>"
      ]
     },
     "metadata": {
      "needs_background": "light"
     },
     "output_type": "display_data"
    }
   ],
   "source": [
    "#рассмотрим распределение прибыли\n",
    "plt.hist(orders['revenue']);"
   ]
  },
  {
   "cell_type": "markdown",
   "metadata": {},
   "source": [
    "Видно, что все заказы были ценой до 200000, аномальных значений на гистограмме нет."
   ]
  },
  {
   "cell_type": "code",
   "execution_count": 24,
   "metadata": {},
   "outputs": [
    {
     "data": {
      "image/png": "[encoded data removed]",
      "text/plain": [
       "<Figure size 432x288 with 1 Axes>"
      ]
     },
     "metadata": {
      "needs_background": "light"
     },
     "output_type": "display_data"
    }
   ],
   "source": [
    "#построим точечный график\n",
    "x_values = pd.Series(range(0, len(orders['revenue'])))\n",
    "\n",
    "plt.scatter(x_values, orders['revenue']);"
   ]
  },
  {
   "cell_type": "markdown",
   "metadata": {},
   "source": [
    "Здесь аномалии видны, заказ ценой около 200000 и более 1200000"
   ]
  },
  {
   "cell_type": "code",
   "execution_count": 25,
   "metadata": {},
   "outputs": [
    {
     "data": {
      "text/plain": [
       "array([28000. , 58233.2])"
      ]
     },
     "execution_count": 25,
     "metadata": {},
     "output_type": "execute_result"
    }
   ],
   "source": [
    "np.percentile(orders['revenue'], [95, 99])"
   ]
  },
  {
   "cell_type": "markdown",
   "metadata": {},
   "source": [
    "По процентилям можно сказать, что только 5% заказов были дороже 28000, и только 1% — дороже 58000. Границу берём в 95%"
   ]
  },
  {
   "cell_type": "code",
   "execution_count": 26,
   "metadata": {},
   "outputs": [],
   "source": [
    "#считаем число заказов по группам\n",
    "\n",
    "ordersByUsersA = (\n",
    "    orders[orders['group'] == 'A']\n",
    "    .groupby('visitorId', as_index=False)\n",
    "    .agg({'transactionId': pd.Series.nunique})\n",
    ")\n",
    "ordersByUsersA.columns = ['visitorId', 'orders']\n",
    "\n",
    "ordersByUsersB = (\n",
    "    orders[orders['group'] == 'B']\n",
    "    .groupby('visitorId', as_index=False)\n",
    "    .agg({'transactionId': pd.Series.nunique})\n",
    ")\n",
    "ordersByUsersB.columns = ['visitorId', 'orders'] "
   ]
  },
  {
   "cell_type": "code",
   "execution_count": 27,
   "metadata": {},
   "outputs": [],
   "source": [
    "#делим на выборки, в которых пользователям из разных групп будет соответствовать количество заказов\n",
    "#тем, кто ничего не заказал, будут соответствовать нули\n",
    "\n",
    "sampleA = pd.concat([ordersByUsersA['orders'],pd.Series(0, index=np.arange(visitors[visitors['group']=='A']['visitors'].sum() - len(ordersByUsersA['orders'])), name='orders')],axis=0)\n",
    "\n",
    "sampleB = pd.concat([ordersByUsersB['orders'],pd.Series(0, index=np.arange(visitors[visitors['group']=='B']['visitors'].sum() - len(ordersByUsersB['orders'])), name='orders')],axis=0)"
   ]
  },
  {
   "cell_type": "markdown",
   "metadata": {},
   "source": [
    "Формулируем гипотезы:\n",
    "\n",
    "H_0: Среднее число заказов группы А = среднему числу заказов группы В.\n",
    "\n",
    "H_a: Среднее число заказов группы А ≠ среднему числу заказов группы В.\n",
    "\n",
    "Уровень значимости 5%"
   ]
  },
  {
   "cell_type": "code",
   "execution_count": 28,
   "metadata": {},
   "outputs": [
    {
     "data": {
      "text/plain": [
       "'P-value = 0.017'"
      ]
     },
     "metadata": {},
     "output_type": "display_data"
    },
    {
     "data": {
      "text/plain": [
       "'Конверсия группы В относительно группы А = 0.138'"
      ]
     },
     "metadata": {},
     "output_type": "display_data"
    }
   ],
   "source": [
    "#проводим тест Манна-Уитни, уровень значимости 0.05\n",
    "display(\"P-value = {0:.3f}\".format(stats.mannwhitneyu(sampleA, sampleB)[1]))\n",
    "\n",
    "display(\"Конверсия группы В относительно группы А = {0:.3f}\".format(sampleB.mean() / sampleA.mean() - 1))"
   ]
  },
  {
   "cell_type": "markdown",
   "metadata": {},
   "source": [
    "P-value меньше 0.05, отвергаем нулевую гипотезу, статистически между выборками есть различия. Разницу в значениях конверсии уточнили - 13,8% в пользу группы В"
   ]
  },
  {
   "cell_type": "markdown",
   "metadata": {},
   "source": [
    "Формулируем гипотезы:\n",
    "\n",
    "H_0: Средний чек группы А = среднему чеку группы В.\n",
    "\n",
    "H_a: Средний чек группы А ≠ среднему чеку группы В.\n",
    "\n",
    "Уровень значимости 5%"
   ]
  },
  {
   "cell_type": "code",
   "execution_count": 29,
   "metadata": {},
   "outputs": [
    {
     "data": {
      "text/plain": [
       "'P-value = 0.729'"
      ]
     },
     "metadata": {},
     "output_type": "display_data"
    },
    {
     "data": {
      "text/plain": [
       "'Разница между средними чеками групп = 0.259'"
      ]
     },
     "metadata": {},
     "output_type": "display_data"
    }
   ],
   "source": [
    "display('P-value = {0:.3f}'.format(stats.mannwhitneyu(orders[orders['group']=='A']['revenue'], orders[orders['group']=='B']['revenue'])[1]))\n",
    "\n",
    "display('Разница между средними чеками групп = {0:.3f}'.format(orders[orders['group']=='B']['revenue'].mean()/orders[orders['group']=='A']['revenue'].mean()-1)) "
   ]
  },
  {
   "cell_type": "markdown",
   "metadata": {},
   "source": [
    "Между средними чеками выборок нет статистических различий, p-value > 0.05. А относительное различие между средними чеками групп почти 26%, дальше проанализируем на выбросы"
   ]
  },
  {
   "cell_type": "code",
   "execution_count": 30,
   "metadata": {},
   "outputs": [
    {
     "data": {
      "text/plain": [
       "1099    148427295\n",
       "18      199603092\n",
       "928     204675465\n",
       "23      237748145\n",
       "37      249864742\n",
       "Name: visitorId, dtype: int64"
      ]
     },
     "metadata": {},
     "output_type": "display_data"
    },
    {
     "data": {
      "text/plain": [
       "74"
      ]
     },
     "metadata": {},
     "output_type": "display_data"
    }
   ],
   "source": [
    "#выделим пользователей из групп с более чем 2 заказами\n",
    "usersWithManyOrders = pd.concat(\n",
    "    [\n",
    "        ordersByUsersA[ordersByUsersA['orders'] > 2]['visitorId'],\n",
    "        ordersByUsersB[ordersByUsersB['orders'] > 2]['visitorId'],\n",
    "    ],\n",
    "    axis=0,\n",
    ")\n",
    "\n",
    "#пользователи с покупками дороже 28000\n",
    "usersWithExpensiveOrders = orders[orders['revenue'] > 28000]['visitorId']\n",
    "abnormalUsers = (\n",
    "    pd.concat([usersWithManyOrders, usersWithExpensiveOrders], axis=0)\n",
    "    .drop_duplicates()\n",
    "    .sort_values()\n",
    ")\n",
    "display(abnormalUsers.head())\n",
    "display(abnormalUsers.shape[0]) "
   ]
  },
  {
   "cell_type": "markdown",
   "metadata": {},
   "source": [
    "Получили всего 74 выброса."
   ]
  },
  {
   "cell_type": "code",
   "execution_count": 31,
   "metadata": {},
   "outputs": [],
   "source": [
    "#отфильтруем значения \"сырых\" данных, исключим аномальные значения\n",
    "sampleAFiltered = pd.concat(\n",
    "    [\n",
    "        ordersByUsersA[\n",
    "            np.logical_not(ordersByUsersA['visitorId'].isin(abnormalUsers))\n",
    "        ]['orders'],\n",
    "        pd.Series(\n",
    "            0,\n",
    "            index=np.arange(\n",
    "                visitors[visitors['group']=='A']['visitors'].sum() - len(ordersByUsersA['orders'])\n",
    "            ),\n",
    "            name='orders',\n",
    "        ),\n",
    "    ],\n",
    "    axis=0,\n",
    ")\n",
    "\n",
    "sampleBFiltered = pd.concat(\n",
    "    [\n",
    "        ordersByUsersB[\n",
    "            np.logical_not(ordersByUsersB['visitorId'].isin(abnormalUsers))\n",
    "        ]['orders'],\n",
    "        pd.Series(\n",
    "            0,\n",
    "            index=np.arange(\n",
    "                visitors[visitors['group']=='B']['visitors'].sum() - len(ordersByUsersB['orders'])\n",
    "            ),\n",
    "            name='orders',\n",
    "        ),\n",
    "    ],\n",
    "    axis=0,\n",
    ") \n",
    "\n"
   ]
  },
  {
   "cell_type": "markdown",
   "metadata": {},
   "source": [
    "Формулируем гипотезы:\n",
    "\n",
    "H_0: Среднее число заказов по отфильтрованным данным группы А = среднему числу заказов по отфильтрованным данным группы В.\n",
    "\n",
    "H_a: Среднее число заказов по отфильтрованным данным группы А  ≠ среднему числу заказов по отфильтрованным данным группы В.\n",
    "\n",
    "Уровень значимости 5%"
   ]
  },
  {
   "cell_type": "code",
   "execution_count": 32,
   "metadata": {},
   "outputs": [
    {
     "data": {
      "text/plain": [
       "'P-value = 0.013'"
      ]
     },
     "metadata": {},
     "output_type": "display_data"
    },
    {
     "data": {
      "text/plain": [
       "'Разница в конверсии группы В относительно группы А = 0.173'"
      ]
     },
     "metadata": {},
     "output_type": "display_data"
    }
   ],
   "source": [
    "display('P-value = {0:.3f}'.format(stats.mannwhitneyu(sampleAFiltered, sampleBFiltered)[1]))\n",
    "\n",
    "display('Разница в конверсии группы В относительно группы А = {0:.3f}'.format(sampleBFiltered.mean()/sampleAFiltered.mean()-1))"
   ]
  },
  {
   "cell_type": "markdown",
   "metadata": {},
   "source": [
    "Тест по отфильтрованным данным серьёзных отличий не показал. Статистически выборки различны, сегмент В значительно лучше: разница в конверсии группы В относительно группы А — 17.3%"
   ]
  },
  {
   "cell_type": "markdown",
   "metadata": {},
   "source": [
    "Формулируем гипотезы:\n",
    "\n",
    "H_0: Средний чек по отфильтрованным данным группы А = среднему чеку по отфильтрованным данным группы В.\n",
    "\n",
    "H_a: Средний чек по отфильтрованным данным группы А ≠ среднему чеку по отфильтрованным данным группы В.\n",
    "\n",
    "Уровень значимости 5%"
   ]
  },
  {
   "cell_type": "code",
   "execution_count": 33,
   "metadata": {},
   "outputs": [
    {
     "data": {
      "text/plain": [
       "'P-value = 0.738'"
      ]
     },
     "metadata": {},
     "output_type": "display_data"
    },
    {
     "data": {
      "text/plain": [
       "'Разница между средними чеками групп = -0.020'"
      ]
     },
     "metadata": {},
     "output_type": "display_data"
    }
   ],
   "source": [
    "#фильтруем данные по среднему чеку, повторяем тест\n",
    "display(\n",
    "    'P-value = {0:.3f}'.format(\n",
    "        stats.mannwhitneyu(\n",
    "            orders[\n",
    "                np.logical_and(\n",
    "                    orders['group'] == 'A',\n",
    "                    np.logical_not(orders['visitorId'].isin(abnormalUsers)),\n",
    "                )\n",
    "            ]['revenue'],\n",
    "            orders[\n",
    "                np.logical_and(\n",
    "                    orders['group'] == 'B',\n",
    "                    np.logical_not(orders['visitorId'].isin(abnormalUsers)),\n",
    "                )\n",
    "            ]['revenue'],\n",
    "        )[1]\n",
    "    )\n",
    ")\n",
    "\n",
    "display(\n",
    "    \"Разница между средними чеками групп = {0:.3f}\".format(\n",
    "        orders[\n",
    "            np.logical_and(\n",
    "                orders['group'] == 'B',\n",
    "                np.logical_not(orders['visitorId'].isin(abnormalUsers)),\n",
    "            )\n",
    "        ]['revenue'].mean()\n",
    "        / orders[\n",
    "            np.logical_and(\n",
    "                orders['group'] == 'A',\n",
    "                np.logical_not(orders['visitorId'].isin(abnormalUsers)),\n",
    "            )\n",
    "        ]['revenue'].mean()\n",
    "        - 1\n",
    "    )\n",
    ") "
   ]
  },
  {
   "cell_type": "markdown",
   "metadata": {},
   "source": [
    "Между группами также нет статистических различий, но благодаря удалению выбросов разница в выручке значительно снизилась, до -2%."
   ]
  },
  {
   "cell_type": "markdown",
   "metadata": {},
   "source": [
    "**Общий вывод**. В результате анализа проведённого A/B теста, а также проверки и фильтрации выбросов можно заключить, что группа В лидирует по показателю конверсии относительно группы А — 17.3%. Проведение теста можно останавливать."
   ]
  },
  {
   "cell_type": "code",
   "execution_count": null,
   "metadata": {},
   "outputs": [],
   "source": []
  }
 ],
 "metadata": {
  "ExecuteTimeLog": [
   {
    "duration": 408,
    "start_time": "2022-09-16T10:20:48.960Z"
   },
   {
    "duration": 92,
    "start_time": "2022-09-16T10:20:50.452Z"
   },
   {
    "duration": 15,
    "start_time": "2022-09-16T10:20:57.271Z"
   },
   {
    "duration": 5,
    "start_time": "2022-09-16T10:23:22.982Z"
   },
   {
    "duration": 9,
    "start_time": "2022-09-16T10:23:44.752Z"
   },
   {
    "duration": 11,
    "start_time": "2022-09-16T10:25:36.616Z"
   },
   {
    "duration": 20,
    "start_time": "2022-09-16T10:27:27.375Z"
   },
   {
    "duration": 20,
    "start_time": "2022-09-16T10:28:06.602Z"
   },
   {
    "duration": 16,
    "start_time": "2022-09-16T10:29:16.591Z"
   },
   {
    "duration": 80,
    "start_time": "2022-09-16T10:29:34.284Z"
   },
   {
    "duration": 12,
    "start_time": "2022-09-16T10:29:42.383Z"
   },
   {
    "duration": 13,
    "start_time": "2022-09-16T10:32:33.207Z"
   },
   {
    "duration": 47,
    "start_time": "2022-09-17T15:04:18.415Z"
   },
   {
    "duration": 864,
    "start_time": "2022-09-17T15:04:24.422Z"
   },
   {
    "duration": 59,
    "start_time": "2022-09-17T15:04:25.288Z"
   },
   {
    "duration": 13,
    "start_time": "2022-09-17T15:04:25.349Z"
   },
   {
    "duration": 11,
    "start_time": "2022-09-17T15:04:25.364Z"
   },
   {
    "duration": 10,
    "start_time": "2022-09-17T15:04:25.377Z"
   },
   {
    "duration": 92,
    "start_time": "2022-09-17T15:04:25.388Z"
   },
   {
    "duration": 31,
    "start_time": "2022-09-17T15:04:29.420Z"
   },
   {
    "duration": 41,
    "start_time": "2022-09-17T15:04:35.283Z"
   },
   {
    "duration": 47,
    "start_time": "2022-09-18T09:13:42.717Z"
   },
   {
    "duration": 858,
    "start_time": "2022-09-18T09:13:47.882Z"
   },
   {
    "duration": 62,
    "start_time": "2022-09-18T09:13:48.742Z"
   },
   {
    "duration": 14,
    "start_time": "2022-09-18T09:13:48.806Z"
   },
   {
    "duration": 14,
    "start_time": "2022-09-18T09:13:48.822Z"
   },
   {
    "duration": 11,
    "start_time": "2022-09-18T09:13:48.838Z"
   },
   {
    "duration": 378,
    "start_time": "2022-09-18T09:13:48.851Z"
   },
   {
    "duration": 52,
    "start_time": "2022-09-18T09:16:39.631Z"
   },
   {
    "duration": 257,
    "start_time": "2022-09-18T09:17:11.075Z"
   },
   {
    "duration": 116,
    "start_time": "2022-09-18T09:17:39.691Z"
   },
   {
    "duration": 80,
    "start_time": "2022-09-18T09:17:53.622Z"
   },
   {
    "duration": 84,
    "start_time": "2022-09-18T09:18:26.825Z"
   },
   {
    "duration": 88,
    "start_time": "2022-09-18T09:18:32.530Z"
   },
   {
    "duration": 84,
    "start_time": "2022-09-18T09:19:27.372Z"
   },
   {
    "duration": 6,
    "start_time": "2022-09-18T09:24:00.535Z"
   },
   {
    "duration": 25,
    "start_time": "2022-09-18T09:26:03.169Z"
   },
   {
    "duration": 13,
    "start_time": "2022-09-18T09:26:35.888Z"
   },
   {
    "duration": 90,
    "start_time": "2022-09-18T09:27:17.586Z"
   },
   {
    "duration": 165,
    "start_time": "2022-09-18T09:31:20.500Z"
   },
   {
    "duration": 88,
    "start_time": "2022-09-18T09:32:25.510Z"
   },
   {
    "duration": 142,
    "start_time": "2022-09-18T09:32:32.240Z"
   },
   {
    "duration": 14,
    "start_time": "2022-09-18T09:33:58.177Z"
   },
   {
    "duration": 14,
    "start_time": "2022-09-18T09:34:35.421Z"
   },
   {
    "duration": 426,
    "start_time": "2022-09-18T09:34:56.617Z"
   },
   {
    "duration": 276,
    "start_time": "2022-09-18T09:35:03.312Z"
   },
   {
    "duration": 183,
    "start_time": "2022-09-18T09:36:19.887Z"
   },
   {
    "duration": 197,
    "start_time": "2022-09-18T09:37:28.847Z"
   },
   {
    "duration": 252,
    "start_time": "2022-09-18T09:37:35.454Z"
   },
   {
    "duration": 200,
    "start_time": "2022-09-18T09:37:41.688Z"
   },
   {
    "duration": 181,
    "start_time": "2022-09-18T09:37:47.702Z"
   },
   {
    "duration": 197,
    "start_time": "2022-09-18T09:38:00.953Z"
   },
   {
    "duration": 193,
    "start_time": "2022-09-18T09:38:09.365Z"
   },
   {
    "duration": 181,
    "start_time": "2022-09-18T09:41:05.223Z"
   },
   {
    "duration": 136,
    "start_time": "2022-09-18T09:41:08.165Z"
   },
   {
    "duration": 14,
    "start_time": "2022-09-18T09:41:10.399Z"
   },
   {
    "duration": 201,
    "start_time": "2022-09-18T09:41:12.595Z"
   },
   {
    "duration": 183,
    "start_time": "2022-09-18T09:43:10.440Z"
   },
   {
    "duration": 340,
    "start_time": "2022-09-18T09:44:09.030Z"
   },
   {
    "duration": 286,
    "start_time": "2022-09-18T09:46:21.888Z"
   },
   {
    "duration": 239,
    "start_time": "2022-09-18T09:46:41.078Z"
   },
   {
    "duration": 6,
    "start_time": "2022-09-18T10:00:27.104Z"
   },
   {
    "duration": 4,
    "start_time": "2022-09-18T10:00:39.845Z"
   },
   {
    "duration": 215,
    "start_time": "2022-09-18T10:01:16.692Z"
   },
   {
    "duration": 264,
    "start_time": "2022-09-18T10:01:41.553Z"
   },
   {
    "duration": 210,
    "start_time": "2022-09-18T10:02:38.025Z"
   },
   {
    "duration": 189,
    "start_time": "2022-09-18T10:05:34.744Z"
   },
   {
    "duration": 258,
    "start_time": "2022-09-18T10:05:41.428Z"
   },
   {
    "duration": 319,
    "start_time": "2022-09-18T10:07:06.559Z"
   },
   {
    "duration": 316,
    "start_time": "2022-09-18T10:07:33.554Z"
   },
   {
    "duration": 307,
    "start_time": "2022-09-18T10:07:38.455Z"
   },
   {
    "duration": 100,
    "start_time": "2022-09-18T10:10:33.956Z"
   },
   {
    "duration": 336,
    "start_time": "2022-09-18T10:10:55.430Z"
   },
   {
    "duration": 391,
    "start_time": "2022-09-18T10:11:04.766Z"
   },
   {
    "duration": 274,
    "start_time": "2022-09-18T10:12:33.067Z"
   },
   {
    "duration": 183,
    "start_time": "2022-09-18T10:12:44.765Z"
   },
   {
    "duration": 177,
    "start_time": "2022-09-18T10:12:56.061Z"
   },
   {
    "duration": 298,
    "start_time": "2022-09-18T10:39:41.921Z"
   },
   {
    "duration": 317,
    "start_time": "2022-09-18T10:40:01.311Z"
   },
   {
    "duration": 158,
    "start_time": "2022-09-18T10:47:32.294Z"
   },
   {
    "duration": 124,
    "start_time": "2022-09-18T10:47:45.221Z"
   },
   {
    "duration": 146,
    "start_time": "2022-09-18T10:48:41.050Z"
   },
   {
    "duration": 7,
    "start_time": "2022-09-18T10:53:09.355Z"
   },
   {
    "duration": 124,
    "start_time": "2022-09-18T10:53:47.979Z"
   },
   {
    "duration": 110,
    "start_time": "2022-09-18T10:54:52.912Z"
   },
   {
    "duration": 135,
    "start_time": "2022-09-18T10:55:21.399Z"
   },
   {
    "duration": 6,
    "start_time": "2022-09-18T11:00:37.154Z"
   },
   {
    "duration": 141,
    "start_time": "2022-09-18T11:04:28.406Z"
   },
   {
    "duration": 253,
    "start_time": "2022-09-18T11:04:32.555Z"
   },
   {
    "duration": 145,
    "start_time": "2022-09-18T11:05:30.955Z"
   },
   {
    "duration": 7,
    "start_time": "2022-09-18T11:10:31.517Z"
   },
   {
    "duration": 353,
    "start_time": "2022-09-18T12:15:54.758Z"
   },
   {
    "duration": 9,
    "start_time": "2022-09-18T12:16:00.801Z"
   },
   {
    "duration": 26,
    "start_time": "2022-09-18T12:16:47.897Z"
   },
   {
    "duration": 8,
    "start_time": "2022-09-18T12:28:53.322Z"
   },
   {
    "duration": 24,
    "start_time": "2022-09-18T12:28:57.111Z"
   },
   {
    "duration": 133,
    "start_time": "2022-09-18T12:31:58.775Z"
   },
   {
    "duration": 8,
    "start_time": "2022-09-18T12:32:01.274Z"
   },
   {
    "duration": 24,
    "start_time": "2022-09-18T12:32:03.050Z"
   },
   {
    "duration": 16,
    "start_time": "2022-09-18T12:37:51.419Z"
   },
   {
    "duration": 24,
    "start_time": "2022-09-18T12:38:43.422Z"
   },
   {
    "duration": 1232,
    "start_time": "2022-09-18T12:52:48.421Z"
   },
   {
    "duration": 12,
    "start_time": "2022-09-18T12:53:12.774Z"
   },
   {
    "duration": 7,
    "start_time": "2022-09-18T13:01:52.777Z"
   },
   {
    "duration": 33,
    "start_time": "2022-09-18T13:02:27.050Z"
   },
   {
    "duration": 19,
    "start_time": "2022-09-18T13:08:04.212Z"
   },
   {
    "duration": 6,
    "start_time": "2022-09-18T13:30:59.147Z"
   },
   {
    "duration": 5,
    "start_time": "2022-09-18T13:31:14.791Z"
   },
   {
    "duration": 5,
    "start_time": "2022-09-18T13:31:48.696Z"
   },
   {
    "duration": 4,
    "start_time": "2022-09-18T13:35:58.281Z"
   },
   {
    "duration": 207,
    "start_time": "2022-09-18T13:38:35.867Z"
   },
   {
    "duration": 12,
    "start_time": "2022-09-18T14:35:50.854Z"
   },
   {
    "duration": 13,
    "start_time": "2022-09-18T14:36:03.881Z"
   },
   {
    "duration": 17,
    "start_time": "2022-09-18T14:36:23.951Z"
   },
   {
    "duration": 10,
    "start_time": "2022-09-18T14:36:29.300Z"
   },
   {
    "duration": 11,
    "start_time": "2022-09-18T14:36:36.458Z"
   },
   {
    "duration": 15,
    "start_time": "2022-09-18T14:37:57.593Z"
   },
   {
    "duration": 17,
    "start_time": "2022-09-18T14:39:00.788Z"
   },
   {
    "duration": 55,
    "start_time": "2022-09-18T14:39:13.643Z"
   },
   {
    "duration": 14,
    "start_time": "2022-09-18T14:39:20.954Z"
   },
   {
    "duration": 9,
    "start_time": "2022-09-18T14:39:25.909Z"
   },
   {
    "duration": 9,
    "start_time": "2022-09-18T14:40:08.733Z"
   },
   {
    "duration": 9,
    "start_time": "2022-09-18T14:40:24.882Z"
   },
   {
    "duration": 12,
    "start_time": "2022-09-18T14:43:21.988Z"
   },
   {
    "duration": 6,
    "start_time": "2022-09-18T14:43:29.483Z"
   },
   {
    "duration": 5,
    "start_time": "2022-09-18T14:43:45.766Z"
   },
   {
    "duration": 7,
    "start_time": "2022-09-18T14:44:06.291Z"
   },
   {
    "duration": 6,
    "start_time": "2022-09-18T14:44:22.766Z"
   },
   {
    "duration": 7,
    "start_time": "2022-09-18T14:48:23.749Z"
   },
   {
    "duration": 9,
    "start_time": "2022-09-18T14:52:39.879Z"
   },
   {
    "duration": 9,
    "start_time": "2022-09-18T14:52:54.950Z"
   },
   {
    "duration": 9,
    "start_time": "2022-09-18T14:53:02.938Z"
   },
   {
    "duration": 9,
    "start_time": "2022-09-18T14:53:08.365Z"
   },
   {
    "duration": 5,
    "start_time": "2022-09-18T14:55:17.411Z"
   },
   {
    "duration": 6,
    "start_time": "2022-09-18T14:56:23.006Z"
   },
   {
    "duration": 6,
    "start_time": "2022-09-18T14:56:31.252Z"
   },
   {
    "duration": 5,
    "start_time": "2022-09-18T14:58:09.695Z"
   },
   {
    "duration": 12,
    "start_time": "2022-09-18T14:58:56.573Z"
   },
   {
    "duration": 9,
    "start_time": "2022-09-18T14:59:11.209Z"
   },
   {
    "duration": 8,
    "start_time": "2022-09-18T14:59:18.760Z"
   },
   {
    "duration": 16,
    "start_time": "2022-09-18T14:59:49.862Z"
   },
   {
    "duration": 14,
    "start_time": "2022-09-18T14:59:56.513Z"
   },
   {
    "duration": 10,
    "start_time": "2022-09-18T15:00:04.268Z"
   },
   {
    "duration": 10,
    "start_time": "2022-09-18T15:00:22.021Z"
   },
   {
    "duration": 1419,
    "start_time": "2022-09-19T07:33:29.709Z"
   },
   {
    "duration": 79,
    "start_time": "2022-09-19T07:33:31.130Z"
   },
   {
    "duration": 12,
    "start_time": "2022-09-19T07:33:31.211Z"
   },
   {
    "duration": 12,
    "start_time": "2022-09-19T07:33:31.224Z"
   },
   {
    "duration": 10,
    "start_time": "2022-09-19T07:33:31.238Z"
   },
   {
    "duration": 165,
    "start_time": "2022-09-19T07:33:31.250Z"
   },
   {
    "duration": 7,
    "start_time": "2022-09-19T07:33:31.417Z"
   },
   {
    "duration": 18,
    "start_time": "2022-09-19T07:33:31.426Z"
   },
   {
    "duration": 12,
    "start_time": "2022-09-19T07:33:31.445Z"
   },
   {
    "duration": 18,
    "start_time": "2022-09-19T07:33:31.459Z"
   },
   {
    "duration": 177,
    "start_time": "2022-09-19T07:33:31.478Z"
   },
   {
    "duration": 141,
    "start_time": "2022-09-19T07:33:31.657Z"
   },
   {
    "duration": 21,
    "start_time": "2022-09-19T07:33:31.800Z"
   },
   {
    "duration": 298,
    "start_time": "2022-09-19T07:33:31.823Z"
   },
   {
    "duration": 209,
    "start_time": "2022-09-19T07:33:32.123Z"
   },
   {
    "duration": 334,
    "start_time": "2022-09-19T07:33:32.334Z"
   },
   {
    "duration": 236,
    "start_time": "2022-09-19T07:33:32.670Z"
   },
   {
    "duration": 299,
    "start_time": "2022-09-19T07:33:32.913Z"
   },
   {
    "duration": 7,
    "start_time": "2022-09-19T07:33:33.214Z"
   },
   {
    "duration": 129,
    "start_time": "2022-09-19T07:33:33.222Z"
   },
   {
    "duration": 126,
    "start_time": "2022-09-19T07:33:33.352Z"
   },
   {
    "duration": 5,
    "start_time": "2022-09-19T07:33:33.479Z"
   },
   {
    "duration": 146,
    "start_time": "2022-09-19T07:33:33.485Z"
   },
   {
    "duration": 204,
    "start_time": "2022-09-19T07:33:33.633Z"
   },
   {
    "duration": 5,
    "start_time": "2022-09-19T07:33:33.839Z"
   },
   {
    "duration": 156,
    "start_time": "2022-09-19T07:33:33.846Z"
   },
   {
    "duration": 9,
    "start_time": "2022-09-19T07:33:34.005Z"
   },
   {
    "duration": 33,
    "start_time": "2022-09-19T07:33:34.016Z"
   },
   {
    "duration": 10,
    "start_time": "2022-09-19T07:33:34.051Z"
   },
   {
    "duration": 10,
    "start_time": "2022-09-19T07:33:34.063Z"
   },
   {
    "duration": 50,
    "start_time": "2022-09-19T07:33:34.075Z"
   },
   {
    "duration": 14,
    "start_time": "2022-09-19T07:33:34.127Z"
   },
   {
    "duration": 1238,
    "start_time": "2022-09-19T08:55:46.864Z"
   },
   {
    "duration": 65,
    "start_time": "2022-09-19T08:55:48.104Z"
   },
   {
    "duration": 14,
    "start_time": "2022-09-19T08:55:48.171Z"
   },
   {
    "duration": 20,
    "start_time": "2022-09-19T08:55:48.187Z"
   },
   {
    "duration": 16,
    "start_time": "2022-09-19T08:55:48.208Z"
   },
   {
    "duration": 164,
    "start_time": "2022-09-19T08:55:48.226Z"
   },
   {
    "duration": 8,
    "start_time": "2022-09-19T08:55:48.392Z"
   },
   {
    "duration": 21,
    "start_time": "2022-09-19T08:55:48.402Z"
   },
   {
    "duration": 24,
    "start_time": "2022-09-19T08:55:48.425Z"
   },
   {
    "duration": 13,
    "start_time": "2022-09-19T08:55:48.452Z"
   },
   {
    "duration": 173,
    "start_time": "2022-09-19T08:55:48.466Z"
   },
   {
    "duration": 134,
    "start_time": "2022-09-19T08:55:48.640Z"
   },
   {
    "duration": 13,
    "start_time": "2022-09-19T08:55:48.775Z"
   },
   {
    "duration": 364,
    "start_time": "2022-09-19T08:55:48.789Z"
   },
   {
    "duration": 218,
    "start_time": "2022-09-19T08:55:49.155Z"
   },
   {
    "duration": 375,
    "start_time": "2022-09-19T08:55:49.375Z"
   },
   {
    "duration": 228,
    "start_time": "2022-09-19T08:55:49.752Z"
   },
   {
    "duration": 325,
    "start_time": "2022-09-19T08:55:49.982Z"
   },
   {
    "duration": 16,
    "start_time": "2022-09-19T08:55:50.309Z"
   },
   {
    "duration": 129,
    "start_time": "2022-09-19T08:55:50.327Z"
   },
   {
    "duration": 120,
    "start_time": "2022-09-19T08:55:50.458Z"
   },
   {
    "duration": 4,
    "start_time": "2022-09-19T08:55:50.580Z"
   },
   {
    "duration": 137,
    "start_time": "2022-09-19T08:55:50.586Z"
   },
   {
    "duration": 199,
    "start_time": "2022-09-19T08:55:50.725Z"
   },
   {
    "duration": 5,
    "start_time": "2022-09-19T08:55:50.925Z"
   },
   {
    "duration": 136,
    "start_time": "2022-09-19T08:55:50.931Z"
   },
   {
    "duration": 7,
    "start_time": "2022-09-19T08:55:51.068Z"
   },
   {
    "duration": 37,
    "start_time": "2022-09-19T08:55:51.078Z"
   },
   {
    "duration": 18,
    "start_time": "2022-09-19T08:55:51.117Z"
   },
   {
    "duration": 14,
    "start_time": "2022-09-19T08:55:51.136Z"
   },
   {
    "duration": 21,
    "start_time": "2022-09-19T08:55:51.151Z"
   },
   {
    "duration": 40,
    "start_time": "2022-09-19T08:55:51.174Z"
   },
   {
    "duration": 14,
    "start_time": "2022-09-19T08:55:51.216Z"
   },
   {
    "duration": 8,
    "start_time": "2022-09-19T09:03:04.746Z"
   },
   {
    "duration": 14,
    "start_time": "2022-09-19T09:03:15.842Z"
   },
   {
    "duration": 14,
    "start_time": "2022-09-19T09:04:33.816Z"
   },
   {
    "duration": 8,
    "start_time": "2022-09-19T09:04:54.569Z"
   },
   {
    "duration": 11,
    "start_time": "2022-09-19T09:05:25.288Z"
   },
   {
    "duration": 11,
    "start_time": "2022-09-19T09:05:50.824Z"
   },
   {
    "duration": 11,
    "start_time": "2022-09-19T09:07:17.093Z"
   },
   {
    "duration": 10,
    "start_time": "2022-09-19T09:07:25.729Z"
   },
   {
    "duration": 101,
    "start_time": "2022-09-19T09:07:30.132Z"
   },
   {
    "duration": 17,
    "start_time": "2022-09-19T09:10:12.933Z"
   },
   {
    "duration": 15,
    "start_time": "2022-09-19T09:10:25.151Z"
   },
   {
    "duration": 25,
    "start_time": "2022-09-19T09:10:33.149Z"
   },
   {
    "duration": 12,
    "start_time": "2022-09-19T09:11:11.634Z"
   },
   {
    "duration": 11,
    "start_time": "2022-09-19T09:11:30.535Z"
   },
   {
    "duration": 10,
    "start_time": "2022-09-19T09:12:16.187Z"
   },
   {
    "duration": 857,
    "start_time": "2022-09-19T09:12:26.055Z"
   },
   {
    "duration": 15,
    "start_time": "2022-09-19T09:12:46.858Z"
   },
   {
    "duration": 16,
    "start_time": "2022-09-19T09:13:08.027Z"
   },
   {
    "duration": 1187,
    "start_time": "2022-09-19T09:13:45.349Z"
   },
   {
    "duration": 19,
    "start_time": "2022-09-19T09:14:37.966Z"
   },
   {
    "duration": 14,
    "start_time": "2022-09-19T09:15:02.959Z"
   },
   {
    "duration": 22,
    "start_time": "2022-09-19T09:15:16.725Z"
   },
   {
    "duration": 15,
    "start_time": "2022-09-19T09:16:14.209Z"
   },
   {
    "duration": 39,
    "start_time": "2022-09-19T09:18:11.167Z"
   },
   {
    "duration": 50,
    "start_time": "2022-09-19T09:18:34.696Z"
   },
   {
    "duration": 20,
    "start_time": "2022-09-19T09:19:35.701Z"
   },
   {
    "duration": 20,
    "start_time": "2022-09-19T09:19:53.627Z"
   },
   {
    "duration": 25,
    "start_time": "2022-09-19T09:19:59.097Z"
   },
   {
    "duration": 9,
    "start_time": "2022-09-19T09:20:22.598Z"
   },
   {
    "duration": 12,
    "start_time": "2022-09-19T09:20:26.035Z"
   },
   {
    "duration": 635,
    "start_time": "2022-09-19T09:20:56.242Z"
   },
   {
    "duration": 12,
    "start_time": "2022-09-19T09:32:48.729Z"
   },
   {
    "duration": 38,
    "start_time": "2022-09-19T09:39:11.355Z"
   },
   {
    "duration": 10,
    "start_time": "2022-09-19T09:39:53.106Z"
   },
   {
    "duration": 12,
    "start_time": "2022-09-19T09:42:41.831Z"
   },
   {
    "duration": 15,
    "start_time": "2022-09-19T09:42:48.237Z"
   },
   {
    "duration": 24,
    "start_time": "2022-09-19T09:46:48.334Z"
   },
   {
    "duration": 24,
    "start_time": "2022-09-19T09:47:43.531Z"
   },
   {
    "duration": 24,
    "start_time": "2022-09-19T09:47:50.340Z"
   },
   {
    "duration": 23,
    "start_time": "2022-09-19T09:47:57.372Z"
   },
   {
    "duration": 19,
    "start_time": "2022-09-19T09:53:09.119Z"
   },
   {
    "duration": 2,
    "start_time": "2022-09-19T10:08:45.664Z"
   },
   {
    "duration": 45,
    "start_time": "2022-09-19T10:08:45.669Z"
   },
   {
    "duration": 9,
    "start_time": "2022-09-19T10:08:45.716Z"
   },
   {
    "duration": 13,
    "start_time": "2022-09-19T10:08:45.727Z"
   },
   {
    "duration": 15,
    "start_time": "2022-09-19T10:08:45.742Z"
   },
   {
    "duration": 79,
    "start_time": "2022-09-19T10:08:45.759Z"
   },
   {
    "duration": 7,
    "start_time": "2022-09-19T10:08:45.840Z"
   },
   {
    "duration": 16,
    "start_time": "2022-09-19T10:08:45.849Z"
   },
   {
    "duration": 14,
    "start_time": "2022-09-19T10:08:45.867Z"
   },
   {
    "duration": 13,
    "start_time": "2022-09-19T10:08:45.884Z"
   },
   {
    "duration": 173,
    "start_time": "2022-09-19T10:08:45.922Z"
   },
   {
    "duration": 143,
    "start_time": "2022-09-19T10:08:46.097Z"
   },
   {
    "duration": 13,
    "start_time": "2022-09-19T10:08:46.242Z"
   },
   {
    "duration": 230,
    "start_time": "2022-09-19T10:08:46.257Z"
   },
   {
    "duration": 435,
    "start_time": "2022-09-19T10:08:46.489Z"
   },
   {
    "duration": 309,
    "start_time": "2022-09-19T10:08:46.926Z"
   },
   {
    "duration": 226,
    "start_time": "2022-09-19T10:08:47.237Z"
   },
   {
    "duration": 281,
    "start_time": "2022-09-19T10:08:47.465Z"
   },
   {
    "duration": 7,
    "start_time": "2022-09-19T10:08:47.748Z"
   },
   {
    "duration": 151,
    "start_time": "2022-09-19T10:08:47.757Z"
   },
   {
    "duration": 119,
    "start_time": "2022-09-19T10:08:47.920Z"
   },
   {
    "duration": 7,
    "start_time": "2022-09-19T10:08:48.041Z"
   },
   {
    "duration": 158,
    "start_time": "2022-09-19T10:08:48.050Z"
   },
   {
    "duration": 169,
    "start_time": "2022-09-19T10:08:48.210Z"
   },
   {
    "duration": 5,
    "start_time": "2022-09-19T10:08:48.381Z"
   },
   {
    "duration": 185,
    "start_time": "2022-09-19T10:08:48.388Z"
   },
   {
    "duration": 9,
    "start_time": "2022-09-19T10:08:48.575Z"
   },
   {
    "duration": 39,
    "start_time": "2022-09-19T10:08:48.586Z"
   },
   {
    "duration": 12,
    "start_time": "2022-09-19T10:08:48.629Z"
   },
   {
    "duration": 13,
    "start_time": "2022-09-19T10:08:48.643Z"
   },
   {
    "duration": 11,
    "start_time": "2022-09-19T10:08:48.657Z"
   },
   {
    "duration": 54,
    "start_time": "2022-09-19T10:08:48.669Z"
   },
   {
    "duration": 18,
    "start_time": "2022-09-19T10:08:48.725Z"
   },
   {
    "duration": 1858,
    "start_time": "2022-09-19T14:04:09.468Z"
   },
   {
    "duration": 72,
    "start_time": "2022-09-19T14:04:11.328Z"
   },
   {
    "duration": 14,
    "start_time": "2022-09-19T14:04:11.402Z"
   },
   {
    "duration": 15,
    "start_time": "2022-09-19T14:04:11.417Z"
   },
   {
    "duration": 12,
    "start_time": "2022-09-19T14:04:11.434Z"
   },
   {
    "duration": 156,
    "start_time": "2022-09-19T14:04:11.448Z"
   },
   {
    "duration": 7,
    "start_time": "2022-09-19T14:04:11.606Z"
   },
   {
    "duration": 30,
    "start_time": "2022-09-19T14:04:11.616Z"
   },
   {
    "duration": 16,
    "start_time": "2022-09-19T14:04:11.648Z"
   },
   {
    "duration": 30,
    "start_time": "2022-09-19T14:04:11.665Z"
   },
   {
    "duration": 215,
    "start_time": "2022-09-19T14:04:11.696Z"
   },
   {
    "duration": 189,
    "start_time": "2022-09-19T14:04:11.913Z"
   },
   {
    "duration": 18,
    "start_time": "2022-09-19T14:04:12.105Z"
   },
   {
    "duration": 311,
    "start_time": "2022-09-19T14:04:12.127Z"
   },
   {
    "duration": 220,
    "start_time": "2022-09-19T14:04:12.440Z"
   },
   {
    "duration": 381,
    "start_time": "2022-09-19T14:04:12.661Z"
   },
   {
    "duration": 196,
    "start_time": "2022-09-19T14:04:13.044Z"
   },
   {
    "duration": 270,
    "start_time": "2022-09-19T14:04:13.242Z"
   },
   {
    "duration": 7,
    "start_time": "2022-09-19T14:04:13.513Z"
   },
   {
    "duration": 124,
    "start_time": "2022-09-19T14:04:13.521Z"
   },
   {
    "duration": 118,
    "start_time": "2022-09-19T14:04:13.647Z"
   },
   {
    "duration": 5,
    "start_time": "2022-09-19T14:04:13.766Z"
   },
   {
    "duration": 130,
    "start_time": "2022-09-19T14:04:13.772Z"
   },
   {
    "duration": 190,
    "start_time": "2022-09-19T14:04:13.903Z"
   },
   {
    "duration": 5,
    "start_time": "2022-09-19T14:04:14.094Z"
   },
   {
    "duration": 158,
    "start_time": "2022-09-19T14:04:14.100Z"
   },
   {
    "duration": 9,
    "start_time": "2022-09-19T14:04:14.260Z"
   },
   {
    "duration": 38,
    "start_time": "2022-09-19T14:04:14.271Z"
   },
   {
    "duration": 12,
    "start_time": "2022-09-19T14:04:14.311Z"
   },
   {
    "duration": 12,
    "start_time": "2022-09-19T14:04:14.326Z"
   },
   {
    "duration": 11,
    "start_time": "2022-09-19T14:04:14.339Z"
   },
   {
    "duration": 51,
    "start_time": "2022-09-19T14:04:14.351Z"
   },
   {
    "duration": 15,
    "start_time": "2022-09-19T14:04:14.403Z"
   }
  ],
  "kernelspec": {
   "display_name": "Python 3 (ipykernel)",
   "language": "python",
   "name": "python3"
  },
  "language_info": {
   "codemirror_mode": {
    "name": "ipython",
    "version": 3
   },
   "file_extension": ".py",
   "mimetype": "text/x-python",
   "name": "python",
   "nbconvert_exporter": "python",
   "pygments_lexer": "ipython3",
   "version": "3.9.5"
  },
  "toc": {
   "base_numbering": 1,
   "nav_menu": {},
   "number_sections": true,
   "sideBar": true,
   "skip_h1_title": true,
   "title_cell": "Table of Contents",
   "title_sidebar": "Contents",
   "toc_cell": false,
   "toc_position": {},
   "toc_section_display": true,
   "toc_window_display": false
  }
 },
 "nbformat": 4,
 "nbformat_minor": 2
}
